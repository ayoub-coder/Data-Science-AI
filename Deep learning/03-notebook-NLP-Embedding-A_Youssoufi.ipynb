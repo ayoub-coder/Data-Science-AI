{
 "cells": [
  {
   "cell_type": "markdown",
   "metadata": {
    "id": "7Zc0WsSkoWK0"
   },
   "source": [
    "# Your favorite word embedding\n",
    "\n",
    "<font color='red'>\n",
    "    <br>\n",
    "Put in the cells below your favorite \"vectorized word embedding\" and submit your notebook in the lms (word embedding section before midnight Thursday the 3rd).\n",
    "</font>"
   ]
  },
  {
   "cell_type": "code",
   "execution_count": 1,
   "metadata": {
    "ExecuteTime": {
     "end_time": "2022-01-31T09:00:33.170371Z",
     "start_time": "2022-01-31T09:00:33.158926Z"
    }
   },
   "outputs": [
    {
     "data": {
      "text/html": [
       "<div id=\"my_id_menu_nb\">run previous cell, wait for 2 seconds</div>\n",
       "<script>\n",
       "function repeat_indent_string(n){\n",
       "    var a = \"\" ;\n",
       "    for ( ; n > 0 ; --n)\n",
       "        a += \"    \";\n",
       "    return a;\n",
       "}\n",
       "// look up into all sections and builds an automated menu //\n",
       "var update_menu_string = function(begin, lfirst, llast, sformat, send, keep_item, begin_format, end_format) {\n",
       "    var anchors = document.getElementsByClassName(\"section\");\n",
       "    if (anchors.length == 0) {\n",
       "        anchors = document.getElementsByClassName(\"text_cell_render rendered_html\");\n",
       "    }\n",
       "    var i,t;\n",
       "    var text_menu = begin;\n",
       "    var text_memo = \"<pre>\\nlength:\" + anchors.length + \"\\n\";\n",
       "    var ind = \"\";\n",
       "    var memo_level = 1;\n",
       "    var href;\n",
       "    var tags = [];\n",
       "    var main_item = 0;\n",
       "    var format_open = 0;\n",
       "    for (i = 0; i <= llast; i++)\n",
       "        tags.push(\"h\" + i);\n",
       "\n",
       "    for (i = 0; i < anchors.length; i++) {\n",
       "        text_memo += \"**\" + anchors[i].id + \"--\\n\";\n",
       "\n",
       "        var child = null;\n",
       "        for(t = 0; t < tags.length; t++) {\n",
       "            var r = anchors[i].getElementsByTagName(tags[t]);\n",
       "            if (r.length > 0) {\n",
       "child = r[0];\n",
       "break;\n",
       "            }\n",
       "        }\n",
       "        if (child == null) {\n",
       "            text_memo += \"null\\n\";\n",
       "            continue;\n",
       "        }\n",
       "        if (anchors[i].hasAttribute(\"id\")) {\n",
       "            // when converted in RST\n",
       "            href = anchors[i].id;\n",
       "            text_memo += \"#1-\" + href;\n",
       "            // passer à child suivant (le chercher)\n",
       "        }\n",
       "        else if (child.hasAttribute(\"id\")) {\n",
       "            // in a notebook\n",
       "            href = child.id;\n",
       "            text_memo += \"#2-\" + href;\n",
       "        }\n",
       "        else {\n",
       "            text_memo += \"#3-\" + \"*\" + \"\\n\";\n",
       "            continue;\n",
       "        }\n",
       "        var title = child.textContent;\n",
       "        var level = parseInt(child.tagName.substring(1,2));\n",
       "\n",
       "        text_memo += \"--\" + level + \"?\" + lfirst + \"--\" + title + \"\\n\";\n",
       "\n",
       "        if ((level < lfirst) || (level > llast)) {\n",
       "            continue ;\n",
       "        }\n",
       "        if (title.endsWith('¶')) {\n",
       "            title = title.substring(0,title.length-1).replace(\"<\", \"&lt;\")\n",
       "         .replace(\">\", \"&gt;\").replace(\"&\", \"&amp;\");\n",
       "        }\n",
       "        if (title.length == 0) {\n",
       "            continue;\n",
       "        }\n",
       "\n",
       "        while (level < memo_level) {\n",
       "            text_menu += end_format + \"</ul>\\n\";\n",
       "            format_open -= 1;\n",
       "            memo_level -= 1;\n",
       "        }\n",
       "        if (level == lfirst) {\n",
       "            main_item += 1;\n",
       "        }\n",
       "        if (keep_item != -1 && main_item != keep_item + 1) {\n",
       "            // alert(main_item + \" - \" + level + \" - \" + keep_item);\n",
       "            continue;\n",
       "        }\n",
       "        while (level > memo_level) {\n",
       "            text_menu += \"<ul>\\n\";\n",
       "            memo_level += 1;\n",
       "        }\n",
       "        text_menu += repeat_indent_string(level-2);\n",
       "        text_menu += begin_format + sformat.replace(\"__HREF__\", href).replace(\"__TITLE__\", title);\n",
       "        format_open += 1;\n",
       "    }\n",
       "    while (1 < memo_level) {\n",
       "        text_menu += end_format + \"</ul>\\n\";\n",
       "        memo_level -= 1;\n",
       "        format_open -= 1;\n",
       "    }\n",
       "    text_menu += send;\n",
       "    //text_menu += \"\\n\" + text_memo;\n",
       "\n",
       "    while (format_open > 0) {\n",
       "        text_menu += end_format;\n",
       "        format_open -= 1;\n",
       "    }\n",
       "    return text_menu;\n",
       "};\n",
       "var update_menu = function() {\n",
       "    var sbegin = \"\";\n",
       "    var sformat = '<a href=\"#__HREF__\">__TITLE__</a>';\n",
       "    var send = \"\";\n",
       "    var begin_format = '<li>';\n",
       "    var end_format = '</li>';\n",
       "    var keep_item = -1;\n",
       "    var text_menu = update_menu_string(sbegin, 2, 4, sformat, send, keep_item,\n",
       "       begin_format, end_format);\n",
       "    var menu = document.getElementById(\"my_id_menu_nb\");\n",
       "    menu.innerHTML=text_menu;\n",
       "};\n",
       "window.setTimeout(update_menu,2000);\n",
       "            </script>"
      ],
      "text/plain": [
       "<IPython.core.display.HTML object>"
      ]
     },
     "execution_count": 1,
     "metadata": {},
     "output_type": "execute_result"
    }
   ],
   "source": [
    "\"\"\"\n",
    "(Practical tip) Table of contents can be compiled directly in jupyter notebooks using the following code:\n",
    "I set an exception: if the package is in your installation you can import it otherwise you download it \n",
    "then import it.\n",
    "\"\"\"\n",
    "try:\n",
    "    from jyquickhelper import add_notebook_menu \n",
    "except:\n",
    "    !pip install jyquickhelper\n",
    "    from jyquickhelper import add_notebook_menu\n",
    "    \n",
    "\"\"\"\n",
    "Output Table of contents to navigate easily in the notebook. \n",
    "For interested readers, the package also includes Ipython magic commands to go back to this cell\n",
    "wherever you are in the notebook to look for cells faster\n",
    "\"\"\"\n",
    "add_notebook_menu()"
   ]
  },
  {
   "cell_type": "markdown",
   "metadata": {
    "id": "lLrXoRQ5oUqI"
   },
   "source": [
    "## Imports"
   ]
  },
  {
   "cell_type": "code",
   "execution_count": 2,
   "metadata": {
    "ExecuteTime": {
     "end_time": "2022-01-31T09:00:33.236963Z",
     "start_time": "2022-01-31T09:00:33.235208Z"
    }
   },
   "outputs": [],
   "source": [
    "import ssl\n",
    "\n",
    "ssl._create_default_https_context = ssl._create_unverified_context"
   ]
  },
  {
   "cell_type": "code",
   "execution_count": 3,
   "metadata": {
    "ExecuteTime": {
     "end_time": "2022-01-31T09:00:33.283562Z",
     "start_time": "2022-01-31T09:00:33.281676Z"
    },
    "id": "uMZhHXxzoUqJ"
   },
   "outputs": [],
   "source": [
    "import os\n",
    "import pandas as pd\n",
    "import numpy as np"
   ]
  },
  {
   "cell_type": "code",
   "execution_count": 4,
   "metadata": {
    "ExecuteTime": {
     "end_time": "2022-01-31T09:00:33.420250Z",
     "start_time": "2022-01-31T09:00:33.329880Z"
    }
   },
   "outputs": [],
   "source": [
    "from sklearn.preprocessing import OneHotEncoder"
   ]
  },
  {
   "cell_type": "code",
   "execution_count": 5,
   "metadata": {
    "ExecuteTime": {
     "end_time": "2022-01-31T09:00:41.721923Z",
     "start_time": "2022-01-31T09:00:33.423016Z"
    }
   },
   "outputs": [
    {
     "name": "stdout",
     "output_type": "stream",
     "text": [
      "Requirement already satisfied: tensorflow-addons in c:\\users\\polytech\\anaconda3\\lib\\site-packages (0.15.0)\n",
      "Requirement already satisfied: typeguard>=2.7 in c:\\users\\polytech\\anaconda3\\lib\\site-packages (from tensorflow-addons) (2.13.3)\n"
     ]
    }
   ],
   "source": [
    "import tensorflow as tf\n",
    "from tensorflow.keras.preprocessing.text import Tokenizer\n",
    "from tensorflow.keras.models import Model\n",
    "from keras.layers import Input, TextVectorization, Dense, Dropout, Flatten, Embedding\n",
    "\n",
    "!pip install tensorflow-addons\n",
    "\n",
    "import tensorflow_addons as tfa\n",
    "from tensorflow_addons.metrics import F1Score"
   ]
  },
  {
   "cell_type": "code",
   "execution_count": 6,
   "metadata": {
    "ExecuteTime": {
     "end_time": "2022-01-31T09:00:45.210765Z",
     "start_time": "2022-01-31T09:00:41.724114Z"
    }
   },
   "outputs": [
    {
     "name": "stdout",
     "output_type": "stream",
     "text": [
      "Requirement already satisfied: gensim in c:\\users\\polytech\\anaconda3\\lib\\site-packages (4.1.2)\n",
      "Requirement already satisfied: smart-open>=1.8.1 in c:\\users\\polytech\\anaconda3\\lib\\site-packages (from gensim) (5.2.1)\n",
      "Requirement already satisfied: Cython==0.29.23 in c:\\users\\polytech\\anaconda3\\lib\\site-packages (from gensim) (0.29.23)\n",
      "Requirement already satisfied: scipy>=0.18.1 in c:\\users\\polytech\\anaconda3\\lib\\site-packages (from gensim) (1.5.2)\n",
      "Requirement already satisfied: numpy>=1.17.0 in c:\\users\\polytech\\anaconda3\\lib\\site-packages (from gensim) (1.19.2)\n"
     ]
    }
   ],
   "source": [
    "!pip install gensim\n",
    "from gensim.test.utils import datapath\n",
    "from gensim import utils\n",
    "import gensim.models"
   ]
  },
  {
   "cell_type": "markdown",
   "metadata": {},
   "source": [
    "## Dataset"
   ]
  },
  {
   "cell_type": "code",
   "execution_count": 7,
   "metadata": {
    "ExecuteTime": {
     "end_time": "2022-01-31T09:00:45.829326Z",
     "start_time": "2022-01-31T09:00:45.214136Z"
    },
    "colab": {
     "base_uri": "https://localhost:8080/",
     "height": 204
    },
    "id": "gIXGN8IzoUqJ",
    "outputId": "f9cbed6e-5c8c-45cb-e083-4a9194f12157"
   },
   "outputs": [],
   "source": [
    "TRAIN = pd.read_csv(\"http://www.i3s.unice.fr/~riveill/dataset/Amazon_Unlocked_Mobile/train.csv.gz\")\n",
    "VAL = pd.read_csv(\"http://www.i3s.unice.fr/~riveill/dataset/Amazon_Unlocked_Mobile/train.csv.gz\")\n",
    "TEST = pd.read_csv(\"http://www.i3s.unice.fr/~riveill/dataset/Amazon_Unlocked_Mobile/test.csv.gz\")"
   ]
  },
  {
   "cell_type": "code",
   "execution_count": 8,
   "metadata": {
    "ExecuteTime": {
     "end_time": "2022-01-31T09:00:45.848611Z",
     "start_time": "2022-01-31T09:00:45.831781Z"
    },
    "colab": {
     "base_uri": "https://localhost:8080/"
    },
    "id": "WdeAXW40oUqJ",
    "outputId": "d99ac22b-c7e5-4c4a-f817-d8e25ff2a28c"
   },
   "outputs": [
    {
     "data": {
      "text/plain": [
       "((5000,), (5000, 5), array([1, 2, 3, 4, 5], dtype=int64))"
      ]
     },
     "execution_count": 8,
     "metadata": {},
     "output_type": "execute_result"
    }
   ],
   "source": [
    "''' Construct X_train and y_train '''\n",
    "X_train = TRAIN['Reviews']\n",
    "y_train = np.array(TRAIN['Rating']).reshape(-1,1)\n",
    "\n",
    "X_val = VAL['Reviews']\n",
    "y_val = np.array(VAL['Rating']).reshape(-1,1)\n",
    "\n",
    "X_test = TEST['Reviews']\n",
    "y_test = np.array(TEST['Rating']).reshape(-1,1)\n",
    "\n",
    "\n",
    "ohe = OneHotEncoder(sparse=False, handle_unknown='ignore')\n",
    "y_train_enc = ohe.fit_transform(y_train)\n",
    "y_val_enc = ohe.fit_transform(y_val)\n",
    "y_test_enc = ohe.fit_transform(y_test)\n",
    "\n",
    "X_train.shape, y_train_enc.shape, np.unique(y_train)"
   ]
  },
  {
   "cell_type": "markdown",
   "metadata": {
    "id": "N4BohkzOoUqO"
   },
   "source": [
    "## Word embedding and MLP classifier"
   ]
  },
  {
   "cell_type": "markdown",
   "metadata": {},
   "source": [
    "### Constant definition\n",
    "\n",
    "\n",
    "<font color='red'>\n",
    "Use these constant names, you can of course change the value.\n",
    "</font>"
   ]
  },
  {
   "cell_type": "code",
   "execution_count": 9,
   "metadata": {
    "ExecuteTime": {
     "end_time": "2022-01-31T09:00:45.855322Z",
     "start_time": "2022-01-31T09:00:45.851592Z"
    }
   },
   "outputs": [],
   "source": [
    "vocab_size = 100 # Vocab size\n",
    "max_len = 100   # Sequence length to pad the outputs to.\n",
    "embed_dim = 50 # embedding dimension\n",
    "dense_dim = 128 # dense dimension\n",
    "dropout_rate = 0.5 # Dropout rate\n",
    "nb_classes = len(np.unique(y_train))"
   ]
  },
  {
   "cell_type": "markdown",
   "metadata": {},
   "source": [
    "### Define Embedding Layer"
   ]
  },
  {
   "cell_type": "markdown",
   "metadata": {},
   "source": [
    "<font color='red'>\n",
    "$TO DO - Students$\n",
    "\n",
    "* Define your embedding matrix or your vectorizer layer\n",
    "    * --> if you choose Keras embedding -- vectorizer layr\n",
    "    * --> if you choose Word2Vec, Glove or FastTex -- embedding matrix\n",
    "    * --> if you choose gensim -- build you gensim model and then the embedding matrix\n",
    "</font>"
   ]
  },
  {
   "cell_type": "code",
   "execution_count": 10,
   "metadata": {
    "ExecuteTime": {
     "end_time": "2022-01-31T09:00:46.173577Z",
     "start_time": "2022-01-31T09:00:45.859365Z"
    }
   },
   "outputs": [],
   "source": [
    "\"\"\" FILL \"\"\"\n",
    "from keras.layers import Input, TextVectorization, Dense, Flatten, Embedding\n",
    "# Your code\n",
    "vectorizer_layer = TextVectorization(max_tokens=max_len, output_sequence_length=max_len)\n",
    "vectorizer_layer.adapt(X_train)\n",
    "X_train_vec= vectorizer_layer(X_train)\n",
    "X_test_vec = vectorizer_layer(X_test)\n",
    "X_val_vec=vectorizer_layer(X_val)"
   ]
  },
  {
   "cell_type": "markdown",
   "metadata": {},
   "source": [
    "### Build, fit and evaluate the network"
   ]
  },
  {
   "cell_type": "markdown",
   "metadata": {},
   "source": [
    "<font color='red'>\n",
    "$TO DO - Students$\n",
    "\n",
    "Using your previous layer build a very simple MLP with:\n",
    "* one hidden layer Dense + Dropout cells\n",
    "    \n",
    "print the summary of your model\n",
    "</font>"
   ]
  },
  {
   "cell_type": "markdown",
   "metadata": {},
   "source": [
    "### Using glove & embedding layers"
   ]
  },
  {
   "cell_type": "code",
   "execution_count": 11,
   "metadata": {},
   "outputs": [],
   "source": [
    "# Build word dict\n",
    "voc = vectorizer_layer.get_vocabulary()\n",
    "word_index = dict(zip(voc, range(len(voc))))\n",
    "# word_index"
   ]
  },
  {
   "cell_type": "code",
   "execution_count": 12,
   "metadata": {},
   "outputs": [
    {
     "name": "stdout",
     "output_type": "stream",
     "text": [
      "Found 400000 word vectors.\n"
     ]
    }
   ],
   "source": [
    "# Make a dict mapping words (strings) to their NumPy vector representation:\n",
    "path_to_glove_file = \"glove.6B.50d.txt\"\n",
    "\n",
    "embeddings_index = {}\n",
    "with open(path_to_glove_file,encoding=\"utf8\") as f:\n",
    "    for line in f:\n",
    "        word, coefs = line.split(maxsplit=1)\n",
    "        coefs = np.fromstring(coefs, \"f\", sep=\" \")\n",
    "        embeddings_index[word] = coefs\n",
    "\n",
    "print(\"Found %s word vectors.\" % len(embeddings_index))"
   ]
  },
  {
   "cell_type": "code",
   "execution_count": 13,
   "metadata": {},
   "outputs": [
    {
     "name": "stdout",
     "output_type": "stream",
     "text": [
      " 0\n",
      "[UNK] 1\n",
      "the 2\n",
      "i 3\n",
      "it 4\n",
      "and 5\n",
      "phone 6\n",
      "a 7\n",
      "to 8\n",
      "is 9\n",
      "this 10\n",
      "for 11\n",
      "of 12\n",
      "with 13\n",
      "my 14\n",
      "not 15\n",
      "in 16\n",
      "was 17\n",
      "that 18\n",
      "but 19\n",
      "on 20\n",
      "have 21\n",
      "you 22\n",
      "great 23\n",
      "good 24\n",
      "as 25\n",
      "very 26\n",
      "so 27\n",
      "its 28\n",
      "had 29\n",
      "one 30\n",
      "be 31\n",
      "like 32\n",
      "no 33\n",
      "all 34\n",
      "or 35\n",
      "me 36\n",
      "if 37\n",
      "just 38\n",
      "battery 39\n",
      "use 40\n",
      "has 41\n",
      "screen 42\n",
      "are 43\n",
      "an 44\n",
      "would 45\n",
      "only 46\n",
      "from 47\n",
      "at 48\n",
      "works 49\n",
      "when 50\n",
      "can 51\n",
      "love 52\n",
      "will 53\n",
      "get 54\n",
      "new 55\n",
      "they 56\n",
      "work 57\n",
      "up 58\n",
      "really 59\n",
      "time 60\n",
      "than 61\n",
      "phones 62\n",
      "dont 63\n",
      "price 64\n",
      "product 65\n",
      "out 66\n",
      "camera 67\n",
      "im 68\n",
      "am 69\n",
      "about 70\n",
      "because 71\n",
      "buy 72\n",
      "well 73\n",
      "do 74\n",
      "after 75\n",
      "bought 76\n",
      "sim 77\n",
      "card 78\n",
      "got 79\n",
      "even 80\n",
      "more 81\n",
      "also 82\n",
      "what 83\n",
      "other 84\n",
      "there 85\n",
      "which 86\n",
      "back 87\n",
      "now 88\n",
      "your 89\n",
      "iphone 90\n",
      "does 91\n",
      "any 92\n",
      "some 93\n",
      "used 94\n",
      "nice 95\n",
      "excellent 96\n",
      "fast 97\n",
      "did 98\n",
      "better 99\n",
      "Converted 98 words (2 misses)\n"
     ]
    }
   ],
   "source": [
    "# num_tokens = len(voc) + 2\n",
    "# embedding_dim = 50\n",
    "hits = 0\n",
    "misses = 0\n",
    "\n",
    "# Prepare embedding matrix\n",
    "embedding_matrix = np.zeros((max_len, embed_dim))\n",
    "for word, i in word_index.items():\n",
    "    print(word, i)\n",
    "    embedding_vector = embeddings_index.get(word)\n",
    "    if embedding_vector is not None:\n",
    "        # Words not found in embedding index will be all-zeros.\n",
    "        # This includes the representation for \"padding\" and \"OOV\"\n",
    "        embedding_matrix[i] = embedding_vector\n",
    "        hits += 1\n",
    "    else:\n",
    "        misses += 1\n",
    "print(\"Converted %d words (%d misses)\" % (hits, misses))"
   ]
  },
  {
   "cell_type": "code",
   "execution_count": 14,
   "metadata": {},
   "outputs": [],
   "source": [
    "embedding_layer = Embedding(\n",
    "    max_len,\n",
    "    embed_dim,\n",
    "    embeddings_initializer=tf.keras.initializers.Constant(embedding_matrix),\n",
    "    trainable=False,\n",
    ")"
   ]
  },
  {
   "cell_type": "code",
   "execution_count": 16,
   "metadata": {
    "ExecuteTime": {
     "end_time": "2022-01-31T09:01:29.345720Z",
     "start_time": "2022-01-31T09:01:29.277101Z"
    },
    "colab": {
     "base_uri": "https://localhost:8080/"
    },
    "id": "B4BPv2OGoUqO",
    "outputId": "4cbf391a-81b9-447d-a0af-d6b469f85e2b"
   },
   "outputs": [
    {
     "name": "stdout",
     "output_type": "stream",
     "text": [
      "Model: \"model\"\n",
      "_________________________________________________________________\n",
      "Layer (type)                 Output Shape              Param #   \n",
      "=================================================================\n",
      "input_2 (InputLayer)         [(None, 100)]             0         \n",
      "_________________________________________________________________\n",
      "embedding (Embedding)        (None, 100, 50)           5000      \n",
      "_________________________________________________________________\n",
      "flatten_1 (Flatten)          (None, 5000)              0         \n",
      "_________________________________________________________________\n",
      "dropout (Dropout)            (None, 5000)              0         \n",
      "_________________________________________________________________\n",
      "dense (Dense)                (None, 5)                 25005     \n",
      "=================================================================\n",
      "Total params: 30,005\n",
      "Trainable params: 25,005\n",
      "Non-trainable params: 5,000\n",
      "_________________________________________________________________\n"
     ]
    }
   ],
   "source": [
    "# define the model\n",
    "\"\"\" FILL \"\"\"\n",
    "# define the model\n",
    "input_ = Input(shape=(max_len,), dtype=tf.int32)\n",
    "x = embedding_layer(input_)\n",
    "x = Flatten()(x)\n",
    "x = Dropout(rate=0.2)(x) #randomly select nodes to be dropped-out with given probability 0.2\n",
    "output_ = Dense(5, activation='sigmoid')(x)\n",
    "model = Model(input_, output_)\n",
    "# summarize the model\n",
    "model.summary()\n"
   ]
  },
  {
   "cell_type": "markdown",
   "metadata": {},
   "source": [
    "<font color='Blue'>\n",
    "* Compile the model with F1 score.\n",
    "</font>"
   ]
  },
  {
   "cell_type": "code",
   "execution_count": 17,
   "metadata": {
    "ExecuteTime": {
     "end_time": "2022-01-31T09:01:31.099734Z",
     "start_time": "2022-01-31T09:01:31.086827Z"
    },
    "colab": {
     "base_uri": "https://localhost:8080/"
    },
    "id": "C7oN2bZkoUqP",
    "outputId": "8d7d5b26-b925-4e79-ad97-7aecd8980243"
   },
   "outputs": [],
   "source": [
    "# compile the model\n",
    "f1 = F1Score(num_classes=nb_classes, average=\"macro\", threshold=0.5)\n",
    "model.compile(optimizer='adam', loss='categorical_crossentropy', metrics=[f1])"
   ]
  },
  {
   "cell_type": "markdown",
   "metadata": {},
   "source": [
    "<font color='blue'>\n",
    "* Fit the modele using early stopping on f1_score\n",
    "</font>"
   ]
  },
  {
   "cell_type": "code",
   "execution_count": 18,
   "metadata": {
    "ExecuteTime": {
     "start_time": "2022-01-31T09:01:31.432Z"
    },
    "colab": {
     "base_uri": "https://localhost:8080/",
     "height": 295
    },
    "id": "ZJjc2ISZoUqP",
    "outputId": "4585f6aa-bda8-4d82-885f-cece12094694"
   },
   "outputs": [
    {
     "name": "stdout",
     "output_type": "stream",
     "text": [
      "Epoch 1/4000\n",
      "157/157 [==============================] - 4s 13ms/step - loss: 1.3869 - f1_score: 0.2459 - val_loss: 1.1351 - val_f1_score: 0.3049\n",
      "Epoch 2/4000\n",
      "157/157 [==============================] - 2s 10ms/step - loss: 1.1421 - f1_score: 0.3454 - val_loss: 1.0051 - val_f1_score: 0.4056\n",
      "Epoch 3/4000\n",
      "157/157 [==============================] - 2s 11ms/step - loss: 1.0354 - f1_score: 0.4236 - val_loss: 0.9168 - val_f1_score: 0.5276\n",
      "Epoch 4/4000\n",
      "157/157 [==============================] - 1s 8ms/step - loss: 0.9666 - f1_score: 0.4802 - val_loss: 0.8776 - val_f1_score: 0.5779\n",
      "Epoch 5/4000\n",
      "157/157 [==============================] - 1s 8ms/step - loss: 0.9146 - f1_score: 0.5179 - val_loss: 0.8176 - val_f1_score: 0.6010\n",
      "Epoch 6/4000\n",
      "157/157 [==============================] - 1s 8ms/step - loss: 0.8683 - f1_score: 0.5373 - val_loss: 0.7935 - val_f1_score: 0.5712\n",
      "Epoch 7/4000\n",
      "157/157 [==============================] - 1s 8ms/step - loss: 0.8359 - f1_score: 0.5687 - val_loss: 0.7587 - val_f1_score: 0.6188\n",
      "Epoch 8/4000\n",
      "157/157 [==============================] - 1s 7ms/step - loss: 0.8162 - f1_score: 0.5735 - val_loss: 0.7381 - val_f1_score: 0.6487\n",
      "Epoch 9/4000\n",
      "157/157 [==============================] - 1s 6ms/step - loss: 0.7901 - f1_score: 0.5870 - val_loss: 0.7162 - val_f1_score: 0.6470\n",
      "Epoch 10/4000\n",
      "157/157 [==============================] - 1s 5ms/step - loss: 0.7718 - f1_score: 0.6000 - val_loss: 0.6914 - val_f1_score: 0.6664\n",
      "Epoch 11/4000\n",
      "157/157 [==============================] - 1s 5ms/step - loss: 0.7585 - f1_score: 0.6199 - val_loss: 0.6760 - val_f1_score: 0.6713\n",
      "Epoch 12/4000\n",
      "157/157 [==============================] - 1s 5ms/step - loss: 0.7385 - f1_score: 0.6184 - val_loss: 0.6640 - val_f1_score: 0.6803\n",
      "Epoch 13/4000\n",
      "157/157 [==============================] - 1s 5ms/step - loss: 0.7304 - f1_score: 0.6182 - val_loss: 0.6635 - val_f1_score: 0.6565\n",
      "Epoch 14/4000\n",
      "157/157 [==============================] - 1s 6ms/step - loss: 0.7145 - f1_score: 0.6233 - val_loss: 0.6400 - val_f1_score: 0.6844\n",
      "Epoch 15/4000\n",
      "157/157 [==============================] - 1s 6ms/step - loss: 0.7004 - f1_score: 0.6364 - val_loss: 0.6266 - val_f1_score: 0.6957\n",
      "Epoch 16/4000\n",
      "157/157 [==============================] - 1s 5ms/step - loss: 0.6885 - f1_score: 0.6380 - val_loss: 0.6199 - val_f1_score: 0.6953\n",
      "Epoch 17/4000\n",
      "157/157 [==============================] - 1s 5ms/step - loss: 0.6783 - f1_score: 0.6446 - val_loss: 0.6074 - val_f1_score: 0.7000\n",
      "Epoch 18/4000\n",
      "157/157 [==============================] - 1s 5ms/step - loss: 0.6710 - f1_score: 0.6467 - val_loss: 0.6080 - val_f1_score: 0.6929\n",
      "Epoch 19/4000\n",
      "157/157 [==============================] - 1s 5ms/step - loss: 0.6694 - f1_score: 0.6449 - val_loss: 0.5946 - val_f1_score: 0.7048\n",
      "Epoch 20/4000\n",
      "157/157 [==============================] - 1s 5ms/step - loss: 0.6671 - f1_score: 0.6445 - val_loss: 0.5869 - val_f1_score: 0.7000\n",
      "Epoch 21/4000\n",
      "157/157 [==============================] - 1s 6ms/step - loss: 0.6559 - f1_score: 0.6554 - val_loss: 0.5766 - val_f1_score: 0.7057\n",
      "Epoch 22/4000\n",
      "157/157 [==============================] - 1s 5ms/step - loss: 0.6535 - f1_score: 0.6514 - val_loss: 0.5685 - val_f1_score: 0.7118\n",
      "Epoch 23/4000\n",
      "157/157 [==============================] - 1s 5ms/step - loss: 0.6350 - f1_score: 0.6664 - val_loss: 0.5746 - val_f1_score: 0.7054\n",
      "Epoch 24/4000\n",
      "157/157 [==============================] - 1s 5ms/step - loss: 0.6394 - f1_score: 0.6534 - val_loss: 0.5587 - val_f1_score: 0.7096\n",
      "Epoch 25/4000\n",
      "157/157 [==============================] - 1s 5ms/step - loss: 0.6343 - f1_score: 0.6557 - val_loss: 0.5582 - val_f1_score: 0.7132\n",
      "Epoch 26/4000\n",
      "157/157 [==============================] - 1s 5ms/step - loss: 0.6298 - f1_score: 0.6642 - val_loss: 0.5515 - val_f1_score: 0.7129\n",
      "Epoch 27/4000\n",
      "157/157 [==============================] - 1s 5ms/step - loss: 0.6200 - f1_score: 0.6585 - val_loss: 0.5436 - val_f1_score: 0.7178\n",
      "Epoch 28/4000\n",
      "157/157 [==============================] - 1s 5ms/step - loss: 0.6236 - f1_score: 0.6636 - val_loss: 0.5400 - val_f1_score: 0.7158\n",
      "Epoch 29/4000\n",
      "157/157 [==============================] - 1s 6ms/step - loss: 0.6114 - f1_score: 0.6592 - val_loss: 0.5358 - val_f1_score: 0.7200\n",
      "Epoch 30/4000\n",
      "157/157 [==============================] - 1s 5ms/step - loss: 0.6140 - f1_score: 0.6632 - val_loss: 0.5358 - val_f1_score: 0.7125\n",
      "Epoch 31/4000\n",
      "157/157 [==============================] - 1s 6ms/step - loss: 0.6104 - f1_score: 0.6679 - val_loss: 0.5292 - val_f1_score: 0.7203\n",
      "Epoch 32/4000\n",
      "157/157 [==============================] - 1s 5ms/step - loss: 0.6154 - f1_score: 0.6592 - val_loss: 0.5253 - val_f1_score: 0.7222\n",
      "Epoch 33/4000\n",
      "157/157 [==============================] - 1s 6ms/step - loss: 0.6010 - f1_score: 0.6711 - val_loss: 0.5242 - val_f1_score: 0.7273\n",
      "Epoch 34/4000\n",
      "157/157 [==============================] - 1s 5ms/step - loss: 0.5997 - f1_score: 0.6681 - val_loss: 0.5213 - val_f1_score: 0.7251\n",
      "Epoch 35/4000\n",
      "157/157 [==============================] - 1s 5ms/step - loss: 0.5862 - f1_score: 0.6766 - val_loss: 0.5192 - val_f1_score: 0.7175\n",
      "Epoch 36/4000\n",
      "157/157 [==============================] - 1s 5ms/step - loss: 0.5905 - f1_score: 0.6735 - val_loss: 0.5150 - val_f1_score: 0.7262\n",
      "Epoch 37/4000\n",
      "157/157 [==============================] - 1s 6ms/step - loss: 0.5891 - f1_score: 0.6733 - val_loss: 0.5124 - val_f1_score: 0.7271\n",
      "Epoch 38/4000\n",
      "157/157 [==============================] - 1s 6ms/step - loss: 0.5975 - f1_score: 0.6648 - val_loss: 0.5047 - val_f1_score: 0.7313\n",
      "Epoch 39/4000\n",
      "157/157 [==============================] - 1s 5ms/step - loss: 0.5841 - f1_score: 0.6685 - val_loss: 0.5029 - val_f1_score: 0.7267\n",
      "Epoch 40/4000\n",
      "157/157 [==============================] - 1s 5ms/step - loss: 0.5832 - f1_score: 0.6687 - val_loss: 0.5015 - val_f1_score: 0.7284\n",
      "Epoch 41/4000\n",
      "157/157 [==============================] - 1s 5ms/step - loss: 0.5785 - f1_score: 0.6747 - val_loss: 0.5000 - val_f1_score: 0.7271\n",
      "Epoch 42/4000\n",
      "157/157 [==============================] - 1s 5ms/step - loss: 0.5798 - f1_score: 0.6721 - val_loss: 0.4972 - val_f1_score: 0.7268\n",
      "Epoch 43/4000\n",
      "157/157 [==============================] - 1s 5ms/step - loss: 0.5831 - f1_score: 0.6712 - val_loss: 0.4939 - val_f1_score: 0.7340\n",
      "Epoch 44/4000\n",
      "157/157 [==============================] - 1s 5ms/step - loss: 0.5712 - f1_score: 0.6739 - val_loss: 0.4943 - val_f1_score: 0.7364\n",
      "Epoch 45/4000\n",
      "157/157 [==============================] - 1s 4ms/step - loss: 0.5753 - f1_score: 0.6719 - val_loss: 0.5023 - val_f1_score: 0.7319\n",
      "Epoch 46/4000\n",
      "157/157 [==============================] - 1s 5ms/step - loss: 0.5749 - f1_score: 0.6802 - val_loss: 0.4866 - val_f1_score: 0.7327\n",
      "Epoch 47/4000\n",
      "157/157 [==============================] - 1s 5ms/step - loss: 0.5715 - f1_score: 0.6689 - val_loss: 0.4857 - val_f1_score: 0.7341\n",
      "Epoch 48/4000\n",
      "157/157 [==============================] - 1s 5ms/step - loss: 0.5762 - f1_score: 0.6788 - val_loss: 0.4830 - val_f1_score: 0.7334\n",
      "Epoch 49/4000\n",
      "157/157 [==============================] - 1s 5ms/step - loss: 0.5746 - f1_score: 0.6704 - val_loss: 0.4817 - val_f1_score: 0.7391\n",
      "Epoch 50/4000\n",
      "157/157 [==============================] - 1s 5ms/step - loss: 0.5731 - f1_score: 0.6750 - val_loss: 0.4811 - val_f1_score: 0.7401\n",
      "Epoch 51/4000\n",
      "157/157 [==============================] - 1s 6ms/step - loss: 0.5682 - f1_score: 0.6778 - val_loss: 0.4811 - val_f1_score: 0.7423\n",
      "Epoch 52/4000\n",
      "157/157 [==============================] - 1s 5ms/step - loss: 0.5640 - f1_score: 0.6786 - val_loss: 0.4755 - val_f1_score: 0.7303\n",
      "Epoch 53/4000\n",
      "157/157 [==============================] - 1s 5ms/step - loss: 0.5612 - f1_score: 0.6701 - val_loss: 0.4745 - val_f1_score: 0.7431\n",
      "Epoch 54/4000\n",
      "157/157 [==============================] - 1s 5ms/step - loss: 0.5541 - f1_score: 0.6795 - val_loss: 0.4736 - val_f1_score: 0.7414\n",
      "Epoch 55/4000\n",
      "157/157 [==============================] - 1s 6ms/step - loss: 0.5514 - f1_score: 0.6772 - val_loss: 0.4705 - val_f1_score: 0.7425\n",
      "Epoch 56/4000\n",
      "157/157 [==============================] - 1s 5ms/step - loss: 0.5624 - f1_score: 0.6821 - val_loss: 0.4699 - val_f1_score: 0.7364\n",
      "Epoch 57/4000\n",
      "157/157 [==============================] - 1s 5ms/step - loss: 0.5528 - f1_score: 0.6834 - val_loss: 0.4719 - val_f1_score: 0.7442\n",
      "Epoch 58/4000\n",
      "157/157 [==============================] - 1s 5ms/step - loss: 0.5547 - f1_score: 0.6797 - val_loss: 0.4661 - val_f1_score: 0.7443\n",
      "Epoch 59/4000\n",
      "157/157 [==============================] - 1s 5ms/step - loss: 0.5541 - f1_score: 0.6832 - val_loss: 0.4630 - val_f1_score: 0.7416\n",
      "Epoch 60/4000\n",
      "157/157 [==============================] - 1s 5ms/step - loss: 0.5612 - f1_score: 0.6685 - val_loss: 0.4689 - val_f1_score: 0.7449\n",
      "Epoch 61/4000\n",
      "157/157 [==============================] - 1s 5ms/step - loss: 0.5598 - f1_score: 0.6689 - val_loss: 0.4652 - val_f1_score: 0.7346\n",
      "Epoch 62/4000\n",
      "157/157 [==============================] - 1s 5ms/step - loss: 0.5588 - f1_score: 0.6821 - val_loss: 0.4633 - val_f1_score: 0.7443\n",
      "Epoch 63/4000\n",
      "157/157 [==============================] - 1s 5ms/step - loss: 0.5540 - f1_score: 0.6763 - val_loss: 0.4622 - val_f1_score: 0.7433\n",
      "Epoch 64/4000\n",
      "157/157 [==============================] - 1s 5ms/step - loss: 0.5517 - f1_score: 0.6869 - val_loss: 0.4631 - val_f1_score: 0.7359\n",
      "Epoch 65/4000\n",
      "157/157 [==============================] - 1s 5ms/step - loss: 0.5586 - f1_score: 0.6804 - val_loss: 0.4570 - val_f1_score: 0.7403\n",
      "Restoring model weights from the end of the best epoch.\n",
      "Epoch 00065: early stopping\n"
     ]
    }
   ],
   "source": [
    "# fit model using ealy stopping\n",
    "es = tf.keras.callbacks.EarlyStopping(monitor='val_f1_score', mode='max', patience=5, restore_best_weights=True, verbose=1)\n",
    "history = model.fit(X_train_vec, y_train_enc,\n",
    "                    validation_data=(X_val_vec, y_val_enc),\n",
    "                    epochs=4000, callbacks=[es], verbose=1)"
   ]
  },
  {
   "cell_type": "markdown",
   "metadata": {},
   "source": [
    "###  Comment\n",
    "After fitting the model, the EarlyStopping function stops after a value of \"val_f1_score\" where it will no longer be decreasing "
   ]
  },
  {
   "cell_type": "markdown",
   "metadata": {
    "ExecuteTime": {
     "end_time": "2022-01-31T08:58:37.465330Z",
     "start_time": "2022-01-31T08:58:37.461033Z"
    }
   },
   "source": [
    "<font color='blue'>\n",
    "* Babysit your model\n",
    "</font>"
   ]
  },
  {
   "cell_type": "code",
   "execution_count": 19,
   "metadata": {
    "ExecuteTime": {
     "start_time": "2022-01-31T09:01:33.408Z"
    },
    "colab": {
     "base_uri": "https://localhost:8080/"
    },
    "id": "1XWqf1QKoUqQ",
    "outputId": "3c73908b-3066-4c32-92f8-df458dc7f8cb"
   },
   "outputs": [
    {
     "data": {
      "text/plain": [
       "<AxesSubplot:>"
      ]
     },
     "execution_count": 19,
     "metadata": {},
     "output_type": "execute_result"
    },
    {
     "data": {
      "image/png": "[encoded data removed]",
      "text/plain": [
       "<Figure size 576x360 with 1 Axes>"
      ]
     },
     "metadata": {
      "needs_background": "light"
     },
     "output_type": "display_data"
    }
   ],
   "source": [
    "# Babysit the model\n",
    "pd.DataFrame({'val_loss':history.history['val_loss'],\n",
    "              'loss':history.history['loss'],\n",
    "             'val_f1_score':history.history['val_f1_score'],\n",
    "              'f1_score':history.history['f1_score']}).plot(figsize=(8,5))"
   ]
  },
  {
   "cell_type": "markdown",
   "metadata": {},
   "source": [
    "<font color='blue'>\n",
    "* Babysit your model\n",
    "</font>"
   ]
  },
  {
   "cell_type": "code",
   "execution_count": 20,
   "metadata": {},
   "outputs": [
    {
     "name": "stdout",
     "output_type": "stream",
     "text": [
      "157/157 [==============================] - 0s 2ms/step - loss: 0.4689 - f1_score: 0.7449\n",
      "Test loss: 0.46890947222709656\n",
      "Test f1_score 0.7449336051940918\n"
     ]
    }
   ],
   "source": [
    "score = model.evaluate(X_val_vec, y_val_enc)\n",
    "print('Test loss:', score[0])\n",
    "print('Test f1_score', score[1])"
   ]
  },
  {
   "cell_type": "code",
   "execution_count": 21,
   "metadata": {
    "ExecuteTime": {
     "end_time": "2022-01-31T09:01:21.253791Z",
     "start_time": "2022-01-31T09:01:21.064725Z"
    },
    "colab": {
     "base_uri": "https://localhost:8080/"
    },
    "id": "3I9EmdInoUqQ",
    "outputId": "2b7de358-c515-4d89-e452-a63e38bc1577"
   },
   "outputs": [],
   "source": [
    "# Evaluate the model\n",
    "# f1.update_state(y_test_enc, model.predict(X_test))\n",
    "# result = f1.result()\n",
    "# result.numpy()"
   ]
  },
  {
   "cell_type": "markdown",
   "metadata": {},
   "source": [
    "### Using vectorizer layers"
   ]
  },
  {
   "cell_type": "code",
   "execution_count": 30,
   "metadata": {},
   "outputs": [],
   "source": [
    "from keras.layers import Input, Dense, Flatten, Embedding"
   ]
  },
  {
   "cell_type": "code",
   "execution_count": 22,
   "metadata": {},
   "outputs": [
    {
     "name": "stdout",
     "output_type": "stream",
     "text": [
      "Model: \"model_1\"\n",
      "_________________________________________________________________\n",
      "Layer (type)                 Output Shape              Param #   \n",
      "=================================================================\n",
      "input (InputLayer)           [(None, 100)]             0         \n",
      "_________________________________________________________________\n",
      "hidden (Dense)               (None, 128)               12928     \n",
      "_________________________________________________________________\n",
      "dropout_1 (Dropout)          (None, 128)               0         \n",
      "_________________________________________________________________\n",
      "output (Dense)               (None, 5)                 645       \n",
      "=================================================================\n",
      "Total params: 13,573\n",
      "Trainable params: 13,573\n",
      "Non-trainable params: 0\n",
      "_________________________________________________________________\n"
     ]
    }
   ],
   "source": [
    "# define the model\n",
    "input_ = Input(shape=(vocab_size, ), name=\"input\", dtype=tf.float32)\n",
    "x = Dense(128, activation=\"relu\", name=\"hidden\")(input_)\n",
    "x = Dropout(rate=0.2)(x)\n",
    "output_ = Dense(5, activation='sigmoid', name=\"output\")(x)\n",
    "model1 = Model(input_, output_)\n",
    "# summarize the model\n",
    "model1.summary()"
   ]
  },
  {
   "cell_type": "code",
   "execution_count": 23,
   "metadata": {},
   "outputs": [],
   "source": [
    "# compile the model\n",
    "f1 = F1Score(num_classes=nb_classes, average=\"macro\", threshold=0.5)\n",
    "model1.compile(optimizer='adam', loss='categorical_crossentropy', metrics=[f1])"
   ]
  },
  {
   "cell_type": "code",
   "execution_count": 24,
   "metadata": {},
   "outputs": [
    {
     "name": "stdout",
     "output_type": "stream",
     "text": [
      "Epoch 1/4000\n",
      "157/157 [==============================] - 1s 4ms/step - loss: 6.6213 - f1_score: 0.2811 - val_loss: 2.8975 - val_f1_score: 0.3112\n",
      "Epoch 2/4000\n",
      "157/157 [==============================] - 0s 3ms/step - loss: 3.2992 - f1_score: 0.2987 - val_loss: 1.9174 - val_f1_score: 0.3316\n",
      "Epoch 3/4000\n",
      "157/157 [==============================] - 0s 3ms/step - loss: 2.2802 - f1_score: 0.3118 - val_loss: 1.4893 - val_f1_score: 0.3451\n",
      "Epoch 4/4000\n",
      "157/157 [==============================] - 0s 2ms/step - loss: 1.7067 - f1_score: 0.3282 - val_loss: 1.2769 - val_f1_score: 0.3472\n",
      "Epoch 5/4000\n",
      "157/157 [==============================] - 0s 3ms/step - loss: 1.4776 - f1_score: 0.3286 - val_loss: 1.1522 - val_f1_score: 0.3573\n",
      "Epoch 6/4000\n",
      "157/157 [==============================] - 1s 3ms/step - loss: 1.3040 - f1_score: 0.3380 - val_loss: 1.0748 - val_f1_score: 0.3625\n",
      "Epoch 7/4000\n",
      "157/157 [==============================] - 0s 3ms/step - loss: 1.2059 - f1_score: 0.3427 - val_loss: 1.0227 - val_f1_score: 0.3688\n",
      "Epoch 8/4000\n",
      "157/157 [==============================] - 0s 3ms/step - loss: 1.1296 - f1_score: 0.3448 - val_loss: 0.9788 - val_f1_score: 0.3696\n",
      "Epoch 9/4000\n",
      "157/157 [==============================] - 0s 3ms/step - loss: 1.0822 - f1_score: 0.3559 - val_loss: 0.9529 - val_f1_score: 0.3721\n",
      "Epoch 10/4000\n",
      "157/157 [==============================] - 1s 3ms/step - loss: 1.0595 - f1_score: 0.3532 - val_loss: 0.9218 - val_f1_score: 0.3788\n",
      "Epoch 11/4000\n",
      "157/157 [==============================] - 0s 3ms/step - loss: 1.0274 - f1_score: 0.3597 - val_loss: 0.8926 - val_f1_score: 0.3816\n",
      "Epoch 12/4000\n",
      "157/157 [==============================] - 0s 3ms/step - loss: 0.9970 - f1_score: 0.3617 - val_loss: 0.8679 - val_f1_score: 0.3920\n",
      "Epoch 13/4000\n",
      "157/157 [==============================] - 0s 3ms/step - loss: 0.9705 - f1_score: 0.3712 - val_loss: 0.8499 - val_f1_score: 0.3957\n",
      "Epoch 14/4000\n",
      "157/157 [==============================] - 1s 3ms/step - loss: 0.9605 - f1_score: 0.3768 - val_loss: 0.8302 - val_f1_score: 0.4031\n",
      "Epoch 15/4000\n",
      "157/157 [==============================] - 0s 3ms/step - loss: 0.9353 - f1_score: 0.3753 - val_loss: 0.8099 - val_f1_score: 0.4060\n",
      "Epoch 16/4000\n",
      "157/157 [==============================] - 0s 3ms/step - loss: 0.9105 - f1_score: 0.3890 - val_loss: 0.7916 - val_f1_score: 0.4133\n",
      "Epoch 17/4000\n",
      "157/157 [==============================] - 0s 3ms/step - loss: 0.9016 - f1_score: 0.3894 - val_loss: 0.7792 - val_f1_score: 0.4270\n",
      "Epoch 18/4000\n",
      "157/157 [==============================] - 0s 3ms/step - loss: 0.8867 - f1_score: 0.3914 - val_loss: 0.7612 - val_f1_score: 0.4230\n",
      "Epoch 19/4000\n",
      "157/157 [==============================] - 0s 3ms/step - loss: 0.8791 - f1_score: 0.3960 - val_loss: 0.7520 - val_f1_score: 0.4333\n",
      "Epoch 20/4000\n",
      "157/157 [==============================] - 1s 3ms/step - loss: 0.8534 - f1_score: 0.3991 - val_loss: 0.7360 - val_f1_score: 0.4404\n",
      "Epoch 21/4000\n",
      "157/157 [==============================] - 1s 3ms/step - loss: 0.8495 - f1_score: 0.4044 - val_loss: 0.7213 - val_f1_score: 0.4416\n",
      "Epoch 22/4000\n",
      "157/157 [==============================] - 0s 3ms/step - loss: 0.8413 - f1_score: 0.4159 - val_loss: 0.7092 - val_f1_score: 0.4533\n",
      "Epoch 23/4000\n",
      "157/157 [==============================] - 1s 4ms/step - loss: 0.8325 - f1_score: 0.4176 - val_loss: 0.7048 - val_f1_score: 0.4590\n",
      "Epoch 24/4000\n",
      "157/157 [==============================] - 1s 3ms/step - loss: 0.8122 - f1_score: 0.4203 - val_loss: 0.6855 - val_f1_score: 0.4577\n",
      "Epoch 25/4000\n",
      "157/157 [==============================] - 1s 3ms/step - loss: 0.8094 - f1_score: 0.4217 - val_loss: 0.6848 - val_f1_score: 0.4644\n",
      "Epoch 26/4000\n",
      "157/157 [==============================] - 0s 3ms/step - loss: 0.7961 - f1_score: 0.4289 - val_loss: 0.6679 - val_f1_score: 0.4685\n",
      "Epoch 27/4000\n",
      "157/157 [==============================] - 0s 3ms/step - loss: 0.7761 - f1_score: 0.4360 - val_loss: 0.6590 - val_f1_score: 0.4687\n",
      "Epoch 28/4000\n",
      "157/157 [==============================] - 0s 3ms/step - loss: 0.7895 - f1_score: 0.4344 - val_loss: 0.6555 - val_f1_score: 0.4566\n",
      "Epoch 29/4000\n",
      "157/157 [==============================] - 0s 3ms/step - loss: 0.7666 - f1_score: 0.4404 - val_loss: 0.6427 - val_f1_score: 0.4810\n",
      "Epoch 30/4000\n",
      "157/157 [==============================] - 0s 3ms/step - loss: 0.7811 - f1_score: 0.4379 - val_loss: 0.6428 - val_f1_score: 0.4561\n",
      "Epoch 31/4000\n",
      "157/157 [==============================] - 0s 3ms/step - loss: 0.7629 - f1_score: 0.4369 - val_loss: 0.6350 - val_f1_score: 0.4763\n",
      "Epoch 32/4000\n",
      "157/157 [==============================] - 0s 3ms/step - loss: 0.7544 - f1_score: 0.4417 - val_loss: 0.6277 - val_f1_score: 0.4852\n",
      "Epoch 33/4000\n",
      "157/157 [==============================] - 0s 3ms/step - loss: 0.7487 - f1_score: 0.4484 - val_loss: 0.6214 - val_f1_score: 0.4915\n",
      "Epoch 34/4000\n",
      "157/157 [==============================] - 0s 3ms/step - loss: 0.7417 - f1_score: 0.4542 - val_loss: 0.6124 - val_f1_score: 0.4867\n",
      "Epoch 35/4000\n",
      "157/157 [==============================] - 0s 3ms/step - loss: 0.7326 - f1_score: 0.4562 - val_loss: 0.6084 - val_f1_score: 0.4892\n",
      "Epoch 36/4000\n",
      "157/157 [==============================] - 0s 2ms/step - loss: 0.7220 - f1_score: 0.4641 - val_loss: 0.6049 - val_f1_score: 0.5074\n",
      "Epoch 37/4000\n",
      "157/157 [==============================] - 0s 3ms/step - loss: 0.7402 - f1_score: 0.4593 - val_loss: 0.6050 - val_f1_score: 0.4999\n",
      "Epoch 38/4000\n",
      "157/157 [==============================] - 1s 3ms/step - loss: 0.7171 - f1_score: 0.4565 - val_loss: 0.5924 - val_f1_score: 0.5035\n",
      "Epoch 39/4000\n",
      "157/157 [==============================] - 0s 3ms/step - loss: 0.7107 - f1_score: 0.4675 - val_loss: 0.5804 - val_f1_score: 0.5008\n",
      "Epoch 40/4000\n",
      "157/157 [==============================] - 0s 3ms/step - loss: 0.7093 - f1_score: 0.4672 - val_loss: 0.5811 - val_f1_score: 0.5090\n",
      "Epoch 41/4000\n",
      "157/157 [==============================] - 0s 3ms/step - loss: 0.7007 - f1_score: 0.4706 - val_loss: 0.5838 - val_f1_score: 0.5174\n",
      "Epoch 42/4000\n",
      "157/157 [==============================] - 0s 3ms/step - loss: 0.6997 - f1_score: 0.4759 - val_loss: 0.5729 - val_f1_score: 0.5303\n",
      "Epoch 43/4000\n",
      "157/157 [==============================] - 0s 3ms/step - loss: 0.6880 - f1_score: 0.4771 - val_loss: 0.5736 - val_f1_score: 0.5260\n",
      "Epoch 44/4000\n",
      "157/157 [==============================] - 0s 3ms/step - loss: 0.6932 - f1_score: 0.4815 - val_loss: 0.5637 - val_f1_score: 0.5437\n",
      "Epoch 45/4000\n",
      "157/157 [==============================] - 0s 3ms/step - loss: 0.6934 - f1_score: 0.4870 - val_loss: 0.5622 - val_f1_score: 0.5348\n",
      "Epoch 46/4000\n",
      "157/157 [==============================] - 0s 3ms/step - loss: 0.6877 - f1_score: 0.4820 - val_loss: 0.5613 - val_f1_score: 0.5223\n",
      "Epoch 47/4000\n",
      "157/157 [==============================] - 0s 3ms/step - loss: 0.6789 - f1_score: 0.4838 - val_loss: 0.5538 - val_f1_score: 0.5288\n",
      "Epoch 48/4000\n",
      "157/157 [==============================] - 0s 3ms/step - loss: 0.6679 - f1_score: 0.4887 - val_loss: 0.5470 - val_f1_score: 0.5357\n",
      "Epoch 49/4000\n",
      "157/157 [==============================] - 0s 3ms/step - loss: 0.6772 - f1_score: 0.4853 - val_loss: 0.5459 - val_f1_score: 0.5344\n",
      "Restoring model weights from the end of the best epoch.\n",
      "Epoch 00049: early stopping\n"
     ]
    }
   ],
   "source": [
    "# fit model using ealy stopping\n",
    "es = tf.keras.callbacks.EarlyStopping(monitor='val_f1_score', mode='max', patience=5, restore_best_weights=True, verbose=1)\n",
    "history = model1.fit(X_train_vec, y_train_enc,\n",
    "                    validation_data=(X_val_vec, y_val_enc),\n",
    "                    epochs=4000, callbacks=[es], verbose=1)"
   ]
  },
  {
   "cell_type": "code",
   "execution_count": 25,
   "metadata": {},
   "outputs": [],
   "source": [
    "model1.compile(optimizer='adam', loss='binary_crossentropy', metrics=[f1])"
   ]
  },
  {
   "cell_type": "code",
   "execution_count": 26,
   "metadata": {},
   "outputs": [
    {
     "data": {
      "text/plain": [
       "<AxesSubplot:>"
      ]
     },
     "execution_count": 26,
     "metadata": {},
     "output_type": "execute_result"
    },
    {
     "data": {
      "image/png": "[encoded data removed]",
      "text/plain": [
       "<Figure size 576x360 with 1 Axes>"
      ]
     },
     "metadata": {
      "needs_background": "light"
     },
     "output_type": "display_data"
    }
   ],
   "source": [
    "# Babysit the model\n",
    "pd.DataFrame({'val_loss':history.history['val_loss'],\n",
    "              'loss':history.history['loss'],\n",
    "             'val_f1_score':history.history['val_f1_score'],\n",
    "              'f1_score':history.history['f1_score']}).plot(figsize=(8,5))"
   ]
  },
  {
   "cell_type": "code",
   "execution_count": 27,
   "metadata": {},
   "outputs": [
    {
     "name": "stdout",
     "output_type": "stream",
     "text": [
      "157/157 [==============================] - 0s 1ms/step - loss: 0.5566 - f1_score: 0.5388\n",
      "Test loss: 0.5565963983535767\n",
      "Test f1_score 0.5387955904006958\n"
     ]
    }
   ],
   "source": [
    "score = model1.evaluate(X_val_vec, y_val_enc)\n",
    "print('Test loss:', score[0])\n",
    "print('Test f1_score', score[1])"
   ]
  },
  {
   "cell_type": "markdown",
   "metadata": {},
   "source": [
    "## Conclusion :"
   ]
  },
  {
   "cell_type": "markdown",
   "metadata": {},
   "source": [
    " The word embedding model with glove performs better than the vectorizer layer  </br>\n"
   ]
  },
  {
   "cell_type": "markdown",
   "metadata": {},
   "source": [
    "| Model | F1_score |\n",
    "| --- | ----------- |\n",
    "| only vectorizer layer  | 53.87 %|\n",
    "| Embedding Matrix with glove| 74.49 %|"
   ]
  }
 ],
 "metadata": {
  "colab": {
   "collapsed_sections": [],
   "name": "notebook-NLP-sentiment-analysis-with-MLP-Keras embedding.ipynb",
   "provenance": []
  },
  "kernelspec": {
   "display_name": "Python 3",
   "language": "python",
   "name": "python3"
  },
  "language_info": {
   "codemirror_mode": {
    "name": "ipython",
    "version": 3
   },
   "file_extension": ".py",
   "mimetype": "text/x-python",
   "name": "python",
   "nbconvert_exporter": "python",
   "pygments_lexer": "ipython3",
   "version": "3.8.5"
  },
  "latex_envs": {
   "LaTeX_envs_menu_present": true,
   "autoclose": true,
   "autocomplete": true,
   "bibliofile": "biblio.bib",
   "cite_by": "apalike",
   "current_citInitial": 1,
   "eqLabelWithNumbers": true,
   "eqNumInitial": 1,
   "hotkeys": {
    "equation": "Ctrl-E",
    "itemize": "Ctrl-I"
   },
   "labels_anchors": false,
   "latex_user_defs": false,
   "report_style_numbering": false,
   "user_envs_cfg": false
  },
  "nbTranslate": {
   "displayLangs": [
    "*"
   ],
   "hotkey": "alt-t",
   "langInMainMenu": true,
   "sourceLang": "en",
   "targetLang": "fr",
   "useGoogleTranslate": true
  },
  "toc": {
   "base_numbering": 1,
   "nav_menu": {},
   "number_sections": true,
   "sideBar": true,
   "skip_h1_title": true,
   "title_cell": "Table of Contents",
   "title_sidebar": "Contents",
   "toc_cell": true,
   "toc_position": {},
   "toc_section_display": true,
   "toc_window_display": false
  }
 },
 "nbformat": 4,
 "nbformat_minor": 1
}
