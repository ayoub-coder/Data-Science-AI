{
 "cells": [
  {
   "cell_type": "markdown",
   "metadata": {},
   "source": [
    "# Basic Probability Models and Sampling in Python\n",
    "\n",
    "This lesson introduces the basic concepts of sampling and computing with probability models in Python. \n",
    "\n",
    "Numpy provides a rich variety of functions and models that will help us in developing our computing tools.\n",
    "\n",
    "Let's start by generating samples from an univariate Gaussian distribution with given mean $\\mu$ and standard deviation $\\sigma$."
   ]
  },
  {
   "cell_type": "code",
   "execution_count": 1,
   "metadata": {},
   "outputs": [],
   "source": [
    "import numpy as np\n",
    "\n",
    "mu = 100\n",
    "\n",
    "sigma = 20\n",
    "\n",
    "samples = 300\n",
    "\n",
    "data = np.random.normal(mu, sigma, samples)"
   ]
  },
  {
   "cell_type": "markdown",
   "metadata": {},
   "source": [
    "Having generated the sample, we can inspect the properties of the data to get more information about our distribution.\n",
    "\n",
    "The first question we would like to ask is what is the ratio of our data being greather than a certain value $L$. This can be approximated by counting: "
   ]
  },
  {
   "cell_type": "code",
   "execution_count": 2,
   "metadata": {},
   "outputs": [
    {
     "name": "stdout",
     "output_type": "stream",
     "text": [
      "The ratio of values being greater than 120 is: p(x>120) = 0.17\n"
     ]
    }
   ],
   "source": [
    "L = 120\n",
    "prob = float(np.sum(data>120))/samples\n",
    "\n",
    "print(\"The ratio of values being greater than \" + str(L) + \" is: p(x>\"+str(L)+\") = \" + str(prob))"
   ]
  },
  {
   "cell_type": "markdown",
   "metadata": {},
   "source": [
    "Similarly, we can compute the ratio of samples $L_1<x<L_2$:"
   ]
  },
  {
   "cell_type": "code",
   "execution_count": 3,
   "metadata": {},
   "outputs": [
    {
     "name": "stdout",
     "output_type": "stream",
     "text": [
      "The ratio is: p(100<x<120) = 0.36333333333333334\n"
     ]
    }
   ],
   "source": [
    "L1 = 100\n",
    "L2 = 120\n",
    "\n",
    "prob = float(np.sum((data>100) & (data<120)))/samples\n",
    "\n",
    "print(\"The ratio is: p(\"+str(L1)+\"<x<\"+str(L2)+\") = \" + str(prob))"
   ]
  },
  {
   "cell_type": "markdown",
   "metadata": {},
   "source": [
    "Summary statistics can be simply computed as:"
   ]
  },
  {
   "cell_type": "code",
   "execution_count": 4,
   "metadata": {},
   "outputs": [
    {
     "name": "stdout",
     "output_type": "stream",
     "text": [
      "Sample mean: 100.68115406232789\n",
      "Sample std: 20.046095465664983\n",
      "\n",
      "Numpy functions: \n",
      "mean: 100.68115406232789 - std: 20.046095465664983\n"
     ]
    }
   ],
   "source": [
    "mean = np.sum(data)/samples\n",
    "std = np.sqrt(np.sum((data-mean)**2)/samples)\n",
    "\n",
    "print(\"Sample mean: \" + str(mean) + \"\\nSample std: \" + str(std))\n",
    "\n",
    "print(\"\\nNumpy functions: \\n\" + \"mean: \" + str(np.mean(data)) + \" - std: \"+ str(np.std(data)))"
   ]
  },
  {
   "cell_type": "markdown",
   "metadata": {},
   "source": [
    "$\\mathbf{Exercise:}$ Compute the median of the sample."
   ]
  },
  {
   "cell_type": "code",
   "execution_count": 5,
   "metadata": {},
   "outputs": [
    {
     "name": "stdout",
     "output_type": "stream",
     "text": [
      "101.63147395522262\n",
      "101.63147395522262\n"
     ]
    }
   ],
   "source": [
    "def median(d):\n",
    "    d.sort()\n",
    "    mid = len(d) // 2\n",
    "    return (d[mid] + d[~mid]) / 2\n",
    "print(median(data))\n",
    "print(np.median(data))"
   ]
  },
  {
   "cell_type": "markdown",
   "metadata": {},
   "source": [
    "An important way of visualizing a distribution is through an histogram plot. A histogram plot is created by discretizing the domain of the distribution in a certain number of bins, and by computing the number of realization of the distribution falling within each bin. "
   ]
  },
  {
   "cell_type": "code",
   "execution_count": 6,
   "metadata": {},
   "outputs": [
    {
     "name": "stdout",
     "output_type": "stream",
     "text": [
      "\n",
      " Histogram computation\n",
      "[ 21.69822681  34.39639186  47.0945569   59.79272195  72.49088699\n",
      "  85.18905204  97.88721709 110.58538213 123.28354718 135.98171223\n",
      " 148.67987727] [ 1  1  1 25 38 59 82 55 27 11]\n",
      "\n",
      " Handmade histogram plot:\n",
      "\n",
      "28.047309 +\n",
      "40.745474 +\n",
      "53.443639 +\n",
      "66.141804 +++++++++++++++++++++++++\n",
      "78.839970 ++++++++++++++++++++++++++++++++++++++\n",
      "91.538135 +++++++++++++++++++++++++++++++++++++++++++++++++++++++++++\n",
      "104.236300 ++++++++++++++++++++++++++++++++++++++++++++++++++++++++++++++++++++++++++++++++++\n",
      "116.934465 +++++++++++++++++++++++++++++++++++++++++++++++++++++++\n",
      "129.632630 +++++++++++++++++++++++++++\n",
      "142.330795 +++++++++++\n",
      "\n",
      " Numpy default histogram\n",
      "[ 21.69822681  34.39639186  47.0945569   59.79272195  72.49088699\n",
      "  85.18905204  97.88721709 110.58538213 123.28354718 135.98171223\n",
      " 148.67987727] [ 1  1  1 25 38 59 82 55 27 11]\n"
     ]
    }
   ],
   "source": [
    "first_edge, last_edge = data.min(), data.max()\n",
    "n_equal_bins = 10\n",
    "bin_edges = np.linspace(start=first_edge, stop=last_edge,num=n_equal_bins + 1, endpoint=True)\n",
    "\n",
    "# All but the last (righthand-most) bin is half-open.\n",
    "bin_height = []\n",
    "for i in range(len(bin_edges)-2):\n",
    "    bin_height.append(np.sum((data>=bin_edges[i]) & (data<bin_edges[i+1])))\n",
    "    \n",
    "# The last bin is closed on the right\n",
    "bin_height.append(np.sum((data>=bin_edges[i+1]) & (data<=bin_edges[i+2])))\n",
    "\n",
    "bin_height = np.array(bin_height)\n",
    "print('\\n Histogram computation')\n",
    "print(bin_edges, bin_height)\n",
    "\n",
    "# Handmade histogram\n",
    "print('\\n Handmade histogram plot:\\n')\n",
    "\n",
    "bin_centers = np.diff(bin_edges)/2 + bin_edges[:-1]\n",
    "\n",
    "for i in range(n_equal_bins):\n",
    "    print('{0:1f} {1}'.format(bin_centers[i], '+' * bin_height[i]))\n",
    "\n",
    "# The same histogram can be obtained with numpy\n",
    "np_bin_height,np_bin_edges = np.histogram(data)\n",
    "\n",
    "print('\\n Numpy default histogram')\n",
    "print(np_bin_edges, np_bin_height)\n"
   ]
  },
  {
   "cell_type": "code",
   "execution_count": 7,
   "metadata": {},
   "outputs": [
    {
     "name": "stdout",
     "output_type": "stream",
     "text": [
      "The sum of the bin heights in the normalized histogram is: 1.0\n"
     ]
    },
    {
     "data": {
      "image/png": "[encoded data removed]",
      "text/plain": [
       "<Figure size 1080x360 with 2 Axes>"
      ]
     },
     "metadata": {
      "needs_background": "light"
     },
     "output_type": "display_data"
    }
   ],
   "source": [
    "import matplotlib.pyplot as plt\n",
    "\n",
    "plt.figure(figsize=(15,5))\n",
    "plt.subplot(1, 2, 1)\n",
    "\n",
    "n, bins, patches = plt.hist(x=data, bins=10, color='#0504aa',\n",
    "                            alpha=0.7, rwidth=0.85)\n",
    "\n",
    "plt.grid(axis='y', alpha=0.75)\n",
    "plt.xlabel('Value')\n",
    "plt.ylabel('Frequency')\n",
    "plt.title('Matplotlib histogram')\n",
    "plt.text(140, 45, r'$mu=' + str(mu) + ', \\nsigma= ' + str(sigma) +' $')\n",
    "maxfreq = n.max()\n",
    "\n",
    "# Set a clean upper y-axis limit.\n",
    "plt.ylim(ymax=np.ceil(maxfreq / 10) * 10 if maxfreq % 10 else maxfreq + 10)\n",
    "\n",
    "plt.subplot(1, 2, 2)\n",
    "n, bins, patches = plt.hist(x=data, density = True, bins=10, color='#0504aa',\n",
    "                            alpha=0.7, rwidth=0.85)\n",
    "\n",
    "plt.grid(axis='y', alpha=0.75)\n",
    "plt.xlabel('Value')\n",
    "plt.ylabel('Frequency')\n",
    "plt.title('Matplotlib normalized histogram')\n",
    "plt.text(140, 0.006, r'mu=' + str(mu) + ', \\nsigma= ' + str(sigma) +' $')\n",
    "maxfreq = n.max()\n",
    "plt.ylim(ymax=maxfreq + 0.0005)\n",
    "\n",
    "bin_size = bins[1]-bins[0]\n",
    "\n",
    "print(\"The sum of the bin heights in the normalized histogram is: \" + str(np.sum(n*bin_size)))"
   ]
  },
  {
   "cell_type": "markdown",
   "metadata": {},
   "source": [
    "The probability density function (PDF) $f(x)$ of a random variable is a function quantifying the density of the variable at each point $x$ of the domain. By integrating the PDF, $\\int_{a}^b f(t)\\, dt$, we quantify the probability of the random variable falling within a particular range of values. \n",
    "In our case, when dealing with discrete samples of a variable, a discrete approximation of the PDF is provided by the normalization histogram. The PDF is equivalent to a continuous representation of the histogram, and can be estimated through interpolation."
   ]
  },
  {
   "cell_type": "code",
   "execution_count": 16,
   "metadata": {},
   "outputs": [
    {
     "data": {
      "image/png": "[encoded data removed]",
      "text/plain": [
       "<Figure size 1080x360 with 1 Axes>"
      ]
     },
     "metadata": {
      "needs_background": "light"
     },
     "output_type": "display_data"
    }
   ],
   "source": [
    "from scipy import stats\n",
    "\n",
    "fine_range = np.linspace(10,180,200)\n",
    "\n",
    "plt.figure(figsize=(15,5))\n",
    "\n",
    "plt.subplot(1, 2, 1)\n",
    "interpolated = np.interp(fine_range,bins[1:],n)\n",
    "plt.plot(fine_range, interpolated)\n",
    "plt.xlabel('Value')\n",
    "plt.ylabel('Frequency')\n",
    "plt.title('PDF through linear interpolation')\n",
    "\n",
    "# plt.subplot(1, 2, 2)\n",
    "# gkde = stats.gaussian_kde(dataset = data)\n",
    "# plt.plot(fine_range, gkde.evaluate(fine_range))\n",
    "# plt.title('PDF through kernel density estimator')\n",
    "\n",
    "plt.show()"
   ]
  },
  {
   "cell_type": "code",
   "execution_count": 18,
   "metadata": {},
   "outputs": [
    {
     "data": {
      "text/plain": [
       "array([0.00026251, 0.00026251, 0.00026251, 0.00656263, 0.00997519,\n",
       "       0.0154878 , 0.02152542, 0.01443778, 0.00708764, 0.00288756])"
      ]
     },
     "execution_count": 18,
     "metadata": {},
     "output_type": "execute_result"
    }
   ],
   "source": [
    "n"
   ]
  },
  {
   "cell_type": "markdown",
   "metadata": {},
   "source": [
    "$\\mathbf{Exercise:}$ Plot the cumulative density function (CDF) of the sample. The CDF of $f(x)$ is defined as $F(x) = \\int_{-\\infty}^x f(t)\\, dt$. In our discrete setting, the integral will be approximated by a sum."
   ]
  },
  {
   "cell_type": "code",
   "execution_count": 45,
   "metadata": {},
   "outputs": [
    {
     "data": {
      "text/plain": [
       "[<matplotlib.lines.Line2D at 0x285bf325310>]"
      ]
     },
     "execution_count": 45,
     "metadata": {},
     "output_type": "execute_result"
    },
    {
     "data": {
      "image/png": "[encoded data removed]",
      "text/plain": [
       "<Figure size 432x288 with 1 Axes>"
      ]
     },
     "metadata": {
      "needs_background": "light"
     },
     "output_type": "display_data"
    }
   ],
   "source": [
    "pdf= gkde.evaluate(fine_range) #Not the best way because the y-axis is not equal to ylim=1\n",
    "cdf= np.cumsum(pdf)\n",
    "plt.plot(fine_range,cdf)"
   ]
  },
  {
   "cell_type": "markdown",
   "metadata": {},
   "source": [
    "## Sampling in Python\n",
    "\n",
    "As we have seen, sampling is a fundamental operation at the basis of a great number of procedures in computer science.\n",
    "In this section we will discover useful functionalities that will allow us to control sampling operations on numerical objects. \n",
    "\n",
    "The first important point is the concept of $seed$: a computer program can generate does provide pseudo-random numbers, that are generated starting from an initial value called, indeed, seed. Let's see how this work in practice:\n"
   ]
  },
  {
   "cell_type": "code",
   "execution_count": 46,
   "metadata": {},
   "outputs": [
    {
     "name": "stdout",
     "output_type": "stream",
     "text": [
      "Ten numbers sampled from the seed 123: \n",
      "[0.69646919 0.28613933 0.22685145 0.55131477 0.71946897 0.42310646\n",
      " 0.9807642  0.68482974 0.4809319  0.39211752]\n",
      "Ten numbers sampled from the seed 321: \n",
      "[0.88594794 0.07791236 0.97964616 0.24767146 0.75288472 0.52667564\n",
      " 0.90755375 0.8840703  0.08926896 0.5173446 ]\n",
      "Ten numbers sampled again from the seed 123: \n",
      "[0.69646919 0.28613933 0.22685145 0.55131477 0.71946897 0.42310646\n",
      " 0.9807642  0.68482974 0.4809319  0.39211752]\n"
     ]
    }
   ],
   "source": [
    "# Setting the seed\n",
    "np.random.seed(123)\n",
    "\n",
    "# Computing random numbers\n",
    "print(\"Ten numbers sampled from the seed 123: \\n\" + str(np.random.random(10)))\n",
    "\n",
    "# Changing the seed\n",
    "np.random.seed(321)\n",
    "print(\"Ten numbers sampled from the seed 321: \\n\" + str(np.random.random(10)))\n",
    "\n",
    "#Back to the initial seed\n",
    "np.random.seed(123)\n",
    "print(\"Ten numbers sampled again from the seed 123: \\n\" + str(np.random.random(10)))"
   ]
  },
  {
   "cell_type": "markdown",
   "metadata": {},
   "source": [
    "The concept of seed is very important for reproducibility across different experiments. Every time we set the same seed we ensure to reproduce the same set of (pseudo-)random numbers.\n",
    "\n",
    "In addition to sampling from a theoretical distribution, such as normal or uniform, we can sample from a given array of values. This operation sets the basis of the resampling methods that we will see in the future lessons."
   ]
  },
  {
   "cell_type": "code",
   "execution_count": 47,
   "metadata": {},
   "outputs": [
    {
     "name": "stdout",
     "output_type": "stream",
     "text": [
      "Here is a randomly generated sequence of 20 integers: \n",
      "[ 9 36 15  0 49 28 25 29 48 29 49  8  9  0 42 40 36 16 36 47]\n",
      "Here we selected only 5 elements of the sequence: \n",
      "[ 8  8 36 48 49]\n"
     ]
    }
   ],
   "source": [
    "np.random.seed(10)\n",
    "\n",
    "int_array = np.random.randint(0,50,20)\n",
    "\n",
    "print(\"Here is a randomly generated sequence of 20 integers: \\n\" + str(int_array))\n",
    "\n",
    "selected = np.random.choice(int_array,5)\n",
    "\n",
    "print(\"Here we selected only 5 elements of the sequence: \\n\" + str(selected))"
   ]
  },
  {
   "cell_type": "markdown",
   "metadata": {},
   "source": [
    "We notice however that  the number 8 was selected twice. If we want to ensure that each element is sampled only once, we need to set the option `replace=False`."
   ]
  },
  {
   "cell_type": "code",
   "execution_count": 48,
   "metadata": {},
   "outputs": [
    {
     "name": "stdout",
     "output_type": "stream",
     "text": [
      "Here we selected 5 elements without replacement: \n",
      "[49  8 48 29  9]\n"
     ]
    }
   ],
   "source": [
    "selected = np.random.choice(int_array,5,replace=False)\n",
    "\n",
    "print(\"Here we selected 5 elements without replacement: \\n\" + str(selected))"
   ]
  },
  {
   "cell_type": "markdown",
   "metadata": {},
   "source": [
    "The same procedure can be applied for sampling for more complex objects, such as multidimensional arrays (tensors):"
   ]
  },
  {
   "cell_type": "code",
   "execution_count": 49,
   "metadata": {},
   "outputs": [
    {
     "name": "stdout",
     "output_type": "stream",
     "text": [
      "[[8 9 2 0 6 7 8 1 7 1 4 0]\n",
      " [8 5 4 7 8 8 2 6 2 8 8 6]\n",
      " [6 5 6 0 0 6 9 1 8 9 1 2]\n",
      " [8 9 9 5 0 2 7 3 0 4 2 0]\n",
      " [3 3 1 2 5 9 0 1 0 1 9 0]\n",
      " [9 2 1 1 0 0 5 9 0 4 6 6]\n",
      " [0 2 3 3 2 6 0 5 1 3 6 5]\n",
      " [5 1 8 0 5 9 8 5 7 8 5 8]]\n"
     ]
    }
   ],
   "source": [
    "array2d = np.random.randint(0, 10, (8, 12))\n",
    "print(array2d)"
   ]
  },
  {
   "cell_type": "code",
   "execution_count": 50,
   "metadata": {},
   "outputs": [
    {
     "name": "stdout",
     "output_type": "stream",
     "text": [
      "8\n",
      "[0 6 2 7]\n",
      "[0 1 2 3 4 5 6 7]\n",
      "[2 3 0 4]\n"
     ]
    }
   ],
   "source": [
    "print(array2d.shape[0])\n",
    "print(np.random.choice(8, 4, replace=False))\n",
    "\n",
    "line_count = np.arange(8)\n",
    "print(line_count)\n",
    "\n",
    "print(np.random.choice(line_count, 4, replace=False))"
   ]
  },
  {
   "cell_type": "code",
   "execution_count": 51,
   "metadata": {},
   "outputs": [
    {
     "name": "stdout",
     "output_type": "stream",
     "text": [
      "Four randomly sampled rows in array2d: \n",
      "[[0 2 3 3 2 6 0 5 1 3 6 5]\n",
      " [3 3 1 2 5 9 0 1 0 1 9 0]\n",
      " [5 1 8 0 5 9 8 5 7 8 5 8]\n",
      " [8 9 9 5 0 2 7 3 0 4 2 0]]\n",
      "Four randomly sampled columns in array2d: \n",
      "[[1 1 1 8]\n",
      " [6 8 6 2]\n",
      " [1 9 1 9]\n",
      " [3 4 3 7]\n",
      " [1 1 1 0]\n",
      " [9 4 9 5]\n",
      " [5 3 5 0]\n",
      " [5 8 5 8]]\n"
     ]
    }
   ],
   "source": [
    "#Here we sample 4 rows\n",
    "idx = np.random.choice(array2d.shape[0], 4)\n",
    "print(\"Four randomly sampled rows in array2d: \\n\" + str(array2d[idx, :]))\n",
    "\n",
    "#Here we sample 4 columns\n",
    "idx = np.random.choice(array2d.shape[1], 4)\n",
    "print(\"Four randomly sampled columns in array2d: \\n\" + str(array2d[:, idx]))\n"
   ]
  },
  {
   "cell_type": "markdown",
   "metadata": {},
   "source": [
    "We can also randomly reshuffle the elements of an array. Be careful, the command `np.random.shuffle` reshuffles the elements along the first axis only. By default, the reshuffling is performed in place:"
   ]
  },
  {
   "cell_type": "code",
   "execution_count": 52,
   "metadata": {},
   "outputs": [
    {
     "name": "stdout",
     "output_type": "stream",
     "text": [
      "[[8 9 2 0 6 7 8 1 7 1 4 0]\n",
      " [8 5 4 7 8 8 2 6 2 8 8 6]\n",
      " [6 5 6 0 0 6 9 1 8 9 1 2]\n",
      " [8 9 9 5 0 2 7 3 0 4 2 0]\n",
      " [3 3 1 2 5 9 0 1 0 1 9 0]\n",
      " [9 2 1 1 0 0 5 9 0 4 6 6]\n",
      " [0 2 3 3 2 6 0 5 1 3 6 5]\n",
      " [5 1 8 0 5 9 8 5 7 8 5 8]]\n",
      "Reshuffled array2d across rows: \n",
      "[[9 2 1 1 0 0 5 9 0 4 6 6]\n",
      " [6 5 6 0 0 6 9 1 8 9 1 2]\n",
      " [0 2 3 3 2 6 0 5 1 3 6 5]\n",
      " [5 1 8 0 5 9 8 5 7 8 5 8]\n",
      " [3 3 1 2 5 9 0 1 0 1 9 0]\n",
      " [8 5 4 7 8 8 2 6 2 8 8 6]\n",
      " [8 9 9 5 0 2 7 3 0 4 2 0]\n",
      " [8 9 2 0 6 7 8 1 7 1 4 0]]\n"
     ]
    }
   ],
   "source": [
    "print(array2d)\n",
    "\n",
    "np.random.shuffle(array2d)\n",
    "\n",
    "print(\"Reshuffled array2d across rows: \\n\" + str(array2d))\n"
   ]
  },
  {
   "cell_type": "code",
   "execution_count": null,
   "metadata": {},
   "outputs": [],
   "source": [
    "# n_rows= array2d.shape[0]\n",
    "# new_idx=np.random.choice()"
   ]
  },
  {
   "cell_type": "markdown",
   "metadata": {},
   "source": [
    "\n",
    "$\\mathbf{Exercise.}$ Write your own reshuffling routine."
   ]
  },
  {
   "cell_type": "markdown",
   "metadata": {},
   "source": [
    "$\\mathbf{Exercise.}$ How would you reshuffle array2d across columns?"
   ]
  },
  {
   "cell_type": "code",
   "execution_count": 64,
   "metadata": {},
   "outputs": [
    {
     "name": "stdout",
     "output_type": "stream",
     "text": [
      "[[5 8 7 5 8 1 5 0 8 9 5 8]\n",
      " [6 8 2 8 6 5 8 7 4 8 8 2]\n",
      " [5 3 1 0 5 2 2 3 3 6 6 0]\n",
      " [1 1 7 8 0 9 6 0 2 7 4 8]\n",
      " [5 2 9 0 0 6 6 1 4 1 9 0]\n",
      " [1 9 8 6 2 5 0 0 6 6 1 9]\n",
      " [1 1 0 3 0 3 5 2 1 9 9 0]\n",
      " [3 4 0 8 0 9 0 5 9 2 2 7]]\n",
      "Reshuffled array2d across columns:\n",
      "[[8 5 8 5 8 1 0 8 5 7 5 9]\n",
      " [6 8 4 6 2 5 7 8 8 2 8 8]\n",
      " [5 6 3 5 0 2 3 3 0 1 2 6]\n",
      " [0 4 2 1 8 9 0 1 8 7 6 7]\n",
      " [0 9 4 5 0 6 1 2 0 9 6 1]\n",
      " [2 1 6 1 9 5 0 9 6 8 0 6]\n",
      " [0 9 1 1 0 3 2 1 3 0 5 9]\n",
      " [0 2 9 3 7 9 5 4 8 0 0 2]]\n"
     ]
    }
   ],
   "source": [
    "print(array2d)\n",
    "arrayt=array2d.transpose()\n",
    "np.random.shuffle(arrayt)\n",
    "print(\"Reshuffled array2d across columns:\")\n",
    "print(arrayt.transpose())"
   ]
  },
  {
   "cell_type": "markdown",
   "metadata": {},
   "source": [
    "## In-depth: how random variables can be generated by a computer program\n",
    "\n",
    "$\\textit{Anyone who considers arithmetical methods of producing random digits is, of course, in a state of sin.}$ (John von Neumann)\n",
    "\n",
    "Generation or simulation of random numbers, using deterministic algorithms, is widely used by statisticians for several purposes. A large number of (pseudo-)random number generators have been studied in the past, starting from very long time ago:\n",
    "\n",
    "``Brother Edvin (a monk), sometime between 1240 and 1250 AD, was preparing a case for the sainthood of King Olaf Haraldsson, who had been the King of Norway. There was a well documented story (that could still be false) that King Olaf and the King of Sweden needed to determine which country owned the Island the Hising. They agreed to determine this by chance. They were using normal 6-sided dice. The King of Sweden rolled two dice and got a 12. Then King Olaf rolled and got a 12 AND one of the dice broke (hence the name of the book) and he got an additional 1 for a 13. Some attributed this event to divine intervention, which strengthened his case for sainthood.’’ (https://blog.computationalcomplexity.org)\n",
    "\n",
    "According to the story, this even motivated Brother Edvin in thinking of an algorithm to generate random numbers in a way that nobody can manipulate them. A very similar algorithm was reproposed by von Neumann in 1946 for creating the so-called middle-square method.  \n",
    "\n",
    "Many mehtods have been proposed since them, and an overview is for example provided in wikipedia:  (https://en.wikipedia.org/wiki/List_of_random_number_generators).\n",
    "\n",
    "In this section we will assume that we can indeed generate random numbers uniformly distributed in the interval $[0,1]$. This actually corresponds to sampling from the uniform distribution $\\mathbf{U}(0,1)$. \n",
    "\n",
    "\n",
    "For the sake of illustration, we will focus on classical examples on the generation of samples from standard distributions, such as Exponential and Gaussian ones. In particular, in what follows we are going to illustrate some classical simulation techniques and of the underlying rationale."
   ]
  },
  {
   "cell_type": "markdown",
   "metadata": {},
   "source": [
    "## Exponential \n",
    "\n",
    "The key property that can be used to sample from the exponential distribution is that the cumulative density function (CDF) $F(X)$ of a random variable $X$ is uniformely distributed $[0,1]$. Therefore, by applying the inverse CDF $F^{-1}$ to our uniform samples we can obtain data with the same distribution of $X$.\n",
    "\n",
    "\n",
    "For the exponential distribution, we can use this property to lead to a very simple generator. Since the probability density function of the exponential distribution is:\n",
    "\n",
    "$$f(x) = \\lambda\\exp(-\\lambda x)$$\n",
    "\n",
    "it follows that the CDF of the exponential with parameter $\\lambda$ is:\n",
    "\n",
    "$$F(x) =  1-\\exp(-\\lambda x).$$\n",
    "\n",
    "The inverse of $F$ can be easily derived:\n",
    "\n",
    "$$F^{-1}(p) = -\\frac{\\log(1 - p)}{\\lambda}.$$\n",
    "\n",
    "Let's verify this empirically:"
   ]
  },
  {
   "cell_type": "code",
   "execution_count": 65,
   "metadata": {},
   "outputs": [
    {
     "data": {
      "image/png": "[encoded data removed]",
      "text/plain": [
       "<Figure size 432x288 with 1 Axes>"
      ]
     },
     "metadata": {
      "needs_background": "light"
     },
     "output_type": "display_data"
    }
   ],
   "source": [
    "l = 1\n",
    "\n",
    "unif_sample = np.random.uniform(0,1,1000)\n",
    "exp_sample = -np.log(1-unif_sample)/l\n",
    "plt.hist(exp_sample, histtype='step', bins=100, density=True, linewidth=2, label = 'random generated data')\n",
    "\n",
    "def exp_pdf(x,l):\n",
    "    return l*np.exp(-x*l)\n",
    "\n",
    "x = np.linspace(0,10)\n",
    "plt.plot(x, exp_pdf(x,l), linewidth=2, label = 'Exponential PDF')\n",
    "plt.legend()\n",
    "plt.title('Generating Exponentially distributed samples')\n",
    "plt.show()\n",
    "\n",
    "\n"
   ]
  },
  {
   "cell_type": "markdown",
   "metadata": {},
   "source": [
    "## Gaussian\n",
    "\n"
   ]
  },
  {
   "cell_type": "markdown",
   "metadata": {},
   "source": [
    "For the Gaussian case, sampling through the coomputation of the inverse CDF is more complicated, as the inverse of the Gaussian CDF cannot be written in closed form. We can however rely on the several available approximations, such as the one provided by H. Shore in 1982:\n",
    "\n",
    "$$F^{-1}(p) \\simeq 5.5556\\left[ 1- \\left(\\frac{1-p}{p}\\right)^{0.1186}\\right], \\qquad p\\geq0.5$$\n",
    "$$F^{-1}(p) \\simeq -5.5556\\left[ 1- \\left(\\frac{p}{1-p}\\right)^{0.1186}\\right], \\qquad p<0.5$$\n",
    "\n",
    "\n",
    "\n",
    "\n",
    "[Haim Shore. Simple Approximations for the Inverse Cumulative Function, the Density Function and the Loss Integral of the Normal Distribution. Journal of the Royal Statistical Society. Series C (Applied Statistics)\n",
    "Vol. 31, No. 2 (1982), pp. 108-114] "
   ]
  },
  {
   "cell_type": "code",
   "execution_count": 66,
   "metadata": {},
   "outputs": [
    {
     "data": {
      "image/png": "[encoded data removed]",
      "text/plain": [
       "<Figure size 432x288 with 1 Axes>"
      ]
     },
     "metadata": {
      "needs_background": "light"
     },
     "output_type": "display_data"
    }
   ],
   "source": [
    "unif_sample = np.random.uniform(0.5,1,1000)\n",
    "\n",
    "def inv_norm_cdf(x):\n",
    "    a = x[:int(len(x)/2)]\n",
    "    b = x[int(len(x)/2):]\n",
    "    z_top = 5.5556 * (1 - np.power((1-a)/a,0.1186))\n",
    "    z_bottom = -5.5556 * (1 - np.power((1-b)/b,0.1186))\n",
    "    return np.hstack([z_top,z_bottom])\n",
    "\n",
    "\n",
    "normal_sample = inv_norm_cdf(unif_sample)\n",
    "\n",
    "plt.hist(normal_sample, histtype='step', bins=100, density=True, linewidth=2, label = 'random generated data')\n",
    "\n",
    "\n",
    "def normal_pdf(x):    \n",
    "    return 1/np.sqrt(2*np.pi)*np.exp(-x**2/2)\n",
    "\n",
    "x = np.linspace(-5,5)\n",
    "plt.plot(x, normal_pdf(x), linewidth=2, label = 'Normal PDF')\n",
    "plt.legend()\n",
    "plt.title('Generating Normal distributed samples')\n",
    "\n",
    "plt.show()\n"
   ]
  },
  {
   "cell_type": "markdown",
   "metadata": {},
   "source": [
    "Sampling can be also obtained by leveraging on other properties of probability models. For example, the central limit theorem states that, for independent and identically distributed random variables $X_1, \\ldots, X_n$ with mean $\\mu$ and variance $\\sigma^2$, their average $S_n = \\frac{X_1 + \\ldots + X_n}{n}$ converges in distribution to the Gaussian according to the following relationhsip:  \n",
    "\n",
    "$$ \\sqrt{n}(S_n - \\mu) \\rightarrow \\mathcal{N}(0,\\sigma^2)$$\n",
    "\n",
    "We can use this relationship to generate standard Gaussian sample from a independent samples from a uniform distribution $\\mathbf{U}(0,1)$. Let $X_1, \\ldots, X_{12}$ be 12 iid samples from $\\mathbf{U}(0,1)$, and $S_{12} = \\frac{X_1 + \\ldots + X_{12}}{12}$. We know that the mean of $\\mathbf{U}(0,1)$ is $\\mu = \\frac{1}{2}$, while the variance is $\\frac{1}{12}$. Therefore, the above relationship writes as:\n",
    "\n",
    "$$ \\sqrt{12}(S_{12} - \\frac{1}{2}) \\rightarrow \\mathcal{N}(0,\\frac{1}{12})$$\n",
    "\n",
    "Thanks to the multiplicative property of the variance of the Gaussian distribution, by multiplying both sides by $\\sqrt{12}$ we obtain:\n",
    "\n",
    "$$ (12 \\cdot S_{12} - 6) \\rightarrow \\mathcal{N}(0,1) \\\\\n",
    "(X_1 + \\ldots + X_{12} - 6) \\rightarrow \\mathcal{N}(0,1) $$\n",
    "\n",
    "This gives us an interesting way to generate Gaussian distributed data from 12 Uniform samples.\n"
   ]
  },
  {
   "cell_type": "code",
   "execution_count": 67,
   "metadata": {},
   "outputs": [
    {
     "name": "stdout",
     "output_type": "stream",
     "text": [
      "12\n",
      "1000\n"
     ]
    }
   ],
   "source": [
    "unif_sample = [ np.random.uniform(0,1,1000) for i in range(12)]\n",
    "\n",
    "print(len(unif_sample))\n",
    "print(len(unif_sample[0]))"
   ]
  },
  {
   "cell_type": "code",
   "execution_count": 69,
   "metadata": {},
   "outputs": [
    {
     "data": {
      "image/png": "[encoded data removed]",
      "text/plain": [
       "<Figure size 432x288 with 1 Axes>"
      ]
     },
     "metadata": {
      "needs_background": "light"
     },
     "output_type": "display_data"
    }
   ],
   "source": [
    "unif_sample = [ np.random.uniform(0,1,1000) for i in range(12)]\n",
    "\n",
    "normal_sample2 = (np.sum(unif_sample,0) - 6)\n",
    "\n",
    "plt.hist(normal_sample2, histtype='step', bins=100, density=True, linewidth=2, label = 'random generated data')\n",
    "\n",
    "\n",
    "plt.plot(x, normal_pdf(x), linewidth=2, label = 'Normal PDF')\n",
    "\n",
    "plt.legend()\n",
    "plt.title('Generating normally distributed samples')\n",
    "\n",
    "plt.show()\n"
   ]
  },
  {
   "cell_type": "markdown",
   "metadata": {},
   "source": [
    "A last general approach consists in the so-called Rejection Sampling procedure. We assume that the PDF $f(x)$ can be computed in closed form. The procedure is as follows:\n",
    "\n",
    "- we identify the max of the PDF: $f_{max}$,\n",
    "- for each data point $x$ we generate random samples uniformly distributed $\\mathbf{U}(0,f_{max})$, \n",
    "- we then record the number of random samples with value lower than $f(x)$, the actual PDF at x.\n",
    "\n",
    "We end up with an histogram associating to each point $x$ the number of elements with relative likelihood approximating $f(x)$.\n"
   ]
  },
  {
   "cell_type": "code",
   "execution_count": 70,
   "metadata": {},
   "outputs": [
    {
     "data": {
      "image/png": "[encoded data removed]",
      "text/plain": [
       "<Figure size 432x288 with 1 Axes>"
      ]
     },
     "metadata": {
      "needs_background": "light"
     },
     "output_type": "display_data"
    }
   ],
   "source": [
    "u = np.random.uniform(-5, 5, 1000) \n",
    "\n",
    "r = np.random.uniform(0, normal_pdf(0), 1000)\n",
    "\n",
    "v = u[r < normal_pdf(u)]\n",
    "\n",
    "plt.hist(v, histtype='step', bins=100, density=True, linewidth=2, label = 'random generated data')\n",
    "plt.plot(x, normal_pdf(x), linewidth=2, label = 'Normal PDF')\n",
    "\n",
    "plt.legend()\n",
    "plt.title('Generating Normal distributed samples')\n",
    "\n",
    "plt.show()\n",
    "\n",
    "\n"
   ]
  },
  {
   "cell_type": "code",
   "execution_count": 61,
   "metadata": {},
   "outputs": [
    {
     "data": {
      "image/png": "[encoded data removed]",
      "text/plain": [
       "<Figure size 432x288 with 1 Axes>"
      ]
     },
     "metadata": {
      "needs_background": "light"
     },
     "output_type": "display_data"
    }
   ],
   "source": [
    "u = np.random.uniform(0, 10, 10000)\n",
    "r = np.random.uniform(0, l, 10000)\n",
    "\n",
    "v = u[r<exp_pdf(u,l)]\n",
    "\n",
    "plt.hist(v, histtype='step', bins=100, density=True, linewidth=2, label = 'random generated data')\n",
    "x = np.linspace(0,10)\n",
    "plt.plot(x, exp_pdf(x,l), linewidth=2, label = 'Exponential PDF')\n",
    "\n",
    "\n",
    "plt.show()"
   ]
  },
  {
   "cell_type": "code",
   "execution_count": null,
   "metadata": {
    "collapsed": true
   },
   "outputs": [],
   "source": []
  },
  {
   "cell_type": "code",
   "execution_count": null,
   "metadata": {
    "collapsed": true
   },
   "outputs": [],
   "source": []
  }
 ],
 "metadata": {
  "anaconda-cloud": {},
  "kernelspec": {
   "display_name": "Python 3 (ipykernel)",
   "language": "python",
   "name": "python3"
  },
  "language_info": {
   "codemirror_mode": {
    "name": "ipython",
    "version": 3
   },
   "file_extension": ".py",
   "mimetype": "text/x-python",
   "name": "python",
   "nbconvert_exporter": "python",
   "pygments_lexer": "ipython3",
   "version": "3.8.12"
  }
 },
 "nbformat": 4,
 "nbformat_minor": 1
}
