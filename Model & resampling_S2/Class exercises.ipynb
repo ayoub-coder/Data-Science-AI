{
 "cells": [
  {
   "cell_type": "markdown",
   "metadata": {},
   "source": [
    "# Class exercises\n",
    "\n",
    "__Exercise 1.__ Suppose a coin is weighted such that, when tossed it comes up heads 70% of times. What is the entropy of this coin?"
   ]
  },
  {
   "cell_type": "code",
   "execution_count": 1,
   "metadata": {},
   "outputs": [
    {
     "data": {
      "text/plain": [
       "-0.6108643020548935"
      ]
     },
     "execution_count": 1,
     "metadata": {},
     "output_type": "execute_result"
    }
   ],
   "source": [
    "import math\n",
    "import numpy as np\n",
    "p = [0.7, 1 - 0.7]\n",
    "p = np.array(p)\n",
    "H = 0 # sum(p * math.log(p[0]))\n",
    "for i in p:\n",
    "    H += i * math.log(i)\n",
    "    \n",
    "H"
   ]
  },
  {
   "cell_type": "markdown",
   "metadata": {},
   "source": [
    "__Exercise 2.__ What is the entropy of a fair dice? "
   ]
  },
  {
   "cell_type": "code",
   "execution_count": 2,
   "metadata": {},
   "outputs": [
    {
     "data": {
      "text/plain": [
       "-1.7917594692280547"
      ]
     },
     "execution_count": 2,
     "metadata": {},
     "output_type": "execute_result"
    }
   ],
   "source": [
    "import math\n",
    "\n",
    "p = [1/6]*6\n",
    "\n",
    "H = 0 # sum(p * math.log(p[0]))\n",
    "H= np.sum([x*np.log(x) for x in p])\n",
    "H"
   ]
  },
  {
   "cell_type": "markdown",
   "metadata": {},
   "source": [
    "__Exercise 3.__ What is the entropy of a dice that shows \n",
    "- \"1\": 20% of times, \n",
    "- \"2\": 10% of times,\n",
    "- \"3\": 5% of times,\n",
    "- \"4\": 20% of times,\n",
    "- \"5\": 30% of times,\n",
    "- \"6\": 15% of times    "
   ]
  },
  {
   "cell_type": "code",
   "execution_count": 3,
   "metadata": {},
   "outputs": [
    {
     "data": {
      "text/plain": [
       "-1.5538167722541274"
      ]
     },
     "execution_count": 3,
     "metadata": {},
     "output_type": "execute_result"
    }
   ],
   "source": [
    "import math\n",
    "\n",
    "p = [0.2,0.1,0.05,0.2,0.3,0.06]\n",
    "\n",
    "H = 0 # sum(p * math.log(p[0]))\n",
    "H= np.sum([x*np.log(x) for x in p])\n",
    "H"
   ]
  },
  {
   "cell_type": "markdown",
   "metadata": {},
   "source": [
    "__Exercise 4.__ Compute the Kullback-Leibler divergence between the dice of Exercise 2 and the dice of Exercise 3."
   ]
  },
  {
   "cell_type": "code",
   "execution_count": 4,
   "metadata": {},
   "outputs": [
    {
     "data": {
      "text/plain": [
       "-0.1221793422466475"
      ]
     },
     "execution_count": 4,
     "metadata": {},
     "output_type": "execute_result"
    }
   ],
   "source": [
    "import math\n",
    "\n",
    "q = [0.2,0.1,0.05,0.2,0.3,0.15]\n",
    "p = [1/6]*6\n",
    "H = 0 # sum(p * math.log(p[0]))\n",
    "H= np.sum([x*np.log(x) for x in p])-np.sum([y*np.log(y) for y in q])\n",
    "H"
   ]
  },
  {
   "cell_type": "markdown",
   "metadata": {},
   "source": [
    "# Assignment 4.2\n",
    "\n",
    "This time we are going to work with the diabetes dataset.\n"
   ]
  },
  {
   "cell_type": "code",
   "execution_count": 5,
   "metadata": {},
   "outputs": [
    {
     "name": "stdout",
     "output_type": "stream",
     "text": [
      ".. _diabetes_dataset:\n",
      "\n",
      "Diabetes dataset\n",
      "----------------\n",
      "\n",
      "Ten baseline variables, age, sex, body mass index, average blood\n",
      "pressure, and six blood serum measurements were obtained for each of n =\n",
      "442 diabetes patients, as well as the response of interest, a\n",
      "quantitative measure of disease progression one year after baseline.\n",
      "\n",
      "**Data Set Characteristics:**\n",
      "\n",
      "  :Number of Instances: 442\n",
      "\n",
      "  :Number of Attributes: First 10 columns are numeric predictive values\n",
      "\n",
      "  :Target: Column 11 is a quantitative measure of disease progression one year after baseline\n",
      "\n",
      "  :Attribute Information:\n",
      "      - age     age in years\n",
      "      - sex\n",
      "      - bmi     body mass index\n",
      "      - bp      average blood pressure\n",
      "      - s1      tc, total serum cholesterol\n",
      "      - s2      ldl, low-density lipoproteins\n",
      "      - s3      hdl, high-density lipoproteins\n",
      "      - s4      tch, total cholesterol / HDL\n",
      "      - s5      ltg, possibly log of serum triglycerides level\n",
      "      - s6      glu, blood sugar level\n",
      "\n",
      "Note: Each of these 10 feature variables have been mean centered and scaled by the standard deviation times `n_samples` (i.e. the sum of squares of each column totals 1).\n",
      "\n",
      "Source URL:\n",
      "https://www4.stat.ncsu.edu/~boos/var.select/diabetes.html\n",
      "\n",
      "For more information see:\n",
      "Bradley Efron, Trevor Hastie, Iain Johnstone and Robert Tibshirani (2004) \"Least Angle Regression,\" Annals of Statistics (with discussion), 407-499.\n",
      "(https://web.stanford.edu/~hastie/Papers/LARS/LeastAngle_2002.pdf)\n"
     ]
    }
   ],
   "source": [
    "from sklearn import datasets \n",
    "import numpy as np\n",
    "import matplotlib.pyplot as plt\n",
    "\n",
    "dataset = datasets.load_diabetes(return_X_y=False)\n",
    "print(dataset.DESCR)"
   ]
  },
  {
   "cell_type": "code",
   "execution_count": 6,
   "metadata": {},
   "outputs": [],
   "source": [
    "# Define the feature matrix\n",
    "data = dataset.data\n",
    "# Define the target\n",
    "target = dataset.target"
   ]
  },
  {
   "cell_type": "code",
   "execution_count": 7,
   "metadata": {},
   "outputs": [
    {
     "data": {
      "image/png": "[encoded data removed]",
      "text/plain": [
       "<Figure size 432x288 with 1 Axes>"
      ]
     },
     "metadata": {
      "needs_background": "light"
     },
     "output_type": "display_data"
    }
   ],
   "source": [
    "plt.scatter(data[:,2], data[:,9])\n",
    "plt.xlabel('BMI')\n",
    "plt.ylabel('S6')\n",
    "plt.show()"
   ]
  },
  {
   "cell_type": "markdown",
   "metadata": {},
   "source": [
    "__Exercise 1.__ Investigate the relationship between body mass index (data[:,2]) and S6 (data[:,9]). By using the AIC score seen during lesson, can you verify which hypothesis is better supported by the data?\n",
    "\n",
    "- there is no relationship (constant)\n",
    "- the relationship is linear\n",
    "- the relationship is quadratic\n",
    "- the relationship is cubic\n",
    "- the relationship is polynomial of order 4"
   ]
  },
  {
   "cell_type": "markdown",
   "metadata": {},
   "source": [
    "__Exercise 2.__ Repeat the exercise by using the BIC. Discuss the differences in the results, if any."
   ]
  },
  {
   "cell_type": "code",
   "execution_count": 8,
   "metadata": {},
   "outputs": [
    {
     "data": {
      "text/plain": [
       "<matplotlib.collections.PathCollection at 0x119ece96e80>"
      ]
     },
     "execution_count": 8,
     "metadata": {},
     "output_type": "execute_result"
    },
    {
     "data": {
      "image/png": "[encoded data removed]",
      "text/plain": [
       "<Figure size 432x288 with 1 Axes>"
      ]
     },
     "metadata": {
      "needs_background": "light"
     },
     "output_type": "display_data"
    }
   ],
   "source": [
    "x= data[:,2]\n",
    "sigma= 10\n",
    "\n",
    "y= data[:,9]\n",
    "plt.scatter(x,y)"
   ]
  },
  {
   "cell_type": "markdown",
   "metadata": {},
   "source": [
    "## Linear relationship"
   ]
  },
  {
   "cell_type": "code",
   "execution_count": 9,
   "metadata": {},
   "outputs": [
    {
     "data": {
      "text/plain": [
       "755.2042674234679"
      ]
     },
     "execution_count": 9,
     "metadata": {},
     "output_type": "execute_result"
    }
   ],
   "source": [
    "def Gaussian_loglik(x,y,w,sigma2):\n",
    "    N = len(y)\n",
    "    ll = -N/2 * np.log(2*np.pi*sigma2) - 1/(2*sigma2) * np.sum((y-x.dot(w.T))**2)\n",
    "    return ll\n",
    "\n",
    "def fit_poly(x,y,d):\n",
    "    w_ml = np.linalg.solve(x.T.dot(x),x.T.dot(y))\n",
    "    w_ml.reshape(1,(len(w_ml)))\n",
    "    sigma2_ml = np.mean((y-x.dot(w_ml.T))**2)\n",
    "    return w_ml, sigma2_ml\n",
    "\n",
    "d=2\n",
    "x_poly = np.array([x**i for i in range(d)]).T\n",
    "w_ml, sigma2_ml = fit_poly(x_poly,y,d)\n",
    "training_linear_ll= Gaussian_loglik(x_poly,y,w_ml,sigma2_ml)\n",
    "training_linear_ll"
   ]
  },
  {
   "cell_type": "code",
   "execution_count": 10,
   "metadata": {},
   "outputs": [
    {
     "data": {
      "text/plain": [
       "-1506.4085348469357"
      ]
     },
     "execution_count": 10,
     "metadata": {},
     "output_type": "execute_result"
    }
   ],
   "source": [
    "deviance_linear=-2*training_linear_ll\n",
    "AIC_linear=deviance_linear+2*d\n",
    "AIC_linear"
   ]
  },
  {
   "cell_type": "markdown",
   "metadata": {},
   "source": [
    "## Quadratic relationship"
   ]
  },
  {
   "cell_type": "code",
   "execution_count": 11,
   "metadata": {},
   "outputs": [
    {
     "data": {
      "text/plain": [
       "757.683770200047"
      ]
     },
     "execution_count": 11,
     "metadata": {},
     "output_type": "execute_result"
    }
   ],
   "source": [
    "d=3\n",
    "x_poly = np.array([x**i for i in range(d)]).T\n",
    "w_quadratic, sigma2_qqml = fit_poly(x_poly,y,d)\n",
    "training_qq_ll= Gaussian_loglik(x_poly,y,w_quadratic,sigma2_qqml)\n",
    "training_qq_ll"
   ]
  },
  {
   "cell_type": "code",
   "execution_count": 12,
   "metadata": {},
   "outputs": [
    {
     "data": {
      "text/plain": [
       "-1509.367540400094"
      ]
     },
     "execution_count": 12,
     "metadata": {},
     "output_type": "execute_result"
    }
   ],
   "source": [
    "deviance_quadratic=-2*training_qq_ll\n",
    "AIC_quadratic=deviance_quadratic+2*d\n",
    "AIC_quadratic"
   ]
  },
  {
   "cell_type": "markdown",
   "metadata": {},
   "source": [
    "## Cubic relationship"
   ]
  },
  {
   "cell_type": "code",
   "execution_count": 13,
   "metadata": {},
   "outputs": [
    {
     "data": {
      "text/plain": [
       "757.8083685787344"
      ]
     },
     "execution_count": 13,
     "metadata": {},
     "output_type": "execute_result"
    }
   ],
   "source": [
    "d=4\n",
    "x_poly = np.array([x**i for i in range(d)]).T\n",
    "w_cubic, sigma2_cubic = fit_poly(x_poly,y,d)\n",
    "training_cc= Gaussian_loglik(x_poly,y,w_cubic,sigma2_cubic)\n",
    "training_cc"
   ]
  },
  {
   "cell_type": "code",
   "execution_count": 14,
   "metadata": {},
   "outputs": [
    {
     "data": {
      "text/plain": [
       "-1507.6167371574688"
      ]
     },
     "execution_count": 14,
     "metadata": {},
     "output_type": "execute_result"
    }
   ],
   "source": [
    "deviance_cc=-2*training_cc\n",
    "AIC_cubic=deviance_cc+2*d\n",
    "AIC_cubic"
   ]
  },
  {
   "cell_type": "markdown",
   "metadata": {},
   "source": [
    "## Polynomial order 4"
   ]
  },
  {
   "cell_type": "code",
   "execution_count": 15,
   "metadata": {},
   "outputs": [
    {
     "data": {
      "text/plain": [
       "758.5889364777697"
      ]
     },
     "execution_count": 15,
     "metadata": {},
     "output_type": "execute_result"
    }
   ],
   "source": [
    "d=5\n",
    "x_poly = np.array([x**i for i in range(d)]).T\n",
    "w_pol, sigma2_pol = fit_poly(x_poly,y,d)\n",
    "training_pol= Gaussian_loglik(x_poly,y,w_pol,sigma2_pol)\n",
    "training_pol"
   ]
  },
  {
   "cell_type": "code",
   "execution_count": 16,
   "metadata": {},
   "outputs": [
    {
     "data": {
      "text/plain": [
       "-1507.1778729555394"
      ]
     },
     "execution_count": 16,
     "metadata": {},
     "output_type": "execute_result"
    }
   ],
   "source": [
    "deviance_pol=-2*training_pol\n",
    "AIC_pol=deviance_pol+2*d\n",
    "AIC_pol"
   ]
  },
  {
   "cell_type": "code",
   "execution_count": 17,
   "metadata": {},
   "outputs": [],
   "source": [
    "def fit_poly(x,y):\n",
    "    w_ml = np.linalg.solve(x.T.dot(x),x.T.dot(y))\n",
    "    w_ml.reshape(1,(len(w_ml)))\n",
    "    sigma2_ml = np.mean((y-x.dot(w_ml.T))**2)\n",
    "    return w_ml, sigma2_ml\n",
    "\n",
    "def compute_ll(x,y,w,sigma2):\n",
    "    predicted= x.dot(w)\n",
    "    N=x.shape[0]\n",
    "    gaussian_ll=N/2*np.log(2*3.14*sigma2)+np.sum((y-predicted)**2)/(2*sigma2)\n",
    "    return 2*gaussian_ll"
   ]
  },
  {
   "cell_type": "code",
   "execution_count": 18,
   "metadata": {},
   "outputs": [
    {
     "data": {
      "text/plain": [
       "([-1438.2414365060806,\n",
       "  -1510.6326668276588,\n",
       "  -1515.591672380817,\n",
       "  -1515.840869138192,\n",
       "  -1517.4020049362625],\n",
       " [-1436.2414365060806,\n",
       "  -1506.6326668276588,\n",
       "  -1509.591672380817,\n",
       "  -1507.840869138192,\n",
       "  -1507.4020049362625],\n",
       " [-1438.2414365060806,\n",
       "  -1498.4500470635035,\n",
       "  -1491.2264328525062,\n",
       "  -1479.2930098457257,\n",
       "  -1468.671525879641])"
      ]
     },
     "execution_count": 18,
     "metadata": {},
     "output_type": "execute_result"
    }
   ],
   "source": [
    "x= data[:,2]\n",
    "y=data[:,9]\n",
    "\n",
    "degrees=[0,1,2,3,4]\n",
    "list_deviance=[]\n",
    "list_aaic=[]\n",
    "list_bic=[]\n",
    "for d in degrees :\n",
    "    poly_expanded= np.array([x**i for i in range(d+1)]).T\n",
    "    solution= fit_poly(poly_expanded,y)\n",
    "    deviance= compute_ll(poly_expanded,y,solution[0],solution[1])\n",
    "    list_deviance.append(deviance)\n",
    "    list_aaic.append(deviance+2*(d+1))\n",
    "    list_bic.append(deviance+2*d*np.log(poly_expanded.shape[0]))\n",
    "list_deviance, list_aaic,list_bic"
   ]
  },
  {
   "cell_type": "code",
   "execution_count": 19,
   "metadata": {},
   "outputs": [
    {
     "data": {
      "text/plain": [
       "[<matplotlib.lines.Line2D at 0x119ed7a0160>]"
      ]
     },
     "execution_count": 19,
     "metadata": {},
     "output_type": "execute_result"
    },
    {
     "data": {
      "image/png": "[encoded data removed]",
      "text/plain": [
       "<Figure size 432x288 with 1 Axes>"
      ]
     },
     "metadata": {
      "needs_background": "light"
     },
     "output_type": "display_data"
    }
   ],
   "source": [
    "plt.plot(list_deviance, label=\"deviance\") #answer with graphs AIC and BIC\n",
    "plt.plot(list_aaic,label=\"aic\") #when AIC is dcreasing means there is strong relationship btw the features\n",
    "plt.plot(list_bic,label=\"bic\")"
   ]
  },
  {
   "cell_type": "markdown",
   "metadata": {},
   "source": [
    "__Exercise 3.__ Which model would you support between the following:\n",
    "\n",
    "- target depends on _Age_\n",
    "- target depends on _Age_ and _Sex_\n",
    "- target depends on _Age_ and _Body mass index_ \n",
    "- target depends on _Age_ and _Body mass index_ and _Average blood pressure_\n",
    "- target depends on _Age_ and _Sex_ and _Body mass index_ \n",
    "- target depends on _Age_ and _Sex_ and _Body mass index_ and _Average blood pressure_\n",
    "- target depends on  _Body mass index_ and _Average blood pressure_\n",
    "\n",
    "Use any metric (or more metrics) at your discretion, and comment the results"
   ]
  },
  {
   "cell_type": "code",
   "execution_count": 20,
   "metadata": {},
   "outputs": [
    {
     "data": {
      "text/plain": [
       "(array([5793.85406852]), array([5795.85406852]))"
      ]
     },
     "execution_count": 20,
     "metadata": {},
     "output_type": "execute_result"
    }
   ],
   "source": [
    "x_1=data[:,:1]#target depends on Age\n",
    "y=target\n",
    "\n",
    "loglik = []\n",
    "w_ml, sigma2_ml= fit_poly(x_1,y)\n",
    "loglik.append(Gaussian_loglik(x_1,y,w_ml,sigma2_ml))\n",
    "deviance = -2*np.array(loglik)\n",
    "AIC=deviance+2*x_1.shape[1]\n",
    "deviance, AIC"
   ]
  },
  {
   "cell_type": "code",
   "execution_count": 21,
   "metadata": {},
   "outputs": [
    {
     "data": {
      "text/plain": [
       "(array([5793.84390505]), array([5797.84390505]))"
      ]
     },
     "execution_count": 21,
     "metadata": {},
     "output_type": "execute_result"
    }
   ],
   "source": [
    "x_1=data[:,:2] #target depends on Age and Sex\n",
    "y=target\n",
    "\n",
    "loglik = []\n",
    "w_ml, sigma2_ml= fit_poly(x_1,y)\n",
    "loglik.append(Gaussian_loglik(x_1,y,w_ml,sigma2_ml))\n",
    "deviance = -2*np.array(loglik)\n",
    "AIC=deviance+2*x_1.shape[1]\n",
    "deviance, AIC"
   ]
  },
  {
   "cell_type": "code",
   "execution_count": 22,
   "metadata": {},
   "outputs": [
    {
     "data": {
      "text/plain": [
       "(array([5793.84390505]), array([5797.84390505]))"
      ]
     },
     "execution_count": 22,
     "metadata": {},
     "output_type": "execute_result"
    }
   ],
   "source": [
    "data[:,[0,2]]#target depends on Age and  body mass index\n",
    "y=target\n",
    "\n",
    "loglik = []\n",
    "w_ml, sigma2_ml= fit_poly(x_1,y)\n",
    "loglik.append(Gaussian_loglik(x_1,y,w_ml,sigma2_ml))\n",
    "deviance = -2*np.array(loglik)\n",
    "AIC=deviance+2*x_1.shape[1]\n",
    "deviance, AIC"
   ]
  },
  {
   "cell_type": "code",
   "execution_count": 23,
   "metadata": {},
   "outputs": [
    {
     "data": {
      "text/plain": [
       "(array([5793.84390505]), array([5797.84390505]))"
      ]
     },
     "execution_count": 23,
     "metadata": {},
     "output_type": "execute_result"
    }
   ],
   "source": [
    "data[:,[0,2,3]]#target depends on Age and  body mass index and Average blood pressure\n",
    "y=target\n",
    "\n",
    "loglik = []\n",
    "w_ml, sigma2_ml= fit_poly(x_1,y)\n",
    "loglik.append(Gaussian_loglik(x_1,y,w_ml,sigma2_ml))\n",
    "deviance = -2*np.array(loglik)\n",
    "AIC=deviance+2*x_1.shape[1]\n",
    "deviance, AIC"
   ]
  },
  {
   "cell_type": "code",
   "execution_count": 24,
   "metadata": {},
   "outputs": [
    {
     "data": {
      "text/plain": [
       "(array([5793.84390505]), array([5797.84390505]))"
      ]
     },
     "execution_count": 24,
     "metadata": {},
     "output_type": "execute_result"
    }
   ],
   "source": [
    "data[:,[0,1,2]]#target depends on Age and Sex and Body mass index\n",
    "y=target\n",
    "\n",
    "loglik = []\n",
    "w_ml, sigma2_ml= fit_poly(x_1,y)\n",
    "loglik.append(Gaussian_loglik(x_1,y,w_ml,sigma2_ml))\n",
    "deviance = -2*np.array(loglik)\n",
    "AIC=deviance+2*x_1.shape[1]\n",
    "deviance, AIC"
   ]
  },
  {
   "cell_type": "code",
   "execution_count": null,
   "metadata": {},
   "outputs": [],
   "source": []
  }
 ],
 "metadata": {
  "anaconda-cloud": {},
  "kernelspec": {
   "display_name": "Python 3 (ipykernel)",
   "language": "python",
   "name": "python3"
  },
  "language_info": {
   "codemirror_mode": {
    "name": "ipython",
    "version": 3
   },
   "file_extension": ".py",
   "mimetype": "text/x-python",
   "name": "python",
   "nbconvert_exporter": "python",
   "pygments_lexer": "ipython3",
   "version": "3.8.12"
  }
 },
 "nbformat": 4,
 "nbformat_minor": 1
}
