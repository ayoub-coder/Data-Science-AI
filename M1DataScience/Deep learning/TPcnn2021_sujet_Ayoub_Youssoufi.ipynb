{
  "cells": [
    {
      "cell_type": "markdown",
      "metadata": {
        "id": "rfp1U9PMeQU1"
      },
      "source": [
        "\n",
        "# TP CNN\n",
        "### Diane LINGRAND \n",
        "\n",
        "diane.lingrand@univ-cotedazur.fr   \n",
        "2021-2022"
      ]
    },
    {
      "cell_type": "code",
      "source": [
        "pip install tensorflow"
      ],
      "metadata": {
        "id": "6am6pahn0HrL",
        "outputId": "a7bae70b-0d4e-45a3-9eb0-696622083c51",
        "colab": {
          "base_uri": "https://localhost:8080/"
        }
      },
      "execution_count": 1,
      "outputs": [
        {
          "output_type": "stream",
          "name": "stdout",
          "text": [
            "Requirement already satisfied: tensorflow in /usr/local/lib/python3.7/dist-packages (2.8.0)\n",
            "Requirement already satisfied: h5py>=2.9.0 in /usr/local/lib/python3.7/dist-packages (from tensorflow) (3.1.0)\n",
            "Requirement already satisfied: flatbuffers>=1.12 in /usr/local/lib/python3.7/dist-packages (from tensorflow) (2.0)\n",
            "Requirement already satisfied: tensorboard<2.9,>=2.8 in /usr/local/lib/python3.7/dist-packages (from tensorflow) (2.8.0)\n",
            "Requirement already satisfied: keras-preprocessing>=1.1.1 in /usr/local/lib/python3.7/dist-packages (from tensorflow) (1.1.2)\n",
            "Requirement already satisfied: google-pasta>=0.1.1 in /usr/local/lib/python3.7/dist-packages (from tensorflow) (0.2.0)\n",
            "Requirement already satisfied: libclang>=9.0.1 in /usr/local/lib/python3.7/dist-packages (from tensorflow) (13.0.0)\n",
            "Requirement already satisfied: grpcio<2.0,>=1.24.3 in /usr/local/lib/python3.7/dist-packages (from tensorflow) (1.43.0)\n",
            "Requirement already satisfied: six>=1.12.0 in /usr/local/lib/python3.7/dist-packages (from tensorflow) (1.15.0)\n",
            "Collecting tf-estimator-nightly==2.8.0.dev2021122109\n",
            "  Downloading tf_estimator_nightly-2.8.0.dev2021122109-py2.py3-none-any.whl (462 kB)\n",
            "\u001b[K     |████████████████████████████████| 462 kB 15.9 MB/s \n",
            "\u001b[?25hRequirement already satisfied: gast>=0.2.1 in /usr/local/lib/python3.7/dist-packages (from tensorflow) (0.5.3)\n",
            "Requirement already satisfied: wrapt>=1.11.0 in /usr/local/lib/python3.7/dist-packages (from tensorflow) (1.13.3)\n",
            "Requirement already satisfied: numpy>=1.20 in /usr/local/lib/python3.7/dist-packages (from tensorflow) (1.21.5)\n",
            "Requirement already satisfied: tensorflow-io-gcs-filesystem>=0.23.1 in /usr/local/lib/python3.7/dist-packages (from tensorflow) (0.24.0)\n",
            "Requirement already satisfied: absl-py>=0.4.0 in /usr/local/lib/python3.7/dist-packages (from tensorflow) (1.0.0)\n",
            "Requirement already satisfied: astunparse>=1.6.0 in /usr/local/lib/python3.7/dist-packages (from tensorflow) (1.6.3)\n",
            "Requirement already satisfied: termcolor>=1.1.0 in /usr/local/lib/python3.7/dist-packages (from tensorflow) (1.1.0)\n",
            "Requirement already satisfied: protobuf>=3.9.2 in /usr/local/lib/python3.7/dist-packages (from tensorflow) (3.17.3)\n",
            "Requirement already satisfied: keras<2.9,>=2.8.0rc0 in /usr/local/lib/python3.7/dist-packages (from tensorflow) (2.8.0)\n",
            "Requirement already satisfied: setuptools in /usr/local/lib/python3.7/dist-packages (from tensorflow) (57.4.0)\n",
            "Requirement already satisfied: opt-einsum>=2.3.2 in /usr/local/lib/python3.7/dist-packages (from tensorflow) (3.3.0)\n",
            "Requirement already satisfied: typing-extensions>=3.6.6 in /usr/local/lib/python3.7/dist-packages (from tensorflow) (3.10.0.2)\n",
            "Requirement already satisfied: wheel<1.0,>=0.23.0 in /usr/local/lib/python3.7/dist-packages (from astunparse>=1.6.0->tensorflow) (0.37.1)\n",
            "Requirement already satisfied: cached-property in /usr/local/lib/python3.7/dist-packages (from h5py>=2.9.0->tensorflow) (1.5.2)\n",
            "Requirement already satisfied: google-auth<3,>=1.6.3 in /usr/local/lib/python3.7/dist-packages (from tensorboard<2.9,>=2.8->tensorflow) (1.35.0)\n",
            "Requirement already satisfied: werkzeug>=0.11.15 in /usr/local/lib/python3.7/dist-packages (from tensorboard<2.9,>=2.8->tensorflow) (1.0.1)\n",
            "Requirement already satisfied: requests<3,>=2.21.0 in /usr/local/lib/python3.7/dist-packages (from tensorboard<2.9,>=2.8->tensorflow) (2.23.0)\n",
            "Requirement already satisfied: markdown>=2.6.8 in /usr/local/lib/python3.7/dist-packages (from tensorboard<2.9,>=2.8->tensorflow) (3.3.6)\n",
            "Requirement already satisfied: google-auth-oauthlib<0.5,>=0.4.1 in /usr/local/lib/python3.7/dist-packages (from tensorboard<2.9,>=2.8->tensorflow) (0.4.6)\n",
            "Requirement already satisfied: tensorboard-plugin-wit>=1.6.0 in /usr/local/lib/python3.7/dist-packages (from tensorboard<2.9,>=2.8->tensorflow) (1.8.1)\n",
            "Requirement already satisfied: tensorboard-data-server<0.7.0,>=0.6.0 in /usr/local/lib/python3.7/dist-packages (from tensorboard<2.9,>=2.8->tensorflow) (0.6.1)\n",
            "Requirement already satisfied: rsa<5,>=3.1.4 in /usr/local/lib/python3.7/dist-packages (from google-auth<3,>=1.6.3->tensorboard<2.9,>=2.8->tensorflow) (4.8)\n",
            "Requirement already satisfied: cachetools<5.0,>=2.0.0 in /usr/local/lib/python3.7/dist-packages (from google-auth<3,>=1.6.3->tensorboard<2.9,>=2.8->tensorflow) (4.2.4)\n",
            "Requirement already satisfied: pyasn1-modules>=0.2.1 in /usr/local/lib/python3.7/dist-packages (from google-auth<3,>=1.6.3->tensorboard<2.9,>=2.8->tensorflow) (0.2.8)\n",
            "Requirement already satisfied: requests-oauthlib>=0.7.0 in /usr/local/lib/python3.7/dist-packages (from google-auth-oauthlib<0.5,>=0.4.1->tensorboard<2.9,>=2.8->tensorflow) (1.3.1)\n",
            "Requirement already satisfied: importlib-metadata>=4.4 in /usr/local/lib/python3.7/dist-packages (from markdown>=2.6.8->tensorboard<2.9,>=2.8->tensorflow) (4.11.1)\n",
            "Requirement already satisfied: zipp>=0.5 in /usr/local/lib/python3.7/dist-packages (from importlib-metadata>=4.4->markdown>=2.6.8->tensorboard<2.9,>=2.8->tensorflow) (3.7.0)\n",
            "Requirement already satisfied: pyasn1<0.5.0,>=0.4.6 in /usr/local/lib/python3.7/dist-packages (from pyasn1-modules>=0.2.1->google-auth<3,>=1.6.3->tensorboard<2.9,>=2.8->tensorflow) (0.4.8)\n",
            "Requirement already satisfied: certifi>=2017.4.17 in /usr/local/lib/python3.7/dist-packages (from requests<3,>=2.21.0->tensorboard<2.9,>=2.8->tensorflow) (2021.10.8)\n",
            "Requirement already satisfied: idna<3,>=2.5 in /usr/local/lib/python3.7/dist-packages (from requests<3,>=2.21.0->tensorboard<2.9,>=2.8->tensorflow) (2.10)\n",
            "Requirement already satisfied: urllib3!=1.25.0,!=1.25.1,<1.26,>=1.21.1 in /usr/local/lib/python3.7/dist-packages (from requests<3,>=2.21.0->tensorboard<2.9,>=2.8->tensorflow) (1.24.3)\n",
            "Requirement already satisfied: chardet<4,>=3.0.2 in /usr/local/lib/python3.7/dist-packages (from requests<3,>=2.21.0->tensorboard<2.9,>=2.8->tensorflow) (3.0.4)\n",
            "Requirement already satisfied: oauthlib>=3.0.0 in /usr/local/lib/python3.7/dist-packages (from requests-oauthlib>=0.7.0->google-auth-oauthlib<0.5,>=0.4.1->tensorboard<2.9,>=2.8->tensorflow) (3.2.0)\n",
            "Installing collected packages: tf-estimator-nightly\n",
            "Successfully installed tf-estimator-nightly-2.8.0.dev2021122109\n"
          ]
        }
      ]
    },
    {
      "cell_type": "markdown",
      "metadata": {
        "id": "uo8ucmMpgEp9"
      },
      "source": [
        "## Introduction"
      ]
    },
    {
      "cell_type": "code",
      "execution_count": 2,
      "metadata": {
        "ExecuteTime": {
          "end_time": "2021-11-27T16:15:27.613140Z",
          "start_time": "2021-11-27T16:15:27.605763Z"
        },
        "id": "68uwyRRi4BMK"
      },
      "outputs": [],
      "source": [
        "from IPython.display import Image\n",
        "import tensorflow as tf\n",
        "# print(tensorflow.__version__)\n",
        "import tensorflow.keras\n",
        "from tensorflow.keras.models import Sequential\n",
        "from tensorflow.keras.layers import Dense, Conv2D, Activation\n",
        "import matplotlib.pyplot as plt\n"
      ]
    },
    {
      "cell_type": "markdown",
      "metadata": {
        "id": "ZMrLWuFy9gn7"
      },
      "source": [
        "**The GPU**\n",
        "\n"
      ]
    },
    {
      "cell_type": "markdown",
      "metadata": {
        "id": "TO0xCfDwz-zT"
      },
      "source": [
        "To enable GPU backend in Google colab for your notebook:\n",
        "\n",
        "1.   Runtime (top left corner) -> Change runtime type\n",
        "2.   Put GPU as \"Hardware accelerator\"\n",
        "3.   Save.\n",
        "\n",
        "Or run the next cell:"
      ]
    },
    {
      "cell_type": "code",
      "execution_count": 3,
      "metadata": {
        "ExecuteTime": {
          "end_time": "2021-11-27T16:01:19.986158Z",
          "start_time": "2021-11-27T16:01:19.712649Z"
        },
        "id": "9VYxsk5_z4vZ"
      },
      "outputs": [],
      "source": [
        "# device_name = tf.test.gpu_device_name()\n",
        "# if device_name != '/device:GPU:0':\n",
        "#     raise SystemError('GPU device not found')\n",
        "# print('Found GPU at: {}'.format(device_name))\n"
      ]
    },
    {
      "cell_type": "markdown",
      "metadata": {
        "id": "hHU7TK6FrHao"
      },
      "source": [
        "## Convolutional Neural Networks (CNN)"
      ]
    },
    {
      "cell_type": "markdown",
      "metadata": {
        "id": "eP0L5uYbfAzC"
      },
      "source": [
        "Derived from the MLP, a convolutional neural network (CNN) is a type of artificial neural network that is specifically designed to process **pixel data**.  The layers of a CNN consist of an **input layer**, an **output layer** and **hidden layers** that can include **convolutional layers**, **pooling layers**, **fully connected layers** and **normalization layers**. It exists a lot of techniques to optimize CNN, like for example the dropout."
      ]
    },
    {
      "cell_type": "markdown",
      "metadata": {
        "id": "bfCDrvt8qQPY"
      },
      "source": [
        "### Loading the dataset\n",
        "In this part, we will use photographies of animals from the kaggle dataset [animals-10](https://www.kaggle.com/alessiocorrado99/animals10). Please connect to their site before loading the dataset from this [zip file](http://www.i3s.unice.fr/~lingrand/raw-img.zip). Decompress the zip file on your disk.\n",
        "\n",
        "If you are using google colab, there is no need to download the dataset because I have a copy on my drive. You just need add to your drive this shared folder: https://drive.google.com/drive/folders/15cB1Ky-7OTUqfcQDZZyzc5HArt0GA6Sm?usp=sharing\n",
        "You need to click on the link and click on \"Add shortcut to Drive\" and then select \"My Drive\"."
      ]
    },
    {
      "cell_type": "code",
      "execution_count": 4,
      "metadata": {
        "id": "czhek0s_z4va",
        "colab": {
          "base_uri": "https://localhost:8080/"
        },
        "outputId": "06ab9d45-4bbf-464e-f6c6-76975ba16ce3"
      },
      "outputs": [
        {
          "output_type": "stream",
          "name": "stdout",
          "text": [
            "Mounted at /content/drive/\n"
          ]
        }
      ],
      "source": [
        "from google.colab import drive\n",
        "drive.mount('/content/drive/')"
      ]
    },
    {
      "cell_type": "markdown",
      "metadata": {
        "id": "RM78thFqt-ZY"
      },
      "source": [
        "To feed the data to a CNN, we need to shape it as required by Keras. As input, a 2D convolutional layer needs a **4D tensor** with shape: **(batch, rows, cols, channels)**. Therefore, we need to precise the \"channels\" axis, which can be seen as the number of level of color of each input: 3 channels in our case. We will fix the dimension of images according to the VGG-16 network: (224, 224).\n"
      ]
    },
    {
      "cell_type": "code",
      "execution_count": 5,
      "metadata": {
        "ExecuteTime": {
          "end_time": "2021-11-27T16:17:51.518829Z",
          "start_time": "2021-11-27T16:17:51.401963Z"
        },
        "id": "i_yPS5rYF1Sk"
      },
      "outputs": [],
      "source": [
        "from tensorflow.keras.applications.vgg16 import VGG16\n",
        "from tensorflow.keras.preprocessing import image\n",
        "from tensorflow.keras.applications.vgg16 import preprocess_input\n",
        "from tensorflow.keras.models import Model, Sequential\n",
        "from tensorflow.keras.layers import Dense, GlobalAveragePooling2D, MaxPooling2D, Flatten\n",
        "from sklearn.metrics import confusion_matrix, plot_confusion_matrix, f1_score\n",
        "import tensorflow.keras\n",
        "from tensorflow.keras.callbacks import EarlyStopping\n",
        "import numpy as np\n",
        "import glob\n",
        "# when processing time is long, it's nice to see the progress bar\n",
        "#!pip install tqdm\n",
        "from tqdm import tqdm"
      ]
    },
    {
      "cell_type": "markdown",
      "metadata": {
        "id": "IzHkKLqlZPn3"
      },
      "source": [
        "### loading train data\n",
        "\n",
        "Please read the code before running any of the cells!"
      ]
    },
    {
      "cell_type": "code",
      "execution_count": 6,
      "metadata": {
        "ExecuteTime": {
          "end_time": "2021-11-27T16:18:22.601760Z",
          "start_time": "2021-11-27T16:18:16.102817Z"
        },
        "id": "xkVd3v4N3LnB",
        "colab": {
          "base_uri": "https://localhost:8080/"
        },
        "outputId": "f116c8fc-8bdf-41df-a1e0-2f9fe33d98bc"
      },
      "outputs": [
        {
          "output_type": "stream",
          "name": "stderr",
          "text": [
            "100%|██████████| 200/200 [00:12<00:00, 15.92it/s]\n",
            "100%|██████████| 200/200 [00:09<00:00, 20.57it/s] \n",
            "100%|██████████| 200/200 [00:11<00:00, 17.85it/s] "
          ]
        },
        {
          "output_type": "stream",
          "name": "stdout",
          "text": [
            "600\n",
            "(600, 224, 224, 3)\n"
          ]
        },
        {
          "output_type": "stream",
          "name": "stderr",
          "text": [
            "\n"
          ]
        }
      ],
      "source": [
        "# datasetRoot='/home/lingrand/Ens/MachineLearning/animals/raw-img/'\n",
        "#datasetRoot='/whereYouPutTheImages/'\n",
        "datasetRoot='/content/drive/My Drive/raw-img/'\n",
        "# I suggest to reduce the number of classes for a first trial. \n",
        "# If you finish this notebook before the end of the course, you can add more classes (and images per class).\n",
        "classes = ['mucca', 'elefante', 'gatto'] #, 'cavallo', 'scoiattolo', 'ragno', 'pecora', 'farfalla', 'gallina', 'cane']\n",
        "nbClasses = len(classes)\n",
        "\n",
        "#training data\n",
        "\n",
        "rootTrain = datasetRoot+'train/'\n",
        "classLabel = 0\n",
        "reducedSizePerClass = 200 #in order to reduce the number of images per class\n",
        "totalImg = nbClasses * reducedSizePerClass\n",
        "xTrain = np.empty(shape=(totalImg,224,224,3))\n",
        "yTrain = []\n",
        "first = True\n",
        "i= 0\n",
        "for cl in classes:\n",
        "    listImages = glob.glob(rootTrain+cl+'/*')\n",
        "    yTrain += [classLabel]*reducedSizePerClass #len(listImages) # note that here ...\n",
        "    for pathImg in tqdm(listImages[:reducedSizePerClass]): # and here, we have reduced the data to be loaded (only 1000 per class)\n",
        "        img = image.load_img(pathImg, target_size=(224,224))\n",
        "        im = image.img_to_array(img)\n",
        "        im = np.expand_dims(im, axis=0)\n",
        "        im = preprocess_input(im)\n",
        "        xTrain[i,:,:,:] = im\n",
        "        i += 1\n",
        "    classLabel += 1\n",
        "print(len(yTrain))\n",
        "print(xTrain.shape)\n",
        "yTrain = tensorflow.keras.utils.to_categorical(yTrain, nbClasses)\n"
      ]
    },
    {
      "cell_type": "markdown",
      "metadata": {
        "id": "56bq9oXanGUm"
      },
      "source": [
        "In order to speed-up the time spent on this part of the lab, you may have noticed that we reduced the number of classes and the number of images per class. You can change these few lines of code if you want to work on the whole dataset."
      ]
    },
    {
      "cell_type": "markdown",
      "metadata": {
        "id": "boNapUgGaEMj"
      },
      "source": [
        "### loading test data"
      ]
    },
    {
      "cell_type": "code",
      "execution_count": 7,
      "metadata": {
        "ExecuteTime": {
          "end_time": "2021-11-27T16:39:11.565427Z",
          "start_time": "2021-11-27T16:39:05.538947Z"
        },
        "colab": {
          "base_uri": "https://localhost:8080/"
        },
        "id": "Zwi5TBlKajtt",
        "outputId": "aadbb37d-76bd-4e1b-f37c-d293a381d618"
      },
      "outputs": [
        {
          "output_type": "stream",
          "name": "stdout",
          "text": [
            "There are  991  images in test dataset.\n",
            "991\n",
            "(991, 224, 224, 3)\n"
          ]
        }
      ],
      "source": [
        "#you need to use the same classes for the test dataset than for the train dataset\n",
        "rootTest = datasetRoot+'test/'\n",
        "classLabel = 0\n",
        "\n",
        "totalTestImg = 0\n",
        "for cl in classes:\n",
        "    totalTestImg += len(glob.glob(rootTest+cl+'/*'))\n",
        "\n",
        "print(\"There are \",totalTestImg, \" images in test dataset.\")\n",
        "xTest = np.empty(shape=(totalTestImg,224,224,3))\n",
        "yTest = []\n",
        "i = 0\n",
        "\n",
        "for cl in classes:\n",
        "    listImages = glob.glob(rootTest+cl+'/*')\n",
        "    yTest += [classLabel]*len(listImages)\n",
        "    for pathImg in listImages:\n",
        "        img = image.load_img(pathImg, target_size=(224, 224))\n",
        "        im = image.img_to_array(img)\n",
        "        im = np.expand_dims(im, axis=0)\n",
        "        im = preprocess_input(im)\n",
        "        xTest[i,:,:,:] = im \n",
        "    classLabel += 1\n",
        "print(len(yTest))\n",
        "print(xTest.shape)\n",
        "yTest = tensorflow.keras.utils.to_categorical(yTest, nbClasses)"
      ]
    },
    {
      "cell_type": "markdown",
      "metadata": {
        "id": "4KtxkybHz4vd"
      },
      "source": [
        "## Build your own CNN network"
      ]
    },
    {
      "cell_type": "markdown",
      "metadata": {
        "id": "QX78R7l7z4vd"
      },
      "source": [
        "Start with the simplest CNN: 1 conv2D layer + 1 pooling + 1 dense layer."
      ]
    },
    {
      "cell_type": "code",
      "execution_count": 8,
      "metadata": {
        "ExecuteTime": {
          "end_time": "2021-11-27T16:33:54.152252Z",
          "start_time": "2021-11-27T16:33:54.099134Z"
        },
        "id": "WR48BLhwz4vd"
      },
      "outputs": [],
      "source": [
        "model = Sequential()\n",
        "model.add(Conv2D(32,(3,3),padding='same',activation='relu', input_shape=(224,224,3)))\n",
        "model.add(MaxPooling2D(pool_size=(4, 4), strides=4, padding='same'))\n",
        "model.add(Flatten())\n",
        "model.add(Dense(nbClasses, activation='softmax'))\n",
        "model.compile(optimizer='rmsprop',loss='categorical_crossentropy', metrics=['accuracy'])"
      ]
    },
    {
      "cell_type": "markdown",
      "metadata": {
        "id": "QWYOol_bz4ve"
      },
      "source": [
        "Let's look at the dimension of all inputs and outputs:"
      ]
    },
    {
      "cell_type": "code",
      "execution_count": 9,
      "metadata": {
        "ExecuteTime": {
          "end_time": "2021-11-27T16:33:56.687308Z",
          "start_time": "2021-11-27T16:33:56.674345Z"
        },
        "colab": {
          "base_uri": "https://localhost:8080/"
        },
        "id": "OdpvF_fLz4ve",
        "outputId": "6745d9aa-e72d-4df5-c356-c03bf5106bc5"
      },
      "outputs": [
        {
          "output_type": "stream",
          "name": "stdout",
          "text": [
            "Model: \"sequential\"\n",
            "_________________________________________________________________\n",
            " Layer (type)                Output Shape              Param #   \n",
            "=================================================================\n",
            " conv2d (Conv2D)             (None, 224, 224, 32)      896       \n",
            "                                                                 \n",
            " max_pooling2d (MaxPooling2D  (None, 56, 56, 32)       0         \n",
            " )                                                               \n",
            "                                                                 \n",
            " flatten (Flatten)           (None, 100352)            0         \n",
            "                                                                 \n",
            " dense (Dense)               (None, 3)                 301059    \n",
            "                                                                 \n",
            "=================================================================\n",
            "Total params: 301,955\n",
            "Trainable params: 301,955\n",
            "Non-trainable params: 0\n",
            "_________________________________________________________________\n"
          ]
        }
      ],
      "source": [
        "model.summary()"
      ]
    },
    {
      "cell_type": "code",
      "source": [
        "xTrain.shape, xTest.shape"
      ],
      "metadata": {
        "colab": {
          "base_uri": "https://localhost:8080/"
        },
        "id": "fZiOBA2p9wKI",
        "outputId": "e3a6e741-c0b0-4b2e-ea37-0c63e86f9127"
      },
      "execution_count": 10,
      "outputs": [
        {
          "output_type": "execute_result",
          "data": {
            "text/plain": [
              "((600, 224, 224, 3), (991, 224, 224, 3))"
            ]
          },
          "metadata": {},
          "execution_count": 10
        }
      ]
    },
    {
      "cell_type": "markdown",
      "metadata": {
        "id": "PaDDa5elz4ve"
      },
      "source": [
        "Learn and test this network. "
      ]
    },
    {
      "cell_type": "code",
      "execution_count": 11,
      "metadata": {
        "ExecuteTime": {
          "end_time": "2021-11-27T16:36:46.534902Z",
          "start_time": "2021-11-27T16:34:01.881134Z"
        },
        "colab": {
          "base_uri": "https://localhost:8080/"
        },
        "id": "PmA8k9xEz4ve",
        "outputId": "a7f5cf51-177f-4c4b-8aa5-e6aafc34e836"
      },
      "outputs": [
        {
          "output_type": "stream",
          "name": "stdout",
          "text": [
            "Epoch 1/100\n",
            "5/5 [==============================] - 13s 570ms/step - loss: 1885.5277 - accuracy: 0.3217 - val_loss: 1.7934 - val_accuracy: 0.2926\n",
            "Epoch 2/100\n",
            "5/5 [==============================] - 1s 217ms/step - loss: 685.4540 - accuracy: 0.4150 - val_loss: 1.4302 - val_accuracy: 0.2926\n",
            "Epoch 3/100\n",
            "5/5 [==============================] - 1s 220ms/step - loss: 480.7219 - accuracy: 0.4333 - val_loss: 3.0604 - val_accuracy: 0.2926\n",
            "Epoch 4/100\n",
            "5/5 [==============================] - 1s 221ms/step - loss: 318.8461 - accuracy: 0.5683 - val_loss: 1.9432 - val_accuracy: 0.3300\n",
            "Epoch 5/100\n",
            "5/5 [==============================] - 1s 218ms/step - loss: 217.4562 - accuracy: 0.6417 - val_loss: 2.0049 - val_accuracy: 0.3300\n",
            "Epoch 6/100\n",
            "5/5 [==============================] - 1s 220ms/step - loss: 347.1902 - accuracy: 0.4967 - val_loss: 1.1547 - val_accuracy: 0.2926\n",
            "Epoch 7/100\n",
            "5/5 [==============================] - 1s 221ms/step - loss: 213.6701 - accuracy: 0.5800 - val_loss: 1.9558 - val_accuracy: 0.3300\n",
            "Epoch 8/100\n",
            "5/5 [==============================] - 1s 217ms/step - loss: 132.5319 - accuracy: 0.6300 - val_loss: 2.5609 - val_accuracy: 0.3300\n",
            "Epoch 9/100\n",
            "5/5 [==============================] - 1s 253ms/step - loss: 327.4210 - accuracy: 0.5150 - val_loss: 1.0976 - val_accuracy: 0.3310\n",
            "Epoch 10/100\n",
            "5/5 [==============================] - 1s 217ms/step - loss: 343.5585 - accuracy: 0.4933 - val_loss: 1.8325 - val_accuracy: 0.3300\n",
            "Epoch 11/100\n",
            "5/5 [==============================] - 1s 219ms/step - loss: 158.7630 - accuracy: 0.6033 - val_loss: 1.6982 - val_accuracy: 0.3300\n",
            "Epoch 12/100\n",
            "5/5 [==============================] - 1s 219ms/step - loss: 214.3044 - accuracy: 0.5883 - val_loss: 1.2020 - val_accuracy: 0.3300\n",
            "Epoch 13/100\n",
            "5/5 [==============================] - 1s 256ms/step - loss: 194.9698 - accuracy: 0.5300 - val_loss: 1.6347 - val_accuracy: 0.3300\n",
            "Epoch 14/100\n",
            "5/5 [==============================] - 1s 218ms/step - loss: 40.1293 - accuracy: 0.7950 - val_loss: 2.5089 - val_accuracy: 0.3300\n",
            "Epoch 15/100\n",
            "5/5 [==============================] - 1s 253ms/step - loss: 322.9648 - accuracy: 0.4950 - val_loss: 1.8894 - val_accuracy: 0.3300\n",
            "Epoch 16/100\n",
            "5/5 [==============================] - 1s 218ms/step - loss: 45.0313 - accuracy: 0.7517 - val_loss: 1.4561 - val_accuracy: 0.3300\n",
            "Epoch 17/100\n",
            "5/5 [==============================] - 1s 219ms/step - loss: 132.0383 - accuracy: 0.6567 - val_loss: 2.0420 - val_accuracy: 0.3300\n",
            "Epoch 18/100\n",
            "5/5 [==============================] - 1s 222ms/step - loss: 97.3179 - accuracy: 0.7033 - val_loss: 1.0976 - val_accuracy: 0.3310\n",
            "Epoch 19/100\n",
            "5/5 [==============================] - 1s 219ms/step - loss: 193.4274 - accuracy: 0.5550 - val_loss: 1.6662 - val_accuracy: 0.3300\n",
            "Epoch 20/100\n",
            "5/5 [==============================] - 1s 222ms/step - loss: 111.2986 - accuracy: 0.6733 - val_loss: 1.9578 - val_accuracy: 0.3300\n",
            "Epoch 21/100\n",
            "5/5 [==============================] - 1s 218ms/step - loss: 106.4379 - accuracy: 0.6633 - val_loss: 1.8126 - val_accuracy: 0.3300\n"
          ]
        }
      ],
      "source": [
        "# for you !\n",
        "callbacks_list = [EarlyStopping(monitor='val_accuracy', min_delta=0.005, patience=20,\n",
        "                                verbose=0, mode='min', restore_best_weights=True)\n",
        "                 ]\n",
        "history = model.fit(xTrain, yTrain, validation_data = (xTest,yTest), callbacks=callbacks_list,\n",
        "                    batch_size=128, epochs=100)"
      ]
    },
    {
      "cell_type": "code",
      "execution_count": 12,
      "metadata": {
        "ExecuteTime": {
          "end_time": "2021-11-27T17:26:29.630455Z",
          "start_time": "2021-11-27T17:26:21.961418Z"
        },
        "colab": {
          "base_uri": "https://localhost:8080/",
          "height": 404
        },
        "id": "U2C4X5CPz4vf",
        "outputId": "b8b59b31-fa2f-4861-a7ba-49644211b69d"
      },
      "outputs": [
        {
          "output_type": "display_data",
          "data": {
            "image/png": "[encoded data removed]",
            "text/plain": [
              "<Figure size 1872x576 with 2 Axes>"
            ]
          },
          "metadata": {
            "needs_background": "light"
          }
        }
      ],
      "source": [
        "# for you !\n",
        "import matplotlib.pyplot as plt\n",
        "%matplotlib inline\n",
        "# Plot the learning curves and analyze them\n",
        "# Babysit your model\n",
        "fig, (ax1, ax2) = plt.subplots(1, 2, figsize=(26,8))\n",
        "\n",
        "ax1.plot(history.history['loss'], label=\"loss\")\n",
        "ax1.plot(history.history['val_loss'], label=\"val_loss\")\n",
        "ax1.legend()\n",
        "ax2.plot(history.history['accuracy'], label=\"accuracy\")\n",
        "ax2.plot(history.history['val_accuracy'], label=\"val_accuracy\")\n",
        "ax2.legend()\n",
        "plt.show()\n"
      ]
    },
    {
      "cell_type": "code",
      "source": [
        "score = model.evaluate(xTest, yTest)\n",
        "print('Test loss:', score[0])\n",
        "print('Test accuracy', score[1])"
      ],
      "metadata": {
        "colab": {
          "base_uri": "https://localhost:8080/"
        },
        "id": "PY0wkvxa7cav",
        "outputId": "2c5b91de-a2f0-40d9-95c8-7a25632e7159"
      },
      "execution_count": 13,
      "outputs": [
        {
          "output_type": "stream",
          "name": "stdout",
          "text": [
            "31/31 [==============================] - 1s 20ms/step - loss: 1.7934 - accuracy: 0.2926\n",
            "Test loss: 1.79340660572052\n",
            "Test accuracy 0.29263371229171753\n"
          ]
        }
      ]
    },
    {
      "cell_type": "markdown",
      "metadata": {
        "solution": "hidden",
        "solution_first": true,
        "id": "z-5zA4cVz4vf"
      },
      "source": [
        "How is the accuracy or F1-measure on the test dataset?\n",
        "\n",
        "Are you satisfied by the performances?\n",
        "\n",
        "Try to modify the architecture (add layers) and some of the parameters."
      ]
    },
    {
      "cell_type": "markdown",
      "metadata": {
        "id": "HDg_e-Ax3uci"
      },
      "source": [
        "### About Dropout \n",
        "\n",
        "*Study this part only if you have time for it. It concerns the previous network but prefer to study first part II and come back here after.*\n",
        "\n",
        "Simply put, dropout refers to ignoring units (i.e. neurons) during the training phase of certain set of neurons which is chosen at random. By “ignoring”, I mean these units are not considered during a particular forward or backward pass.\n",
        "\n",
        "Why use dropout ? A fully connected layer occupies most of the parameters, and hence, neurons develop co-dependency amongst each other during training which curbs the individual power of each neuron leading to overfitting of training data."
      ]
    },
    {
      "cell_type": "markdown",
      "metadata": {
        "id": "eC5ct2L36pKC"
      },
      "source": [
        "**Let's add dropout and activation functions to the network!**"
      ]
    },
    {
      "cell_type": "code",
      "execution_count": 14,
      "metadata": {
        "id": "y20GTiux6uy9",
        "colab": {
          "base_uri": "https://localhost:8080/"
        },
        "outputId": "e9e701bc-538b-4e1b-90cb-34ecf79ebe6a"
      },
      "outputs": [
        {
          "output_type": "stream",
          "name": "stdout",
          "text": [
            "Model: \"sequential_1\"\n",
            "_________________________________________________________________\n",
            " Layer (type)                Output Shape              Param #   \n",
            "=================================================================\n",
            " conv2d_1 (Conv2D)           (None, 222, 222, 256)     7168      \n",
            "                                                                 \n",
            " global_average_pooling2d (G  (None, 256)              0         \n",
            " lobalAveragePooling2D)                                          \n",
            "                                                                 \n",
            " dense_1 (Dense)             (None, 200)               51400     \n",
            "                                                                 \n",
            " dropout (Dropout)           (None, 200)               0         \n",
            "                                                                 \n",
            " dense_2 (Dense)             (None, 3)                 603       \n",
            "                                                                 \n",
            "=================================================================\n",
            "Total params: 59,171\n",
            "Trainable params: 59,171\n",
            "Non-trainable params: 0\n",
            "_________________________________________________________________\n"
          ]
        }
      ],
      "source": [
        "from tensorflow.keras.layers import Dropout\n",
        "\n",
        "model = Sequential(name='MLP model with dropout') \n",
        "\n",
        "model = Sequential()\n",
        "model.add(Conv2D(256,(3,3),activation='relu',input_shape=(224,224,3)))\n",
        "model.add(GlobalAveragePooling2D())\n",
        "model.add(Dense(200,activation='relu'))\n",
        "# adding dropout to the previous layer\n",
        "model.add(Dropout(0.2))\n",
        "\n",
        "model.add(Dense(nbClasses, activation='softmax'))\n",
        "\n",
        "model.compile(optimizer='rmsprop',loss='categorical_crossentropy', metrics=['accuracy'])\n",
        "model.summary()"
      ]
    },
    {
      "cell_type": "code",
      "execution_count": 16,
      "metadata": {
        "id": "YLALQmRjz4vg"
      },
      "outputs": [],
      "source": [
        "# learn again your CNN with dropout\n",
        "# for you !\n",
        "# callbacks_list = [EarlyStopping(monitor='val_accuracy', min_delta=0.005, patience=20,\n",
        "#                                 verbose=0, mode='min', restore_best_weights=True)\n",
        "#                  ]\n",
        "# history = model.fit(xTrain, yTrain, validation_data = (xTest,yTest), callbacks=callbacks_list,\n",
        "#                     batch_size=128, epochs=100)"
      ]
    },
    {
      "cell_type": "markdown",
      "metadata": {
        "id": "unEYvZtiz4vg"
      },
      "source": [
        "## Using a pre-learned network"
      ]
    },
    {
      "cell_type": "markdown",
      "metadata": {
        "id": "Og1KZntwavZT"
      },
      "source": [
        "### loading VGG-16 description part and adding layers to build our own classification network"
      ]
    },
    {
      "cell_type": "code",
      "execution_count": 17,
      "metadata": {
        "ExecuteTime": {
          "end_time": "2021-10-12T14:11:09.440297Z",
          "start_time": "2021-10-12T14:11:09.179442Z"
        },
        "id": "ofrQr-x_a-Bi",
        "colab": {
          "base_uri": "https://localhost:8080/"
        },
        "outputId": "2a0f2a50-ee7e-4cf3-c254-345633874b94"
      },
      "outputs": [
        {
          "output_type": "stream",
          "name": "stdout",
          "text": [
            "Downloading data from https://storage.googleapis.com/tensorflow/keras-applications/vgg16/vgg16_weights_tf_dim_ordering_tf_kernels_notop.h5\n",
            "58892288/58889256 [==============================] - 1s 0us/step\n",
            "58900480/58889256 [==============================] - 1s 0us/step\n",
            "Model: \"vgg16\"\n",
            "_________________________________________________________________\n",
            " Layer (type)                Output Shape              Param #   \n",
            "=================================================================\n",
            " input_1 (InputLayer)        [(None, None, None, 3)]   0         \n",
            "                                                                 \n",
            " block1_conv1 (Conv2D)       (None, None, None, 64)    1792      \n",
            "                                                                 \n",
            " block1_conv2 (Conv2D)       (None, None, None, 64)    36928     \n",
            "                                                                 \n",
            " block1_pool (MaxPooling2D)  (None, None, None, 64)    0         \n",
            "                                                                 \n",
            " block2_conv1 (Conv2D)       (None, None, None, 128)   73856     \n",
            "                                                                 \n",
            " block2_conv2 (Conv2D)       (None, None, None, 128)   147584    \n",
            "                                                                 \n",
            " block2_pool (MaxPooling2D)  (None, None, None, 128)   0         \n",
            "                                                                 \n",
            " block3_conv1 (Conv2D)       (None, None, None, 256)   295168    \n",
            "                                                                 \n",
            " block3_conv2 (Conv2D)       (None, None, None, 256)   590080    \n",
            "                                                                 \n",
            " block3_conv3 (Conv2D)       (None, None, None, 256)   590080    \n",
            "                                                                 \n",
            " block3_pool (MaxPooling2D)  (None, None, None, 256)   0         \n",
            "                                                                 \n",
            " block4_conv1 (Conv2D)       (None, None, None, 512)   1180160   \n",
            "                                                                 \n",
            " block4_conv2 (Conv2D)       (None, None, None, 512)   2359808   \n",
            "                                                                 \n",
            " block4_conv3 (Conv2D)       (None, None, None, 512)   2359808   \n",
            "                                                                 \n",
            " block4_pool (MaxPooling2D)  (None, None, None, 512)   0         \n",
            "                                                                 \n",
            " block5_conv1 (Conv2D)       (None, None, None, 512)   2359808   \n",
            "                                                                 \n",
            " block5_conv2 (Conv2D)       (None, None, None, 512)   2359808   \n",
            "                                                                 \n",
            " block5_conv3 (Conv2D)       (None, None, None, 512)   2359808   \n",
            "                                                                 \n",
            " block5_pool (MaxPooling2D)  (None, None, None, 512)   0         \n",
            "                                                                 \n",
            "=================================================================\n",
            "Total params: 14,714,688\n",
            "Trainable params: 14,714,688\n",
            "Non-trainable params: 0\n",
            "_________________________________________________________________\n"
          ]
        }
      ],
      "source": [
        "VGGmodel = VGG16(weights='imagenet', include_top=False)\n",
        "VGGmodel.summary()"
      ]
    },
    {
      "cell_type": "code",
      "execution_count": 18,
      "metadata": {
        "ExecuteTime": {
          "end_time": "2021-10-12T14:11:36.842555Z",
          "start_time": "2021-10-12T14:11:36.806935Z"
        },
        "id": "JZbUYp20z4vg"
      },
      "outputs": [],
      "source": [
        "# we will add layers to this feature extraction part of VGG network\n",
        "m = VGGmodel.output\n",
        "# we start with a global average pooling\n",
        "m = GlobalAveragePooling2D()(m)\n",
        "# and add a fully-connected layer\n",
        "m = Dense(1024, activation='relu')(m)\n",
        "# finally, the softmax layer for predictions (we have nbClasses classes)\n",
        "predictions = Dense(nbClasses, activation='softmax')(m) \n",
        "\n",
        "# global network\n",
        "model = Model(inputs=VGGmodel.input, outputs=predictions)\n"
      ]
    },
    {
      "cell_type": "markdown",
      "metadata": {
        "id": "6POPQoXcbPuc",
        "solution": "hidden",
        "solution_first": true
      },
      "source": [
        "Can you display the architecture of this entire network?"
      ]
    },
    {
      "cell_type": "code",
      "execution_count": 19,
      "metadata": {
        "ExecuteTime": {
          "end_time": "2021-11-27T17:31:47.819971Z",
          "start_time": "2021-11-27T17:31:47.813952Z"
        },
        "id": "mwC0w85bz4vh",
        "colab": {
          "base_uri": "https://localhost:8080/"
        },
        "outputId": "eb57345d-a8d5-4b77-c320-df2b9198faf0"
      },
      "outputs": [
        {
          "output_type": "stream",
          "name": "stdout",
          "text": [
            "Model: \"model\"\n",
            "_________________________________________________________________\n",
            " Layer (type)                Output Shape              Param #   \n",
            "=================================================================\n",
            " input_1 (InputLayer)        [(None, None, None, 3)]   0         \n",
            "                                                                 \n",
            " block1_conv1 (Conv2D)       (None, None, None, 64)    1792      \n",
            "                                                                 \n",
            " block1_conv2 (Conv2D)       (None, None, None, 64)    36928     \n",
            "                                                                 \n",
            " block1_pool (MaxPooling2D)  (None, None, None, 64)    0         \n",
            "                                                                 \n",
            " block2_conv1 (Conv2D)       (None, None, None, 128)   73856     \n",
            "                                                                 \n",
            " block2_conv2 (Conv2D)       (None, None, None, 128)   147584    \n",
            "                                                                 \n",
            " block2_pool (MaxPooling2D)  (None, None, None, 128)   0         \n",
            "                                                                 \n",
            " block3_conv1 (Conv2D)       (None, None, None, 256)   295168    \n",
            "                                                                 \n",
            " block3_conv2 (Conv2D)       (None, None, None, 256)   590080    \n",
            "                                                                 \n",
            " block3_conv3 (Conv2D)       (None, None, None, 256)   590080    \n",
            "                                                                 \n",
            " block3_pool (MaxPooling2D)  (None, None, None, 256)   0         \n",
            "                                                                 \n",
            " block4_conv1 (Conv2D)       (None, None, None, 512)   1180160   \n",
            "                                                                 \n",
            " block4_conv2 (Conv2D)       (None, None, None, 512)   2359808   \n",
            "                                                                 \n",
            " block4_conv3 (Conv2D)       (None, None, None, 512)   2359808   \n",
            "                                                                 \n",
            " block4_pool (MaxPooling2D)  (None, None, None, 512)   0         \n",
            "                                                                 \n",
            " block5_conv1 (Conv2D)       (None, None, None, 512)   2359808   \n",
            "                                                                 \n",
            " block5_conv2 (Conv2D)       (None, None, None, 512)   2359808   \n",
            "                                                                 \n",
            " block5_conv3 (Conv2D)       (None, None, None, 512)   2359808   \n",
            "                                                                 \n",
            " block5_pool (MaxPooling2D)  (None, None, None, 512)   0         \n",
            "                                                                 \n",
            " global_average_pooling2d_1   (None, 512)              0         \n",
            " (GlobalAveragePooling2D)                                        \n",
            "                                                                 \n",
            " dense_3 (Dense)             (None, 1024)              525312    \n",
            "                                                                 \n",
            " dense_4 (Dense)             (None, 3)                 3075      \n",
            "                                                                 \n",
            "=================================================================\n",
            "Total params: 15,243,075\n",
            "Trainable params: 15,243,075\n",
            "Non-trainable params: 0\n",
            "_________________________________________________________________\n"
          ]
        }
      ],
      "source": [
        "# for you\n",
        "model.summary()"
      ]
    },
    {
      "cell_type": "code",
      "execution_count": 20,
      "metadata": {
        "id": "PrLUhA2-b8Fv",
        "colab": {
          "base_uri": "https://localhost:8080/"
        },
        "outputId": "9539ef56-a7df-46f1-ae42-9d2e49b165d5"
      },
      "outputs": [
        {
          "output_type": "stream",
          "name": "stdout",
          "text": [
            "Epoch 1/2000\n",
            "4/4 [==============================] - 31s 6s/step - loss: 5.6443 - accuracy: 0.6104 - val_loss: 4.4596 - val_accuracy: 0.7583\n",
            "Epoch 2/2000\n",
            "4/4 [==============================] - 3s 798ms/step - loss: 5.6729 - accuracy: 0.8500 - val_loss: 0.1334 - val_accuracy: 0.9750\n",
            "Epoch 3/2000\n",
            "4/4 [==============================] - 3s 797ms/step - loss: 0.0095 - accuracy: 0.9958 - val_loss: 0.1334 - val_accuracy: 0.9750\n",
            "Epoch 4/2000\n",
            "4/4 [==============================] - 3s 797ms/step - loss: 0.0016 - accuracy: 1.0000 - val_loss: 0.1331 - val_accuracy: 0.9833\n",
            "Epoch 5/2000\n",
            "4/4 [==============================] - 3s 794ms/step - loss: 0.0013 - accuracy: 1.0000 - val_loss: 0.1363 - val_accuracy: 0.9750\n",
            "Epoch 6/2000\n",
            "4/4 [==============================] - 3s 800ms/step - loss: 0.0010 - accuracy: 1.0000 - val_loss: 0.1351 - val_accuracy: 0.9750\n",
            "Epoch 7/2000\n",
            "4/4 [==============================] - 3s 801ms/step - loss: 8.0023e-04 - accuracy: 1.0000 - val_loss: 0.1376 - val_accuracy: 0.9750\n",
            "Epoch 8/2000\n",
            "4/4 [==============================] - 3s 811ms/step - loss: 6.7292e-04 - accuracy: 1.0000 - val_loss: 0.1379 - val_accuracy: 0.9750\n",
            "Epoch 9/2000\n",
            "4/4 [==============================] - 3s 816ms/step - loss: 5.6279e-04 - accuracy: 1.0000 - val_loss: 0.1385 - val_accuracy: 0.9750\n",
            "Epoch 10/2000\n",
            "4/4 [==============================] - 3s 815ms/step - loss: 4.6876e-04 - accuracy: 1.0000 - val_loss: 0.1376 - val_accuracy: 0.9750\n",
            "Epoch 11/2000\n",
            "4/4 [==============================] - 3s 821ms/step - loss: 3.7709e-04 - accuracy: 1.0000 - val_loss: 0.1350 - val_accuracy: 0.9750\n",
            "Epoch 12/2000\n",
            "4/4 [==============================] - 3s 822ms/step - loss: 3.2025e-04 - accuracy: 1.0000 - val_loss: 0.1327 - val_accuracy: 0.9833\n",
            "Epoch 13/2000\n",
            "4/4 [==============================] - 3s 834ms/step - loss: 2.6104e-04 - accuracy: 1.0000 - val_loss: 0.1326 - val_accuracy: 0.9833\n",
            "Epoch 14/2000\n",
            "4/4 [==============================] - 3s 838ms/step - loss: 2.2347e-04 - accuracy: 1.0000 - val_loss: 0.1315 - val_accuracy: 0.9833\n",
            "Epoch 15/2000\n",
            "4/4 [==============================] - 3s 839ms/step - loss: 1.8276e-04 - accuracy: 1.0000 - val_loss: 0.1313 - val_accuracy: 0.9833\n",
            "Epoch 16/2000\n",
            "4/4 [==============================] - 3s 846ms/step - loss: 1.5379e-04 - accuracy: 1.0000 - val_loss: 0.1302 - val_accuracy: 0.9833\n",
            "Epoch 17/2000\n",
            "4/4 [==============================] - 3s 852ms/step - loss: 1.2843e-04 - accuracy: 1.0000 - val_loss: 0.1318 - val_accuracy: 0.9833\n",
            "Epoch 18/2000\n",
            "4/4 [==============================] - 3s 856ms/step - loss: 1.0876e-04 - accuracy: 1.0000 - val_loss: 0.1303 - val_accuracy: 0.9833\n",
            "Epoch 19/2000\n",
            "4/4 [==============================] - 3s 859ms/step - loss: 9.0261e-05 - accuracy: 1.0000 - val_loss: 0.1282 - val_accuracy: 0.9833\n",
            "Epoch 20/2000\n",
            "4/4 [==============================] - 3s 860ms/step - loss: 7.9025e-05 - accuracy: 1.0000 - val_loss: 0.1292 - val_accuracy: 0.9833\n",
            "Epoch 21/2000\n",
            "4/4 [==============================] - 3s 861ms/step - loss: 6.3380e-05 - accuracy: 1.0000 - val_loss: 0.1291 - val_accuracy: 0.9833\n",
            "Epoch 22/2000\n",
            "4/4 [==============================] - 3s 844ms/step - loss: 5.3921e-05 - accuracy: 1.0000 - val_loss: 0.1269 - val_accuracy: 0.9833\n",
            "Epoch 23/2000\n",
            "4/4 [==============================] - 3s 844ms/step - loss: 4.6384e-05 - accuracy: 1.0000 - val_loss: 0.1251 - val_accuracy: 0.9833\n",
            "Epoch 24/2000\n",
            "4/4 [==============================] - 3s 837ms/step - loss: 3.9059e-05 - accuracy: 1.0000 - val_loss: 0.1241 - val_accuracy: 0.9833\n"
          ]
        }
      ],
      "source": [
        "# training\n",
        "ourCallback = tensorflow.keras.callbacks.EarlyStopping(monitor='val_accuracy', min_delta=0.0001, patience=20, verbose=0, mode='auto', baseline=None, restore_best_weights=False)\n",
        " \n",
        "# training part I: training only the classification part (the end)\n",
        "for layer in VGGmodel.layers:\n",
        "    layer.trainable = False\n",
        "model.compile(optimizer='rmsprop', loss='categorical_crossentropy',metrics=['accuracy'])\n",
        "history= model.fit(xTrain, yTrain, epochs=2000, batch_size=128, validation_split=0.2, callbacks=[ourCallback],verbose=1)"
      ]
    },
    {
      "cell_type": "code",
      "source": [
        "# for you !\n",
        "import matplotlib.pyplot as plt\n",
        "%matplotlib inline\n",
        "# Plot the learning curves and analyze them\n",
        "# Babysit your model\n",
        "fig, (ax1, ax2) = plt.subplots(1, 2, figsize=(26,8))\n",
        "\n",
        "ax1.plot(history.history['loss'], label=\"loss\")\n",
        "ax1.plot(history.history['val_loss'], label=\"val_loss\")\n",
        "ax1.legend()\n",
        "ax2.plot(history.history['accuracy'], label=\"accuracy\")\n",
        "ax2.plot(history.history['val_accuracy'], label=\"val_accuracy\")\n",
        "ax2.legend()\n",
        "plt.show()\n"
      ],
      "metadata": {
        "colab": {
          "base_uri": "https://localhost:8080/",
          "height": 503
        },
        "id": "D0NmT7NQNMcd",
        "outputId": "788ef6ab-7498-413b-80cf-34d14e7e812d"
      },
      "execution_count": 21,
      "outputs": [
        {
          "output_type": "display_data",
          "data": {
            "image/png": "[encoded data removed]",
            "text/plain": [
              "<Figure size 1872x576 with 2 Axes>"
            ]
          },
          "metadata": {
            "needs_background": "light"
          }
        }
      ]
    },
    {
      "cell_type": "markdown",
      "source": [
        "From the plot above, the loss and val_loss are reduced and increase in the accuracy  (smoothness of the graph) "
      ],
      "metadata": {
        "id": "FfG_HFHgqWiT"
      }
    },
    {
      "cell_type": "markdown",
      "metadata": {
        "id": "4hgDguiNcNXZ"
      },
      "source": [
        "### fine-tune the network"
      ]
    },
    {
      "cell_type": "markdown",
      "metadata": {
        "id": "L9jmknEpcT1_"
      },
      "source": [
        "Fine-tune the entire network if you have enough computing ressouces, otherwise, carefully choose the layers you want to fine-tune."
      ]
    },
    {
      "cell_type": "code",
      "execution_count": 22,
      "metadata": {
        "ExecuteTime": {
          "end_time": "2021-10-12T14:13:56.365304Z",
          "start_time": "2021-10-12T14:13:56.350142Z"
        },
        "id": "cRr97-2yc6kZ",
        "colab": {
          "base_uri": "https://localhost:8080/"
        },
        "outputId": "6dcb9867-db20-47d7-dfdd-fb64d5d91993"
      },
      "outputs": [
        {
          "output_type": "stream",
          "name": "stdout",
          "text": [
            "0 input_1\n",
            "1 block1_conv1\n",
            "2 block1_conv2\n",
            "3 block1_pool\n",
            "4 block2_conv1\n",
            "5 block2_conv2\n",
            "6 block2_pool\n",
            "7 block3_conv1\n",
            "8 block3_conv2\n",
            "9 block3_conv3\n",
            "10 block3_pool\n",
            "11 block4_conv1\n",
            "12 block4_conv2\n",
            "13 block4_conv3\n",
            "14 block4_pool\n",
            "15 block5_conv1\n",
            "16 block5_conv2\n",
            "17 block5_conv3\n",
            "18 block5_pool\n",
            "Model: \"model\"\n",
            "_________________________________________________________________\n",
            " Layer (type)                Output Shape              Param #   \n",
            "=================================================================\n",
            " input_1 (InputLayer)        [(None, None, None, 3)]   0         \n",
            "                                                                 \n",
            " block1_conv1 (Conv2D)       (None, None, None, 64)    1792      \n",
            "                                                                 \n",
            " block1_conv2 (Conv2D)       (None, None, None, 64)    36928     \n",
            "                                                                 \n",
            " block1_pool (MaxPooling2D)  (None, None, None, 64)    0         \n",
            "                                                                 \n",
            " block2_conv1 (Conv2D)       (None, None, None, 128)   73856     \n",
            "                                                                 \n",
            " block2_conv2 (Conv2D)       (None, None, None, 128)   147584    \n",
            "                                                                 \n",
            " block2_pool (MaxPooling2D)  (None, None, None, 128)   0         \n",
            "                                                                 \n",
            " block3_conv1 (Conv2D)       (None, None, None, 256)   295168    \n",
            "                                                                 \n",
            " block3_conv2 (Conv2D)       (None, None, None, 256)   590080    \n",
            "                                                                 \n",
            " block3_conv3 (Conv2D)       (None, None, None, 256)   590080    \n",
            "                                                                 \n",
            " block3_pool (MaxPooling2D)  (None, None, None, 256)   0         \n",
            "                                                                 \n",
            " block4_conv1 (Conv2D)       (None, None, None, 512)   1180160   \n",
            "                                                                 \n",
            " block4_conv2 (Conv2D)       (None, None, None, 512)   2359808   \n",
            "                                                                 \n",
            " block4_conv3 (Conv2D)       (None, None, None, 512)   2359808   \n",
            "                                                                 \n",
            " block4_pool (MaxPooling2D)  (None, None, None, 512)   0         \n",
            "                                                                 \n",
            " block5_conv1 (Conv2D)       (None, None, None, 512)   2359808   \n",
            "                                                                 \n",
            " block5_conv2 (Conv2D)       (None, None, None, 512)   2359808   \n",
            "                                                                 \n",
            " block5_conv3 (Conv2D)       (None, None, None, 512)   2359808   \n",
            "                                                                 \n",
            " block5_pool (MaxPooling2D)  (None, None, None, 512)   0         \n",
            "                                                                 \n",
            " global_average_pooling2d_1   (None, 512)              0         \n",
            " (GlobalAveragePooling2D)                                        \n",
            "                                                                 \n",
            " dense_3 (Dense)             (None, 1024)              525312    \n",
            "                                                                 \n",
            " dense_4 (Dense)             (None, 3)                 3075      \n",
            "                                                                 \n",
            "=================================================================\n",
            "Total params: 15,243,075\n",
            "Trainable params: 528,387\n",
            "Non-trainable params: 14,714,688\n",
            "_________________________________________________________________\n"
          ]
        }
      ],
      "source": [
        "for i, layer in enumerate(VGGmodel.layers):\n",
        "   print(i, layer.name)\n",
        "model.summary()"
      ]
    },
    {
      "cell_type": "markdown",
      "metadata": {
        "id": "v4eCse6wku5Q"
      },
      "source": [
        "In this example, we will fine-tune the last convolution block starting at layer number 15 (block5_conv)."
      ]
    },
    {
      "cell_type": "code",
      "execution_count": 23,
      "metadata": {
        "id": "C17ts6kllGUr",
        "colab": {
          "base_uri": "https://localhost:8080/"
        },
        "outputId": "246634e9-53bf-4034-9070-7aaab072c1e7"
      },
      "outputs": [
        {
          "output_type": "stream",
          "name": "stdout",
          "text": [
            "Epoch 1/20\n",
            "4/4 [==============================] - 10s 2s/step - loss: 14.3840 - accuracy: 0.6646 - val_loss: 0.6407 - val_accuracy: 0.8583\n",
            "Epoch 2/20\n",
            "4/4 [==============================] - 4s 1s/step - loss: 1.1165 - accuracy: 0.4021 - val_loss: 1.3978 - val_accuracy: 0.0667\n",
            "Epoch 3/20\n",
            "4/4 [==============================] - 4s 1s/step - loss: 0.8886 - accuracy: 0.5146 - val_loss: 1.2112 - val_accuracy: 0.2417\n",
            "Epoch 4/20\n",
            "4/4 [==============================] - 4s 1s/step - loss: 0.9349 - accuracy: 0.5271 - val_loss: 1.0625 - val_accuracy: 0.5667\n",
            "Epoch 5/20\n",
            "4/4 [==============================] - 4s 1s/step - loss: 0.8009 - accuracy: 0.6438 - val_loss: 1.0108 - val_accuracy: 0.6250\n",
            "Epoch 6/20\n",
            "4/4 [==============================] - 4s 1s/step - loss: 0.7739 - accuracy: 0.6500 - val_loss: 1.5382 - val_accuracy: 0.2500\n",
            "Epoch 7/20\n",
            "4/4 [==============================] - 4s 1s/step - loss: 0.8065 - accuracy: 0.6229 - val_loss: 0.6602 - val_accuracy: 0.8417\n",
            "Epoch 8/20\n",
            "4/4 [==============================] - 4s 1s/step - loss: 0.9564 - accuracy: 0.5729 - val_loss: 0.8630 - val_accuracy: 0.7667\n",
            "Epoch 9/20\n",
            "4/4 [==============================] - 4s 1s/step - loss: 0.8042 - accuracy: 0.6458 - val_loss: 0.7879 - val_accuracy: 0.8083\n",
            "Epoch 10/20\n",
            "4/4 [==============================] - 4s 1s/step - loss: 0.6874 - accuracy: 0.7250 - val_loss: 9.4514 - val_accuracy: 0.0000e+00\n",
            "Epoch 11/20\n",
            "4/4 [==============================] - 4s 1s/step - loss: 1.6275 - accuracy: 0.5562 - val_loss: 4.8177 - val_accuracy: 0.0000e+00\n",
            "Epoch 12/20\n",
            "4/4 [==============================] - 4s 1s/step - loss: 0.9090 - accuracy: 0.6083 - val_loss: 0.4421 - val_accuracy: 0.8917\n",
            "Epoch 13/20\n",
            "4/4 [==============================] - 4s 1s/step - loss: 0.7242 - accuracy: 0.6729 - val_loss: 0.6184 - val_accuracy: 0.8417\n",
            "Epoch 14/20\n",
            "4/4 [==============================] - 4s 1s/step - loss: 0.7721 - accuracy: 0.5938 - val_loss: 0.6540 - val_accuracy: 0.7500\n",
            "Epoch 15/20\n",
            "4/4 [==============================] - 4s 1s/step - loss: 0.6017 - accuracy: 0.7750 - val_loss: 6.1078 - val_accuracy: 0.0000e+00\n",
            "Epoch 16/20\n",
            "4/4 [==============================] - 4s 1s/step - loss: 1.1254 - accuracy: 0.5938 - val_loss: 1.0835 - val_accuracy: 0.4917\n",
            "Epoch 17/20\n",
            "4/4 [==============================] - 4s 1s/step - loss: 0.9031 - accuracy: 0.6812 - val_loss: 4.0680 - val_accuracy: 0.0000e+00\n",
            "Epoch 18/20\n",
            "4/4 [==============================] - 4s 1s/step - loss: 1.1750 - accuracy: 0.5854 - val_loss: 1.1245 - val_accuracy: 0.3833\n",
            "Epoch 19/20\n",
            "4/4 [==============================] - 4s 1s/step - loss: 0.5430 - accuracy: 0.7854 - val_loss: 0.2336 - val_accuracy: 0.9000\n",
            "Epoch 20/20\n",
            "4/4 [==============================] - 4s 1s/step - loss: 0.6495 - accuracy: 0.7292 - val_loss: 0.4426 - val_accuracy: 0.8583\n"
          ]
        },
        {
          "output_type": "execute_result",
          "data": {
            "text/plain": [
              "<keras.callbacks.History at 0x7f981864f550>"
            ]
          },
          "metadata": {},
          "execution_count": 23
        }
      ],
      "source": [
        "from tensorflow.keras.optimizers import RMSprop\n",
        "for layer in model.layers[:11]:\n",
        "   layer.trainable = False\n",
        "for layer in model.layers[11:]:\n",
        "   layer.trainable = True\n",
        "#need to recompile the network\n",
        "model.compile(optimizer=RMSprop(learning_rate=0.0001), loss='categorical_crossentropy',metrics=['accuracy'])\n",
        "#and train again ...\n",
        "model.fit(xTrain, yTrain, epochs=20, batch_size=128, validation_split=0.2, callbacks=[ourCallback],verbose=1)"
      ]
    },
    {
      "cell_type": "code",
      "source": [
        "# for you !\n",
        "import matplotlib.pyplot as plt\n",
        "%matplotlib inline\n",
        "# Plot the learning curves and analyze them\n",
        "# Babysit your model\n",
        "fig, (ax1, ax2) = plt.subplots(1, 2, figsize=(26,8))\n",
        "\n",
        "ax1.plot(history.history['loss'], label=\"loss\")\n",
        "ax1.plot(history.history['val_loss'], label=\"val_loss\")\n",
        "ax1.legend()\n",
        "ax2.plot(history.history['accuracy'], label=\"accuracy\")\n",
        "ax2.plot(history.history['val_accuracy'], label=\"val_accuracy\")\n",
        "ax2.legend()\n",
        "plt.show()\n"
      ],
      "metadata": {
        "colab": {
          "base_uri": "https://localhost:8080/",
          "height": 409
        },
        "id": "6y6HRzucPcKY",
        "outputId": "4bb15d11-b557-4adb-e022-a9957e683c5e"
      },
      "execution_count": 24,
      "outputs": [
        {
          "output_type": "display_data",
          "data": {
            "image/png": "[encoded data removed]",
            "text/plain": [
              "<Figure size 1872x576 with 2 Axes>"
            ]
          },
          "metadata": {
            "needs_background": "light"
          }
        }
      ]
    },
    {
      "cell_type": "markdown",
      "metadata": {
        "id": "6LrhxQiBmTZj",
        "solution": "hidden",
        "solution_first": true
      },
      "source": [
        "You already know how to evaluate the performances on the test dataset and display the confusion matrix. You can also modify the code that loads the test dataset in order to reduce it's size. Let's do it!"
      ]
    },
    {
      "cell_type": "code",
      "execution_count": 25,
      "metadata": {
        "id": "RHGxb-PxmiYd",
        "colab": {
          "base_uri": "https://localhost:8080/"
        },
        "outputId": "2d3792f8-8153-48a6-8576-8e9b5fa8ba07"
      },
      "outputs": [
        {
          "output_type": "stream",
          "name": "stdout",
          "text": [
            "31/31 [==============================] - 10s 241ms/step - loss: 1.1013 - accuracy: 0.3300\n",
            "Test loss: 1.1012605428695679\n",
            "Test accuracy 0.32996973395347595\n"
          ]
        }
      ],
      "source": [
        "#enter here your code for evaluation of performances\n",
        "score = model.evaluate(xTest, yTest)\n",
        "print('Test loss:', score[0])\n",
        "print('Test accuracy', score[1])"
      ]
    },
    {
      "cell_type": "code",
      "source": [
        "from sklearn.metrics import confusion_matrix"
      ],
      "metadata": {
        "id": "mOUDTlD8SVOX"
      },
      "execution_count": 26,
      "outputs": []
    },
    {
      "cell_type": "code",
      "source": [
        "matrix = confusion_matrix(yTest.argmax(axis=1), model.predict(xTest).argmax(axis=1))\n",
        "matrix"
      ],
      "metadata": {
        "colab": {
          "base_uri": "https://localhost:8080/"
        },
        "id": "UDgtM0-dTHu-",
        "outputId": "be8054d9-1d26-41ce-cd5a-aadc936a151a"
      },
      "execution_count": 27,
      "outputs": [
        {
          "output_type": "execute_result",
          "data": {
            "text/plain": [
              "array([[  0,   0, 374],\n",
              "       [  0,   0, 290],\n",
              "       [  0,   0, 327]])"
            ]
          },
          "metadata": {},
          "execution_count": 27
        }
      ]
    },
    {
      "cell_type": "code",
      "source": [
        "matrix1 = confusion_matrix(yTrain.argmax(axis=1), model.predict(xTrain).argmax(axis=1))\n",
        "matrix1"
      ],
      "metadata": {
        "colab": {
          "base_uri": "https://localhost:8080/"
        },
        "id": "i2krXtXLX2SE",
        "outputId": "69bc2955-187f-4291-c476-a2413cc8f1ef"
      },
      "execution_count": 28,
      "outputs": [
        {
          "output_type": "execute_result",
          "data": {
            "text/plain": [
              "array([[170,  21,   9],\n",
              "       [ 31, 155,  14],\n",
              "       [  9,  13, 178]])"
            ]
          },
          "metadata": {},
          "execution_count": 28
        }
      ]
    },
    {
      "cell_type": "markdown",
      "metadata": {
        "id": "unzKoPOsgNW3",
        "solution": "hidden",
        "solution_first": true
      },
      "source": [
        "You are now free to experiments changes in the network:\n",
        "* add a dense layer\n",
        "* modify the number of neurons in dense layer(s)\n",
        "* change the global average polling\n",
        "* add classes and data\n",
        "* experiment other optimizers (SGD, Adam, ...)\n",
        "\n",
        "\n",
        "..."
      ]
    },
    {
      "cell_type": "code",
      "execution_count": 29,
      "metadata": {
        "id": "kw8QJ5p1z4vj"
      },
      "outputs": [],
      "source": [
        "# we will add 2 hidden layers to this feature extraction part of VGG network\n",
        "m = VGGmodel.output\n",
        "# we start with a global average pooling\n",
        "m = GlobalAveragePooling2D()(m)\n",
        "# and add a fully-connected layer\n",
        "m = Dense(260, activation='relu')(m)\n",
        "m = Dense(260, activation='relu')(m) # I changed the number of neurons and added 1 layer \n",
        "# finally, the softmax layer for predictions (we have nbClasses classes)\n",
        "predictions = Dense(nbClasses, activation='softmax')(m)\n",
        "\n",
        "# global network\n",
        "model = Model(inputs=VGGmodel.input, outputs=predictions)\n"
      ]
    },
    {
      "cell_type": "code",
      "source": [
        "# training\n",
        "ourCallback = tensorflow.keras.callbacks.EarlyStopping(monitor='val_accuracy', min_delta=0.0001, patience=20, verbose=0, mode='auto', baseline=None, restore_best_weights=False)\n",
        " \n",
        "# training part I: training only the classification part (the end)\n",
        "for layer in VGGmodel.layers:\n",
        "    layer.trainable = False\n",
        "model.compile(optimizer='rmsprop', loss='categorical_crossentropy',metrics=['accuracy'])\n",
        "history= model.fit(xTrain, yTrain, epochs=2000, batch_size=128, validation_split=0.2, callbacks=[ourCallback],verbose=1)"
      ],
      "metadata": {
        "colab": {
          "base_uri": "https://localhost:8080/"
        },
        "id": "guF3ZvyBn4kS",
        "outputId": "547f2493-d646-48f5-e0b1-8ca9a439fc95"
      },
      "execution_count": 30,
      "outputs": [
        {
          "output_type": "stream",
          "name": "stdout",
          "text": [
            "Epoch 1/2000\n",
            "4/4 [==============================] - 4s 989ms/step - loss: 0.9627 - accuracy: 0.6021 - val_loss: 0.6747 - val_accuracy: 0.7333\n",
            "Epoch 2/2000\n",
            "4/4 [==============================] - 3s 807ms/step - loss: 0.3637 - accuracy: 0.8500 - val_loss: 0.5643 - val_accuracy: 0.8167\n",
            "Epoch 3/2000\n",
            "4/4 [==============================] - 3s 814ms/step - loss: 0.2759 - accuracy: 0.8833 - val_loss: 0.6545 - val_accuracy: 0.7583\n",
            "Epoch 4/2000\n",
            "4/4 [==============================] - 3s 820ms/step - loss: 0.2758 - accuracy: 0.8917 - val_loss: 0.4824 - val_accuracy: 0.8417\n",
            "Epoch 5/2000\n",
            "4/4 [==============================] - 3s 829ms/step - loss: 0.2817 - accuracy: 0.8958 - val_loss: 0.5766 - val_accuracy: 0.8250\n",
            "Epoch 6/2000\n",
            "4/4 [==============================] - 3s 831ms/step - loss: 0.2257 - accuracy: 0.9042 - val_loss: 0.2861 - val_accuracy: 0.9083\n",
            "Epoch 7/2000\n",
            "4/4 [==============================] - 3s 834ms/step - loss: 0.2159 - accuracy: 0.9208 - val_loss: 0.4818 - val_accuracy: 0.8583\n",
            "Epoch 8/2000\n",
            "4/4 [==============================] - 3s 843ms/step - loss: 0.2267 - accuracy: 0.9062 - val_loss: 0.5292 - val_accuracy: 0.8167\n",
            "Epoch 9/2000\n",
            "4/4 [==============================] - 3s 853ms/step - loss: 0.1642 - accuracy: 0.9458 - val_loss: 0.7335 - val_accuracy: 0.7500\n",
            "Epoch 10/2000\n",
            "4/4 [==============================] - 3s 884ms/step - loss: 0.1891 - accuracy: 0.9292 - val_loss: 0.7512 - val_accuracy: 0.7500\n",
            "Epoch 11/2000\n",
            "4/4 [==============================] - 3s 861ms/step - loss: 0.1972 - accuracy: 0.9104 - val_loss: 0.9515 - val_accuracy: 0.6750\n",
            "Epoch 12/2000\n",
            "4/4 [==============================] - 3s 862ms/step - loss: 0.1642 - accuracy: 0.9312 - val_loss: 0.5228 - val_accuracy: 0.8333\n",
            "Epoch 13/2000\n",
            "4/4 [==============================] - 3s 862ms/step - loss: 0.1299 - accuracy: 0.9542 - val_loss: 0.4772 - val_accuracy: 0.8333\n",
            "Epoch 14/2000\n",
            "4/4 [==============================] - 3s 862ms/step - loss: 0.2462 - accuracy: 0.8958 - val_loss: 0.6353 - val_accuracy: 0.8000\n",
            "Epoch 15/2000\n",
            "4/4 [==============================] - 3s 853ms/step - loss: 0.1275 - accuracy: 0.9500 - val_loss: 0.5912 - val_accuracy: 0.8167\n",
            "Epoch 16/2000\n",
            "4/4 [==============================] - 3s 852ms/step - loss: 0.1186 - accuracy: 0.9583 - val_loss: 0.6349 - val_accuracy: 0.8167\n",
            "Epoch 17/2000\n",
            "4/4 [==============================] - 3s 844ms/step - loss: 0.1406 - accuracy: 0.9375 - val_loss: 0.5580 - val_accuracy: 0.8250\n",
            "Epoch 18/2000\n",
            "4/4 [==============================] - 3s 839ms/step - loss: 0.1130 - accuracy: 0.9542 - val_loss: 1.0414 - val_accuracy: 0.7333\n",
            "Epoch 19/2000\n",
            "4/4 [==============================] - 3s 839ms/step - loss: 0.1646 - accuracy: 0.9375 - val_loss: 0.6861 - val_accuracy: 0.8083\n",
            "Epoch 20/2000\n",
            "4/4 [==============================] - 3s 831ms/step - loss: 0.0936 - accuracy: 0.9729 - val_loss: 0.7222 - val_accuracy: 0.7833\n",
            "Epoch 21/2000\n",
            "4/4 [==============================] - 3s 832ms/step - loss: 0.0899 - accuracy: 0.9688 - val_loss: 0.6538 - val_accuracy: 0.8167\n",
            "Epoch 22/2000\n",
            "4/4 [==============================] - 3s 831ms/step - loss: 0.1099 - accuracy: 0.9604 - val_loss: 0.7914 - val_accuracy: 0.8333\n",
            "Epoch 23/2000\n",
            "4/4 [==============================] - 3s 831ms/step - loss: 0.1738 - accuracy: 0.9333 - val_loss: 0.6905 - val_accuracy: 0.8083\n",
            "Epoch 24/2000\n",
            "4/4 [==============================] - 3s 826ms/step - loss: 0.0773 - accuracy: 0.9750 - val_loss: 0.6447 - val_accuracy: 0.8333\n",
            "Epoch 25/2000\n",
            "4/4 [==============================] - 3s 825ms/step - loss: 0.0879 - accuracy: 0.9667 - val_loss: 0.6357 - val_accuracy: 0.8333\n",
            "Epoch 26/2000\n",
            "4/4 [==============================] - 3s 821ms/step - loss: 0.0886 - accuracy: 0.9729 - val_loss: 1.3155 - val_accuracy: 0.6583\n"
          ]
        }
      ]
    },
    {
      "cell_type": "code",
      "source": [
        "# for you !\n",
        "import matplotlib.pyplot as plt\n",
        "%matplotlib inline\n",
        "# Plot the learning curves and analyze them\n",
        "# Babysit your model\n",
        "fig, (ax1, ax2) = plt.subplots(1, 2, figsize=(26,8))\n",
        "\n",
        "ax1.plot(history.history['loss'], label=\"loss\")\n",
        "ax1.plot(history.history['val_loss'], label=\"val_loss\")\n",
        "ax1.legend()\n",
        "ax2.plot(history.history['accuracy'], label=\"accuracy\")\n",
        "ax2.plot(history.history['val_accuracy'], label=\"val_accuracy\")\n",
        "ax2.legend()\n",
        "plt.show()"
      ],
      "metadata": {
        "colab": {
          "base_uri": "https://localhost:8080/",
          "height": 503
        },
        "id": "v4VxnPL6n7Qs",
        "outputId": "b721620e-ff8c-4e82-e87c-12113125c5de"
      },
      "execution_count": 31,
      "outputs": [
        {
          "output_type": "display_data",
          "data": {
            "image/png": "[encoded data removed]",
            "text/plain": [
              "<Figure size 1872x576 with 2 Axes>"
            ]
          },
          "metadata": {
            "needs_background": "light"
          }
        }
      ]
    },
    {
      "cell_type": "code",
      "source": [
        "matrix = confusion_matrix(yTest.argmax(axis=1), model.predict(xTest).argmax(axis=1))\n",
        "matrix"
      ],
      "metadata": {
        "colab": {
          "base_uri": "https://localhost:8080/"
        },
        "id": "nDoiKLzQohON",
        "outputId": "f5c68925-0231-49ed-fa5c-d6cdb6cb73c4"
      },
      "execution_count": 32,
      "outputs": [
        {
          "output_type": "execute_result",
          "data": {
            "text/plain": [
              "array([[  0, 373,   1],\n",
              "       [  0, 290,   0],\n",
              "       [  0, 327,   0]])"
            ]
          },
          "metadata": {},
          "execution_count": 32
        }
      ]
    }
  ],
  "metadata": {
    "colab": {
      "collapsed_sections": [],
      "name": "TPcnn2021-sujet.ipynb",
      "provenance": []
    },
    "hide_input": false,
    "kernelspec": {
      "display_name": "Python 3",
      "language": "python",
      "name": "python3"
    },
    "language_info": {
      "codemirror_mode": {
        "name": "ipython",
        "version": 3
      },
      "file_extension": ".py",
      "mimetype": "text/x-python",
      "name": "python",
      "nbconvert_exporter": "python",
      "pygments_lexer": "ipython3",
      "version": "3.8.10"
    },
    "latex_envs": {
      "LaTeX_envs_menu_present": true,
      "autoclose": false,
      "autocomplete": true,
      "bibliofile": "biblio.bib",
      "cite_by": "apalike",
      "current_citInitial": 1,
      "eqLabelWithNumbers": true,
      "eqNumInitial": 1,
      "hotkeys": {
        "equation": "Ctrl-E",
        "itemize": "Ctrl-I"
      },
      "labels_anchors": false,
      "latex_user_defs": false,
      "report_style_numbering": false,
      "user_envs_cfg": false
    },
    "toc": {
      "base_numbering": 1,
      "nav_menu": {},
      "number_sections": true,
      "sideBar": true,
      "skip_h1_title": false,
      "title_cell": "Table of Contents",
      "title_sidebar": "Contents",
      "toc_cell": false,
      "toc_position": {},
      "toc_section_display": true,
      "toc_window_display": false
    },
    "varInspector": {
      "cols": {
        "lenName": 16,
        "lenType": 16,
        "lenVar": 40
      },
      "kernels_config": {
        "python": {
          "delete_cmd_postfix": "",
          "delete_cmd_prefix": "del ",
          "library": "var_list.py",
          "varRefreshCmd": "print(var_dic_list())"
        },
        "r": {
          "delete_cmd_postfix": ") ",
          "delete_cmd_prefix": "rm(",
          "library": "var_list.r",
          "varRefreshCmd": "cat(var_dic_list()) "
        }
      },
      "position": {
        "height": "121.85px",
        "left": "491.667px",
        "right": "20px",
        "top": "120px",
        "width": "341.667px"
      },
      "types_to_exclude": [
        "module",
        "function",
        "builtin_function_or_method",
        "instance",
        "_Feature"
      ],
      "window_display": false
    },
    "accelerator": "GPU"
  },
  "nbformat": 4,
  "nbformat_minor": 0
}