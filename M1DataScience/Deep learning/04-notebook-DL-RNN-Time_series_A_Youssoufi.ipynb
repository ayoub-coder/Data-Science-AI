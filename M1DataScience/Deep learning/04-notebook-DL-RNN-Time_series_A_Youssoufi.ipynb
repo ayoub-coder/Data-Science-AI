{
 "cells": [
  {
   "cell_type": "markdown",
   "metadata": {},
   "source": [
    "# Time series prediction with LSTM (student notebook)\n",
    "\n",
    "Neural networks like Long Short-Term Memory (LSTM) recurrent neural networks are able to almost seamlessly model problems with multiple input variables.\n",
    "\n",
    "This is a great benefit in time series forecasting, where classical linear methods can be difficult to adapt to multivariate or multiple input forecasting problems.\n",
    "\n",
    "In this lab, you will discover how you can develop an LSTM model for multivariate time series forecasting with the Keras deep learning library."
   ]
  },
  {
   "cell_type": "code",
   "execution_count": 109,
   "metadata": {
    "ExecuteTime": {
     "end_time": "2022-01-29T14:25:22.175838Z",
     "start_time": "2022-01-29T14:25:22.074091Z"
    }
   },
   "outputs": [
    {
     "data": {
      "text/html": [
       "<div id=\"my_id_menu_nb\">run previous cell, wait for 2 seconds</div>\n",
       "<script>\n",
       "function repeat_indent_string(n){\n",
       "    var a = \"\" ;\n",
       "    for ( ; n > 0 ; --n)\n",
       "        a += \"    \";\n",
       "    return a;\n",
       "}\n",
       "// look up into all sections and builds an automated menu //\n",
       "var update_menu_string = function(begin, lfirst, llast, sformat, send, keep_item, begin_format, end_format) {\n",
       "    var anchors = document.getElementsByClassName(\"section\");\n",
       "    if (anchors.length == 0) {\n",
       "        anchors = document.getElementsByClassName(\"text_cell_render rendered_html\");\n",
       "    }\n",
       "    var i,t;\n",
       "    var text_menu = begin;\n",
       "    var text_memo = \"<pre>\\nlength:\" + anchors.length + \"\\n\";\n",
       "    var ind = \"\";\n",
       "    var memo_level = 1;\n",
       "    var href;\n",
       "    var tags = [];\n",
       "    var main_item = 0;\n",
       "    var format_open = 0;\n",
       "    for (i = 0; i <= llast; i++)\n",
       "        tags.push(\"h\" + i);\n",
       "\n",
       "    for (i = 0; i < anchors.length; i++) {\n",
       "        text_memo += \"**\" + anchors[i].id + \"--\\n\";\n",
       "\n",
       "        var child = null;\n",
       "        for(t = 0; t < tags.length; t++) {\n",
       "            var r = anchors[i].getElementsByTagName(tags[t]);\n",
       "            if (r.length > 0) {\n",
       "child = r[0];\n",
       "break;\n",
       "            }\n",
       "        }\n",
       "        if (child == null) {\n",
       "            text_memo += \"null\\n\";\n",
       "            continue;\n",
       "        }\n",
       "        if (anchors[i].hasAttribute(\"id\")) {\n",
       "            // when converted in RST\n",
       "            href = anchors[i].id;\n",
       "            text_memo += \"#1-\" + href;\n",
       "            // passer à child suivant (le chercher)\n",
       "        }\n",
       "        else if (child.hasAttribute(\"id\")) {\n",
       "            // in a notebook\n",
       "            href = child.id;\n",
       "            text_memo += \"#2-\" + href;\n",
       "        }\n",
       "        else {\n",
       "            text_memo += \"#3-\" + \"*\" + \"\\n\";\n",
       "            continue;\n",
       "        }\n",
       "        var title = child.textContent;\n",
       "        var level = parseInt(child.tagName.substring(1,2));\n",
       "\n",
       "        text_memo += \"--\" + level + \"?\" + lfirst + \"--\" + title + \"\\n\";\n",
       "\n",
       "        if ((level < lfirst) || (level > llast)) {\n",
       "            continue ;\n",
       "        }\n",
       "        if (title.endsWith('¶')) {\n",
       "            title = title.substring(0,title.length-1).replace(\"<\", \"&lt;\")\n",
       "         .replace(\">\", \"&gt;\").replace(\"&\", \"&amp;\");\n",
       "        }\n",
       "        if (title.length == 0) {\n",
       "            continue;\n",
       "        }\n",
       "\n",
       "        while (level < memo_level) {\n",
       "            text_menu += end_format + \"</ul>\\n\";\n",
       "            format_open -= 1;\n",
       "            memo_level -= 1;\n",
       "        }\n",
       "        if (level == lfirst) {\n",
       "            main_item += 1;\n",
       "        }\n",
       "        if (keep_item != -1 && main_item != keep_item + 1) {\n",
       "            // alert(main_item + \" - \" + level + \" - \" + keep_item);\n",
       "            continue;\n",
       "        }\n",
       "        while (level > memo_level) {\n",
       "            text_menu += \"<ul>\\n\";\n",
       "            memo_level += 1;\n",
       "        }\n",
       "        text_menu += repeat_indent_string(level-2);\n",
       "        text_menu += begin_format + sformat.replace(\"__HREF__\", href).replace(\"__TITLE__\", title);\n",
       "        format_open += 1;\n",
       "    }\n",
       "    while (1 < memo_level) {\n",
       "        text_menu += end_format + \"</ul>\\n\";\n",
       "        memo_level -= 1;\n",
       "        format_open -= 1;\n",
       "    }\n",
       "    text_menu += send;\n",
       "    //text_menu += \"\\n\" + text_memo;\n",
       "\n",
       "    while (format_open > 0) {\n",
       "        text_menu += end_format;\n",
       "        format_open -= 1;\n",
       "    }\n",
       "    return text_menu;\n",
       "};\n",
       "var update_menu = function() {\n",
       "    var sbegin = \"\";\n",
       "    var sformat = '<a href=\"#__HREF__\">__TITLE__</a>';\n",
       "    var send = \"\";\n",
       "    var begin_format = '<li>';\n",
       "    var end_format = '</li>';\n",
       "    var keep_item = -1;\n",
       "    var text_menu = update_menu_string(sbegin, 2, 4, sformat, send, keep_item,\n",
       "       begin_format, end_format);\n",
       "    var menu = document.getElementById(\"my_id_menu_nb\");\n",
       "    menu.innerHTML=text_menu;\n",
       "};\n",
       "window.setTimeout(update_menu,2000);\n",
       "            </script>"
      ],
      "text/plain": [
       "<IPython.core.display.HTML object>"
      ]
     },
     "execution_count": 109,
     "metadata": {},
     "output_type": "execute_result"
    }
   ],
   "source": [
    "\"\"\"\n",
    "(Practical tip) Table of contents can be compiled directly in jupyter notebooks using the following code:\n",
    "I set an exception: if the package is in your installation you can import it otherwise you download it \n",
    "then import it.\n",
    "\"\"\"\n",
    "try:\n",
    "    from jyquickhelper import add_notebook_menu \n",
    "except:\n",
    "    !pip install jyquickhelper\n",
    "    from jyquickhelper import add_notebook_menu\n",
    "    \n",
    "\"\"\"\n",
    "Output Table of contents to navigate easily in the notebook. \n",
    "For interested readers, the package also includes Ipython magic commands to go back to this cell\n",
    "wherever you are in the notebook to look for cells faster\n",
    "\"\"\"\n",
    "add_notebook_menu()"
   ]
  },
  {
   "cell_type": "markdown",
   "metadata": {},
   "source": [
    "## Imports"
   ]
  },
  {
   "cell_type": "code",
   "execution_count": 110,
   "metadata": {},
   "outputs": [],
   "source": [
    "import ssl\n",
    "\n",
    "ssl._create_default_https_context = ssl._create_unverified_context"
   ]
  },
  {
   "cell_type": "code",
   "execution_count": 111,
   "metadata": {},
   "outputs": [],
   "source": [
    "import matplotlib.pyplot as plt\n",
    "\n",
    "import math\n",
    "import numpy as np \n",
    "import pandas as pd"
   ]
  },
  {
   "cell_type": "code",
   "execution_count": 112,
   "metadata": {},
   "outputs": [],
   "source": [
    "from sklearn.compose import ColumnTransformer\n",
    "from sklearn.pipeline import Pipeline, FeatureUnion\n",
    "from sklearn.impute import SimpleImputer\n",
    "from sklearn.preprocessing import StandardScaler, OneHotEncoder, MinMaxScaler\n",
    "from sklearn.metrics import mean_squared_error"
   ]
  },
  {
   "cell_type": "code",
   "execution_count": 113,
   "metadata": {
    "ExecuteTime": {
     "end_time": "2021-10-05T11:20:34.597080Z",
     "start_time": "2021-10-05T11:20:30.132002Z"
    }
   },
   "outputs": [],
   "source": [
    "import tensorflow as tf\n",
    "from tensorflow.keras.callbacks import EarlyStopping, ModelCheckpoint\n",
    "from tensorflow.keras.models import Model, load_model\n",
    "from tensorflow.keras.layers import Input, Dense, Embedding, Flatten, LSTM, Bidirectional, AveragePooling1D, RepeatVector\n",
    "from tensorflow.keras import utils"
   ]
  },
  {
   "cell_type": "markdown",
   "metadata": {},
   "source": [
    "## LSTM network for uni-variate time series\n",
    "\n",
    "LSTM can be used to model univariate time series forecasting problems.\n",
    "\n",
    "These problems consist of a single set of observations and a model is needed to learn from the past set of observations in order to forecast the next value in the sequence.\n",
    "\n",
    "We will demonstrate a number of variations of the LSTM model for univariate time series forecasting.\n",
    "\n",
    "Be careful not to draw hasty conclusions about the relative performance of the models. The number of layers or neurons are highly variable between models."
   ]
  },
  {
   "cell_type": "markdown",
   "metadata": {},
   "source": [
    "### Data preparation\n",
    "\n",
    "#### A first example\n",
    "\n",
    "Consider a given univariate sequence: `[10, 20, 30, 40, 50, 60, 70, 80, 90]`\n",
    "\n",
    "We can divide the sequence into multiple input/output patterns called samples, where three time steps are used as input and one time step is used as output for the one-step prediction that is being learned.\n",
    "\n",
    "`X,\t\t\t\ty\n",
    "10, 20, 30\t\t40\n",
    "20, 30, 40\t\t50\n",
    "30, 40, 50\t\t60\n",
    "...`\n",
    "\n",
    "The `series_to_supervised()` function below implements this behavior and will split a given univariate sequence into multiple samples where each sample has a specified number of time steps (`n_in, by default 3`) and the output has also a specified number of time steps (`n_out, by default 1`).\n",
    "\n",
    "By default, the data to predict is the last columns."
   ]
  },
  {
   "cell_type": "code",
   "execution_count": 114,
   "metadata": {
    "ExecuteTime": {
     "end_time": "2022-01-29T14:26:15.251343Z",
     "start_time": "2022-01-29T14:26:15.241331Z"
    }
   },
   "outputs": [],
   "source": [
    "def series_to_supervised(data, n_in=3, n_out=1, output=None, dropnan=True):\n",
    "    n_vars = 1 if type(data) is list else data.shape[1]\n",
    "    output =  [data.columns[-1]] if output is None else output\n",
    "    df = pd.DataFrame(data)\n",
    "    cols, names = list(), list()\n",
    "    \n",
    "    # input sequence (t-n, ... t-1)\n",
    "    for i in range(n_in, 0, -1):\n",
    "        cols += [df.shift(i)]\n",
    "        names += [('%s(t-%d)' % (j, i)) for j in data.columns]\n",
    "    \n",
    "    # forecast sequence (t, t+1, ... t+n)\n",
    "    for i in range(0, n_out):\n",
    "        cols += [df[output].shift(-i)]\n",
    "        if i == 0:\n",
    "            names += [('%s(t)' % (j)) for j in output]\n",
    "        else:\n",
    "            names += [('%s(t+%d)' % (j, i)) for j in output]\n",
    "    \n",
    "    # put it all together\n",
    "    agg = pd.concat(cols, axis=1)\n",
    "    agg.columns = names\n",
    "    \n",
    "    # drop rows with NaN values\n",
    "    if dropnan:\n",
    "        agg.dropna(inplace=True)\n",
    "    return agg"
   ]
  },
  {
   "cell_type": "markdown",
   "metadata": {
    "ExecuteTime": {
     "end_time": "2022-01-29T14:26:44.037802Z",
     "start_time": "2022-01-29T14:26:44.021395Z"
    }
   },
   "source": [
    "<font color='red'>\n",
    "$TO DO - Students$\n",
    "\n",
    "* create the time series mentioned in the first exemple.\n",
    "</font>"
   ]
  },
  {
   "cell_type": "code",
   "execution_count": 115,
   "metadata": {
    "ExecuteTime": {
     "end_time": "2022-02-02T08:05:05.695951Z",
     "start_time": "2022-02-02T08:05:05.687809Z"
    }
   },
   "outputs": [],
   "source": [
    "my_time_series = pd.DataFrame([0,10, 20, 30, 40, 50, 60, 70, 80, 90])"
   ]
  },
  {
   "cell_type": "code",
   "execution_count": 117,
   "metadata": {},
   "outputs": [
    {
     "data": {
      "text/html": [
       "<div>\n",
       "<style scoped>\n",
       "    .dataframe tbody tr th:only-of-type {\n",
       "        vertical-align: middle;\n",
       "    }\n",
       "\n",
       "    .dataframe tbody tr th {\n",
       "        vertical-align: top;\n",
       "    }\n",
       "\n",
       "    .dataframe thead th {\n",
       "        text-align: right;\n",
       "    }\n",
       "</style>\n",
       "<table border=\"1\" class=\"dataframe\">\n",
       "  <thead>\n",
       "    <tr style=\"text-align: right;\">\n",
       "      <th></th>\n",
       "      <th>0</th>\n",
       "    </tr>\n",
       "  </thead>\n",
       "  <tbody>\n",
       "    <tr>\n",
       "      <th>0</th>\n",
       "      <td>0</td>\n",
       "    </tr>\n",
       "    <tr>\n",
       "      <th>1</th>\n",
       "      <td>10</td>\n",
       "    </tr>\n",
       "    <tr>\n",
       "      <th>2</th>\n",
       "      <td>20</td>\n",
       "    </tr>\n",
       "    <tr>\n",
       "      <th>3</th>\n",
       "      <td>30</td>\n",
       "    </tr>\n",
       "    <tr>\n",
       "      <th>4</th>\n",
       "      <td>40</td>\n",
       "    </tr>\n",
       "    <tr>\n",
       "      <th>5</th>\n",
       "      <td>50</td>\n",
       "    </tr>\n",
       "    <tr>\n",
       "      <th>6</th>\n",
       "      <td>60</td>\n",
       "    </tr>\n",
       "    <tr>\n",
       "      <th>7</th>\n",
       "      <td>70</td>\n",
       "    </tr>\n",
       "    <tr>\n",
       "      <th>8</th>\n",
       "      <td>80</td>\n",
       "    </tr>\n",
       "    <tr>\n",
       "      <th>9</th>\n",
       "      <td>90</td>\n",
       "    </tr>\n",
       "  </tbody>\n",
       "</table>\n",
       "</div>"
      ],
      "text/plain": [
       "    0\n",
       "0   0\n",
       "1  10\n",
       "2  20\n",
       "3  30\n",
       "4  40\n",
       "5  50\n",
       "6  60\n",
       "7  70\n",
       "8  80\n",
       "9  90"
      ]
     },
     "execution_count": 117,
     "metadata": {},
     "output_type": "execute_result"
    }
   ],
   "source": [
    "my_time_series"
   ]
  },
  {
   "cell_type": "code",
   "execution_count": 116,
   "metadata": {
    "ExecuteTime": {
     "end_time": "2022-02-02T08:05:06.447611Z",
     "start_time": "2022-02-02T08:05:06.306492Z"
    }
   },
   "outputs": [
    {
     "data": {
      "text/html": [
       "<div>\n",
       "<style scoped>\n",
       "    .dataframe tbody tr th:only-of-type {\n",
       "        vertical-align: middle;\n",
       "    }\n",
       "\n",
       "    .dataframe tbody tr th {\n",
       "        vertical-align: top;\n",
       "    }\n",
       "\n",
       "    .dataframe thead th {\n",
       "        text-align: right;\n",
       "    }\n",
       "</style>\n",
       "<table border=\"1\" class=\"dataframe\">\n",
       "  <thead>\n",
       "    <tr style=\"text-align: right;\">\n",
       "      <th></th>\n",
       "      <th>0(t-3)</th>\n",
       "      <th>0(t-2)</th>\n",
       "      <th>0(t-1)</th>\n",
       "      <th>0(t)</th>\n",
       "    </tr>\n",
       "  </thead>\n",
       "  <tbody>\n",
       "    <tr>\n",
       "      <th>3</th>\n",
       "      <td>0.0</td>\n",
       "      <td>10.0</td>\n",
       "      <td>20.0</td>\n",
       "      <td>30</td>\n",
       "    </tr>\n",
       "    <tr>\n",
       "      <th>4</th>\n",
       "      <td>10.0</td>\n",
       "      <td>20.0</td>\n",
       "      <td>30.0</td>\n",
       "      <td>40</td>\n",
       "    </tr>\n",
       "    <tr>\n",
       "      <th>5</th>\n",
       "      <td>20.0</td>\n",
       "      <td>30.0</td>\n",
       "      <td>40.0</td>\n",
       "      <td>50</td>\n",
       "    </tr>\n",
       "    <tr>\n",
       "      <th>6</th>\n",
       "      <td>30.0</td>\n",
       "      <td>40.0</td>\n",
       "      <td>50.0</td>\n",
       "      <td>60</td>\n",
       "    </tr>\n",
       "    <tr>\n",
       "      <th>7</th>\n",
       "      <td>40.0</td>\n",
       "      <td>50.0</td>\n",
       "      <td>60.0</td>\n",
       "      <td>70</td>\n",
       "    </tr>\n",
       "  </tbody>\n",
       "</table>\n",
       "</div>"
      ],
      "text/plain": [
       "   0(t-3)  0(t-2)  0(t-1)  0(t)\n",
       "3     0.0    10.0    20.0    30\n",
       "4    10.0    20.0    30.0    40\n",
       "5    20.0    30.0    40.0    50\n",
       "6    30.0    40.0    50.0    60\n",
       "7    40.0    50.0    60.0    70"
      ]
     },
     "execution_count": 116,
     "metadata": {},
     "output_type": "execute_result"
    }
   ],
   "source": [
    "data = series_to_supervised(my_time_series, n_in=3, n_out=1)\n",
    "data.head()"
   ]
  },
  {
   "cell_type": "markdown",
   "metadata": {
    "ExecuteTime": {
     "end_time": "2022-02-02T08:04:26.423558Z",
     "start_time": "2022-02-02T08:04:26.413885Z"
    }
   },
   "source": [
    "<font color='blue'>\n",
    "    <bold>Head of the previous dataset</bold>\n",
    "\n",
    "`\t0(t-3)\t0(t-2)\t0(t-1)\t0(t)\n",
    "3\t0.0\t10.0\t20.0\t30\n",
    "4\t10.0\t20.0\t30.0\t40\n",
    "5\t20.0\t30.0\t40.0\t50\n",
    "6\t30.0\t40.0\t50.0\t60\n",
    "7\t40.0\t50.0\t60.0\t70\n",
    "`\n",
    "</font>"
   ]
  },
  {
   "cell_type": "markdown",
   "metadata": {},
   "source": [
    "#### Do the same for a more sophisticated series"
   ]
  },
  {
   "cell_type": "code",
   "execution_count": 9,
   "metadata": {
    "ExecuteTime": {
     "end_time": "2022-01-29T14:29:34.174411Z",
     "start_time": "2022-01-29T14:29:33.942263Z"
    }
   },
   "outputs": [],
   "source": [
    "SIZE = 250\n",
    "time_stamps = range(SIZE)\n",
    "\n",
    "fct = lambda x: x*math.sin(x)\n",
    "time_series = pd.DataFrame(data={\"data\":[fct(x) for x in range(SIZE)]})\n",
    "n_features = my_time_series.shape[1] # for univariate time series"
   ]
  },
  {
   "cell_type": "markdown",
   "metadata": {},
   "source": [
    "<font color='red'>\n",
    "$TO DO - Students$\n",
    "\n",
    "* Plot the time series generated thanks to x --> x*sin(x) with 250 timestamps\n",
    "* label x and y axis\n",
    "</font>"
   ]
  },
  {
   "cell_type": "code",
   "execution_count": 10,
   "metadata": {},
   "outputs": [
    {
     "data": {
      "text/plain": [
       "[<matplotlib.lines.Line2D at 0x1850410d820>]"
      ]
     },
     "execution_count": 10,
     "metadata": {},
     "output_type": "execute_result"
    },
    {
     "data": {
      "image/png": "[encoded data removed]",
      "text/plain": [
       "<Figure size 432x288 with 1 Axes>"
      ]
     },
     "metadata": {
      "needs_background": "light"
     },
     "output_type": "display_data"
    }
   ],
   "source": [
    "%matplotlib inline \n",
    "plt.plot(time_stamps,time_series)"
   ]
  },
  {
   "cell_type": "markdown",
   "metadata": {},
   "source": [
    "<font color='red'>\n",
    "$TO DO - Students$\n",
    "\n",
    "* Using `series_to_supervise` split data into samples with n_in = 6 and n_out = 1\n",
    "* Put the result in variable data\n",
    "</font>"
   ]
  },
  {
   "cell_type": "code",
   "execution_count": 12,
   "metadata": {
    "ExecuteTime": {
     "end_time": "2021-10-05T11:20:40.151621Z",
     "start_time": "2021-10-05T11:20:40.129102Z"
    }
   },
   "outputs": [
    {
     "data": {
      "text/html": [
       "<div>\n",
       "<style scoped>\n",
       "    .dataframe tbody tr th:only-of-type {\n",
       "        vertical-align: middle;\n",
       "    }\n",
       "\n",
       "    .dataframe tbody tr th {\n",
       "        vertical-align: top;\n",
       "    }\n",
       "\n",
       "    .dataframe thead th {\n",
       "        text-align: right;\n",
       "    }\n",
       "</style>\n",
       "<table border=\"1\" class=\"dataframe\">\n",
       "  <thead>\n",
       "    <tr style=\"text-align: right;\">\n",
       "      <th></th>\n",
       "      <th>data(t-6)</th>\n",
       "      <th>data(t-5)</th>\n",
       "      <th>data(t-4)</th>\n",
       "      <th>data(t-3)</th>\n",
       "      <th>data(t-2)</th>\n",
       "      <th>data(t-1)</th>\n",
       "      <th>data(t)</th>\n",
       "    </tr>\n",
       "  </thead>\n",
       "  <tbody>\n",
       "    <tr>\n",
       "      <th>6</th>\n",
       "      <td>0.000000</td>\n",
       "      <td>0.841471</td>\n",
       "      <td>1.818595</td>\n",
       "      <td>0.423360</td>\n",
       "      <td>-3.027210</td>\n",
       "      <td>-4.794621</td>\n",
       "      <td>-1.676493</td>\n",
       "    </tr>\n",
       "    <tr>\n",
       "      <th>7</th>\n",
       "      <td>0.841471</td>\n",
       "      <td>1.818595</td>\n",
       "      <td>0.423360</td>\n",
       "      <td>-3.027210</td>\n",
       "      <td>-4.794621</td>\n",
       "      <td>-1.676493</td>\n",
       "      <td>4.598906</td>\n",
       "    </tr>\n",
       "    <tr>\n",
       "      <th>8</th>\n",
       "      <td>1.818595</td>\n",
       "      <td>0.423360</td>\n",
       "      <td>-3.027210</td>\n",
       "      <td>-4.794621</td>\n",
       "      <td>-1.676493</td>\n",
       "      <td>4.598906</td>\n",
       "      <td>7.914866</td>\n",
       "    </tr>\n",
       "    <tr>\n",
       "      <th>9</th>\n",
       "      <td>0.423360</td>\n",
       "      <td>-3.027210</td>\n",
       "      <td>-4.794621</td>\n",
       "      <td>-1.676493</td>\n",
       "      <td>4.598906</td>\n",
       "      <td>7.914866</td>\n",
       "      <td>3.709066</td>\n",
       "    </tr>\n",
       "    <tr>\n",
       "      <th>10</th>\n",
       "      <td>-3.027210</td>\n",
       "      <td>-4.794621</td>\n",
       "      <td>-1.676493</td>\n",
       "      <td>4.598906</td>\n",
       "      <td>7.914866</td>\n",
       "      <td>3.709066</td>\n",
       "      <td>-5.440211</td>\n",
       "    </tr>\n",
       "  </tbody>\n",
       "</table>\n",
       "</div>"
      ],
      "text/plain": [
       "    data(t-6)  data(t-5)  data(t-4)  data(t-3)  data(t-2)  data(t-1)   data(t)\n",
       "6    0.000000   0.841471   1.818595   0.423360  -3.027210  -4.794621 -1.676493\n",
       "7    0.841471   1.818595   0.423360  -3.027210  -4.794621  -1.676493  4.598906\n",
       "8    1.818595   0.423360  -3.027210  -4.794621  -1.676493   4.598906  7.914866\n",
       "9    0.423360  -3.027210  -4.794621  -1.676493   4.598906   7.914866  3.709066\n",
       "10  -3.027210  -4.794621  -1.676493   4.598906   7.914866   3.709066 -5.440211"
      ]
     },
     "execution_count": 12,
     "metadata": {},
     "output_type": "execute_result"
    }
   ],
   "source": [
    "\"\"\" FILL \"\"\"\n",
    "n_in = 6\n",
    "n_out = 1\n",
    "data = series_to_supervised(time_series, n_in, n_out)\n",
    "data.head()"
   ]
  },
  {
   "cell_type": "markdown",
   "metadata": {
    "ExecuteTime": {
     "end_time": "2022-02-02T08:08:28.888096Z",
     "start_time": "2022-02-02T08:08:28.865976Z"
    }
   },
   "source": [
    "<font color='blue'>\n",
    "    <bold>Head of the previous dataset</bold>\n",
    "\n",
    "`data(t-6)\tdata(t-5)\tdata(t-4)\tdata(t-3)\tdata(t-2)\tdata(t-1)\tdata(t)\n",
    "6\t0.000000\t0.841471\t1.818595\t0.423360\t-3.027210\t-4.794621\t-1.676493\n",
    "7\t0.841471\t1.818595\t0.423360\t-3.027210\t-4.794621\t-1.676493\t4.598906\n",
    "8\t1.818595\t0.423360\t-3.027210\t-4.794621\t-1.676493\t4.598906\t7.914866\n",
    "9\t0.423360\t-3.027210\t-4.794621\t-1.676493\t4.598906\t7.914866\t3.709066\n",
    "10\t-3.027210\t-4.794621\t-1.676493\t4.598906\t7.914866\t3.709066\t-5.440211\n",
    "`\n",
    "</font>"
   ]
  },
  {
   "cell_type": "markdown",
   "metadata": {},
   "source": [
    "Contrary to the approaches used so far, we cannot separate the data into TRAIN, VALID and TEST in a random way, since we are dealing with time series where the order is important.\n",
    "\n",
    "The TRAIN data will therefore necessarily be at the beginning, then we will find the VALIDATION data and finally the TEST data.\n",
    "\n",
    "Here are the chosen indices."
   ]
  },
  {
   "cell_type": "code",
   "execution_count": 13,
   "metadata": {
    "ExecuteTime": {
     "end_time": "2021-10-05T11:20:41.520790Z",
     "start_time": "2021-10-05T11:20:41.514078Z"
    }
   },
   "outputs": [
    {
     "name": "stdout",
     "output_type": "stream",
     "text": [
      "TRAIN=time_series[:196]\n",
      "VALID=time_series[196:220]\n",
      "TEST=time_series[220:]\n"
     ]
    }
   ],
   "source": [
    "testAndValid = 0.1\n",
    "\n",
    "SPLIT = int(testAndValid*len(data))\n",
    "idx_train = len(data)-2*SPLIT\n",
    "idx_test = len(data)-SPLIT\n",
    "\n",
    "print(\"TRAIN=time_series[:\"+str(idx_train)+\"]\")\n",
    "print(\"VALID=time_series[\"+str(idx_train)+\":\"+str(idx_test)+\"]\")\n",
    "print(\"TEST=time_series[\"+str(idx_test)+\":]\")\n",
    "\n",
    "TRAIN=data[:idx_train]\n",
    "VAL=data[idx_train:idx_test]\n",
    "TEST=data[idx_test:]"
   ]
  },
  {
   "cell_type": "code",
   "execution_count": 14,
   "metadata": {
    "ExecuteTime": {
     "end_time": "2021-10-05T11:20:42.334185Z",
     "start_time": "2021-10-05T11:20:42.030549Z"
    }
   },
   "outputs": [
    {
     "data": {
      "image/png": "[encoded data removed]",
      "text/plain": [
       "<Figure size 720x288 with 1 Axes>"
      ]
     },
     "metadata": {
      "needs_background": "light"
     },
     "output_type": "display_data"
    }
   ],
   "source": [
    "plt.figure(figsize=(10, 4))\n",
    "plt.plot(TRAIN['data(t)'], label=\"train\")\n",
    "plt.plot(VAL['data(t)'], label=\"val\")\n",
    "plt.plot(TEST['data(t)'], label=\"test\")\n",
    "plt.legend()\n",
    "plt.xlabel(\"time stamps\");\n",
    "plt.ylabel(\"time series\");"
   ]
  },
  {
   "cell_type": "markdown",
   "metadata": {},
   "source": [
    "<font color='red'>\n",
    "$TO DO - Students$\n",
    "\n",
    "* complete the code for preprocessing your train/validation/test datasets.\n",
    "</font>"
   ]
  },
  {
   "cell_type": "code",
   "execution_count": 15,
   "metadata": {
    "ExecuteTime": {
     "end_time": "2021-10-05T11:20:42.720955Z",
     "start_time": "2021-10-05T11:20:42.693316Z"
    }
   },
   "outputs": [
    {
     "data": {
      "text/plain": [
       "((196, 6, 1), (196,))"
      ]
     },
     "execution_count": 15,
     "metadata": {},
     "output_type": "execute_result"
    }
   ],
   "source": [
    "# split into input and outputs\n",
    "train_X, train_y = TRAIN.values[:, :-n_out], TRAIN.values[:, -n_out]\n",
    "val_X, val_y =  VAL.values[:, :-n_out], VAL.values[:, -n_out]\n",
    "test_X, test_y = TEST.values[:, :-n_out], TEST.values[:, -n_out]\n",
    "\n",
    "# reshape input to be 3D [samples, timesteps, features]\n",
    "train_X = train_X.reshape((-1, n_in, n_features))\n",
    "val_X = val_X.reshape((-1, n_in, n_features))\n",
    "test_X = test_X.reshape((-1, n_in, n_features))\n",
    "\n",
    "train_X.shape, train_y.shape"
   ]
  },
  {
   "cell_type": "markdown",
   "metadata": {
    "ExecuteTime": {
     "end_time": "2022-02-02T08:10:29.453097Z",
     "start_time": "2022-02-02T08:10:29.443677Z"
    }
   },
   "source": [
    "<font color='blue'>\n",
    "<bold>\n",
    "train_X.shape = (196, 6, 1)\n",
    "\n",
    "train_y.shape = (196,)\n",
    "</font>"
   ]
  },
  {
   "cell_type": "markdown",
   "metadata": {},
   "source": [
    "### Build a first network using LSTM cells\n",
    "<br>\n",
    "<font color='red'>\n",
    "$TO DO - Students$\n",
    "\n",
    "* Look carefully at the following cell\n",
    "* What is the impact of the `return_sequences` parameter of the LSTM cell? (change the value: False or True and observe the shape of the output).\n",
    "</font>"
   ]
  },
  {
   "cell_type": "code",
   "execution_count": 16,
   "metadata": {
    "ExecuteTime": {
     "end_time": "2021-10-05T11:20:43.941277Z",
     "start_time": "2021-10-05T11:20:43.705510Z"
    }
   },
   "outputs": [
    {
     "name": "stdout",
     "output_type": "stream",
     "text": [
      "Model: \"model\"\n",
      "_________________________________________________________________\n",
      "Layer (type)                 Output Shape              Param #   \n",
      "=================================================================\n",
      "input_1 (InputLayer)         [(None, 6, 1)]            0         \n",
      "_________________________________________________________________\n",
      "lstm (LSTM)                  (None, 70)                20160     \n",
      "_________________________________________________________________\n",
      "dense (Dense)                (None, 1)                 71        \n",
      "=================================================================\n",
      "Total params: 20,231\n",
      "Trainable params: 20,231\n",
      "Non-trainable params: 0\n",
      "_________________________________________________________________\n"
     ]
    }
   ],
   "source": [
    "LSTM_SIZE = 70\n",
    "\n",
    "inputs = Input(shape=(n_in, n_features))\n",
    "hidden = LSTM(LSTM_SIZE, return_sequences=False, activation='relu')(inputs)\n",
    "outputs = Dense(n_out, activation='linear')(hidden)\n",
    "model = Model(inputs=inputs, outputs=outputs)\n",
    "model.summary()"
   ]
  },
  {
   "cell_type": "markdown",
   "metadata": {},
   "source": [
    "<font color='red'>\n",
    "$TO DO - Students$\n",
    "\n",
    "* Complete the function build_and_fit used to train your RNN model.\n",
    "* compile : as usual\n",
    "* fit : as usual but...\n",
    "    * Be careful, you have to set the shuffle parameter to false in order to take the data in order.\n",
    "    * Use the validation set to control the overfitting in the earlystopping callback\n",
    "</font>"
   ]
  },
  {
   "cell_type": "code",
   "execution_count": 17,
   "metadata": {
    "ExecuteTime": {
     "end_time": "2021-10-05T11:20:44.132605Z",
     "start_time": "2021-10-05T11:20:44.121509Z"
    }
   },
   "outputs": [],
   "source": [
    "def build_and_fit(model, X_train, y_train, X_val, y_val, X_test, y_test):\n",
    "    model.compile(loss='mae', metrics=[\"mae\"], optimizer='adam') #the case of study is regression, therefore loss used could be MAE, MSE, RMSE \n",
    "    es = EarlyStopping(monitor='val_mae', min_delta=0.005, patience=20,\n",
    "                                verbose=2, mode='min', restore_best_weights=True)\n",
    "    history = model.fit(X_train, y_train, validation_data = (X_val,y_val), callbacks=[es],\n",
    "                    batch_size=32, epochs=20) # epochs = 200\n",
    "    y_pred = model.predict(X_test)\n",
    "    \n",
    "    # plot history\n",
    "    plt.figure(figsize=(20,8))\n",
    "\n",
    "    plt.subplot(331)\n",
    "    plt.plot(history.history['loss'][3:], label='loss')\n",
    "    plt.plot(history.history['val_loss'][3:], label='val_loss')\n",
    "    plt.legend()\n",
    "    \n",
    "    plt.subplot(332)\n",
    "    plt.plot(history.history['mae'][3:], label='mae')\n",
    "    plt.plot(history.history['val_mae'][3:], label='val_mae')\n",
    "    plt.legend()\n",
    "    \n",
    "    plt.subplot(333)\n",
    "    plt.plot(range(len(y_train)), y_train, label=\"train\")\n",
    "    plt.plot(range(len(y_train), len(y_train)+len(y_val)), y_val, label=\"valid\")\n",
    "    plt.plot(range(len(y_train)+len(y_val), len(y_train)+len(y_val)+len(y_pred)), y_test, label=\"test\")\n",
    "    plt.plot(range(len(y_train)+len(y_val), len(y_train)+len(y_val)+len(y_pred)), y_pred, label=\"predict\")\n",
    "\n",
    "    plt.legend(loc='center left')\n",
    "    plt.show()\n",
    "    \n",
    "    return model"
   ]
  },
  {
   "cell_type": "code",
   "execution_count": 18,
   "metadata": {
    "ExecuteTime": {
     "end_time": "2021-10-05T11:20:50.230976Z",
     "start_time": "2021-10-05T11:20:44.536847Z"
    }
   },
   "outputs": [
    {
     "name": "stdout",
     "output_type": "stream",
     "text": [
      "Epoch 1/20\n",
      "7/7 [==============================] - 3s 190ms/step - loss: 62.3965 - mae: 62.3965 - val_loss: 124.6758 - val_mae: 124.6758\n",
      "Epoch 2/20\n",
      "7/7 [==============================] - 1s 106ms/step - loss: 56.8349 - mae: 56.8349 - val_loss: 108.0195 - val_mae: 108.0195\n",
      "Epoch 3/20\n",
      "7/7 [==============================] - 1s 106ms/step - loss: 46.5724 - mae: 46.5724 - val_loss: 67.5195 - val_mae: 67.5195\n",
      "Epoch 4/20\n",
      "7/7 [==============================] - 1s 106ms/step - loss: 28.5836 - mae: 28.5836 - val_loss: 38.8358 - val_mae: 38.8358\n",
      "Epoch 5/20\n",
      "7/7 [==============================] - 0s 35ms/step - loss: 14.2090 - mae: 14.2090 - val_loss: 31.1813 - val_mae: 31.1813\n",
      "Epoch 6/20\n",
      "7/7 [==============================] - 0s 13ms/step - loss: 13.3723 - mae: 13.3723 - val_loss: 17.4881 - val_mae: 17.4881\n",
      "Epoch 7/20\n",
      "7/7 [==============================] - 0s 21ms/step - loss: 9.0560 - mae: 9.0560 - val_loss: 11.2994 - val_mae: 11.2994\n",
      "Epoch 8/20\n",
      "7/7 [==============================] - 0s 14ms/step - loss: 5.4657 - mae: 5.4657 - val_loss: 9.8813 - val_mae: 9.8813\n",
      "Epoch 9/20\n",
      "7/7 [==============================] - 0s 15ms/step - loss: 4.7630 - mae: 4.7630 - val_loss: 8.9442 - val_mae: 8.9442\n",
      "Epoch 10/20\n",
      "7/7 [==============================] - 0s 12ms/step - loss: 4.1181 - mae: 4.1181 - val_loss: 6.2432 - val_mae: 6.2432\n",
      "Epoch 11/20\n",
      "7/7 [==============================] - 0s 11ms/step - loss: 3.8076 - mae: 3.8076 - val_loss: 7.1751 - val_mae: 7.1751\n",
      "Epoch 12/20\n",
      "7/7 [==============================] - 0s 11ms/step - loss: 3.0551 - mae: 3.0551 - val_loss: 7.4147 - val_mae: 7.4147\n",
      "Epoch 13/20\n",
      "7/7 [==============================] - 0s 13ms/step - loss: 3.3827 - mae: 3.3827 - val_loss: 7.1809 - val_mae: 7.1809\n",
      "Epoch 14/20\n",
      "7/7 [==============================] - 0s 13ms/step - loss: 4.8182 - mae: 4.8182 - val_loss: 7.2141 - val_mae: 7.2141\n",
      "Epoch 15/20\n",
      "7/7 [==============================] - 0s 20ms/step - loss: 3.2804 - mae: 3.2804 - val_loss: 5.6856 - val_mae: 5.6856\n",
      "Epoch 16/20\n",
      "7/7 [==============================] - 0s 13ms/step - loss: 2.6479 - mae: 2.6479 - val_loss: 4.8371 - val_mae: 4.8371\n",
      "Epoch 17/20\n",
      "7/7 [==============================] - 0s 15ms/step - loss: 2.8276 - mae: 2.8276 - val_loss: 4.2352 - val_mae: 4.2352\n",
      "Epoch 18/20\n",
      "7/7 [==============================] - ETA: 0s - loss: 3.3410 - mae: 3.341 - 0s 13ms/step - loss: 2.6196 - mae: 2.6196 - val_loss: 5.8863 - val_mae: 5.8863\n",
      "Epoch 19/20\n",
      "7/7 [==============================] - 0s 12ms/step - loss: 2.0242 - mae: 2.0242 - val_loss: 3.6895 - val_mae: 3.6895\n",
      "Epoch 20/20\n",
      "7/7 [==============================] - 0s 12ms/step - loss: 2.0860 - mae: 2.0860 - val_loss: 4.5998 - val_mae: 4.5998\n"
     ]
    },
    {
     "data": {
      "image/png": "[encoded data removed]",
      "text/plain": [
       "<Figure size 1440x576 with 3 Axes>"
      ]
     },
     "metadata": {
      "needs_background": "light"
     },
     "output_type": "display_data"
    }
   ],
   "source": [
    "model = build_and_fit(model, train_X, train_y, val_X, val_y, test_X, test_y)"
   ]
  },
  {
   "cell_type": "markdown",
   "metadata": {},
   "source": [
    "### Stacked Bi-LSTM\n",
    "\n",
    "In order to improve the performance of the model, it's possible to:\n",
    "- stack LSTM with `return_sequence=True` for all levels except the last one where `return_sequence=False`\n",
    "- use Bi-LSTM"
   ]
  },
  {
   "cell_type": "markdown",
   "metadata": {},
   "source": [
    "<font color='red'>\n",
    "$TO DO - Students$\n",
    "\n",
    "* Build a model stacking 3 BI-LSTM layers \n",
    "</font>\n",
    "The creation of 3 hidden layers with Bi-LSTM"
   ]
  },
  {
   "cell_type": "code",
   "execution_count": 19,
   "metadata": {
    "ExecuteTime": {
     "end_time": "2021-10-05T11:20:53.709575Z",
     "start_time": "2021-10-05T11:20:53.261527Z"
    }
   },
   "outputs": [
    {
     "name": "stdout",
     "output_type": "stream",
     "text": [
      "Model: \"model_1\"\n",
      "_________________________________________________________________\n",
      "Layer (type)                 Output Shape              Param #   \n",
      "=================================================================\n",
      "input_2 (InputLayer)         [(None, 6, 1)]            0         \n",
      "_________________________________________________________________\n",
      "bidirectional (Bidirectional (None, 6, 32)             2304      \n",
      "_________________________________________________________________\n",
      "bidirectional_1 (Bidirection (None, 6, 32)             6272      \n",
      "_________________________________________________________________\n",
      "bidirectional_2 (Bidirection (None, 32)                6272      \n",
      "_________________________________________________________________\n",
      "dense_1 (Dense)              (None, 1)                 33        \n",
      "=================================================================\n",
      "Total params: 14,881\n",
      "Trainable params: 14,881\n",
      "Non-trainable params: 0\n",
      "_________________________________________________________________\n"
     ]
    }
   ],
   "source": [
    "LSTM_SIZE=16\n",
    "inputs = Input(shape=(n_in, n_features))\n",
    "hidden1 = Bidirectional(LSTM(LSTM_SIZE, return_sequences=True, activation='relu'))(inputs)\n",
    "hidden2 = Bidirectional(LSTM(LSTM_SIZE, return_sequences=True, activation='relu'))(hidden1)\n",
    "hidden3 = Bidirectional(LSTM(LSTM_SIZE, return_sequences=False, activation='relu'))(hidden2)\n",
    "outputs = Dense(n_out, activation='linear')(hidden3)\n",
    "model = Model(inputs=inputs, outputs=outputs)\n",
    "model.summary()"
   ]
  },
  {
   "cell_type": "code",
   "execution_count": 20,
   "metadata": {
    "ExecuteTime": {
     "end_time": "2021-10-05T11:21:15.051362Z",
     "start_time": "2021-10-05T11:20:57.765335Z"
    }
   },
   "outputs": [
    {
     "name": "stdout",
     "output_type": "stream",
     "text": [
      "Epoch 1/20\n",
      "7/7 [==============================] - 10s 224ms/step - loss: 66.5787 - mae: 66.5787 - val_loss: 134.7260 - val_mae: 134.7260\n",
      "Epoch 2/20\n",
      "7/7 [==============================] - 0s 21ms/step - loss: 62.6194 - mae: 62.6194 - val_loss: 127.6231 - val_mae: 127.6231\n",
      "Epoch 3/20\n",
      "7/7 [==============================] - 0s 19ms/step - loss: 59.0407 - mae: 59.0407 - val_loss: 116.9816 - val_mae: 116.9816\n",
      "Epoch 4/20\n",
      "7/7 [==============================] - 0s 22ms/step - loss: 53.5621 - mae: 53.5621 - val_loss: 101.2335 - val_mae: 101.2335\n",
      "Epoch 5/20\n",
      "7/7 [==============================] - 0s 22ms/step - loss: 44.7376 - mae: 44.7376 - val_loss: 78.2720 - val_mae: 78.2720\n",
      "Epoch 6/20\n",
      "7/7 [==============================] - 0s 23ms/step - loss: 31.6406 - mae: 31.6406 - val_loss: 42.1185 - val_mae: 42.1185\n",
      "Epoch 7/20\n",
      "7/7 [==============================] - 0s 20ms/step - loss: 20.1717 - mae: 20.1717 - val_loss: 26.6844 - val_mae: 26.6844\n",
      "Epoch 8/20\n",
      "7/7 [==============================] - 0s 24ms/step - loss: 14.5715 - mae: 14.5715 - val_loss: 29.2821 - val_mae: 29.2821\n",
      "Epoch 9/20\n",
      "7/7 [==============================] - 0s 21ms/step - loss: 13.4203 - mae: 13.4203 - val_loss: 34.3892 - val_mae: 34.3892\n",
      "Epoch 10/20\n",
      "7/7 [==============================] - 0s 21ms/step - loss: 12.2336 - mae: 12.2336 - val_loss: 29.9676 - val_mae: 29.9676\n",
      "Epoch 11/20\n",
      "7/7 [==============================] - 0s 22ms/step - loss: 12.4599 - mae: 12.4599 - val_loss: 30.1971 - val_mae: 30.1971\n",
      "Epoch 12/20\n",
      "7/7 [==============================] - 0s 21ms/step - loss: 9.9263 - mae: 9.9263 - val_loss: 21.1411 - val_mae: 21.1411\n",
      "Epoch 13/20\n",
      "7/7 [==============================] - 0s 21ms/step - loss: 9.1950 - mae: 9.1950 - val_loss: 21.3858 - val_mae: 21.3858\n",
      "Epoch 14/20\n",
      "7/7 [==============================] - 0s 23ms/step - loss: 8.9999 - mae: 8.9999 - val_loss: 20.1581 - val_mae: 20.1581\n",
      "Epoch 15/20\n",
      "7/7 [==============================] - 0s 22ms/step - loss: 7.7342 - mae: 7.7342 - val_loss: 19.9538 - val_mae: 19.9538\n",
      "Epoch 16/20\n",
      "7/7 [==============================] - 0s 23ms/step - loss: 6.5890 - mae: 6.5890 - val_loss: 13.9065 - val_mae: 13.9065\n",
      "Epoch 17/20\n",
      "7/7 [==============================] - 0s 23ms/step - loss: 6.9972 - mae: 6.9972 - val_loss: 17.6348 - val_mae: 17.6348\n",
      "Epoch 18/20\n",
      "7/7 [==============================] - 0s 22ms/step - loss: 7.9448 - mae: 7.9448 - val_loss: 21.1010 - val_mae: 21.1010\n",
      "Epoch 19/20\n",
      "7/7 [==============================] - 0s 22ms/step - loss: 8.8473 - mae: 8.8473 - val_loss: 20.2960 - val_mae: 20.2960\n",
      "Epoch 20/20\n",
      "7/7 [==============================] - 0s 22ms/step - loss: 7.6999 - mae: 7.6999 - val_loss: 22.8655 - val_mae: 22.8655\n"
     ]
    },
    {
     "data": {
      "image/png": "[encoded data removed]",
      "text/plain": [
       "<Figure size 1440x576 with 3 Axes>"
      ]
     },
     "metadata": {
      "needs_background": "light"
     },
     "output_type": "display_data"
    }
   ],
   "source": [
    "model = build_and_fit(model, train_X, train_y, val_X, val_y, test_X, test_y)"
   ]
  },
  {
   "cell_type": "markdown",
   "metadata": {},
   "source": [
    "## LSTM network for multi-variate time series \n",
    "\n",
    "Multivariate time series data means data where there is more than one observation for each time step.\n",
    "\n",
    "There are two main models we may need with multivariate time series data. These are the multiple input series or the multiple parallel series depending on whether we want to predict one or more of the variables.\n",
    "\n",
    "In this notebook, we focus on the first case: as input, several time series and as output (the prediction), a single time series."
   ]
  },
  {
   "cell_type": "markdown",
   "metadata": {},
   "source": [
    "### Prepare the data\n",
    "\n",
    "We reuse the same `series_to_supervise()` function in order to build a dataset with :\n",
    "* n_in elements for each series\n",
    "* n_out elements for each series to be predict\n",
    "\n",
    "You have also to select one (Multiple Input Series) or many time series (Multiple Parallel Series) to predict."
   ]
  },
  {
   "cell_type": "code",
   "execution_count": 21,
   "metadata": {
    "ExecuteTime": {
     "end_time": "2021-10-05T11:21:19.002802Z",
     "start_time": "2021-10-05T11:21:18.994544Z"
    }
   },
   "outputs": [],
   "source": [
    "# Get the time series\n",
    "fct2 = lambda x: 2*x\n",
    "time_series1 = [fct(x) for x in range(SIZE)]\n",
    "time_series2 = [fct2(x) for x in range(SIZE)]\n",
    "out_seq = [time_series1[i]+time_series2[i] for i in range(SIZE)]"
   ]
  },
  {
   "cell_type": "code",
   "execution_count": 22,
   "metadata": {
    "ExecuteTime": {
     "end_time": "2021-10-05T11:21:19.964480Z",
     "start_time": "2021-10-05T11:21:19.950931Z"
    }
   },
   "outputs": [
    {
     "data": {
      "text/html": [
       "<div>\n",
       "<style scoped>\n",
       "    .dataframe tbody tr th:only-of-type {\n",
       "        vertical-align: middle;\n",
       "    }\n",
       "\n",
       "    .dataframe tbody tr th {\n",
       "        vertical-align: top;\n",
       "    }\n",
       "\n",
       "    .dataframe thead th {\n",
       "        text-align: right;\n",
       "    }\n",
       "</style>\n",
       "<table border=\"1\" class=\"dataframe\">\n",
       "  <thead>\n",
       "    <tr style=\"text-align: right;\">\n",
       "      <th></th>\n",
       "      <th>f1</th>\n",
       "      <th>f2</th>\n",
       "      <th>output</th>\n",
       "    </tr>\n",
       "  </thead>\n",
       "  <tbody>\n",
       "    <tr>\n",
       "      <th>0</th>\n",
       "      <td>0.000000</td>\n",
       "      <td>0</td>\n",
       "      <td>0.000000</td>\n",
       "    </tr>\n",
       "    <tr>\n",
       "      <th>1</th>\n",
       "      <td>0.841471</td>\n",
       "      <td>2</td>\n",
       "      <td>2.841471</td>\n",
       "    </tr>\n",
       "    <tr>\n",
       "      <th>2</th>\n",
       "      <td>1.818595</td>\n",
       "      <td>4</td>\n",
       "      <td>5.818595</td>\n",
       "    </tr>\n",
       "    <tr>\n",
       "      <th>3</th>\n",
       "      <td>0.423360</td>\n",
       "      <td>6</td>\n",
       "      <td>6.423360</td>\n",
       "    </tr>\n",
       "    <tr>\n",
       "      <th>4</th>\n",
       "      <td>-3.027210</td>\n",
       "      <td>8</td>\n",
       "      <td>4.972790</td>\n",
       "    </tr>\n",
       "  </tbody>\n",
       "</table>\n",
       "</div>"
      ],
      "text/plain": [
       "         f1  f2    output\n",
       "0  0.000000   0  0.000000\n",
       "1  0.841471   2  2.841471\n",
       "2  1.818595   4  5.818595\n",
       "3  0.423360   6  6.423360\n",
       "4 -3.027210   8  4.972790"
      ]
     },
     "execution_count": 22,
     "metadata": {},
     "output_type": "execute_result"
    }
   ],
   "source": [
    "# Get the dataset\n",
    "dataset = pd.DataFrame(data={\"f1\":time_series1, \"f2\":time_series2, \"output\":out_seq}, index=range(SIZE))\n",
    "n_features = dataset.shape[1] # for multivariate time series\n",
    "dataset.head()"
   ]
  },
  {
   "cell_type": "markdown",
   "metadata": {},
   "source": [
    "As with the univariate time series, we must structure these data into samples with input and output elements.\n",
    "An LSTM model needs sufficient context to learn a mapping from an input sequence to an output value. LSTMs can support parallel input time series as separate variables or features. Therefore, we need to split the data into samples maintaining the order of observations across the two input sequences.\n",
    "\n",
    "If we chose six input time steps for the three features, we have to transform the dataset in the following way."
   ]
  },
  {
   "cell_type": "code",
   "execution_count": 23,
   "metadata": {
    "ExecuteTime": {
     "end_time": "2021-10-05T11:21:21.637591Z",
     "start_time": "2021-10-05T11:21:21.603113Z"
    }
   },
   "outputs": [
    {
     "data": {
      "text/html": [
       "<div>\n",
       "<style scoped>\n",
       "    .dataframe tbody tr th:only-of-type {\n",
       "        vertical-align: middle;\n",
       "    }\n",
       "\n",
       "    .dataframe tbody tr th {\n",
       "        vertical-align: top;\n",
       "    }\n",
       "\n",
       "    .dataframe thead th {\n",
       "        text-align: right;\n",
       "    }\n",
       "</style>\n",
       "<table border=\"1\" class=\"dataframe\">\n",
       "  <thead>\n",
       "    <tr style=\"text-align: right;\">\n",
       "      <th></th>\n",
       "      <th>f1(t-6)</th>\n",
       "      <th>f2(t-6)</th>\n",
       "      <th>output(t-6)</th>\n",
       "      <th>f1(t-5)</th>\n",
       "      <th>f2(t-5)</th>\n",
       "      <th>output(t-5)</th>\n",
       "      <th>f1(t-4)</th>\n",
       "      <th>f2(t-4)</th>\n",
       "      <th>output(t-4)</th>\n",
       "      <th>f1(t-3)</th>\n",
       "      <th>f2(t-3)</th>\n",
       "      <th>output(t-3)</th>\n",
       "      <th>f1(t-2)</th>\n",
       "      <th>f2(t-2)</th>\n",
       "      <th>output(t-2)</th>\n",
       "      <th>f1(t-1)</th>\n",
       "      <th>f2(t-1)</th>\n",
       "      <th>output(t-1)</th>\n",
       "      <th>output(t)</th>\n",
       "    </tr>\n",
       "  </thead>\n",
       "  <tbody>\n",
       "    <tr>\n",
       "      <th>6</th>\n",
       "      <td>0.000000</td>\n",
       "      <td>0.0</td>\n",
       "      <td>0.000000</td>\n",
       "      <td>0.841471</td>\n",
       "      <td>2.0</td>\n",
       "      <td>2.841471</td>\n",
       "      <td>1.818595</td>\n",
       "      <td>4.0</td>\n",
       "      <td>5.818595</td>\n",
       "      <td>0.423360</td>\n",
       "      <td>6.0</td>\n",
       "      <td>6.423360</td>\n",
       "      <td>-3.027210</td>\n",
       "      <td>8.0</td>\n",
       "      <td>4.972790</td>\n",
       "      <td>-4.794621</td>\n",
       "      <td>10.0</td>\n",
       "      <td>5.205379</td>\n",
       "      <td>10.323507</td>\n",
       "    </tr>\n",
       "    <tr>\n",
       "      <th>7</th>\n",
       "      <td>0.841471</td>\n",
       "      <td>2.0</td>\n",
       "      <td>2.841471</td>\n",
       "      <td>1.818595</td>\n",
       "      <td>4.0</td>\n",
       "      <td>5.818595</td>\n",
       "      <td>0.423360</td>\n",
       "      <td>6.0</td>\n",
       "      <td>6.423360</td>\n",
       "      <td>-3.027210</td>\n",
       "      <td>8.0</td>\n",
       "      <td>4.972790</td>\n",
       "      <td>-4.794621</td>\n",
       "      <td>10.0</td>\n",
       "      <td>5.205379</td>\n",
       "      <td>-1.676493</td>\n",
       "      <td>12.0</td>\n",
       "      <td>10.323507</td>\n",
       "      <td>18.598906</td>\n",
       "    </tr>\n",
       "    <tr>\n",
       "      <th>8</th>\n",
       "      <td>1.818595</td>\n",
       "      <td>4.0</td>\n",
       "      <td>5.818595</td>\n",
       "      <td>0.423360</td>\n",
       "      <td>6.0</td>\n",
       "      <td>6.423360</td>\n",
       "      <td>-3.027210</td>\n",
       "      <td>8.0</td>\n",
       "      <td>4.972790</td>\n",
       "      <td>-4.794621</td>\n",
       "      <td>10.0</td>\n",
       "      <td>5.205379</td>\n",
       "      <td>-1.676493</td>\n",
       "      <td>12.0</td>\n",
       "      <td>10.323507</td>\n",
       "      <td>4.598906</td>\n",
       "      <td>14.0</td>\n",
       "      <td>18.598906</td>\n",
       "      <td>23.914866</td>\n",
       "    </tr>\n",
       "    <tr>\n",
       "      <th>9</th>\n",
       "      <td>0.423360</td>\n",
       "      <td>6.0</td>\n",
       "      <td>6.423360</td>\n",
       "      <td>-3.027210</td>\n",
       "      <td>8.0</td>\n",
       "      <td>4.972790</td>\n",
       "      <td>-4.794621</td>\n",
       "      <td>10.0</td>\n",
       "      <td>5.205379</td>\n",
       "      <td>-1.676493</td>\n",
       "      <td>12.0</td>\n",
       "      <td>10.323507</td>\n",
       "      <td>4.598906</td>\n",
       "      <td>14.0</td>\n",
       "      <td>18.598906</td>\n",
       "      <td>7.914866</td>\n",
       "      <td>16.0</td>\n",
       "      <td>23.914866</td>\n",
       "      <td>21.709066</td>\n",
       "    </tr>\n",
       "    <tr>\n",
       "      <th>10</th>\n",
       "      <td>-3.027210</td>\n",
       "      <td>8.0</td>\n",
       "      <td>4.972790</td>\n",
       "      <td>-4.794621</td>\n",
       "      <td>10.0</td>\n",
       "      <td>5.205379</td>\n",
       "      <td>-1.676493</td>\n",
       "      <td>12.0</td>\n",
       "      <td>10.323507</td>\n",
       "      <td>4.598906</td>\n",
       "      <td>14.0</td>\n",
       "      <td>18.598906</td>\n",
       "      <td>7.914866</td>\n",
       "      <td>16.0</td>\n",
       "      <td>23.914866</td>\n",
       "      <td>3.709066</td>\n",
       "      <td>18.0</td>\n",
       "      <td>21.709066</td>\n",
       "      <td>14.559789</td>\n",
       "    </tr>\n",
       "  </tbody>\n",
       "</table>\n",
       "</div>"
      ],
      "text/plain": [
       "     f1(t-6)  f2(t-6)  output(t-6)   f1(t-5)  f2(t-5)  output(t-5)   f1(t-4)  \\\n",
       "6   0.000000      0.0     0.000000  0.841471      2.0     2.841471  1.818595   \n",
       "7   0.841471      2.0     2.841471  1.818595      4.0     5.818595  0.423360   \n",
       "8   1.818595      4.0     5.818595  0.423360      6.0     6.423360 -3.027210   \n",
       "9   0.423360      6.0     6.423360 -3.027210      8.0     4.972790 -4.794621   \n",
       "10 -3.027210      8.0     4.972790 -4.794621     10.0     5.205379 -1.676493   \n",
       "\n",
       "    f2(t-4)  output(t-4)   f1(t-3)  f2(t-3)  output(t-3)   f1(t-2)  f2(t-2)  \\\n",
       "6       4.0     5.818595  0.423360      6.0     6.423360 -3.027210      8.0   \n",
       "7       6.0     6.423360 -3.027210      8.0     4.972790 -4.794621     10.0   \n",
       "8       8.0     4.972790 -4.794621     10.0     5.205379 -1.676493     12.0   \n",
       "9      10.0     5.205379 -1.676493     12.0    10.323507  4.598906     14.0   \n",
       "10     12.0    10.323507  4.598906     14.0    18.598906  7.914866     16.0   \n",
       "\n",
       "    output(t-2)   f1(t-1)  f2(t-1)  output(t-1)  output(t)  \n",
       "6      4.972790 -4.794621     10.0     5.205379  10.323507  \n",
       "7      5.205379 -1.676493     12.0    10.323507  18.598906  \n",
       "8     10.323507  4.598906     14.0    18.598906  23.914866  \n",
       "9     18.598906  7.914866     16.0    23.914866  21.709066  \n",
       "10    23.914866  3.709066     18.0    21.709066  14.559789  "
      ]
     },
     "execution_count": 23,
     "metadata": {},
     "output_type": "execute_result"
    }
   ],
   "source": [
    "# As previously, prepare the dataset\n",
    "''' In the followig example, we select \n",
    "- n_in number of time steps (6)\n",
    "- n_out number of time steps of output\n",
    "- and one serie to predict : output\n",
    "'''\n",
    "n_features = dataset.shape[1] # for multivariate time series\n",
    "n_in = 6\n",
    "n_out = 1\n",
    "output = [\"output\"]\n",
    "\n",
    "data = series_to_supervised(dataset, n_in, n_out, output=output)\n",
    "data.head()"
   ]
  },
  {
   "cell_type": "code",
   "execution_count": 24,
   "metadata": {
    "ExecuteTime": {
     "end_time": "2021-10-05T11:21:22.808795Z",
     "start_time": "2021-10-05T11:21:22.778140Z"
    }
   },
   "outputs": [
    {
     "name": "stdout",
     "output_type": "stream",
     "text": [
      "TRAIN=time_series[:196]\n",
      "VALID=time_series[196:220]\n",
      "TEST=time_series[220:]\n"
     ]
    }
   ],
   "source": [
    "# Split dataset into TRAIN, VAL and TEST\n",
    "testAndValid = 0.1\n",
    "\n",
    "SPLIT = int(testAndValid*len(data))\n",
    "idx_train = len(data)-2*SPLIT\n",
    "idx_test = len(data)-SPLIT\n",
    "\n",
    "print(\"TRAIN=time_series[:\"+str(idx_train)+\"]\")\n",
    "print(\"VALID=time_series[\"+str(idx_train)+\":\"+str(idx_test)+\"]\")\n",
    "print(\"TEST=time_series[\"+str(idx_test)+\":]\")\n",
    "\n",
    "TRAIN=data[:idx_train]\n",
    "VAL=data[idx_train:idx_test]\n",
    "TEST=data[idx_test:]"
   ]
  },
  {
   "cell_type": "markdown",
   "metadata": {
    "ExecuteTime": {
     "end_time": "2022-01-29T14:41:03.436214Z",
     "start_time": "2022-01-29T14:41:03.427098Z"
    }
   },
   "source": [
    "<font color='red'>\n",
    "$TO DO - Students$\n",
    "\n",
    "* build train_X, val_X, test_X and train_y, val_y and test_y as before. Then print the shapes of tensors\n",
    "    * train_X is a 3D-tensor (196, 6, 3) for me\n",
    "    * train_y is a 1D-tensor (196,)\n",
    "</font>"
   ]
  },
  {
   "cell_type": "code",
   "execution_count": 25,
   "metadata": {
    "ExecuteTime": {
     "end_time": "2022-01-29T15:21:30.540318Z",
     "start_time": "2022-01-29T15:21:30.522817Z"
    }
   },
   "outputs": [
    {
     "data": {
      "text/plain": [
       "((196, 6, 3), (196,))"
      ]
     },
     "execution_count": 25,
     "metadata": {},
     "output_type": "execute_result"
    }
   ],
   "source": [
    "# split into input and outputs\n",
    "train_X, train_y = TRAIN.values[:, :-n_out], TRAIN.values[:, -n_out]\n",
    "val_X, val_y =  VAL.values[:, :-n_out], VAL.values[:, -n_out]\n",
    "test_X, test_y = TEST.values[:, :-n_out], TEST.values[:, -n_out]\n",
    "\n",
    "# reshape input to be 3D [samples, timesteps, features]\n",
    "train_X = train_X.reshape((-1, n_in, n_features))\n",
    "val_X = val_X.reshape((-1, n_in, n_features))\n",
    "test_X = test_X.reshape((-1, n_in, n_features))\n",
    "\n",
    "train_X.shape, train_y.shape"
   ]
  },
  {
   "cell_type": "markdown",
   "metadata": {},
   "source": [
    "### Build a neuronal model"
   ]
  },
  {
   "cell_type": "markdown",
   "metadata": {},
   "source": [
    "Any of the varieties of LSTMs in the previous section can be used, such as a Vanilla, Stacked, Bidirectional. It's also possible to use CNN or mixed CNN and LSTM.\n",
    "\n",
    "We will use a Vanilla LSTM where the number of time steps and parallel series (features) are specified for the input layer via the input_shape argument."
   ]
  },
  {
   "cell_type": "code",
   "execution_count": 26,
   "metadata": {
    "ExecuteTime": {
     "end_time": "2021-10-05T11:21:26.613409Z",
     "start_time": "2021-10-05T11:21:26.508414Z"
    }
   },
   "outputs": [
    {
     "name": "stdout",
     "output_type": "stream",
     "text": [
      "Model: \"model_2\"\n",
      "_________________________________________________________________\n",
      "Layer (type)                 Output Shape              Param #   \n",
      "=================================================================\n",
      "input_3 (InputLayer)         [(None, 6, 3)]            0         \n",
      "_________________________________________________________________\n",
      "lstm_4 (LSTM)                (None, 16)                1280      \n",
      "_________________________________________________________________\n",
      "dense_2 (Dense)              (None, 1)                 17        \n",
      "=================================================================\n",
      "Total params: 1,297\n",
      "Trainable params: 1,297\n",
      "Non-trainable params: 0\n",
      "_________________________________________________________________\n"
     ]
    }
   ],
   "source": [
    "inputs = Input(shape=(n_in, n_features))\n",
    "hidden = LSTM(LSTM_SIZE, return_sequences=False, activation='relu')(inputs)\n",
    "outputs = Dense(n_out, activation='linear')(hidden)\n",
    "model = Model(inputs, outputs)\n",
    "model.summary()"
   ]
  },
  {
   "cell_type": "code",
   "execution_count": 27,
   "metadata": {},
   "outputs": [
    {
     "data": {
      "text/plain": [
       "((196, 6, 3), (196,), (24, 6, 3), (24,), (24, 6, 3), (24,))"
      ]
     },
     "execution_count": 27,
     "metadata": {},
     "output_type": "execute_result"
    }
   ],
   "source": [
    "train_X.shape, train_y.shape, val_X.shape, val_y.shape, test_X.shape, test_y.shape"
   ]
  },
  {
   "cell_type": "code",
   "execution_count": 28,
   "metadata": {
    "ExecuteTime": {
     "end_time": "2021-10-05T11:21:37.636496Z",
     "start_time": "2021-10-05T11:21:27.532691Z"
    }
   },
   "outputs": [
    {
     "name": "stdout",
     "output_type": "stream",
     "text": [
      "Epoch 1/20\n",
      "7/7 [==============================] - 3s 65ms/step - loss: 129.6756 - mae: 129.6756 - val_loss: 240.9993 - val_mae: 240.9993\n",
      "Epoch 2/20\n",
      "7/7 [==============================] - 0s 10ms/step - loss: 114.9014 - mae: 114.9014 - val_loss: 223.1347 - val_mae: 223.1347\n",
      "Epoch 3/20\n",
      "7/7 [==============================] - 0s 11ms/step - loss: 105.9853 - mae: 105.9853 - val_loss: 212.3988 - val_mae: 212.3988\n",
      "Epoch 4/20\n",
      "7/7 [==============================] - 0s 11ms/step - loss: 100.6456 - mae: 100.6456 - val_loss: 209.0970 - val_mae: 209.0970\n",
      "Epoch 5/20\n",
      "7/7 [==============================] - 0s 11ms/step - loss: 96.5692 - mae: 96.5692 - val_loss: 203.7796 - val_mae: 203.7796\n",
      "Epoch 6/20\n",
      "7/7 [==============================] - 0s 9ms/step - loss: 93.8770 - mae: 93.8770 - val_loss: 200.4093 - val_mae: 200.4093\n",
      "Epoch 7/20\n",
      "7/7 [==============================] - 0s 10ms/step - loss: 90.3782 - mae: 90.3782 - val_loss: 186.5172 - val_mae: 186.5172\n",
      "Epoch 8/20\n",
      "7/7 [==============================] - 0s 15ms/step - loss: 85.8434 - mae: 85.8434 - val_loss: 163.3392 - val_mae: 163.3392\n",
      "Epoch 9/20\n",
      "7/7 [==============================] - 0s 11ms/step - loss: 80.6051 - mae: 80.6051 - val_loss: 154.6752 - val_mae: 154.6752\n",
      "Epoch 10/20\n",
      "7/7 [==============================] - 0s 18ms/step - loss: 74.6892 - mae: 74.6892 - val_loss: 146.2561 - val_mae: 146.2561\n",
      "Epoch 11/20\n",
      "7/7 [==============================] - 0s 10ms/step - loss: 67.0939 - mae: 67.0939 - val_loss: 150.7035 - val_mae: 150.7035\n",
      "Epoch 12/20\n",
      "7/7 [==============================] - 0s 11ms/step - loss: 66.9665 - mae: 66.9665 - val_loss: 143.3857 - val_mae: 143.3857\n",
      "Epoch 13/20\n",
      "7/7 [==============================] - 0s 9ms/step - loss: 62.8193 - mae: 62.8193 - val_loss: 140.4156 - val_mae: 140.4156\n",
      "Epoch 14/20\n",
      "7/7 [==============================] - 0s 9ms/step - loss: 60.7226 - mae: 60.7226 - val_loss: 125.1503 - val_mae: 125.1503\n",
      "Epoch 15/20\n",
      "7/7 [==============================] - 0s 9ms/step - loss: 56.7607 - mae: 56.7607 - val_loss: 118.2317 - val_mae: 118.2317\n",
      "Epoch 16/20\n",
      "7/7 [==============================] - 0s 10ms/step - loss: 51.4702 - mae: 51.4702 - val_loss: 106.8917 - val_mae: 106.8917\n",
      "Epoch 17/20\n",
      "7/7 [==============================] - 0s 10ms/step - loss: 49.0431 - mae: 49.0431 - val_loss: 95.5853 - val_mae: 95.5853\n",
      "Epoch 18/20\n",
      "7/7 [==============================] - 0s 9ms/step - loss: 42.7858 - mae: 42.7858 - val_loss: 87.0885 - val_mae: 87.0885\n",
      "Epoch 19/20\n",
      "7/7 [==============================] - 0s 10ms/step - loss: 44.5942 - mae: 44.5942 - val_loss: 84.4824 - val_mae: 84.4824\n",
      "Epoch 20/20\n",
      "7/7 [==============================] - 0s 10ms/step - loss: 44.7023 - mae: 44.7023 - val_loss: 83.0270 - val_mae: 83.0270\n"
     ]
    },
    {
     "data": {
      "image/png": "[encoded data removed]",
      "text/plain": [
       "<Figure size 1440x576 with 3 Axes>"
      ]
     },
     "metadata": {
      "needs_background": "light"
     },
     "output_type": "display_data"
    }
   ],
   "source": [
    "model = build_and_fit(model, train_X, train_y, val_X, val_y, test_X, test_y)"
   ]
  },
  {
   "cell_type": "markdown",
   "metadata": {},
   "source": [
    "## Lab work: Air Pollution Forecasting\n",
    "\n",
    "This is a dataset that reports on the weather and the level of pollution each hour for five years at the US embassy in Beijing, China.\n",
    "\n",
    "The data includes the date-time, the pollution called PM2.5 concentration, and the weather information including dew point, temperature, pressure, wind direction, wind speed and the cumulative number of hours of snow and rain. The complete feature list in the raw data is as follows:\n",
    "\n",
    "1. No: row number\n",
    "1. year: year of data in this row\n",
    "1. month: month of data in this row\n",
    "1. day: day of data in this row\n",
    "1. hour: hour of data in this row\n",
    "1. pm2.5: PM2.5 concentration\n",
    "1. DEWP: Dew Point\n",
    "1. TEMP: Temperature\n",
    "1. PRES: Pressure\n",
    "1. cbwd: Combined wind direction\n",
    "1. Iws: Cumulated wind speed\n",
    "1. Is: Cumulated hours of snow\n",
    "1. Ir: Cumulated hours of rain\n",
    "\n",
    "We can use this data and frame a forecasting problem where, given the weather conditions and pollution for prior hours, we forecast the pollution at the next hour.\n",
    "\n",
    "This dataset can be used to frame other forecasting problems."
   ]
  },
  {
   "cell_type": "markdown",
   "metadata": {},
   "source": [
    "## Load the data"
   ]
  },
  {
   "cell_type": "code",
   "execution_count": 128,
   "metadata": {
    "ExecuteTime": {
     "end_time": "2021-10-05T11:21:49.916418Z",
     "start_time": "2021-10-05T11:21:49.912398Z"
    }
   },
   "outputs": [],
   "source": [
    "DATAPATH = \"https://www.i3s.unice.fr/~riveill/dataset/pollution.csv\""
   ]
  },
  {
   "cell_type": "code",
   "execution_count": 129,
   "metadata": {
    "ExecuteTime": {
     "end_time": "2021-10-05T11:21:51.859318Z",
     "start_time": "2021-10-05T11:21:51.213792Z"
    }
   },
   "outputs": [
    {
     "data": {
      "text/html": [
       "<div>\n",
       "<style scoped>\n",
       "    .dataframe tbody tr th:only-of-type {\n",
       "        vertical-align: middle;\n",
       "    }\n",
       "\n",
       "    .dataframe tbody tr th {\n",
       "        vertical-align: top;\n",
       "    }\n",
       "\n",
       "    .dataframe thead th {\n",
       "        text-align: right;\n",
       "    }\n",
       "</style>\n",
       "<table border=\"1\" class=\"dataframe\">\n",
       "  <thead>\n",
       "    <tr style=\"text-align: right;\">\n",
       "      <th></th>\n",
       "      <th>pollution</th>\n",
       "      <th>dew</th>\n",
       "      <th>temp</th>\n",
       "      <th>press</th>\n",
       "      <th>wnd_dir</th>\n",
       "      <th>wnd_spd</th>\n",
       "      <th>snow</th>\n",
       "      <th>rain</th>\n",
       "    </tr>\n",
       "    <tr>\n",
       "      <th>date</th>\n",
       "      <th></th>\n",
       "      <th></th>\n",
       "      <th></th>\n",
       "      <th></th>\n",
       "      <th></th>\n",
       "      <th></th>\n",
       "      <th></th>\n",
       "      <th></th>\n",
       "    </tr>\n",
       "  </thead>\n",
       "  <tbody>\n",
       "    <tr>\n",
       "      <th>2010-01-02 00:00:00</th>\n",
       "      <td>129.0</td>\n",
       "      <td>-16</td>\n",
       "      <td>-4.0</td>\n",
       "      <td>1020.0</td>\n",
       "      <td>SE</td>\n",
       "      <td>1.79</td>\n",
       "      <td>0</td>\n",
       "      <td>0</td>\n",
       "    </tr>\n",
       "    <tr>\n",
       "      <th>2010-01-02 01:00:00</th>\n",
       "      <td>148.0</td>\n",
       "      <td>-15</td>\n",
       "      <td>-4.0</td>\n",
       "      <td>1020.0</td>\n",
       "      <td>SE</td>\n",
       "      <td>2.68</td>\n",
       "      <td>0</td>\n",
       "      <td>0</td>\n",
       "    </tr>\n",
       "    <tr>\n",
       "      <th>2010-01-02 02:00:00</th>\n",
       "      <td>159.0</td>\n",
       "      <td>-11</td>\n",
       "      <td>-5.0</td>\n",
       "      <td>1021.0</td>\n",
       "      <td>SE</td>\n",
       "      <td>3.57</td>\n",
       "      <td>0</td>\n",
       "      <td>0</td>\n",
       "    </tr>\n",
       "    <tr>\n",
       "      <th>2010-01-02 03:00:00</th>\n",
       "      <td>181.0</td>\n",
       "      <td>-7</td>\n",
       "      <td>-5.0</td>\n",
       "      <td>1022.0</td>\n",
       "      <td>SE</td>\n",
       "      <td>5.36</td>\n",
       "      <td>1</td>\n",
       "      <td>0</td>\n",
       "    </tr>\n",
       "    <tr>\n",
       "      <th>2010-01-02 04:00:00</th>\n",
       "      <td>138.0</td>\n",
       "      <td>-7</td>\n",
       "      <td>-5.0</td>\n",
       "      <td>1022.0</td>\n",
       "      <td>SE</td>\n",
       "      <td>6.25</td>\n",
       "      <td>2</td>\n",
       "      <td>0</td>\n",
       "    </tr>\n",
       "  </tbody>\n",
       "</table>\n",
       "</div>"
      ],
      "text/plain": [
       "                     pollution  dew  temp   press wnd_dir  wnd_spd  snow  rain\n",
       "date                                                                          \n",
       "2010-01-02 00:00:00      129.0  -16  -4.0  1020.0      SE     1.79     0     0\n",
       "2010-01-02 01:00:00      148.0  -15  -4.0  1020.0      SE     2.68     0     0\n",
       "2010-01-02 02:00:00      159.0  -11  -5.0  1021.0      SE     3.57     0     0\n",
       "2010-01-02 03:00:00      181.0   -7  -5.0  1022.0      SE     5.36     1     0\n",
       "2010-01-02 04:00:00      138.0   -7  -5.0  1022.0      SE     6.25     2     0"
      ]
     },
     "execution_count": 129,
     "metadata": {},
     "output_type": "execute_result"
    }
   ],
   "source": [
    "# Read the dataset\n",
    "data = pd.read_csv(DATAPATH, sep=\",\", header=0, index_col=0)\n",
    "data.head()"
   ]
  },
  {
   "cell_type": "code",
   "execution_count": 130,
   "metadata": {
    "ExecuteTime": {
     "end_time": "2021-10-05T11:21:53.257136Z",
     "start_time": "2021-10-05T11:21:52.563877Z"
    }
   },
   "outputs": [
    {
     "data": {
      "image/png": "[encoded data removed]",
      "text/plain": [
       "<Figure size 432x288 with 8 Axes>"
      ]
     },
     "metadata": {
      "needs_background": "light"
     },
     "output_type": "display_data"
    }
   ],
   "source": [
    "plt.figure()\n",
    "for i, column in enumerate(data.columns):\n",
    "    plt.subplot(len(data.columns), 1, i+1)\n",
    "    plt.plot(data[column].to_numpy())\n",
    "    plt.title(column, y=0.5, loc='right')\n",
    "plt.show()"
   ]
  },
  {
   "cell_type": "markdown",
   "metadata": {},
   "source": [
    "### Construct the dataset"
   ]
  },
  {
   "cell_type": "markdown",
   "metadata": {},
   "source": [
    "The first step is to prepare the pollution dataset for the LSTM.\n",
    "\n",
    "This involves framing the dataset as a supervised learning problem and normalizing the input variables.\n",
    "\n",
    "We will frame the supervised learning problem as predicting the pollution at the current hour (t) given the pollution measurement and weather conditions at the prior time step."
   ]
  },
  {
   "cell_type": "code",
   "execution_count": 96,
   "metadata": {
    "ExecuteTime": {
     "end_time": "2021-10-05T11:21:54.570978Z",
     "start_time": "2021-10-05T11:21:54.558990Z"
    }
   },
   "outputs": [
    {
     "data": {
      "text/plain": [
       "8"
      ]
     },
     "execution_count": 96,
     "metadata": {},
     "output_type": "execute_result"
    }
   ],
   "source": [
    "n_features = data.shape[1] # for multivariate time series\n",
    "n_in = 6\n",
    "n_out = 1\n",
    "output = [\"pollution\"]\n",
    "\n",
    "n_features"
   ]
  },
  {
   "cell_type": "markdown",
   "metadata": {
    "ExecuteTime": {
     "end_time": "2022-01-29T15:23:32.105879Z",
     "start_time": "2022-01-29T15:23:32.096418Z"
    }
   },
   "source": [
    "<font color='red'>\n",
    "$TO DO - Students$\n",
    "\n",
    "* using `series_to_supervised` function build the dataset\n",
    "</font>"
   ]
  },
  {
   "cell_type": "code",
   "execution_count": 97,
   "metadata": {
    "ExecuteTime": {
     "end_time": "2021-10-05T11:21:55.559562Z",
     "start_time": "2021-10-05T11:21:55.422286Z"
    },
    "scrolled": true
   },
   "outputs": [
    {
     "data": {
      "text/html": [
       "<div>\n",
       "<style scoped>\n",
       "    .dataframe tbody tr th:only-of-type {\n",
       "        vertical-align: middle;\n",
       "    }\n",
       "\n",
       "    .dataframe tbody tr th {\n",
       "        vertical-align: top;\n",
       "    }\n",
       "\n",
       "    .dataframe thead th {\n",
       "        text-align: right;\n",
       "    }\n",
       "</style>\n",
       "<table border=\"1\" class=\"dataframe\">\n",
       "  <thead>\n",
       "    <tr style=\"text-align: right;\">\n",
       "      <th></th>\n",
       "      <th>pollution(t-6)</th>\n",
       "      <th>dew(t-6)</th>\n",
       "      <th>temp(t-6)</th>\n",
       "      <th>press(t-6)</th>\n",
       "      <th>wnd_dir(t-6)</th>\n",
       "      <th>wnd_spd(t-6)</th>\n",
       "      <th>snow(t-6)</th>\n",
       "      <th>rain(t-6)</th>\n",
       "      <th>pollution(t-5)</th>\n",
       "      <th>dew(t-5)</th>\n",
       "      <th>...</th>\n",
       "      <th>rain(t-2)</th>\n",
       "      <th>pollution(t-1)</th>\n",
       "      <th>dew(t-1)</th>\n",
       "      <th>temp(t-1)</th>\n",
       "      <th>press(t-1)</th>\n",
       "      <th>wnd_dir(t-1)</th>\n",
       "      <th>wnd_spd(t-1)</th>\n",
       "      <th>snow(t-1)</th>\n",
       "      <th>rain(t-1)</th>\n",
       "      <th>rain(t)</th>\n",
       "    </tr>\n",
       "    <tr>\n",
       "      <th>date</th>\n",
       "      <th></th>\n",
       "      <th></th>\n",
       "      <th></th>\n",
       "      <th></th>\n",
       "      <th></th>\n",
       "      <th></th>\n",
       "      <th></th>\n",
       "      <th></th>\n",
       "      <th></th>\n",
       "      <th></th>\n",
       "      <th></th>\n",
       "      <th></th>\n",
       "      <th></th>\n",
       "      <th></th>\n",
       "      <th></th>\n",
       "      <th></th>\n",
       "      <th></th>\n",
       "      <th></th>\n",
       "      <th></th>\n",
       "      <th></th>\n",
       "      <th></th>\n",
       "    </tr>\n",
       "  </thead>\n",
       "  <tbody>\n",
       "    <tr>\n",
       "      <th>2010-01-02 06:00:00</th>\n",
       "      <td>129.0</td>\n",
       "      <td>-16.0</td>\n",
       "      <td>-4.0</td>\n",
       "      <td>1020.0</td>\n",
       "      <td>SE</td>\n",
       "      <td>1.79</td>\n",
       "      <td>0.0</td>\n",
       "      <td>0.0</td>\n",
       "      <td>148.0</td>\n",
       "      <td>-15.0</td>\n",
       "      <td>...</td>\n",
       "      <td>0.0</td>\n",
       "      <td>109.0</td>\n",
       "      <td>-7.0</td>\n",
       "      <td>-6.0</td>\n",
       "      <td>1022.0</td>\n",
       "      <td>SE</td>\n",
       "      <td>7.14</td>\n",
       "      <td>3.0</td>\n",
       "      <td>0.0</td>\n",
       "      <td>0</td>\n",
       "    </tr>\n",
       "    <tr>\n",
       "      <th>2010-01-02 07:00:00</th>\n",
       "      <td>148.0</td>\n",
       "      <td>-15.0</td>\n",
       "      <td>-4.0</td>\n",
       "      <td>1020.0</td>\n",
       "      <td>SE</td>\n",
       "      <td>2.68</td>\n",
       "      <td>0.0</td>\n",
       "      <td>0.0</td>\n",
       "      <td>159.0</td>\n",
       "      <td>-11.0</td>\n",
       "      <td>...</td>\n",
       "      <td>0.0</td>\n",
       "      <td>105.0</td>\n",
       "      <td>-7.0</td>\n",
       "      <td>-6.0</td>\n",
       "      <td>1023.0</td>\n",
       "      <td>SE</td>\n",
       "      <td>8.93</td>\n",
       "      <td>4.0</td>\n",
       "      <td>0.0</td>\n",
       "      <td>0</td>\n",
       "    </tr>\n",
       "    <tr>\n",
       "      <th>2010-01-02 08:00:00</th>\n",
       "      <td>159.0</td>\n",
       "      <td>-11.0</td>\n",
       "      <td>-5.0</td>\n",
       "      <td>1021.0</td>\n",
       "      <td>SE</td>\n",
       "      <td>3.57</td>\n",
       "      <td>0.0</td>\n",
       "      <td>0.0</td>\n",
       "      <td>181.0</td>\n",
       "      <td>-7.0</td>\n",
       "      <td>...</td>\n",
       "      <td>0.0</td>\n",
       "      <td>124.0</td>\n",
       "      <td>-7.0</td>\n",
       "      <td>-5.0</td>\n",
       "      <td>1024.0</td>\n",
       "      <td>SE</td>\n",
       "      <td>10.72</td>\n",
       "      <td>0.0</td>\n",
       "      <td>0.0</td>\n",
       "      <td>0</td>\n",
       "    </tr>\n",
       "    <tr>\n",
       "      <th>2010-01-02 09:00:00</th>\n",
       "      <td>181.0</td>\n",
       "      <td>-7.0</td>\n",
       "      <td>-5.0</td>\n",
       "      <td>1022.0</td>\n",
       "      <td>SE</td>\n",
       "      <td>5.36</td>\n",
       "      <td>1.0</td>\n",
       "      <td>0.0</td>\n",
       "      <td>138.0</td>\n",
       "      <td>-7.0</td>\n",
       "      <td>...</td>\n",
       "      <td>0.0</td>\n",
       "      <td>120.0</td>\n",
       "      <td>-8.0</td>\n",
       "      <td>-6.0</td>\n",
       "      <td>1024.0</td>\n",
       "      <td>SE</td>\n",
       "      <td>12.51</td>\n",
       "      <td>0.0</td>\n",
       "      <td>0.0</td>\n",
       "      <td>0</td>\n",
       "    </tr>\n",
       "    <tr>\n",
       "      <th>2010-01-02 10:00:00</th>\n",
       "      <td>138.0</td>\n",
       "      <td>-7.0</td>\n",
       "      <td>-5.0</td>\n",
       "      <td>1022.0</td>\n",
       "      <td>SE</td>\n",
       "      <td>6.25</td>\n",
       "      <td>2.0</td>\n",
       "      <td>0.0</td>\n",
       "      <td>109.0</td>\n",
       "      <td>-7.0</td>\n",
       "      <td>...</td>\n",
       "      <td>0.0</td>\n",
       "      <td>132.0</td>\n",
       "      <td>-7.0</td>\n",
       "      <td>-5.0</td>\n",
       "      <td>1025.0</td>\n",
       "      <td>SE</td>\n",
       "      <td>14.30</td>\n",
       "      <td>0.0</td>\n",
       "      <td>0.0</td>\n",
       "      <td>0</td>\n",
       "    </tr>\n",
       "  </tbody>\n",
       "</table>\n",
       "<p>5 rows × 49 columns</p>\n",
       "</div>"
      ],
      "text/plain": [
       "                     pollution(t-6)  dew(t-6)  temp(t-6)  press(t-6)  \\\n",
       "date                                                                   \n",
       "2010-01-02 06:00:00           129.0     -16.0       -4.0      1020.0   \n",
       "2010-01-02 07:00:00           148.0     -15.0       -4.0      1020.0   \n",
       "2010-01-02 08:00:00           159.0     -11.0       -5.0      1021.0   \n",
       "2010-01-02 09:00:00           181.0      -7.0       -5.0      1022.0   \n",
       "2010-01-02 10:00:00           138.0      -7.0       -5.0      1022.0   \n",
       "\n",
       "                    wnd_dir(t-6)  wnd_spd(t-6)  snow(t-6)  rain(t-6)  \\\n",
       "date                                                                   \n",
       "2010-01-02 06:00:00           SE          1.79        0.0        0.0   \n",
       "2010-01-02 07:00:00           SE          2.68        0.0        0.0   \n",
       "2010-01-02 08:00:00           SE          3.57        0.0        0.0   \n",
       "2010-01-02 09:00:00           SE          5.36        1.0        0.0   \n",
       "2010-01-02 10:00:00           SE          6.25        2.0        0.0   \n",
       "\n",
       "                     pollution(t-5)  dew(t-5)  ...  rain(t-2)  pollution(t-1)  \\\n",
       "date                                           ...                              \n",
       "2010-01-02 06:00:00           148.0     -15.0  ...        0.0           109.0   \n",
       "2010-01-02 07:00:00           159.0     -11.0  ...        0.0           105.0   \n",
       "2010-01-02 08:00:00           181.0      -7.0  ...        0.0           124.0   \n",
       "2010-01-02 09:00:00           138.0      -7.0  ...        0.0           120.0   \n",
       "2010-01-02 10:00:00           109.0      -7.0  ...        0.0           132.0   \n",
       "\n",
       "                    dew(t-1)  temp(t-1)  press(t-1)  wnd_dir(t-1)  \\\n",
       "date                                                                \n",
       "2010-01-02 06:00:00     -7.0       -6.0      1022.0            SE   \n",
       "2010-01-02 07:00:00     -7.0       -6.0      1023.0            SE   \n",
       "2010-01-02 08:00:00     -7.0       -5.0      1024.0            SE   \n",
       "2010-01-02 09:00:00     -8.0       -6.0      1024.0            SE   \n",
       "2010-01-02 10:00:00     -7.0       -5.0      1025.0            SE   \n",
       "\n",
       "                     wnd_spd(t-1)  snow(t-1)  rain(t-1)  rain(t)  \n",
       "date                                                              \n",
       "2010-01-02 06:00:00          7.14        3.0        0.0        0  \n",
       "2010-01-02 07:00:00          8.93        4.0        0.0        0  \n",
       "2010-01-02 08:00:00         10.72        0.0        0.0        0  \n",
       "2010-01-02 09:00:00         12.51        0.0        0.0        0  \n",
       "2010-01-02 10:00:00         14.30        0.0        0.0        0  \n",
       "\n",
       "[5 rows x 49 columns]"
      ]
     },
     "execution_count": 97,
     "metadata": {},
     "output_type": "execute_result"
    }
   ],
   "source": [
    "dataset = series_to_supervised(data, n_in, n_out)\n",
    "dataset.head()"
   ]
  },
  {
   "cell_type": "markdown",
   "metadata": {},
   "source": [
    "<font color='blue'>\n",
    "<bold>dataset.dtypes gives the following result for me</bold>\n",
    "\n",
    "<pre>\n",
    "pollution(t-6)    float64\n",
    "dew(t-6)          float64\n",
    "temp(t-6)         float64\n",
    "press(t-6)        float64\n",
    "wnd_dir(t-6)       object\n",
    "wnd_spd(t-6)      float64\n",
    "snow(t-6)         float64\n",
    "rain(t-6)         float64\n",
    "pollution(t-5)    float64\n",
    "dew(t-5)          float64\n",
    "temp(t-5)         float64\n",
    "press(t-5)        float64\n",
    "wnd_dir(t-5)       object\n",
    "wnd_spd(t-5)      float64\n",
    "snow(t-5)         float64\n",
    "rain(t-5)         float64\n",
    "pollution(t-4)    float64\n",
    "dew(t-4)          float64\n",
    "temp(t-4)         float64\n",
    "press(t-4)        float64\n",
    "wnd_dir(t-4)       object\n",
    "wnd_spd(t-4)      float64\n",
    "snow(t-4)         float64\n",
    "rain(t-4)         float64\n",
    "pollution(t-3)    float64\n",
    "dew(t-3)          float64\n",
    "temp(t-3)         float64\n",
    "press(t-3)        float64\n",
    "wnd_dir(t-3)       object\n",
    "wnd_spd(t-3)      float64\n",
    "snow(t-3)         float64\n",
    "rain(t-3)         float64\n",
    "pollution(t-2)    float64\n",
    "dew(t-2)          float64\n",
    "temp(t-2)         float64\n",
    "press(t-2)        float64\n",
    "wnd_dir(t-2)       object\n",
    "wnd_spd(t-2)      float64\n",
    "snow(t-2)         float64\n",
    "rain(t-2)         float64\n",
    "pollution(t-1)    float64\n",
    "dew(t-1)          float64\n",
    "temp(t-1)         float64\n",
    "press(t-1)        float64\n",
    "wnd_dir(t-1)       object\n",
    "wnd_spd(t-1)      float64\n",
    "snow(t-1)         float64\n",
    "rain(t-1)         float64\n",
    "pollution(t)      float64\n",
    "dtype: object\n",
    "<pre>\n",
    "</font>"
   ]
  },
  {
   "cell_type": "markdown",
   "metadata": {},
   "source": [
    "First, we must split the prepared dataset into train and test sets. To speed up the training of the model for this demonstration, we will only fit the model on the first year of data, then evaluate it on the remaining 4 years of data. \n",
    "\n",
    "The example below splits the dataset into train and test sets, then splits the train and test sets into input and output variables. Finally, the inputs (X) are reshaped into the 3D format expected by LSTMs, namely [samples, timesteps, features]."
   ]
  },
  {
   "cell_type": "code",
   "execution_count": 98,
   "metadata": {
    "ExecuteTime": {
     "end_time": "2021-10-05T11:21:57.878625Z",
     "start_time": "2021-10-05T11:21:57.754945Z"
    }
   },
   "outputs": [
    {
     "data": {
      "text/plain": [
       "((8760, 6, 8), (8760,))"
      ]
     },
     "execution_count": 98,
     "metadata": {},
     "output_type": "execute_result"
    }
   ],
   "source": [
    "# get the values\n",
    "values = dataset.values\n",
    "\n",
    "# split into train and test sets\n",
    "n_train_hours = 365 * 24\n",
    "train = values[:n_train_hours, :]\n",
    "val = values[n_train_hours:2*n_train_hours, :]\n",
    "test = values[2*n_train_hours:, :]\n",
    "\n",
    "# split into input and outputs\n",
    "train_X, train_y = train[:, :-n_out], np.array(train[:, -n_out], dtype=\"float64\")\n",
    "val_X, val_y = val[:, :-n_out], np.array(val[:, -n_out], dtype=\"float64\")\n",
    "test_X, test_y = test[:, :-n_out], np.array(test[:, -n_out], dtype=\"float64\")\n",
    "\n",
    "# reshape input to be 3D [samples, timesteps, features]\n",
    "train_X = train_X.reshape((train_X.shape[0], n_in, n_features))\n",
    "val_X = val_X.reshape((val_X.shape[0], n_in, n_features))\n",
    "test_X = test_X.reshape((test_X.shape[0], n_in, n_features))\n",
    "train_X.shape, train_y.shape"
   ]
  },
  {
   "cell_type": "markdown",
   "metadata": {},
   "source": [
    "### Encode and normalize dataset"
   ]
  },
  {
   "cell_type": "markdown",
   "metadata": {},
   "source": [
    "Data encoding and normalization\n",
    "* The wind direction feature is label encoded (integer encoded).\n",
    "* All features are normalized\n",
    "\n",
    "And then the dataset is transformed into a supervised learning problem. The weather variables for the hour to be predicted (t) are then removed."
   ]
  },
  {
   "cell_type": "code",
   "execution_count": 99,
   "metadata": {
    "ExecuteTime": {
     "end_time": "2021-10-05T11:21:59.374382Z",
     "start_time": "2021-10-05T11:21:59.100558Z"
    }
   },
   "outputs": [
    {
     "data": {
      "text/plain": [
       "11"
      ]
     },
     "execution_count": 99,
     "metadata": {},
     "output_type": "execute_result"
    }
   ],
   "source": [
    "numeric_features = [i for i, t in enumerate(dataset.dtypes[:-n_out]) if t in ['float64', 'int32']]\n",
    "numeric_transformer = Pipeline(steps=[\n",
    "    ('imputer', SimpleImputer(strategy='median')),\n",
    "    ('scaler', StandardScaler())])\n",
    "\n",
    "categorical_features = [i for i in range(len(dataset.columns)-n_out) if i not in numeric_features]\n",
    "categorical_transformer = OneHotEncoder(handle_unknown='ignore')\n",
    "\n",
    "preprocessor = ColumnTransformer(\n",
    "    transformers=[\n",
    "        ('num', numeric_transformer, numeric_features),\n",
    "        ('cat', categorical_transformer, categorical_features)])\n",
    "\n",
    "train_X_enc = preprocessor.fit_transform(train_X.reshape(len(train_X), -1)).reshape(len(train_X), n_in, -1)\n",
    "val_X_enc = preprocessor.fit_transform(val_X.reshape(len(val_X), -1)).reshape(len(val_X), n_in, -1)\n",
    "test_X_enc = preprocessor.transform(test_X.reshape(len(test_X), -1)).reshape(len(test_X), n_in, -1)\n",
    "                                                                                    \n",
    "n_features = train_X_enc.shape[2] # Change with oneHotEncode\n",
    "n_features"
   ]
  },
  {
   "cell_type": "markdown",
   "metadata": {},
   "source": [
    "Running the code below prepare the data. Executing the next cell, prints the first 5 rows of the transformed dataset. We can see the 8 input variables (input series) and the 1 output variable (pollution level at the current hour)."
   ]
  },
  {
   "cell_type": "markdown",
   "metadata": {},
   "source": [
    "### Build, Compile, Fit, Predict and Evaluate a model\n",
    "<br>\n",
    "<font color='red'>\n",
    "$TO DO - Students$\n",
    "\n",
    "* Build your model\n",
    "    * Put the number of hidden layers you want. If possible more than one.\n",
    "</font>"
   ]
  },
  {
   "cell_type": "code",
   "execution_count": 100,
   "metadata": {
    "ExecuteTime": {
     "end_time": "2021-10-05T11:22:00.977488Z",
     "start_time": "2021-10-05T11:22:00.871405Z"
    }
   },
   "outputs": [
    {
     "name": "stdout",
     "output_type": "stream",
     "text": [
      "Model: \"model_7\"\n",
      "_________________________________________________________________\n",
      "Layer (type)                 Output Shape              Param #   \n",
      "=================================================================\n",
      "input_8 (InputLayer)         [(None, 6, 11)]           0         \n",
      "_________________________________________________________________\n",
      "bidirectional_16 (Bidirectio (None, 6, 40)             5120      \n",
      "_________________________________________________________________\n",
      "bidirectional_17 (Bidirectio (None, 6, 40)             9760      \n",
      "_________________________________________________________________\n",
      "bidirectional_18 (Bidirectio (None, 40)                9760      \n",
      "_________________________________________________________________\n",
      "dense_7 (Dense)              (None, 1)                 41        \n",
      "=================================================================\n",
      "Total params: 24,681\n",
      "Trainable params: 24,681\n",
      "Non-trainable params: 0\n",
      "_________________________________________________________________\n"
     ]
    }
   ],
   "source": [
    "LSTM_SIZE = 20\n",
    "\n",
    "inputs = Input(shape=(n_in, n_features))\n",
    "hidden1 = Bidirectional(LSTM(LSTM_SIZE, return_sequences=True, activation='relu'))(inputs)\n",
    "hidden2 = Bidirectional(LSTM(LSTM_SIZE, return_sequences=True, activation='relu'))(hidden1)\n",
    "hidden3 = Bidirectional(LSTM(LSTM_SIZE, return_sequences=False, activation='relu'))(hidden2)\n",
    "outputs = Dense(n_out, activation='linear')(hidden3)\n",
    "model = Model(inputs=inputs, outputs=outputs)\n",
    "model.summary()"
   ]
  },
  {
   "cell_type": "markdown",
   "metadata": {},
   "source": [
    "<font color='red'>\n",
    "$TO DO - Students$\n",
    "\n",
    "* Compile your model\n",
    "</font>"
   ]
  },
  {
   "cell_type": "code",
   "execution_count": 101,
   "metadata": {
    "ExecuteTime": {
     "end_time": "2021-10-05T11:22:01.487980Z",
     "start_time": "2021-10-05T11:22:01.476341Z"
    }
   },
   "outputs": [],
   "source": [
    "# Compile the model\n",
    "model.compile(loss='mae', metrics=[\"mae\"], optimizer='adam')"
   ]
  },
  {
   "cell_type": "markdown",
   "metadata": {},
   "source": [
    "<font color='red'>\n",
    "$TO DO - Students$\n",
    "\n",
    "* Fit your model using `EarlyStopping`\n",
    "</font>"
   ]
  },
  {
   "cell_type": "code",
   "execution_count": 102,
   "metadata": {},
   "outputs": [],
   "source": [
    "callbacks_list= [EarlyStopping(monitor='val_mae', min_delta=0.005, patience=20,\n",
    "                                verbose=2, mode='min', restore_best_weights=True)]"
   ]
  },
  {
   "cell_type": "code",
   "execution_count": 103,
   "metadata": {
    "ExecuteTime": {
     "end_time": "2021-10-05T11:22:46.035637Z",
     "start_time": "2021-10-05T11:22:02.120718Z"
    }
   },
   "outputs": [
    {
     "name": "stdout",
     "output_type": "stream",
     "text": [
      "Epoch 1/20\n",
      "274/274 [==============================] - 17s 22ms/step - loss: 0.2651 - mae: 0.2651 - val_loss: 0.1277 - val_mae: 0.1277\n",
      "Epoch 2/20\n",
      "274/274 [==============================] - 5s 18ms/step - loss: 0.2041 - mae: 0.2041 - val_loss: 0.1646 - val_mae: 0.1646\n",
      "Epoch 3/20\n",
      "274/274 [==============================] - 5s 18ms/step - loss: 0.1573 - mae: 0.1573 - val_loss: 0.1410 - val_mae: 0.1410\n",
      "Epoch 4/20\n",
      "274/274 [==============================] - 5s 17ms/step - loss: 0.1292 - mae: 0.1292 - val_loss: 0.1241 - val_mae: 0.1241\n",
      "Epoch 5/20\n",
      "274/274 [==============================] - 5s 18ms/step - loss: 0.1213 - mae: 0.1213 - val_loss: 0.0986 - val_mae: 0.0986\n",
      "Epoch 6/20\n",
      "274/274 [==============================] - 5s 17ms/step - loss: 0.1155 - mae: 0.1155 - val_loss: 0.1014 - val_mae: 0.1014\n",
      "Epoch 7/20\n",
      "274/274 [==============================] - 5s 17ms/step - loss: 0.1111 - mae: 0.1111 - val_loss: 0.1303 - val_mae: 0.1303\n",
      "Epoch 8/20\n",
      "274/274 [==============================] - 5s 18ms/step - loss: 0.1073 - mae: 0.1073 - val_loss: 0.1106 - val_mae: 0.1106\n",
      "Epoch 9/20\n",
      "274/274 [==============================] - 5s 18ms/step - loss: 0.1088 - mae: 0.1088 - val_loss: 0.1081 - val_mae: 0.1081\n",
      "Epoch 10/20\n",
      "274/274 [==============================] - 5s 17ms/step - loss: 0.1025 - mae: 0.1025 - val_loss: 0.1556 - val_mae: 0.1556\n",
      "Epoch 11/20\n",
      "274/274 [==============================] - 5s 18ms/step - loss: 0.1025 - mae: 0.1025 - val_loss: 0.1300 - val_mae: 0.1300\n",
      "Epoch 12/20\n",
      "274/274 [==============================] - 5s 19ms/step - loss: 0.0995 - mae: 0.0995 - val_loss: 0.1238 - val_mae: 0.1238\n",
      "Epoch 13/20\n",
      "274/274 [==============================] - 4s 15ms/step - loss: 0.0980 - mae: 0.0980 - val_loss: 0.1428 - val_mae: 0.1428\n",
      "Epoch 14/20\n",
      "274/274 [==============================] - 4s 16ms/step - loss: 0.0993 - mae: 0.0993 - val_loss: 0.1569 - val_mae: 0.1569\n",
      "Epoch 15/20\n",
      "274/274 [==============================] - 4s 16ms/step - loss: 0.0955 - mae: 0.0955 - val_loss: 0.1257 - val_mae: 0.1257\n",
      "Epoch 16/20\n",
      "274/274 [==============================] - 5s 17ms/step - loss: 0.0964 - mae: 0.0964 - val_loss: 0.1320 - val_mae: 0.1320\n",
      "Epoch 17/20\n",
      "274/274 [==============================] - 4s 15ms/step - loss: 0.0977 - mae: 0.0977 - val_loss: 0.1307 - val_mae: 0.1307\n",
      "Epoch 18/20\n",
      "274/274 [==============================] - 5s 17ms/step - loss: 0.0956 - mae: 0.0956 - val_loss: 0.1343 - val_mae: 0.134306 -\n",
      "Epoch 19/20\n",
      "274/274 [==============================] - 5s 17ms/step - loss: 0.0931 - mae: 0.0931 - val_loss: 0.1534 - val_mae: 0.1534\n",
      "Epoch 20/20\n",
      "274/274 [==============================] - 5s 17ms/step - loss: 0.0942 - mae: 0.0942 - val_loss: 0.1406 - val_mae: 0.1406\n"
     ]
    }
   ],
   "source": [
    "history = model.fit(train_X_enc, train_y, validation_data = (val_X_enc,val_y), callbacks=callbacks_list,\n",
    "                    batch_size=32, epochs=20)"
   ]
  },
  {
   "cell_type": "markdown",
   "metadata": {
    "ExecuteTime": {
     "end_time": "2022-01-29T15:27:52.753563Z",
     "start_time": "2022-01-29T15:27:52.723119Z"
    }
   },
   "source": [
    "<font color='red'>\n",
    "$TO DO - Students$\n",
    "\n",
    "* Plot learning curve\n",
    "</font>"
   ]
  },
  {
   "cell_type": "code",
   "execution_count": 104,
   "metadata": {
    "ExecuteTime": {
     "end_time": "2021-10-05T11:22:46.219894Z",
     "start_time": "2021-10-05T11:22:46.042233Z"
    }
   },
   "outputs": [
    {
     "data": {
      "image/png": "[encoded data removed]",
      "text/plain": [
       "<Figure size 1872x576 with 2 Axes>"
      ]
     },
     "metadata": {
      "needs_background": "light"
     },
     "output_type": "display_data"
    },
    {
     "data": {
      "text/plain": [
       "<AxesSubplot:>"
      ]
     },
     "execution_count": 104,
     "metadata": {},
     "output_type": "execute_result"
    },
    {
     "data": {
      "image/png": "[encoded data removed]",
      "text/plain": [
       "<Figure size 576x360 with 1 Axes>"
      ]
     },
     "metadata": {
      "needs_background": "light"
     },
     "output_type": "display_data"
    }
   ],
   "source": [
    "\"\"\" PLOT \"\"\"\n",
    "import matplotlib.pyplot as plt\n",
    "%matplotlib inline\n",
    "# Plot the learning curves and analyze them\n",
    "# Babysit your model\n",
    "fig, (ax1, ax2) = plt.subplots(1, 2, figsize=(26,8))\n",
    "\n",
    "ax1.plot(history.history['loss'], label=\"loss\")\n",
    "ax1.plot(history.history['val_loss'], label=\"val_loss\")\n",
    "ax1.legend()\n",
    "ax2.plot(history.history['mae'], label=\"mae\")\n",
    "ax2.plot(history.history['val_mae'], label=\"val_mae\")\n",
    "ax2.legend()\n",
    "plt.show()\n",
    "# It's possible to plot them very easily using: \n",
    "pd.DataFrame(history.history).plot(figsize=(8,5))"
   ]
  },
  {
   "cell_type": "markdown",
   "metadata": {},
   "source": [
    "<font color='red'>\n",
    "$TO DO - Students$\n",
    "\n",
    "* Use your model to predict test set data\n",
    "</font>"
   ]
  },
  {
   "cell_type": "code",
   "execution_count": 105,
   "metadata": {
    "ExecuteTime": {
     "end_time": "2021-10-05T11:22:47.463533Z",
     "start_time": "2021-10-05T11:22:46.226671Z"
    }
   },
   "outputs": [],
   "source": [
    "# make a prediction\n",
    "pred = model.predict(test_X_enc)\n"
   ]
  },
  {
   "cell_type": "code",
   "execution_count": 106,
   "metadata": {},
   "outputs": [
    {
     "data": {
      "text/plain": [
       "((26274, 1), (26274,))"
      ]
     },
     "execution_count": 106,
     "metadata": {},
     "output_type": "execute_result"
    }
   ],
   "source": [
    "pred.shape, test_y.shape"
   ]
  },
  {
   "cell_type": "markdown",
   "metadata": {},
   "source": [
    "<font color='red'>\n",
    "$TO DO - Students$\n",
    "\n",
    "* Evaluate your model with RMSA\n",
    "</font>"
   ]
  },
  {
   "cell_type": "code",
   "execution_count": 107,
   "metadata": {
    "ExecuteTime": {
     "end_time": "2021-10-05T11:22:47.487113Z",
     "start_time": "2021-10-05T11:22:47.474485Z"
    }
   },
   "outputs": [
    {
     "data": {
      "text/plain": [
       "'Test RMSE: 0.505'"
      ]
     },
     "execution_count": 107,
     "metadata": {},
     "output_type": "execute_result"
    }
   ],
   "source": [
    "# calculate RMSE\n",
    "# calculate RMSE\n",
    "import tensorflow as tf\n",
    "import tensorflow.keras.backend as K\n",
    "msle = tf.keras.losses.MeanSquaredLogarithmicError()\n",
    "rmse = K.sqrt(msle(test_y, pred))\n",
    "# rmse = model.rmse\n",
    "'Test RMSE: %.3f' % rmse"
   ]
  },
  {
   "cell_type": "markdown",
   "metadata": {},
   "source": [
    "The lower the RMSE the better the model is capable to fit a dataset. in our case, the model performs better <br>\n",
    "because the RMSE is low "
   ]
  },
  {
   "cell_type": "markdown",
   "metadata": {},
   "source": [
    "### Predict next day\n",
    "\n",
    "Generally, what we are trying to predict is a pollution indicator for the day or per 12-hour period. \n",
    "\n",
    "Modify the datasets to create a new column giving a pollution indicator per half day: little pollution, moderate pollution, heavy pollution."
   ]
  },
  {
   "cell_type": "code",
   "execution_count": 137,
   "metadata": {},
   "outputs": [],
   "source": [
    "dataset_half_day = series_to_supervised(data, 12, 1)"
   ]
  },
  {
   "cell_type": "code",
   "execution_count": 141,
   "metadata": {},
   "outputs": [],
   "source": [
    "col_list=['pollution(t-12)','pollution(t-11)','pollution(t-10)','pollution(t-9)','pollution(t-8)','pollution(t-9)','pollution(t-8)','pollution(t-7)','pollution(t-6)','pollution(t-5)','pollution(t-4)','pollution(t-3)','pollution(t-2)','pollution(t-1)']\n",
    "dataset_half_day['polution_half_day']= dataset_half_day[col_list].sum(axis=1)"
   ]
  },
  {
   "cell_type": "code",
   "execution_count": 149,
   "metadata": {},
   "outputs": [],
   "source": [
    "target = []\n",
    "for row in dataset_half_day['polution_half_day']:\n",
    "    if row <= 440 :\n",
    "        target.append('little pollution')\n",
    "    elif (row>440 and row <= 1000):\n",
    "        target.append(' moderate pollution')\n",
    "    else:\n",
    "        target.append('heavy pollution')\n",
    "dataset_half_day['target'] = target"
   ]
  },
  {
   "cell_type": "code",
   "execution_count": 151,
   "metadata": {},
   "outputs": [
    {
     "data": {
      "text/plain": [
       "array(['heavy pollution', ' moderate pollution', 'little pollution'],\n",
       "      dtype=object)"
      ]
     },
     "execution_count": 151,
     "metadata": {},
     "output_type": "execute_result"
    }
   ],
   "source": [
    "dataset_half_day['target'].unique()"
   ]
  },
  {
   "cell_type": "code",
   "execution_count": null,
   "metadata": {},
   "outputs": [],
   "source": []
  }
 ],
 "metadata": {
  "kernelspec": {
   "display_name": "Python 3",
   "language": "python",
   "name": "python3"
  },
  "language_info": {
   "codemirror_mode": {
    "name": "ipython",
    "version": 3
   },
   "file_extension": ".py",
   "mimetype": "text/x-python",
   "name": "python",
   "nbconvert_exporter": "python",
   "pygments_lexer": "ipython3",
   "version": "3.8.5"
  },
  "latex_envs": {
   "LaTeX_envs_menu_present": true,
   "autoclose": true,
   "autocomplete": true,
   "bibliofile": "biblio.bib",
   "cite_by": "apalike",
   "current_citInitial": 1,
   "eqLabelWithNumbers": true,
   "eqNumInitial": 1,
   "hotkeys": {
    "equation": "Ctrl-E",
    "itemize": "Ctrl-I"
   },
   "labels_anchors": false,
   "latex_user_defs": false,
   "report_style_numbering": false,
   "user_envs_cfg": false
  },
  "nbTranslate": {
   "displayLangs": [
    "*"
   ],
   "hotkey": "alt-t",
   "langInMainMenu": true,
   "sourceLang": "en",
   "targetLang": "fr",
   "useGoogleTranslate": true
  },
  "toc": {
   "base_numbering": 1,
   "nav_menu": {},
   "number_sections": true,
   "sideBar": true,
   "skip_h1_title": true,
   "title_cell": "Table of Contents",
   "title_sidebar": "Contents",
   "toc_cell": true,
   "toc_position": {},
   "toc_section_display": true,
   "toc_window_display": false
  }
 },
 "nbformat": 4,
 "nbformat_minor": 2
}
