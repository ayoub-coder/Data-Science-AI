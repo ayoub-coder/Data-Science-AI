{
 "cells": [
  {
   "cell_type": "markdown",
   "metadata": {
    "id": "7Zc0WsSkoWK0"
   },
   "source": [
    "# Attention mechanism for sentiment analysis"
   ]
  },
  {
   "cell_type": "markdown",
   "metadata": {
    "id": "VSuNR5g2oUqH"
   },
   "source": [
    "In this lab we use part of the 'Amazon_Unlocked_Mobile.csv' dataset published by Kaggle. The dataset contain the following information:\n",
    "* Product Name\n",
    "* Brand Name\n",
    "* Price\n",
    "* Rating\n",
    "* Reviews\n",
    "* Review Votes\n",
    "\n",
    "We are mainly interested by the 'Reviews' (X) and by the 'Rating' (y)\n",
    "\n",
    "\n",
    "The goal is to try to predict the 'Rating' after reading the 'Reviews'. I've prepared for you TRAIN and TEST set.\n",
    "The work to be done is as follows:\n",
    "\n",
    "1. Feature extraction and baseline\n",
    "    * read the dataset and understand it\n",
    "    * put it in a format so that you can use `CountVectorizer` or`Tf-IDF` to extract the desired features\n",
    "    * perform on the desired dates and preprocessing\n",
    "    * use one of the classifiers you know to predict the polarity of different sentences\n",
    "1. My first neural network\n",
    "    * reuse the features already extracted \n",
    "    * proposed a neural network built with Keras\n",
    "1. Hyper-parameter fitting\n",
    "    * for the base line: adjust min_df, max_df, ngram, max_features + model's hyper-parameter\n",
    "    * for the neural network: adjust batch size, number of layers and number of neuron by layers, use earlystop\n",
    "1. <span style=\"color:red\">Word embedding\n",
    "    * stage 1 build a network that uses Keras' embedding which is not language sensitive.\n",
    "    * stage 2 build a network that simultaneously uses Keras' embedding and the features extracted in the first weeks.\n",
    "    * stage 3 try to use an existing embedding (https://github.com/facebookresearch/MUSE)\n",
    "    </span>\n",
    "\n",
    "**WARNING:** the dataset is voluminous, I can only encourage you to work first on a small part of it and only at the end, when the code is well debugged and that it is necessary to build the \"final model\", to use the whole dataset."
   ]
  },
  {
   "cell_type": "code",
   "execution_count": 1,
   "metadata": {
    "ExecuteTime": {
     "end_time": "2022-02-07T18:09:56.208198Z",
     "start_time": "2022-02-07T18:09:56.080331Z"
    }
   },
   "outputs": [
    {
     "data": {
      "text/html": [
       "<div id=\"my_id_menu_nb\">run previous cell, wait for 2 seconds</div>\n",
       "<script>\n",
       "function repeat_indent_string(n){\n",
       "    var a = \"\" ;\n",
       "    for ( ; n > 0 ; --n)\n",
       "        a += \"    \";\n",
       "    return a;\n",
       "}\n",
       "// look up into all sections and builds an automated menu //\n",
       "var update_menu_string = function(begin, lfirst, llast, sformat, send, keep_item, begin_format, end_format) {\n",
       "    var anchors = document.getElementsByClassName(\"section\");\n",
       "    if (anchors.length == 0) {\n",
       "        anchors = document.getElementsByClassName(\"text_cell_render rendered_html\");\n",
       "    }\n",
       "    var i,t;\n",
       "    var text_menu = begin;\n",
       "    var text_memo = \"<pre>\\nlength:\" + anchors.length + \"\\n\";\n",
       "    var ind = \"\";\n",
       "    var memo_level = 1;\n",
       "    var href;\n",
       "    var tags = [];\n",
       "    var main_item = 0;\n",
       "    var format_open = 0;\n",
       "    for (i = 0; i <= llast; i++)\n",
       "        tags.push(\"h\" + i);\n",
       "\n",
       "    for (i = 0; i < anchors.length; i++) {\n",
       "        text_memo += \"**\" + anchors[i].id + \"--\\n\";\n",
       "\n",
       "        var child = null;\n",
       "        for(t = 0; t < tags.length; t++) {\n",
       "            var r = anchors[i].getElementsByTagName(tags[t]);\n",
       "            if (r.length > 0) {\n",
       "child = r[0];\n",
       "break;\n",
       "            }\n",
       "        }\n",
       "        if (child == null) {\n",
       "            text_memo += \"null\\n\";\n",
       "            continue;\n",
       "        }\n",
       "        if (anchors[i].hasAttribute(\"id\")) {\n",
       "            // when converted in RST\n",
       "            href = anchors[i].id;\n",
       "            text_memo += \"#1-\" + href;\n",
       "            // passer à child suivant (le chercher)\n",
       "        }\n",
       "        else if (child.hasAttribute(\"id\")) {\n",
       "            // in a notebook\n",
       "            href = child.id;\n",
       "            text_memo += \"#2-\" + href;\n",
       "        }\n",
       "        else {\n",
       "            text_memo += \"#3-\" + \"*\" + \"\\n\";\n",
       "            continue;\n",
       "        }\n",
       "        var title = child.textContent;\n",
       "        var level = parseInt(child.tagName.substring(1,2));\n",
       "\n",
       "        text_memo += \"--\" + level + \"?\" + lfirst + \"--\" + title + \"\\n\";\n",
       "\n",
       "        if ((level < lfirst) || (level > llast)) {\n",
       "            continue ;\n",
       "        }\n",
       "        if (title.endsWith('¶')) {\n",
       "            title = title.substring(0,title.length-1).replace(\"<\", \"&lt;\")\n",
       "         .replace(\">\", \"&gt;\").replace(\"&\", \"&amp;\");\n",
       "        }\n",
       "        if (title.length == 0) {\n",
       "            continue;\n",
       "        }\n",
       "\n",
       "        while (level < memo_level) {\n",
       "            text_menu += end_format + \"</ul>\\n\";\n",
       "            format_open -= 1;\n",
       "            memo_level -= 1;\n",
       "        }\n",
       "        if (level == lfirst) {\n",
       "            main_item += 1;\n",
       "        }\n",
       "        if (keep_item != -1 && main_item != keep_item + 1) {\n",
       "            // alert(main_item + \" - \" + level + \" - \" + keep_item);\n",
       "            continue;\n",
       "        }\n",
       "        while (level > memo_level) {\n",
       "            text_menu += \"<ul>\\n\";\n",
       "            memo_level += 1;\n",
       "        }\n",
       "        text_menu += repeat_indent_string(level-2);\n",
       "        text_menu += begin_format + sformat.replace(\"__HREF__\", href).replace(\"__TITLE__\", title);\n",
       "        format_open += 1;\n",
       "    }\n",
       "    while (1 < memo_level) {\n",
       "        text_menu += end_format + \"</ul>\\n\";\n",
       "        memo_level -= 1;\n",
       "        format_open -= 1;\n",
       "    }\n",
       "    text_menu += send;\n",
       "    //text_menu += \"\\n\" + text_memo;\n",
       "\n",
       "    while (format_open > 0) {\n",
       "        text_menu += end_format;\n",
       "        format_open -= 1;\n",
       "    }\n",
       "    return text_menu;\n",
       "};\n",
       "var update_menu = function() {\n",
       "    var sbegin = \"\";\n",
       "    var sformat = '<a href=\"#__HREF__\">__TITLE__</a>';\n",
       "    var send = \"\";\n",
       "    var begin_format = '<li>';\n",
       "    var end_format = '</li>';\n",
       "    var keep_item = -1;\n",
       "    var text_menu = update_menu_string(sbegin, 2, 4, sformat, send, keep_item,\n",
       "       begin_format, end_format);\n",
       "    var menu = document.getElementById(\"my_id_menu_nb\");\n",
       "    menu.innerHTML=text_menu;\n",
       "};\n",
       "window.setTimeout(update_menu,2000);\n",
       "            </script>"
      ],
      "text/plain": [
       "<IPython.core.display.HTML object>"
      ]
     },
     "execution_count": 1,
     "metadata": {},
     "output_type": "execute_result"
    }
   ],
   "source": [
    "\"\"\"\n",
    "(Practical tip) Table of contents can be compiled directly in jupyter notebooks using the following code:\n",
    "I set an exception: if the package is in your installation you can import it otherwise you download it \n",
    "then import it.\n",
    "\"\"\"\n",
    "try:\n",
    "    from jyquickhelper import add_notebook_menu \n",
    "except:\n",
    "    !pip install jyquickhelper\n",
    "    from jyquickhelper import add_notebook_menu\n",
    "    \n",
    "\"\"\"\n",
    "Output Table of contents to navigate easily in the notebook. \n",
    "For interested readers, the package also includes Ipython magic commands to go back to this cell\n",
    "wherever you are in the notebook to look for cells faster\n",
    "\"\"\"\n",
    "add_notebook_menu()"
   ]
  },
  {
   "cell_type": "markdown",
   "metadata": {},
   "source": [
    "## Imports"
   ]
  },
  {
   "cell_type": "code",
   "execution_count": 2,
   "metadata": {
    "ExecuteTime": {
     "end_time": "2022-02-07T18:09:58.381036Z",
     "start_time": "2022-02-07T18:09:56.211901Z"
    }
   },
   "outputs": [],
   "source": [
    "import os\n",
    "import pandas as pd\n",
    "import numpy as np\n",
    "import matplotlib.pyplot as plt"
   ]
  },
  {
   "cell_type": "code",
   "execution_count": 3,
   "metadata": {
    "ExecuteTime": {
     "end_time": "2022-02-07T18:09:59.606973Z",
     "start_time": "2022-02-07T18:09:58.385335Z"
    }
   },
   "outputs": [],
   "source": [
    "from sklearn.preprocessing import OneHotEncoder"
   ]
  },
  {
   "cell_type": "code",
   "execution_count": 23,
   "metadata": {
    "ExecuteTime": {
     "end_time": "2022-02-07T18:10:05.865655Z",
     "start_time": "2022-02-07T18:09:59.611230Z"
    }
   },
   "outputs": [],
   "source": [
    "import tensorflow as tf\n",
    "from tensorflow.keras.preprocessing.text import one_hot\n",
    "from tensorflow.keras.preprocessing.sequence import pad_sequences\n",
    "from tensorflow.keras.models import Model, load_model\n",
    "from tensorflow.keras.layers import Input, TextVectorization, Embedding, Dense, Dropout, Activation\n",
    "from tensorflow.keras.layers import TimeDistributed, LSTM, Bidirectional\n",
    "from tensorflow.keras.layers import Flatten, RepeatVector, Dot, Permute, AveragePooling1D\n",
    "from tensorflow.keras.callbacks import EarlyStopping\n",
    "from tensorflow.keras.optimizers import Adam\n",
    "from tensorflow.keras.utils import plot_model"
   ]
  },
  {
   "cell_type": "code",
   "execution_count": 5,
   "metadata": {
    "ExecuteTime": {
     "end_time": "2022-02-07T18:10:06.117193Z",
     "start_time": "2022-02-07T18:10:05.867777Z"
    }
   },
   "outputs": [],
   "source": [
    "import tensorflow_addons as tfa\n",
    "from tensorflow_addons.metrics import F1Score"
   ]
  },
  {
   "cell_type": "markdown",
   "metadata": {
    "id": "lLrXoRQ5oUqI"
   },
   "source": [
    "## Read the dataset\n",
    "\n",
    "Could you find below a proposal. You can complete them."
   ]
  },
  {
   "cell_type": "code",
   "execution_count": 6,
   "metadata": {
    "ExecuteTime": {
     "end_time": "2022-02-07T18:10:07.668520Z",
     "start_time": "2022-02-07T18:10:06.120178Z"
    },
    "colab": {
     "base_uri": "https://localhost:8080/",
     "height": 204
    },
    "id": "gIXGN8IzoUqJ",
    "outputId": "f9cbed6e-5c8c-45cb-e083-4a9194f12157"
   },
   "outputs": [
    {
     "data": {
      "text/html": [
       "<div>\n",
       "<style scoped>\n",
       "    .dataframe tbody tr th:only-of-type {\n",
       "        vertical-align: middle;\n",
       "    }\n",
       "\n",
       "    .dataframe tbody tr th {\n",
       "        vertical-align: top;\n",
       "    }\n",
       "\n",
       "    .dataframe thead th {\n",
       "        text-align: right;\n",
       "    }\n",
       "</style>\n",
       "<table border=\"1\" class=\"dataframe\">\n",
       "  <thead>\n",
       "    <tr style=\"text-align: right;\">\n",
       "      <th></th>\n",
       "      <th>Product Name</th>\n",
       "      <th>Brand Name</th>\n",
       "      <th>Price</th>\n",
       "      <th>Rating</th>\n",
       "      <th>Reviews</th>\n",
       "      <th>Review Votes</th>\n",
       "    </tr>\n",
       "  </thead>\n",
       "  <tbody>\n",
       "    <tr>\n",
       "      <th>0</th>\n",
       "      <td>Samsung Galaxy Note 4 N910C Unlocked Cellphone...</td>\n",
       "      <td>Samsung</td>\n",
       "      <td>449.99</td>\n",
       "      <td>4</td>\n",
       "      <td>I love it!!! I absolutely love it!! 👌👍</td>\n",
       "      <td>0</td>\n",
       "    </tr>\n",
       "    <tr>\n",
       "      <th>1</th>\n",
       "      <td>BLU Energy X Plus Smartphone - With 4000 mAh S...</td>\n",
       "      <td>BLU</td>\n",
       "      <td>139</td>\n",
       "      <td>5</td>\n",
       "      <td>I love the BLU phones! This is my second one t...</td>\n",
       "      <td>4</td>\n",
       "    </tr>\n",
       "    <tr>\n",
       "      <th>2</th>\n",
       "      <td>Apple iPhone 6 128GB Silver AT&amp;T</td>\n",
       "      <td>Apple</td>\n",
       "      <td>599.95</td>\n",
       "      <td>5</td>\n",
       "      <td>Great phone</td>\n",
       "      <td>1</td>\n",
       "    </tr>\n",
       "    <tr>\n",
       "      <th>3</th>\n",
       "      <td>BLU Advance 4.0L Unlocked Smartphone -US GSM -...</td>\n",
       "      <td>BLU</td>\n",
       "      <td>51.99</td>\n",
       "      <td>4</td>\n",
       "      <td>Very happy with the performance. The apps work...</td>\n",
       "      <td>2</td>\n",
       "    </tr>\n",
       "    <tr>\n",
       "      <th>4</th>\n",
       "      <td>Huawei P8 Lite US Version- 5 Unlocked Android ...</td>\n",
       "      <td>Huawei</td>\n",
       "      <td>198.99</td>\n",
       "      <td>5</td>\n",
       "      <td>Easy to use great price</td>\n",
       "      <td>0</td>\n",
       "    </tr>\n",
       "  </tbody>\n",
       "</table>\n",
       "</div>"
      ],
      "text/plain": [
       "                                        Product Name Brand Name   Price  \\\n",
       "0  Samsung Galaxy Note 4 N910C Unlocked Cellphone...    Samsung  449.99   \n",
       "1  BLU Energy X Plus Smartphone - With 4000 mAh S...        BLU     139   \n",
       "2                   Apple iPhone 6 128GB Silver AT&T      Apple  599.95   \n",
       "3  BLU Advance 4.0L Unlocked Smartphone -US GSM -...        BLU   51.99   \n",
       "4  Huawei P8 Lite US Version- 5 Unlocked Android ...     Huawei  198.99   \n",
       "\n",
       "   Rating                                            Reviews Review Votes  \n",
       "0       4             I love it!!! I absolutely love it!! 👌👍            0  \n",
       "1       5  I love the BLU phones! This is my second one t...            4  \n",
       "2       5                                        Great phone            1  \n",
       "3       4  Very happy with the performance. The apps work...            2  \n",
       "4       5                            Easy to use great price            0  "
      ]
     },
     "execution_count": 6,
     "metadata": {},
     "output_type": "execute_result"
    }
   ],
   "source": [
    "TRAIN = pd.read_csv(\"http://www.i3s.unice.fr/~riveill/dataset/Amazon_Unlocked_Mobile/train.csv.gz\").fillna(value=\"\")\n",
    "VAL = pd.read_csv(\"http://www.i3s.unice.fr/~riveill/dataset/Amazon_Unlocked_Mobile/val.csv.gz\").fillna(value=\"\")\n",
    "TEST = pd.read_csv(\"http://www.i3s.unice.fr/~riveill/dataset/Amazon_Unlocked_Mobile/test.csv.gz\").fillna(value=\"\")\n",
    "\n",
    "TRAIN.head()"
   ]
  },
  {
   "cell_type": "code",
   "execution_count": 7,
   "metadata": {
    "ExecuteTime": {
     "end_time": "2022-02-07T18:10:07.713765Z",
     "start_time": "2022-02-07T18:10:07.672004Z"
    },
    "colab": {
     "base_uri": "https://localhost:8080/"
    },
    "id": "WdeAXW40oUqJ",
    "outputId": "d99ac22b-c7e5-4c4a-f817-d8e25ff2a28c"
   },
   "outputs": [
    {
     "data": {
      "text/plain": [
       "((5000, 1), (5000, 5))"
      ]
     },
     "execution_count": 7,
     "metadata": {},
     "output_type": "execute_result"
    }
   ],
   "source": [
    "''' Construct X_train and y_train '''\n",
    "X_train = np.array(TRAIN['Reviews']).reshape(-1,1)\n",
    "\n",
    "ohe = OneHotEncoder(sparse=False, handle_unknown='ignore')\n",
    "y_train = ohe.fit_transform(np.array(TRAIN['Rating']).reshape(-1,1))\n",
    "\n",
    "X_train.shape, y_train.shape"
   ]
  },
  {
   "cell_type": "code",
   "execution_count": 8,
   "metadata": {
    "ExecuteTime": {
     "end_time": "2022-02-07T18:10:07.780117Z",
     "start_time": "2022-02-07T18:10:07.723204Z"
    }
   },
   "outputs": [],
   "source": [
    "''' Do the same for val '''\n",
    "X_val = np.array(VAL['Reviews']).reshape(-1,1)\n",
    "y_val = ohe.transform(np.array(VAL['Rating']).reshape(-1,1))\n",
    "\n",
    "''' Do the same for test '''\n",
    "X_test = np.array(TEST['Reviews']).reshape(-1,1)\n",
    "y_test = ohe.transform(np.array(TEST['Rating']).reshape(-1,1))"
   ]
  },
  {
   "cell_type": "markdown",
   "metadata": {
    "id": "N4BohkzOoUqO"
   },
   "source": [
    "## Build an a neural network with vectorized embedding and RNN cells.\n",
    "\n",
    "The task is to predict the sentiment according to the content of the review. We can treat this kind of task by a Many-to-one model.\n",
    "\n",
    "![LSTM for sentiment analysis](https://www.programmerall.com/images/679/8c/8c66e6ee3b9418358a791b363572bedf.jpeg)\n",
    "\n",
    "Implement such a network with :\n",
    "- a first layer of type LSTM\n",
    "- a second layer of type LSTM, each cell of this layer will be fed by the corresponding output of the first layer (see figure above).\n",
    "\n"
   ]
  },
  {
   "cell_type": "markdown",
   "metadata": {},
   "source": [
    "## Answers: \n",
    "<font color='red'>\n",
    "1. Before modifying the code, take the time to understand it well. We use here the global attentions mechanism only from an encoder since the network for sentiment analysis has no decoder part, only a classifier 1"
   ]
  },
  {
   "cell_type": "code",
   "execution_count": 9,
   "metadata": {
    "ExecuteTime": {
     "end_time": "2022-02-07T18:10:07.818887Z",
     "start_time": "2022-02-07T18:10:07.808634Z"
    },
    "colab": {
     "base_uri": "https://localhost:8080/"
    },
    "id": "B4BPv2OGoUqO",
    "outputId": "4cbf391a-81b9-447d-a0af-d6b469f85e2b"
   },
   "outputs": [],
   "source": [
    "# Constants\n",
    "nb_classes = y_train.shape[1]\n",
    "vocab_size = 3000    # Maximum vocab size to have more accurate prediction \n",
    "embedding_size = 300 # Embedding size\n",
    "recurrent_size = 64 # Recurrent size\n",
    "hidden_size = recurrent_size//4    # Hidden layer\n",
    "dropout_rate = 0.2   # Dropout rate for regularization\n",
    "max_len = 100         # Sequence length to pad the outputs to -- adjust with the distribution of the reviews length\n",
    "learning_rate=0.000001 #modifying the learning rate to learn more from our data "
   ]
  },
  {
   "cell_type": "code",
   "execution_count": 10,
   "metadata": {
    "ExecuteTime": {
     "end_time": "2022-02-07T18:10:07.870187Z",
     "start_time": "2022-02-07T18:10:07.822260Z"
    },
    "colab": {
     "base_uri": "https://localhost:8080/"
    },
    "id": "C7oN2bZkoUqP",
    "outputId": "8d7d5b26-b925-4e79-ad97-7aecd8980243"
   },
   "outputs": [],
   "source": [
    "# Create the vectorized layer.\n",
    "vectorize_layer = TextVectorization(max_tokens=vocab_size,\n",
    "                                    standardize=\"lower_and_strip_punctuation\",\n",
    "                                    # it is possible to build your own function\n",
    "                                    # to transform emoji into text\n",
    "                                    # to transform foreign reviews in english one\n",
    "                                    # etc.\n",
    "                                    output_mode='int',\n",
    "                                    output_sequence_length=max_len)"
   ]
  },
  {
   "cell_type": "code",
   "execution_count": 11,
   "metadata": {
    "ExecuteTime": {
     "end_time": "2022-02-07T18:10:08.397950Z",
     "start_time": "2022-02-07T18:10:07.872995Z"
    },
    "colab": {
     "base_uri": "https://localhost:8080/"
    },
    "id": "1XWqf1QKoUqQ",
    "outputId": "3c73908b-3066-4c32-92f8-df458dc7f8cb"
   },
   "outputs": [],
   "source": [
    "# Fit vectorized layer on train\n",
    "vectorize_layer.adapt(X_train)"
   ]
  },
  {
   "cell_type": "markdown",
   "metadata": {},
   "source": [
    "<font color='red'>\n",
    "$To\\ do\\ student$\n",
    "\n",
    "1. Understand the code\n",
    "1. Play with LSTM model for sentiment analysis\n",
    "    * Replace LSTM by BI-LSTM\n",
    "    * Use stacked LSTM or BI-LSTM\n",
    "    * Use all hidden state and average it\n",
    "</font>"
   ]
  },
  {
   "cell_type": "markdown",
   "metadata": {},
   "source": [
    "<font color='green'>\n",
    "$If\\ you\\ want\\ to\\ go\\ further$\n",
    "\n",
    "If you are interested in the subject, current networks for sentiment prediction combine a part with recurrent networks (LTSM) to capture long dependencies and a part with convolution (CNN) to capture short dependencies. [This resarch paper](https://arxiv.org/pdf/1904.04206.pdf) or [this one](https://hal.archives-ouvertes.fr/hal-03052803/document) describe some accurate networks for sentiment analysis.\n",
    "\n",
    "Here, another paper that gives you some indications to go further: [Attention, CNN and what not for Text Classification](https://mlwhiz.com/blog/2019/03/09/deeplearning_architectures_text_classification/)\n",
    "\n",
    "You will see next week the CNN with Diane. So there is no need to use them today.\n",
    "</font>"
   ]
  },
  {
   "cell_type": "markdown",
   "metadata": {},
   "source": [
    "<font color='red'>\n",
    "Improve the f1 score for the Attentional LSTM model using BI-LSTM approach, better hyper-parameters and a better preprocessing (the same as in the previous step)"
   ]
  },
  {
   "cell_type": "markdown",
   "metadata": {
    "ExecuteTime": {
     "end_time": "2022-02-02T09:36:27.789409Z",
     "start_time": "2022-02-02T09:36:27.737880Z"
    },
    "id": "Odn9rE6toUqR"
   },
   "source": [
    "## Attention with LSTM network\n",
    "\n"
   ]
  },
  {
   "cell_type": "code",
   "execution_count": 28,
   "metadata": {
    "ExecuteTime": {
     "end_time": "2022-02-07T18:14:48.373250Z",
     "start_time": "2022-02-07T18:14:47.932228Z"
    }
   },
   "outputs": [],
   "source": [
    "# ------------------------------------------------------\n",
    "# MODEL BUILDING\n",
    "# ------------------------------------------------------\n",
    "def build_model():\n",
    "    # Input: a review\n",
    "    input_ = Input(shape=(1, ), name=\"input\", dtype=tf.string)\n",
    "\n",
    "    # Transform the review in a list of tokenID\n",
    "    vect = vectorize_layer(input_)\n",
    "\n",
    "    # Keras embedding\n",
    "    embedding = Embedding(vocab_size,\n",
    "                          embedding_size, \n",
    "                          weights=None,  # Without pre-learning\n",
    "                          trainable=True,# Trainable\n",
    "                          name='embedding'\n",
    "                         )(vect)\n",
    "    \n",
    "    # You can try also a Bidirectionnel cell\n",
    "    rnn = Bidirectional(LSTM(recurrent_size, return_sequences=True, \n",
    "               return_state=False,\n",
    "               dropout=dropout_rate, recurrent_dropout=dropout_rate))(embedding),#adding 2 BILSTM layers to the model\n",
    "    rnn = Bidirectional(LSTM(recurrent_size, return_sequences=True, \n",
    "               return_state=False,\n",
    "               dropout=dropout_rate, recurrent_dropout=dropout_rate))(rnn)\n",
    "    # In the case of LSTM, there are two internal states\n",
    "    #      the hidden state, usually denoted by h,\n",
    "    #      the cell state usually denoted by c\n",
    "    # The tuple (c, h) is the internal state of a LSTM\n",
    "    # return_sequences=True gives you the hidden state (h) of the LSTM for every timestep\n",
    "    # used in combination with return_state=True, you will only get the tuple (c, h) for the final timestep\n",
    "\n",
    "    # Attention layer\n",
    "    attention = Dense(1, activation='tanh')(rnn)\n",
    "    attention = Flatten()(attention)\n",
    "    attention = Activation('softmax')(attention)\n",
    "  \n",
    "\n",
    "    # Pour pouvoir faire la multiplication (scalair/vecteur KERAS)\n",
    "    attention = RepeatVector(recurrent_size)(attention) # NORMAL RNN\n",
    "    attention = Permute([2, 1])(attention)\n",
    "  \n",
    "    # Application de l'attention sur la sortie du RNN\n",
    "    sent_representation = Dot(axes=1, normalize=False)([rnn, attention])\n",
    "    \n",
    "    # Flatten pour entrer dans le Dense\n",
    "    flatten = Flatten()(sent_representation)\n",
    "    \n",
    "    # Dense pour la classification avec 1 couche cachee\n",
    "    hidden_dense = Dense(hidden_size, activation=\"relu\")(flatten)\n",
    "    hidden_dense = Dropout(dropout_rate)(hidden_dense)\n",
    "\n",
    "    # Classification et ouput\n",
    "    output_ = Dense(nb_classes, activation='softmax')(hidden_dense)\n",
    "    \n",
    "    # Build  model\n",
    "    model = Model(inputs=input_, outputs=output_)\n",
    "    \n",
    "    return model\n",
    "\n",
    "model = build_model()"
   ]
  },
  {
   "cell_type": "code",
   "execution_count": 29,
   "metadata": {
    "ExecuteTime": {
     "end_time": "2022-02-07T18:14:49.416370Z",
     "start_time": "2022-02-07T18:14:48.376003Z"
    }
   },
   "outputs": [
    {
     "name": "stdout",
     "output_type": "stream",
     "text": [
      "('You must install pydot (`pip install pydot`) and install graphviz (see instructions at https://graphviz.gitlab.io/download/) ', 'for plot_model/model_to_dot to work.')\n"
     ]
    }
   ],
   "source": [
    "# Plot model\n",
    "plot_model(model, show_shapes=True, show_layer_names=True, to_file='LSTM_with_attention.png')"
   ]
  },
  {
   "cell_type": "code",
   "execution_count": 30,
   "metadata": {
    "ExecuteTime": {
     "end_time": "2022-02-07T18:14:49.693726Z",
     "start_time": "2022-02-07T18:14:49.420968Z"
    }
   },
   "outputs": [],
   "source": [
    "# Compile the model\n",
    "f1 = F1Score(num_classes=nb_classes, average=\"macro\", threshold=0.5)\n",
    "op = Adam(learning_rate=learning_rate, beta_1=0.9, beta_2=0.999, epsilon=1e-08)\n",
    "model.compile(optimizer=op, loss='categorical_crossentropy', metrics=[f1])"
   ]
  },
  {
   "cell_type": "code",
   "execution_count": 31,
   "metadata": {
    "ExecuteTime": {
     "end_time": "2022-02-07T18:16:16.397423Z",
     "start_time": "2022-02-07T18:14:49.732405Z"
    }
   },
   "outputs": [
    {
     "name": "stdout",
     "output_type": "stream",
     "text": [
      "Epoch 1/4000\n",
      "157/157 [==============================] - 120s 672ms/step - loss: 1.5813 - f1_score: 0.0000e+00 - val_loss: 1.5679 - val_f1_score: 0.0000e+00\n",
      "Epoch 2/4000\n",
      "157/157 [==============================] - 102s 651ms/step - loss: 1.5591 - f1_score: 0.0000e+00 - val_loss: 1.5429 - val_f1_score: 0.0000e+00\n",
      "Epoch 3/4000\n",
      "157/157 [==============================] - 106s 672ms/step - loss: 1.5337 - f1_score: 0.0000e+00 - val_loss: 1.5140 - val_f1_score: 0.0000e+00\n",
      "Epoch 4/4000\n",
      "157/157 [==============================] - 103s 656ms/step - loss: 1.5075 - f1_score: 0.0000e+00 - val_loss: 1.4817 - val_f1_score: 0.0000e+00\n",
      "Epoch 5/4000\n",
      "157/157 [==============================] - 105s 671ms/step - loss: 1.4759 - f1_score: 0.0000e+00 - val_loss: 1.4451 - val_f1_score: 0.0000e+00\n",
      "Epoch 6/4000\n",
      "157/157 [==============================] - 104s 660ms/step - loss: 1.4423 - f1_score: 0.0000e+00 - val_loss: 1.4057 - val_f1_score: 0.0000e+00\n",
      "Epoch 7/4000\n",
      "157/157 [==============================] - 106s 672ms/step - loss: 1.4055 - f1_score: 0.0000e+00 - val_loss: 1.3651 - val_f1_score: 0.0000e+00\n",
      "Epoch 8/4000\n",
      "157/157 [==============================] - 104s 662ms/step - loss: 1.3746 - f1_score: 1.4853e-04 - val_loss: 1.3278 - val_f1_score: 0.0000e+00\n",
      "Epoch 9/4000\n",
      "157/157 [==============================] - 105s 671ms/step - loss: 1.3469 - f1_score: 0.0672 - val_loss: 1.2906 - val_f1_score: 0.0000e+00\n",
      "Epoch 10/4000\n",
      "157/157 [==============================] - 105s 669ms/step - loss: 1.3303 - f1_score: 0.0981 - val_loss: 1.2701 - val_f1_score: 0.1230\n",
      "Epoch 11/4000\n",
      "157/157 [==============================] - 105s 667ms/step - loss: 1.3209 - f1_score: 0.1063 - val_loss: 1.2581 - val_f1_score: 0.1310\n",
      "Epoch 12/4000\n",
      "157/157 [==============================] - 105s 670ms/step - loss: 1.3134 - f1_score: 0.1102 - val_loss: 1.2514 - val_f1_score: 0.1345\n",
      "Epoch 13/4000\n",
      "157/157 [==============================] - 103s 659ms/step - loss: 1.3138 - f1_score: 0.1145 - val_loss: 1.2479 - val_f1_score: 0.1347\n",
      "Epoch 14/4000\n",
      "157/157 [==============================] - 101s 646ms/step - loss: 1.3114 - f1_score: 0.1166 - val_loss: 1.2461 - val_f1_score: 0.1356\n",
      "Epoch 15/4000\n",
      "157/157 [==============================] - 99s 627ms/step - loss: 1.3149 - f1_score: 0.1151 - val_loss: 1.2450 - val_f1_score: 0.1361\n",
      "Epoch 16/4000\n",
      "157/157 [==============================] - 98s 622ms/step - loss: 1.3047 - f1_score: 0.1185 - val_loss: 1.2441 - val_f1_score: 0.1361\n",
      "Epoch 17/4000\n",
      "157/157 [==============================] - 103s 655ms/step - loss: 1.3095 - f1_score: 0.1185 - val_loss: 1.2435 - val_f1_score: 0.1362\n",
      "Epoch 18/4000\n",
      "157/157 [==============================] - 103s 655ms/step - loss: 1.3051 - f1_score: 0.1192 - val_loss: 1.2427 - val_f1_score: 0.1361\n",
      "Epoch 19/4000\n",
      "157/157 [==============================] - 101s 645ms/step - loss: 1.3039 - f1_score: 0.1209 - val_loss: 1.2424 - val_f1_score: 0.1363\n",
      "Epoch 20/4000\n",
      "157/157 [==============================] - 104s 661ms/step - loss: 1.3054 - f1_score: 0.1176 - val_loss: 1.2423 - val_f1_score: 0.1361\n",
      "Epoch 21/4000\n",
      "157/157 [==============================] - 105s 671ms/step - loss: 1.3029 - f1_score: 0.1164 - val_loss: 1.2419 - val_f1_score: 0.1364\n",
      "Epoch 22/4000\n",
      "157/157 [==============================] - 103s 657ms/step - loss: 1.3092 - f1_score: 0.1157 - val_loss: 1.2420 - val_f1_score: 0.1364\n",
      "Epoch 23/4000\n",
      "157/157 [==============================] - 105s 672ms/step - loss: 1.3069 - f1_score: 0.1166 - val_loss: 1.2416 - val_f1_score: 0.1363\n",
      "Epoch 24/4000\n",
      "157/157 [==============================] - 100s 637ms/step - loss: 1.3072 - f1_score: 0.1155 - val_loss: 1.2414 - val_f1_score: 0.1363\n",
      "Epoch 25/4000\n",
      "157/157 [==============================] - 67s 428ms/step - loss: 1.2972 - f1_score: 0.1194 - val_loss: 1.2407 - val_f1_score: 0.1361\n",
      "Epoch 26/4000\n",
      "157/157 [==============================] - 67s 429ms/step - loss: 1.3089 - f1_score: 0.1156 - val_loss: 1.2407 - val_f1_score: 0.1363\n",
      "Epoch 27/4000\n",
      "157/157 [==============================] - 67s 429ms/step - loss: 1.3032 - f1_score: 0.1165 - val_loss: 1.2406 - val_f1_score: 0.1365\n",
      "Epoch 28/4000\n",
      "157/157 [==============================] - 73s 464ms/step - loss: 1.3049 - f1_score: 0.1144 - val_loss: 1.2402 - val_f1_score: 0.1364\n",
      "Epoch 29/4000\n",
      "157/157 [==============================] - 68s 433ms/step - loss: 1.3002 - f1_score: 0.1175 - val_loss: 1.2397 - val_f1_score: 0.1361\n",
      "Epoch 30/4000\n",
      "157/157 [==============================] - 69s 442ms/step - loss: 1.2970 - f1_score: 0.1180 - val_loss: 1.2392 - val_f1_score: 0.1356\n",
      "Epoch 31/4000\n",
      "157/157 [==============================] - 70s 445ms/step - loss: 1.3069 - f1_score: 0.1153 - val_loss: 1.2392 - val_f1_score: 0.1359\n",
      "Epoch 32/4000\n",
      "157/157 [==============================] - 83s 531ms/step - loss: 1.3053 - f1_score: 0.1146 - val_loss: 1.2394 - val_f1_score: 0.1365\n",
      "Epoch 33/4000\n",
      "157/157 [==============================] - 79s 500ms/step - loss: 1.3001 - f1_score: 0.1164 - val_loss: 1.2391 - val_f1_score: 0.1364\n",
      "Epoch 34/4000\n",
      "157/157 [==============================] - 80s 513ms/step - loss: 1.2990 - f1_score: 0.1150 - val_loss: 1.2386 - val_f1_score: 0.1359\n",
      "Epoch 35/4000\n",
      "157/157 [==============================] - 79s 507ms/step - loss: 1.3042 - f1_score: 0.1151 - val_loss: 1.2387 - val_f1_score: 0.1363\n",
      "Epoch 36/4000\n",
      "157/157 [==============================] - 80s 509ms/step - loss: 1.3019 - f1_score: 0.1156 - val_loss: 1.2389 - val_f1_score: 0.1363\n",
      "Epoch 37/4000\n",
      "157/157 [==============================] - 76s 481ms/step - loss: 1.3043 - f1_score: 0.1147 - val_loss: 1.2388 - val_f1_score: 0.1364\n",
      "Restoring model weights from the end of the best epoch.\n",
      "Epoch 00037: early stopping\n"
     ]
    }
   ],
   "source": [
    "# fit model using ealy stopping\n",
    "es = EarlyStopping(monitor='val_f1_score', mode='max', patience=10, restore_best_weights=True, verbose=2)\n",
    "history = model.fit(X_train, y_train,\n",
    "                    validation_data=(X_val, y_val), \n",
    "                    epochs=4000, callbacks=[es], verbose=1)"
   ]
  },
  {
   "cell_type": "code",
   "execution_count": 32,
   "metadata": {
    "ExecuteTime": {
     "end_time": "2022-02-07T18:16:17.606240Z",
     "start_time": "2022-02-07T18:16:16.417923Z"
    }
   },
   "outputs": [
    {
     "data": {
      "image/png": "[encoded data removed]",
      "text/plain": [
       "<Figure size 1296x432 with 2 Axes>"
      ]
     },
     "metadata": {
      "needs_background": "light"
     },
     "output_type": "display_data"
    }
   ],
   "source": [
    "# plot history\n",
    "babysit(history)"
   ]
  },
  {
   "cell_type": "markdown",
   "metadata": {},
   "source": [
    "## Conclusion: \n",
    "<font color=\" green\">\n",
    "The model loss has been descreasing smoothly after adding BiLSTM instead of LSTM layer. <br>\n",
    "    The results displayed with 2 BiLSTM layers. These findings can be improved more better by modifying \n",
    "    learning rate, max_len, vocab_size. As a results, the runing time of this model is slow and it requires more \n",
    "    memory space (so costly) \n"
   ]
  },
  {
   "cell_type": "code",
   "execution_count": 33,
   "metadata": {
    "ExecuteTime": {
     "end_time": "2022-02-07T18:16:18.618929Z",
     "start_time": "2022-02-07T18:16:17.739715Z"
    }
   },
   "outputs": [
    {
     "name": "stdout",
     "output_type": "stream",
     "text": [
      "F1: 0.138487\n"
     ]
    }
   ],
   "source": [
    "# Evaluate the model\n",
    "f1.update_state(y_test, model.predict(X_test))\n",
    "print('F1: %f' % (f1.result().numpy()))"
   ]
  },
  {
   "cell_type": "markdown",
   "metadata": {
    "ExecuteTime": {
     "end_time": "2022-02-07T15:12:32.722152Z",
     "start_time": "2022-02-07T15:12:32.722119Z"
    }
   },
   "source": [
    "## Use Attentionnal model"
   ]
  },
  {
   "cell_type": "code",
   "execution_count": 34,
   "metadata": {
    "ExecuteTime": {
     "end_time": "2022-02-07T18:16:18.695327Z",
     "start_time": "2022-02-07T18:16:18.638488Z"
    }
   },
   "outputs": [],
   "source": [
    "# ------------------------------------------------------\n",
    "# GET ATTENTION MODEL\n",
    "# ------------------------------------------------------\n",
    "def get_attention_model(model):\n",
    "    attention_layer_indice = 0\n",
    "    for layer in model.layers:\n",
    "        print(type(layer))\n",
    "        if type(layer) is Activation:\n",
    "            break\n",
    "        else:\n",
    "            attention_layer_indice += 1\n",
    "\n",
    "    # Create an attention model\n",
    "    return Model(inputs=model.layers[0].input, outputs=model.layers[attention_layer_indice].output)"
   ]
  },
  {
   "cell_type": "code",
   "execution_count": 35,
   "metadata": {
    "ExecuteTime": {
     "end_time": "2022-02-07T18:16:19.640503Z",
     "start_time": "2022-02-07T18:16:18.699293Z"
    }
   },
   "outputs": [
    {
     "name": "stdout",
     "output_type": "stream",
     "text": [
      "<class 'keras.engine.input_layer.InputLayer'>\n",
      "<class 'keras.layers.preprocessing.text_vectorization.TextVectorization'>\n",
      "<class 'keras.layers.embeddings.Embedding'>\n",
      "<class 'keras.layers.wrappers.Bidirectional'>\n",
      "<class 'keras.layers.wrappers.Bidirectional'>\n",
      "<class 'keras.layers.core.Dense'>\n",
      "<class 'keras.layers.core.Flatten'>\n",
      "<class 'keras.layers.core.Activation'>\n",
      "('You must install pydot (`pip install pydot`) and install graphviz (see instructions at https://graphviz.gitlab.io/download/) ', 'for plot_model/model_to_dot to work.')\n"
     ]
    }
   ],
   "source": [
    "# PLOT ATTENTION MODEL from classifier model with ATTENTION\n",
    "attention_model = get_attention_model(model)\n",
    "plot_model(attention_model, show_shapes=True, show_layer_names=True, to_file='model_get_attention.png')"
   ]
  },
  {
   "cell_type": "code",
   "execution_count": 36,
   "metadata": {
    "ExecuteTime": {
     "end_time": "2022-02-07T18:16:20.333388Z",
     "start_time": "2022-02-07T18:16:19.650672Z"
    }
   },
   "outputs": [
    {
     "data": {
      "text/plain": [
       "array([[0.01121821, 0.01124247, 0.01123727, 0.01118135, 0.01111372,\n",
       "        0.01103709, 0.01095429, 0.01086806, 0.0107808 , 0.01069454,\n",
       "        0.01061088, 0.01053102, 0.01045582, 0.0103858 , 0.01032124,\n",
       "        0.01026223, 0.01020869, 0.01016042, 0.01011717, 0.0100786 ,\n",
       "        0.01004438, 0.01001413, 0.0099875 , 0.00996413, 0.00994368,\n",
       "        0.00992584, 0.00991032, 0.00989685, 0.00988517, 0.00987508,\n",
       "        0.00986637, 0.00985886, 0.00985241, 0.00984686, 0.00984209,\n",
       "        0.00983801, 0.00983451, 0.00983151, 0.00982895, 0.00982675,\n",
       "        0.00982487, 0.00982326, 0.00982187, 0.00982068, 0.00981965,\n",
       "        0.00981876, 0.00981798, 0.00981729, 0.00981668, 0.00981612,\n",
       "        0.00981561, 0.00981514, 0.00981469, 0.00981425, 0.00981381,\n",
       "        0.00981337, 0.00981292, 0.00981245, 0.00981195, 0.00981142,\n",
       "        0.00981085, 0.00981023, 0.00980957, 0.00980885, 0.00980808,\n",
       "        0.00980726, 0.00980638, 0.00980544, 0.00980446, 0.00980343,\n",
       "        0.00980237, 0.0098013 , 0.00980022, 0.00979916, 0.00979814,\n",
       "        0.00979721, 0.00979639, 0.00979574, 0.00979529, 0.00979511,\n",
       "        0.00979526, 0.0097958 , 0.00979678, 0.00979827, 0.00980032,\n",
       "        0.00980295, 0.00980616, 0.00980991, 0.00981409, 0.00981853,\n",
       "        0.00982294, 0.00982696, 0.00983007, 0.00983171, 0.00983131,\n",
       "        0.00982846, 0.00982325, 0.00981684, 0.00981241, 0.00981674]],\n",
       "      dtype=float32)"
      ]
     },
     "execution_count": 36,
     "metadata": {},
     "output_type": "execute_result"
    }
   ],
   "source": [
    "# ------------------------------------------------------\n",
    "# GET ATTENTION\n",
    "# ------------------------------------------------------\n",
    "attentions = attention_model.predict(X_val[0])\n",
    "attentions"
   ]
  },
  {
   "cell_type": "code",
   "execution_count": 37,
   "metadata": {
    "ExecuteTime": {
     "end_time": "2022-02-07T18:16:21.605912Z",
     "start_time": "2022-02-07T18:16:20.352537Z"
    }
   },
   "outputs": [
    {
     "name": "stderr",
     "output_type": "stream",
     "text": [
      "<ipython-input-37-d7fd4389ae39>:17: DeprecationWarning: np.asscalar(a) is deprecated since NumPy v1.16, use a.item() instead\n",
      "  result_entry[\"original\"] = np.asscalar(X_)\n"
     ]
    },
    {
     "data": {
      "text/plain": [
       "{'prediction': (0, 4),\n",
       " 'original': 'Pretty good',\n",
       " 'sentence': [{'pretty': 0.8533533811569214}, {'good': 0.8633633852005005}]}"
      ]
     },
     "execution_count": 37,
     "metadata": {},
     "output_type": "execute_result"
    }
   ],
   "source": [
    "# ------------------------------------------------------\n",
    "# GET ATTENTION for each WORD\n",
    "# ------------------------------------------------------\n",
    "from sklearn import preprocessing\n",
    "\n",
    "def get_attention(X, y, prediction, attention, N=5):\n",
    "    # normalize attention (without the padding part)\n",
    "    normalized_attention = preprocessing.QuantileTransformer().fit_transform(attention)\n",
    "  \n",
    "    results = []\n",
    "    for i, (X_, y_, p_, a_) in enumerate(zip(X, y, prediction, normalized_attention)):\n",
    "        if i>N:\n",
    "            break\n",
    "        # build result\n",
    "        result_entry = {}\n",
    "        result_entry[\"prediction\"] = (np.argmax(y_), np.argmax(p_))\n",
    "        result_entry[\"original\"] = np.asscalar(X_)\n",
    "        result_entry[\"sentence\"] = []\n",
    "        for j, word in enumerate(vectorize_layer(X_).numpy().flatten().tolist()):\n",
    "            word_obj = {}\n",
    "            if word==0:\n",
    "                break\n",
    "            word_obj[vectorize_layer.get_vocabulary()[word]] = a_[j].item()\n",
    "            result_entry[\"sentence\"].append(word_obj)\n",
    "            \n",
    "        results += [result_entry]\n",
    "    return results\n",
    "\n",
    "sentences_with_attention = get_attention(X_val, y_val,\n",
    "                                         model.predict(X_val),\n",
    "                                         attention_model.predict(X_val),\n",
    "                                         10)   \n",
    "sentences_with_attention[0]"
   ]
  },
  {
   "cell_type": "code",
   "execution_count": 38,
   "metadata": {
    "ExecuteTime": {
     "end_time": "2022-02-07T18:16:21.804500Z",
     "start_time": "2022-02-07T18:16:21.631611Z"
    }
   },
   "outputs": [
    {
     "name": "stdout",
     "output_type": "stream",
     "text": [
      "\u001b[1m\u001b[32mIn green, the most important word\n",
      "\n",
      "\u001b[0m\n",
      "Pretty good\n",
      "\u001b[1m\u001b[32mpretty\u001b[0m \u001b[1m\u001b[32mgood\u001b[0m \n",
      "\n",
      "Excellent,very good Very fast\n",
      "\u001b[30m[UNK]\u001b[0m \u001b[30mgood\u001b[0m \u001b[30mvery\u001b[0m \u001b[30mfast\u001b[0m \n",
      "\n",
      "This was a replacement. We had a POS Samsung from Cincinnati Bell. That phone was the worst thing we ever owned! This HTC seems to be built to last. It is small. Dont plan on rocking a lot of video. However, it is an Andriod and I think my wife likes it. It feels sturdy too. We bought it unlocked. All we had to do was insert the SIM card. It took about 2min to get it all set up. Very nice! I would give it 4-stars but the internal memory will eventually be an issue.\n",
      "\u001b[1m\u001b[31mthis\u001b[0m \u001b[1m\u001b[31mwas\u001b[0m \u001b[1m\u001b[31ma\u001b[0m \u001b[1m\u001b[31mreplacement\u001b[0m \u001b[1m\u001b[31mwe\u001b[0m \u001b[1m\u001b[31mhad\u001b[0m \u001b[1m\u001b[31ma\u001b[0m \u001b[1m\u001b[31m[UNK]\u001b[0m \u001b[1m\u001b[31msamsung\u001b[0m \u001b[1m\u001b[31mfrom\u001b[0m \u001b[1m\u001b[31m[UNK]\u001b[0m \u001b[1m\u001b[31m[UNK]\u001b[0m \u001b[1m\u001b[31mthat\u001b[0m \u001b[1m\u001b[31mphone\u001b[0m \u001b[1m\u001b[31mwas\u001b[0m \u001b[1m\u001b[31mthe\u001b[0m \u001b[1m\u001b[31mworst\u001b[0m \u001b[1m\u001b[31mthing\u001b[0m \u001b[1m\u001b[31mwe\u001b[0m \u001b[1m\u001b[31mever\u001b[0m \u001b[1m\u001b[31mowned\u001b[0m \u001b[1m\u001b[31mthis\u001b[0m \u001b[1m\u001b[31mhtc\u001b[0m \u001b[1m\u001b[31mseems\u001b[0m \u001b[1m\u001b[31mto\u001b[0m \u001b[30mbe\u001b[0m \u001b[30mbuilt\u001b[0m \u001b[30mto\u001b[0m \u001b[30mlast\u001b[0m \u001b[30mit\u001b[0m \u001b[30mis\u001b[0m \u001b[30msmall\u001b[0m \u001b[30mdont\u001b[0m \u001b[30mplan\u001b[0m \u001b[30mon\u001b[0m \u001b[30m[UNK]\u001b[0m \u001b[30ma\u001b[0m \u001b[30mlot\u001b[0m \u001b[30mof\u001b[0m \u001b[30mvideo\u001b[0m \u001b[30mhowever\u001b[0m \u001b[30mit\u001b[0m \u001b[30mis\u001b[0m \u001b[30man\u001b[0m \u001b[1m\u001b[32m[UNK]\u001b[0m \u001b[1m\u001b[32mand\u001b[0m \u001b[1m\u001b[32mi\u001b[0m \u001b[1m\u001b[32mthink\u001b[0m \u001b[1m\u001b[32mmy\u001b[0m \u001b[1m\u001b[32mwife\u001b[0m \u001b[1m\u001b[32mlikes\u001b[0m \u001b[1m\u001b[32mit\u001b[0m \u001b[1m\u001b[32mit\u001b[0m \u001b[1m\u001b[32mfeels\u001b[0m \u001b[1m\u001b[32msturdy\u001b[0m \u001b[1m\u001b[32mtoo\u001b[0m \u001b[1m\u001b[32mwe\u001b[0m \u001b[1m\u001b[32mbought\u001b[0m \u001b[1m\u001b[32mit\u001b[0m \u001b[1m\u001b[32munlocked\u001b[0m \u001b[1m\u001b[32mall\u001b[0m \u001b[1m\u001b[32mwe\u001b[0m \u001b[1m\u001b[32mhad\u001b[0m \u001b[1m\u001b[32mto\u001b[0m \u001b[1m\u001b[32mdo\u001b[0m \u001b[1m\u001b[32mwas\u001b[0m \u001b[1m\u001b[32minsert\u001b[0m \u001b[1m\u001b[32mthe\u001b[0m \u001b[1m\u001b[32msim\u001b[0m \u001b[1m\u001b[32mcard\u001b[0m \u001b[1m\u001b[32mit\u001b[0m \u001b[1m\u001b[32mtook\u001b[0m \u001b[1m\u001b[32mabout\u001b[0m \u001b[1m\u001b[32m[UNK]\u001b[0m \u001b[1m\u001b[32mto\u001b[0m \u001b[1m\u001b[32mget\u001b[0m \u001b[1m\u001b[32mit\u001b[0m \u001b[1m\u001b[32mall\u001b[0m \u001b[1m\u001b[32mset\u001b[0m \u001b[1m\u001b[32mup\u001b[0m \u001b[1m\u001b[32mvery\u001b[0m \u001b[1m\u001b[32mnice\u001b[0m \u001b[1m\u001b[32mi\u001b[0m \u001b[1m\u001b[32mwould\u001b[0m \u001b[1m\u001b[32mgive\u001b[0m \u001b[1m\u001b[32mit\u001b[0m \u001b[1m\u001b[32m[UNK]\u001b[0m \u001b[1m\u001b[32mbut\u001b[0m \u001b[1m\u001b[32mthe\u001b[0m \u001b[1m\u001b[32minternal\u001b[0m \u001b[1m\u001b[32mmemory\u001b[0m \u001b[1m\u001b[32mwill\u001b[0m \u001b[1m\u001b[32meventually\u001b[0m \u001b[1m\u001b[32mbe\u001b[0m \u001b[1m\u001b[32man\u001b[0m \u001b[1m\u001b[32missue\u001b[0m \n",
      "\n",
      "Was used ! Had to return it\n",
      "\u001b[30mwas\u001b[0m \u001b[30mused\u001b[0m \u001b[30mhad\u001b[0m \u001b[30mto\u001b[0m \u001b[1m\u001b[32mreturn\u001b[0m \u001b[1m\u001b[32mit\u001b[0m \n",
      "\n",
      "Just loved the item, and it was just as the pictured stated, therefore i'm happy with my purchase, but i feel it being a Nokia it should of been able to do a bit more.\n",
      "\u001b[30mjust\u001b[0m \u001b[30mloved\u001b[0m \u001b[30mthe\u001b[0m \u001b[30mitem\u001b[0m \u001b[30mand\u001b[0m \u001b[30mit\u001b[0m \u001b[30mwas\u001b[0m \u001b[30mjust\u001b[0m \u001b[30mas\u001b[0m \u001b[30mthe\u001b[0m \u001b[30mpictured\u001b[0m \u001b[30mstated\u001b[0m \u001b[30mtherefore\u001b[0m \u001b[1m\u001b[32mim\u001b[0m \u001b[30mhappy\u001b[0m \u001b[30mwith\u001b[0m \u001b[1m\u001b[32mmy\u001b[0m \u001b[1m\u001b[32mpurchase\u001b[0m \u001b[1m\u001b[32mbut\u001b[0m \u001b[1m\u001b[32mi\u001b[0m \u001b[1m\u001b[32mfeel\u001b[0m \u001b[1m\u001b[32mit\u001b[0m \u001b[1m\u001b[32mbeing\u001b[0m \u001b[1m\u001b[32ma\u001b[0m \u001b[1m\u001b[32mnokia\u001b[0m \u001b[1m\u001b[32mit\u001b[0m \u001b[1m\u001b[32mshould\u001b[0m \u001b[1m\u001b[32mof\u001b[0m \u001b[1m\u001b[32mbeen\u001b[0m \u001b[1m\u001b[32mable\u001b[0m \u001b[1m\u001b[32mto\u001b[0m \u001b[1m\u001b[32mdo\u001b[0m \u001b[1m\u001b[32ma\u001b[0m \u001b[1m\u001b[32mbit\u001b[0m \u001b[1m\u001b[32mmore\u001b[0m \n",
      "\n",
      "total confianza y satisfacción el un producto de excelente calidad el tiempo de entrega fue muy breve y estoy muy contento\n",
      "\u001b[30mtotal\u001b[0m \u001b[30m[UNK]\u001b[0m \u001b[30my\u001b[0m \u001b[30m[UNK]\u001b[0m \u001b[30mel\u001b[0m \u001b[30mun\u001b[0m \u001b[30mproducto\u001b[0m \u001b[30mde\u001b[0m \u001b[30mexcelente\u001b[0m \u001b[30m[UNK]\u001b[0m \u001b[30mel\u001b[0m \u001b[1m\u001b[32mtiempo\u001b[0m \u001b[1m\u001b[32mde\u001b[0m \u001b[1m\u001b[32m[UNK]\u001b[0m \u001b[1m\u001b[32m[UNK]\u001b[0m \u001b[1m\u001b[32mmuy\u001b[0m \u001b[1m\u001b[32m[UNK]\u001b[0m \u001b[1m\u001b[32my\u001b[0m \u001b[1m\u001b[32mestoy\u001b[0m \u001b[1m\u001b[32mmuy\u001b[0m \u001b[1m\u001b[32m[UNK]\u001b[0m \n",
      "\n",
      "Liberado ? Unlocked??\n",
      "\u001b[1m\u001b[32m[UNK]\u001b[0m \u001b[1m\u001b[32munlocked\u001b[0m \n",
      "\n",
      "At first there were two problems with the product iPhone 4s unlocked I purchased . The WiFi tab was greyed out dim and I can't connect to Internet even I have a sim card with high speed internet and Wi Fi at home. There is no cellular data network tab on the phone to edit the APN. I called Wireless 2 go They told me they had never had this issue before and they were ready to refund me and sent me a label to return the product. After consideration I decided not to return the product. I reset and erased all the the content and network and started activating the iPhone again. It was a hard time! Finally the Wi Fi tab works and the Internet is connected. However when I browsed Google the Wi Fi stopped working and the screen displayed \"could not activate cellular dater network\" . I had to redo everything again. Totally 3 times. Now it is connected to Wi Fi and Internet but I don't know how long this status can maintain. I even dare not to browse Google website on this iphone. I think the shadow of the former carrier is still there even the phone is unlocked. Is there a way to find out the cellular data network tab and APN to solve this problem?Anyway I have to say that this iPhone 4s has a good look and almost no scratches.\n",
      "\u001b[1m\u001b[31mat\u001b[0m \u001b[1m\u001b[31mfirst\u001b[0m \u001b[1m\u001b[31mthere\u001b[0m \u001b[1m\u001b[31mwere\u001b[0m \u001b[1m\u001b[31mtwo\u001b[0m \u001b[1m\u001b[31mproblems\u001b[0m \u001b[1m\u001b[31mwith\u001b[0m \u001b[1m\u001b[31mthe\u001b[0m \u001b[1m\u001b[31mproduct\u001b[0m \u001b[1m\u001b[31miphone\u001b[0m \u001b[1m\u001b[31m4s\u001b[0m \u001b[1m\u001b[31munlocked\u001b[0m \u001b[1m\u001b[31mi\u001b[0m \u001b[1m\u001b[31mpurchased\u001b[0m \u001b[1m\u001b[31mthe\u001b[0m \u001b[1m\u001b[31mwifi\u001b[0m \u001b[1m\u001b[31mtab\u001b[0m \u001b[1m\u001b[31mwas\u001b[0m \u001b[1m\u001b[31m[UNK]\u001b[0m \u001b[1m\u001b[31mout\u001b[0m \u001b[1m\u001b[31mdim\u001b[0m \u001b[1m\u001b[31mand\u001b[0m \u001b[1m\u001b[31mi\u001b[0m \u001b[1m\u001b[31mcant\u001b[0m \u001b[1m\u001b[31mconnect\u001b[0m \u001b[1m\u001b[31mto\u001b[0m \u001b[30minternet\u001b[0m \u001b[30meven\u001b[0m \u001b[30mi\u001b[0m \u001b[30mhave\u001b[0m \u001b[1m\u001b[31ma\u001b[0m \u001b[30msim\u001b[0m \u001b[30mcard\u001b[0m \u001b[30mwith\u001b[0m \u001b[30mhigh\u001b[0m \u001b[30mspeed\u001b[0m \u001b[30minternet\u001b[0m \u001b[30mand\u001b[0m \u001b[30m[UNK]\u001b[0m \u001b[30mfi\u001b[0m \u001b[1m\u001b[32mat\u001b[0m \u001b[1m\u001b[32mhome\u001b[0m \u001b[1m\u001b[32mthere\u001b[0m \u001b[1m\u001b[32mis\u001b[0m \u001b[1m\u001b[32mno\u001b[0m \u001b[1m\u001b[32mcellular\u001b[0m \u001b[1m\u001b[32mdata\u001b[0m \u001b[1m\u001b[32mnetwork\u001b[0m \u001b[1m\u001b[32mtab\u001b[0m \u001b[1m\u001b[32mon\u001b[0m \u001b[1m\u001b[32mthe\u001b[0m \u001b[1m\u001b[32mphone\u001b[0m \u001b[1m\u001b[32mto\u001b[0m \u001b[1m\u001b[32m[UNK]\u001b[0m \u001b[1m\u001b[32mthe\u001b[0m \u001b[1m\u001b[32mapn\u001b[0m \u001b[1m\u001b[32mi\u001b[0m \u001b[1m\u001b[32mcalled\u001b[0m \u001b[1m\u001b[32mwireless\u001b[0m \u001b[1m\u001b[32m2\u001b[0m \u001b[1m\u001b[32mgo\u001b[0m \u001b[1m\u001b[32mthey\u001b[0m \u001b[1m\u001b[32mtold\u001b[0m \u001b[1m\u001b[32mme\u001b[0m \u001b[1m\u001b[32mthey\u001b[0m \u001b[1m\u001b[32mhad\u001b[0m \u001b[1m\u001b[32mnever\u001b[0m \u001b[1m\u001b[32mhad\u001b[0m \u001b[1m\u001b[32mthis\u001b[0m \u001b[1m\u001b[32missue\u001b[0m \u001b[1m\u001b[32mbefore\u001b[0m \u001b[1m\u001b[32mand\u001b[0m \u001b[1m\u001b[32mthey\u001b[0m \u001b[1m\u001b[32mwere\u001b[0m \u001b[1m\u001b[32mready\u001b[0m \u001b[1m\u001b[32mto\u001b[0m \u001b[1m\u001b[32mrefund\u001b[0m \u001b[1m\u001b[32mme\u001b[0m \u001b[1m\u001b[32mand\u001b[0m \u001b[1m\u001b[32msent\u001b[0m \u001b[1m\u001b[32mme\u001b[0m \u001b[1m\u001b[32ma\u001b[0m \u001b[1m\u001b[32mlabel\u001b[0m \u001b[1m\u001b[32mto\u001b[0m \u001b[1m\u001b[32mreturn\u001b[0m \u001b[1m\u001b[32mthe\u001b[0m \u001b[1m\u001b[32mproduct\u001b[0m \u001b[1m\u001b[32mafter\u001b[0m \u001b[1m\u001b[32m[UNK]\u001b[0m \u001b[1m\u001b[32mi\u001b[0m \u001b[1m\u001b[32mdecided\u001b[0m \u001b[1m\u001b[32mnot\u001b[0m \u001b[1m\u001b[32mto\u001b[0m \u001b[1m\u001b[32mreturn\u001b[0m \u001b[1m\u001b[32mthe\u001b[0m \u001b[1m\u001b[32mproduct\u001b[0m \u001b[1m\u001b[32mi\u001b[0m \u001b[1m\u001b[32mreset\u001b[0m \u001b[1m\u001b[32mand\u001b[0m \u001b[1m\u001b[32m[UNK]\u001b[0m \n",
      "\n",
      "Its ok\n",
      "\u001b[1m\u001b[32mits\u001b[0m \u001b[1m\u001b[32mok\u001b[0m \n",
      "\n",
      "nice little phone .had to send it back when it stopped receiving calls.\n",
      "\u001b[30mnice\u001b[0m \u001b[30mlittle\u001b[0m \u001b[30mphone\u001b[0m \u001b[30mhad\u001b[0m \u001b[30mto\u001b[0m \u001b[30msend\u001b[0m \u001b[1m\u001b[32mit\u001b[0m \u001b[1m\u001b[32mback\u001b[0m \u001b[1m\u001b[32mwhen\u001b[0m \u001b[1m\u001b[32mit\u001b[0m \u001b[1m\u001b[32mstopped\u001b[0m \u001b[1m\u001b[32mreceiving\u001b[0m \u001b[1m\u001b[32mcalls\u001b[0m \n",
      "\n",
      "Very much like my mothers original phone. Just newer! Ease to use was the needed aspect.\n",
      "\u001b[30mvery\u001b[0m \u001b[30mmuch\u001b[0m \u001b[30mlike\u001b[0m \u001b[30mmy\u001b[0m \u001b[30m[UNK]\u001b[0m \u001b[30moriginal\u001b[0m \u001b[30mphone\u001b[0m \u001b[1m\u001b[32mjust\u001b[0m \u001b[1m\u001b[32mnewer\u001b[0m \u001b[1m\u001b[32mease\u001b[0m \u001b[1m\u001b[32mto\u001b[0m \u001b[1m\u001b[32muse\u001b[0m \u001b[1m\u001b[32mwas\u001b[0m \u001b[1m\u001b[32mthe\u001b[0m \u001b[1m\u001b[32mneeded\u001b[0m \u001b[1m\u001b[32maspect\u001b[0m \n",
      "\n"
     ]
    }
   ],
   "source": [
    "# convert prediction with attention to colored text\n",
    "from termcolor import colored\n",
    "\n",
    "def print_text(sentences_with_attention):\n",
    "    threshold=0.75\n",
    "    classes=[]\n",
    "    print(colored(\"In green, the most important word\\n\\n\", 'green', attrs=['bold']))\n",
    "\n",
    "    for i, sentence in enumerate(sentences_with_attention):\n",
    "        # Retrieve the class of this sentence\n",
    "        #print(sentence)\n",
    "        original_class, predicted_class = sentence['prediction']\n",
    "        #print(original_class, predicted_class)\n",
    "    \n",
    "        # Retrieve all the words and weights of this sentence\n",
    "        words, weights = [], []\n",
    "        #print(\"--\", sentence['sentence'])\n",
    "        for item in sentence['sentence']:\n",
    "            for word, weight in item.items():\n",
    "                words.append(word)\n",
    "                weights.append(float(weight))\n",
    "            \n",
    "        size=0\n",
    "        print(sentence['original'])\n",
    "        for j, word in enumerate(words):\n",
    "            if size!=0 and j!=0 and word!=',' and word!=\".\":\n",
    "                print(' ', end=\"\")\n",
    "            if weights[j]>threshold:\n",
    "                print(colored(word, 'green', attrs=['bold']), end=\" \")\n",
    "            elif weights[j] < (1-threshold):\n",
    "                print(colored(word, 'red', attrs=['bold']), end=\" \")\n",
    "            else:\n",
    "                print(colored(word, 'grey'), end=\" \")\n",
    "            size += len(word)+1\n",
    "            if size>80:\n",
    "                print()\n",
    "            size=0\n",
    "      \n",
    "        print(\"\\n\")\n",
    "    \n",
    "print_text(sentences_with_attention)"
   ]
  },
  {
   "cell_type": "markdown",
   "metadata": {},
   "source": [
    "## Conclusion : \n",
    "the best model LSTM attentional is the model  compiled with 2 BILSTM layers. <br>\n",
    "the results display smoothness of the (loss, val_loss) and (f1score, val_f1_score)"
   ]
  },
  {
   "cell_type": "markdown",
   "metadata": {},
   "source": [
    "<font color='red'>\n",
    "\n"
   ]
  },
  {
   "cell_type": "code",
   "execution_count": null,
   "metadata": {},
   "outputs": [],
   "source": []
  }
 ],
 "metadata": {
  "colab": {
   "collapsed_sections": [],
   "name": "notebook-NLP-sentiment-analysis-with-MLP-Keras embedding.ipynb",
   "provenance": []
  },
  "kernelspec": {
   "display_name": "Python 3",
   "language": "python",
   "name": "python3"
  },
  "language_info": {
   "codemirror_mode": {
    "name": "ipython",
    "version": 3
   },
   "file_extension": ".py",
   "mimetype": "text/x-python",
   "name": "python",
   "nbconvert_exporter": "python",
   "pygments_lexer": "ipython3",
   "version": "3.8.5"
  },
  "latex_envs": {
   "LaTeX_envs_menu_present": true,
   "autoclose": true,
   "autocomplete": true,
   "bibliofile": "biblio.bib",
   "cite_by": "apalike",
   "current_citInitial": 1,
   "eqLabelWithNumbers": true,
   "eqNumInitial": 1,
   "hotkeys": {
    "equation": "Ctrl-E",
    "itemize": "Ctrl-I"
   },
   "labels_anchors": false,
   "latex_user_defs": false,
   "report_style_numbering": false,
   "user_envs_cfg": false
  },
  "nbTranslate": {
   "displayLangs": [
    "*"
   ],
   "hotkey": "alt-t",
   "langInMainMenu": true,
   "sourceLang": "en",
   "targetLang": "fr",
   "useGoogleTranslate": true
  },
  "toc": {
   "base_numbering": 1,
   "nav_menu": {},
   "number_sections": true,
   "sideBar": true,
   "skip_h1_title": true,
   "title_cell": "Table of Contents",
   "title_sidebar": "Contents",
   "toc_cell": true,
   "toc_position": {},
   "toc_section_display": true,
   "toc_window_display": false
  }
 },
 "nbformat": 4,
 "nbformat_minor": 1
}
