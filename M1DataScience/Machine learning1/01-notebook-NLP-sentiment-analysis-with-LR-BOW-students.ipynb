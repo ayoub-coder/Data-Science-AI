{
 "cells": [
  {
   "cell_type": "markdown",
   "metadata": {
    "id": "BCNRejgk2CqQ"
   },
   "source": [
    "# Case Study: Sentiment Analysis\n",
    "\n",
    "Text classification is a machine learning technique that assigns a set of predefined categories to open-ended text. Text classifiers can be used to organize, structure, and categorize pretty much any kind of text – from documents, medical studies and files, and all over the web.\n",
    "\n",
    "For example, new articles can be organized by topics; support tickets can be organized by urgency; chat conversations can be organized by language; brand mentions can be organized by sentiment; and so on.\n",
    "\n",
    "Text classification is one of the fundamental tasks in natural language processing with broad applications such as **sentiment analysis**, topic labeling, spam detection, and intent detection.\n",
    "\n",
    "**Why is Text Classification Important?**\n",
    "\n",
    "It’s estimated that around 80% of all information is unstructured, with text being one of the most common types of unstructured data. Because of the messy nature of text, analyzing, understanding, organizing, and sorting through text data is hard and time-consuming, so most companies fail to use it to its full potential.\n",
    "\n",
    "This is where text classification with machine learning comes in. Using text classifiers, companies can automatically structure all manner of relevant text, from emails, legal documents, social media, chatbots, surveys, and more in a fast and cost-effective way. This allows companies to save time analyzing text data, automate business processes, and make data-driven business decisions.\n",
    "\n",
    "**How Does Text Classification Work?**\n",
    "\n",
    "Instead of relying on manually crafted rules, machine learning text classification learns to make classifications based on past observations. By using pre-labeled examples as training data, machine learning algorithms can learn the different associations between pieces of text, and that a particular output (i.e., tags) is expected for a particular input (i.e., text). A “tag” is the pre-determined classification or category that any given text could fall into.\n",
    "\n",
    "The first step towards training a machine learning NLP classifier is feature extraction: a method is used to transform each text into a numerical representation in the form of a vector. One of the most frequently used approaches is bag of words, where a vector represents the frequency of a word in a predefined dictionary of words.\n",
    "\n",
    "Then, the machine learning algorithm is fed with training data that consists of pairs of feature sets (vectors for each text example) and tags (e.g. sports, politics) to produce a classification model:\n",
    "\n",
    "![training](https://monkeylearn.com/static/507a7b5d0557f416857a038f553865d1/2ed04/text_process_training.webp)\n",
    "\n",
    "Once it’s trained with enough training samples, the machine learning model can begin to make accurate predictions. The same feature extractor is used to transform unseen text to feature sets, which can be fed into the classification model to get predictions on tags (e.g., sports, politics):\n",
    "\n",
    "![prediction](https://monkeylearn.com/static/afa7e0536886ee7152dfa4c628fe59f0/2b924/text_process_prediction.webp)\n",
    "\n",
    "Text classification with machine learning is usually much more accurate than human-crafted rule systems, especially on complex NLP classification tasks. Also, classifiers with machine learning are easier to maintain and you can always tag new examples to learn new tasks."
   ]
  },
  {
   "cell_type": "code",
   "execution_count": 1,
   "metadata": {
    "id": "H2LHlNq02CqX"
   },
   "outputs": [],
   "source": [
    "\"\"\"\n",
    "(Practical tip) Table of contents can be compiled directly in jupyter notebooks using the following code:\n",
    "I set an exception: if the package is in your installation you can import it otherwise you download it \n",
    "then import it.\n",
    "\"\"\"\n",
    "try:\n",
    "    from jyquickhelper import add_notebook_menu \n",
    "except:\n",
    "    !pip install jyquickhelper\n",
    "    from jyquickhelper import add_notebook_menu"
   ]
  },
  {
   "cell_type": "code",
   "execution_count": 2,
   "metadata": {
    "id": "cJY3IDY42Cqa"
   },
   "outputs": [
    {
     "data": {
      "text/html": [
       "<div id=\"my_id_menu_nb\">run previous cell, wait for 2 seconds</div>\n",
       "<script>\n",
       "function repeat_indent_string(n){\n",
       "    var a = \"\" ;\n",
       "    for ( ; n > 0 ; --n)\n",
       "        a += \"    \";\n",
       "    return a;\n",
       "}\n",
       "// look up into all sections and builds an automated menu //\n",
       "var update_menu_string = function(begin, lfirst, llast, sformat, send, keep_item, begin_format, end_format) {\n",
       "    var anchors = document.getElementsByClassName(\"section\");\n",
       "    if (anchors.length == 0) {\n",
       "        anchors = document.getElementsByClassName(\"text_cell_render rendered_html\");\n",
       "    }\n",
       "    var i,t;\n",
       "    var text_menu = begin;\n",
       "    var text_memo = \"<pre>\\nlength:\" + anchors.length + \"\\n\";\n",
       "    var ind = \"\";\n",
       "    var memo_level = 1;\n",
       "    var href;\n",
       "    var tags = [];\n",
       "    var main_item = 0;\n",
       "    var format_open = 0;\n",
       "    for (i = 0; i <= llast; i++)\n",
       "        tags.push(\"h\" + i);\n",
       "\n",
       "    for (i = 0; i < anchors.length; i++) {\n",
       "        text_memo += \"**\" + anchors[i].id + \"--\\n\";\n",
       "\n",
       "        var child = null;\n",
       "        for(t = 0; t < tags.length; t++) {\n",
       "            var r = anchors[i].getElementsByTagName(tags[t]);\n",
       "            if (r.length > 0) {\n",
       "child = r[0];\n",
       "break;\n",
       "            }\n",
       "        }\n",
       "        if (child == null) {\n",
       "            text_memo += \"null\\n\";\n",
       "            continue;\n",
       "        }\n",
       "        if (anchors[i].hasAttribute(\"id\")) {\n",
       "            // when converted in RST\n",
       "            href = anchors[i].id;\n",
       "            text_memo += \"#1-\" + href;\n",
       "            // passer à child suivant (le chercher)\n",
       "        }\n",
       "        else if (child.hasAttribute(\"id\")) {\n",
       "            // in a notebook\n",
       "            href = child.id;\n",
       "            text_memo += \"#2-\" + href;\n",
       "        }\n",
       "        else {\n",
       "            text_memo += \"#3-\" + \"*\" + \"\\n\";\n",
       "            continue;\n",
       "        }\n",
       "        var title = child.textContent;\n",
       "        var level = parseInt(child.tagName.substring(1,2));\n",
       "\n",
       "        text_memo += \"--\" + level + \"?\" + lfirst + \"--\" + title + \"\\n\";\n",
       "\n",
       "        if ((level < lfirst) || (level > llast)) {\n",
       "            continue ;\n",
       "        }\n",
       "        if (title.endsWith('¶')) {\n",
       "            title = title.substring(0,title.length-1).replace(\"<\", \"&lt;\")\n",
       "         .replace(\">\", \"&gt;\").replace(\"&\", \"&amp;\");\n",
       "        }\n",
       "        if (title.length == 0) {\n",
       "            continue;\n",
       "        }\n",
       "\n",
       "        while (level < memo_level) {\n",
       "            text_menu += end_format + \"</ul>\\n\";\n",
       "            format_open -= 1;\n",
       "            memo_level -= 1;\n",
       "        }\n",
       "        if (level == lfirst) {\n",
       "            main_item += 1;\n",
       "        }\n",
       "        if (keep_item != -1 && main_item != keep_item + 1) {\n",
       "            // alert(main_item + \" - \" + level + \" - \" + keep_item);\n",
       "            continue;\n",
       "        }\n",
       "        while (level > memo_level) {\n",
       "            text_menu += \"<ul>\\n\";\n",
       "            memo_level += 1;\n",
       "        }\n",
       "        text_menu += repeat_indent_string(level-2);\n",
       "        text_menu += begin_format + sformat.replace(\"__HREF__\", href).replace(\"__TITLE__\", title);\n",
       "        format_open += 1;\n",
       "    }\n",
       "    while (1 < memo_level) {\n",
       "        text_menu += end_format + \"</ul>\\n\";\n",
       "        memo_level -= 1;\n",
       "        format_open -= 1;\n",
       "    }\n",
       "    text_menu += send;\n",
       "    //text_menu += \"\\n\" + text_memo;\n",
       "\n",
       "    while (format_open > 0) {\n",
       "        text_menu += end_format;\n",
       "        format_open -= 1;\n",
       "    }\n",
       "    return text_menu;\n",
       "};\n",
       "var update_menu = function() {\n",
       "    var sbegin = \"\";\n",
       "    var sformat = '<a href=\"#__HREF__\">__TITLE__</a>';\n",
       "    var send = \"\";\n",
       "    var begin_format = '<li>';\n",
       "    var end_format = '</li>';\n",
       "    var keep_item = -1;\n",
       "    var text_menu = update_menu_string(sbegin, 2, 4, sformat, send, keep_item,\n",
       "       begin_format, end_format);\n",
       "    var menu = document.getElementById(\"my_id_menu_nb\");\n",
       "    menu.innerHTML=text_menu;\n",
       "};\n",
       "window.setTimeout(update_menu,2000);\n",
       "            </script>"
      ],
      "text/plain": [
       "<IPython.core.display.HTML object>"
      ]
     },
     "execution_count": 2,
     "metadata": {},
     "output_type": "execute_result"
    }
   ],
   "source": [
    "\"\"\"\n",
    "Output Table of contents to navigate easily in the notebook. \n",
    "For interested readers, the package also includes Ipython magic commands to go back to this cell\n",
    "wherever you are in the notebook to look for cells faster\n",
    "\"\"\"\n",
    "add_notebook_menu()"
   ]
  },
  {
   "cell_type": "markdown",
   "metadata": {
    "id": "VQvQni-N2Cqc"
   },
   "source": [
    "## 0. Today lab\n",
    "\n",
    "In this lab we use part of the 'Amazon_Unlocked_Mobile.csv' dataset published by Kaggle. The dataset contain the following information:\n",
    "* Product Name\n",
    "* Brand Name\n",
    "* Price\n",
    "* Rating\n",
    "* Reviews\n",
    "* Review Votes\n",
    "\n",
    "We are mainly interested by the 'Reviews' (X) and by the 'Rating' (y)\n",
    "\n",
    "The goal is to try to predict the 'Rating' after reading the 'Reviews'. I've prepared for you TRAIN and TEST set."
   ]
  },
  {
   "cell_type": "markdown",
   "metadata": {
    "id": "L2Ti1vXd2Cqc"
   },
   "source": [
    "## 1. Load and study the dataset"
   ]
  },
  {
   "cell_type": "markdown",
   "metadata": {
    "id": "Ogk9yG0N2Cqd"
   },
   "source": [
    "### 1.1. Imports"
   ]
  },
  {
   "cell_type": "code",
   "execution_count": 3,
   "metadata": {
    "id": "CqS_yFTz2Cqd"
   },
   "outputs": [],
   "source": [
    "import pandas as pd\n",
    "import numpy as np\n",
    "#import nltk\n",
    "import pylab as pl # package inheriting most of matplotlib package functions with shorter syntax \n",
    "import seaborn as sns \n",
    "%matplotlib inline"
   ]
  },
  {
   "cell_type": "markdown",
   "metadata": {
    "id": "FeksHxZ52Cqe"
   },
   "source": [
    "### 1.2. [About Train, validation and test sets](https://towardsdatascience.com/train-validation-and-test-sets-72cb40cba9e7)\n",
    "![test/train/val](https://miro.medium.com/max/1466/1*aNPC1ifHN2WydKHyEZYENg.png)\n",
    "\n",
    "* **Training Dataset:** The sample of data used to fit the model.\n",
    "* **Validation Dataset:** The sample of data used to provide an unbiased evaluation of a model fit on the training dataset while tuning model hyperparameters. The evaluation becomes more biased as skill on the validation dataset is incorporated into the model configuration.\n",
    "* **Test Dataset:** The sample of data used to provide an unbiased evaluation of a final model fit on the training dataset."
   ]
  },
  {
   "cell_type": "code",
   "execution_count": 4,
   "metadata": {
    "id": "zqotUQob2Cqe"
   },
   "outputs": [
    {
     "data": {
      "text/html": [
       "<div>\n",
       "<style scoped>\n",
       "    .dataframe tbody tr th:only-of-type {\n",
       "        vertical-align: middle;\n",
       "    }\n",
       "\n",
       "    .dataframe tbody tr th {\n",
       "        vertical-align: top;\n",
       "    }\n",
       "\n",
       "    .dataframe thead th {\n",
       "        text-align: right;\n",
       "    }\n",
       "</style>\n",
       "<table border=\"1\" class=\"dataframe\">\n",
       "  <thead>\n",
       "    <tr style=\"text-align: right;\">\n",
       "      <th></th>\n",
       "      <th>Product Name</th>\n",
       "      <th>Brand Name</th>\n",
       "      <th>Price</th>\n",
       "      <th>Rating</th>\n",
       "      <th>Reviews</th>\n",
       "      <th>Review Votes</th>\n",
       "    </tr>\n",
       "  </thead>\n",
       "  <tbody>\n",
       "    <tr>\n",
       "      <th>0</th>\n",
       "      <td>Samsung Galaxy Note 4 N910C Unlocked Cellphone...</td>\n",
       "      <td>Samsung</td>\n",
       "      <td>449.99</td>\n",
       "      <td>4</td>\n",
       "      <td>I love it!!! I absolutely love it!! 👌👍</td>\n",
       "      <td>0.0</td>\n",
       "    </tr>\n",
       "    <tr>\n",
       "      <th>1</th>\n",
       "      <td>BLU Energy X Plus Smartphone - With 4000 mAh S...</td>\n",
       "      <td>BLU</td>\n",
       "      <td>139.00</td>\n",
       "      <td>5</td>\n",
       "      <td>I love the BLU phones! This is my second one t...</td>\n",
       "      <td>4.0</td>\n",
       "    </tr>\n",
       "    <tr>\n",
       "      <th>2</th>\n",
       "      <td>Apple iPhone 6 128GB Silver AT&amp;T</td>\n",
       "      <td>Apple</td>\n",
       "      <td>599.95</td>\n",
       "      <td>5</td>\n",
       "      <td>Great phone</td>\n",
       "      <td>1.0</td>\n",
       "    </tr>\n",
       "    <tr>\n",
       "      <th>3</th>\n",
       "      <td>BLU Advance 4.0L Unlocked Smartphone -US GSM -...</td>\n",
       "      <td>BLU</td>\n",
       "      <td>51.99</td>\n",
       "      <td>4</td>\n",
       "      <td>Very happy with the performance. The apps work...</td>\n",
       "      <td>2.0</td>\n",
       "    </tr>\n",
       "    <tr>\n",
       "      <th>4</th>\n",
       "      <td>Huawei P8 Lite US Version- 5 Unlocked Android ...</td>\n",
       "      <td>Huawei</td>\n",
       "      <td>198.99</td>\n",
       "      <td>5</td>\n",
       "      <td>Easy to use great price</td>\n",
       "      <td>0.0</td>\n",
       "    </tr>\n",
       "    <tr>\n",
       "      <th>5</th>\n",
       "      <td>BLU WIN HD LTE - 5.0\" Windows Smartphone -GSM ...</td>\n",
       "      <td>BLU</td>\n",
       "      <td>109.99</td>\n",
       "      <td>5</td>\n",
       "      <td>Came faster then expected, thanks cellathon. I...</td>\n",
       "      <td>NaN</td>\n",
       "    </tr>\n",
       "    <tr>\n",
       "      <th>6</th>\n",
       "      <td>BLU Dash Jr 3G Unlocked Phone - Retail Packagi...</td>\n",
       "      <td>BLU</td>\n",
       "      <td>39.97</td>\n",
       "      <td>1</td>\n",
       "      <td>Phone stopped working within 3 days!!</td>\n",
       "      <td>3.0</td>\n",
       "    </tr>\n",
       "    <tr>\n",
       "      <th>7</th>\n",
       "      <td>Samsung Galaxy S6 Edge Plus SM-G928 32GB Black...</td>\n",
       "      <td>samsung</td>\n",
       "      <td>557.49</td>\n",
       "      <td>1</td>\n",
       "      <td>ordered for a new phone and got a used one wit...</td>\n",
       "      <td>0.0</td>\n",
       "    </tr>\n",
       "    <tr>\n",
       "      <th>8</th>\n",
       "      <td>ZTE Axon Pro - Factory Unlocked Phone, 32 GB I...</td>\n",
       "      <td>ZTE</td>\n",
       "      <td>419.99</td>\n",
       "      <td>5</td>\n",
       "      <td>A+</td>\n",
       "      <td>0.0</td>\n",
       "    </tr>\n",
       "    <tr>\n",
       "      <th>9</th>\n",
       "      <td>LG G4 Unlocked Smartphone with 32GB Internal M...</td>\n",
       "      <td>LG</td>\n",
       "      <td>324.84</td>\n",
       "      <td>1</td>\n",
       "      <td>Lots of problems with this phone. There's no \"...</td>\n",
       "      <td>4.0</td>\n",
       "    </tr>\n",
       "  </tbody>\n",
       "</table>\n",
       "</div>"
      ],
      "text/plain": [
       "                                        Product Name Brand Name   Price  \\\n",
       "0  Samsung Galaxy Note 4 N910C Unlocked Cellphone...    Samsung  449.99   \n",
       "1  BLU Energy X Plus Smartphone - With 4000 mAh S...        BLU  139.00   \n",
       "2                   Apple iPhone 6 128GB Silver AT&T      Apple  599.95   \n",
       "3  BLU Advance 4.0L Unlocked Smartphone -US GSM -...        BLU   51.99   \n",
       "4  Huawei P8 Lite US Version- 5 Unlocked Android ...     Huawei  198.99   \n",
       "5  BLU WIN HD LTE - 5.0\" Windows Smartphone -GSM ...        BLU  109.99   \n",
       "6  BLU Dash Jr 3G Unlocked Phone - Retail Packagi...        BLU   39.97   \n",
       "7  Samsung Galaxy S6 Edge Plus SM-G928 32GB Black...    samsung  557.49   \n",
       "8  ZTE Axon Pro - Factory Unlocked Phone, 32 GB I...        ZTE  419.99   \n",
       "9  LG G4 Unlocked Smartphone with 32GB Internal M...         LG  324.84   \n",
       "\n",
       "   Rating                                            Reviews  Review Votes  \n",
       "0       4             I love it!!! I absolutely love it!! 👌👍           0.0  \n",
       "1       5  I love the BLU phones! This is my second one t...           4.0  \n",
       "2       5                                        Great phone           1.0  \n",
       "3       4  Very happy with the performance. The apps work...           2.0  \n",
       "4       5                            Easy to use great price           0.0  \n",
       "5       5  Came faster then expected, thanks cellathon. I...           NaN  \n",
       "6       1              Phone stopped working within 3 days!!           3.0  \n",
       "7       1  ordered for a new phone and got a used one wit...           0.0  \n",
       "8       5                                                 A+           0.0  \n",
       "9       1  Lots of problems with this phone. There's no \"...           4.0  "
      ]
     },
     "execution_count": 4,
     "metadata": {},
     "output_type": "execute_result"
    }
   ],
   "source": [
    "TRAIN = pd.read_csv(\"http://www.i3s.unice.fr/~riveill/dataset/Amazon_Unlocked_Mobile/train.csv.gz\")\n",
    "VAL = pd.read_csv(\"http://www.i3s.unice.fr/~riveill/dataset/Amazon_Unlocked_Mobile/val.csv.gz\")\n",
    "TEST = pd.read_csv(\"http://www.i3s.unice.fr/~riveill/dataset/Amazon_Unlocked_Mobile/test.csv.gz\")\n",
    "\n",
    "TRAIN.head(10)#pass an integer value to specify the number of header lines to output. "
   ]
  },
  {
   "cell_type": "markdown",
   "metadata": {
    "id": "ZtZ9fkdR2Cqf"
   },
   "source": [
    "### 1.3. Understand the train dataset"
   ]
  },
  {
   "cell_type": "code",
   "execution_count": 5,
   "metadata": {},
   "outputs": [
    {
     "name": "stderr",
     "output_type": "stream",
     "text": [
      "[nltk_data] Downloading package punkt to\n",
      "[nltk_data]     C:\\Users\\Polytech\\AppData\\Roaming\\nltk_data...\n",
      "[nltk_data]   Package punkt is already up-to-date!\n"
     ]
    },
    {
     "data": {
      "text/plain": [
       "True"
      ]
     },
     "execution_count": 5,
     "metadata": {},
     "output_type": "execute_result"
    }
   ],
   "source": [
    "import nltk\n",
    "nltk.download('punkt')"
   ]
  },
  {
   "cell_type": "code",
   "execution_count": 6,
   "metadata": {
    "id": "Yv78DSsp2Cqf",
    "scrolled": true
   },
   "outputs": [
    {
     "name": "stdout",
     "output_type": "stream",
     "text": [
      "['I', 'love', 'it', '!', '!', '!', 'I', 'absolutely', 'love', 'it', '!', '!', '👌👍'] \n",
      "\n",
      "['I', 'love', 'the', 'BLU', 'phones', '!', 'This', 'is', 'my', 'second', 'one', 'this', 'year', 'and', 'not', 'because', 'there', 'is', 'anything', 'wrong', 'with', 'my', 'BLU', 'Studio', '6.0', 'HD', '.', 'I', 'have', 'just', 'opted', 'to', '``', 'upgrade', \"''\", 'to', 'a', 'phone', 'with', 'a', 'slightly', 'smaller', 'screen', 'and', 'better', 'battery', 'life', '.', 'For', 'the', 'price', 'of', 'these', 'phones', 'you', 'can', 'not', 'go', 'wrong.1', '.', 'Setup', 'is', 'a', 'breeze2', '.', 'customization', 'is', 'easy3', '.', 'colors', 'are', 'vibrant4', '.', 'phone', 'is', 'light', '(', 'even', 'with', 'a', 'rugged', 'case', ')', '5.', 'battery', 'life', 'is', 'better', 'than', 'any', 'phone', 'I', 'have', 'ever', 'had6', '.', 'Screen', 'is', 'responsive', 'to', 'touch', 'unlike', 'some', 'other', 'phones.I', 'have', 'had', 'no', 'issue', 'with', 'volume', 'or', 'music', 'playback', 'as', 'other', 'reviewers', 'have', 'noted', '.', 'All', 'in', 'all', 'a', 'great', 'phone', 'for', 'a', 'little', 'price', '.', 'Everyone', 'should', 'give', 'BLU', 'a', 'try', '.'] \n",
      "\n",
      "['Great', 'phone'] \n",
      "\n",
      "['Very', 'happy', 'with', 'the', 'performance', '.', 'The', 'apps', 'worked', 'flawlessly', ',', 'camera', 'could', 'be', 'better', 'but', 'no', 'complaints', 'considering', 'it', 'is', 'only', '$', '50', '.'] \n",
      "\n",
      "['Easy', 'to', 'use', 'great', 'price'] \n",
      "\n",
      "['Came', 'faster', 'then', 'expected', ',', 'thanks', 'cellathon', '.', 'I', \"'ve\", 'used', 'androids', 'and', 'iPhones', ',', 'so', 'this', 'is', 'the', 'first', 'time', 'I', 'used', 'a', 'Windows', 'phone', '.', 'So', 'as', 'I', \"'ll\", 'be', 'using', 'this', 'as', 'my', 'work', 'phone', ',', 'I', \"'ll\", 'be', 'learning', 'and', 'getting', 'use', 'to', 'the', 'phone', '.'] \n",
      "\n",
      "['Phone', 'stopped', 'working', 'within', '3', 'days', '!', '!'] \n",
      "\n",
      "['ordered', 'for', 'a', 'new', 'phone', 'and', 'got', 'a', 'used', 'one', 'with', 'someone', \"'s\", 'locked', 'account', 'on', 'knox', 'for', 'toyota', 'corporation', 'in', 'Japan', '.', 'Also', 'phone', 'was', 'designed', 'for', 'Asian', 'region', 'and', 'not', 'for', 'the', 'USA.Very', 'very', 'disappointed', 'for', 'the', 'first', 'time', 'since', '2005', 'when', 'I', 'started', 'buying', 'items', 'from', 'amazon'] \n",
      "\n",
      "['A+'] \n",
      "\n",
      "['Lots', 'of', 'problems', 'with', 'this', 'phone', '.', 'There', \"'s\", 'no', '``', 'recent', 'apps', \"''\", 'button', ',', 'so', 'I', 'have', 'to', 'pull', 'the', 'battery', 'to', 'turn', 'Pandora', 'off', '.', 'The', 'documentation', 'is', 'terrible', '.', 'They', \"'ll\", 'sell', 'you', 'a', 'Xeroxed', 'copy', 'for', 'I', 'think', '$', '35', 'or', 'you', 'can', 'print', 'it', 'out', ',', 'but', 'it', \"'s\", 'a', 'huge', 'print', 'out', '.', 'This', 'is', 'my', 'first', 'and', 'last', 'LG', 'product', ',', 'and', 'I', \"'ve\", 'learned', 'my', 'lesson', ',', 'which', 'is', ',', '``', 'You', 'get', 'what', 'you', 'paid', 'for', '.', \"''\", 'And', 'I', 'learned', 'that', 'lesson', 'just', 'in', 'time', 'to', 'dodge', 'a', 'bullet', ',', 'as', 'I', 'was', 'less', 'than', 'an', 'hour', 'away', 'from', 'ordering', 'their', '65', \"''\", 'curved', 'screen', 'TV', '!', 'And', 'it', \"'s\", 'not', 'just', 'me', '.', 'Check', 'out', 'Reddit', 'where', 'LG', 'G4', 'users', 'vent', 'their', 'anger', 'over', 'the', 'poor', 'engineering', 'in', 'this', 'phone.', '[', '...', ']'] \n",
      "\n"
     ]
    }
   ],
   "source": [
    "# Tokenized the reviews\n",
    "from nltk.tokenize import word_tokenize\n",
    "#nltk.download('punkt') # If nltk requires to download 'punkt' depending on your installation\n",
    "reviews_tokenized = [word_tokenize(review) for review in TRAIN['Reviews']]\n",
    "for sentence in reviews_tokenized[:10]: print('%s \\n'%sentence)"
   ]
  },
  {
   "cell_type": "code",
   "execution_count": 7,
   "metadata": {
    "id": "-DstMsLw2Cqg"
   },
   "outputs": [
    {
     "data": {
      "text/plain": [
       "13099"
      ]
     },
     "execution_count": 7,
     "metadata": {},
     "output_type": "execute_result"
    }
   ],
   "source": [
    "# Count the vocabulary\n",
    "flatten_reviews = [item for sublist in reviews_tokenized for item in sublist] # contain all words \n",
    "unique_words = list(set(flatten_reviews)) #processed as a list for future analysis\n",
    "vocabulary_size = len(unique_words) # set allows to get unique words contain in flatten_reviews\n",
    "vocabulary_size\n"
   ]
  },
  {
   "cell_type": "code",
   "execution_count": 8,
   "metadata": {
    "id": "xT6zfZ4Z2Cqh"
   },
   "outputs": [
    {
     "name": "stdout",
     "output_type": "stream",
     "text": [
      "[('.', 10867), ('the', 8323), ('I', 6743), (',', 6551), ('and', 5429), ('it', 5217), ('phone', 5132), ('a', 4855), ('to', 4682), ('is', 3991), ('for', 2558), ('this', 2403), ('of', 2035), ('!', 1993), ('with', 1992), ('was', 1935), ('in', 1828), ('my', 1796), ('not', 1777), ('that', 1751)]\n"
     ]
    },
    {
     "data": {
      "image/png": "[encoded data removed]",
      "text/plain": [
       "<Figure size 432x288 with 1 Axes>"
      ]
     },
     "metadata": {
      "needs_background": "light"
     },
     "output_type": "display_data"
    },
    {
     "data": {
      "image/png": "[encoded data removed]",
      "text/plain": [
       "<Figure size 576x360 with 1 Axes>"
      ]
     },
     "metadata": {
      "needs_background": "light"
     },
     "output_type": "display_data"
    }
   ],
   "source": [
    "# Plot the distribution of words\n",
    "from nltk import FreqDist\n",
    "\n",
    "freqDist = FreqDist(flatten_reviews)\n",
    "print(freqDist.most_common(20))\n",
    "full_counts = [x[1] for x in freqDist.most_common()]\n",
    "freqDist.plot(25, cumulative=False)\n",
    "pl.show()\n",
    "pl.figure(figsize=(8,5))\n",
    "#plot\n",
    "sns.kdeplot(full_counts)\n",
    "#labeling features for readibility you have to think about while presenting your results\n",
    "pl.xlabel('word occurrence'); pl.ylabel('probability density'); pl.title('word occurences distribution')\n",
    "pl.show()\n",
    "\n",
    "# most of the time, the most common words are linking words, basic verbs, punctuation\n",
    "# For instance, One can wonder either rare words are more significant for discriminative purposes."
   ]
  },
  {
   "cell_type": "code",
   "execution_count": 9,
   "metadata": {
    "id": "pLaJktYA2Cqh"
   },
   "outputs": [
    {
     "data": {
      "image/png": "[encoded data removed]",
      "text/plain": [
       "<Figure size 576x432 with 1 Axes>"
      ]
     },
     "metadata": {
      "needs_background": "light"
     },
     "output_type": "display_data"
    },
    {
     "data": {
      "text/plain": [
       "<AxesSubplot:title={'center':'word length'}, xlabel='Samples', ylabel='Counts'>"
      ]
     },
     "execution_count": 9,
     "metadata": {},
     "output_type": "execute_result"
    }
   ],
   "source": [
    "# Plot the distibution of word length size\n",
    "len_words = [len(w) for w in flatten_reviews]\n",
    "freqDist2 = FreqDist(len_words)\n",
    "pl.figure(figsize=(8,6))\n",
    "pl.title('word length')\n",
    "freqDist2.plot(cumulative=False)"
   ]
  },
  {
   "cell_type": "code",
   "execution_count": 10,
   "metadata": {
    "id": "RuftOA7X2Cqi"
   },
   "outputs": [
    {
     "data": {
      "text/plain": [
       "Text(0.5, 1.0, 'sentence lengths distribution')"
      ]
     },
     "execution_count": 10,
     "metadata": {},
     "output_type": "execute_result"
    },
    {
     "data": {
      "image/png": "[encoded data removed]",
      "text/plain": [
       "<Figure size 576x432 with 1 Axes>"
      ]
     },
     "metadata": {
      "needs_background": "light"
     },
     "output_type": "display_data"
    }
   ],
   "source": [
    "# Plot the distribution of sentence lengths\n",
    "len_sentences = [len(s) for s in reviews_tokenized]\n",
    "pl.figure(figsize=(8,6))\n",
    "sns.kdeplot(len_sentences)\n",
    "pl.xlabel('sentence length'); pl.ylabel('density');pl.title('sentence lengths distribution')"
   ]
  },
  {
   "cell_type": "code",
   "execution_count": 11,
   "metadata": {
    "id": "d_CQEXm-2Cqj"
   },
   "outputs": [
    {
     "data": {
      "text/plain": [
       "['This is the',\n",
       " 'is the simplest',\n",
       " 'the simplest text',\n",
       " 'simplest text i',\n",
       " 'text i could',\n",
       " 'i could think',\n",
       " 'could think of']"
      ]
     },
     "execution_count": 11,
     "metadata": {},
     "output_type": "execute_result"
    }
   ],
   "source": [
    "# Build a function named get_ngrams that return the list of n grams of a text.\n",
    "from nltk.tokenize import word_tokenize\n",
    "from nltk.util import ngrams\n",
    "\n",
    "def get_ngrams(text, n ):\n",
    "    if len(word_tokenize(text)) < n :\n",
    "        return []\n",
    "    n_grams = ngrams(word_tokenize(text), n)\n",
    "    return [ ' '.join(grams) for grams in n_grams]\n",
    "\n",
    "# Use this function to output/print the ngrams of the following text\n",
    "text = \"I love the chocolate but I hate tea\"\n",
    "\n",
    "get_ngrams('This is the simplest text i could think of', 3 )"
   ]
  },
  {
   "cell_type": "code",
   "execution_count": 12,
   "metadata": {},
   "outputs": [
    {
     "data": {
      "text/plain": [
       "['I love the',\n",
       " 'love the chocolate',\n",
       " 'the chocolate but',\n",
       " 'chocolate but I',\n",
       " 'but I hate',\n",
       " 'I hate tea']"
      ]
     },
     "execution_count": 12,
     "metadata": {},
     "output_type": "execute_result"
    }
   ],
   "source": [
    "get_ngrams(text, 3 )"
   ]
  },
  {
   "cell_type": "code",
   "execution_count": 13,
   "metadata": {
    "id": "N9gggq2E2Cqj"
   },
   "outputs": [
    {
     "data": {
      "text/plain": [
       "[['I love it',\n",
       "  'love it !',\n",
       "  'it ! !',\n",
       "  '! ! !',\n",
       "  '! ! I',\n",
       "  '! I absolutely',\n",
       "  'I absolutely love',\n",
       "  'absolutely love it',\n",
       "  'love it !',\n",
       "  'it ! !',\n",
       "  '! ! 👌👍'],\n",
       " ['I love the',\n",
       "  'love the BLU',\n",
       "  'the BLU phones',\n",
       "  'BLU phones !',\n",
       "  'phones ! This',\n",
       "  '! This is',\n",
       "  'This is my',\n",
       "  'is my second',\n",
       "  'my second one',\n",
       "  'second one this',\n",
       "  'one this year',\n",
       "  'this year and',\n",
       "  'year and not',\n",
       "  'and not because',\n",
       "  'not because there',\n",
       "  'because there is',\n",
       "  'there is anything',\n",
       "  'is anything wrong',\n",
       "  'anything wrong with',\n",
       "  'wrong with my',\n",
       "  'with my BLU',\n",
       "  'my BLU Studio',\n",
       "  'BLU Studio 6.0',\n",
       "  'Studio 6.0 HD',\n",
       "  '6.0 HD .',\n",
       "  'HD . I',\n",
       "  '. I have',\n",
       "  'I have just',\n",
       "  'have just opted',\n",
       "  'just opted to',\n",
       "  'opted to ``',\n",
       "  'to `` upgrade',\n",
       "  '`` upgrade ``',\n",
       "  'upgrade `` to',\n",
       "  '`` to a',\n",
       "  'to a phone',\n",
       "  'a phone with',\n",
       "  'phone with a',\n",
       "  'with a slightly',\n",
       "  'a slightly smaller',\n",
       "  'slightly smaller screen',\n",
       "  'smaller screen and',\n",
       "  'screen and better',\n",
       "  'and better battery',\n",
       "  'better battery life',\n",
       "  'battery life .',\n",
       "  'life . For',\n",
       "  '. For the',\n",
       "  'For the price',\n",
       "  'the price of',\n",
       "  'price of these',\n",
       "  'of these phones',\n",
       "  'these phones you',\n",
       "  'phones you can',\n",
       "  'you can not',\n",
       "  'can not go',\n",
       "  'not go wrong.1',\n",
       "  'go wrong.1 .',\n",
       "  'wrong.1 . Setup',\n",
       "  '. Setup is',\n",
       "  'Setup is a',\n",
       "  'is a breeze2',\n",
       "  'a breeze2 .',\n",
       "  'breeze2 . customization',\n",
       "  '. customization is',\n",
       "  'customization is easy3',\n",
       "  'is easy3 .',\n",
       "  'easy3 . colors',\n",
       "  '. colors are',\n",
       "  'colors are vibrant4',\n",
       "  'are vibrant4 .',\n",
       "  'vibrant4 . phone',\n",
       "  '. phone is',\n",
       "  'phone is light',\n",
       "  'is light (',\n",
       "  'light ( even',\n",
       "  '( even with',\n",
       "  'even with a',\n",
       "  'with a rugged',\n",
       "  'a rugged case',\n",
       "  'rugged case )',\n",
       "  'case ) 5.',\n",
       "  ') 5. battery',\n",
       "  '5. battery life',\n",
       "  'battery life is',\n",
       "  'life is better',\n",
       "  'is better than',\n",
       "  'better than any',\n",
       "  'than any phone',\n",
       "  'any phone I',\n",
       "  'phone I have',\n",
       "  'I have ever',\n",
       "  'have ever had6',\n",
       "  'ever had6 .',\n",
       "  'had6 . Screen',\n",
       "  '. Screen is',\n",
       "  'Screen is responsive',\n",
       "  'is responsive to',\n",
       "  'responsive to touch',\n",
       "  'to touch unlike',\n",
       "  'touch unlike some',\n",
       "  'unlike some other',\n",
       "  'some other phones.I',\n",
       "  'other phones.I have',\n",
       "  'phones.I have had',\n",
       "  'have had no',\n",
       "  'had no issue',\n",
       "  'no issue with',\n",
       "  'issue with volume',\n",
       "  'with volume or',\n",
       "  'volume or music',\n",
       "  'or music playback',\n",
       "  'music playback as',\n",
       "  'playback as other',\n",
       "  'as other reviewers',\n",
       "  'other reviewers have',\n",
       "  'reviewers have noted',\n",
       "  'have noted .',\n",
       "  'noted . All',\n",
       "  '. All in',\n",
       "  'All in all',\n",
       "  'in all a',\n",
       "  'all a great',\n",
       "  'a great phone',\n",
       "  'great phone for',\n",
       "  'phone for a',\n",
       "  'for a little',\n",
       "  'a little price',\n",
       "  'little price .',\n",
       "  'price . Everyone',\n",
       "  '. Everyone should',\n",
       "  'Everyone should give',\n",
       "  'should give BLU',\n",
       "  'give BLU a',\n",
       "  'BLU a try',\n",
       "  'a try .']]"
      ]
     },
     "execution_count": 13,
     "metadata": {},
     "output_type": "execute_result"
    }
   ],
   "source": [
    "# For each reviews calculate its 3grams\n",
    "ngrams_reviews = [get_ngrams(' '.join(r), 3) for r in reviews_tokenized]\n",
    "ngrams_reviews[:2]"
   ]
  },
  {
   "cell_type": "markdown",
   "metadata": {
    "id": "6mKAQIIF2Cqk"
   },
   "source": [
    "###  1.4. What about your validation split ?\n",
    "\n",
    "Questions left to the students:\n",
    "\n",
    "    - Is the vocabulary observed in the validation dataset included in the train dataset?\n",
    "    - How similar are distributions of word occurences or word lengths?\n",
    "    - Same for sentence-wise distributions? \n",
    "\n",
    "In practice you do not have prior knowledge on the classification labels of the test dataset, and you want to infer these i.e. be able to generalize this categorization based on known labels of the train dataset. So you use the validation dataset to measure the generalization ability of your model learned on the train dataset.\n",
    "\n",
    "However, you have access to observations from all datasets split (sentences here) in stationary cases (to contrast to online settings where new data comes on the fly)."
   ]
  },
  {
   "cell_type": "markdown",
   "metadata": {},
   "source": [
    "**Answers**<br/>\n",
    "The vocabulary used is NOT included in the validation dataset "
   ]
  },
  {
   "cell_type": "code",
   "execution_count": 14,
   "metadata": {
    "id": "P0lWXgT_2Cql"
   },
   "outputs": [
    {
     "data": {
      "text/html": [
       "<div>\n",
       "<style scoped>\n",
       "    .dataframe tbody tr th:only-of-type {\n",
       "        vertical-align: middle;\n",
       "    }\n",
       "\n",
       "    .dataframe tbody tr th {\n",
       "        vertical-align: top;\n",
       "    }\n",
       "\n",
       "    .dataframe thead th {\n",
       "        text-align: right;\n",
       "    }\n",
       "</style>\n",
       "<table border=\"1\" class=\"dataframe\">\n",
       "  <thead>\n",
       "    <tr style=\"text-align: right;\">\n",
       "      <th></th>\n",
       "      <th>Product Name</th>\n",
       "      <th>Brand Name</th>\n",
       "      <th>Price</th>\n",
       "      <th>Rating</th>\n",
       "      <th>Reviews</th>\n",
       "      <th>Review Votes</th>\n",
       "    </tr>\n",
       "  </thead>\n",
       "  <tbody>\n",
       "    <tr>\n",
       "      <th>0</th>\n",
       "      <td>BLU Tank II T193 Unlocked GSM Dual-SIM Cell Ph...</td>\n",
       "      <td>BLU</td>\n",
       "      <td>26.41</td>\n",
       "      <td>1</td>\n",
       "      <td>Pretty good</td>\n",
       "      <td>0.0</td>\n",
       "    </tr>\n",
       "    <tr>\n",
       "      <th>1</th>\n",
       "      <td>Apple iPhone 5 Unlocked Cellphone, 32GB, White</td>\n",
       "      <td>Apple</td>\n",
       "      <td>265.00</td>\n",
       "      <td>5</td>\n",
       "      <td>Excellent,very good Very fast</td>\n",
       "      <td>0.0</td>\n",
       "    </tr>\n",
       "    <tr>\n",
       "      <th>2</th>\n",
       "      <td>HTC Explorer A310e Unlocked GSM Phone with And...</td>\n",
       "      <td>NaN</td>\n",
       "      <td>79.99</td>\n",
       "      <td>3</td>\n",
       "      <td>This was a replacement. We had a POS Samsung f...</td>\n",
       "      <td>0.0</td>\n",
       "    </tr>\n",
       "    <tr>\n",
       "      <th>3</th>\n",
       "      <td>Blackberry 9530 Storm Unlocked For Any GSM Car...</td>\n",
       "      <td>BlackBerry</td>\n",
       "      <td>131.59</td>\n",
       "      <td>1</td>\n",
       "      <td>Was used ! Had to return it</td>\n",
       "      <td>0.0</td>\n",
       "    </tr>\n",
       "    <tr>\n",
       "      <th>4</th>\n",
       "      <td>Nokia E71 Unlocked Phone with 3.2 MP Camera, 3...</td>\n",
       "      <td>Nokia</td>\n",
       "      <td>193.50</td>\n",
       "      <td>3</td>\n",
       "      <td>Just loved the item, and it was just as the pi...</td>\n",
       "      <td>0.0</td>\n",
       "    </tr>\n",
       "  </tbody>\n",
       "</table>\n",
       "</div>"
      ],
      "text/plain": [
       "                                        Product Name  Brand Name   Price  \\\n",
       "0  BLU Tank II T193 Unlocked GSM Dual-SIM Cell Ph...         BLU   26.41   \n",
       "1     Apple iPhone 5 Unlocked Cellphone, 32GB, White       Apple  265.00   \n",
       "2  HTC Explorer A310e Unlocked GSM Phone with And...         NaN   79.99   \n",
       "3  Blackberry 9530 Storm Unlocked For Any GSM Car...  BlackBerry  131.59   \n",
       "4  Nokia E71 Unlocked Phone with 3.2 MP Camera, 3...       Nokia  193.50   \n",
       "\n",
       "   Rating                                            Reviews  Review Votes  \n",
       "0       1                                        Pretty good           0.0  \n",
       "1       5                      Excellent,very good Very fast           0.0  \n",
       "2       3  This was a replacement. We had a POS Samsung f...           0.0  \n",
       "3       1                        Was used ! Had to return it           0.0  \n",
       "4       3  Just loved the item, and it was just as the pi...           0.0  "
      ]
     },
     "execution_count": 14,
     "metadata": {},
     "output_type": "execute_result"
    }
   ],
   "source": [
    "VAL.head()"
   ]
  },
  {
   "cell_type": "code",
   "execution_count": 15,
   "metadata": {
    "id": "Qd20ZUf92Cql"
   },
   "outputs": [
    {
     "name": "stdout",
     "output_type": "stream",
     "text": [
      "How many fails over the whole Validation reviews ?  1\n",
      "Look at failures to understand why it happened ? \n",
      "list of bugged reviews: [nan]\n"
     ]
    }
   ],
   "source": [
    "\"\"\"\n",
    "Tokenized the reviews of the validation dataset\n",
    "Code previously used for processing the train dataset fails on the validation dataset\n",
    "This is a common situation while dealing with real life datasets built by non machine-learning practitioners.\n",
    "So we also have to know how to preprocess row data.\n",
    "Common problems contain in real life dataset:\n",
    "    contain NaN values; values type are not consistent among a given dataset feature etc.. \n",
    "\"\"\"\n",
    "run_failure = False#True\n",
    "if run_failure: #This code will give you an error\n",
    "    reviews_tokenized_val = [word_tokenize(review) for review in VAL['Reviews']]\n",
    "    for sentence in reviews_tokenized_val[:10]: print('%s \\n'%sentence)\n",
    "else: # Here for practical reasons we just show how to deal with this issue using exceptions\n",
    "    reviews_tokenized_val= []\n",
    "    failed_review=[]\n",
    "    for review in VAL['Reviews']:\n",
    "        try: # Store the result of the function word_tokenize applied on current review if it does not fail \n",
    "            reviews_tokenized_val.append(word_tokenize(review))\n",
    "        except:\n",
    "            failed_review.append(review)\n",
    "            continue\n",
    "    print('How many fails over the whole Validation reviews ? ', len(VAL['Reviews']) - len(reviews_tokenized_val))\n",
    "    print('Look at failures to understand why it happened ? \\nlist of bugged reviews: %s'%failed_review)"
   ]
  },
  {
   "cell_type": "code",
   "execution_count": 16,
   "metadata": {
    "id": "lbetI5wb2Cqm"
   },
   "outputs": [
    {
     "name": "stdout",
     "output_type": "stream",
     "text": [
      "TRAIN dataset - vocabulary size: 13099 \n",
      "VAL dataset - vocabulary size: 5066 \n"
     ]
    }
   ],
   "source": [
    "# validation vocabulary\n",
    "flatten_reviews_val = [item for sublist in reviews_tokenized_val for item in sublist]\n",
    "unique_words_val = list(set(flatten_reviews_val))\n",
    "vocabulary_size_val = len(unique_words_val)\n",
    "print('TRAIN dataset - vocabulary size: %s \\nVAL dataset - vocabulary size: %s '%(vocabulary_size,vocabulary_size_val))"
   ]
  },
  {
   "cell_type": "code",
   "execution_count": 17,
   "metadata": {
    "id": "y9fxYv_a2Cqn"
   },
   "outputs": [
    {
     "name": "stdout",
     "output_type": "stream",
     "text": [
      "Number of INCLUDED words: 3687 \n",
      "Number of EXCLUDED words:1379\n"
     ]
    }
   ],
   "source": [
    "# Are words in the VALIDATION reviews contained in the TRAINING ones? \n",
    "included_words = []\n",
    "excluded_words = []\n",
    "for word in unique_words_val:\n",
    "    if word in unique_words:\n",
    "        included_words.append(word)\n",
    "    else:\n",
    "        excluded_words.append(word)\n",
    "print('Number of INCLUDED words: %s \\nNumber of EXCLUDED words:%s'%(len(included_words),len(excluded_words)))"
   ]
  },
  {
   "cell_type": "code",
   "execution_count": 18,
   "metadata": {
    "id": "SYD9w73i9XlM"
   },
   "outputs": [
    {
     "name": "stdout",
     "output_type": "stream",
     "text": [
      "[('.', 1997), ('the', 1484), ('I', 1257), (',', 1180), ('and', 1006), ('it', 1000), ('phone', 907), ('to', 877), ('a', 821), ('is', 703), ('!', 484), ('for', 439), ('this', 431), ('with', 379), ('of', 372), ('was', 355), ('my', 348), ('that', 340), ('in', 327), ('on', 310)]\n"
     ]
    },
    {
     "data": {
      "image/png": "[encoded data removed]",
      "text/plain": [
       "<Figure size 432x288 with 1 Axes>"
      ]
     },
     "metadata": {
      "needs_background": "light"
     },
     "output_type": "display_data"
    },
    {
     "data": {
      "image/png": "[encoded data removed]",
      "text/plain": [
       "<Figure size 576x360 with 1 Axes>"
      ]
     },
     "metadata": {
      "needs_background": "light"
     },
     "output_type": "display_data"
    }
   ],
   "source": [
    "# [TO DO - Students] Plot most frequent words present in the validation dataset\n",
    "\n",
    "# Plot the distribution of words\n",
    "from nltk import FreqDist\n",
    "\n",
    "freqDist_val = FreqDist(flatten_reviews_val)\n",
    "print(freqDist_val.most_common(20))\n",
    "full_counts_val = [x[1] for x in freqDist_val.most_common()]\n",
    "freqDist_val.plot(25, cumulative=False)\n",
    "pl.show()\n",
    "pl.figure(figsize=(8,5))\n",
    "#plot\n",
    "sns.kdeplot(full_counts)\n",
    "#labeling features for readibility you have to think about while presenting your results\n",
    "pl.xlabel('word occurrence'); pl.ylabel('probability density'); pl.title('word occurences distribution')\n",
    "pl.show()\n"
   ]
  },
  {
   "cell_type": "code",
   "execution_count": 19,
   "metadata": {
    "id": "bXxFi_PR2Cqo"
   },
   "outputs": [
    {
     "data": {
      "image/png": "[encoded data removed]",
      "text/plain": [
       "<Figure size 864x360 with 2 Axes>"
      ]
     },
     "metadata": {
      "needs_background": "light"
     },
     "output_type": "display_data"
    }
   ],
   "source": [
    "# Plot the distribution of word occurences\n",
    "## Start with plotting the word occurences with distributions from VAL and TRAIN next to each other\n",
    "pl.figure(figsize=(12,5))\n",
    "pl.subplot(121)\n",
    "sns.kdeplot(full_counts_val)\n",
    "pl.xlabel('word occurrence'); pl.ylabel('probability density'); pl.title('[VAL] word occurences distribution')\n",
    "pl.subplot(122)\n",
    "sns.kdeplot(full_counts)\n",
    "pl.xlabel('word occurrence'); pl.ylabel('probability density'); pl.title('[TRAIN] word occurences distribution')\n",
    "pl.show()"
   ]
  },
  {
   "cell_type": "code",
   "execution_count": 20,
   "metadata": {
    "id": "8PLZdAn7oa6T"
   },
   "outputs": [
    {
     "data": {
      "image/png": "[encoded data removed]",
      "text/plain": [
       "<Figure size 576x432 with 1 Axes>"
      ]
     },
     "metadata": {
      "needs_background": "light"
     },
     "output_type": "display_data"
    },
    {
     "data": {
      "text/plain": [
       "<AxesSubplot:title={'center':'word length validation test'}, xlabel='Samples', ylabel='Counts'>"
      ]
     },
     "execution_count": 20,
     "metadata": {},
     "output_type": "execute_result"
    }
   ],
   "source": [
    "# [TO DO - Students] Then do the same thing for word lengths\n",
    "# Plot the distibution of word length size\n",
    "len_words_val = [len(w) for w in flatten_reviews_val]\n",
    "freqDist2 = FreqDist(len_words_val)\n",
    "pl.figure(figsize=(8,6))\n",
    "pl.title('word length validation test')\n",
    "freqDist2.plot(cumulative=False)"
   ]
  },
  {
   "cell_type": "code",
   "execution_count": 21,
   "metadata": {
    "id": "wEifM2dY2Cqp"
   },
   "outputs": [
    {
     "data": {
      "text/plain": [
       "Text(0.5, 1.0, 'sentence lengths distribution for validation test')"
      ]
     },
     "execution_count": 21,
     "metadata": {},
     "output_type": "execute_result"
    },
    {
     "data": {
      "image/png": "[encoded data removed]",
      "text/plain": [
       "<Figure size 576x432 with 1 Axes>"
      ]
     },
     "metadata": {
      "needs_background": "light"
     },
     "output_type": "display_data"
    }
   ],
   "source": [
    "#  [TO DO - Students] Plot the distribution of sentence lengths\n",
    "# Plot the distribution of sentence lengths\n",
    "len_sentences_val = [len(s) for s in reviews_tokenized_val]\n",
    "pl.figure(figsize=(8,6))\n",
    "sns.kdeplot(len_sentences_val)\n",
    "pl.xlabel('sentence length'); pl.ylabel('density');pl.title('sentence lengths distribution for validation test')"
   ]
  },
  {
   "cell_type": "markdown",
   "metadata": {
    "id": "d8DZsmx82Cqq"
   },
   "source": [
    "## 2. Sentence Classifications"
   ]
  },
  {
   "cell_type": "markdown",
   "metadata": {
    "id": "EMazEWld2Cqq"
   },
   "source": [
    "### 2.1. Build X (features vectors) and y (labels)"
   ]
  },
  {
   "cell_type": "code",
   "execution_count": 22,
   "metadata": {
    "id": "LK6otSJU2Cqq"
   },
   "outputs": [
    {
     "data": {
      "text/plain": [
       "((5000,), (5000,))"
      ]
     },
     "execution_count": 22,
     "metadata": {},
     "output_type": "execute_result"
    }
   ],
   "source": [
    "# Construct X_train and y_train\n",
    "X_train = TRAIN['Reviews'].fillna(\"\")\n",
    "y_train = TRAIN['Rating']\n",
    "X_train.shape, y_train.shape"
   ]
  },
  {
   "cell_type": "code",
   "execution_count": 23,
   "metadata": {
    "id": "1u-bbHc32Cqr"
   },
   "outputs": [
    {
     "data": {
      "text/plain": [
       "((1000,), (1000,))"
      ]
     },
     "execution_count": 23,
     "metadata": {},
     "output_type": "execute_result"
    }
   ],
   "source": [
    "# Construct X_val and y_val\n",
    "X_val = VAL['Reviews'].fillna(\"\")\n",
    "y_val = VAL['Rating']\n",
    "X_val.shape, y_val.shape"
   ]
  },
  {
   "cell_type": "code",
   "execution_count": 24,
   "metadata": {
    "id": "WMZtc-wc2Cqr"
   },
   "outputs": [
    {
     "data": {
      "text/plain": [
       "((1000,), (1000,))"
      ]
     },
     "execution_count": 24,
     "metadata": {},
     "output_type": "execute_result"
    }
   ],
   "source": [
    "# Construct X_test and y_test\n",
    "X_test = TEST['Reviews'].fillna(\"\")\n",
    "y_test = TEST['Rating']\n",
    "X_test.shape, y_test.shape"
   ]
  },
  {
   "cell_type": "markdown",
   "metadata": {
    "id": "OX1lUZ1Q2Cqr"
   },
   "source": [
    "### 2.2. Build a Baseline\n",
    "Using a binary `CountVectorizer` and a `LogisticRegression` classifier, learned in a previous lecture, build a first model.\n",
    "\n",
    "For this model, you will not pre-process the text and will only use words (not N-grams). Leaves all parameter as default.\n",
    "\n",
    "The evaluation metric is accuracy."
   ]
  },
  {
   "cell_type": "markdown",
   "metadata": {
    "id": "xBO3PedQ2Cqs"
   },
   "source": [
    "$$[TO DO - Students]$$\n",
    "\n",
    "Explain in your own words both classification models (CountVectorizer & Logistic Regression), feel free to specify key features/hyperparameters of these models that seem the most important ones to tune and explain why. You can include it at the end of the notebook for your conclusion. "
   ]
  },
  {
   "cell_type": "code",
   "execution_count": 25,
   "metadata": {
    "id": "SGiYlqFJ2Cqs"
   },
   "outputs": [
    {
     "data": {
      "text/plain": [
       "(5000, 8991)"
      ]
     },
     "execution_count": 25,
     "metadata": {},
     "output_type": "execute_result"
    }
   ],
   "source": [
    "# Encode X_train\n",
    "from sklearn.feature_extraction.text import CountVectorizer\n",
    "\n",
    "cv = CountVectorizer()\n",
    "cv.fit(X_train)\n",
    "X_train_encoded = cv.transform(X_train)\n",
    "X_train_encoded.shape"
   ]
  },
  {
   "cell_type": "code",
   "execution_count": 26,
   "metadata": {
    "id": "JjFPaQlJ2Cqs"
   },
   "outputs": [
    {
     "data": {
      "text/plain": [
       "8991"
      ]
     },
     "execution_count": 26,
     "metadata": {},
     "output_type": "execute_result"
    }
   ],
   "source": [
    "# What is the vocabulary size ?\n",
    "# Compare with your previous response\n",
    "len(cv.vocabulary_)"
   ]
  },
  {
   "cell_type": "code",
   "execution_count": 27,
   "metadata": {
    "id": "ubIzPYN52Cqt"
   },
   "outputs": [
    {
     "data": {
      "text/plain": [
       "set()"
      ]
     },
     "execution_count": 27,
     "metadata": {},
     "output_type": "execute_result"
    }
   ],
   "source": [
    "# What is the stop words used\n",
    "cv.stop_words_"
   ]
  },
  {
   "cell_type": "code",
   "execution_count": 28,
   "metadata": {
    "id": "7KzN0-sr2Cqt"
   },
   "outputs": [
    {
     "data": {
      "text/plain": [
       "[array(['but', 'hate', 'love', 'the'], dtype='<U30')]"
      ]
     },
     "execution_count": 28,
     "metadata": {},
     "output_type": "execute_result"
    }
   ],
   "source": [
    "# Transform and then inverse transform the following text\n",
    "# Interpret the result\n",
    "text = \"I love the chocolate but I hate tea\"\n",
    "\n",
    "cv.inverse_transform(cv.transform([text]))"
   ]
  },
  {
   "cell_type": "code",
   "execution_count": 45,
   "metadata": {},
   "outputs": [
    {
     "data": {
      "text/plain": [
       "[array(['but', 'hate', 'love', 'the'], dtype='<U30')]"
      ]
     },
     "execution_count": 45,
     "metadata": {},
     "output_type": "execute_result"
    }
   ],
   "source": [
    "cv.inverse_transform(cv.transform([text]))"
   ]
  },
  {
   "cell_type": "code",
   "execution_count": 29,
   "metadata": {
    "id": "dP2JB3QR2Cqt"
   },
   "outputs": [
    {
     "name": "stderr",
     "output_type": "stream",
     "text": [
      "C:\\Users\\Polytech\\anaconda3\\lib\\site-packages\\sklearn\\linear_model\\_logistic.py:762: ConvergenceWarning: lbfgs failed to converge (status=1):\n",
      "STOP: TOTAL NO. of ITERATIONS REACHED LIMIT.\n",
      "\n",
      "Increase the number of iterations (max_iter) or scale the data as shown in:\n",
      "    https://scikit-learn.org/stable/modules/preprocessing.html\n",
      "Please also refer to the documentation for alternative solver options:\n",
      "    https://scikit-learn.org/stable/modules/linear_model.html#logistic-regression\n",
      "  n_iter_i = _check_optimize_result(\n"
     ]
    },
    {
     "data": {
      "text/plain": [
       "LogisticRegression()"
      ]
     },
     "execution_count": 29,
     "metadata": {},
     "output_type": "execute_result"
    }
   ],
   "source": [
    "# Using LogisticRegression from sklearn, fit a first model\n",
    "from sklearn.linear_model import LogisticRegression\n",
    "\n",
    "lr = LogisticRegression() # Keep default settings we will look into hyperparameters fine-tuning later on\n",
    "lr.fit(X_train_encoded, y_train)"
   ]
  },
  {
   "cell_type": "code",
   "execution_count": 30,
   "metadata": {
    "id": "mPIoyA5H2Cqu"
   },
   "outputs": [
    {
     "data": {
      "text/plain": [
       "(1000, 8991)"
      ]
     },
     "execution_count": 30,
     "metadata": {},
     "output_type": "execute_result"
    }
   ],
   "source": [
    "# Encode X_test\n",
    "X_test_encoded = cv.transform(X_test)\n",
    "X_test_encoded.shape"
   ]
  },
  {
   "cell_type": "code",
   "execution_count": 31,
   "metadata": {
    "id": "MIksonBA2Cqu"
   },
   "outputs": [
    {
     "name": "stdout",
     "output_type": "stream",
     "text": [
      "              precision    recall  f1-score   support\n",
      "\n",
      "           1       0.64      0.64      0.64       159\n",
      "           2       0.16      0.29      0.20        28\n",
      "           3       0.15      0.21      0.18        52\n",
      "           4       0.26      0.43      0.33        99\n",
      "           5       0.90      0.76      0.82       662\n",
      "\n",
      "    accuracy                           0.67      1000\n",
      "   macro avg       0.42      0.47      0.44      1000\n",
      "weighted avg       0.74      0.67      0.70      1000\n",
      "\n"
     ]
    }
   ],
   "source": [
    "# Using classification_report, evaluate the model\n",
    "from sklearn.metrics import classification_report\n",
    "\n",
    "y_pred = lr.predict(X_test_encoded)\n",
    "print(classification_report(y_pred, y_test))"
   ]
  },
  {
   "cell_type": "markdown",
   "metadata": {
    "id": "F1K-1HTE2Cqu"
   },
   "source": [
    "$$[ TO DO - Students]$$\n",
    "\n",
    "What do these outputted classsification metrics mean? Interpret these results.  You can include it at the end of the notebook for your conclusion. "
   ]
  },
  {
   "cell_type": "markdown",
   "metadata": {
    "id": "NVuZV9x62Cqv"
   },
   "source": [
    "### 2.3. A better classifier with a preprocessing\n",
    "\n",
    "It's up to you. Try to get a better score (accuracy) using what we have seen in this course:\n",
    "- efficient text pre-processing\n",
    "- choice of feature extraction\n",
    "- use of a more powerful classifier or better hyper-parameter for LogisticRegression.\n",
    "\n",
    "The training of the model must be done on the Train and the evaluation on the Test. You can of course use GridSearchCV or RandomizedSearchCV."
   ]
  },
  {
   "cell_type": "markdown",
   "metadata": {
    "id": "V9rPR4BZ2Cqv"
   },
   "source": [
    "# Some pre-processing"
   ]
  },
  {
   "cell_type": "code",
   "execution_count": 32,
   "metadata": {
    "id": "Zp-1Tl7c2Cqv"
   },
   "outputs": [],
   "source": [
    "# Write a \"clean_text\" function that accepts a text as input and returns a clean text.\n",
    "# The possible steps (take what you want) are:\n",
    "# - removal of emoji\n",
    "# - lowercase the text\n",
    "# - remove punctuation\n",
    "# - remove words containing numbers\n",
    "# - remove stop words\n",
    "# - stemming or lemmatization\n",
    "# - remove words smaller than nfrom nltk.corpus import stopwords\n",
    "import string  \n",
    "from nltk.tokenize import WhitespaceTokenizer\n",
    "from nltk.stem import WordNetLemmatizer, PorterStemmer\n",
    "from nltk.corpus import stopwords\n",
    "\n",
    "\n",
    "stemmer = PorterStemmer().stem\n",
    "\n",
    "def clean_text(text):\n",
    "    tokens = word_tokenize(text)\n",
    "    tokens = [w.lower() for w in tokens]\n",
    "    table = str.maketrans('', '', string.punctuation)\n",
    "    tokens = [w.translate(table) for w in tokens]\n",
    "    words = [word for word in tokens if word.isalpha()] #remove remaining tokens that are not alphabetic\n",
    "    stop_words = set(stopwords.words('english'))\n",
    "    return words"
   ]
  },
  {
   "cell_type": "code",
   "execution_count": 33,
   "metadata": {},
   "outputs": [
    {
     "ename": "LookupError",
     "evalue": "\n**********************************************************************\n  Resource \u001b[93mstopwords\u001b[0m not found.\n  Please use the NLTK Downloader to obtain the resource:\n\n  \u001b[31m>>> import nltk\n  >>> nltk.download('stopwords')\n  \u001b[0m\n  For more information see: https://www.nltk.org/data.html\n\n  Attempted to load \u001b[93mcorpora/stopwords\u001b[0m\n\n  Searched in:\n    - 'C:\\\\Users\\\\Polytech/nltk_data'\n    - 'C:\\\\Users\\\\Polytech\\\\anaconda3\\\\nltk_data'\n    - 'C:\\\\Users\\\\Polytech\\\\anaconda3\\\\share\\\\nltk_data'\n    - 'C:\\\\Users\\\\Polytech\\\\anaconda3\\\\lib\\\\nltk_data'\n    - 'C:\\\\Users\\\\Polytech\\\\AppData\\\\Roaming\\\\nltk_data'\n    - 'C:\\\\nltk_data'\n    - 'D:\\\\nltk_data'\n    - 'E:\\\\nltk_data'\n**********************************************************************\n",
     "output_type": "error",
     "traceback": [
      "\u001b[1;31m---------------------------------------------------------------------------\u001b[0m",
      "\u001b[1;31mLookupError\u001b[0m                               Traceback (most recent call last)",
      "\u001b[1;32m~\\anaconda3\\lib\\site-packages\\nltk\\corpus\\util.py\u001b[0m in \u001b[0;36m__load\u001b[1;34m(self)\u001b[0m\n\u001b[0;32m     82\u001b[0m                 \u001b[1;32mtry\u001b[0m\u001b[1;33m:\u001b[0m\u001b[1;33m\u001b[0m\u001b[1;33m\u001b[0m\u001b[0m\n\u001b[1;32m---> 83\u001b[1;33m                     \u001b[0mroot\u001b[0m \u001b[1;33m=\u001b[0m \u001b[0mnltk\u001b[0m\u001b[1;33m.\u001b[0m\u001b[0mdata\u001b[0m\u001b[1;33m.\u001b[0m\u001b[0mfind\u001b[0m\u001b[1;33m(\u001b[0m\u001b[1;34m\"{}/{}\"\u001b[0m\u001b[1;33m.\u001b[0m\u001b[0mformat\u001b[0m\u001b[1;33m(\u001b[0m\u001b[0mself\u001b[0m\u001b[1;33m.\u001b[0m\u001b[0msubdir\u001b[0m\u001b[1;33m,\u001b[0m \u001b[0mzip_name\u001b[0m\u001b[1;33m)\u001b[0m\u001b[1;33m)\u001b[0m\u001b[1;33m\u001b[0m\u001b[1;33m\u001b[0m\u001b[0m\n\u001b[0m\u001b[0;32m     84\u001b[0m                 \u001b[1;32mexcept\u001b[0m \u001b[0mLookupError\u001b[0m\u001b[1;33m:\u001b[0m\u001b[1;33m\u001b[0m\u001b[1;33m\u001b[0m\u001b[0m\n",
      "\u001b[1;32m~\\anaconda3\\lib\\site-packages\\nltk\\data.py\u001b[0m in \u001b[0;36mfind\u001b[1;34m(resource_name, paths)\u001b[0m\n\u001b[0;32m    584\u001b[0m     \u001b[0mresource_not_found\u001b[0m \u001b[1;33m=\u001b[0m \u001b[1;34m\"\\n%s\\n%s\\n%s\\n\"\u001b[0m \u001b[1;33m%\u001b[0m \u001b[1;33m(\u001b[0m\u001b[0msep\u001b[0m\u001b[1;33m,\u001b[0m \u001b[0mmsg\u001b[0m\u001b[1;33m,\u001b[0m \u001b[0msep\u001b[0m\u001b[1;33m)\u001b[0m\u001b[1;33m\u001b[0m\u001b[1;33m\u001b[0m\u001b[0m\n\u001b[1;32m--> 585\u001b[1;33m     \u001b[1;32mraise\u001b[0m \u001b[0mLookupError\u001b[0m\u001b[1;33m(\u001b[0m\u001b[0mresource_not_found\u001b[0m\u001b[1;33m)\u001b[0m\u001b[1;33m\u001b[0m\u001b[1;33m\u001b[0m\u001b[0m\n\u001b[0m\u001b[0;32m    586\u001b[0m \u001b[1;33m\u001b[0m\u001b[0m\n",
      "\u001b[1;31mLookupError\u001b[0m: \n**********************************************************************\n  Resource \u001b[93mstopwords\u001b[0m not found.\n  Please use the NLTK Downloader to obtain the resource:\n\n  \u001b[31m>>> import nltk\n  >>> nltk.download('stopwords')\n  \u001b[0m\n  For more information see: https://www.nltk.org/data.html\n\n  Attempted to load \u001b[93mcorpora/stopwords.zip/stopwords/\u001b[0m\n\n  Searched in:\n    - 'C:\\\\Users\\\\Polytech/nltk_data'\n    - 'C:\\\\Users\\\\Polytech\\\\anaconda3\\\\nltk_data'\n    - 'C:\\\\Users\\\\Polytech\\\\anaconda3\\\\share\\\\nltk_data'\n    - 'C:\\\\Users\\\\Polytech\\\\anaconda3\\\\lib\\\\nltk_data'\n    - 'C:\\\\Users\\\\Polytech\\\\AppData\\\\Roaming\\\\nltk_data'\n    - 'C:\\\\nltk_data'\n    - 'D:\\\\nltk_data'\n    - 'E:\\\\nltk_data'\n**********************************************************************\n",
      "\nDuring handling of the above exception, another exception occurred:\n",
      "\u001b[1;31mLookupError\u001b[0m                               Traceback (most recent call last)",
      "\u001b[1;32m<ipython-input-33-3bfb8f5b3060>\u001b[0m in \u001b[0;36m<module>\u001b[1;34m\u001b[0m\n\u001b[1;32m----> 1\u001b[1;33m \u001b[0mclean_text\u001b[0m\u001b[1;33m(\u001b[0m\u001b[1;34m\"I don't choclate\"\u001b[0m\u001b[1;33m)\u001b[0m\u001b[1;33m\u001b[0m\u001b[1;33m\u001b[0m\u001b[0m\n\u001b[0m",
      "\u001b[1;32m<ipython-input-32-26d60a363c0c>\u001b[0m in \u001b[0;36mclean_text\u001b[1;34m(text)\u001b[0m\n\u001b[0;32m     22\u001b[0m     \u001b[0mtokens\u001b[0m \u001b[1;33m=\u001b[0m \u001b[1;33m[\u001b[0m\u001b[0mw\u001b[0m\u001b[1;33m.\u001b[0m\u001b[0mtranslate\u001b[0m\u001b[1;33m(\u001b[0m\u001b[0mtable\u001b[0m\u001b[1;33m)\u001b[0m \u001b[1;32mfor\u001b[0m \u001b[0mw\u001b[0m \u001b[1;32min\u001b[0m \u001b[0mtokens\u001b[0m\u001b[1;33m]\u001b[0m\u001b[1;33m\u001b[0m\u001b[1;33m\u001b[0m\u001b[0m\n\u001b[0;32m     23\u001b[0m     \u001b[0mwords\u001b[0m \u001b[1;33m=\u001b[0m \u001b[1;33m[\u001b[0m\u001b[0mword\u001b[0m \u001b[1;32mfor\u001b[0m \u001b[0mword\u001b[0m \u001b[1;32min\u001b[0m \u001b[0mtokens\u001b[0m \u001b[1;32mif\u001b[0m \u001b[0mword\u001b[0m\u001b[1;33m.\u001b[0m\u001b[0misalpha\u001b[0m\u001b[1;33m(\u001b[0m\u001b[1;33m)\u001b[0m\u001b[1;33m]\u001b[0m \u001b[1;31m#remove remaining tokens that are not alphabetic\u001b[0m\u001b[1;33m\u001b[0m\u001b[1;33m\u001b[0m\u001b[0m\n\u001b[1;32m---> 24\u001b[1;33m     \u001b[0mstop_words\u001b[0m \u001b[1;33m=\u001b[0m \u001b[0mset\u001b[0m\u001b[1;33m(\u001b[0m\u001b[0mstopwords\u001b[0m\u001b[1;33m.\u001b[0m\u001b[0mwords\u001b[0m\u001b[1;33m(\u001b[0m\u001b[1;34m'english'\u001b[0m\u001b[1;33m)\u001b[0m\u001b[1;33m)\u001b[0m\u001b[1;33m\u001b[0m\u001b[1;33m\u001b[0m\u001b[0m\n\u001b[0m\u001b[0;32m     25\u001b[0m     \u001b[1;32mreturn\u001b[0m \u001b[0mwords\u001b[0m\u001b[1;33m\u001b[0m\u001b[1;33m\u001b[0m\u001b[0m\n",
      "\u001b[1;32m~\\anaconda3\\lib\\site-packages\\nltk\\corpus\\util.py\u001b[0m in \u001b[0;36m__getattr__\u001b[1;34m(self, attr)\u001b[0m\n\u001b[0;32m    118\u001b[0m             \u001b[1;32mraise\u001b[0m \u001b[0mAttributeError\u001b[0m\u001b[1;33m(\u001b[0m\u001b[1;34m\"LazyCorpusLoader object has no attribute '__bases__'\"\u001b[0m\u001b[1;33m)\u001b[0m\u001b[1;33m\u001b[0m\u001b[1;33m\u001b[0m\u001b[0m\n\u001b[0;32m    119\u001b[0m \u001b[1;33m\u001b[0m\u001b[0m\n\u001b[1;32m--> 120\u001b[1;33m         \u001b[0mself\u001b[0m\u001b[1;33m.\u001b[0m\u001b[0m__load\u001b[0m\u001b[1;33m(\u001b[0m\u001b[1;33m)\u001b[0m\u001b[1;33m\u001b[0m\u001b[1;33m\u001b[0m\u001b[0m\n\u001b[0m\u001b[0;32m    121\u001b[0m         \u001b[1;31m# This looks circular, but its not, since __load() changes our\u001b[0m\u001b[1;33m\u001b[0m\u001b[1;33m\u001b[0m\u001b[1;33m\u001b[0m\u001b[0m\n\u001b[0;32m    122\u001b[0m         \u001b[1;31m# __class__ to something new:\u001b[0m\u001b[1;33m\u001b[0m\u001b[1;33m\u001b[0m\u001b[1;33m\u001b[0m\u001b[0m\n",
      "\u001b[1;32m~\\anaconda3\\lib\\site-packages\\nltk\\corpus\\util.py\u001b[0m in \u001b[0;36m__load\u001b[1;34m(self)\u001b[0m\n\u001b[0;32m     83\u001b[0m                     \u001b[0mroot\u001b[0m \u001b[1;33m=\u001b[0m \u001b[0mnltk\u001b[0m\u001b[1;33m.\u001b[0m\u001b[0mdata\u001b[0m\u001b[1;33m.\u001b[0m\u001b[0mfind\u001b[0m\u001b[1;33m(\u001b[0m\u001b[1;34m\"{}/{}\"\u001b[0m\u001b[1;33m.\u001b[0m\u001b[0mformat\u001b[0m\u001b[1;33m(\u001b[0m\u001b[0mself\u001b[0m\u001b[1;33m.\u001b[0m\u001b[0msubdir\u001b[0m\u001b[1;33m,\u001b[0m \u001b[0mzip_name\u001b[0m\u001b[1;33m)\u001b[0m\u001b[1;33m)\u001b[0m\u001b[1;33m\u001b[0m\u001b[1;33m\u001b[0m\u001b[0m\n\u001b[0;32m     84\u001b[0m                 \u001b[1;32mexcept\u001b[0m \u001b[0mLookupError\u001b[0m\u001b[1;33m:\u001b[0m\u001b[1;33m\u001b[0m\u001b[1;33m\u001b[0m\u001b[0m\n\u001b[1;32m---> 85\u001b[1;33m                     \u001b[1;32mraise\u001b[0m \u001b[0me\u001b[0m\u001b[1;33m\u001b[0m\u001b[1;33m\u001b[0m\u001b[0m\n\u001b[0m\u001b[0;32m     86\u001b[0m \u001b[1;33m\u001b[0m\u001b[0m\n\u001b[0;32m     87\u001b[0m         \u001b[1;31m# Load the corpus.\u001b[0m\u001b[1;33m\u001b[0m\u001b[1;33m\u001b[0m\u001b[1;33m\u001b[0m\u001b[0m\n",
      "\u001b[1;32m~\\anaconda3\\lib\\site-packages\\nltk\\corpus\\util.py\u001b[0m in \u001b[0;36m__load\u001b[1;34m(self)\u001b[0m\n\u001b[0;32m     78\u001b[0m         \u001b[1;32melse\u001b[0m\u001b[1;33m:\u001b[0m\u001b[1;33m\u001b[0m\u001b[1;33m\u001b[0m\u001b[0m\n\u001b[0;32m     79\u001b[0m             \u001b[1;32mtry\u001b[0m\u001b[1;33m:\u001b[0m\u001b[1;33m\u001b[0m\u001b[1;33m\u001b[0m\u001b[0m\n\u001b[1;32m---> 80\u001b[1;33m                 \u001b[0mroot\u001b[0m \u001b[1;33m=\u001b[0m \u001b[0mnltk\u001b[0m\u001b[1;33m.\u001b[0m\u001b[0mdata\u001b[0m\u001b[1;33m.\u001b[0m\u001b[0mfind\u001b[0m\u001b[1;33m(\u001b[0m\u001b[1;34m\"{}/{}\"\u001b[0m\u001b[1;33m.\u001b[0m\u001b[0mformat\u001b[0m\u001b[1;33m(\u001b[0m\u001b[0mself\u001b[0m\u001b[1;33m.\u001b[0m\u001b[0msubdir\u001b[0m\u001b[1;33m,\u001b[0m \u001b[0mself\u001b[0m\u001b[1;33m.\u001b[0m\u001b[0m__name\u001b[0m\u001b[1;33m)\u001b[0m\u001b[1;33m)\u001b[0m\u001b[1;33m\u001b[0m\u001b[1;33m\u001b[0m\u001b[0m\n\u001b[0m\u001b[0;32m     81\u001b[0m             \u001b[1;32mexcept\u001b[0m \u001b[0mLookupError\u001b[0m \u001b[1;32mas\u001b[0m \u001b[0me\u001b[0m\u001b[1;33m:\u001b[0m\u001b[1;33m\u001b[0m\u001b[1;33m\u001b[0m\u001b[0m\n\u001b[0;32m     82\u001b[0m                 \u001b[1;32mtry\u001b[0m\u001b[1;33m:\u001b[0m\u001b[1;33m\u001b[0m\u001b[1;33m\u001b[0m\u001b[0m\n",
      "\u001b[1;32m~\\anaconda3\\lib\\site-packages\\nltk\\data.py\u001b[0m in \u001b[0;36mfind\u001b[1;34m(resource_name, paths)\u001b[0m\n\u001b[0;32m    583\u001b[0m     \u001b[0msep\u001b[0m \u001b[1;33m=\u001b[0m \u001b[1;34m\"*\"\u001b[0m \u001b[1;33m*\u001b[0m \u001b[1;36m70\u001b[0m\u001b[1;33m\u001b[0m\u001b[1;33m\u001b[0m\u001b[0m\n\u001b[0;32m    584\u001b[0m     \u001b[0mresource_not_found\u001b[0m \u001b[1;33m=\u001b[0m \u001b[1;34m\"\\n%s\\n%s\\n%s\\n\"\u001b[0m \u001b[1;33m%\u001b[0m \u001b[1;33m(\u001b[0m\u001b[0msep\u001b[0m\u001b[1;33m,\u001b[0m \u001b[0mmsg\u001b[0m\u001b[1;33m,\u001b[0m \u001b[0msep\u001b[0m\u001b[1;33m)\u001b[0m\u001b[1;33m\u001b[0m\u001b[1;33m\u001b[0m\u001b[0m\n\u001b[1;32m--> 585\u001b[1;33m     \u001b[1;32mraise\u001b[0m \u001b[0mLookupError\u001b[0m\u001b[1;33m(\u001b[0m\u001b[0mresource_not_found\u001b[0m\u001b[1;33m)\u001b[0m\u001b[1;33m\u001b[0m\u001b[1;33m\u001b[0m\u001b[0m\n\u001b[0m\u001b[0;32m    586\u001b[0m \u001b[1;33m\u001b[0m\u001b[0m\n\u001b[0;32m    587\u001b[0m \u001b[1;33m\u001b[0m\u001b[0m\n",
      "\u001b[1;31mLookupError\u001b[0m: \n**********************************************************************\n  Resource \u001b[93mstopwords\u001b[0m not found.\n  Please use the NLTK Downloader to obtain the resource:\n\n  \u001b[31m>>> import nltk\n  >>> nltk.download('stopwords')\n  \u001b[0m\n  For more information see: https://www.nltk.org/data.html\n\n  Attempted to load \u001b[93mcorpora/stopwords\u001b[0m\n\n  Searched in:\n    - 'C:\\\\Users\\\\Polytech/nltk_data'\n    - 'C:\\\\Users\\\\Polytech\\\\anaconda3\\\\nltk_data'\n    - 'C:\\\\Users\\\\Polytech\\\\anaconda3\\\\share\\\\nltk_data'\n    - 'C:\\\\Users\\\\Polytech\\\\anaconda3\\\\lib\\\\nltk_data'\n    - 'C:\\\\Users\\\\Polytech\\\\AppData\\\\Roaming\\\\nltk_data'\n    - 'C:\\\\nltk_data'\n    - 'D:\\\\nltk_data'\n    - 'E:\\\\nltk_data'\n**********************************************************************\n"
     ]
    }
   ],
   "source": [
    "clean_text(\"I don't choclate\")"
   ]
  },
  {
   "cell_type": "code",
   "execution_count": null,
   "metadata": {
    "id": "5hfG7bdO2Cqw"
   },
   "outputs": [],
   "source": [
    "# Clean, X_train and X_test with the previous preprocessing\n",
    "X_train_cleaned = [clean_text(r) for r in X_train]\n",
    "X_test_cleaned = [clean_text(r) for r in X_test]"
   ]
  },
  {
   "cell_type": "code",
   "execution_count": null,
   "metadata": {
    "id": "RdlYMM5w2Cqw"
   },
   "outputs": [],
   "source": [
    "# Build, Fit and Evaluate a model using the previous preprocessing\n",
    "# Did you improve the result ? \n",
    "from sklearn.feature_extraction.text import CountVectorizer\n",
    "from sklearn.metrics import accuracy_score\n",
    "\n",
    "cv = CountVectorizer(analyzer='word', binary=True)\n",
    "cv.fit(X_train_cleaned)\n",
    "X_train_encoded = cv.transform(X_train_cleaned)\n",
    "\n",
    "X_test_encoded = cv.transform(X_test_cleaned)\n",
    "\n",
    "lr = LogisticRegression()\n",
    "lr.fit(X_train_encoded, y_train)\n",
    "y_pred = lr.predict(X_test_encoded)\n",
    "\n",
    "print('accuracy score: ',accuracy_score(y_pred, y_test))"
   ]
  },
  {
   "cell_type": "markdown",
   "metadata": {
    "id": "_jUuzJuA2Cqx"
   },
   "source": [
    "### 2.4. Search hyper-parameters\n",
    "\n",
    "![GridSearch](https://i.stack.imgur.com/81Yoo.png)"
   ]
  },
  {
   "cell_type": "code",
   "execution_count": null,
   "metadata": {
    "id": "NG803sda2Cqx"
   },
   "outputs": [],
   "source": [
    "# Using Grid Search or Random Search try to find some better hyperparameters\n",
    "from nltk import word_tokenize          \n",
    "from sklearn.pipeline import Pipeline\n",
    "from sklearn.feature_extraction.text import TfidfVectorizer\n",
    "from sklearn.model_selection import RandomizedSearchCV, GridSearchCV\n",
    "\n",
    "\n",
    "# I use my own tokenizer\n",
    "class MyTokenizer:\n",
    "    def __call__(self, doc):\n",
    "        return [clean_text(t) for t in word_tokenize(doc)]\n",
    "\n",
    "# I define the pipeline\n",
    "pipeline = Pipeline([\n",
    "        ('feature_extraction',  TfidfVectorizer(tokenizer=MyTokenizer())),\n",
    "        ('classification',  LogisticRegression(multi_class='auto', max_iter=400))\n",
    "        ])\n",
    "\n",
    "# I define the parameter space\n",
    "# [TO DO - Students] Etablissez les paramètres à parcourir de votre choix pour la GridSearchCV \n",
    "parameters = {}\n",
    "parameters['feature_extraction__...'] = [...]\n",
    "parameters['feature_extraction__...'] = [...]\n",
    "parameters['feature_extraction__...'] = [...]\n",
    "\n",
    "parameters['classification__...'] = [...]\n",
    "parameters['classification__...'] = [...]\n",
    "\n",
    "\n",
    "# I use GridSearchCV to search best hyper parameter\n",
    "# I use RandomizedSearchCV to search good hyper parameter\n",
    "\n",
    "\n",
    "grid = GridSearchCV(pipeline, parameters, scoring='accuracy', cv=3, verbose=2,n_jobs=None)\n",
    "grid.fit(X_train, y_train);"
   ]
  },
  {
   "cell_type": "markdown",
   "metadata": {
    "id": "PGJC0fZz2Cqx"
   },
   "source": [
    "## 3. Summarize your conclusion here"
   ]
  },
  {
   "cell_type": "code",
   "execution_count": null,
   "metadata": {
    "id": "9H3XSpN_2Cqy"
   },
   "outputs": [],
   "source": [
    "# What is your best params\n",
    "grid.best_params_"
   ]
  },
  {
   "cell_type": "code",
   "execution_count": null,
   "metadata": {
    "id": "cWwl8eok2Cqy"
   },
   "outputs": [],
   "source": [
    "# What is your best score\n",
    "grid.best_score_"
   ]
  },
  {
   "cell_type": "code",
   "execution_count": null,
   "metadata": {
    "id": "SqqNBzQ62Cqy"
   },
   "outputs": [],
   "source": [
    "# What is your best estimator\n",
    "grid.best_estimator_"
   ]
  },
  {
   "cell_type": "markdown",
   "metadata": {
    "id": "ePj7XyI12Cqz"
   },
   "source": [
    "A random draw with balanced classes (as much data from each class) would give an accuracy of 20% (1/5). We notice that a very light pre-processing or even no pre-processing already gives much better results (around 65-66%) and that it is not easy to do much better."
   ]
  },
  {
   "cell_type": "code",
   "execution_count": null,
   "metadata": {
    "id": "BCmtw3AU2Cqz"
   },
   "outputs": [],
   "source": [
    "# Print/plot the confusion matrix\n",
    "from sklearn.metrics import plot_confusion_matrix\n",
    "\n",
    "plot_confusion_matrix(grid, X_test, y_test, normalize=='false');"
   ]
  },
  {
   "cell_type": "markdown",
   "metadata": {
    "id": "V0qxciA62Cqz"
   },
   "source": [
    "The confusion matrix helps us understand the quality of the results. On the diagonal we find the quality of the predictions for a given class:\n",
    "* Class 1 is found around 70 %.\n",
    "* Class 2, 3 have a low score < 10%.\n",
    "* Class 4 is found around 16-20 %\n",
    "* Class 5 is found more than 90 %\n",
    "\n",
    "On one line is the way the original class was found. For example for class 2 (depend the run) :\n",
    "* at 59%, the predictor says that a data of this class is of class 1\n",
    "* at 4% of the right class (the 2)\n",
    "* at 2% of class 3\n",
    "* at 4% of class 4\n",
    "* at 31% of class 5\n",
    "The sum is 100%."
   ]
  }
 ],
 "metadata": {
  "colab": {
   "collapsed_sections": [
    "VQvQni-N2Cqc",
    "NVuZV9x62Cqv"
   ],
   "name": "01-notebook-NLP-sentiment-analysis-with-LR-students.ipynb",
   "provenance": []
  },
  "kernelspec": {
   "display_name": "Python 3",
   "language": "python",
   "name": "python3"
  },
  "language_info": {
   "codemirror_mode": {
    "name": "ipython",
    "version": 3
   },
   "file_extension": ".py",
   "mimetype": "text/x-python",
   "name": "python",
   "nbconvert_exporter": "python",
   "pygments_lexer": "ipython3",
   "version": "3.8.5"
  }
 },
 "nbformat": 4,
 "nbformat_minor": 1
}
