{
 "cells": [
  {
   "cell_type": "markdown",
   "metadata": {},
   "source": [
    "## Assigments 1.1\n",
    "\n",
    "This first part of the assignments is based on the iris dataset (https://en.wikipedia.org/wiki/Iris_flower_data_set)"
   ]
  },
  {
   "cell_type": "code",
   "execution_count": 3,
   "metadata": {},
   "outputs": [
    {
     "name": "stdout",
     "output_type": "stream",
     "text": [
      "There are 4 features, whose names are: \n",
      "['sepal length (cm)', 'sepal width (cm)', 'petal length (cm)', 'petal width (cm)']\n",
      "\n",
      "There are 3 classes to predict, whose names are: \n",
      "['setosa' 'versicolor' 'virginica']\n",
      "\n",
      "There are 150 observations\n"
     ]
    }
   ],
   "source": [
    "import numpy as np\n",
    "import matplotlib.pyplot as plt\n",
    "\n",
    "# importing the data from sklearn\n",
    "from sklearn.datasets import load_iris\n",
    "iris_dataset = load_iris()\n",
    "\n",
    "# extracting the relevant information\n",
    "data = iris_dataset.data\n",
    "data_feature_names = iris_dataset.feature_names\n",
    "target = iris_dataset.target\n",
    "target_names = iris_dataset.target_names\n",
    "\n",
    "print('There are ' + str(len(data_feature_names)) + ' features, whose names are: \\n' + str(data_feature_names))\n",
    "print('\\nThere are ' + str(len(target_names)) + ' classes to predict, whose names are: \\n' + str(target_names))\n",
    "print('\\nThere are ' + str(data.shape[0]) + ' observations')"
   ]
  },
  {
   "cell_type": "code",
   "execution_count": 4,
   "metadata": {},
   "outputs": [
    {
     "data": {
      "text/plain": [
       "array([[5.1, 3.5, 1.4, 0.2],\n",
       "       [4.9, 3. , 1.4, 0.2],\n",
       "       [4.7, 3.2, 1.3, 0.2],\n",
       "       [4.6, 3.1, 1.5, 0.2],\n",
       "       [5. , 3.6, 1.4, 0.2],\n",
       "       [5.4, 3.9, 1.7, 0.4],\n",
       "       [4.6, 3.4, 1.4, 0.3],\n",
       "       [5. , 3.4, 1.5, 0.2],\n",
       "       [4.4, 2.9, 1.4, 0.2],\n",
       "       [4.9, 3.1, 1.5, 0.1],\n",
       "       [5.4, 3.7, 1.5, 0.2],\n",
       "       [4.8, 3.4, 1.6, 0.2],\n",
       "       [4.8, 3. , 1.4, 0.1],\n",
       "       [4.3, 3. , 1.1, 0.1],\n",
       "       [5.8, 4. , 1.2, 0.2],\n",
       "       [5.7, 4.4, 1.5, 0.4],\n",
       "       [5.4, 3.9, 1.3, 0.4],\n",
       "       [5.1, 3.5, 1.4, 0.3],\n",
       "       [5.7, 3.8, 1.7, 0.3],\n",
       "       [5.1, 3.8, 1.5, 0.3],\n",
       "       [5.4, 3.4, 1.7, 0.2],\n",
       "       [5.1, 3.7, 1.5, 0.4],\n",
       "       [4.6, 3.6, 1. , 0.2],\n",
       "       [5.1, 3.3, 1.7, 0.5],\n",
       "       [4.8, 3.4, 1.9, 0.2],\n",
       "       [5. , 3. , 1.6, 0.2],\n",
       "       [5. , 3.4, 1.6, 0.4],\n",
       "       [5.2, 3.5, 1.5, 0.2],\n",
       "       [5.2, 3.4, 1.4, 0.2],\n",
       "       [4.7, 3.2, 1.6, 0.2],\n",
       "       [4.8, 3.1, 1.6, 0.2],\n",
       "       [5.4, 3.4, 1.5, 0.4],\n",
       "       [5.2, 4.1, 1.5, 0.1],\n",
       "       [5.5, 4.2, 1.4, 0.2],\n",
       "       [4.9, 3.1, 1.5, 0.2],\n",
       "       [5. , 3.2, 1.2, 0.2],\n",
       "       [5.5, 3.5, 1.3, 0.2],\n",
       "       [4.9, 3.6, 1.4, 0.1],\n",
       "       [4.4, 3. , 1.3, 0.2],\n",
       "       [5.1, 3.4, 1.5, 0.2],\n",
       "       [5. , 3.5, 1.3, 0.3],\n",
       "       [4.5, 2.3, 1.3, 0.3],\n",
       "       [4.4, 3.2, 1.3, 0.2],\n",
       "       [5. , 3.5, 1.6, 0.6],\n",
       "       [5.1, 3.8, 1.9, 0.4],\n",
       "       [4.8, 3. , 1.4, 0.3],\n",
       "       [5.1, 3.8, 1.6, 0.2],\n",
       "       [4.6, 3.2, 1.4, 0.2],\n",
       "       [5.3, 3.7, 1.5, 0.2],\n",
       "       [5. , 3.3, 1.4, 0.2],\n",
       "       [7. , 3.2, 4.7, 1.4],\n",
       "       [6.4, 3.2, 4.5, 1.5],\n",
       "       [6.9, 3.1, 4.9, 1.5],\n",
       "       [5.5, 2.3, 4. , 1.3],\n",
       "       [6.5, 2.8, 4.6, 1.5],\n",
       "       [5.7, 2.8, 4.5, 1.3],\n",
       "       [6.3, 3.3, 4.7, 1.6],\n",
       "       [4.9, 2.4, 3.3, 1. ],\n",
       "       [6.6, 2.9, 4.6, 1.3],\n",
       "       [5.2, 2.7, 3.9, 1.4],\n",
       "       [5. , 2. , 3.5, 1. ],\n",
       "       [5.9, 3. , 4.2, 1.5],\n",
       "       [6. , 2.2, 4. , 1. ],\n",
       "       [6.1, 2.9, 4.7, 1.4],\n",
       "       [5.6, 2.9, 3.6, 1.3],\n",
       "       [6.7, 3.1, 4.4, 1.4],\n",
       "       [5.6, 3. , 4.5, 1.5],\n",
       "       [5.8, 2.7, 4.1, 1. ],\n",
       "       [6.2, 2.2, 4.5, 1.5],\n",
       "       [5.6, 2.5, 3.9, 1.1],\n",
       "       [5.9, 3.2, 4.8, 1.8],\n",
       "       [6.1, 2.8, 4. , 1.3],\n",
       "       [6.3, 2.5, 4.9, 1.5],\n",
       "       [6.1, 2.8, 4.7, 1.2],\n",
       "       [6.4, 2.9, 4.3, 1.3],\n",
       "       [6.6, 3. , 4.4, 1.4],\n",
       "       [6.8, 2.8, 4.8, 1.4],\n",
       "       [6.7, 3. , 5. , 1.7],\n",
       "       [6. , 2.9, 4.5, 1.5],\n",
       "       [5.7, 2.6, 3.5, 1. ],\n",
       "       [5.5, 2.4, 3.8, 1.1],\n",
       "       [5.5, 2.4, 3.7, 1. ],\n",
       "       [5.8, 2.7, 3.9, 1.2],\n",
       "       [6. , 2.7, 5.1, 1.6],\n",
       "       [5.4, 3. , 4.5, 1.5],\n",
       "       [6. , 3.4, 4.5, 1.6],\n",
       "       [6.7, 3.1, 4.7, 1.5],\n",
       "       [6.3, 2.3, 4.4, 1.3],\n",
       "       [5.6, 3. , 4.1, 1.3],\n",
       "       [5.5, 2.5, 4. , 1.3],\n",
       "       [5.5, 2.6, 4.4, 1.2],\n",
       "       [6.1, 3. , 4.6, 1.4],\n",
       "       [5.8, 2.6, 4. , 1.2],\n",
       "       [5. , 2.3, 3.3, 1. ],\n",
       "       [5.6, 2.7, 4.2, 1.3],\n",
       "       [5.7, 3. , 4.2, 1.2],\n",
       "       [5.7, 2.9, 4.2, 1.3],\n",
       "       [6.2, 2.9, 4.3, 1.3],\n",
       "       [5.1, 2.5, 3. , 1.1],\n",
       "       [5.7, 2.8, 4.1, 1.3],\n",
       "       [6.3, 3.3, 6. , 2.5],\n",
       "       [5.8, 2.7, 5.1, 1.9],\n",
       "       [7.1, 3. , 5.9, 2.1],\n",
       "       [6.3, 2.9, 5.6, 1.8],\n",
       "       [6.5, 3. , 5.8, 2.2],\n",
       "       [7.6, 3. , 6.6, 2.1],\n",
       "       [4.9, 2.5, 4.5, 1.7],\n",
       "       [7.3, 2.9, 6.3, 1.8],\n",
       "       [6.7, 2.5, 5.8, 1.8],\n",
       "       [7.2, 3.6, 6.1, 2.5],\n",
       "       [6.5, 3.2, 5.1, 2. ],\n",
       "       [6.4, 2.7, 5.3, 1.9],\n",
       "       [6.8, 3. , 5.5, 2.1],\n",
       "       [5.7, 2.5, 5. , 2. ],\n",
       "       [5.8, 2.8, 5.1, 2.4],\n",
       "       [6.4, 3.2, 5.3, 2.3],\n",
       "       [6.5, 3. , 5.5, 1.8],\n",
       "       [7.7, 3.8, 6.7, 2.2],\n",
       "       [7.7, 2.6, 6.9, 2.3],\n",
       "       [6. , 2.2, 5. , 1.5],\n",
       "       [6.9, 3.2, 5.7, 2.3],\n",
       "       [5.6, 2.8, 4.9, 2. ],\n",
       "       [7.7, 2.8, 6.7, 2. ],\n",
       "       [6.3, 2.7, 4.9, 1.8],\n",
       "       [6.7, 3.3, 5.7, 2.1],\n",
       "       [7.2, 3.2, 6. , 1.8],\n",
       "       [6.2, 2.8, 4.8, 1.8],\n",
       "       [6.1, 3. , 4.9, 1.8],\n",
       "       [6.4, 2.8, 5.6, 2.1],\n",
       "       [7.2, 3. , 5.8, 1.6],\n",
       "       [7.4, 2.8, 6.1, 1.9],\n",
       "       [7.9, 3.8, 6.4, 2. ],\n",
       "       [6.4, 2.8, 5.6, 2.2],\n",
       "       [6.3, 2.8, 5.1, 1.5],\n",
       "       [6.1, 2.6, 5.6, 1.4],\n",
       "       [7.7, 3. , 6.1, 2.3],\n",
       "       [6.3, 3.4, 5.6, 2.4],\n",
       "       [6.4, 3.1, 5.5, 1.8],\n",
       "       [6. , 3. , 4.8, 1.8],\n",
       "       [6.9, 3.1, 5.4, 2.1],\n",
       "       [6.7, 3.1, 5.6, 2.4],\n",
       "       [6.9, 3.1, 5.1, 2.3],\n",
       "       [5.8, 2.7, 5.1, 1.9],\n",
       "       [6.8, 3.2, 5.9, 2.3],\n",
       "       [6.7, 3.3, 5.7, 2.5],\n",
       "       [6.7, 3. , 5.2, 2.3],\n",
       "       [6.3, 2.5, 5. , 1.9],\n",
       "       [6.5, 3. , 5.2, 2. ],\n",
       "       [6.2, 3.4, 5.4, 2.3],\n",
       "       [5.9, 3. , 5.1, 1.8]])"
      ]
     },
     "execution_count": 4,
     "metadata": {},
     "output_type": "execute_result"
    }
   ],
   "source": [
    "data"
   ]
  },
  {
   "cell_type": "markdown",
   "metadata": {},
   "source": [
    "$\\mathbf{Exercise\\, 1.}$ Compute the median, mean and standard deviation for each of the 4 features in the iris dataset (don't use numpy or other pre-defined functions, write your own routine)."
   ]
  },
  {
   "cell_type": "code",
   "execution_count": 2,
   "metadata": {},
   "outputs": [
    {
     "name": "stdout",
     "output_type": "stream",
     "text": [
      "The mean of sepal length (cm) is 5.843333333333335\n",
      "The mean of sepal width (cm) is 3.057333333333334\n",
      "The mean of petal length (cm) is 3.7580000000000027\n",
      "The mean of petal width (cm) is 1.199333333333334\n",
      "Sample mean: 13.858\n"
     ]
    }
   ],
   "source": [
    "## Calculate the mean (Method nb 2)\n",
    "c=0\n",
    "def meanfnc(d):\n",
    "    return sum(d) / len(d)\n",
    "means = meanfnc(data)\n",
    "for i in data_feature_names:\n",
    "    print('The mean of ' + str(data_feature_names[c]) + ' is ' + str(means[c]))\n",
    "    c +=1\n",
    "    \n",
    "print(\"Sample mean: %.3f\" % sum(means))"
   ]
  },
  {
   "cell_type": "code",
   "execution_count": 3,
   "metadata": {},
   "outputs": [
    {
     "name": "stdout",
     "output_type": "stream",
     "text": [
      "[1.35 2.95 4.35 6.5 ]\n"
     ]
    }
   ],
   "source": [
    "def median(d):\n",
    "    d.sort()\n",
    "    mid = len(d) // 2\n",
    "    return (d[mid] + d[~mid]) / 2\n",
    "print(median(data))"
   ]
  },
  {
   "cell_type": "code",
   "execution_count": 4,
   "metadata": {},
   "outputs": [],
   "source": [
    "def sigma(d):\n",
    " # Number of observations\n",
    "    n = len(data)\n",
    "    # Square deviations\n",
    "    deviations = [(x - meanfnc(d)) ** 2 for x in d]\n",
    "    # Variance\n",
    "    variance = sum(deviations) / n\n",
    "    return (variance)**0.5"
   ]
  },
  {
   "cell_type": "code",
   "execution_count": 5,
   "metadata": {},
   "outputs": [
    {
     "data": {
      "text/plain": [
       "array([0.75969263, 0.72438204, 0.99107125, 0.82530129])"
      ]
     },
     "execution_count": 5,
     "metadata": {},
     "output_type": "execute_result"
    }
   ],
   "source": [
    "sigma(data)"
   ]
  },
  {
   "cell_type": "markdown",
   "metadata": {},
   "source": [
    "$\\mathbf{Exercise\\, 2.}$ For each feature, generate 150 Gaussian distributed samples with the same mean and standard_deviation computed in Exercise 1."
   ]
  },
  {
   "cell_type": "code",
   "execution_count": 6,
   "metadata": {},
   "outputs": [
    {
     "data": {
      "text/plain": [
       "(array([0.75969263, 0.72438204, 0.99107125, 0.82530129]), 0.7596926279021594)"
      ]
     },
     "execution_count": 6,
     "metadata": {},
     "output_type": "execute_result"
    }
   ],
   "source": [
    "# mu= meanfnc(data)[0]\n",
    "sig = sigma(data)\n",
    "sig\n",
    "sig, sig [0]\n",
    "# np.random.normal(mu, sigma, samples)"
   ]
  },
  {
   "cell_type": "code",
   "execution_count": 11,
   "metadata": {},
   "outputs": [],
   "source": [
    "import numpy as np\n",
    "\n",
    "mu = meanfnc(data)\n",
    "\n",
    "sig = sigma(data)\n",
    "\n",
    "samples = 150\n",
    "\n",
    "Data1 = np.random.normal(mu[0], sig[0], samples)\n",
    "Data2 = np.random.normal(mu[1], sig[1], samples)\n",
    "Data3 = np.random.normal(mu[2], sig[2], samples)\n",
    "Data4 = np.random.normal(mu[3], sig[3], samples)\n",
    "generate_sample=np.array([Data1, Data2, Data3, Data4]).T"
   ]
  },
  {
   "cell_type": "markdown",
   "metadata": {},
   "source": [
    "$\\mathbf{Exercise\\, 3.}$ Compute the histogram (with 30 bins) of the distribution of the generate samples and plot it together with the histogram of the original data. The histograms must be plotted on the same plot. Comment on the difference between simulations and real data: for which feature the distributions are most different? What is the reason? "
   ]
  },
  {
   "cell_type": "code",
   "execution_count": 30,
   "metadata": {},
   "outputs": [
    {
     "data": {
      "image/png": "[encoded data removed]",
      "text/plain": [
       "<Figure size 1440x360 with 4 Axes>"
      ]
     },
     "metadata": {
      "needs_background": "light"
     },
     "output_type": "display_data"
    }
   ],
   "source": [
    "import matplotlib.pyplot as plt\n",
    "# plt.subplot(1, 2, 1)\n",
    "fig, ((ax1, ax2)) = plt.subplots(2, 4,figsize=(20, 5))\n",
    "# using subplot function and creating plot one\n",
    "plt.subplot(1, 4, 1)  # row 1, column 2, count 1\n",
    "plt.hist(x = data[:,0], bins=30,\n",
    "                            alpha=0.7, rwidth=0.85,label=\"original data\")\n",
    "plt.hist(x = generate_sample[:,0], bins=30, label=\"generated sample\",\n",
    "                            alpha=0.7, rwidth=0.85)\n",
    "plt.legend()\n",
    "plt.title('sepal length')\n",
    "plt.xlabel('x-axis')\n",
    "plt.ylabel('y-axis')\n",
    "# using subplot function and creating plot two\n",
    "# row 1, column 2, count 2\n",
    "plt.subplot(1, 4, 2)\n",
    "# g is gor green color\n",
    "plt.hist(x = data[:,1], bins=30,label=\"original data\",\n",
    "                            alpha=0.7, rwidth=0.85)\n",
    "plt.hist(x = generate_sample[:,1], bins=30,label=\"generated sample\",\n",
    "                            alpha=0.7, rwidth=0.85)\n",
    "plt.legend()\n",
    "plt.title('sepal width')\n",
    "plt.xlabel('x-axis')\n",
    "plt.ylabel('y-axis')\n",
    "plt.subplot(1, 4, 3)\n",
    "# g is gor green color\n",
    "plt.hist(x = data[:,2], bins=30,label=\"original data\",\n",
    "                            alpha=0.7, rwidth=0.85)\n",
    "plt.hist(x = generate_sample[:,2], bins=30,label=\"generated sample\",\n",
    "                            alpha=0.7, rwidth=0.85)\n",
    "plt.legend()\n",
    "plt.title('petal length')\n",
    "plt.xlabel('x-axis')\n",
    "plt.ylabel('y-axis')\n",
    "plt.subplot(1, 4, 4)\n",
    "# g is gor green color\n",
    "plt.hist(x = data[:,3], bins=30,label=\"original data\",\n",
    "                            alpha=0.7, rwidth=0.85)\n",
    "plt.hist(x = generate_sample[:,3], bins=30,label=\"generated sample\",\n",
    "                            alpha=0.7, rwidth=0.85)\n",
    "plt.legend()\n",
    "plt.title('petal width')\n",
    "plt.xlabel('x-axis')\n",
    "plt.ylabel('y-axis')\n",
    "plt.show()"
   ]
  },
  {
   "cell_type": "markdown",
   "metadata": {},
   "source": [
    "The feature **petal length** & **sepal length** has difference distribution between \"original data\" and \"generated sample\""
   ]
  },
  {
   "cell_type": "code",
   "execution_count": 31,
   "metadata": {},
   "outputs": [
    {
     "data": {
      "image/png": "[encoded data removed]",
      "text/plain": [
       "<Figure size 864x576 with 1 Axes>"
      ]
     },
     "metadata": {
      "needs_background": "light"
     },
     "output_type": "display_data"
    }
   ],
   "source": [
    "import matplotlib.pyplot as plt\n",
    "plt.figure(figsize=(12,8))\n",
    "\n",
    "# using subplot function and creating plot one\n",
    "plt.hist(x = data, bins=30, color=['#6ba832','#c26e5b','#58babf','#2b3536'],\n",
    "                            alpha=0.7, rwidth=0.85)\n",
    "plt.hist(x = generate_sample, bins=30, color=['#2b3536','#ed406e','#e1ed40','#FF0000'],\n",
    "                            alpha=0.7, rwidth=0.85)\n",
    "plt.title('The distribution of original and generated data')\n",
    "plt.xlabel('x-axis')\n",
    "plt.ylabel('y-axis')\n",
    "plt.show()"
   ]
  },
  {
   "cell_type": "markdown",
   "metadata": {},
   "source": [
    "$\\mathbf{Exercise\\, 4.}$ Estimate and plot the probability density function of the feature $\\mbox{petal length (cm)}$.\n"
   ]
  },
  {
   "cell_type": "code",
   "execution_count": 17,
   "metadata": {},
   "outputs": [
    {
     "name": "stderr",
     "output_type": "stream",
     "text": [
      "C:\\Users\\Polytech\\anaconda3\\lib\\site-packages\\seaborn\\distributions.py:2551: FutureWarning: `distplot` is a deprecated function and will be removed in a future version. Please adapt your code to use either `displot` (a figure-level function with similar flexibility) or `kdeplot` (an axes-level function for kernel density plots).\n",
      "  warnings.warn(msg, FutureWarning)\n"
     ]
    },
    {
     "data": {
      "text/plain": [
       "<AxesSubplot:ylabel='Density'>"
      ]
     },
     "execution_count": 17,
     "metadata": {},
     "output_type": "execute_result"
    },
    {
     "data": {
      "image/png": "[encoded data removed]",
      "text/plain": [
       "<Figure size 432x288 with 1 Axes>"
      ]
     },
     "metadata": {
      "needs_background": "light"
     },
     "output_type": "display_data"
    }
   ],
   "source": [
    "import seaborn as sns\n",
    "sns.distplot(data[:,2], hist=False, kde=True, \n",
    "             bins=30, color = 'darkblue', \n",
    "             hist_kws={'edgecolor':'black'},\n",
    "             kde_kws={'linewidth': 4})"
   ]
  },
  {
   "cell_type": "markdown",
   "metadata": {},
   "source": [
    "## Assigment 1.2\n",
    "\n",
    "$\\mathbf{Exercise\\, 1.}$ Create a linear benchmark, where the dimension of the input data $X$ is 2, and the dimension of the output data $y$ is 1. Choose the amount of noise and sample size.\n",
    "\n",
    "Evaluate the prediction metrics for the following regression methods:\n",
    "\n",
    "- Linear regression\n",
    "- Support Vector Regression with RBF kernel\n",
    "- Decision Tree Regression\n"
   ]
  },
  {
   "cell_type": "code",
   "execution_count": 18,
   "metadata": {},
   "outputs": [
    {
     "name": "stdout",
     "output_type": "stream",
     "text": [
      "The linear transformation is : \n",
      "[[0 3]]\n",
      "The constant term is : \n",
      "[1]\n"
     ]
    }
   ],
   "source": [
    "n_input_dimensions = 2\n",
    "n_output_dimensions = 1\n",
    "n_samples = 50\n",
    "\n",
    "X = np.random.randn(n_input_dimensions*n_samples).reshape(n_input_dimensions,n_samples)\n",
    "\n",
    "A = np.random.randint(-5,5,n_input_dimensions*n_output_dimensions).reshape(n_output_dimensions,n_input_dimensions)\n",
    "b = np.random.randint(-20,20,n_output_dimensions)\n",
    "\n",
    "print('The linear transformation is : \\n' + str(A))\n",
    "print('The constant term is : \\n' + str(b))\n",
    "\n",
    "y = (np.dot(A,X).T + b).T\n",
    "\n",
    "noise_level = 3\n",
    "noise = noise_level * np.random.randn(n_output_dimensions*n_samples).reshape(n_output_dimensions,n_samples)\n",
    "\n",
    "y_noise = y + noise\n"
   ]
  },
  {
   "cell_type": "code",
   "execution_count": 19,
   "metadata": {},
   "outputs": [
    {
     "name": "stderr",
     "output_type": "stream",
     "text": [
      "C:\\Users\\Polytech\\anaconda3\\lib\\site-packages\\sklearn\\utils\\validation.py:993: DataConversionWarning: A column-vector y was passed when a 1d array was expected. Please change the shape of y to (n_samples, ), for example using ravel().\n",
      "  y = column_or_1d(y, warn=True)\n"
     ]
    }
   ],
   "source": [
    "from sklearn.svm import SVR\n",
    "from sklearn.tree import DecisionTreeRegressor\n",
    "from sklearn.linear_model import LinearRegression\n",
    "\n",
    "\n",
    "\n",
    "svr_rbf = SVR(kernel='rbf', C=1e3, gamma=0.1)\n",
    "# fit the model by using \n",
    "y_rbf = svr_rbf.fit(X.T,y_noise.T)\n",
    "# predict by using\n",
    "ypred_svr= svr_rbf.predict(X.T)\n",
    "\n",
    "tree = DecisionTreeRegressor(max_depth=3)\n",
    "# fit the model by using \n",
    "y_tree = tree.fit(X.T, y_noise.T)\n",
    "# # predict by using\n",
    "ypred_tree= tree.predict(X.T)\n",
    "\n",
    "reg = LinearRegression()\n",
    "\n",
    "# fit the model by using\n",
    "y_reg = reg.fit(X.T, y_noise.T)\n",
    "# predict by using\n",
    "ypred_reg= reg.predict(X.T)\n",
    "# ypred_tree"
   ]
  },
  {
   "cell_type": "markdown",
   "metadata": {},
   "source": [
    "$\\mathbf{Exercise\\, 2.}$ Create a testing dataset and assess the testing metrics for the models."
   ]
  },
  {
   "cell_type": "code",
   "execution_count": 21,
   "metadata": {},
   "outputs": [
    {
     "name": "stdout",
     "output_type": "stream",
     "text": [
      "The linear transformation is : \n",
      "[[2 1]]\n",
      "The constant term is : \n",
      "[2]\n",
      "-- Linear model --\n",
      "\n",
      "The R2 score linReg is :0.5773080967041627\n",
      "The R2 score modTree is :0.8292034070530878\n",
      "The R2 score modSvr is :0.7767196227617392\n"
     ]
    }
   ],
   "source": [
    "\n",
    "X_test = np.random.randn(n_input_dimensions*n_samples).reshape(n_input_dimensions,n_samples)\n",
    "A = np.random.randint(-5,5,n_input_dimensions*n_output_dimensions).reshape(n_output_dimensions,n_input_dimensions)\n",
    "b = np.random.randint(-20,20,n_output_dimensions)\n",
    "\n",
    "print('The linear transformation is : \\n' + str(A))\n",
    "print('The constant term is : \\n' + str(b))\n",
    "\n",
    "y_test = (np.dot(A,X_test).T + b).T\n",
    "\n",
    "noise_level = 3\n",
    "noise = noise_level * np.random.randn(n_output_dimensions*n_samples).reshape(n_output_dimensions,n_samples)\n",
    "\n",
    "y_noise_test = y_test + noise\n",
    "\n",
    "ypred_test_reg= reg.predict(X_test.T)\n",
    "ypred_test_tree= tree.predict(X_test.T)\n",
    "ypred_test_svr= svr_rbf.predict(X_test.T)\n",
    "\n",
    "def R2(y_real,y_pred):\n",
    "    y_avg = np.mean(y_real)\n",
    "    SS_tot = np.sum((y_real - y_avg)**2)\n",
    "    SS_expl = np.sum(( y_pred - y_avg)**2)\n",
    "    SS_res = np.sum((y_real - y_pred)**2)\n",
    "    return SS_expl/SS_tot, 1 - SS_res/SS_tot\n",
    "\n",
    "## linear model\n",
    "print('-- Linear model --\\n')\n",
    "print('The R2 score linReg is :' + str(R2(y_noise_test, ypred_test_reg)[0]))\n",
    "print('The R2 score modTree is :' + str(R2(y_noise_test, ypred_test_tree)[0]))\n",
    "print('The R2 score modSvr is :' + str(R2(y_noise_test, ypred_test_svr)[0]))"
   ]
  },
  {
   "cell_type": "code",
   "execution_count": 22,
   "metadata": {},
   "outputs": [
    {
     "name": "stdout",
     "output_type": "stream",
     "text": [
      "-- sklearn -- \n",
      "The RMSE linReg is 3.6986814822968492\n",
      "The MAE is linReg 3.1018542725086076\n",
      "-- sklearn -- \n",
      "The RMSE model Tree is 4.00468622096888\n",
      "The MAE model Tree is 3.3057838860862243\n",
      "-- sklearn -- \n",
      "The RMSE model SVR is 3.730689730288855\n",
      "The MAE model SVR is 13.91804586368273\n"
     ]
    }
   ],
   "source": [
    "## Equivalent sklearn code\n",
    "from sklearn.metrics import mean_absolute_error, mean_squared_error\n",
    "\n",
    "sklearn_MSE = mean_squared_error(y_noise_test.T, ypred_test_reg)\n",
    "sklearn_MAE = mean_absolute_error(y_noise_test.T, ypred_test_reg)\n",
    "\n",
    "sklearn_MSE_tree = mean_squared_error(y_noise_test.T, ypred_test_tree)\n",
    "sklearn_MAE_tree = mean_absolute_error(y_noise_test.T, ypred_test_tree)\n",
    "\n",
    "sklearn_MSE_svr = mean_squared_error(y_noise_test.T, ypred_test_svr)\n",
    "sklearn_MAE_svr = mean_absolute_error(y_noise_test.T, ypred_test_svr)\n",
    "\n",
    "print('-- sklearn -- \\nThe RMSE linReg is ' + str(np.sqrt(sklearn_MSE)))\n",
    "print('The MAE is linReg ' + str(sklearn_MAE))\n",
    "\n",
    "print('-- sklearn -- \\nThe RMSE model Tree is ' + str(np.sqrt(sklearn_MSE_tree)))\n",
    "print('The MAE model Tree is ' + str(sklearn_MAE_tree))\n",
    "\n",
    "print('-- sklearn -- \\nThe RMSE model SVR is ' + str(np.sqrt(sklearn_MSE_svr)))\n",
    "print('The MAE model SVR is ' + str(sklearn_MSE_svr))\n",
    "\n"
   ]
  },
  {
   "cell_type": "markdown",
   "metadata": {},
   "source": [
    "$\\mathbf{Exercise\\, 3.}$ Plot the regression results (training and testing) for each model"
   ]
  },
  {
   "cell_type": "code",
   "execution_count": 23,
   "metadata": {},
   "outputs": [
    {
     "data": {
      "image/png": "[encoded data removed]",
      "text/plain": [
       "<Figure size 1080x360 with 3 Axes>"
      ]
     },
     "metadata": {
      "needs_background": "light"
     },
     "output_type": "display_data"
    }
   ],
   "source": [
    "# plt.scatter(X_test,y_noise_test,marker = 'o', label = 'ground truth')\n",
    "# plt.scatter(X,lin_prediction,marker = 'x', label = 'linear prediction')\n",
    "import matplotlib.pyplot as plt\n",
    "\n",
    "fig, ((ax1, ax2)) = plt.subplots(2, 2,figsize=(15, 5))\n",
    "\n",
    "# using subplot function and creating plot one\n",
    "plt.subplot(1, 3, 1)  # row 1, column 2, count 1\n",
    "plt.scatter(y_noise, ypred_test_reg)\n",
    "\n",
    "plt.xlabel('ground truth (no noise)')\n",
    "plt.ylabel('predicted')\n",
    "plt.title('Linear reg model prediction')\n",
    "\n",
    " \n",
    "# using subplot function and creating plot two\n",
    "# row 1, column 2, count 2\n",
    "plt.subplot(1, 3, 2)\n",
    " \n",
    "# g is gor green color\n",
    "plt.scatter(y_noise, ypred_test_svr)\n",
    "plt.xlabel('ground truth (no noise)')\n",
    "plt.ylabel('predicted')\n",
    "plt.title('SVM model prediction')\n",
    "\n",
    "plt.subplot(1, 3, 3)\n",
    "plt.scatter(y_noise, ypred_tree)\n",
    "plt.xlabel('ground truth (no noise)')\n",
    "plt.ylabel('predicted')\n",
    "plt.title('SVM model prediction')\n",
    "\n",
    "\n",
    "plt.show()\n",
    "\n",
    "\n",
    "plt.show()"
   ]
  },
  {
   "cell_type": "markdown",
   "metadata": {},
   "source": [
    "$\\mathbf{Exercise\\, 4.}$ Create a classification benchmark with 3 labels.\n",
    "\n",
    "Evaluate training and testing prediction metrics for the following classification methods:\n",
    "\n",
    "- K-nearest neighbours\n",
    "- Random Forest\n",
    "- Naive Bayes"
   ]
  },
  {
   "cell_type": "code",
   "execution_count": 98,
   "metadata": {},
   "outputs": [],
   "source": [
    "from sklearn.neighbors import KNeighborsClassifier\n",
    "from sklearn.ensemble import RandomForestClassifier\n",
    "from sklearn.model_selection import train_test_split\n",
    "from sklearn.naive_bayes import GaussianNB"
   ]
  },
  {
   "cell_type": "code",
   "execution_count": 99,
   "metadata": {},
   "outputs": [],
   "source": [
    "import itertools\n",
    "from pandas.plotting import scatter_matrix\n",
    "import pandas as pd\n",
    "\n",
    "# 2-dimensional data\n",
    "n_dim = 3\n",
    "side_length = 4\n",
    "n_samples = 100\n",
    "\n",
    "x_class_1 = np.random.randn(n_dim*n_samples).reshape(n_samples, n_dim)\n",
    "x_class_2 = np.random.randn(n_dim*n_samples).reshape(n_samples, n_dim)\n",
    "x_class_3 = np.random.randn(n_dim*n_samples).reshape(n_samples, n_dim)\n",
    "\n",
    "X_data  = np.vstack([np.array([side_length,side_length,side_length]) + x_class_1, np.array([0,0,0]) + x_class_2,np.array([0,0,0])+x_class_3])\n",
    "y_data = np.hstack([np.repeat(1,n_samples),np.repeat(2,n_samples),np.repeat(3,n_samples)])\n",
    "\n"
   ]
  },
  {
   "cell_type": "code",
   "execution_count": 100,
   "metadata": {},
   "outputs": [
    {
     "data": {
      "text/plain": [
       "((300, 3), (300,))"
      ]
     },
     "execution_count": 100,
     "metadata": {},
     "output_type": "execute_result"
    }
   ],
   "source": [
    "X_data.shape, y_data.shape"
   ]
  },
  {
   "cell_type": "code",
   "execution_count": 101,
   "metadata": {},
   "outputs": [
    {
     "name": "stderr",
     "output_type": "stream",
     "text": [
      "No handles with labels found to put in legend.\n",
      "No handles with labels found to put in legend.\n",
      "No handles with labels found to put in legend.\n",
      "No handles with labels found to put in legend.\n",
      "No handles with labels found to put in legend.\n",
      "No handles with labels found to put in legend.\n"
     ]
    },
    {
     "data": {
      "text/plain": [
       "<Figure size 1080x720 with 0 Axes>"
      ]
     },
     "metadata": {},
     "output_type": "display_data"
    },
    {
     "data": {
      "image/png": "[encoded data removed]",
      "text/plain": [
       "<Figure size 432x288 with 9 Axes>"
      ]
     },
     "metadata": {
      "needs_background": "light"
     },
     "output_type": "display_data"
    }
   ],
   "source": [
    "def cluster_plot(X,y):\n",
    "    n_input_dimensions = X.shape[1]\n",
    "    n_output_dimensions = 1\n",
    "    plt.figure(figsize=(15,10))\n",
    "    fig, axes = plt.subplots(nrows = n_input_dimensions, ncols = n_input_dimensions)\n",
    "    labels = np.unique(y)\n",
    "    for i in range(n_input_dimensions):\n",
    "        for j in range(n_input_dimensions):           \n",
    "            if i==j:\n",
    "                X_lab = [X[np.where(y==c)[0],i] for c in labels]\n",
    "                df = pd.DataFrame(X_lab)\n",
    "                df = df.transpose()\n",
    "                df.columns = [str(c) for c in labels]               \n",
    "                df.plot(ax=axes[i,i], kind=\"kde\")   \n",
    "            else:\n",
    "                plt.subplot(n_input_dimensions, n_input_dimensions, i*n_input_dimensions + j + 1)\n",
    "                plt.scatter(X[:,i],X[:,j], c = y, marker = 'o')\n",
    "                plt.xlabel('X[' + str(i) + ']')\n",
    "                plt.ylabel('X[' + str(j) + ']')\n",
    "                plt.legend()\n",
    "    plt.show()\n",
    "    \n",
    "cluster_plot(X_data,y_data)"
   ]
  },
  {
   "cell_type": "code",
   "execution_count": 103,
   "metadata": {},
   "outputs": [],
   "source": [
    "X_train, X_test, y_train, y_test = train_test_split(X_data, y_data, test_size = 0.2, random_state = 0)"
   ]
  },
  {
   "cell_type": "code",
   "execution_count": 104,
   "metadata": {},
   "outputs": [],
   "source": [
    "knn =  KNeighborsClassifier(3)\n",
    "clf = RandomForestClassifier()\n",
    "clf_NB = GaussianNB()"
   ]
  },
  {
   "cell_type": "code",
   "execution_count": 106,
   "metadata": {},
   "outputs": [
    {
     "data": {
      "text/plain": [
       "GaussianNB()"
      ]
     },
     "execution_count": 106,
     "metadata": {},
     "output_type": "execute_result"
    }
   ],
   "source": [
    "knn.fit(X_train,y_train)\n",
    "clf.fit(X_train,y_train)\n",
    "clf_NB.fit(X_train,y_train)"
   ]
  },
  {
   "cell_type": "code",
   "execution_count": 119,
   "metadata": {},
   "outputs": [
    {
     "name": "stdout",
     "output_type": "stream",
     "text": [
      "Accuracy score of the training knn: 0.792\n",
      "Accuracy score of the training random forest: 1.000\n",
      "Accuracy score of the training GaussianNB: 0.688\n"
     ]
    }
   ],
   "source": [
    "print(f'Accuracy score of the training knn: {knn.score(X_train,y_train):0.3f}')\n",
    "print(f'Accuracy score of the training random forest: {clf.score(X_train,y_train):0.3f}')\n",
    "print(f'Accuracy score of the training GaussianNB: {clf_NB.score(X_train,y_train):0.3f}')\n"
   ]
  },
  {
   "cell_type": "code",
   "execution_count": 120,
   "metadata": {},
   "outputs": [],
   "source": [
    "ypred_knn= knn.predict(X_test)\n",
    "ypred_rf= clf.predict(X_test)\n",
    "ypred_clf_NB= clf_NB.predict(X_test)"
   ]
  },
  {
   "cell_type": "code",
   "execution_count": 121,
   "metadata": {},
   "outputs": [
    {
     "name": "stdout",
     "output_type": "stream",
     "text": [
      "Accuracy score of the testing knn: 0.60\n",
      "Accuracy score of the testing random forest: 0.67\n",
      "Accuracy score of the testing GaussianNB: 0.68\n"
     ]
    }
   ],
   "source": [
    "from sklearn.metrics import accuracy_score\n",
    "print(f'Accuracy score of the testing knn: {accuracy_score(y_test, ypred_knn):0.2f}')\n",
    "print(f'Accuracy score of the testing random forest: {accuracy_score(y_test, ypred_rf):0.2f}')\n",
    "print(f'Accuracy score of the testing GaussianNB: {accuracy_score(y_test, ypred_clf_NB):0.2f}')"
   ]
  }
 ],
 "metadata": {
  "kernelspec": {
   "display_name": "Python 3 (ipykernel)",
   "language": "python",
   "name": "python3"
  },
  "language_info": {
   "codemirror_mode": {
    "name": "ipython",
    "version": 3
   },
   "file_extension": ".py",
   "mimetype": "text/x-python",
   "name": "python",
   "nbconvert_exporter": "python",
   "pygments_lexer": "ipython3",
   "version": "3.8.12"
  }
 },
 "nbformat": 4,
 "nbformat_minor": 2
}
