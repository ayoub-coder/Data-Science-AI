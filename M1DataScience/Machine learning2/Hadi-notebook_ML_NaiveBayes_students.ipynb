{
 "cells": [
  {
   "cell_type": "markdown",
   "metadata": {},
   "source": [
    "# Naive Bayes classifiers"
   ]
  },
  {
   "cell_type": "markdown",
   "metadata": {},
   "source": [
    "## Naive Bayes with categorical feature from scratch\n",
    "\n",
    "The features are assumed to be generated from a simple multinomial distribution.\n",
    "The multinomial distribution describes the probability of observing counts among a number of categories, and thus multinomial naive Bayes is most appropriate for features that represent counts or count rates.\n",
    "We aim at modeling the data distribution with a best-fit multinomial distribution."
   ]
  },
  {
   "cell_type": "code",
   "execution_count": 1,
   "metadata": {},
   "outputs": [
    {
     "data": {
      "text/html": [
       "<div>\n",
       "<style scoped>\n",
       "    .dataframe tbody tr th:only-of-type {\n",
       "        vertical-align: middle;\n",
       "    }\n",
       "\n",
       "    .dataframe tbody tr th {\n",
       "        vertical-align: top;\n",
       "    }\n",
       "\n",
       "    .dataframe thead th {\n",
       "        text-align: right;\n",
       "    }\n",
       "</style>\n",
       "<table border=\"1\" class=\"dataframe\">\n",
       "  <thead>\n",
       "    <tr style=\"text-align: right;\">\n",
       "      <th></th>\n",
       "      <th>outlook</th>\n",
       "      <th>temp</th>\n",
       "      <th>humidity</th>\n",
       "      <th>windy</th>\n",
       "      <th>play</th>\n",
       "    </tr>\n",
       "  </thead>\n",
       "  <tbody>\n",
       "    <tr>\n",
       "      <th>0</th>\n",
       "      <td>sunny</td>\n",
       "      <td>hot</td>\n",
       "      <td>high</td>\n",
       "      <td>no</td>\n",
       "      <td>no</td>\n",
       "    </tr>\n",
       "    <tr>\n",
       "      <th>1</th>\n",
       "      <td>sunny</td>\n",
       "      <td>hot</td>\n",
       "      <td>high</td>\n",
       "      <td>yes</td>\n",
       "      <td>no</td>\n",
       "    </tr>\n",
       "    <tr>\n",
       "      <th>2</th>\n",
       "      <td>overcast</td>\n",
       "      <td>hot</td>\n",
       "      <td>high</td>\n",
       "      <td>no</td>\n",
       "      <td>yes</td>\n",
       "    </tr>\n",
       "    <tr>\n",
       "      <th>3</th>\n",
       "      <td>rainy</td>\n",
       "      <td>mild</td>\n",
       "      <td>high</td>\n",
       "      <td>no</td>\n",
       "      <td>yes</td>\n",
       "    </tr>\n",
       "    <tr>\n",
       "      <th>4</th>\n",
       "      <td>rainy</td>\n",
       "      <td>cool</td>\n",
       "      <td>normal</td>\n",
       "      <td>no</td>\n",
       "      <td>yes</td>\n",
       "    </tr>\n",
       "  </tbody>\n",
       "</table>\n",
       "</div>"
      ],
      "text/plain": [
       "    outlook  temp humidity windy play\n",
       "0     sunny   hot     high    no   no\n",
       "1     sunny   hot     high   yes   no\n",
       "2  overcast   hot     high    no  yes\n",
       "3     rainy  mild     high    no  yes\n",
       "4     rainy  cool   normal    no  yes"
      ]
     },
     "execution_count": 1,
     "metadata": {},
     "output_type": "execute_result"
    }
   ],
   "source": [
    "\"\"\"\n",
    "\n",
    "First let us design a simple dataset taking into account weather related features:\n",
    "    - outlook in {'sunny', 'overcast', 'rainy'}\n",
    "    - temp: level of temperature {'hot','cool','mild'}\n",
    "    - humidity: level of humidity {'high', 'normal'}\n",
    "    - windy: either it is windy are not {'yes','no'}\n",
    "Then we aim at predicting either a tennis match can be played or not. \"play\" in {'yes','no'}.\n",
    "\n",
    "\n",
    "\"\"\"\n",
    "import seaborn as sns\n",
    "import pandas as pd\n",
    "from sklearn import preprocessing\n",
    "\n",
    "outlook=['sunny', 'overcast', 'rain']\n",
    "temperature=['hot', 'mild', 'cold']\n",
    "humidity=['high', 'normal']\n",
    "wind=['yes', 'no']\n",
    "play=['yes', 'no']\n",
    "\n",
    "dataset=[[\"outlook\", \"temp\", \"humidity\", \"windy\", \"play\"],\n",
    "    [\"sunny\", \"hot\", \"high\", \"no\", \"no\"],\n",
    "    [\"sunny\", \"hot\", \"high\", \"yes\", \"no\"],\n",
    "    [\"overcast\", \"hot\", \"high\", \"no\", \"yes\"],\n",
    "    [\"rainy\", \"mild\", \"high\", \"no\", \"yes\"],\n",
    "    [\"rainy\", \"cool\", \"normal\", \"no\", \"yes\"],\n",
    "    [\"rainy\", \"cool\", \"normal\", \"yes\", \"no\"],\n",
    "    [\"overcast\", \"cool\", \"normal\", \"yes\", \"yes\"],\n",
    "    [\"sunny\", \"mild\", \"high\", \"no\", \"no\"],\n",
    "    [\"sunny\", \"cool\", \"normal\", \"no\", \"yes\"],\n",
    "    [\"rainy\", \"mild\", \"normal\", \"no\", \"yes\"],\n",
    "    [\"sunny\", \"mild\", \"normal\", \"yes\", \"yes\"],\n",
    "    [\"overcast\", \"mild\", \"high\", \"yes\", \"yes\"],\n",
    "    [\"overcast\", \"hot\", \"normal\", \"no\", \"yes\"],\n",
    "    [\"rainy\", \"mild\", \"high\", \"yes\", \"no\"]]\n",
    "\n",
    "df = pd.DataFrame(dataset[1:], columns=dataset[0])\n",
    "df.head()"
   ]
  },
  {
   "cell_type": "markdown",
   "metadata": {},
   "source": [
    " [To do Students]: Complete the following functions"
   ]
  },
  {
   "cell_type": "code",
   "execution_count": 2,
   "metadata": {},
   "outputs": [
    {
     "data": {
      "text/plain": [
       "'no'"
      ]
     },
     "execution_count": 2,
     "metadata": {},
     "output_type": "execute_result"
    }
   ],
   "source": [
    "def prior_probability(play_outcome):\n",
    "    \"\"\"\n",
    "    input:\n",
    "        - play_outcome: string taking values in ['yes','no']\n",
    "    output:\n",
    "        - prior probability P(play = play_outcome)\n",
    "    \"\"\"\n",
    "    m = 0\n",
    "    for i in df['play']:\n",
    "        if i==play:\n",
    "            m += 1\n",
    "    return m/len(df['play'])\n",
    "def likelihood(feature_name, feature_value, play_outcome):\n",
    "    \"\"\"\n",
    "    inputs:\n",
    "        feature_name: string with values in df column names\n",
    "        feature_value: given value of the variable corresponding to feature_name\n",
    "        play_outcome: outcome of target variable \"play\"\n",
    "    output:\n",
    "        Compute the conditional probability P(feature_name = feature_value|play= play_outcome)\n",
    "    \"\"\"\n",
    "    m=0\n",
    "    for i, j in zip(df[feature_name],df['play']):\n",
    "        if j == play and i == feature_value:\n",
    "            m += 1\n",
    "    return m/len(df['play'])\n",
    "def predict_play_outcome(outlook,temp,humidity,windy):\n",
    "    \"\"\"\n",
    "    inputs:\n",
    "        outlook: value of outlook for a given observation\n",
    "        temp: value of outlook for a given observation\n",
    "        humidity: value of outlook for a given observation\n",
    "        windy: value of outlook for a given observation\n",
    "    Outputs:\n",
    "        predicted label by multinomial naive bayes for the given observation (outlook,temp,humidity,windy)\n",
    "\"\"\"\n",
    "    # Get the outcome prob for the the yes and no cases. Likelyhood* prior prob \n",
    "    P_yes= likelihood(['outlook', 'temp', 'humidity', 'windy'], df.iloc[:,:-1], df.iloc[:,4:]) * prior_probability(df.iloc[:,4:])\n",
    "    P_no= likelihood(['outlook', 'temp', 'humidity', 'windy'], df.iloc[:,:-1], df.iloc[:,4:]) * prior_probability(df.iloc[:,4:])\n",
    "    if P_yes >= 0.5:\n",
    "        return 'yes'\n",
    "    else:\n",
    "        return 'no'\n",
    "predict_play_outcome('sunny', 'cool', 'high', 'yes')\n"
   ]
  },
  {
   "cell_type": "markdown",
   "metadata": {},
   "source": [
    "## The same using sklearn library\n",
    "\n",
    "All features are categorical, we need to use Multinomial Naive Bayes.\n",
    "\n",
    "* Step 1: encode the feature in categories (MultinomialNB doesn't work with string)\n",
    "* Step 2: fit MultinomialNB\n",
    "* Step 3: predict with MultinomialNB"
   ]
  },
  {
   "cell_type": "code",
   "execution_count": 3,
   "metadata": {},
   "outputs": [
    {
     "data": {
      "text/html": [
       "<div>\n",
       "<style scoped>\n",
       "    .dataframe tbody tr th:only-of-type {\n",
       "        vertical-align: middle;\n",
       "    }\n",
       "\n",
       "    .dataframe tbody tr th {\n",
       "        vertical-align: top;\n",
       "    }\n",
       "\n",
       "    .dataframe thead th {\n",
       "        text-align: right;\n",
       "    }\n",
       "</style>\n",
       "<table border=\"1\" class=\"dataframe\">\n",
       "  <thead>\n",
       "    <tr style=\"text-align: right;\">\n",
       "      <th></th>\n",
       "      <th>outlook</th>\n",
       "      <th>temp</th>\n",
       "      <th>humidity</th>\n",
       "      <th>windy</th>\n",
       "      <th>play</th>\n",
       "    </tr>\n",
       "  </thead>\n",
       "  <tbody>\n",
       "    <tr>\n",
       "      <th>0</th>\n",
       "      <td>2</td>\n",
       "      <td>1</td>\n",
       "      <td>0</td>\n",
       "      <td>0</td>\n",
       "      <td>0</td>\n",
       "    </tr>\n",
       "    <tr>\n",
       "      <th>1</th>\n",
       "      <td>2</td>\n",
       "      <td>1</td>\n",
       "      <td>0</td>\n",
       "      <td>1</td>\n",
       "      <td>0</td>\n",
       "    </tr>\n",
       "    <tr>\n",
       "      <th>2</th>\n",
       "      <td>0</td>\n",
       "      <td>1</td>\n",
       "      <td>0</td>\n",
       "      <td>0</td>\n",
       "      <td>1</td>\n",
       "    </tr>\n",
       "    <tr>\n",
       "      <th>3</th>\n",
       "      <td>1</td>\n",
       "      <td>2</td>\n",
       "      <td>0</td>\n",
       "      <td>0</td>\n",
       "      <td>1</td>\n",
       "    </tr>\n",
       "    <tr>\n",
       "      <th>4</th>\n",
       "      <td>1</td>\n",
       "      <td>0</td>\n",
       "      <td>1</td>\n",
       "      <td>0</td>\n",
       "      <td>1</td>\n",
       "    </tr>\n",
       "  </tbody>\n",
       "</table>\n",
       "</div>"
      ],
      "text/plain": [
       "   outlook  temp  humidity  windy  play\n",
       "0        2     1         0      0     0\n",
       "1        2     1         0      1     0\n",
       "2        0     1         0      0     1\n",
       "3        1     2         0      0     1\n",
       "4        1     0         1      0     1"
      ]
     },
     "execution_count": 3,
     "metadata": {},
     "output_type": "execute_result"
    }
   ],
   "source": [
    "from sklearn.preprocessing import LabelEncoder\n",
    "\n",
    "# instantiate labelencoder object\n",
    "le = LabelEncoder()\n",
    "\n",
    "# fit_transform the dataset\n",
    "df_enc = df.apply(lambda col: le.fit_transform(col))\n",
    "df_enc.head()"
   ]
  },
  {
   "cell_type": "markdown",
   "metadata": {},
   "source": [
    "[To do Students]:\n",
    "- Learn multinomial Naive Bayes using sklearn without and with Laplace smoothing. Plus detail available model hyperparameters of the sklearn implementation.\n",
    "- Compare predicted probabilities and label on df_test\n",
    "- Design an example to highlight importance of Laplace smoothing.\n"
   ]
  },
  {
   "cell_type": "code",
   "execution_count": 4,
   "metadata": {},
   "outputs": [],
   "source": [
    "# 1. import\n",
    "from sklearn.naive_bayes import MultinomialNB\n",
    "\n",
    "# 2. instantiate a Multinomial Naive Bayes model\n",
    "nb = MultinomialNB()"
   ]
  },
  {
   "cell_type": "code",
   "execution_count": 5,
   "metadata": {},
   "outputs": [
    {
     "data": {
      "text/html": [
       "<div>\n",
       "<style scoped>\n",
       "    .dataframe tbody tr th:only-of-type {\n",
       "        vertical-align: middle;\n",
       "    }\n",
       "\n",
       "    .dataframe tbody tr th {\n",
       "        vertical-align: top;\n",
       "    }\n",
       "\n",
       "    .dataframe thead th {\n",
       "        text-align: right;\n",
       "    }\n",
       "</style>\n",
       "<table border=\"1\" class=\"dataframe\">\n",
       "  <thead>\n",
       "    <tr style=\"text-align: right;\">\n",
       "      <th></th>\n",
       "      <th>outlook</th>\n",
       "      <th>temp</th>\n",
       "      <th>humidity</th>\n",
       "      <th>windy</th>\n",
       "    </tr>\n",
       "  </thead>\n",
       "  <tbody>\n",
       "    <tr>\n",
       "      <th>0</th>\n",
       "      <td>0</td>\n",
       "      <td>0</td>\n",
       "      <td>0</td>\n",
       "      <td>0</td>\n",
       "    </tr>\n",
       "  </tbody>\n",
       "</table>\n",
       "</div>"
      ],
      "text/plain": [
       "   outlook  temp  humidity  windy\n",
       "0        0     0         0      0"
      ]
     },
     "execution_count": 5,
     "metadata": {},
     "output_type": "execute_result"
    }
   ],
   "source": [
    "# Build new item for prediction\n",
    "df_test = pd.DataFrame(data=[['sunny', 'cool', 'high', 'yes']],\n",
    "                    columns=['outlook', 'temp', 'humidity', 'windy'])\n",
    "\n",
    "# fit_transform the dataset\n",
    "df_test_enc = df_test.apply(lambda col: le.fit_transform(col))\n",
    "df_test_enc.head()"
   ]
  },
  {
   "cell_type": "code",
   "execution_count": 6,
   "metadata": {},
   "outputs": [
    {
     "name": "stderr",
     "output_type": "stream",
     "text": [
      "C:\\Users\\Polytech\\anaconda3\\lib\\site-packages\\sklearn\\utils\\validation.py:993: DataConversionWarning: A column-vector y was passed when a 1d array was expected. Please change the shape of y to (n_samples, ), for example using ravel().\n",
      "  y = column_or_1d(y, warn=True)\n"
     ]
    }
   ],
   "source": [
    "# Fit the model (Multinomial)\n",
    "fitted_model = nb.fit(df_enc.iloc[:,:4],df_enc.iloc[:,4:5])\n",
    "\n",
    "# fitted_model.tr\n",
    "# df_enc.iloc[:,4:5]"
   ]
  },
  {
   "cell_type": "code",
   "execution_count": 7,
   "metadata": {},
   "outputs": [
    {
     "data": {
      "text/plain": [
       "array([1])"
      ]
     },
     "execution_count": 7,
     "metadata": {},
     "output_type": "execute_result"
    }
   ],
   "source": [
    "# get the prediction\n",
    "y_pred = fitted_model.predict(df_test_enc)\n",
    "y_pred"
   ]
  },
  {
   "cell_type": "code",
   "execution_count": 27,
   "metadata": {},
   "outputs": [
    {
     "data": {
      "text/html": [
       "<div>\n",
       "<style scoped>\n",
       "    .dataframe tbody tr th:only-of-type {\n",
       "        vertical-align: middle;\n",
       "    }\n",
       "\n",
       "    .dataframe tbody tr th {\n",
       "        vertical-align: top;\n",
       "    }\n",
       "\n",
       "    .dataframe thead th {\n",
       "        text-align: right;\n",
       "    }\n",
       "</style>\n",
       "<table border=\"1\" class=\"dataframe\">\n",
       "  <thead>\n",
       "    <tr style=\"text-align: right;\">\n",
       "      <th></th>\n",
       "      <th>outlook</th>\n",
       "      <th>temp</th>\n",
       "      <th>humidity</th>\n",
       "      <th>windy</th>\n",
       "    </tr>\n",
       "  </thead>\n",
       "  <tbody>\n",
       "    <tr>\n",
       "      <th>0</th>\n",
       "      <td>0</td>\n",
       "      <td>0</td>\n",
       "      <td>0</td>\n",
       "      <td>0</td>\n",
       "    </tr>\n",
       "  </tbody>\n",
       "</table>\n",
       "</div>"
      ],
      "text/plain": [
       "   outlook  temp  humidity  windy\n",
       "0        0     0         0      0"
      ]
     },
     "execution_count": 27,
     "metadata": {},
     "output_type": "execute_result"
    }
   ],
   "source": [
    "df_test_enc"
   ]
  },
  {
   "cell_type": "markdown",
   "metadata": {},
   "source": [
    "## Multinomial Naive Bays: text classification\n",
    "\n",
    "\n",
    "One place where multinomial naive Bayes is often used is in text classification, where the features are related to word counts or frequencies within the documents to be classified.\n",
    "We discussed the extraction of such features from text in [Feature Engineering](05.04-Feature-Engineering.ipynb); here we will use the sparse word count features from the 20 Newsgroups corpus to show how we might classify these short documents into categories.\n",
    "\n",
    "Let's download the data and take a look at the target names:"
   ]
  },
  {
   "cell_type": "code",
   "execution_count": 8,
   "metadata": {},
   "outputs": [
    {
     "data": {
      "text/plain": [
       "['alt.atheism',\n",
       " 'comp.graphics',\n",
       " 'comp.os.ms-windows.misc',\n",
       " 'comp.sys.ibm.pc.hardware',\n",
       " 'comp.sys.mac.hardware',\n",
       " 'comp.windows.x',\n",
       " 'misc.forsale',\n",
       " 'rec.autos',\n",
       " 'rec.motorcycles',\n",
       " 'rec.sport.baseball',\n",
       " 'rec.sport.hockey',\n",
       " 'sci.crypt',\n",
       " 'sci.electronics',\n",
       " 'sci.med',\n",
       " 'sci.space',\n",
       " 'soc.religion.christian',\n",
       " 'talk.politics.guns',\n",
       " 'talk.politics.mideast',\n",
       " 'talk.politics.misc',\n",
       " 'talk.religion.misc']"
      ]
     },
     "execution_count": 8,
     "metadata": {},
     "output_type": "execute_result"
    }
   ],
   "source": [
    "from sklearn.datasets import fetch_20newsgroups\n",
    "\n",
    "data = fetch_20newsgroups()\n",
    "data.target_names"
   ]
  },
  {
   "cell_type": "markdown",
   "metadata": {},
   "source": [
    "For simplicity here, we will select just a few of these categories, and download the training and testing set:"
   ]
  },
  {
   "cell_type": "code",
   "execution_count": 9,
   "metadata": {},
   "outputs": [],
   "source": [
    "categories = ['talk.religion.misc', 'soc.religion.christian',\n",
    "              'sci.space', 'comp.graphics']\n",
    "train = fetch_20newsgroups(subset='train', categories=categories)\n",
    "test = fetch_20newsgroups(subset='test', categories=categories)"
   ]
  },
  {
   "cell_type": "code",
   "execution_count": 10,
   "metadata": {},
   "outputs": [
    {
     "name": "stdout",
     "output_type": "stream",
     "text": [
      "From: dmcgee@uluhe.soest.hawaii.edu (Don McGee)\n",
      "Subject: Federal Hearing\n",
      "Originator: dmcgee@uluhe\n",
      "Organization: School of Ocean and Earth Science and Technology\n",
      "Distribution: usa\n",
      "Lines: 10\n",
      "\n",
      "\n",
      "Fact or rumor....?  Madalyn Murray O'Hare an atheist who eliminated the\n",
      "use of the bible reading and prayer in public schools 15 years ago is now\n",
      "going to appear before the FCC with a petition to stop the reading of the\n",
      "Gospel on the airways of America.  And she is also campaigning to remove\n",
      "Christmas programs, songs, etc from the public schools.  If it is true\n",
      "then mail to Federal Communications Commission 1919 H Street Washington DC\n",
      "20054 expressing your opposition to her request.  Reference Petition number\n",
      "\n",
      "2493.\n",
      "\n"
     ]
    }
   ],
   "source": [
    "print(train.data[5])"
   ]
  },
  {
   "cell_type": "markdown",
   "metadata": {},
   "source": [
    "In order to use this data for machine learning, we need to be able to convert the content of each string into a vector of numbers.\n",
    "For this we will use the well-known TF-IDF vectorizer, and create a pipeline that attaches it to a multinomial naive Bayes classifier:"
   ]
  },
  {
   "cell_type": "code",
   "execution_count": 11,
   "metadata": {},
   "outputs": [],
   "source": [
    "from sklearn.feature_extraction.text import TfidfVectorizer\n",
    "from sklearn.naive_bayes import MultinomialNB\n",
    "from sklearn.pipeline import make_pipeline\n",
    "\n",
    "model = make_pipeline(TfidfVectorizer(), MultinomialNB())"
   ]
  },
  {
   "cell_type": "markdown",
   "metadata": {},
   "source": [
    "With this pipeline, we can apply the model to the training data, and predict labels for the test data:"
   ]
  },
  {
   "cell_type": "code",
   "execution_count": 12,
   "metadata": {},
   "outputs": [],
   "source": [
    "model.fit(train.data, train.target)\n",
    "labels = model.predict(test.data)"
   ]
  },
  {
   "cell_type": "markdown",
   "metadata": {},
   "source": [
    "Now that we have predicted the labels for the test data, we can evaluate them to learn about the performance of the estimator.\n",
    "For example, here is the confusion matrix between the true and predicted labels for the test data:"
   ]
  },
  {
   "cell_type": "code",
   "execution_count": 13,
   "metadata": {},
   "outputs": [
    {
     "data": {
      "image/png": "[encoded data removed]",
      "text/plain": [
       "<Figure size 432x288 with 1 Axes>"
      ]
     },
     "metadata": {
      "needs_background": "light"
     },
     "output_type": "display_data"
    }
   ],
   "source": [
    "from sklearn.metrics import confusion_matrix\n",
    "import matplotlib.pyplot as plt\n",
    "mat = confusion_matrix(test.target, labels)\n",
    "sns.heatmap(mat.T, square=True, annot=True, fmt='d', cbar=False,\n",
    "            xticklabels=train.target_names, yticklabels=train.target_names)\n",
    "plt.xlabel('true label')\n",
    "plt.ylabel('predicted label');"
   ]
  },
  {
   "cell_type": "markdown",
   "metadata": {},
   "source": [
    "Evidently, even this very simple classifier can successfully separate space talk from computer talk, but it gets confused between talk about religion and talk about Christianity.\n",
    "This is perhaps an expected area of confusion!\n",
    "\n",
    "The very cool thing here is that we now have the tools to determine the category for *any* string, using the ``predict()`` method of this pipeline.\n",
    "Here's a quick utility function that will return the prediction for a single string:"
   ]
  },
  {
   "cell_type": "code",
   "execution_count": 14,
   "metadata": {},
   "outputs": [],
   "source": [
    "def predict_category(s, train=train, model=model):\n",
    "    pred = model.predict([s])\n",
    "    return train.target_names[pred[0]]"
   ]
  },
  {
   "cell_type": "code",
   "execution_count": 15,
   "metadata": {},
   "outputs": [
    {
     "data": {
      "text/plain": [
       "'sci.space'"
      ]
     },
     "execution_count": 15,
     "metadata": {},
     "output_type": "execute_result"
    }
   ],
   "source": [
    "predict_category('sending a payload to the ISS')"
   ]
  },
  {
   "cell_type": "code",
   "execution_count": 16,
   "metadata": {},
   "outputs": [
    {
     "data": {
      "text/plain": [
       "'comp.graphics'"
      ]
     },
     "execution_count": 16,
     "metadata": {},
     "output_type": "execute_result"
    }
   ],
   "source": [
    "predict_category('determining the screen resolution')"
   ]
  },
  {
   "cell_type": "markdown",
   "metadata": {},
   "source": [
    "Remember that this is nothing more sophisticated than a simple probability model for the (weighted) frequency of each word in the string; nevertheless, the result is striking.\n",
    "Even a very naive algorithm, when used carefully and trained on a large set of high-dimensional data, can be surprisingly effective."
   ]
  },
  {
   "cell_type": "markdown",
   "metadata": {},
   "source": [
    "## Naive Bayes with continuous data from scratch"
   ]
  },
  {
   "cell_type": "markdown",
   "metadata": {},
   "source": [
    "For continuous data we assume the conditional probabilities P(X|Y) to follow gaussian distributions. "
   ]
  },
  {
   "cell_type": "code",
   "execution_count": 17,
   "metadata": {},
   "outputs": [],
   "source": [
    "''' Define the dataset '''\n",
    "import numpy as np\n",
    "\n",
    "Yes=[25.2,19.3,18.5,21.7,20.1,24.3,22.8,23.1,19.8]\n",
    "No=[27.3,30.1,17.4,29.5,15.1]"
   ]
  },
  {
   "cell_type": "markdown",
   "metadata": {},
   "source": [
    "[TO DO STUDENTS]\n",
    "\n",
    "- Implement the computation of first and second moments of the continuous feature for each class.\n",
    "- Implement the computation of the posterior probability P(Y|X)"
   ]
  },
  {
   "cell_type": "code",
   "execution_count": 18,
   "metadata": {},
   "outputs": [],
   "source": [
    "from scipy import stats"
   ]
  },
  {
   "cell_type": "code",
   "execution_count": 19,
   "metadata": {},
   "outputs": [
    {
     "data": {
      "text/plain": [
       "(21.644444444444446, 23.880000000000003)"
      ]
     },
     "execution_count": 19,
     "metadata": {},
     "output_type": "execute_result"
    }
   ],
   "source": [
    "# first moment \n",
    "np.mean(Yes) , np.mean(No)"
   ]
  },
  {
   "cell_type": "code",
   "execution_count": 20,
   "metadata": {},
   "outputs": [
    {
     "data": {
      "text/plain": [
       "(4.924691358024691, 40.20960000000001)"
      ]
     },
     "execution_count": 20,
     "metadata": {},
     "output_type": "execute_result"
    }
   ],
   "source": [
    "# Second moment \n",
    "np.var(Yes), np.var(No)"
   ]
  },
  {
   "cell_type": "code",
   "execution_count": 21,
   "metadata": {},
   "outputs": [
    {
     "name": "stdout",
     "output_type": "stream",
     "text": [
      "\n",
      "1st moment for Yes : 0.0\n",
      "\n",
      "1st moment for No : 0.0\n",
      "\n",
      "2nd moment for Yes : 4.924691358024691\n",
      "\n",
      "2nd moment for No : 40.20960000000001\n"
     ]
    }
   ],
   "source": [
    "# Or using the stats library \n",
    "\n",
    "print(\"\\n1st moment for Yes :\", stats.moment(Yes, moment = 1))\n",
    "print(\"\\n1st moment for No :\", stats.moment(No, moment = 1))  \n",
    "\n",
    "print(\"\\n2nd moment for Yes :\", stats.moment(Yes, moment = 2))\n",
    "print(\"\\n2nd moment for No :\", stats.moment(No, moment = 2))  \n",
    "# print(\"\\n9th moment : \\n\", stats.moment(arr1, moment = 9, axis = None))"
   ]
  },
  {
   "cell_type": "code",
   "execution_count": 43,
   "metadata": {},
   "outputs": [],
   "source": [
    "''' Calculate the posterior probability P(Y|X) '''\n",
    "# it is equal to nb(Y)/nb(Y)+nb(X)\n",
    "def P(x, y=True):\n",
    "    posterior_probability = len(x)/(len(x)+len(y))\n",
    "    return posterior_probability"
   ]
  },
  {
   "cell_type": "code",
   "execution_count": 44,
   "metadata": {},
   "outputs": [],
   "source": [
    "# # %%\n",
    "# \"\"\" Calculate the posterior probability P(Y|X) \"\"\"\n",
    "\n",
    "\n",
    "# def P(x, y=True):\n",
    "#     yes_mean = np.mean(Yes)\n",
    "#     yes_var = np.var(Yes)\n",
    "#     proba_yes = stats.norm.pdf(\n",
    "#         x=x,\n",
    "#         loc=yes_mean,\n",
    "#         scale=yes_var,\n",
    "#     )\n",
    "\n",
    "#     no_mean = np.mean(No)\n",
    "#     no_var = np.var(No)\n",
    "#     proba_no = stats.norm.pdf(\n",
    "#         x=x,\n",
    "#         loc=no_mean,\n",
    "#         scale=no_var,\n",
    "#     )\n",
    "#     if y == True:\n",
    "#         return \"yes\"\n",
    "#     elif y == False:\n",
    "#         return \"no\"\n",
    "#     return dict(zip([\"yes\", \"no\"], [proba_yes, proba_no]))\n",
    "\n",
    "\n",
    "# P(22)\n"
   ]
  },
  {
   "cell_type": "code",
   "execution_count": 45,
   "metadata": {},
   "outputs": [
    {
     "data": {
      "text/plain": [
       "(0.35714285714285715, 0.6428571428571429)"
      ]
     },
     "execution_count": 45,
     "metadata": {},
     "output_type": "execute_result"
    }
   ],
   "source": [
    "P(No, Yes) , P(Yes,No)"
   ]
  },
  {
   "cell_type": "code",
   "execution_count": 46,
   "metadata": {},
   "outputs": [
    {
     "data": {
      "image/png": "[encoded data removed]",
      "text/plain": [
       "<Figure size 432x288 with 1 Axes>"
      ]
     },
     "metadata": {
      "needs_background": "light"
     },
     "output_type": "display_data"
    }
   ],
   "source": [
    "''' Plot the boundaries '''\n",
    "import matplotlib.pyplot as plt\n",
    "import math\n",
    "%matplotlib inline\n",
    "\n",
    "x_min, x_max = min(Yes+No)-1, max(Yes+No)+1\n",
    "\n",
    "plt.plot(Yes, np.zeros_like(Yes),'ro')\n",
    "plt.plot(No, np.zeros_like(No),'bo')\n",
    "\n",
    "xx=np.linspace(x_min,x_max,100)\n",
    "# get zz and fix the if statement\n",
    "zz=[1 if P(Yes, No)>=P(No, Yes) else 0 for x in xx]\n",
    "\n",
    "plt.contourf(xx, [-0.05, 0.05], [zz, zz], alpha=0.3);\n"
   ]
  },
  {
   "cell_type": "markdown",
   "metadata": {},
   "source": [
    "## Naive Bayes with continous using sklearn library\n",
    "\n",
    "Data are continous, we use Gaussian Naive Bayes"
   ]
  },
  {
   "cell_type": "code",
   "execution_count": 47,
   "metadata": {},
   "outputs": [],
   "source": [
    "from sklearn.naive_bayes import GaussianNB\n",
    "\n",
    "X = np.array([Yes + No]).reshape(-1, 1)\n",
    "y = [1]*len(Yes)+[0]*len(No)\n",
    "\n",
    "\"\"\"\n",
    "[TO DO STUDENTS]\n",
    "Learn a Gaussian Naive Bayes classifier using sklearn implementation on this data (X,y)\n",
    "\"\"\"\n",
    "# Initialize the Gaussian Naive Bayes\n",
    "clf = GaussianNB(priors=None, var_smoothing=-0.08)\n",
    "# fit the model\n",
    "fitted_model = clf.fit(X, y)"
   ]
  },
  {
   "cell_type": "code",
   "execution_count": 48,
   "metadata": {},
   "outputs": [
    {
     "data": {
      "image/png": "[encoded data removed]",
      "text/plain": [
       "<Figure size 432x288 with 1 Axes>"
      ]
     },
     "metadata": {
      "needs_background": "light"
     },
     "output_type": "display_data"
    }
   ],
   "source": [
    "xx=np.linspace(x_min,x_max,1000).reshape(-1, 1)\n",
    "zz = fitted_model.predict(xx).tolist()\n",
    "\n",
    "plt.plot(Yes, np.zeros_like(Yes),'ro')\n",
    "plt.plot(No, np.zeros_like(No),'bo')\n",
    "plt.contourf(xx.ravel().tolist(), [-0.05, 0.05], [zz, zz], alpha=0.3);"
   ]
  },
  {
   "cell_type": "code",
   "execution_count": null,
   "metadata": {},
   "outputs": [],
   "source": []
  }
 ],
 "metadata": {
  "kernelspec": {
   "display_name": "Python 3",
   "language": "python",
   "name": "python3"
  },
  "language_info": {
   "codemirror_mode": {
    "name": "ipython",
    "version": 3
   },
   "file_extension": ".py",
   "mimetype": "text/x-python",
   "name": "python",
   "nbconvert_exporter": "python",
   "pygments_lexer": "ipython3",
   "version": "3.8.5"
  }
 },
 "nbformat": 4,
 "nbformat_minor": 2
}
