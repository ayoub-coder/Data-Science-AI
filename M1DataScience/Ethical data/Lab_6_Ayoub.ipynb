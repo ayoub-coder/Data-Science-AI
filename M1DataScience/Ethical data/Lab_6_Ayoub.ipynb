{
 "cells": [
  {
   "cell_type": "markdown",
   "metadata": {
    "tags": []
   },
   "source": [
    "<h1 style=\"font-size:3rem;color:#A3623B;\">Lab 6</h1>\n",
    "\n",
    "## Security and Ethical aspects of data\n",
    "### Amaya Nogales Gómez"
   ]
  },
  {
   "cell_type": "markdown",
   "metadata": {},
   "source": [
    "## 6.1 Fairness metrics for synthetic datasets\n"
   ]
  },
  {
   "cell_type": "code",
   "execution_count": 140,
   "metadata": {},
   "outputs": [],
   "source": [
    "#we import all the required libraries\n",
    "import numpy as np\n",
    "import matplotlib.pyplot as plt # for plotting stuff\n",
    "from random import seed, shuffle\n",
    "from scipy.stats import multivariate_normal # for generating synthetic data \n",
    "from sklearn import datasets #For real datasets\n",
    "SEED = 1122334455\n",
    "seed(SEED) # set the random seed so that the random permutations can be reproduced again\n",
    "np.random.seed(SEED)\n",
    "import pandas as pd"
   ]
  },
  {
   "cell_type": "code",
   "execution_count": 141,
   "metadata": {},
   "outputs": [],
   "source": [
    "from sklearn.svm import SVC\n",
    "from sklearn import metrics\n",
    "\n",
    "def plot_svc_decision_boundary(svm_clf, xmin, xmax):\n",
    "    w = svm_clf.coef_[0]\n",
    "    b = svm_clf.intercept_[0]\n",
    "\n",
    "    # At the decision boundary, w0*x0 + w1*x1 + b = 0\n",
    "    # => x1 = -w0/w1 * x0 - b/w1\n",
    "    x0 = np.linspace(xmin, xmax, 200)\n",
    "    decision_boundary = -w[0]/w[1] * x0 - b/w[1]\n",
    "\n",
    "    margin = 1/w[1]\n",
    "    gutter_up = decision_boundary + margin\n",
    "    gutter_down = decision_boundary - margin\n",
    "\n",
    "    svs = svm_clf.support_vectors_\n",
    "    plt.scatter(svs[:, 0], svs[:, 1], s=180, facecolors='#FFAAAA')\n",
    "    plt.plot(x0, decision_boundary, \"k-\", linewidth=2)\n",
    "    plt.plot(x0, gutter_up, \"k--\", linewidth=2)\n",
    "    plt.plot(x0, gutter_down, \"k--\", linewidth=2)"
   ]
  },
  {
   "cell_type": "code",
   "execution_count": 142,
   "metadata": {},
   "outputs": [],
   "source": [
    "def generate_synthetic_data_bias():\n",
    "\n",
    "    \"\"\"\n",
    "        Code for generating the synthetic data.\n",
    "        We will have two features and a binary class.\n",
    "        \n",
    "    \"\"\"\n",
    "\n",
    "    n_samples = 20 # generate these many data points per class\n",
    "    #For biased data\n",
    "    p_sen=0.2 #this parameter sets the probability of being protected (sensitive feature=1)\n",
    "    delta1=[3,-2] # This is the increment of the mean for the positive class\n",
    "    delta2=[3,-2] # This is the increment of the mean for the negative class\n",
    "    \n",
    "    \n",
    "    def gen_gaussian_sensitive(size, mean_in, cov_in, class_label, sensitive):\n",
    "        nv = multivariate_normal(mean = mean_in, cov = cov_in)\n",
    "        X = nv.rvs(size)\n",
    "        y = np.ones(size, dtype=int) * class_label\n",
    "        x_sen = np.ones(size, dtype=float) * sensitive\n",
    "        return nv,X,y,x_sen\n",
    "\n",
    "    \"\"\" Generate the features randomly \"\"\"\n",
    "    #For the NON-protected group (sensitive feature=0, for ex. men)\n",
    "    # We will generate one gaussian cluster for each class\n",
    "    mu1, sigma1 = [2, 2], [[5, 1], [1, 5]]\n",
    "    mu2, sigma2 = [-2,-2], [[10, 1], [1, 3]]\n",
    "    nv1, X1, y1, x_sen1= gen_gaussian_sensitive(int((1-p_sen)*n_samples), mu1, sigma1, 1,0) # positive class\n",
    "    nv2, X2, y2, x_sen2= gen_gaussian_sensitive(int((1-p_sen)*n_samples),mu2, sigma2, 0,0) # negative class\n",
    "    \n",
    "    \n",
    "    #For the Protected group (sensitive feature=1, for ex. women)\n",
    "    # We will generate one gaussian cluster for each class\n",
    "    mu3, sigma3 = np.add(mu1,delta1), [[5, 1], [1, 5]]\n",
    "    mu4, sigma4 = np.add(mu2,delta2), [[10, 1], [1, 3]]\n",
    "    nv3, X3, y3, x_sen3 = gen_gaussian_sensitive(int(p_sen*n_samples), mu3, sigma3, 1,1.) # positive class\n",
    "    nv4, X4, y4, x_sen4 = gen_gaussian_sensitive(int(p_sen*n_samples),mu4, sigma4, 0,1.) # negative class\n",
    "    \n",
    "\n",
    "    \n",
    "\n",
    "    # join the positive and negative class clusters\n",
    "    X = np.vstack((X1, X2, X3, X4))\n",
    "    y = np.hstack((y1, y2, y3, y4))\n",
    "    x_prot= np.hstack((x_sen1, x_sen2, x_sen3, x_sen4))\n",
    "    \n",
    "\n",
    "    # shuffle the data\n",
    "    perm = list(range(0,n_samples*2))\n",
    "    shuffle(perm)\n",
    "    X = X[perm]\n",
    "    y = y[perm]\n",
    "    x_prot=x_prot[perm]\n",
    "    \n",
    "    \n",
    "\n",
    "    return X,y,x_prot"
   ]
  },
  {
   "cell_type": "code",
   "execution_count": 143,
   "metadata": {},
   "outputs": [],
   "source": [
    "X_syn, y_syn, x_bias = generate_synthetic_data_bias()"
   ]
  },
  {
   "cell_type": "code",
   "execution_count": 144,
   "metadata": {},
   "outputs": [
    {
     "data": {
      "image/png": "[encoded data removed]",
      "text/plain": [
       "<Figure size 432x288 with 1 Axes>"
      ]
     },
     "metadata": {
      "needs_background": "light"
     },
     "output_type": "display_data"
    }
   ],
   "source": [
    "#plt.scatter(X_syn[y_syn==1][:, 0], X_syn[y_syn==1][:, 1], color='#378661', marker='x', s=40, linewidth=1.5, label= \"Class +1\")\n",
    "#plt.scatter(X_syn[y_syn==0][:, 0], X_syn[y_syn==0][:, 1], color='#A73730', marker='x', s=40, linewidth=1.5, label = \"Class -1\")\n",
    "\n",
    "X_s_0 = X_syn[x_bias == 0.0]\n",
    "X_s_1 = X_syn[x_bias == 1.0]\n",
    "y_s_0 = y_syn[x_bias == 0.0]\n",
    "y_s_1 = y_syn[x_bias == 1.0]\n",
    "\n",
    "# SVM Classifier model\n",
    "#the hyperparameter C control the margin violations\n",
    "#smaller C leads to more margin violations but wider margin\n",
    "\n",
    "svm_clf = SVC(kernel=\"linear\", C=float(4))\n",
    "svm_clf.fit(X_syn, y_syn)\n",
    "\n",
    "plot_svc_decision_boundary(svm_clf, -6, 9)\n",
    "plt.scatter(X_s_0[y_s_0==1][:, 0], X_s_0[y_s_0==1][:, 1], color='green', marker='x', s=40, linewidth=1.5, label= \"Non-prot. +1\")\n",
    "plt.scatter(X_s_0[y_s_0==0][:, 0], X_s_0[y_s_0==0][:, 1], color='red', marker='x', s=40, linewidth=1.5, label = \"Non-prot. -1\")\n",
    "plt.scatter(X_s_1[y_s_1==1][:, 0], X_s_1[y_s_1==1][:, 1], color='green', marker='o', facecolors='none', s=40, label = \"Prot. +1\")\n",
    "plt.scatter(X_s_1[y_s_1==0][:, 0], X_s_1[y_s_1==0][:, 1], color='red', marker='o', facecolors='none', s=40, label = \"Prot. -1\")\n",
    "\n",
    "#plt.savefig('aggre.png')\n",
    "plt.show()"
   ]
  },
  {
   "cell_type": "markdown",
   "metadata": {},
   "source": [
    "First we calculate the accuracy of the SVM classifier in our dataset:"
   ]
  },
  {
   "cell_type": "code",
   "execution_count": 145,
   "metadata": {},
   "outputs": [
    {
     "name": "stdout",
     "output_type": "stream",
     "text": [
      "Accuracy: 82.5 %\n"
     ]
    }
   ],
   "source": [
    "#Accuracy\n",
    "y_pred=svm_clf.predict(X_syn)\n",
    "\n",
    "print(\"Accuracy: %.1f\" % (metrics.accuracy_score(y_syn, y_pred)*100), \"%\")\n"
   ]
  },
  {
   "cell_type": "markdown",
   "metadata": {},
   "source": [
    "We first implement the equal opportunity metric:"
   ]
  },
  {
   "cell_type": "code",
   "execution_count": 146,
   "metadata": {},
   "outputs": [],
   "source": [
    "#Let us now implement the equal opportunity metric:\n",
    "def equal_opportunity(y,y_pred, x_prot):\n",
    "    Pos_pro=0.0\n",
    "    Pos_nonpro=0.0\n",
    "    PPos_pro=0.0\n",
    "    PPos_nonpro=0.0\n",
    "    \n",
    "    n=y_pred.size\n",
    "\n",
    "    for i in range(0,n):\n",
    "        if (y[i]==1 and x_prot[i]==0):\n",
    "            Pos_nonpro=Pos_nonpro+1\n",
    "            if (y_pred[i]==1):\n",
    "                PPos_nonpro=PPos_nonpro+1\n",
    "        if (y[i]==1 and x_prot[i]==1):\n",
    "            Pos_pro=Pos_pro+1\n",
    "            if (y_pred[i]==1):\n",
    "                PPos_pro=PPos_pro+1\n",
    "    #print(Pos_nonpro)\n",
    "    #print(Pos_pro)\n",
    "    #print(PPos_pro)\n",
    "    #print(PPos_nonpro)\n",
    "    UNF_EOpp=abs((PPos_nonpro/Pos_nonpro)-(PPos_pro/Pos_pro))\n",
    "    \n",
    "    return UNF_EOpp\n"
   ]
  },
  {
   "cell_type": "code",
   "execution_count": 147,
   "metadata": {},
   "outputs": [
    {
     "name": "stdout",
     "output_type": "stream",
     "text": [
      "UNF_EOpp = 43.75 %\n"
     ]
    }
   ],
   "source": [
    "UNF_EOpp=equal_opportunity(y_syn,y_pred, x_bias)\n",
    "print('UNF_EOpp = %.2f' % (UNF_EOpp*100),\"%\")"
   ]
  },
  {
   "cell_type": "markdown",
   "metadata": {},
   "source": [
    "### Questions:\n",
    "\n",
    "\n",
    "**1-** Calculate the predictive equality metric for the given dataset and classifier.\n",
    "\n",
    "**2-** Calculate the equalized odds metric for the given dataset and classifier.\n",
    "\n",
    "**3-** Calculate the predictive parity metric for the given dataset and classifier.\n",
    "\n",
    "**4-** Calculate the statistical parity metric for the given dataset and classifier.\n",
    "\n",
    "**5-** a)Calculate the disparate impact metric for the given dataset and classifier.\n",
    "\n",
    "  b)Does this classifier satisfy the 80%-rule?\n",
    "  \n"
   ]
  },
  {
   "cell_type": "markdown",
   "metadata": {},
   "source": [
    "<font color=\"brown\">\n",
    "    1- Calculate the predictive equality metric for the given dataset and classifier.\n",
    "</font>"
   ]
  },
  {
   "cell_type": "code",
   "execution_count": 148,
   "metadata": {},
   "outputs": [],
   "source": [
    "#1\n",
    "def predictive_equality(y,y_pred, x_prot):\n",
    "    Pos_pro=0.0\n",
    "    Pos_nonpro=0.0\n",
    "    PPos_pro=0.0\n",
    "    PPos_nonpro=0.0\n",
    "    \n",
    "    n=y_pred.size\n",
    "    for i in range(0,n):\n",
    "        if (y[i]==0 and x_prot[i]==0):\n",
    "            Pos_nonpro=Pos_nonpro+1\n",
    "            if (y_pred[i]==1):\n",
    "                PPos_nonpro=PPos_nonpro+1\n",
    "        if (y[i]==0 and x_prot[i]==1):\n",
    "            Pos_pro=Pos_pro+1\n",
    "            if (y_pred[i]==1):\n",
    "                PPos_pro=PPos_pro+1    \n",
    "\n",
    "    #print(Pos_nonpro)\n",
    "    #print(Pos_pro)\n",
    "    #print(PPos_pro)\n",
    "    #print(PPos_nonpro)\n",
    "    UNF_pe=abs((PPos_nonpro/Pos_nonpro)-(PPos_pro/Pos_pro))\n",
    "    \n",
    "    return UNF_pe\n",
    "\n",
    "\n"
   ]
  },
  {
   "cell_type": "code",
   "execution_count": 149,
   "metadata": {},
   "outputs": [
    {
     "name": "stdout",
     "output_type": "stream",
     "text": [
      "UNF_pe = 25.00 %\n"
     ]
    }
   ],
   "source": [
    "UNF_pe=predictive_equality(y_syn,y_pred, x_bias)\n",
    "print('UNF_pe = %.2f' % (UNF_pe*100),\"%\")"
   ]
  },
  {
   "cell_type": "markdown",
   "metadata": {},
   "source": [
    "<font color=\"brown\">\n",
    "    2- Calculate the equalized odds metric for the given dataset and classifier.\n",
    "</font>"
   ]
  },
  {
   "cell_type": "code",
   "execution_count": 150,
   "metadata": {},
   "outputs": [],
   "source": [
    "\n",
    "def equal_odds(y,y_pred, x_prot):\n",
    "    Pos_pro=0.0\n",
    "    Pos_nonpro=0.0\n",
    "    PPos_pro=0.0\n",
    "    PPos_nonpro=0.0\n",
    "    \n",
    "    n=y_pred.size\n",
    "\n",
    "    for i in range(0,n):\n",
    "        if (y[i]==1 and x_prot[i]==0):\n",
    "            Pos_nonpro=Pos_nonpro+1\n",
    "            if (y_pred[i]==1):\n",
    "                PPos_nonpro=PPos_nonpro+1\n",
    "        if (y[i]==1 and x_prot[i]==1):\n",
    "            Pos_pro=Pos_pro+1\n",
    "            if (y_pred[i]==1):\n",
    "                PPos_pro=PPos_pro+1\n",
    "\n",
    "    UNF_EOpp=abs((PPos_nonpro/Pos_nonpro)-(PPos_pro/Pos_pro))\n",
    " \n",
    "    Pos_pro=0.0\n",
    "    Pos_nonpro=0.0\n",
    "    PPos_pro=0.0\n",
    "    PPos_nonpro=0.0\n",
    "    \n",
    "    n=y_pred.size\n",
    "    for i in range(0,n):\n",
    "        if (y[i]==0 and x_prot[i]==0):\n",
    "            Pos_nonpro=Pos_nonpro+1\n",
    "            if (y_pred[i]==1):\n",
    "                PPos_nonpro=PPos_nonpro+1\n",
    "        if (y[i]==0 and x_prot[i]==1):\n",
    "            Pos_pro=Pos_pro+1\n",
    "            if (y_pred[i]==1):\n",
    "                PPos_pro=PPos_pro+1\n",
    "    \n",
    "    UNF_EOpe=abs((PPos_nonpro/Pos_nonpro)-(PPos_pro/Pos_pro))\n",
    "\n",
    "\n",
    "\n",
    "    return UNF_EOpp + UNF_EOpe\n"
   ]
  },
  {
   "cell_type": "code",
   "execution_count": 151,
   "metadata": {},
   "outputs": [
    {
     "name": "stdout",
     "output_type": "stream",
     "text": [
      "UNF_EOdds = 68.75 %\n"
     ]
    }
   ],
   "source": [
    "UNF_EOdds=equal_odds(y_syn,y_pred, x_bias)\n",
    "print('UNF_EOdds = %.2f' % (UNF_EOdds*100),\"%\")"
   ]
  },
  {
   "cell_type": "markdown",
   "metadata": {},
   "source": [
    "<font color= \"brown\">\n",
    "    3- Calculate the predictive parity metric for the given dataset and classifier.\n",
    "<font/>  "
   ]
  },
  {
   "cell_type": "code",
   "execution_count": 152,
   "metadata": {},
   "outputs": [],
   "source": [
    "\n",
    "def predictive_parity(y,y_pred, x_prot):\n",
    "    Pos_pro=0.0\n",
    "    Pos_nonpro=0.0\n",
    "    PPos_pro=0.0\n",
    "    PPos_nonpro=0.0\n",
    "    \n",
    "    n=y_pred.size\n",
    "    for i in range(0,n):\n",
    "        if (y_pred[i]==1 and x_prot[i]==0):\n",
    "            Pos_nonpro=Pos_nonpro+1\n",
    "            if (y[i]==1):\n",
    "                PPos_nonpro=PPos_nonpro+1\n",
    "        if (y_pred[i]==1 and x_prot[i]==1):\n",
    "            Pos_pro=Pos_pro+1\n",
    "            if (y[i]==1):\n",
    "                PPos_pro=PPos_pro+1    \n",
    "\n",
    "    #print(Pos_nonpro)\n",
    "    #print(Pos_pro)\n",
    "    #print(PPos_pro)\n",
    "    #print(PPos_nonpro)\n",
    "    UNF_pp=abs((PPos_nonpro/Pos_nonpro)-(PPos_pro/Pos_pro))\n",
    "    \n",
    "    return UNF_pp\n",
    "\n",
    "\n",
    "\n"
   ]
  },
  {
   "cell_type": "code",
   "execution_count": 153,
   "metadata": {},
   "outputs": [
    {
     "name": "stdout",
     "output_type": "stream",
     "text": [
      "UNF_pp = 21.05 %\n"
     ]
    }
   ],
   "source": [
    "UNF_pp=predictive_parity(y_syn,y_pred, x_bias)\n",
    "print('UNF_pp = %.2f' % (UNF_pp*100),\"%\")"
   ]
  },
  {
   "cell_type": "markdown",
   "metadata": {},
   "source": [
    "<font color=\"brown\">\n",
    "    4- Calculate the statistical parity metric for the given dataset and classifier.\n",
    "<font>"
   ]
  },
  {
   "cell_type": "code",
   "execution_count": 154,
   "metadata": {},
   "outputs": [],
   "source": [
    "#4\n",
    "def statistical_parity(y,y_pred, x_prot):\n",
    "    Pos_pro=0.0\n",
    "    Pos_nonpro=0.0\n",
    "    PPos_pro=0.0\n",
    "    PPos_nonpro=0.0\n",
    "    \n",
    "    n=y_pred.size\n",
    "    for i in range(0,n):\n",
    "        if (x_prot[i]==0):\n",
    "            Pos_nonpro=Pos_nonpro+1\n",
    "            if (y_pred[i]==1):\n",
    "                PPos_nonpro=PPos_nonpro+1\n",
    "        if (x_prot[i]==1):\n",
    "            Pos_pro=Pos_pro+1\n",
    "            if (y_pred[i]==1):\n",
    "                PPos_pro=PPos_pro+1    \n",
    "\n",
    "    #print(Pos_nonpro)\n",
    "    #print(Pos_pro)\n",
    "    #print(PPos_pro)\n",
    "    #print(PPos_nonpro)\n",
    "    UNF_sp=abs((PPos_nonpro/Pos_nonpro)-(PPos_pro/Pos_pro))\n",
    "    \n",
    "    return UNF_sp\n",
    "\n",
    "\n"
   ]
  },
  {
   "cell_type": "code",
   "execution_count": 155,
   "metadata": {},
   "outputs": [
    {
     "name": "stdout",
     "output_type": "stream",
     "text": [
      "UNF_sp = 34.38 %\n"
     ]
    }
   ],
   "source": [
    "UNF_sp=statistical_parity(y_syn,y_pred, x_bias)\n",
    "print('UNF_sp = %.2f' % (UNF_sp*100),\"%\")"
   ]
  },
  {
   "cell_type": "markdown",
   "metadata": {},
   "source": [
    "<font color=\"brown\">\n",
    "    5- a)Calculate the disparate impact metric for the given dataset and classifier.<br>\n",
    "    b) Does this classifier satisfy the 80%-rule?\n",
    "</font>"
   ]
  },
  {
   "cell_type": "code",
   "execution_count": 156,
   "metadata": {},
   "outputs": [],
   "source": [
    "def disparate_impact(y,y_pred, x_prot):\n",
    "    Pos_pro=0.0\n",
    "    Pos_nonpro=0.0\n",
    "    PPos_pro=0.0\n",
    "    PPos_nonpro=0.0\n",
    "    \n",
    "    n=y_pred.size\n",
    "    for i in range(0,n):\n",
    "        if (x_prot[i]==0):\n",
    "            Pos_nonpro=Pos_nonpro+1\n",
    "            if (y_pred[i]==1):\n",
    "                PPos_nonpro=PPos_nonpro+1\n",
    "        if (x_prot[i]==1):\n",
    "            Pos_pro=Pos_pro+1\n",
    "            if (y_pred[i]==1):\n",
    "                PPos_pro=PPos_pro+1    \n",
    "\n",
    "    #print(Pos_nonpro)\n",
    "    #print(Pos_pro)\n",
    "    #print(PPos_pro)\n",
    "    #print(PPos_nonpro)\n",
    "    A = (PPos_nonpro/Pos_nonpro)/(PPos_pro/Pos_pro)\n",
    "    B = (PPos_pro/Pos_pro)/(PPos_nonpro/Pos_nonpro)\n",
    "    \n",
    "    return(min(A,B))"
   ]
  },
  {
   "cell_type": "code",
   "execution_count": 157,
   "metadata": {},
   "outputs": [
    {
     "name": "stdout",
     "output_type": "stream",
     "text": [
      "UNF_si = 42.11 %\n"
     ]
    }
   ],
   "source": [
    "UNF_si=disparate_impact(y_syn,y_pred, x_bias)\n",
    "print('UNF_si = %.2f' % (UNF_si*100),\"%\")"
   ]
  },
  {
   "cell_type": "markdown",
   "metadata": {},
   "source": [
    "As disparate impact is 42.1%, it doesn't satisfy the 80% rule.\n"
   ]
  },
  {
   "cell_type": "markdown",
   "metadata": {},
   "source": [
    "## 6.2 Fairness metrics for the German dataset"
   ]
  },
  {
   "cell_type": "code",
   "execution_count": 158,
   "metadata": {},
   "outputs": [],
   "source": [
    "German_data=np.loadtxt('German.txt')\n",
    "i_prot=40 #the protected features corresponds with column 40 from the txt file\n",
    "n_sample=500 # we define our training sample size\n",
    "C_param=5\n",
    "\n",
    "X_German=np.delete(German_data,[0,i_prot],1) #We eliminate the first column that correspond to labels and the protected feature\n",
    "\n",
    "y_German=German_data[:,0] #labels\n",
    "x_bias_german=German_data[:,i_prot] #protected feature\n",
    "\n",
    "#Now let us consider a training set\n",
    "X_G=X_German[1:n_sample,:]\n",
    "y_G=y_German[1:n_sample]\n",
    "x_bias_G=x_bias_german[1:n_sample]\n",
    "\n",
    "\n",
    "# SVM Classifier model\n",
    "#the hyperparameter C control the margin violations\n",
    "#smaller C leads to more margin violations but wider margin\n",
    "\n",
    "svm_clf = SVC(kernel=\"linear\", C=float(C_param))\n",
    "svm_clf.fit(X_G, y_G)\n",
    "\n",
    "y_pred_G=svm_clf.predict(X_G)\n",
    "\n",
    "\n"
   ]
  },
  {
   "cell_type": "markdown",
   "metadata": {},
   "source": [
    "### Questions:\n",
    "In the code before, we set i_prot=40, which means we consider the protected feature being \"female divorced/separated/married\". Under this choice:\n",
    "\n",
    "**6-** Provide a table with the accuracy and the 6 fairness metrics.\n",
    "\n",
    "**7-** Does this classifier satisfy the 80%-rule?\n",
    "\n",
    "Now choose as protected feature being \"male divorced/separated\", i.e., i_prot=39. Under this choice:\n",
    "\n",
    "**8-** Provide a table with the 6 fairness metrics.\n",
    "\n",
    "**9-** Does this classifier satisfy the 80%-rule?\n",
    "\n",
    "**10-** Which conclusion do you obtain comparing the tables from 6 and 8?"
   ]
  },
  {
   "cell_type": "markdown",
   "metadata": {},
   "source": [
    "<font color=\"brown\">\n",
    "    6- Provide a table with the accuracy and the 6 fairness metrics.\n",
    "</font>\n",
    "\n"
   ]
  },
  {
   "cell_type": "code",
   "execution_count": 159,
   "metadata": {},
   "outputs": [
    {
     "name": "stdout",
     "output_type": "stream",
     "text": [
      "Accuracy: 81.4 %\n",
      "UNF_EOpp = 4.25 %\n",
      "UNF_EOpe = 20.63 %\n",
      "UNF_EOdds = 24.88 %\n",
      "UNF_pp = 3.34 %\n",
      "UNF_sp = 11.85 %\n",
      "UNF_DI = 85.21 %\n"
     ]
    }
   ],
   "source": [
    "print(\"Accuracy: %.1f\" % (metrics.accuracy_score(y_G, y_pred_G)*100), \"%\")\n",
    "\n",
    "UNF_EOpp_G=equal_opportunity(y_G,y_pred_G, x_bias_G)\n",
    "print('UNF_EOpp = %.2f' % (UNF_EOpp_G*100),\"%\")\n",
    "\n",
    "UNF_EOpe_G=predictive_equality(y_G,y_pred_G, x_bias_G)\n",
    "print('UNF_EOpe = %.2f' % (UNF_EOpe_G*100),\"%\")\n",
    "\n",
    "UNF_EOdds_G = abs(UNF_EOpp_G) + abs(UNF_EOpe_G)\n",
    "print('UNF_EOdds = %.2f' % (UNF_EOdds_G*100),\"%\")\n",
    "\n",
    "\n",
    "UNF_pp_G=predictive_parity(y_G,y_pred_G, x_bias_G)\n",
    "print('UNF_pp = %.2f' % (UNF_pp_G*100),\"%\")\n",
    "\n",
    "UNF_sp_G=statistical_parity(y_G,y_pred_G, x_bias_G)\n",
    "print('UNF_sp = %.2f' % (UNF_sp_G*100),\"%\")\n",
    "\n",
    "\n",
    "UNF_DI_G=disparate_impact(y_G,y_pred_G, x_bias_G)\n",
    "print('UNF_DI = %.2f' % (UNF_DI_G*100),\"%\")"
   ]
  },
  {
   "cell_type": "markdown",
   "metadata": {},
   "source": [
    "<font color=\"brown\">\n",
    "    7 - Does this classifier satisfy the 80%-rule?\n",
    "    \n",
    "</font>\n",
    "\n",
    "Yes, as disparate impact is 85.21%\n"
   ]
  },
  {
   "cell_type": "markdown",
   "metadata": {},
   "source": [
    "<font color=\"brown\">\n",
    "  Now choose as protected feature being \"male divorced/separated\", i.e., i_prot=39. Under this choice:\n",
    "\n",
    "  8 - Provide a table with the 6 fairness metrics.\n",
    "    \n",
    "</font>"
   ]
  },
  {
   "cell_type": "code",
   "execution_count": 160,
   "metadata": {},
   "outputs": [],
   "source": [
    "German_data=np.loadtxt('German.txt')\n",
    "i_prot=39 #the protected features corresponds with column 40 from the txt file\n",
    "n_sample=500 # we define our training sample size\n",
    "C_param=5\n",
    "\n",
    "X_German=np.delete(German_data,[0,i_prot],1) #We eliminate the first column that correspond to labels and the protected feature\n",
    "\n",
    "y_German=German_data[:,0] #labels\n",
    "x_bias_german=German_data[:,i_prot] #protected feature\n",
    "\n",
    "#Now let us consider a training set\n",
    "X_G2=X_German[1:n_sample,:]\n",
    "y_G2=y_German[1:n_sample]\n",
    "x_bias_G2=x_bias_german[1:n_sample]\n",
    "\n",
    "\n",
    "# SVM Classifier model\n",
    "#the hyperparameter C control the margin violations\n",
    "#smaller C leads to more margin violations but wider margin\n",
    "\n",
    "svm_clf = SVC(kernel=\"linear\", C=float(C_param))\n",
    "svm_clf.fit(X_G2, y_G2)\n",
    "\n",
    "y_pred_G2=svm_clf.predict(X_G2)"
   ]
  },
  {
   "cell_type": "code",
   "execution_count": 161,
   "metadata": {},
   "outputs": [
    {
     "name": "stdout",
     "output_type": "stream",
     "text": [
      "Accuracy: 81.2 %\n",
      "UNF_EOpp = 2.13 %\n",
      "UNF_EOpe = 13.37 %\n",
      "UNF_EOdds = 15.50 %\n",
      "UNF_pp = 11.72 %\n",
      "UNF_sp = 0.73 %\n",
      "UNF_DI = 99.04 %\n"
     ]
    }
   ],
   "source": [
    "print(\"Accuracy: %.1f\" % (metrics.accuracy_score(y_G2, y_pred_G2)*100), \"%\")\n",
    "\n",
    "UNF_EOpp_G2=equal_opportunity(y_G2,y_pred_G2, x_bias_G2)\n",
    "print('UNF_EOpp = %.2f' % (UNF_EOpp_G2*100),\"%\")\n",
    "\n",
    "UNF_EOpe_G2=predictive_equality(y_G2,y_pred_G2, x_bias_G2)\n",
    "print('UNF_EOpe = %.2f' % (UNF_EOpe_G2*100),\"%\")\n",
    "\n",
    "UNF_EOdds_G2 = abs(UNF_EOpp_G2) + abs(UNF_EOpe_G2)\n",
    "print('UNF_EOdds = %.2f' % (UNF_EOdds_G2*100),\"%\")\n",
    "\n",
    "\n",
    "UNF_pp_G2=predictive_parity(y_G2,y_pred_G2, x_bias_G2)\n",
    "print('UNF_pp = %.2f' % (UNF_pp_G2*100),\"%\")\n",
    "\n",
    "UNF_sp_G2=statistical_parity(y_G2,y_pred_G2, x_bias_G2)\n",
    "print('UNF_sp = %.2f' % (UNF_sp_G2*100),\"%\")\n",
    "\n",
    "\n",
    "UNF_DI_G2=disparate_impact(y_G2,y_pred_G2, x_bias_G2)\n",
    "print('UNF_DI = %.2f' % (UNF_DI_G2*100),\"%\")"
   ]
  },
  {
   "cell_type": "markdown",
   "metadata": {},
   "source": [
    "<font color=\"brown\">\n",
    "  Now choose as protected feature being \"male divorced/separated\", i.e., i_prot=39. Under this choice:\n",
    "\n",
    "  9- Does this classifier satisfy the 80%-rule?\n",
    "    \n",
    "</font>\n",
    "\n",
    "Yes, as disparate impact is 99.04%"
   ]
  },
  {
   "cell_type": "markdown",
   "metadata": {},
   "source": [
    "<font color = 'brown'>\n",
    "\n",
    "10- Which conclusion do you obtain comparing the tables from 6 and 8?\n",
    "    \n",
    "</font>\n",
    "\n",
    "Setting variable 39 as the protected class increases disparate impact and doesnt affect accuracy at all. So this setting might be better\n",
    "\n"
   ]
  },
  {
   "cell_type": "markdown",
   "metadata": {},
   "source": [
    "<h2> 6.3 The COMPAS dataset. What happens if we change the choice of variables?</h2> \n",
    "\n",
    "Let's take our own decisions:"
   ]
  },
  {
   "cell_type": "code",
   "execution_count": 162,
   "metadata": {},
   "outputs": [
    {
     "name": "stdout",
     "output_type": "stream",
     "text": [
      "The rpy2.ipython extension is already loaded. To reload it, use:\n",
      "  %reload_ext rpy2.ipython\n"
     ]
    }
   ],
   "source": [
    "# filter dplyr warnings\n",
    "%load_ext rpy2.ipython\n",
    "import warnings\n",
    "warnings.filterwarnings('ignore')"
   ]
  },
  {
   "cell_type": "code",
   "execution_count": 163,
   "metadata": {},
   "outputs": [
    {
     "name": "stdout",
     "output_type": "stream",
     "text": [
      " [1] \"id\"                      \"name\"                   \n",
      " [3] \"first\"                   \"last\"                   \n",
      " [5] \"compas_screening_date\"   \"sex\"                    \n",
      " [7] \"dob\"                     \"age\"                    \n",
      " [9] \"age_cat\"                 \"race\"                   \n",
      "[11] \"juv_fel_count\"           \"decile_score\"           \n",
      "[13] \"juv_misd_count\"          \"juv_other_count\"        \n",
      "[15] \"priors_count\"            \"days_b_screening_arrest\"\n",
      "[17] \"c_jail_in\"               \"c_jail_out\"             \n",
      "[19] \"c_case_number\"           \"c_offense_date\"         \n",
      "[21] \"c_arrest_date\"           \"c_days_from_compas\"     \n",
      "[23] \"c_charge_degree\"         \"c_charge_desc\"          \n",
      "[25] \"is_recid\"                \"r_case_number\"          \n",
      "[27] \"r_charge_degree\"         \"r_days_from_arrest\"     \n",
      "[29] \"r_offense_date\"          \"r_charge_desc\"          \n",
      "[31] \"r_jail_in\"               \"r_jail_out\"             \n",
      "[33] \"violent_recid\"           \"is_violent_recid\"       \n",
      "[35] \"vr_case_number\"          \"vr_charge_degree\"       \n",
      "[37] \"vr_offense_date\"         \"vr_charge_desc\"         \n",
      "[39] \"type_of_assessment\"      \"decile_score.1\"         \n",
      "[41] \"score_text\"              \"screening_date\"         \n",
      "[43] \"v_type_of_assessment\"    \"v_decile_score\"         \n",
      "[45] \"v_score_text\"            \"v_screening_date\"       \n",
      "[47] \"in_custody\"              \"out_custody\"            \n",
      "[49] \"priors_count.1\"          \"start\"                  \n",
      "[51] \"end\"                     \"event\"                  \n",
      "[53] \"two_year_recid\"         \n"
     ]
    }
   ],
   "source": [
    "%%R\n",
    "library(dplyr)\n",
    "#You can choose your favorite option:\n",
    "#a)Download the dataset and access it locally\n",
    "#raw_data <- read.csv(\"./compas-scores-two-years.csv\") \n",
    "#b)Access the dataset directly from the repository\n",
    "raw_data <- read.csv(\"https://raw.githubusercontent.com/propublica/compas-analysis/master/compas-scores-two-years.csv\")\n",
    "nrow(raw_data)\n",
    "colnames(raw_data)"
   ]
  },
  {
   "cell_type": "markdown",
   "metadata": {},
   "source": [
    "Note: if you obtain the following error: \"UsageError: Cell magic `%%R` not found.\"\n",
    "Try this solution: pip install rpy2\n",
    "\n",
    "\n",
    "## Filtering of data\n",
    "\n",
    "<em>In a 2009 study examining the predictive power of its COMPAS score, Northpointe defined recidivism as “a finger-printable arrest involving a charge and a filing for any uniform crime reporting (UCR) code.” We interpreted that to mean a criminal offense that resulted in a jail booking and took place after the crime for which the person was COMPAS scored.\n",
    "\n",
    "It was not always clear, however, which criminal case was associated with an individual’s COMPAS score. To match COMPAS scores with accompanying cases, we considered cases with arrest dates or charge dates within 30 days of a COMPAS assessment being conducted. In some instances, we could not find any corresponding charges to COMPAS scores. We removed those cases from our analysis.\n",
    "\n",
    "Next, we sought to determine if a person had been charged with a new crime subsequent to crime for which they were COMPAS screened. We did not count traffic tickets and some municipal ordinance violations as recidivism. We did not count as recidivists people who were arrested for failing to appear at their court hearings, or people who were later charged with a crime that occurred prior to their COMPAS screening.</em>\n",
    "\n",
    "We do the same filtering that in the Propublica Study **BUT** we select different variables.\n",
    "\n",
    "Finally we save the filtered csv file.\n",
    "\n"
   ]
  },
  {
   "cell_type": "code",
   "execution_count": 164,
   "metadata": {},
   "outputs": [
    {
     "name": "stdout",
     "output_type": "stream",
     "text": [
      "[1] 6172\n"
     ]
    }
   ],
   "source": [
    "%%R\n",
    "df <- dplyr::select(raw_data, age, c_charge_degree, race, age_cat, score_text, sex, priors_count, \n",
    "                    days_b_screening_arrest, decile_score, is_recid, two_year_recid, c_jail_in, c_jail_out,\n",
    "                    juv_fel_count,juv_misd_count,juv_other_count,is_violent_recid) %>% \n",
    "        filter(days_b_screening_arrest <= 30) %>%\n",
    "        filter(days_b_screening_arrest >= -30) %>%\n",
    "        filter(is_recid != -1) %>%\n",
    "        filter(is_violent_recid != -1) %>%\n",
    "        filter(c_charge_degree != \"O\") %>%\n",
    "        filter(score_text != 'N/A')\n",
    "write.csv(df,\"propublica_ext.csv\")\n",
    "\n",
    "nrow(df)"
   ]
  },
  {
   "cell_type": "markdown",
   "metadata": {},
   "source": [
    "Now we import the same libraries as in the previous labs."
   ]
  },
  {
   "cell_type": "code",
   "execution_count": 165,
   "metadata": {},
   "outputs": [],
   "source": [
    "#we import all the required libraries\n",
    "import numpy as np\n",
    "import pandas as pd\n",
    "import matplotlib.pyplot as plt # for plotting stuff\n",
    "from random import seed, shuffle\n",
    "from scipy.stats import multivariate_normal # for generating synthetic data \n",
    "import seaborn as sns\n",
    "from sklearn import metrics\n",
    "from sklearn.metrics import confusion_matrix\n",
    "SEED = 1122334455\n",
    "seed(SEED) # set the random seed so that the random permutations can be reproduced again\n",
    "np.random.seed(SEED)"
   ]
  },
  {
   "cell_type": "markdown",
   "metadata": {},
   "source": [
    "We first read the filtered data. "
   ]
  },
  {
   "cell_type": "code",
   "execution_count": 166,
   "metadata": {},
   "outputs": [
    {
     "name": "stdout",
     "output_type": "stream",
     "text": [
      "Size of the dataset: 6172\n"
     ]
    }
   ],
   "source": [
    "df = pd.read_csv(\"propublica_ext.csv\")\n",
    "\n",
    "print(\"Size of the dataset: %d\" % len(df.index)) #We calculate the number of objects in the dataset\n",
    "\n",
    "\n"
   ]
  },
  {
   "cell_type": "code",
   "execution_count": 167,
   "metadata": {},
   "outputs": [
    {
     "name": "stdout",
     "output_type": "stream",
     "text": [
      "[   1    2    3 ... 6170 6171 6172]\n",
      "[69 34 24 44 41 43 39 27 23 37 47 31 25 64 21 32 26 33 30 55 49 29 51 35\n",
      " 28 53 38 22 62 56 45 40 50 20 36 54 19 42 52 59 61 63 48 46 58 78 57 66\n",
      " 70 60 65 68 71 83 67 75 72 74 96 73 80 77 76 79 18]\n",
      "['F' 'M']\n",
      "['Other' 'African-American' 'Caucasian' 'Hispanic' 'Asian'\n",
      " 'Native American']\n",
      "['Greater than 45' '25 - 45' 'Less than 25']\n",
      "['Low' 'Medium' 'High']\n",
      "['Male' 'Female']\n",
      "[ 0  4 14  3  1  7  6  5 13  8  9 21  2 15 10 28 19 11 23 25 36 12 20 33\n",
      " 16 18 17 22 30 24 27 26 37 29 31 38]\n",
      "[ -1   0 -20  22  -2 -24 -13 -15 -10 -30  -4 -16 -26  -7  29  -3  23 -11\n",
      " -22 -21 -12  -8  -5 -23 -14  -9  -6 -27 -19 -18  26 -29  28   7 -17 -28\n",
      "   9 -25  13  20  17  30   6   2  16   8   1  18  15  21  27  11   3  14\n",
      "   5  24]\n",
      "[ 1  3  4  6 10  5  9  2  7  8]\n",
      "[0 1]\n",
      "[0 1]\n",
      "['2013-08-13 06:03:42' '2013-01-26 03:45:27' '2013-04-13 04:58:34' ...\n",
      " '2014-01-13 05:48:01' '2014-03-08 08:06:02' '2014-06-28 12:16:41']\n",
      "['2013-08-14 05:41:20' '2013-02-05 05:36:53' '2013-04-14 07:02:04' ...\n",
      " '2014-01-14 07:49:46' '2014-03-09 12:18:04' '2014-06-30 11:19:23']\n",
      "[ 0  2  1  8  3  4 20  6  5 10]\n",
      "[ 0  1  6 12  2  4  3  8  5 13]\n",
      "[0 1 3 4 2 9 5 6 7]\n",
      "[0 1]\n"
     ]
    }
   ],
   "source": [
    "for col in df:\n",
    "    print(df[col].unique())"
   ]
  },
  {
   "cell_type": "markdown",
   "metadata": {},
   "source": [
    "We need to binarize all the categorical features we considered in the dataset:"
   ]
  },
  {
   "cell_type": "code",
   "execution_count": 168,
   "metadata": {},
   "outputs": [
    {
     "name": "stdout",
     "output_type": "stream",
     "text": [
      "Dataset with 6172 objects and 25 variables\n"
     ]
    },
    {
     "data": {
      "text/html": [
       "<div>\n",
       "<style scoped>\n",
       "    .dataframe tbody tr th:only-of-type {\n",
       "        vertical-align: middle;\n",
       "    }\n",
       "\n",
       "    .dataframe tbody tr th {\n",
       "        vertical-align: top;\n",
       "    }\n",
       "\n",
       "    .dataframe thead th {\n",
       "        text-align: right;\n",
       "    }\n",
       "</style>\n",
       "<table border=\"1\" class=\"dataframe\">\n",
       "  <thead>\n",
       "    <tr style=\"text-align: right;\">\n",
       "      <th></th>\n",
       "      <th>Unnamed: 0</th>\n",
       "      <th>age</th>\n",
       "      <th>priors_count</th>\n",
       "      <th>days_b_screening_arrest</th>\n",
       "      <th>decile_score</th>\n",
       "      <th>is_recid</th>\n",
       "      <th>two_year_recid</th>\n",
       "      <th>juv_fel_count</th>\n",
       "      <th>juv_misd_count</th>\n",
       "      <th>juv_other_count</th>\n",
       "      <th>...</th>\n",
       "      <th>hispanic</th>\n",
       "      <th>asian</th>\n",
       "      <th>other</th>\n",
       "      <th>less_than_25</th>\n",
       "      <th>between_25_45</th>\n",
       "      <th>greater_than_25</th>\n",
       "      <th>score_low</th>\n",
       "      <th>score_medium</th>\n",
       "      <th>score_high</th>\n",
       "      <th>Male</th>\n",
       "    </tr>\n",
       "  </thead>\n",
       "  <tbody>\n",
       "    <tr>\n",
       "      <th>0</th>\n",
       "      <td>1</td>\n",
       "      <td>69</td>\n",
       "      <td>0</td>\n",
       "      <td>-1</td>\n",
       "      <td>1</td>\n",
       "      <td>0</td>\n",
       "      <td>0</td>\n",
       "      <td>0</td>\n",
       "      <td>0</td>\n",
       "      <td>0</td>\n",
       "      <td>...</td>\n",
       "      <td>0</td>\n",
       "      <td>0</td>\n",
       "      <td>1</td>\n",
       "      <td>0</td>\n",
       "      <td>0</td>\n",
       "      <td>1</td>\n",
       "      <td>1</td>\n",
       "      <td>0</td>\n",
       "      <td>0</td>\n",
       "      <td>1</td>\n",
       "    </tr>\n",
       "    <tr>\n",
       "      <th>1</th>\n",
       "      <td>2</td>\n",
       "      <td>34</td>\n",
       "      <td>0</td>\n",
       "      <td>-1</td>\n",
       "      <td>3</td>\n",
       "      <td>1</td>\n",
       "      <td>1</td>\n",
       "      <td>0</td>\n",
       "      <td>0</td>\n",
       "      <td>0</td>\n",
       "      <td>...</td>\n",
       "      <td>0</td>\n",
       "      <td>0</td>\n",
       "      <td>0</td>\n",
       "      <td>0</td>\n",
       "      <td>1</td>\n",
       "      <td>0</td>\n",
       "      <td>1</td>\n",
       "      <td>0</td>\n",
       "      <td>0</td>\n",
       "      <td>1</td>\n",
       "    </tr>\n",
       "    <tr>\n",
       "      <th>2</th>\n",
       "      <td>3</td>\n",
       "      <td>24</td>\n",
       "      <td>4</td>\n",
       "      <td>-1</td>\n",
       "      <td>4</td>\n",
       "      <td>1</td>\n",
       "      <td>1</td>\n",
       "      <td>0</td>\n",
       "      <td>0</td>\n",
       "      <td>1</td>\n",
       "      <td>...</td>\n",
       "      <td>0</td>\n",
       "      <td>0</td>\n",
       "      <td>0</td>\n",
       "      <td>1</td>\n",
       "      <td>0</td>\n",
       "      <td>0</td>\n",
       "      <td>1</td>\n",
       "      <td>0</td>\n",
       "      <td>0</td>\n",
       "      <td>1</td>\n",
       "    </tr>\n",
       "    <tr>\n",
       "      <th>3</th>\n",
       "      <td>4</td>\n",
       "      <td>44</td>\n",
       "      <td>0</td>\n",
       "      <td>0</td>\n",
       "      <td>1</td>\n",
       "      <td>0</td>\n",
       "      <td>0</td>\n",
       "      <td>0</td>\n",
       "      <td>0</td>\n",
       "      <td>0</td>\n",
       "      <td>...</td>\n",
       "      <td>0</td>\n",
       "      <td>0</td>\n",
       "      <td>1</td>\n",
       "      <td>0</td>\n",
       "      <td>1</td>\n",
       "      <td>0</td>\n",
       "      <td>1</td>\n",
       "      <td>0</td>\n",
       "      <td>0</td>\n",
       "      <td>1</td>\n",
       "    </tr>\n",
       "    <tr>\n",
       "      <th>4</th>\n",
       "      <td>5</td>\n",
       "      <td>41</td>\n",
       "      <td>14</td>\n",
       "      <td>-1</td>\n",
       "      <td>6</td>\n",
       "      <td>1</td>\n",
       "      <td>1</td>\n",
       "      <td>0</td>\n",
       "      <td>0</td>\n",
       "      <td>0</td>\n",
       "      <td>...</td>\n",
       "      <td>0</td>\n",
       "      <td>0</td>\n",
       "      <td>0</td>\n",
       "      <td>0</td>\n",
       "      <td>1</td>\n",
       "      <td>0</td>\n",
       "      <td>0</td>\n",
       "      <td>1</td>\n",
       "      <td>0</td>\n",
       "      <td>1</td>\n",
       "    </tr>\n",
       "  </tbody>\n",
       "</table>\n",
       "<p>5 rows × 25 columns</p>\n",
       "</div>"
      ],
      "text/plain": [
       "   Unnamed: 0  age  priors_count  days_b_screening_arrest  decile_score  \\\n",
       "0           1   69             0                       -1             1   \n",
       "1           2   34             0                       -1             3   \n",
       "2           3   24             4                       -1             4   \n",
       "3           4   44             0                        0             1   \n",
       "4           5   41            14                       -1             6   \n",
       "\n",
       "   is_recid  two_year_recid  juv_fel_count  juv_misd_count  juv_other_count  \\\n",
       "0         0               0              0               0                0   \n",
       "1         1               1              0               0                0   \n",
       "2         1               1              0               0                1   \n",
       "3         0               0              0               0                0   \n",
       "4         1               1              0               0                0   \n",
       "\n",
       "   ...  hispanic  asian  other  less_than_25  between_25_45  greater_than_25  \\\n",
       "0  ...         0      0      1             0              0                1   \n",
       "1  ...         0      0      0             0              1                0   \n",
       "2  ...         0      0      0             1              0                0   \n",
       "3  ...         0      0      1             0              1                0   \n",
       "4  ...         0      0      0             0              1                0   \n",
       "\n",
       "   score_low  score_medium  score_high  Male  \n",
       "0          1             0           0     1  \n",
       "1          1             0           0     1  \n",
       "2          1             0           0     1  \n",
       "3          1             0           0     1  \n",
       "4          0             1           0     1  \n",
       "\n",
       "[5 rows x 25 columns]"
      ]
     },
     "execution_count": 168,
     "metadata": {},
     "output_type": "execute_result"
    }
   ],
   "source": [
    "df = (\n",
    "    pd.read_csv(\"propublica_ext.csv\")\n",
    "    #We first binarize the categorical feature c_charge_degree\n",
    "    .assign(c_charge=lambda x:x['c_charge_degree'].replace({'F': 1, 'M':0}))\n",
    "    #race\n",
    "    .assign(african_american=lambda x:x['race'].replace({'Other': 0, 'African-American': 1, 'Caucasian': 0, 'Hispanic': 0, 'Asian': 0,'Native American': 0}))\n",
    "    .assign(caucasian=lambda x:x['race'].replace({'Other': 0, 'African-American': 0, 'Caucasian': 1, 'Hispanic': 0, 'Asian': 0,'Native American': 0}))\n",
    "    .assign(native_american=lambda x:x['race'].replace({'Other': 0, 'African-American': 0, 'Caucasian': 0, 'Hispanic': 0, 'Asian': 0,'Native American': 1}))\n",
    "    .assign(hispanic=lambda x:x['race'].replace({'Other': 0, 'African-American': 0, 'Caucasian': 0, 'Hispanic': 1, 'Asian': 0,'Native American': 0}))\n",
    "    .assign(asian=lambda x:x['race'].replace({'Other': 0, 'African-American': 0, 'Caucasian': 0, 'Hispanic': 0, 'Asian': 1,'Native American': 0}))\n",
    "    .assign(other=lambda x:x['race'].replace({'Other': 1, 'African-American': 0, 'Caucasian': 0, 'Hispanic': 0, 'Asian': 0,'Native American': 0}))\n",
    "    #age_cat\n",
    "    .assign(less_than_25=lambda x:x['age_cat'].replace({'Greater than 45':0, '25 - 45':0, 'Less than 25':1}))\n",
    "    .assign(between_25_45=lambda x:x['age_cat'].replace({'Greater than 45':0, '25 - 45':1, 'Less than 25':0}))\n",
    "    .assign(greater_than_25=lambda x:x['age_cat'].replace({'Greater than 45':1, '25 - 45':0, 'Less than 25':0}))\n",
    "    #score_text\n",
    "    .assign(score_low=lambda x:x['score_text'].replace({'Low':1, 'Medium':0, 'High':0}))\n",
    "    .assign(score_medium=lambda x:x['score_text'].replace({'Low':0, 'Medium':1, 'High':0}))\n",
    "    .assign(score_high=lambda x:x['score_text'].replace({'Low':0, 'Medium':0, 'High':1}))\n",
    "    #sex\n",
    "    .assign(Male=lambda x:x['sex'].replace({'Male': 1, 'Female':0}))\n",
    "    \n",
    ")\n",
    "DeleteList=['c_charge_degree','race','age_cat','score_text','sex','c_jail_in','c_jail_out']\n",
    "df=df.drop(DeleteList, axis=1)\n",
    "print(\"Dataset with %d\" % df.shape[0],\"objects and %d\" % df.shape[1], \"variables\") #We calculate the number of objects in the dataset\n",
    "\n",
    "df.head()\n"
   ]
  },
  {
   "cell_type": "markdown",
   "metadata": {},
   "source": [
    "Actually, our dataset is only composed of 23 variables, since we do not include the first column as variable, and the variable \"two_year_recid\" is the binary label to predict.\n",
    "\n",
    "We then define our data and our label:\n"
   ]
  },
  {
   "cell_type": "code",
   "execution_count": 169,
   "metadata": {},
   "outputs": [
    {
     "data": {
      "text/plain": [
       "Index(['Unnamed: 0', 'age', 'priors_count', 'days_b_screening_arrest',\n",
       "       'decile_score', 'is_recid', 'two_year_recid', 'juv_fel_count',\n",
       "       'juv_misd_count', 'juv_other_count', 'is_violent_recid', 'c_charge',\n",
       "       'african_american', 'caucasian', 'native_american', 'hispanic', 'asian',\n",
       "       'other', 'less_than_25', 'between_25_45', 'greater_than_25',\n",
       "       'score_low', 'score_medium', 'score_high', 'Male'],\n",
       "      dtype='object')"
      ]
     },
     "metadata": {},
     "output_type": "display_data"
    }
   ],
   "source": [
    "display(df.columns)"
   ]
  },
  {
   "cell_type": "markdown",
   "metadata": {},
   "source": [
    "We now select from this list only the variables we want to consider in our classification problem and the corresponding labels:"
   ]
  },
  {
   "cell_type": "code",
   "execution_count": 177,
   "metadata": {},
   "outputs": [],
   "source": [
    "# Here is a way to select these columns using the column names\n",
    "    \n",
    "#feature_columns = ['Number_of_Priors', 'score_factor','Age_Above_FourtyFive', 'Age_Below_TwentyFive', 'African_American','Asian', 'Hispanic', 'Native_American', 'Other', 'Female',       'Misdemeanor']\n",
    "\n",
    "feature_columns = ['age', 'priors_count', 'days_b_screening_arrest',\n",
    "         'juv_fel_count',\n",
    "       'juv_misd_count', 'juv_other_count', 'is_violent_recid', 'c_charge',\n",
    "        'less_than_25', 'between_25_45', 'greater_than_25',\n",
    "        'Male']\n",
    "\n",
    "\n",
    "data = df[feature_columns].values\n",
    "y = df['two_year_recid'].values\n",
    "df=df.assign(COMPAS_Decision=lambda x:x['score_low'].replace({0: 1, 1:0}))\n",
    "y_compas = df['COMPAS_Decision'].values"
   ]
  },
  {
   "cell_type": "code",
   "execution_count": 178,
   "metadata": {},
   "outputs": [],
   "source": [
    "#We load the libraries for the SVM\n",
    "\n",
    "from sklearn.svm import SVC\n",
    "from sklearn.model_selection import train_test_split\n",
    "\n",
    "# shuffle the data\n",
    "#n_samples=data.shape[0]\n",
    "#perm = list(range(0,n_samples))\n",
    "#shuffle(perm)\n",
    "#data = data[perm]\n",
    "#y = y[perm]\n",
    "#y_compas=y_compas[perm]\n",
    "\n",
    "\n",
    "#Create train and validation set\n",
    "#train_x, test_x, train_y, test_y = train_test_split(data, y, test_size=0.1, shuffle=True, stratify=y, random_state=42)\n",
    "\n",
    "svm_clf = SVC(kernel=\"linear\", C=1.0)\n",
    "svm_clf.fit(data, y)\n",
    "\n",
    "y_pred=svm_clf.predict(data)\n",
    "\n",
    "\n",
    "#svm_clf = SVC(kernel=\"linear\", C=1.0)\n",
    "#svm_clf.fit(train_x, train_y)\n",
    "\n",
    "#ytrain_pred=svm_clf.predict(train_x)\n",
    "#ytest_pred=svm_clf.predict(test_x)\n",
    "\n"
   ]
  },
  {
   "cell_type": "code",
   "execution_count": 179,
   "metadata": {},
   "outputs": [
    {
     "name": "stdout",
     "output_type": "stream",
     "text": [
      " Accuracy SVM (All):  \t 70.01 %\n",
      " Accuracy SVM (Black):\t 68.57 %\n",
      " Accuracy SVM (White):\t 71.18 %\n",
      "\n",
      "FPR SVM 9.60 %\n",
      "FNR SVM 54.40 %\n"
     ]
    }
   ],
   "source": [
    "b_recid = df[df['african_american'] == 1]\n",
    "w_recid = df[df['caucasian'] == 1]\n",
    "print(\n",
    "    ' Accuracy SVM (All):  \\t %.2f' % (metrics.accuracy_score(y, y_pred)*100), \"%\\n\",\n",
    "    'Accuracy SVM (Black):\\t %.2f' % (metrics.accuracy_score(y_pred[df['african_american'] == 1], b_recid['two_year_recid'])*100),\"%\\n\", \n",
    "    'Accuracy SVM (White):\\t %.2f' % (metrics.accuracy_score(y_pred[df['caucasian'] == 1], w_recid['two_year_recid'])*100),\"%\\n\",\n",
    "\n",
    ")\n",
    "\n",
    "pd.crosstab(y_pred, df['two_year_recid'], rownames=['Predicted recividism'],colnames=['Actual recividism'],normalize='columns')\n",
    "\n",
    "FPR_s=pd.crosstab(y_pred, df['two_year_recid'], rownames=['Predicted recividism'],colnames=['Actual recividism'],normalize='columns')[0][1]\n",
    "FNR_s=pd.crosstab(y_pred, df['two_year_recid'], rownames=['Predicted recividism'],colnames=['Actual recividism'],normalize='columns')[1][0].astype('float')\n",
    "\n",
    "print(\"FPR SVM %.2f\" % (FPR_s*100),\"%\")\n",
    "print(\"FNR SVM %.2f\" % (FNR_s*100),\"%\")\n",
    "\n",
    "\n"
   ]
  },
  {
   "cell_type": "markdown",
   "metadata": {},
   "source": [
    "## Questions:\n",
    "\n",
    "**11-** Provide the accuracy for the COMPAS dataset.\n",
    "\n",
    "**12-** Provide the accuracy for black defendants for the COMPAS dataset.\n",
    "\n",
    "**13-** Provide the accuracy for white defendants for the COMPAS dataset.\n",
    "\n",
    "**14-** Provide the FPR for the COMPAS dataset.\n",
    "\n",
    "**15-** Provide the FNR for the COMPAS dataset.\n",
    "\n"
   ]
  },
  {
   "cell_type": "markdown",
   "metadata": {},
   "source": [
    "<font color = 'brown'>\n",
    "\n",
    "11 - Provide the accuracy for the COMPAS dataset.\n",
    "    \n",
    "</font>"
   ]
  },
  {
   "cell_type": "code",
   "execution_count": 180,
   "metadata": {},
   "outputs": [
    {
     "name": "stdout",
     "output_type": "stream",
     "text": [
      "Accuracy of COMPAS DATASET:  0.6607 \n",
      "\n"
     ]
    }
   ],
   "source": [
    "print('Accuracy of COMPAS DATASET: ',round(metrics.accuracy_score(y_true = df['two_year_recid'],y_pred = df['COMPAS_Decision']),4),'\\n')"
   ]
  },
  {
   "cell_type": "markdown",
   "metadata": {},
   "source": [
    "<font color = 'brown'>\n",
    "\n",
    "12- Provide the accuracy for black defendants for the COMPAS dataset.\n",
    "    \n",
    "</font>"
   ]
  },
  {
   "cell_type": "code",
   "execution_count": 181,
   "metadata": {},
   "outputs": [
    {
     "name": "stdout",
     "output_type": "stream",
     "text": [
      "Accuracy of Black:  0.6491 \n",
      "\n"
     ]
    }
   ],
   "source": [
    "print('Accuracy of Black: ',round(metrics.accuracy_score(y_true = b_recid['two_year_recid'],y_pred = b_recid['COMPAS_Decision']),4),'\\n')"
   ]
  },
  {
   "cell_type": "markdown",
   "metadata": {},
   "source": [
    "<font color = 'brown'>\n",
    "\n",
    "13- Provide the accuracy for white defendants for the COMPAS dataset.\n",
    "    \n",
    "</font>"
   ]
  },
  {
   "cell_type": "code",
   "execution_count": 182,
   "metadata": {},
   "outputs": [
    {
     "name": "stdout",
     "output_type": "stream",
     "text": [
      "Accuracy of White:  0.6719 \n",
      "\n"
     ]
    }
   ],
   "source": [
    "print('Accuracy of White: ',round(metrics.accuracy_score(y_true = w_recid['two_year_recid'],y_pred = w_recid['COMPAS_Decision']),4),'\\n')"
   ]
  },
  {
   "cell_type": "markdown",
   "metadata": {},
   "source": [
    "<font color = 'brown'>\n",
    "\n",
    "14- Provide the FPR for the COMPAS dataset.\n",
    "    \n",
    "</font>"
   ]
  },
  {
   "cell_type": "code",
   "execution_count": 183,
   "metadata": {},
   "outputs": [
    {
     "name": "stdout",
     "output_type": "stream",
     "text": [
      "FPR is 30.27 %\n"
     ]
    }
   ],
   "source": [
    "FPR=pd.crosstab(df['COMPAS_Decision'], df['two_year_recid'], rownames=['Predicted recividism'],colnames=['Actual recividism'],normalize='columns')[0][1]\n",
    "print(\"FPR is %.2f\" % (FPR*100),\"%\")"
   ]
  },
  {
   "cell_type": "markdown",
   "metadata": {},
   "source": [
    "<font color = 'brown'>\n",
    "\n",
    "15- Provide the FNR for the COMPAS dataset.\n",
    "    \n",
    "</font>"
   ]
  },
  {
   "cell_type": "code",
   "execution_count": 184,
   "metadata": {},
   "outputs": [
    {
     "name": "stdout",
     "output_type": "stream",
     "text": [
      "FNR is 38.31 %\n"
     ]
    }
   ],
   "source": [
    "FNR=pd.crosstab(df['COMPAS_Decision'], df['two_year_recid'], rownames=['Predicted recividism'],colnames=['Actual recividism'],normalize='columns')[1][0].astype('float')\n",
    "print(\"FNR is %.2f\" % (FNR*100),\"%\")"
   ]
  },
  {
   "cell_type": "code",
   "execution_count": 185,
   "metadata": {},
   "outputs": [
    {
     "name": "stdout",
     "output_type": "stream",
     "text": [
      "FPR of Black 42.34 %\n",
      "FNR of Black 28.48 %\n"
     ]
    }
   ],
   "source": [
    "#For the COMPAS:\n",
    "FPR_b=pd.crosstab(b_recid['COMPAS_Decision'], b_recid['two_year_recid'], rownames=['Predicted recividism'],colnames=['Actual recividism'],normalize='columns')[0][1]\n",
    "\n",
    "FNR_b=pd.crosstab(b_recid['COMPAS_Decision'], b_recid['two_year_recid'], rownames=['Predicted recividism'],colnames=['Actual recividism'],normalize='columns')[1][0].astype('float')\n",
    "\n",
    "print(\"FPR of Black %.2f\" % (FPR_b*100),\"%\")\n",
    "print(\"FNR of Black %.2f\" % (FNR_b*100),\"%\")\n",
    "\n"
   ]
  },
  {
   "cell_type": "markdown",
   "metadata": {},
   "source": [
    "## Questions:\n",
    "\n",
    "For the COMPAS classifier:\n",
    "\n",
    "**16-** Calculate the FPR for white defendants.\n",
    "\n",
    "**17-** Calculate the FNR for white defendants.\n",
    "\n",
    "**18-** Replace **x** by the right number in the two following statement:\n",
    "\n",
    "\"FPR of Black is **x** times greater than for White\"\n",
    "\n",
    "**19-** Replace **x** by the right number in the two following statement:\n",
    "\n",
    "\"FNR of Black is **x** times smaller than for White\"\n",
    "\n"
   ]
  },
  {
   "cell_type": "markdown",
   "metadata": {},
   "source": [
    "<font color = 'brown'>\n",
    "\n",
    "16 - Calculate the FPR for white defendants.\n",
    "    \n",
    "</font>"
   ]
  },
  {
   "cell_type": "code",
   "execution_count": 186,
   "metadata": {},
   "outputs": [
    {
     "name": "stdout",
     "output_type": "stream",
     "text": [
      "FPR of white 22.01 %\n"
     ]
    }
   ],
   "source": [
    "FPR_w=pd.crosstab(w_recid['COMPAS_Decision'], w_recid['two_year_recid'], rownames=['Predicted recividism'],colnames=['Actual recividism'],normalize='columns')[0][1]\n",
    "print(\"FPR of white %.2f\" % (FPR_w*100),\"%\")\n",
    "\n"
   ]
  },
  {
   "cell_type": "markdown",
   "metadata": {},
   "source": [
    "<font color = 'brown'>\n",
    "\n",
    "17 - Calculate the FPR for white defendants.\n",
    "    \n",
    "</font>"
   ]
  },
  {
   "cell_type": "code",
   "execution_count": 187,
   "metadata": {},
   "outputs": [
    {
     "name": "stdout",
     "output_type": "stream",
     "text": [
      "FNR of white 49.64 %\n"
     ]
    }
   ],
   "source": [
    "FNR_w=pd.crosstab(w_recid['COMPAS_Decision'], w_recid['two_year_recid'], rownames=['Predicted recividism'],colnames=['Actual recividism'],normalize='columns')[1][0].astype('float')\n",
    "print(\"FNR of white %.2f\" % (FNR_w*100),\"%\")\n",
    "\n"
   ]
  },
  {
   "cell_type": "markdown",
   "metadata": {},
   "source": [
    "<font color = 'brown'>\n",
    "\n",
    "18- Replace x by the right number in the two following statement:\n",
    "\n",
    "\"FPR of Black is x times greater than for White\"\n",
    "    \n",
    "</font>"
   ]
  },
  {
   "cell_type": "code",
   "execution_count": 188,
   "metadata": {},
   "outputs": [
    {
     "name": "stdout",
     "output_type": "stream",
     "text": [
      "FPR of Black 1.92 times greater than for white\n"
     ]
    }
   ],
   "source": [
    "print(\"FPR of Black %.2f\" % ((FPR_b/FPR_w)),'times greater than for white')"
   ]
  },
  {
   "cell_type": "markdown",
   "metadata": {},
   "source": [
    "<font color = 'brown'>\n",
    "\n",
    "19 - Replace x by the right number in the two following statement:\n",
    "\n",
    "\"FNR of Black is x times smaller than for White\"\n",
    "    \n",
    "</font>"
   ]
  },
  {
   "cell_type": "code",
   "execution_count": 189,
   "metadata": {},
   "outputs": [
    {
     "name": "stdout",
     "output_type": "stream",
     "text": [
      "FNR of Black 1.74 times smaller than for white\n"
     ]
    }
   ],
   "source": [
    "print(\"FNR of Black %.2f\" % ((FNR_w/FNR_b)),'times smaller than for white')"
   ]
  },
  {
   "cell_type": "code",
   "execution_count": 190,
   "metadata": {},
   "outputs": [
    {
     "name": "stdout",
     "output_type": "stream",
     "text": [
      "FPR of Black 13.74 %\n",
      "FNR of Black 47.56 %\n"
     ]
    }
   ],
   "source": [
    "#For the SVM:\n",
    "FPR_b=pd.crosstab(y_pred[df['african_american'] == 1], b_recid['two_year_recid'], rownames=['Predicted recividism'],colnames=['Actual recividism'],normalize='columns')[0][1]\n",
    "FNR_b=pd.crosstab(y_pred[df['african_american'] == 1], b_recid['two_year_recid'], rownames=['Predicted recividism'],colnames=['Actual recividism'],normalize='columns')[1][0].astype('float')\n",
    "\n",
    "print(\"FPR of Black %.2f\" % (FPR_b*100),\"%\")\n",
    "print(\"FNR of Black %.2f\" % (FNR_b*100),\"%\")"
   ]
  },
  {
   "cell_type": "markdown",
   "metadata": {},
   "source": [
    "## Questions:\n",
    "\n",
    "For the SVM classifier:\n",
    "\n",
    "**20-** Calculate the FPR for white defendants.\n",
    "\n",
    "**21-** Calculate the FNR for white defendants.\n",
    "\n",
    "**22-** Replace **x** by the right number in the two following statement:\n",
    "\n",
    "\"FPR of Black is **x** times greater than for White\"\n",
    "\n",
    "**23-** Replace **x** by the right number in the two following statement:\n",
    "\n",
    "\"FNR of Black is **x** times smaller than for White\""
   ]
  },
  {
   "cell_type": "markdown",
   "metadata": {},
   "source": [
    "<font color = 'brown'>\n",
    "\n",
    "20 - Calculate the FPR for white defendants.\n",
    "    \n",
    "</font>"
   ]
  },
  {
   "cell_type": "code",
   "execution_count": 191,
   "metadata": {},
   "outputs": [
    {
     "name": "stdout",
     "output_type": "stream",
     "text": [
      "FPR of white 6.48 %\n"
     ]
    }
   ],
   "source": [
    "FPR_w=pd.crosstab(y_pred[df['caucasian'] == 1], w_recid['two_year_recid'], rownames=['Predicted recividism'],colnames=['Actual recividism'],normalize='columns')[0][1]\n",
    "\n",
    "print(\"FPR of white %.2f\" % (FPR_w*100),\"%\")"
   ]
  },
  {
   "cell_type": "markdown",
   "metadata": {},
   "source": [
    "<font color = 'brown'>\n",
    "\n",
    "21 - Calculate the FNR for white defendants.\n",
    "\n",
    "    \n",
    "</font>"
   ]
  },
  {
   "cell_type": "code",
   "execution_count": 192,
   "metadata": {},
   "outputs": [
    {
     "name": "stdout",
     "output_type": "stream",
     "text": [
      "FNR of white 63.63 %\n"
     ]
    }
   ],
   "source": [
    "FNR_w=pd.crosstab(y_pred[df['caucasian'] == 1], w_recid['two_year_recid'], rownames=['Predicted recividism'],colnames=['Actual recividism'],normalize='columns')[1][0].astype('float')\n",
    "\n",
    "print(\"FNR of white %.2f\" % (FNR_w*100),\"%\")\n"
   ]
  },
  {
   "cell_type": "markdown",
   "metadata": {},
   "source": [
    "<font color = 'brown'>\n",
    "\n",
    "22 - Replace x by the right number in the two following statement:\n",
    "\n",
    "\"FPR of Black is x times greater than for White\"\n",
    "    \n",
    "</font>"
   ]
  },
  {
   "cell_type": "code",
   "execution_count": 193,
   "metadata": {},
   "outputs": [
    {
     "name": "stdout",
     "output_type": "stream",
     "text": [
      "FPR of Black 2.12 times greater than for white\n"
     ]
    }
   ],
   "source": [
    "print(\"FPR of Black %.2f\" % ((FPR_b/FPR_w)),'times greater than for white')"
   ]
  },
  {
   "cell_type": "markdown",
   "metadata": {},
   "source": [
    "<font color = 'brown'>\n",
    "\n",
    "23 - Replace x by the right number in the two following statement:\n",
    "\n",
    "\"FNR of Black is x times smaller than for White\"\n",
    "    \n",
    "</font>"
   ]
  },
  {
   "cell_type": "code",
   "execution_count": 194,
   "metadata": {},
   "outputs": [
    {
     "name": "stdout",
     "output_type": "stream",
     "text": [
      "FNR of Black 1.34 times smaller than for white\n"
     ]
    }
   ],
   "source": [
    "print(\"FNR of Black %.2f\" % ((FNR_w/FNR_b)),'times smaller than for white')"
   ]
  },
  {
   "cell_type": "markdown",
   "metadata": {},
   "source": [
    "## Questions: \n",
    "\n",
    "**24-** Fill in the following table:\n",
    "\n",
    "**25-** Which is the best solution in terms of accuracy? Is it fair (in terms of accuracy)?\n",
    "\n",
    "**26-** Which is the best solution in terms of FPR? Based on answers 18 and 22, which solution is more fair (in terms of FPR)?\n",
    "\n",
    "**27-** Which is the best solution in terms of FNR? Based on answers 19 and 23, which solution is more fair (in terms of FNR)?\n",
    "\n",
    "**28-** Calculate the 6 fairness metrics for the COMPAS classifier.\n",
    "\n",
    "**29-** Calculate the 6 fairness metrics for the SVM classifier.\n",
    "\n",
    "**30-** As a future (or actual) data scientist, which solution would you choose for **this** specific problem? Justify your answer."
   ]
  },
  {
   "cell_type": "markdown",
   "metadata": {},
   "source": [
    "<font color = 'brown'>\n",
    "\n",
    "24 - Fill in the following table:\n",
    "\n",
    "    \n",
    "</font>"
   ]
  },
  {
   "cell_type": "markdown",
   "metadata": {},
   "source": [
    "$$\n",
    "\\begin{array}{cc}\n",
    "& \\text{SVM }&\\text{COMPAS }\\\\\n",
    "&\\begin{array}{cccc}\n",
    "\\hline \\hline \n",
    "&\\text { All } & \\text { Black } & \\text { White }\\\\\n",
    "\\hline \n",
    "\\text{Accuracy}& 70.01 & 68.57  &  71.18 \\\\\n",
    "\\text{FPR}& 9.60 & 13.74 & 6.48 \\\\\n",
    "\\text{FNR}& 54.40 & 47.56  & 63.63 \\\\\n",
    "\\hline\n",
    "\\end{array}\n",
    "&\\begin{array}{cccc}\n",
    "\\hline \\hline \n",
    "&\\text { All } & \\text { Black } & \\text { White }\\\\\n",
    "\\hline \n",
    "\\text{Accuracy}& 66.07& 64.91 & 67.19  \\\\\n",
    "\\text{FPR}& 30.27 & 42.34 & 22.01 \\\\\n",
    "\\text{FNR}& 38.31 & 28.48 & 49.64 \\\\\n",
    "\\hline\n",
    "\\end{array}\\\\\n",
    "\\end{array}\n",
    "$$"
   ]
  },
  {
   "cell_type": "markdown",
   "metadata": {},
   "source": [
    "<font color = 'brown'>\n",
    "\n",
    "25 - Which is the best solution in terms of accuracy? Is it fair (in terms of accuracy)?\n",
    "    \n",
    "</font>"
   ]
  },
  {
   "cell_type": "markdown",
   "metadata": {},
   "source": [
    "The best solution in terms of accuracy is the SVM. However, in terms of fairness for each class in accuracy the difference is almost the same for both (~3)"
   ]
  },
  {
   "cell_type": "markdown",
   "metadata": {},
   "source": [
    "<font color = 'brown'>\n",
    "\n",
    "26 - Which is the best solution in terms of FPR? Based on answers 18 and 22, which solution is more fair (in terms of FPR)?\n",
    "\n",
    "    \n",
    "</font>"
   ]
  },
  {
   "cell_type": "markdown",
   "metadata": {},
   "source": [
    "The SVM has less FPR overall, but the COMPAS is more fair in terms of FPR"
   ]
  },
  {
   "cell_type": "markdown",
   "metadata": {},
   "source": [
    "<font color = 'brown'>\n",
    "\n",
    "27- Which is the best solution in terms of FNR? Based on answers 19 and 23, which solution is more fair (in terms of FNR)?\n",
    "    \n",
    "</font>"
   ]
  },
  {
   "cell_type": "markdown",
   "metadata": {},
   "source": [
    "The compas has less FNR overall, but the SVM is more fair in terms of the classes, as FNR is just 1.34 smaller for black than for white"
   ]
  },
  {
   "cell_type": "markdown",
   "metadata": {},
   "source": [
    "<font color = 'brown'>\n",
    "\n",
    "28- Calculate the 6 fairness metrics for the COMPAS classifier.\n",
    "    \n",
    "</font>"
   ]
  },
  {
   "cell_type": "code",
   "execution_count": 196,
   "metadata": {},
   "outputs": [
    {
     "name": "stdout",
     "output_type": "stream",
     "text": [
      "UNF_EOpp = 24.05 %\n",
      "UNF_EOpe = 21.95 %\n",
      "UNF_EOdds = 46.00 %\n",
      "UNF_pp = 5.84 %\n",
      "UNF_sp = 26.84 %\n",
      "UNF_DI = 53.40 %\n"
     ]
    }
   ],
   "source": [
    "UNF_EOpp_C=equal_opportunity(df['two_year_recid'],df['COMPAS_Decision'],df['african_american'])\n",
    "print('UNF_EOpp = %.2f' % (UNF_EOpp_C*100),\"%\")\n",
    "\n",
    "UNF_EOpe_C=predictive_equality(df['two_year_recid'],df['COMPAS_Decision'],df['african_american'])\n",
    "print('UNF_EOpe = %.2f' % (UNF_EOpe_C*100),\"%\")\n",
    "\n",
    "UNF_EOdds_C = equal_odds(df['two_year_recid'],df['COMPAS_Decision'],df['african_american'])\n",
    "print('UNF_EOdds = %.2f' % (UNF_EOdds_C*100),\"%\")\n",
    "\n",
    "\n",
    "UNF_pp_C=predictive_parity(df['two_year_recid'],df['COMPAS_Decision'],df['african_american'])\n",
    "print('UNF_pp = %.2f' % (UNF_pp_C*100),\"%\")\n",
    "\n",
    "UNF_sp_C=statistical_parity(df['two_year_recid'],df['COMPAS_Decision'],df['african_american'])\n",
    "print('UNF_sp = %.2f' % (UNF_sp_C*100),\"%\")\n",
    "\n",
    "\n",
    "UNF_DI_C=disparate_impact(df['two_year_recid'],df['COMPAS_Decision'],df['african_american'])\n",
    "print('UNF_DI = %.2f' % (UNF_DI_C*100),\"%\")"
   ]
  },
  {
   "cell_type": "markdown",
   "metadata": {},
   "source": [
    "<font color = 'brown'>\n",
    "\n",
    "29- Calculate the 6 fairness metrics for the SVM classifier.\n",
    "    \n",
    "</font>"
   ]
  },
  {
   "cell_type": "code",
   "execution_count": 197,
   "metadata": {},
   "outputs": [
    {
     "name": "stdout",
     "output_type": "stream",
     "text": [
      "UNF_EOpp = 16.72 %\n",
      "UNF_EOpe = 7.52 %\n",
      "UNF_EOdds = 24.24 %\n",
      "UNF_pp = 2.63 %\n",
      "UNF_sp = 16.47 %\n",
      "UNF_DI = 51.55 %\n"
     ]
    }
   ],
   "source": [
    "UNF_EOpp_SVM=equal_opportunity(y,y_pred,df['african_american'])\n",
    "print('UNF_EOpp = %.2f' % (UNF_EOpp_SVM*100),\"%\")\n",
    "\n",
    "UNF_EOpe_SVM=predictive_equality(y,y_pred,df['african_american'])\n",
    "print('UNF_EOpe = %.2f' % (UNF_EOpe_SVM*100),\"%\")\n",
    "\n",
    "UNF_EOdds_SVM = equal_odds(y,y_pred,df['african_american'])\n",
    "print('UNF_EOdds = %.2f' % (UNF_EOdds_SVM*100),\"%\")\n",
    "\n",
    "\n",
    "UNF_pp_SVM=predictive_parity(y,y_pred,df['african_american'])\n",
    "print('UNF_pp = %.2f' % (UNF_pp_SVM*100),\"%\")\n",
    "\n",
    "UNF_sp_SVM=statistical_parity(y,y_pred,df['african_american'])\n",
    "print('UNF_sp = %.2f' % (UNF_sp_SVM*100),\"%\")\n",
    "\n",
    "\n",
    "UNF_DI_SVM=disparate_impact(y,y_pred,df['african_american'])\n",
    "print('UNF_DI = %.2f' % (UNF_DI_SVM*100),\"%\")"
   ]
  },
  {
   "cell_type": "markdown",
   "metadata": {},
   "source": [
    "<font color = 'brown'>\n",
    "\n",
    "30- As a future (or actual) data scientist, which solution would you choose for this specific problem? Justify your answer.\n",
    "    \n",
    "</font>"
   ]
  },
  {
   "cell_type": "code",
   "execution_count": null,
   "metadata": {},
   "outputs": [],
   "source": []
  }
 ],
 "metadata": {
  "kernelspec": {
   "display_name": "Python 3",
   "language": "python",
   "name": "python3"
  },
  "language_info": {
   "codemirror_mode": {
    "name": "ipython",
    "version": 3
   },
   "file_extension": ".py",
   "mimetype": "text/x-python",
   "name": "python",
   "nbconvert_exporter": "python",
   "pygments_lexer": "ipython3",
   "version": "3.8.5"
  }
 },
 "nbformat": 4,
 "nbformat_minor": 5
}
