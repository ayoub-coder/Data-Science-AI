{
 "cells": [
  {
   "cell_type": "markdown",
   "metadata": {},
   "source": [
    "# SVM classification using active learning\n",
    "Diane Lingrand (diane.lingrand@univ-cotedazur)\n",
    "\n",
    "**DSAI evaluation, March 2022**"
   ]
  },
  {
   "cell_type": "markdown",
   "metadata": {},
   "source": [
    "Write your name here:"
   ]
  },
  {
   "cell_type": "markdown",
   "metadata": {},
   "source": [
    "Documentation SVM: https://scikit-learn.org/stable/modules/generated/sklearn.svm.SVC.html"
   ]
  },
  {
   "cell_type": "code",
   "execution_count": 19,
   "metadata": {
    "ExecuteTime": {
     "end_time": "2022-03-19T14:19:08.723491Z",
     "start_time": "2022-03-19T14:19:05.776369Z"
    }
   },
   "outputs": [],
   "source": [
    "#necessary imports\n",
    "import matplotlib.pyplot as plt\n",
    "import numpy as np\n",
    "from sklearn import svm\n",
    "from sklearn.metrics import confusion_matrix, plot_confusion_matrix, f1_score, accuracy_score"
   ]
  },
  {
   "cell_type": "markdown",
   "metadata": {},
   "source": [
    "## dataset: digits"
   ]
  },
  {
   "cell_type": "code",
   "execution_count": 20,
   "metadata": {
    "ExecuteTime": {
     "end_time": "2022-03-19T14:19:10.226132Z",
     "start_time": "2022-03-19T14:19:10.096210Z"
    }
   },
   "outputs": [],
   "source": [
    "# loading the dataset\n",
    "from sklearn import datasets\n",
    "from sklearn.datasets import load_digits\n",
    "digits = load_digits()\n",
    "(X,y) = datasets.load_digits(return_X_y=True)\n"
   ]
  },
  {
   "cell_type": "code",
   "execution_count": 21,
   "metadata": {},
   "outputs": [
    {
     "data": {
      "text/plain": [
       "(1797, 64)"
      ]
     },
     "execution_count": 21,
     "metadata": {},
     "output_type": "execute_result"
    }
   ],
   "source": [
    "X.shape"
   ]
  },
  {
   "cell_type": "code",
   "execution_count": 22,
   "metadata": {},
   "outputs": [
    {
     "data": {
      "text/plain": [
       "2"
      ]
     },
     "execution_count": 22,
     "metadata": {},
     "output_type": "execute_result"
    }
   ],
   "source": [
    "X.ndim"
   ]
  },
  {
   "cell_type": "markdown",
   "metadata": {},
   "source": [
    "**Question 1** \n",
    "- What is the dimension of the data space ? \n",
    "- How many data in the digits dataset ?\n",
    "\n",
    "Compute these values (even if they are available on the net). Print the results in the form (10 and 100 are examples, not the correct values):\n",
    "\n",
    "    Data are of dimension: 10.\n",
    "    There are 100 data in the digits dataset."
   ]
  },
  {
   "cell_type": "code",
   "execution_count": 23,
   "metadata": {
    "ExecuteTime": {
     "end_time": "2022-03-19T14:19:20.152840Z",
     "start_time": "2022-03-19T14:19:20.141566Z"
    }
   },
   "outputs": [
    {
     "name": "stdout",
     "output_type": "stream",
     "text": [
      "There are 1797.00 data in the digits dataset\n",
      "data are of dimension 2.00\n"
     ]
    }
   ],
   "source": [
    "#write your solution here\n",
    "print(\"There are %.2f data in the digits dataset\" %X.shape[0])\n",
    "print(\"data are of dimension %.2f\" %X.ndim) # dimension of the data space"
   ]
  },
  {
   "cell_type": "code",
   "execution_count": 24,
   "metadata": {
    "ExecuteTime": {
     "end_time": "2022-03-19T14:24:01.292093Z",
     "start_time": "2022-03-19T14:24:01.288254Z"
    }
   },
   "outputs": [],
   "source": [
    "# you will consider only 2 classes: the 3's and the 7's\n",
    "c1 = 3\n",
    "c2 = 7"
   ]
  },
  {
   "cell_type": "code",
   "execution_count": 25,
   "metadata": {},
   "outputs": [],
   "source": [
    "# #write your solution here\n",
    "# mesClasses_X = (y==c1)|(y==c2)\n",
    "# mesClasses_X.shape\n",
    "# XClasses = np.array(X[mesClasses_X,:])\n",
    "# YClasses = np.array((y[mesClasses_X]-c1)/(c2-c1))"
   ]
  },
  {
   "cell_type": "markdown",
   "metadata": {
    "ExecuteTime": {
     "end_time": "2022-03-19T14:22:55.644896Z",
     "start_time": "2022-03-19T14:22:55.637401Z"
    }
   },
   "source": [
    "**Question 2:**\n",
    "\n",
    "Set X to contain the part of the data from the original variable X that contains only data with labels 3 or 7. Set y to the corresponding labels: 0 value for class '3' and 1 value for class '7'."
   ]
  },
  {
   "cell_type": "code",
   "execution_count": 38,
   "metadata": {},
   "outputs": [],
   "source": [
    "X1 = X[X==3]\n",
    "X2 = X[X==7]\n",
    "# # OR\n",
    "# XX = (X[X==3]) | (X[X==7])\n",
    "X = np.concatenate([X1, X2])\n",
    "y = []\n",
    "for i in X:\n",
    "    if(i == 3):\n",
    "        y.append(0)\n",
    "    else:\n",
    "        y.append(1)\n",
    "y = np.array(y)"
   ]
  },
  {
   "cell_type": "markdown",
   "metadata": {
    "ExecuteTime": {
     "end_time": "2022-03-19T14:25:05.671824Z",
     "start_time": "2022-03-19T14:25:05.666178Z"
    }
   },
   "source": [
    "**Question 3:**\n",
    "\n",
    "How many samples for class '3' and for class '7'? Print the values this way:\n",
    "    \n",
    "    There are ... data in class 3 and ... data in class 7."
   ]
  },
  {
   "cell_type": "code",
   "execution_count": 27,
   "metadata": {},
   "outputs": [
    {
     "data": {
      "text/plain": [
       "((5571,), (5571,))"
      ]
     },
     "execution_count": 27,
     "metadata": {},
     "output_type": "execute_result"
    }
   ],
   "source": [
    "X.shape, y.shape"
   ]
  },
  {
   "cell_type": "code",
   "execution_count": 28,
   "metadata": {},
   "outputs": [
    {
     "data": {
      "text/plain": [
       "((3342,), (3342,), (2229,), (2229,))"
      ]
     },
     "execution_count": 28,
     "metadata": {},
     "output_type": "execute_result"
    }
   ],
   "source": [
    "# split into train and test datasets\n",
    "from sklearn.model_selection import train_test_split\n",
    "X_train, X_test, y_train, y_test = train_test_split(X, y, test_size=0.4)\n",
    "X_train.shape,y_train.shape, X_test.shape, y_test.shape"
   ]
  },
  {
   "cell_type": "code",
   "execution_count": 29,
   "metadata": {},
   "outputs": [
    {
     "data": {
      "text/plain": [
       "((3342, 1), (3342, 1), (2229, 1), (2229, 1))"
      ]
     },
     "execution_count": 29,
     "metadata": {},
     "output_type": "execute_result"
    }
   ],
   "source": [
    "X_train_reshape= X_train.reshape(-1,1)\n",
    "X_test_reshape= X_test.reshape(-1,1)\n",
    "y_train_reshape= y_train.reshape(-1,1)\n",
    "y_test_reshape= y_test.reshape(-1,1)\n",
    "X_train_reshape.shape, y_train_reshape.shape, X_test_reshape.shape, y_test_reshape.shape"
   ]
  },
  {
   "cell_type": "markdown",
   "metadata": {
    "ExecuteTime": {
     "end_time": "2022-03-19T14:31:56.749308Z",
     "start_time": "2022-03-19T14:31:56.743447Z"
    }
   },
   "source": [
    "## Baseline: train a linear SVM on the whole train dataset"
   ]
  },
  {
   "cell_type": "markdown",
   "metadata": {},
   "source": [
    "**Question 4:**\n",
    "\n",
    "Using a linear kernel and a default C value to 1, learn the SVM classification of 3's versus 7's with the whole train dataset.\n"
   ]
  },
  {
   "cell_type": "code",
   "execution_count": 30,
   "metadata": {
    "ExecuteTime": {
     "end_time": "2022-03-19T14:45:54.916206Z",
     "start_time": "2022-03-19T14:45:54.901029Z"
    }
   },
   "outputs": [
    {
     "name": "stderr",
     "output_type": "stream",
     "text": [
      "C:\\Users\\Polytech\\anaconda3\\lib\\site-packages\\sklearn\\utils\\validation.py:993: DataConversionWarning: A column-vector y was passed when a 1d array was expected. Please change the shape of y to (n_samples, ), for example using ravel().\n",
      "  y = column_or_1d(y, warn=True)\n"
     ]
    }
   ],
   "source": [
    "#write your solution here\n",
    "#write your solution here\n",
    "mysvm = svm.SVC(kernel='linear')\n",
    "mysvm.fit(X_train_reshape,y_train_reshape)\n",
    "#write your solution here\n",
    "ypred= mysvm.predict(y_test_reshape) # predicting the value using mysvm of the testing dataset X_test"
   ]
  },
  {
   "cell_type": "markdown",
   "metadata": {},
   "source": [
    "**Question 5:**\n",
    "\n",
    "Compute the different metrics (F1 score, accuracy and confusion matrix) on the test dataset."
   ]
  },
  {
   "cell_type": "code",
   "execution_count": 34,
   "metadata": {
    "ExecuteTime": {
     "end_time": "2022-03-19T14:45:56.780339Z",
     "start_time": "2022-03-19T14:45:56.502252Z"
    }
   },
   "outputs": [
    {
     "data": {
      "text/plain": [
       "0.34633431085043986"
      ]
     },
     "execution_count": 34,
     "metadata": {},
     "output_type": "execute_result"
    }
   ],
   "source": [
    "#write your solution here\n",
    "f1_score(y_test_reshape, ypred, average='macro')"
   ]
  },
  {
   "cell_type": "code",
   "execution_count": 35,
   "metadata": {},
   "outputs": [
    {
     "data": {
      "text/plain": [
       "0.5298340062808434"
      ]
     },
     "execution_count": 35,
     "metadata": {},
     "output_type": "execute_result"
    }
   ],
   "source": [
    "accuracy_score(y_test_reshape,ypred) #accuracy score "
   ]
  },
  {
   "cell_type": "code",
   "execution_count": 36,
   "metadata": {},
   "outputs": [
    {
     "data": {
      "text/plain": [
       "array([[1181,    0],\n",
       "       [1048,    0]], dtype=int64)"
      ]
     },
     "execution_count": 36,
     "metadata": {},
     "output_type": "execute_result"
    }
   ],
   "source": [
    "confusion_matrix(y_test_reshape, ypred)"
   ]
  },
  {
   "cell_type": "markdown",
   "metadata": {},
   "source": [
    "## Active learning with SVM"
   ]
  },
  {
   "cell_type": "markdown",
   "metadata": {},
   "source": [
    "Start with few annoted data and iterate by asking new labelled data and re-learn SVM separation. Try different selection of new labelled data."
   ]
  },
  {
   "cell_type": "code",
   "execution_count": null,
   "metadata": {
    "ExecuteTime": {
     "end_time": "2022-03-19T14:46:00.049313Z",
     "start_time": "2022-03-19T14:46:00.045054Z"
    }
   },
   "outputs": [],
   "source": [
    "# short reminder for random integers:\n",
    "import random\n",
    "a = random.randint(2, 15)\n",
    "# a is random integer such that 2 <= a <= 15"
   ]
  },
  {
   "cell_type": "code",
   "execution_count": null,
   "metadata": {
    "ExecuteTime": {
     "end_time": "2022-03-19T14:46:00.532755Z",
     "start_time": "2022-03-19T14:46:00.528466Z"
    }
   },
   "outputs": [],
   "source": [
    "#In order to avoid any modification in (xTrain, yTrain), we will work on a copy in the next cells:\n",
    "xTrainP = np.copy(X_train)\n",
    "yTrainP = np.copy(y_train)"
   ]
  },
  {
   "cell_type": "markdown",
   "metadata": {},
   "source": [
    "**Question 6: Initialisation of the active training dataset**\n",
    "\n",
    "Construct a new training dataset named (xActif,yActif). For it's initialisation, take randomly nb0 data from the copy of the original training dataset (xTrainP, yTrainP). You are allowed to use informations from yTrainP in order to get half of nb0 data for each class. These nb0 data are also removed from (xTrainP,yTrainP). Removing data can be done using [np.delete](https://numpy.org/doc/stable/reference/generated/numpy.delete.html)."
   ]
  },
  {
   "cell_type": "code",
   "execution_count": null,
   "metadata": {
    "ExecuteTime": {
     "end_time": "2022-03-19T15:14:58.577610Z",
     "start_time": "2022-03-19T15:14:58.574982Z"
    }
   },
   "outputs": [],
   "source": [
    "# we assume that nb0 is an even number\n",
    "nb0 = 4 # number of data in the active training dataset at initialisation\n",
    "xActif = []\n",
    "yActif = []"
   ]
  },
  {
   "cell_type": "code",
   "execution_count": null,
   "metadata": {
    "ExecuteTime": {
     "end_time": "2022-03-19T15:15:17.495799Z",
     "start_time": "2022-03-19T15:15:17.487929Z"
    }
   },
   "outputs": [],
   "source": [
    "#write your solution here"
   ]
  },
  {
   "cell_type": "markdown",
   "metadata": {},
   "source": [
    "**Question 7: Iterations of the active learning** \n",
    "\n",
    "1. Learn a linear SVM classifier on the active training dataset\n",
    "2. Compute the accuracy on the test dataset (not modified)\n",
    "3. add randomly nb new data to the active training dataset and remove them from (xTrainP, yTrainP)\n",
    "4. Go back to step 1 (20 times)"
   ]
  },
  {
   "cell_type": "code",
   "execution_count": null,
   "metadata": {
    "ExecuteTime": {
     "end_time": "2022-03-19T15:07:49.596106Z",
     "start_time": "2022-03-19T15:07:49.572827Z"
    }
   },
   "outputs": [],
   "source": [
    "nb = 4\n",
    "#write your solution here"
   ]
  },
  {
   "cell_type": "markdown",
   "metadata": {},
   "source": [
    "**Question 8: plot the evolution of the accuracy**\n",
    "\n",
    "Plot the accuracy with respect to the iterations from the previous question."
   ]
  },
  {
   "cell_type": "code",
   "execution_count": null,
   "metadata": {},
   "outputs": [],
   "source": [
    "#write your solution here"
   ]
  },
  {
   "cell_type": "markdown",
   "metadata": {},
   "source": [
    "**Question 9: strategy for choosing new data**\n",
    "    \n",
    "Same question as question 7 but, instead of choosing the new points randomly, at each iteration, choose the nb points that are the closest to the separation. The [decision_function](https://scikit-learn.org/stable/modules/generated/sklearn.svm.SVC.html#sklearn.svm.SVC.decision_function) from scikit-learn will help you."
   ]
  },
  {
   "cell_type": "code",
   "execution_count": null,
   "metadata": {
    "ExecuteTime": {
     "end_time": "2022-03-19T15:15:22.498119Z",
     "start_time": "2022-03-19T15:15:22.472672Z"
    }
   },
   "outputs": [],
   "source": [
    "#write your solution here"
   ]
  },
  {
   "cell_type": "markdown",
   "metadata": {},
   "source": [
    "**Question 10: plot the evolution of the accuracy**\n",
    "\n",
    "Plot the accuracy with respect to the iterations from the previous question.\n",
    "Compare with question 8. Also compare with the baseline."
   ]
  },
  {
   "cell_type": "code",
   "execution_count": null,
   "metadata": {},
   "outputs": [],
   "source": [
    "#write your solution here"
   ]
  },
  {
   "cell_type": "markdown",
   "metadata": {
    "ExecuteTime": {
     "end_time": "2022-03-19T15:18:34.838217Z",
     "start_time": "2022-03-19T15:18:34.833246Z"
    }
   },
   "source": [
    "**Question 11: many random starts**\n",
    "    \n",
    "Since the initialisation is random, running previous codes can lead to different curves for questions 8 and 10. Write here the code necessary for plotting several (e.g. 10) curves corresponding to questions 8 and 10 and display these new plots. Which one is the best strategy.\n",
    "    "
   ]
  },
  {
   "cell_type": "code",
   "execution_count": null,
   "metadata": {
    "ExecuteTime": {
     "end_time": "2022-02-14T10:57:09.508550Z",
     "start_time": "2022-02-14T10:57:08.373344Z"
    }
   },
   "outputs": [],
   "source": [
    "#write your solution here"
   ]
  },
  {
   "cell_type": "markdown",
   "metadata": {},
   "source": [
    "**Question 12: hyperparameters**\n",
    "So far, you have used the linear kernel with default parameter. Using the strategy of question 9, how could you choose the kernel and the hyperparameters ? Try different experiments such as:\n",
    "- choose the kernel and hyperparams using nb0 at starting\n",
    "- update kernel and hyperparams after few itertions\n",
    "- compare different trials    \n",
    "    "
   ]
  },
  {
   "cell_type": "code",
   "execution_count": null,
   "metadata": {},
   "outputs": [],
   "source": [
    "#write your solution here"
   ]
  }
 ],
 "metadata": {
  "hide_input": false,
  "kernelspec": {
   "display_name": "Python 3 (ipykernel)",
   "language": "python",
   "name": "python3"
  },
  "language_info": {
   "codemirror_mode": {
    "name": "ipython",
    "version": 3
   },
   "file_extension": ".py",
   "mimetype": "text/x-python",
   "name": "python",
   "nbconvert_exporter": "python",
   "pygments_lexer": "ipython3",
   "version": "3.8.12"
  },
  "latex_envs": {
   "LaTeX_envs_menu_present": true,
   "autoclose": false,
   "autocomplete": true,
   "bibliofile": "biblio.bib",
   "cite_by": "apalike",
   "current_citInitial": 1,
   "eqLabelWithNumbers": true,
   "eqNumInitial": 1,
   "hotkeys": {
    "equation": "Ctrl-E",
    "itemize": "Ctrl-I"
   },
   "labels_anchors": false,
   "latex_user_defs": false,
   "report_style_numbering": false,
   "user_envs_cfg": false
  },
  "varInspector": {
   "cols": {
    "lenName": 16,
    "lenType": 16,
    "lenVar": 40
   },
   "kernels_config": {
    "python": {
     "delete_cmd_postfix": "",
     "delete_cmd_prefix": "del ",
     "library": "var_list.py",
     "varRefreshCmd": "print(var_dic_list())"
    },
    "r": {
     "delete_cmd_postfix": ") ",
     "delete_cmd_prefix": "rm(",
     "library": "var_list.r",
     "varRefreshCmd": "cat(var_dic_list()) "
    }
   },
   "types_to_exclude": [
    "module",
    "function",
    "builtin_function_or_method",
    "instance",
    "_Feature"
   ],
   "window_display": false
  }
 },
 "nbformat": 4,
 "nbformat_minor": 2
}
