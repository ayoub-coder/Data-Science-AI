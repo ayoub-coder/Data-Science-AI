{
 "cells": [
  {
   "cell_type": "code",
   "execution_count": 2,
   "id": "9fde2668",
   "metadata": {},
   "outputs": [],
   "source": [
    "import warnings\n",
    "import json\n",
    "import pandas as pd\n",
    "from pandas.io.json import json_normalize\n",
    "import numpy as np\n",
    "from matplotlib.lines import Line2D\n",
    "from pandas.core.common import SettingWithCopyWarning\n",
    "\n",
    "\n",
    "raw_data_dir = \"D:/Desktop/ECL/Research_Project/\""
   ]
  },
  {
   "cell_type": "code",
   "execution_count": 3,
   "id": "f726bad4",
   "metadata": {},
   "outputs": [
    {
     "data": {
      "text/plain": [
       "[RangeIndex(start=0, stop=101924, step=1),\n",
       " Index(['result', '_id.$oid', 'timestamp.$date', 'stored.$date', 'actor.openid',\n",
       "        'actor.objectType', 'verb.id', 'object.id', 'object.objectType',\n",
       "        'object.extension',\n",
       "        'context.extension.https://www.cristal.univ-lille.fr/objects/Session/ID',\n",
       "        'context.extension.https://www.cristal.univ-lille.fr/objects/Plugin',\n",
       "        'object.extension.https://www.cristal.univ-lille.fr/objects/Command/CommandRan',\n",
       "        'object.extension.https://www.cristal.univ-lille.fr/objects/Program/CodeState',\n",
       "        'result.success',\n",
       "        'result.extension.https://www.cristal.univ-lille.fr/objects/Command/stdin',\n",
       "        'result.extension.https://www.cristal.univ-lille.fr/objects/Command/stdout',\n",
       "        'result.extension.https://www.cristal.univ-lille.fr/objects/Command/stderr',\n",
       "        'object.extension.https://www.cristal.univ-lille.fr/objects/File/Filename',\n",
       "        'object.extension.https://www.cristal.univ-lille.fr/objects/File/CodeState',\n",
       "        'object.extension.https://www.cristal.univ-lille.fr/objects/DocString/Function',\n",
       "        'object.extension.https://www.cristal.univ-lille.fr/objects/Test/TestedExpression',\n",
       "        'object.extension.https://www.cristal.univ-lille.fr/objects/Test/TestedLine',\n",
       "        'object.extension.https://www.cristal.univ-lille.fr/objects/Test/TestedFunction',\n",
       "        'result.extension.https://www.cristal.univ-lille.fr/objects/Test/expectedResult',\n",
       "        'result.extension.https://www.cristal.univ-lille.fr/objects/Test/obtainedResult'],\n",
       "       dtype='object')]"
      ]
     },
     "execution_count": 3,
     "metadata": {},
     "output_type": "execute_result"
    }
   ],
   "source": [
    "with open(raw_data_dir + \"traces.json\",encoding=\"utf8\") as f:\n",
    "    d = json.load(f)\n",
    "raw_logs = pd.json_normalize(d)\n",
    "raw_logs.axes"
   ]
  },
  {
   "cell_type": "code",
   "execution_count": 4,
   "id": "0c7b5ab2",
   "metadata": {},
   "outputs": [
    {
     "data": {
      "text/html": [
       "<div>\n",
       "<style scoped>\n",
       "    .dataframe tbody tr th:only-of-type {\n",
       "        vertical-align: middle;\n",
       "    }\n",
       "\n",
       "    .dataframe tbody tr th {\n",
       "        vertical-align: top;\n",
       "    }\n",
       "\n",
       "    .dataframe thead th {\n",
       "        text-align: right;\n",
       "    }\n",
       "</style>\n",
       "<table border=\"1\" class=\"dataframe\">\n",
       "  <thead>\n",
       "    <tr style=\"text-align: right;\">\n",
       "      <th></th>\n",
       "      <th>result</th>\n",
       "      <th>_id.$oid</th>\n",
       "      <th>timestamp.$date</th>\n",
       "      <th>stored.$date</th>\n",
       "      <th>actor.openid</th>\n",
       "      <th>actor.objectType</th>\n",
       "      <th>verb.id</th>\n",
       "      <th>object.id</th>\n",
       "      <th>object.objectType</th>\n",
       "      <th>object.extension</th>\n",
       "      <th>...</th>\n",
       "      <th>result.extension.https://www.cristal.univ-lille.fr/objects/Command/stdout</th>\n",
       "      <th>result.extension.https://www.cristal.univ-lille.fr/objects/Command/stderr</th>\n",
       "      <th>object.extension.https://www.cristal.univ-lille.fr/objects/File/Filename</th>\n",
       "      <th>object.extension.https://www.cristal.univ-lille.fr/objects/File/CodeState</th>\n",
       "      <th>object.extension.https://www.cristal.univ-lille.fr/objects/DocString/Function</th>\n",
       "      <th>object.extension.https://www.cristal.univ-lille.fr/objects/Test/TestedExpression</th>\n",
       "      <th>object.extension.https://www.cristal.univ-lille.fr/objects/Test/TestedLine</th>\n",
       "      <th>object.extension.https://www.cristal.univ-lille.fr/objects/Test/TestedFunction</th>\n",
       "      <th>result.extension.https://www.cristal.univ-lille.fr/objects/Test/expectedResult</th>\n",
       "      <th>result.extension.https://www.cristal.univ-lille.fr/objects/Test/obtainedResult</th>\n",
       "    </tr>\n",
       "  </thead>\n",
       "  <tbody>\n",
       "    <tr>\n",
       "      <th>0</th>\n",
       "      <td>NaN</td>\n",
       "      <td>631b45194ded3f694f855c9f</td>\n",
       "      <td>2022-09-09T15:52:26.476Z</td>\n",
       "      <td>2022-09-09T09:10:45.051Z</td>\n",
       "      <td>https://www.cristal.univ-lille.fr/users/fbfac6...</td>\n",
       "      <td>Agent</td>\n",
       "      <td>https://www.cristal.univ-lille.fr/verbs/Sessio...</td>\n",
       "      <td>https://www.cristal.univ-lille.fr/objects/Session</td>\n",
       "      <td>Activity</td>\n",
       "      <td>NaN</td>\n",
       "      <td>...</td>\n",
       "      <td>NaN</td>\n",
       "      <td>NaN</td>\n",
       "      <td>NaN</td>\n",
       "      <td>NaN</td>\n",
       "      <td>NaN</td>\n",
       "      <td>NaN</td>\n",
       "      <td>NaN</td>\n",
       "      <td>NaN</td>\n",
       "      <td>NaN</td>\n",
       "      <td>NaN</td>\n",
       "    </tr>\n",
       "    <tr>\n",
       "      <th>1</th>\n",
       "      <td>NaN</td>\n",
       "      <td>631b45214ded3f694f855ca0</td>\n",
       "      <td>2022-09-09T15:52:34.447Z</td>\n",
       "      <td>2022-09-09T09:10:45.051Z</td>\n",
       "      <td>https://www.cristal.univ-lille.fr/users/fbfac6...</td>\n",
       "      <td>Agent</td>\n",
       "      <td>https://www.cristal.univ-lille.fr/verbs/Sessio...</td>\n",
       "      <td>https://www.cristal.univ-lille.fr/objects/Session</td>\n",
       "      <td>Activity</td>\n",
       "      <td>NaN</td>\n",
       "      <td>...</td>\n",
       "      <td>NaN</td>\n",
       "      <td>NaN</td>\n",
       "      <td>NaN</td>\n",
       "      <td>NaN</td>\n",
       "      <td>NaN</td>\n",
       "      <td>NaN</td>\n",
       "      <td>NaN</td>\n",
       "      <td>NaN</td>\n",
       "      <td>NaN</td>\n",
       "      <td>NaN</td>\n",
       "    </tr>\n",
       "    <tr>\n",
       "      <th>2</th>\n",
       "      <td>NaN</td>\n",
       "      <td>631b46134ded3f694f855ca1</td>\n",
       "      <td>2022-09-09T15:56:36.41Z</td>\n",
       "      <td>2022-09-09T09:10:45.051Z</td>\n",
       "      <td>https://www.cristal.univ-lille.fr/users/fbfac6...</td>\n",
       "      <td>Agent</td>\n",
       "      <td>https://www.cristal.univ-lille.fr/verbs/Sessio...</td>\n",
       "      <td>https://www.cristal.univ-lille.fr/objects/Session</td>\n",
       "      <td>Activity</td>\n",
       "      <td>NaN</td>\n",
       "      <td>...</td>\n",
       "      <td>NaN</td>\n",
       "      <td>NaN</td>\n",
       "      <td>NaN</td>\n",
       "      <td>NaN</td>\n",
       "      <td>NaN</td>\n",
       "      <td>NaN</td>\n",
       "      <td>NaN</td>\n",
       "      <td>NaN</td>\n",
       "      <td>NaN</td>\n",
       "      <td>NaN</td>\n",
       "    </tr>\n",
       "  </tbody>\n",
       "</table>\n",
       "<p>3 rows × 26 columns</p>\n",
       "</div>"
      ],
      "text/plain": [
       "   result                  _id.$oid           timestamp.$date  \\\n",
       "0     NaN  631b45194ded3f694f855c9f  2022-09-09T15:52:26.476Z   \n",
       "1     NaN  631b45214ded3f694f855ca0  2022-09-09T15:52:34.447Z   \n",
       "2     NaN  631b46134ded3f694f855ca1   2022-09-09T15:56:36.41Z   \n",
       "\n",
       "               stored.$date  \\\n",
       "0  2022-09-09T09:10:45.051Z   \n",
       "1  2022-09-09T09:10:45.051Z   \n",
       "2  2022-09-09T09:10:45.051Z   \n",
       "\n",
       "                                        actor.openid actor.objectType  \\\n",
       "0  https://www.cristal.univ-lille.fr/users/fbfac6...            Agent   \n",
       "1  https://www.cristal.univ-lille.fr/users/fbfac6...            Agent   \n",
       "2  https://www.cristal.univ-lille.fr/users/fbfac6...            Agent   \n",
       "\n",
       "                                             verb.id  \\\n",
       "0  https://www.cristal.univ-lille.fr/verbs/Sessio...   \n",
       "1  https://www.cristal.univ-lille.fr/verbs/Sessio...   \n",
       "2  https://www.cristal.univ-lille.fr/verbs/Sessio...   \n",
       "\n",
       "                                           object.id object.objectType  \\\n",
       "0  https://www.cristal.univ-lille.fr/objects/Session          Activity   \n",
       "1  https://www.cristal.univ-lille.fr/objects/Session          Activity   \n",
       "2  https://www.cristal.univ-lille.fr/objects/Session          Activity   \n",
       "\n",
       "   object.extension  ...  \\\n",
       "0               NaN  ...   \n",
       "1               NaN  ...   \n",
       "2               NaN  ...   \n",
       "\n",
       "  result.extension.https://www.cristal.univ-lille.fr/objects/Command/stdout  \\\n",
       "0                                                NaN                          \n",
       "1                                                NaN                          \n",
       "2                                                NaN                          \n",
       "\n",
       "  result.extension.https://www.cristal.univ-lille.fr/objects/Command/stderr  \\\n",
       "0                                                NaN                          \n",
       "1                                                NaN                          \n",
       "2                                                NaN                          \n",
       "\n",
       "  object.extension.https://www.cristal.univ-lille.fr/objects/File/Filename  \\\n",
       "0                                                NaN                         \n",
       "1                                                NaN                         \n",
       "2                                                NaN                         \n",
       "\n",
       "  object.extension.https://www.cristal.univ-lille.fr/objects/File/CodeState  \\\n",
       "0                                                NaN                          \n",
       "1                                                NaN                          \n",
       "2                                                NaN                          \n",
       "\n",
       "  object.extension.https://www.cristal.univ-lille.fr/objects/DocString/Function  \\\n",
       "0                                                NaN                              \n",
       "1                                                NaN                              \n",
       "2                                                NaN                              \n",
       "\n",
       "  object.extension.https://www.cristal.univ-lille.fr/objects/Test/TestedExpression  \\\n",
       "0                                                NaN                                 \n",
       "1                                                NaN                                 \n",
       "2                                                NaN                                 \n",
       "\n",
       "  object.extension.https://www.cristal.univ-lille.fr/objects/Test/TestedLine  \\\n",
       "0                                                NaN                           \n",
       "1                                                NaN                           \n",
       "2                                                NaN                           \n",
       "\n",
       "  object.extension.https://www.cristal.univ-lille.fr/objects/Test/TestedFunction  \\\n",
       "0                                                NaN                               \n",
       "1                                                NaN                               \n",
       "2                                                NaN                               \n",
       "\n",
       "  result.extension.https://www.cristal.univ-lille.fr/objects/Test/expectedResult  \\\n",
       "0                                                NaN                               \n",
       "1                                                NaN                               \n",
       "2                                                NaN                               \n",
       "\n",
       "  result.extension.https://www.cristal.univ-lille.fr/objects/Test/obtainedResult  \n",
       "0                                                NaN                              \n",
       "1                                                NaN                              \n",
       "2                                                NaN                              \n",
       "\n",
       "[3 rows x 26 columns]"
      ]
     },
     "execution_count": 4,
     "metadata": {},
     "output_type": "execute_result"
    }
   ],
   "source": [
    "raw_logs.head(3)"
   ]
  },
  {
   "cell_type": "code",
   "execution_count": 5,
   "id": "06b15ea1",
   "metadata": {},
   "outputs": [],
   "source": [
    "raw_logs['timestamp'] = pd.to_datetime(raw_logs['timestamp.$date'])\n",
    "raw_logs.drop(['timestamp.$date', 'stored.$date', '_id.$oid', 'actor.objectType', 'object.objectType', 'object.extension'], inplace=True, axis=1)"
   ]
  },
  {
   "cell_type": "code",
   "execution_count": 6,
   "id": "fb49d614",
   "metadata": {},
   "outputs": [
    {
     "data": {
      "text/html": [
       "<div>\n",
       "<style scoped>\n",
       "    .dataframe tbody tr th:only-of-type {\n",
       "        vertical-align: middle;\n",
       "    }\n",
       "\n",
       "    .dataframe tbody tr th {\n",
       "        vertical-align: top;\n",
       "    }\n",
       "\n",
       "    .dataframe thead th {\n",
       "        text-align: right;\n",
       "    }\n",
       "</style>\n",
       "<table border=\"1\" class=\"dataframe\">\n",
       "  <thead>\n",
       "    <tr style=\"text-align: right;\">\n",
       "      <th></th>\n",
       "      <th>result</th>\n",
       "      <th>actor.openid</th>\n",
       "      <th>verb.id</th>\n",
       "      <th>object.id</th>\n",
       "      <th>context.extension.https://www.cristal.univ-lille.fr/objects/Session/ID</th>\n",
       "      <th>context.extension.https://www.cristal.univ-lille.fr/objects/Plugin</th>\n",
       "      <th>object.extension.https://www.cristal.univ-lille.fr/objects/Command/CommandRan</th>\n",
       "      <th>object.extension.https://www.cristal.univ-lille.fr/objects/Program/CodeState</th>\n",
       "      <th>result.success</th>\n",
       "      <th>result.extension.https://www.cristal.univ-lille.fr/objects/Command/stdin</th>\n",
       "      <th>...</th>\n",
       "      <th>result.extension.https://www.cristal.univ-lille.fr/objects/Command/stderr</th>\n",
       "      <th>object.extension.https://www.cristal.univ-lille.fr/objects/File/Filename</th>\n",
       "      <th>object.extension.https://www.cristal.univ-lille.fr/objects/File/CodeState</th>\n",
       "      <th>object.extension.https://www.cristal.univ-lille.fr/objects/DocString/Function</th>\n",
       "      <th>object.extension.https://www.cristal.univ-lille.fr/objects/Test/TestedExpression</th>\n",
       "      <th>object.extension.https://www.cristal.univ-lille.fr/objects/Test/TestedLine</th>\n",
       "      <th>object.extension.https://www.cristal.univ-lille.fr/objects/Test/TestedFunction</th>\n",
       "      <th>result.extension.https://www.cristal.univ-lille.fr/objects/Test/expectedResult</th>\n",
       "      <th>result.extension.https://www.cristal.univ-lille.fr/objects/Test/obtainedResult</th>\n",
       "      <th>timestamp</th>\n",
       "    </tr>\n",
       "  </thead>\n",
       "  <tbody>\n",
       "    <tr>\n",
       "      <th>0</th>\n",
       "      <td>NaN</td>\n",
       "      <td>https://www.cristal.univ-lille.fr/users/fbfac6...</td>\n",
       "      <td>https://www.cristal.univ-lille.fr/verbs/Sessio...</td>\n",
       "      <td>https://www.cristal.univ-lille.fr/objects/Session</td>\n",
       "      <td>139651013055280</td>\n",
       "      <td>https://www.cristal.univ-lille.fr/objects/Plug...</td>\n",
       "      <td>NaN</td>\n",
       "      <td>NaN</td>\n",
       "      <td>NaN</td>\n",
       "      <td>NaN</td>\n",
       "      <td>...</td>\n",
       "      <td>NaN</td>\n",
       "      <td>NaN</td>\n",
       "      <td>NaN</td>\n",
       "      <td>NaN</td>\n",
       "      <td>NaN</td>\n",
       "      <td>NaN</td>\n",
       "      <td>NaN</td>\n",
       "      <td>NaN</td>\n",
       "      <td>NaN</td>\n",
       "      <td>2022-09-09 15:52:26.476000+00:00</td>\n",
       "    </tr>\n",
       "    <tr>\n",
       "      <th>1</th>\n",
       "      <td>NaN</td>\n",
       "      <td>https://www.cristal.univ-lille.fr/users/fbfac6...</td>\n",
       "      <td>https://www.cristal.univ-lille.fr/verbs/Sessio...</td>\n",
       "      <td>https://www.cristal.univ-lille.fr/objects/Session</td>\n",
       "      <td>139651013055280</td>\n",
       "      <td>NaN</td>\n",
       "      <td>NaN</td>\n",
       "      <td>NaN</td>\n",
       "      <td>NaN</td>\n",
       "      <td>NaN</td>\n",
       "      <td>...</td>\n",
       "      <td>NaN</td>\n",
       "      <td>NaN</td>\n",
       "      <td>NaN</td>\n",
       "      <td>NaN</td>\n",
       "      <td>NaN</td>\n",
       "      <td>NaN</td>\n",
       "      <td>NaN</td>\n",
       "      <td>NaN</td>\n",
       "      <td>NaN</td>\n",
       "      <td>2022-09-09 15:52:34.447000+00:00</td>\n",
       "    </tr>\n",
       "    <tr>\n",
       "      <th>2</th>\n",
       "      <td>NaN</td>\n",
       "      <td>https://www.cristal.univ-lille.fr/users/fbfac6...</td>\n",
       "      <td>https://www.cristal.univ-lille.fr/verbs/Sessio...</td>\n",
       "      <td>https://www.cristal.univ-lille.fr/objects/Session</td>\n",
       "      <td>139918830574976</td>\n",
       "      <td>https://www.cristal.univ-lille.fr/objects/Plug...</td>\n",
       "      <td>NaN</td>\n",
       "      <td>NaN</td>\n",
       "      <td>NaN</td>\n",
       "      <td>NaN</td>\n",
       "      <td>...</td>\n",
       "      <td>NaN</td>\n",
       "      <td>NaN</td>\n",
       "      <td>NaN</td>\n",
       "      <td>NaN</td>\n",
       "      <td>NaN</td>\n",
       "      <td>NaN</td>\n",
       "      <td>NaN</td>\n",
       "      <td>NaN</td>\n",
       "      <td>NaN</td>\n",
       "      <td>2022-09-09 15:56:36.410000+00:00</td>\n",
       "    </tr>\n",
       "    <tr>\n",
       "      <th>3</th>\n",
       "      <td>NaN</td>\n",
       "      <td>https://www.cristal.univ-lille.fr/users/fbfac6...</td>\n",
       "      <td>https://www.cristal.univ-lille.fr/verbs/Run.Pr...</td>\n",
       "      <td>https://www.cristal.univ-lille.fr/objects/Program</td>\n",
       "      <td>139918830574976</td>\n",
       "      <td>NaN</td>\n",
       "      <td>%Run -c $EDITOR_CONTENT\\n</td>\n",
       "      <td>dd</td>\n",
       "      <td>False</td>\n",
       "      <td></td>\n",
       "      <td>...</td>\n",
       "      <td>file_-2483600034060339781file_-669487819131170...</td>\n",
       "      <td>NaN</td>\n",
       "      <td>NaN</td>\n",
       "      <td>NaN</td>\n",
       "      <td>NaN</td>\n",
       "      <td>NaN</td>\n",
       "      <td>NaN</td>\n",
       "      <td>NaN</td>\n",
       "      <td>NaN</td>\n",
       "      <td>2022-09-09 15:56:41.941000+00:00</td>\n",
       "    </tr>\n",
       "    <tr>\n",
       "      <th>4</th>\n",
       "      <td>NaN</td>\n",
       "      <td>https://www.cristal.univ-lille.fr/users/fbfac6...</td>\n",
       "      <td>https://www.cristal.univ-lille.fr/verbs/Run.Pr...</td>\n",
       "      <td>https://www.cristal.univ-lille.fr/objects/Program</td>\n",
       "      <td>139918830574976</td>\n",
       "      <td>NaN</td>\n",
       "      <td>%Run -c $EDITOR_CONTENT\\n</td>\n",
       "      <td>dd</td>\n",
       "      <td>False</td>\n",
       "      <td></td>\n",
       "      <td>...</td>\n",
       "      <td>file_-2483600034060339781file_-669487819131170...</td>\n",
       "      <td>NaN</td>\n",
       "      <td>NaN</td>\n",
       "      <td>NaN</td>\n",
       "      <td>NaN</td>\n",
       "      <td>NaN</td>\n",
       "      <td>NaN</td>\n",
       "      <td>NaN</td>\n",
       "      <td>NaN</td>\n",
       "      <td>2022-09-09 15:58:33.265000+00:00</td>\n",
       "    </tr>\n",
       "  </tbody>\n",
       "</table>\n",
       "<p>5 rows × 21 columns</p>\n",
       "</div>"
      ],
      "text/plain": [
       "   result                                       actor.openid  \\\n",
       "0     NaN  https://www.cristal.univ-lille.fr/users/fbfac6...   \n",
       "1     NaN  https://www.cristal.univ-lille.fr/users/fbfac6...   \n",
       "2     NaN  https://www.cristal.univ-lille.fr/users/fbfac6...   \n",
       "3     NaN  https://www.cristal.univ-lille.fr/users/fbfac6...   \n",
       "4     NaN  https://www.cristal.univ-lille.fr/users/fbfac6...   \n",
       "\n",
       "                                             verb.id  \\\n",
       "0  https://www.cristal.univ-lille.fr/verbs/Sessio...   \n",
       "1  https://www.cristal.univ-lille.fr/verbs/Sessio...   \n",
       "2  https://www.cristal.univ-lille.fr/verbs/Sessio...   \n",
       "3  https://www.cristal.univ-lille.fr/verbs/Run.Pr...   \n",
       "4  https://www.cristal.univ-lille.fr/verbs/Run.Pr...   \n",
       "\n",
       "                                           object.id  \\\n",
       "0  https://www.cristal.univ-lille.fr/objects/Session   \n",
       "1  https://www.cristal.univ-lille.fr/objects/Session   \n",
       "2  https://www.cristal.univ-lille.fr/objects/Session   \n",
       "3  https://www.cristal.univ-lille.fr/objects/Program   \n",
       "4  https://www.cristal.univ-lille.fr/objects/Program   \n",
       "\n",
       "  context.extension.https://www.cristal.univ-lille.fr/objects/Session/ID  \\\n",
       "0                                    139651013055280                       \n",
       "1                                    139651013055280                       \n",
       "2                                    139918830574976                       \n",
       "3                                    139918830574976                       \n",
       "4                                    139918830574976                       \n",
       "\n",
       "  context.extension.https://www.cristal.univ-lille.fr/objects/Plugin  \\\n",
       "0  https://www.cristal.univ-lille.fr/objects/Plug...                   \n",
       "1                                                NaN                   \n",
       "2  https://www.cristal.univ-lille.fr/objects/Plug...                   \n",
       "3                                                NaN                   \n",
       "4                                                NaN                   \n",
       "\n",
       "  object.extension.https://www.cristal.univ-lille.fr/objects/Command/CommandRan  \\\n",
       "0                                                NaN                              \n",
       "1                                                NaN                              \n",
       "2                                                NaN                              \n",
       "3                          %Run -c $EDITOR_CONTENT\\n                              \n",
       "4                          %Run -c $EDITOR_CONTENT\\n                              \n",
       "\n",
       "  object.extension.https://www.cristal.univ-lille.fr/objects/Program/CodeState  \\\n",
       "0                                                NaN                             \n",
       "1                                                NaN                             \n",
       "2                                                NaN                             \n",
       "3                                                 dd                             \n",
       "4                                                 dd                             \n",
       "\n",
       "  result.success  \\\n",
       "0            NaN   \n",
       "1            NaN   \n",
       "2            NaN   \n",
       "3          False   \n",
       "4          False   \n",
       "\n",
       "  result.extension.https://www.cristal.univ-lille.fr/objects/Command/stdin  \\\n",
       "0                                                NaN                         \n",
       "1                                                NaN                         \n",
       "2                                                NaN                         \n",
       "3                                                                            \n",
       "4                                                                            \n",
       "\n",
       "   ...  \\\n",
       "0  ...   \n",
       "1  ...   \n",
       "2  ...   \n",
       "3  ...   \n",
       "4  ...   \n",
       "\n",
       "  result.extension.https://www.cristal.univ-lille.fr/objects/Command/stderr  \\\n",
       "0                                                NaN                          \n",
       "1                                                NaN                          \n",
       "2                                                NaN                          \n",
       "3  file_-2483600034060339781file_-669487819131170...                          \n",
       "4  file_-2483600034060339781file_-669487819131170...                          \n",
       "\n",
       "  object.extension.https://www.cristal.univ-lille.fr/objects/File/Filename  \\\n",
       "0                                                NaN                         \n",
       "1                                                NaN                         \n",
       "2                                                NaN                         \n",
       "3                                                NaN                         \n",
       "4                                                NaN                         \n",
       "\n",
       "  object.extension.https://www.cristal.univ-lille.fr/objects/File/CodeState  \\\n",
       "0                                                NaN                          \n",
       "1                                                NaN                          \n",
       "2                                                NaN                          \n",
       "3                                                NaN                          \n",
       "4                                                NaN                          \n",
       "\n",
       "  object.extension.https://www.cristal.univ-lille.fr/objects/DocString/Function  \\\n",
       "0                                                NaN                              \n",
       "1                                                NaN                              \n",
       "2                                                NaN                              \n",
       "3                                                NaN                              \n",
       "4                                                NaN                              \n",
       "\n",
       "  object.extension.https://www.cristal.univ-lille.fr/objects/Test/TestedExpression  \\\n",
       "0                                                NaN                                 \n",
       "1                                                NaN                                 \n",
       "2                                                NaN                                 \n",
       "3                                                NaN                                 \n",
       "4                                                NaN                                 \n",
       "\n",
       "  object.extension.https://www.cristal.univ-lille.fr/objects/Test/TestedLine  \\\n",
       "0                                                NaN                           \n",
       "1                                                NaN                           \n",
       "2                                                NaN                           \n",
       "3                                                NaN                           \n",
       "4                                                NaN                           \n",
       "\n",
       "   object.extension.https://www.cristal.univ-lille.fr/objects/Test/TestedFunction  \\\n",
       "0                                                NaN                                \n",
       "1                                                NaN                                \n",
       "2                                                NaN                                \n",
       "3                                                NaN                                \n",
       "4                                                NaN                                \n",
       "\n",
       "  result.extension.https://www.cristal.univ-lille.fr/objects/Test/expectedResult  \\\n",
       "0                                                NaN                               \n",
       "1                                                NaN                               \n",
       "2                                                NaN                               \n",
       "3                                                NaN                               \n",
       "4                                                NaN                               \n",
       "\n",
       "  result.extension.https://www.cristal.univ-lille.fr/objects/Test/obtainedResult  \\\n",
       "0                                                NaN                               \n",
       "1                                                NaN                               \n",
       "2                                                NaN                               \n",
       "3                                                NaN                               \n",
       "4                                                NaN                               \n",
       "\n",
       "                         timestamp  \n",
       "0 2022-09-09 15:52:26.476000+00:00  \n",
       "1 2022-09-09 15:52:34.447000+00:00  \n",
       "2 2022-09-09 15:56:36.410000+00:00  \n",
       "3 2022-09-09 15:56:41.941000+00:00  \n",
       "4 2022-09-09 15:58:33.265000+00:00  \n",
       "\n",
       "[5 rows x 21 columns]"
      ]
     },
     "execution_count": 6,
     "metadata": {},
     "output_type": "execute_result"
    }
   ],
   "source": [
    "raw_logs.head()"
   ]
  },
  {
   "cell_type": "code",
   "execution_count": 7,
   "id": "f815daf0",
   "metadata": {},
   "outputs": [],
   "source": [
    "raw_logs.replace('https://www.cristal.univ-lille.fr/verbs/Session.Start', 'Session.start', inplace=True)\n",
    "raw_logs.replace('https://www.cristal.univ-lille.fr/verbs/Session.End', 'Session.end', inplace=True)\n",
    "raw_logs.replace('https://www.cristal.univ-lille.fr/verbs/File.Open', 'File.Open', inplace=True)\n",
    "raw_logs.replace('https://www.cristal.univ-lille.fr/verbs/File.Save', 'File.Save', inplace=True)\n",
    "raw_logs.replace('https://www.cristal.univ-lille.fr/verbs/Run.Program', 'Run.Program', inplace=True)\n",
    "raw_logs.replace('https://www.cristal.univ-lille.fr/verbs/Run.Command', 'Run.Command', inplace=True)\n",
    "raw_logs.replace('https://www.cristal.univ-lille.fr/verbs/Run.test', 'Run.Test', inplace=True)\n",
    "raw_logs.replace('https://www.cristal.univ-lille.fr/verbs/Docstring.Generate', 'Docstring.Generate', inplace=True)"
   ]
  },
  {
   "cell_type": "code",
   "execution_count": 8,
   "id": "0484c31a",
   "metadata": {},
   "outputs": [],
   "source": [
    "raw_logs.replace('https://www.cristal.univ-lille.fr/objects/Session', 'Session', inplace=True)\n",
    "raw_logs.replace('https://www.cristal.univ-lille.fr/objects/Plugin/L1Test', 'L1Test', inplace=True)\n",
    "raw_logs.replace('https://www.cristal.univ-lille.fr/objects/Program', 'Program', inplace=True)\n",
    "raw_logs.replace('https://www.cristal.univ-lille.fr/objects/Command', 'Command', inplace=True)\n",
    "raw_logs.replace('https://www.cristal.univ-lille.fr/objects/Test', 'Test', inplace=True)\n",
    "raw_logs.replace('https://www.cristal.univ-lille.fr/objects/File', 'File', inplace=True)\n",
    "raw_logs.replace('https://www.cristal.univ-lille.fr/objects/DocString', 'DocString', inplace=True)"
   ]
  },
  {
   "cell_type": "code",
   "execution_count": 9,
   "id": "13be4cd4",
   "metadata": {},
   "outputs": [],
   "source": [
    "raw_logs.replace('https://www.cristal.univ-lille.fr/users/', '', regex=True, inplace=True)\n",
    "\n",
    "raw_logs.rename(columns={'actor.openid': 'actor', 'verb.id': 'verb', 'object.id': 'object',\n",
    "    'context.extension.https://www.cristal.univ-lille.fr/objects/Session/ID': 'session.id',\n",
    "    'context.extension.https://www.cristal.univ-lille.fr/objects/Plugin': 'plugin',\n",
    "    'object.extension.https://www.cristal.univ-lille.fr/objects/Command/CommandRan': 'commandRan',\n",
    "    'object.extension.https://www.cristal.univ-lille.fr/objects/Program/CodeState': 'codeState',\n",
    "    'result.extension.https://www.cristal.univ-lille.fr/objects/Command/stdin': 'stdin',\n",
    "    'result.extension.https://www.cristal.univ-lille.fr/objects/Command/stdout' : 'stdout',\n",
    "    'result.extension.https://www.cristal.univ-lille.fr/objects/Command/stderr': 'stderr',\n",
    "    'object.extension.https://www.cristal.univ-lille.fr/objects/File/Filename': 'filename',\n",
    "    'object.extension.https://www.cristal.univ-lille.fr/objects/File/CodeState': 'codestate',\n",
    "    'object.extension.https://www.cristal.univ-lille.fr/objects/DocString/Function': 'function',\n",
    "    'object.extension.https://www.cristal.univ-lille.fr/objects/Test/TestedExpression': 'testedExpression',\n",
    "    'object.extension.https://www.cristal.univ-lille.fr/objects/Test/TestedLine': 'testedline',\n",
    "    'object.extension.https://www.cristal.univ-lille.fr/objects/Test/TestedFunction': 'testedFunction',\n",
    "    'result.extension.https://www.cristal.univ-lille.fr/objects/Test/expectedResult': 'expectedResult',\n",
    "    'result.extension.https://www.cristal.univ-lille.fr/objects/Test/obtainedResult': 'obtainedResult'}, inplace=True)"
   ]
  },
  {
   "cell_type": "code",
   "execution_count": 10,
   "id": "b9e1916d",
   "metadata": {},
   "outputs": [
    {
     "data": {
      "text/html": [
       "<div>\n",
       "<style scoped>\n",
       "    .dataframe tbody tr th:only-of-type {\n",
       "        vertical-align: middle;\n",
       "    }\n",
       "\n",
       "    .dataframe tbody tr th {\n",
       "        vertical-align: top;\n",
       "    }\n",
       "\n",
       "    .dataframe thead th {\n",
       "        text-align: right;\n",
       "    }\n",
       "</style>\n",
       "<table border=\"1\" class=\"dataframe\">\n",
       "  <thead>\n",
       "    <tr style=\"text-align: right;\">\n",
       "      <th></th>\n",
       "      <th>result</th>\n",
       "      <th>actor</th>\n",
       "      <th>verb</th>\n",
       "      <th>object</th>\n",
       "      <th>session.id</th>\n",
       "      <th>plugin</th>\n",
       "      <th>commandRan</th>\n",
       "      <th>codeState</th>\n",
       "      <th>result.success</th>\n",
       "      <th>stdin</th>\n",
       "      <th>...</th>\n",
       "      <th>stderr</th>\n",
       "      <th>filename</th>\n",
       "      <th>codestate</th>\n",
       "      <th>function</th>\n",
       "      <th>testedExpression</th>\n",
       "      <th>testedline</th>\n",
       "      <th>testedFunction</th>\n",
       "      <th>expectedResult</th>\n",
       "      <th>obtainedResult</th>\n",
       "      <th>timestamp</th>\n",
       "    </tr>\n",
       "  </thead>\n",
       "  <tbody>\n",
       "    <tr>\n",
       "      <th>0</th>\n",
       "      <td>NaN</td>\n",
       "      <td>fbfac64def17f89</td>\n",
       "      <td>Session.start</td>\n",
       "      <td>Session</td>\n",
       "      <td>139651013055280</td>\n",
       "      <td>L1Test</td>\n",
       "      <td>NaN</td>\n",
       "      <td>NaN</td>\n",
       "      <td>NaN</td>\n",
       "      <td>NaN</td>\n",
       "      <td>...</td>\n",
       "      <td>NaN</td>\n",
       "      <td>NaN</td>\n",
       "      <td>NaN</td>\n",
       "      <td>NaN</td>\n",
       "      <td>NaN</td>\n",
       "      <td>NaN</td>\n",
       "      <td>NaN</td>\n",
       "      <td>NaN</td>\n",
       "      <td>NaN</td>\n",
       "      <td>2022-09-09 15:52:26.476000+00:00</td>\n",
       "    </tr>\n",
       "    <tr>\n",
       "      <th>1</th>\n",
       "      <td>NaN</td>\n",
       "      <td>fbfac64def17f89</td>\n",
       "      <td>Session.end</td>\n",
       "      <td>Session</td>\n",
       "      <td>139651013055280</td>\n",
       "      <td>NaN</td>\n",
       "      <td>NaN</td>\n",
       "      <td>NaN</td>\n",
       "      <td>NaN</td>\n",
       "      <td>NaN</td>\n",
       "      <td>...</td>\n",
       "      <td>NaN</td>\n",
       "      <td>NaN</td>\n",
       "      <td>NaN</td>\n",
       "      <td>NaN</td>\n",
       "      <td>NaN</td>\n",
       "      <td>NaN</td>\n",
       "      <td>NaN</td>\n",
       "      <td>NaN</td>\n",
       "      <td>NaN</td>\n",
       "      <td>2022-09-09 15:52:34.447000+00:00</td>\n",
       "    </tr>\n",
       "    <tr>\n",
       "      <th>2</th>\n",
       "      <td>NaN</td>\n",
       "      <td>fbfac64def17f89</td>\n",
       "      <td>Session.start</td>\n",
       "      <td>Session</td>\n",
       "      <td>139918830574976</td>\n",
       "      <td>L1Test</td>\n",
       "      <td>NaN</td>\n",
       "      <td>NaN</td>\n",
       "      <td>NaN</td>\n",
       "      <td>NaN</td>\n",
       "      <td>...</td>\n",
       "      <td>NaN</td>\n",
       "      <td>NaN</td>\n",
       "      <td>NaN</td>\n",
       "      <td>NaN</td>\n",
       "      <td>NaN</td>\n",
       "      <td>NaN</td>\n",
       "      <td>NaN</td>\n",
       "      <td>NaN</td>\n",
       "      <td>NaN</td>\n",
       "      <td>2022-09-09 15:56:36.410000+00:00</td>\n",
       "    </tr>\n",
       "    <tr>\n",
       "      <th>3</th>\n",
       "      <td>NaN</td>\n",
       "      <td>fbfac64def17f89</td>\n",
       "      <td>Run.Program</td>\n",
       "      <td>Program</td>\n",
       "      <td>139918830574976</td>\n",
       "      <td>NaN</td>\n",
       "      <td>%Run -c $EDITOR_CONTENT\\n</td>\n",
       "      <td>dd</td>\n",
       "      <td>False</td>\n",
       "      <td></td>\n",
       "      <td>...</td>\n",
       "      <td>file_-2483600034060339781file_-669487819131170...</td>\n",
       "      <td>NaN</td>\n",
       "      <td>NaN</td>\n",
       "      <td>NaN</td>\n",
       "      <td>NaN</td>\n",
       "      <td>NaN</td>\n",
       "      <td>NaN</td>\n",
       "      <td>NaN</td>\n",
       "      <td>NaN</td>\n",
       "      <td>2022-09-09 15:56:41.941000+00:00</td>\n",
       "    </tr>\n",
       "    <tr>\n",
       "      <th>4</th>\n",
       "      <td>NaN</td>\n",
       "      <td>fbfac64def17f89</td>\n",
       "      <td>Run.Program</td>\n",
       "      <td>Program</td>\n",
       "      <td>139918830574976</td>\n",
       "      <td>NaN</td>\n",
       "      <td>%Run -c $EDITOR_CONTENT\\n</td>\n",
       "      <td>dd</td>\n",
       "      <td>False</td>\n",
       "      <td></td>\n",
       "      <td>...</td>\n",
       "      <td>file_-2483600034060339781file_-669487819131170...</td>\n",
       "      <td>NaN</td>\n",
       "      <td>NaN</td>\n",
       "      <td>NaN</td>\n",
       "      <td>NaN</td>\n",
       "      <td>NaN</td>\n",
       "      <td>NaN</td>\n",
       "      <td>NaN</td>\n",
       "      <td>NaN</td>\n",
       "      <td>2022-09-09 15:58:33.265000+00:00</td>\n",
       "    </tr>\n",
       "  </tbody>\n",
       "</table>\n",
       "<p>5 rows × 21 columns</p>\n",
       "</div>"
      ],
      "text/plain": [
       "   result            actor           verb   object       session.id  plugin  \\\n",
       "0     NaN  fbfac64def17f89  Session.start  Session  139651013055280  L1Test   \n",
       "1     NaN  fbfac64def17f89    Session.end  Session  139651013055280     NaN   \n",
       "2     NaN  fbfac64def17f89  Session.start  Session  139918830574976  L1Test   \n",
       "3     NaN  fbfac64def17f89    Run.Program  Program  139918830574976     NaN   \n",
       "4     NaN  fbfac64def17f89    Run.Program  Program  139918830574976     NaN   \n",
       "\n",
       "                  commandRan codeState result.success stdin  ...  \\\n",
       "0                        NaN       NaN            NaN   NaN  ...   \n",
       "1                        NaN       NaN            NaN   NaN  ...   \n",
       "2                        NaN       NaN            NaN   NaN  ...   \n",
       "3  %Run -c $EDITOR_CONTENT\\n        dd          False        ...   \n",
       "4  %Run -c $EDITOR_CONTENT\\n        dd          False        ...   \n",
       "\n",
       "                                              stderr filename codestate  \\\n",
       "0                                                NaN      NaN       NaN   \n",
       "1                                                NaN      NaN       NaN   \n",
       "2                                                NaN      NaN       NaN   \n",
       "3  file_-2483600034060339781file_-669487819131170...      NaN       NaN   \n",
       "4  file_-2483600034060339781file_-669487819131170...      NaN       NaN   \n",
       "\n",
       "  function testedExpression testedline  testedFunction expectedResult  \\\n",
       "0      NaN              NaN        NaN             NaN            NaN   \n",
       "1      NaN              NaN        NaN             NaN            NaN   \n",
       "2      NaN              NaN        NaN             NaN            NaN   \n",
       "3      NaN              NaN        NaN             NaN            NaN   \n",
       "4      NaN              NaN        NaN             NaN            NaN   \n",
       "\n",
       "  obtainedResult                        timestamp  \n",
       "0            NaN 2022-09-09 15:52:26.476000+00:00  \n",
       "1            NaN 2022-09-09 15:52:34.447000+00:00  \n",
       "2            NaN 2022-09-09 15:56:36.410000+00:00  \n",
       "3            NaN 2022-09-09 15:56:41.941000+00:00  \n",
       "4            NaN 2022-09-09 15:58:33.265000+00:00  \n",
       "\n",
       "[5 rows x 21 columns]"
      ]
     },
     "execution_count": 10,
     "metadata": {},
     "output_type": "execute_result"
    }
   ],
   "source": [
    "raw_logs.head()"
   ]
  },
  {
   "cell_type": "code",
   "execution_count": 11,
   "id": "002f9d39",
   "metadata": {},
   "outputs": [],
   "source": [
    "# %%\n",
    "raw_logs['commandRan'].replace(r\"^%cd \", \"%cd anonymized\", regex=True, inplace=True)"
   ]
  },
  {
   "cell_type": "code",
   "execution_count": 12,
   "id": "8b772568",
   "metadata": {},
   "outputs": [
    {
     "data": {
      "text/plain": [
       "array([nan, None, 'celsius2fahrenheit(10)', ...,\n",
       "       'rectangle_est_inclus_dans (3,2,6,1,0.5,2,7,7.5)',\n",
       "       'rectangle_est_inclus_dans (3,2,6,1,4.6,1.5,5,2)',\n",
       "       'rectangle_est_inclus_dans (3,2,6,1,4.6,1.5,5,)'], dtype=object)"
      ]
     },
     "execution_count": 12,
     "metadata": {},
     "output_type": "execute_result"
    }
   ],
   "source": [
    "raw_logs['testedExpression'].unique()"
   ]
  },
  {
   "cell_type": "markdown",
   "id": "fe362ca6",
   "metadata": {},
   "source": [
    "## regroupement par acteur et session.id "
   ]
  },
  {
   "cell_type": "code",
   "execution_count": 13,
   "id": "cf797185",
   "metadata": {},
   "outputs": [],
   "source": [
    "df_grouped= raw_logs.groupby(['actor','session.id']).apply(lambda a: a[:])"
   ]
  },
  {
   "cell_type": "code",
   "execution_count": 14,
   "id": "19be4aed",
   "metadata": {},
   "outputs": [
    {
     "data": {
      "text/html": [
       "<div>\n",
       "<style scoped>\n",
       "    .dataframe tbody tr th:only-of-type {\n",
       "        vertical-align: middle;\n",
       "    }\n",
       "\n",
       "    .dataframe tbody tr th {\n",
       "        vertical-align: top;\n",
       "    }\n",
       "\n",
       "    .dataframe thead th {\n",
       "        text-align: right;\n",
       "    }\n",
       "</style>\n",
       "<table border=\"1\" class=\"dataframe\">\n",
       "  <thead>\n",
       "    <tr style=\"text-align: right;\">\n",
       "      <th></th>\n",
       "      <th>result</th>\n",
       "      <th>actor</th>\n",
       "      <th>verb</th>\n",
       "      <th>object</th>\n",
       "      <th>session.id</th>\n",
       "      <th>plugin</th>\n",
       "      <th>commandRan</th>\n",
       "      <th>codeState</th>\n",
       "      <th>result.success</th>\n",
       "      <th>stdin</th>\n",
       "      <th>...</th>\n",
       "      <th>stderr</th>\n",
       "      <th>filename</th>\n",
       "      <th>codestate</th>\n",
       "      <th>function</th>\n",
       "      <th>testedExpression</th>\n",
       "      <th>testedline</th>\n",
       "      <th>testedFunction</th>\n",
       "      <th>expectedResult</th>\n",
       "      <th>obtainedResult</th>\n",
       "      <th>timestamp</th>\n",
       "    </tr>\n",
       "  </thead>\n",
       "  <tbody>\n",
       "    <tr>\n",
       "      <th>0</th>\n",
       "      <td>NaN</td>\n",
       "      <td>fbfac64def17f89</td>\n",
       "      <td>Session.start</td>\n",
       "      <td>Session</td>\n",
       "      <td>139651013055280</td>\n",
       "      <td>L1Test</td>\n",
       "      <td>NaN</td>\n",
       "      <td>NaN</td>\n",
       "      <td>NaN</td>\n",
       "      <td>NaN</td>\n",
       "      <td>...</td>\n",
       "      <td>NaN</td>\n",
       "      <td>NaN</td>\n",
       "      <td>NaN</td>\n",
       "      <td>NaN</td>\n",
       "      <td>NaN</td>\n",
       "      <td>NaN</td>\n",
       "      <td>NaN</td>\n",
       "      <td>NaN</td>\n",
       "      <td>NaN</td>\n",
       "      <td>2022-09-09 15:52:26.476000+00:00</td>\n",
       "    </tr>\n",
       "    <tr>\n",
       "      <th>1</th>\n",
       "      <td>NaN</td>\n",
       "      <td>fbfac64def17f89</td>\n",
       "      <td>Session.end</td>\n",
       "      <td>Session</td>\n",
       "      <td>139651013055280</td>\n",
       "      <td>NaN</td>\n",
       "      <td>NaN</td>\n",
       "      <td>NaN</td>\n",
       "      <td>NaN</td>\n",
       "      <td>NaN</td>\n",
       "      <td>...</td>\n",
       "      <td>NaN</td>\n",
       "      <td>NaN</td>\n",
       "      <td>NaN</td>\n",
       "      <td>NaN</td>\n",
       "      <td>NaN</td>\n",
       "      <td>NaN</td>\n",
       "      <td>NaN</td>\n",
       "      <td>NaN</td>\n",
       "      <td>NaN</td>\n",
       "      <td>2022-09-09 15:52:34.447000+00:00</td>\n",
       "    </tr>\n",
       "    <tr>\n",
       "      <th>2</th>\n",
       "      <td>NaN</td>\n",
       "      <td>fbfac64def17f89</td>\n",
       "      <td>Session.start</td>\n",
       "      <td>Session</td>\n",
       "      <td>139918830574976</td>\n",
       "      <td>L1Test</td>\n",
       "      <td>NaN</td>\n",
       "      <td>NaN</td>\n",
       "      <td>NaN</td>\n",
       "      <td>NaN</td>\n",
       "      <td>...</td>\n",
       "      <td>NaN</td>\n",
       "      <td>NaN</td>\n",
       "      <td>NaN</td>\n",
       "      <td>NaN</td>\n",
       "      <td>NaN</td>\n",
       "      <td>NaN</td>\n",
       "      <td>NaN</td>\n",
       "      <td>NaN</td>\n",
       "      <td>NaN</td>\n",
       "      <td>2022-09-09 15:56:36.410000+00:00</td>\n",
       "    </tr>\n",
       "    <tr>\n",
       "      <th>3</th>\n",
       "      <td>NaN</td>\n",
       "      <td>fbfac64def17f89</td>\n",
       "      <td>Run.Program</td>\n",
       "      <td>Program</td>\n",
       "      <td>139918830574976</td>\n",
       "      <td>NaN</td>\n",
       "      <td>%Run -c $EDITOR_CONTENT\\n</td>\n",
       "      <td>dd</td>\n",
       "      <td>False</td>\n",
       "      <td></td>\n",
       "      <td>...</td>\n",
       "      <td>file_-2483600034060339781file_-669487819131170...</td>\n",
       "      <td>NaN</td>\n",
       "      <td>NaN</td>\n",
       "      <td>NaN</td>\n",
       "      <td>NaN</td>\n",
       "      <td>NaN</td>\n",
       "      <td>NaN</td>\n",
       "      <td>NaN</td>\n",
       "      <td>NaN</td>\n",
       "      <td>2022-09-09 15:56:41.941000+00:00</td>\n",
       "    </tr>\n",
       "    <tr>\n",
       "      <th>4</th>\n",
       "      <td>NaN</td>\n",
       "      <td>fbfac64def17f89</td>\n",
       "      <td>Run.Program</td>\n",
       "      <td>Program</td>\n",
       "      <td>139918830574976</td>\n",
       "      <td>NaN</td>\n",
       "      <td>%Run -c $EDITOR_CONTENT\\n</td>\n",
       "      <td>dd</td>\n",
       "      <td>False</td>\n",
       "      <td></td>\n",
       "      <td>...</td>\n",
       "      <td>file_-2483600034060339781file_-669487819131170...</td>\n",
       "      <td>NaN</td>\n",
       "      <td>NaN</td>\n",
       "      <td>NaN</td>\n",
       "      <td>NaN</td>\n",
       "      <td>NaN</td>\n",
       "      <td>NaN</td>\n",
       "      <td>NaN</td>\n",
       "      <td>NaN</td>\n",
       "      <td>2022-09-09 15:58:33.265000+00:00</td>\n",
       "    </tr>\n",
       "  </tbody>\n",
       "</table>\n",
       "<p>5 rows × 21 columns</p>\n",
       "</div>"
      ],
      "text/plain": [
       "   result            actor           verb   object       session.id  plugin  \\\n",
       "0     NaN  fbfac64def17f89  Session.start  Session  139651013055280  L1Test   \n",
       "1     NaN  fbfac64def17f89    Session.end  Session  139651013055280     NaN   \n",
       "2     NaN  fbfac64def17f89  Session.start  Session  139918830574976  L1Test   \n",
       "3     NaN  fbfac64def17f89    Run.Program  Program  139918830574976     NaN   \n",
       "4     NaN  fbfac64def17f89    Run.Program  Program  139918830574976     NaN   \n",
       "\n",
       "                  commandRan codeState result.success stdin  ...  \\\n",
       "0                        NaN       NaN            NaN   NaN  ...   \n",
       "1                        NaN       NaN            NaN   NaN  ...   \n",
       "2                        NaN       NaN            NaN   NaN  ...   \n",
       "3  %Run -c $EDITOR_CONTENT\\n        dd          False        ...   \n",
       "4  %Run -c $EDITOR_CONTENT\\n        dd          False        ...   \n",
       "\n",
       "                                              stderr filename codestate  \\\n",
       "0                                                NaN      NaN       NaN   \n",
       "1                                                NaN      NaN       NaN   \n",
       "2                                                NaN      NaN       NaN   \n",
       "3  file_-2483600034060339781file_-669487819131170...      NaN       NaN   \n",
       "4  file_-2483600034060339781file_-669487819131170...      NaN       NaN   \n",
       "\n",
       "  function testedExpression testedline  testedFunction expectedResult  \\\n",
       "0      NaN              NaN        NaN             NaN            NaN   \n",
       "1      NaN              NaN        NaN             NaN            NaN   \n",
       "2      NaN              NaN        NaN             NaN            NaN   \n",
       "3      NaN              NaN        NaN             NaN            NaN   \n",
       "4      NaN              NaN        NaN             NaN            NaN   \n",
       "\n",
       "  obtainedResult                        timestamp  \n",
       "0            NaN 2022-09-09 15:52:26.476000+00:00  \n",
       "1            NaN 2022-09-09 15:52:34.447000+00:00  \n",
       "2            NaN 2022-09-09 15:56:36.410000+00:00  \n",
       "3            NaN 2022-09-09 15:56:41.941000+00:00  \n",
       "4            NaN 2022-09-09 15:58:33.265000+00:00  \n",
       "\n",
       "[5 rows x 21 columns]"
      ]
     },
     "execution_count": 14,
     "metadata": {},
     "output_type": "execute_result"
    }
   ],
   "source": [
    "df_grouped.head()"
   ]
  },
  {
   "cell_type": "code",
   "execution_count": 15,
   "id": "15f308ea",
   "metadata": {},
   "outputs": [],
   "source": [
    "#df_grouped[df_grouped['actor']=='fbfac64def17f89']"
   ]
  },
  {
   "cell_type": "code",
   "execution_count": 16,
   "id": "1a76e6b1",
   "metadata": {},
   "outputs": [],
   "source": [
    "df_grouped= df_grouped.sort_values('timestamp', ascending=True).reset_index(drop=True)"
   ]
  },
  {
   "cell_type": "code",
   "execution_count": 17,
   "id": "26b9dd09",
   "metadata": {},
   "outputs": [
    {
     "data": {
      "text/html": [
       "<div>\n",
       "<style scoped>\n",
       "    .dataframe tbody tr th:only-of-type {\n",
       "        vertical-align: middle;\n",
       "    }\n",
       "\n",
       "    .dataframe tbody tr th {\n",
       "        vertical-align: top;\n",
       "    }\n",
       "\n",
       "    .dataframe thead th {\n",
       "        text-align: right;\n",
       "    }\n",
       "</style>\n",
       "<table border=\"1\" class=\"dataframe\">\n",
       "  <thead>\n",
       "    <tr style=\"text-align: right;\">\n",
       "      <th></th>\n",
       "      <th>result</th>\n",
       "      <th>actor</th>\n",
       "      <th>verb</th>\n",
       "      <th>object</th>\n",
       "      <th>session.id</th>\n",
       "      <th>plugin</th>\n",
       "      <th>commandRan</th>\n",
       "      <th>codeState</th>\n",
       "      <th>result.success</th>\n",
       "      <th>stdin</th>\n",
       "      <th>...</th>\n",
       "      <th>stderr</th>\n",
       "      <th>filename</th>\n",
       "      <th>codestate</th>\n",
       "      <th>function</th>\n",
       "      <th>testedExpression</th>\n",
       "      <th>testedline</th>\n",
       "      <th>testedFunction</th>\n",
       "      <th>expectedResult</th>\n",
       "      <th>obtainedResult</th>\n",
       "      <th>timestamp</th>\n",
       "    </tr>\n",
       "  </thead>\n",
       "  <tbody>\n",
       "    <tr>\n",
       "      <th>37</th>\n",
       "      <td>NaN</td>\n",
       "      <td>113194d31a744e8</td>\n",
       "      <td>Session.start</td>\n",
       "      <td>Session</td>\n",
       "      <td>140043291099968</td>\n",
       "      <td>L1Test</td>\n",
       "      <td>NaN</td>\n",
       "      <td>NaN</td>\n",
       "      <td>NaN</td>\n",
       "      <td>NaN</td>\n",
       "      <td>...</td>\n",
       "      <td>NaN</td>\n",
       "      <td>NaN</td>\n",
       "      <td>NaN</td>\n",
       "      <td>NaN</td>\n",
       "      <td>NaN</td>\n",
       "      <td>NaN</td>\n",
       "      <td>NaN</td>\n",
       "      <td>NaN</td>\n",
       "      <td>NaN</td>\n",
       "      <td>2022-09-12 10:40:50.388000+00:00</td>\n",
       "    </tr>\n",
       "    <tr>\n",
       "      <th>38</th>\n",
       "      <td>NaN</td>\n",
       "      <td>113194d31a744e8</td>\n",
       "      <td>Session.end</td>\n",
       "      <td>Session</td>\n",
       "      <td>140043291099968</td>\n",
       "      <td>NaN</td>\n",
       "      <td>NaN</td>\n",
       "      <td>NaN</td>\n",
       "      <td>NaN</td>\n",
       "      <td>NaN</td>\n",
       "      <td>...</td>\n",
       "      <td>NaN</td>\n",
       "      <td>NaN</td>\n",
       "      <td>NaN</td>\n",
       "      <td>NaN</td>\n",
       "      <td>NaN</td>\n",
       "      <td>NaN</td>\n",
       "      <td>NaN</td>\n",
       "      <td>NaN</td>\n",
       "      <td>NaN</td>\n",
       "      <td>2022-09-12 10:42:41.720000+00:00</td>\n",
       "    </tr>\n",
       "  </tbody>\n",
       "</table>\n",
       "<p>2 rows × 21 columns</p>\n",
       "</div>"
      ],
      "text/plain": [
       "    result            actor           verb   object       session.id  plugin  \\\n",
       "37     NaN  113194d31a744e8  Session.start  Session  140043291099968  L1Test   \n",
       "38     NaN  113194d31a744e8    Session.end  Session  140043291099968     NaN   \n",
       "\n",
       "   commandRan codeState result.success stdin  ... stderr filename codestate  \\\n",
       "37        NaN       NaN            NaN   NaN  ...    NaN      NaN       NaN   \n",
       "38        NaN       NaN            NaN   NaN  ...    NaN      NaN       NaN   \n",
       "\n",
       "   function testedExpression testedline  testedFunction expectedResult  \\\n",
       "37      NaN              NaN        NaN             NaN            NaN   \n",
       "38      NaN              NaN        NaN             NaN            NaN   \n",
       "\n",
       "   obtainedResult                        timestamp  \n",
       "37            NaN 2022-09-12 10:40:50.388000+00:00  \n",
       "38            NaN 2022-09-12 10:42:41.720000+00:00  \n",
       "\n",
       "[2 rows x 21 columns]"
      ]
     },
     "execution_count": 17,
     "metadata": {},
     "output_type": "execute_result"
    }
   ],
   "source": [
    "df_etudiant=df_grouped[df_grouped['actor']=='113194d31a744e8']\n",
    "df_etudiant"
   ]
  },
  {
   "cell_type": "markdown",
   "id": "b86c9540",
   "metadata": {},
   "source": [
    "## Rolling window per session "
   ]
  },
  {
   "cell_type": "code",
   "execution_count": 18,
   "id": "23ca2500",
   "metadata": {},
   "outputs": [
    {
     "data": {
      "text/plain": [
       "37    Session.start\n",
       "38      Session.end\n",
       "Name: verb, dtype: object"
      ]
     },
     "execution_count": 18,
     "metadata": {},
     "output_type": "execute_result"
    }
   ],
   "source": [
    "df_etudiant['verb']"
   ]
  },
  {
   "cell_type": "code",
   "execution_count": 19,
   "id": "37f72426",
   "metadata": {},
   "outputs": [],
   "source": [
    "def time_session(df):\n",
    "    n= df.shape[0]\n",
    "    l=[]\n",
    "    for i in df.index:\n",
    "#     for i in range(n):\n",
    "        if df.loc[i]['verb']=='Session.start':\n",
    "            dt_init = df.loc[i]['timestamp']\n",
    "        elif df.loc[i]['verb']=='Session.end':\n",
    "            dt_fin = df.loc[i]['timestamp']\n",
    "            l.append(dt_fin-dt_init)\n",
    "    return l"
   ]
  },
  {
   "cell_type": "code",
   "execution_count": 20,
   "id": "84e05849",
   "metadata": {},
   "outputs": [
    {
     "data": {
      "text/plain": [
       "'Session.start'"
      ]
     },
     "execution_count": 20,
     "metadata": {},
     "output_type": "execute_result"
    }
   ],
   "source": [
    "df_etudiant['verb'][37]"
   ]
  },
  {
   "cell_type": "markdown",
   "id": "7dc52296",
   "metadata": {},
   "source": [
    "## construire des tables par étudiant "
   ]
  },
  {
   "cell_type": "code",
   "execution_count": 21,
   "id": "2aca8e42",
   "metadata": {},
   "outputs": [],
   "source": [
    "list_etudiant = list(df_grouped['actor'].unique())"
   ]
  },
  {
   "cell_type": "code",
   "execution_count": 22,
   "id": "f1d4f2cb",
   "metadata": {},
   "outputs": [],
   "source": [
    "def subset(df):\n",
    "    n=df.shape[0]\n",
    "    \n",
    "    for ele in list_etudiant:\n",
    "        dfs = df[df['actor']==ele]\n",
    "    return dfs"
   ]
  },
  {
   "cell_type": "markdown",
   "id": "a1cfb096",
   "metadata": {},
   "source": [
    "## Nombre des étudiants qui ont participé"
   ]
  },
  {
   "cell_type": "code",
   "execution_count": 23,
   "id": "e86f348a",
   "metadata": {},
   "outputs": [
    {
     "data": {
      "text/plain": [
       "239"
      ]
     },
     "execution_count": 23,
     "metadata": {},
     "output_type": "execute_result"
    }
   ],
   "source": [
    "len(df_grouped['actor'].unique())"
   ]
  },
  {
   "cell_type": "code",
   "execution_count": 24,
   "id": "78d0eaeb",
   "metadata": {},
   "outputs": [],
   "source": [
    "def dict_tables_etud(df):\n",
    "    d = dict()\n",
    "    for etud in list_etudiant:\n",
    "            d[etud] = df[df['actor']==etud]\n",
    "    return d"
   ]
  },
  {
   "cell_type": "code",
   "execution_count": 25,
   "id": "08ed3412",
   "metadata": {},
   "outputs": [],
   "source": [
    "df_dic=dict_tables_etud(df_grouped)"
   ]
  },
  {
   "cell_type": "code",
   "execution_count": 28,
   "id": "87e0dc2e",
   "metadata": {},
   "outputs": [],
   "source": [
    "def dic_time_session_id(df):\n",
    "    dico_temps_session = dict()\n",
    "    for etud in list_etudiant:\n",
    "        dico_temps_session[etud] = time_session(df[etud])\n",
    "    return dico_temps_session"
   ]
  },
  {
   "cell_type": "code",
   "execution_count": 110,
   "id": "cfcad1c7",
   "metadata": {},
   "outputs": [],
   "source": [
    "# dic_time_session_id(df_dic)"
   ]
  },
  {
   "cell_type": "code",
   "execution_count": 30,
   "id": "ad64f873",
   "metadata": {},
   "outputs": [],
   "source": [
    "dic= dic_time_session_id(df_dic)"
   ]
  },
  {
   "cell_type": "code",
   "execution_count": 31,
   "id": "e94075a1",
   "metadata": {},
   "outputs": [],
   "source": [
    "def nb_session_id(x):\n",
    "    dic_count=dict()\n",
    "    for k,v in x.items():\n",
    "        dic_count[k]=len(v)\n",
    "    return dic_count"
   ]
  },
  {
   "cell_type": "code",
   "execution_count": 111,
   "id": "88703cce",
   "metadata": {},
   "outputs": [],
   "source": [
    "# nb_session_id(dic)"
   ]
  },
  {
   "cell_type": "code",
   "execution_count": 33,
   "id": "faf05bab",
   "metadata": {},
   "outputs": [
    {
     "data": {
      "text/plain": [
       "239"
      ]
     },
     "execution_count": 33,
     "metadata": {},
     "output_type": "execute_result"
    }
   ],
   "source": [
    "len(nb_session_id(dic).keys())"
   ]
  },
  {
   "cell_type": "markdown",
   "id": "46a791b8",
   "metadata": {},
   "source": [
    "### Total number of sessions "
   ]
  },
  {
   "cell_type": "code",
   "execution_count": 34,
   "id": "c26fb438",
   "metadata": {},
   "outputs": [
    {
     "data": {
      "text/plain": [
       "1031"
      ]
     },
     "execution_count": 34,
     "metadata": {},
     "output_type": "execute_result"
    }
   ],
   "source": [
    "sum(nb_session_id(dic).values())"
   ]
  },
  {
   "cell_type": "markdown",
   "id": "8c09771c",
   "metadata": {},
   "source": [
    "### Nombre de session moyen par utilisateur "
   ]
  },
  {
   "cell_type": "code",
   "execution_count": 35,
   "id": "95e27646",
   "metadata": {},
   "outputs": [
    {
     "data": {
      "text/plain": [
       "4.598326359832636"
      ]
     },
     "execution_count": 35,
     "metadata": {},
     "output_type": "execute_result"
    }
   ],
   "source": [
    "raw_logs.groupby('actor')['session.id'].nunique().mean()"
   ]
  },
  {
   "cell_type": "markdown",
   "id": "692c15bc",
   "metadata": {},
   "source": [
    "### le maximum de session par utilisateur "
   ]
  },
  {
   "cell_type": "code",
   "execution_count": 36,
   "id": "adcd2aa5",
   "metadata": {},
   "outputs": [
    {
     "data": {
      "text/plain": [
       "23"
      ]
     },
     "execution_count": 36,
     "metadata": {},
     "output_type": "execute_result"
    }
   ],
   "source": [
    "raw_logs.groupby('actor')['session.id'].nunique().max()"
   ]
  },
  {
   "cell_type": "markdown",
   "id": "74e76a99",
   "metadata": {},
   "source": [
    "### The plot of number of session used per group of students "
   ]
  },
  {
   "cell_type": "code",
   "execution_count": 37,
   "id": "80e348f0",
   "metadata": {},
   "outputs": [
    {
     "data": {
      "image/png": "[encoded data removed]",
      "text/plain": [
       "<Figure size 432x288 with 1 Axes>"
      ]
     },
     "metadata": {
      "needs_background": "light"
     },
     "output_type": "display_data"
    }
   ],
   "source": [
    "import matplotlib.pyplot as plt\n",
    "%matplotlib inline\n",
    "\n",
    "plt.hist(nb_session_id(dic).values(), color='g')\n",
    "plt.ylabel('number of students')\n",
    "plt.xlabel('number of sessions')\n",
    "plt.title('Distribution of the number of session')\n",
    "plt.grid()"
   ]
  },
  {
   "cell_type": "code",
   "execution_count": 38,
   "id": "91a50839",
   "metadata": {},
   "outputs": [
    {
     "data": {
      "text/plain": [
       "101919    intersection_intervalles_est_vide (7,24,32,43)\n",
       "101920      intersection_intervalles_est_vide (4,6,3,14)\n",
       "101921    intersection_intervalles_est_vide (32,43,7,24)\n",
       "101922                                               NaN\n",
       "101923                                               NaN\n",
       "Name: testedExpression, dtype: object"
      ]
     },
     "execution_count": 38,
     "metadata": {},
     "output_type": "execute_result"
    }
   ],
   "source": [
    "raw_logs['testedExpression'].tail()"
   ]
  },
  {
   "cell_type": "code",
   "execution_count": 39,
   "id": "cd699ad0",
   "metadata": {},
   "outputs": [
    {
     "data": {
      "text/plain": [
       "Index(['result', 'actor', 'verb', 'object', 'session.id', 'plugin',\n",
       "       'commandRan', 'codeState', 'result.success', 'stdin', 'stdout',\n",
       "       'stderr', 'filename', 'codestate', 'function', 'testedExpression',\n",
       "       'testedline', 'testedFunction', 'expectedResult', 'obtainedResult',\n",
       "       'timestamp'],\n",
       "      dtype='object')"
      ]
     },
     "execution_count": 39,
     "metadata": {},
     "output_type": "execute_result"
    }
   ],
   "source": [
    "raw_logs.columns"
   ]
  },
  {
   "cell_type": "code",
   "execution_count": 40,
   "id": "224b4e9a",
   "metadata": {},
   "outputs": [
    {
     "data": {
      "text/plain": [
       "verb\n",
       "File.Open          4\n",
       "File.Save        136\n",
       "Run.Command       87\n",
       "Run.Program       96\n",
       "Run.Test         254\n",
       "Session.end        9\n",
       "Session.start      9\n",
       "Name: timestamp, dtype: int64"
      ]
     },
     "execution_count": 40,
     "metadata": {},
     "output_type": "execute_result"
    }
   ],
   "source": [
    "raw_logs[raw_logs['actor']=='b0797f36dd2e8a1'].groupby('verb')['timestamp'].count()"
   ]
  },
  {
   "cell_type": "code",
   "execution_count": 41,
   "id": "16ae2047",
   "metadata": {},
   "outputs": [
    {
     "data": {
      "text/html": [
       "<div>\n",
       "<style scoped>\n",
       "    .dataframe tbody tr th:only-of-type {\n",
       "        vertical-align: middle;\n",
       "    }\n",
       "\n",
       "    .dataframe tbody tr th {\n",
       "        vertical-align: top;\n",
       "    }\n",
       "\n",
       "    .dataframe thead th {\n",
       "        text-align: right;\n",
       "    }\n",
       "</style>\n",
       "<table border=\"1\" class=\"dataframe\">\n",
       "  <thead>\n",
       "    <tr style=\"text-align: right;\">\n",
       "      <th></th>\n",
       "      <th>result</th>\n",
       "      <th>actor</th>\n",
       "      <th>verb</th>\n",
       "      <th>object</th>\n",
       "      <th>session.id</th>\n",
       "      <th>plugin</th>\n",
       "      <th>commandRan</th>\n",
       "      <th>codeState</th>\n",
       "      <th>result.success</th>\n",
       "      <th>stdin</th>\n",
       "      <th>...</th>\n",
       "      <th>stderr</th>\n",
       "      <th>filename</th>\n",
       "      <th>codestate</th>\n",
       "      <th>function</th>\n",
       "      <th>testedExpression</th>\n",
       "      <th>testedline</th>\n",
       "      <th>testedFunction</th>\n",
       "      <th>expectedResult</th>\n",
       "      <th>obtainedResult</th>\n",
       "      <th>timestamp</th>\n",
       "    </tr>\n",
       "  </thead>\n",
       "  <tbody>\n",
       "    <tr>\n",
       "      <th>2385</th>\n",
       "      <td>NaN</td>\n",
       "      <td>b0797f36dd2e8a1</td>\n",
       "      <td>Session.start</td>\n",
       "      <td>Session</td>\n",
       "      <td>140335011513152</td>\n",
       "      <td>L1Test</td>\n",
       "      <td>NaN</td>\n",
       "      <td>NaN</td>\n",
       "      <td>NaN</td>\n",
       "      <td>NaN</td>\n",
       "      <td>...</td>\n",
       "      <td>NaN</td>\n",
       "      <td>NaN</td>\n",
       "      <td>NaN</td>\n",
       "      <td>NaN</td>\n",
       "      <td>NaN</td>\n",
       "      <td>NaN</td>\n",
       "      <td>NaN</td>\n",
       "      <td>NaN</td>\n",
       "      <td>NaN</td>\n",
       "      <td>2022-09-14 15:16:36.087000+00:00</td>\n",
       "    </tr>\n",
       "    <tr>\n",
       "      <th>2426</th>\n",
       "      <td>NaN</td>\n",
       "      <td>b0797f36dd2e8a1</td>\n",
       "      <td>Run.Command</td>\n",
       "      <td>Command</td>\n",
       "      <td>140335011513152</td>\n",
       "      <td>NaN</td>\n",
       "      <td>3+3\\n</td>\n",
       "      <td>NaN</td>\n",
       "      <td>True</td>\n",
       "      <td></td>\n",
       "      <td>...</td>\n",
       "      <td></td>\n",
       "      <td>NaN</td>\n",
       "      <td>NaN</td>\n",
       "      <td>NaN</td>\n",
       "      <td>NaN</td>\n",
       "      <td>NaN</td>\n",
       "      <td>NaN</td>\n",
       "      <td>NaN</td>\n",
       "      <td>NaN</td>\n",
       "      <td>2022-09-14 15:18:28.071000+00:00</td>\n",
       "    </tr>\n",
       "    <tr>\n",
       "      <th>2434</th>\n",
       "      <td>NaN</td>\n",
       "      <td>b0797f36dd2e8a1</td>\n",
       "      <td>Run.Command</td>\n",
       "      <td>Command</td>\n",
       "      <td>140335011513152</td>\n",
       "      <td>NaN</td>\n",
       "      <td>3**3\\n</td>\n",
       "      <td>NaN</td>\n",
       "      <td>True</td>\n",
       "      <td></td>\n",
       "      <td>...</td>\n",
       "      <td></td>\n",
       "      <td>NaN</td>\n",
       "      <td>NaN</td>\n",
       "      <td>NaN</td>\n",
       "      <td>NaN</td>\n",
       "      <td>NaN</td>\n",
       "      <td>NaN</td>\n",
       "      <td>NaN</td>\n",
       "      <td>NaN</td>\n",
       "      <td>2022-09-14 15:18:34.839000+00:00</td>\n",
       "    </tr>\n",
       "    <tr>\n",
       "      <th>2442</th>\n",
       "      <td>NaN</td>\n",
       "      <td>b0797f36dd2e8a1</td>\n",
       "      <td>Run.Command</td>\n",
       "      <td>Command</td>\n",
       "      <td>140335011513152</td>\n",
       "      <td>NaN</td>\n",
       "      <td>type(10+2)\\n</td>\n",
       "      <td>NaN</td>\n",
       "      <td>True</td>\n",
       "      <td></td>\n",
       "      <td>...</td>\n",
       "      <td></td>\n",
       "      <td>NaN</td>\n",
       "      <td>NaN</td>\n",
       "      <td>NaN</td>\n",
       "      <td>NaN</td>\n",
       "      <td>NaN</td>\n",
       "      <td>NaN</td>\n",
       "      <td>NaN</td>\n",
       "      <td>NaN</td>\n",
       "      <td>2022-09-14 15:18:58.870000+00:00</td>\n",
       "    </tr>\n",
       "    <tr>\n",
       "      <th>2479</th>\n",
       "      <td>NaN</td>\n",
       "      <td>b0797f36dd2e8a1</td>\n",
       "      <td>Run.Command</td>\n",
       "      <td>Command</td>\n",
       "      <td>140335011513152</td>\n",
       "      <td>NaN</td>\n",
       "      <td>10+2+7\\n</td>\n",
       "      <td>NaN</td>\n",
       "      <td>True</td>\n",
       "      <td></td>\n",
       "      <td>...</td>\n",
       "      <td></td>\n",
       "      <td>NaN</td>\n",
       "      <td>NaN</td>\n",
       "      <td>NaN</td>\n",
       "      <td>NaN</td>\n",
       "      <td>NaN</td>\n",
       "      <td>NaN</td>\n",
       "      <td>NaN</td>\n",
       "      <td>NaN</td>\n",
       "      <td>2022-09-14 15:20:29.614000+00:00</td>\n",
       "    </tr>\n",
       "    <tr>\n",
       "      <th>...</th>\n",
       "      <td>...</td>\n",
       "      <td>...</td>\n",
       "      <td>...</td>\n",
       "      <td>...</td>\n",
       "      <td>...</td>\n",
       "      <td>...</td>\n",
       "      <td>...</td>\n",
       "      <td>...</td>\n",
       "      <td>...</td>\n",
       "      <td>...</td>\n",
       "      <td>...</td>\n",
       "      <td>...</td>\n",
       "      <td>...</td>\n",
       "      <td>...</td>\n",
       "      <td>...</td>\n",
       "      <td>...</td>\n",
       "      <td>...</td>\n",
       "      <td>...</td>\n",
       "      <td>...</td>\n",
       "      <td>...</td>\n",
       "      <td>...</td>\n",
       "    </tr>\n",
       "    <tr>\n",
       "      <th>98606</th>\n",
       "      <td>NaN</td>\n",
       "      <td>b0797f36dd2e8a1</td>\n",
       "      <td>Run.Test</td>\n",
       "      <td>Test</td>\n",
       "      <td>140548192502448</td>\n",
       "      <td>NaN</td>\n",
       "      <td>NaN</td>\n",
       "      <td>NaN</td>\n",
       "      <td>True</td>\n",
       "      <td>NaN</td>\n",
       "      <td>...</td>\n",
       "      <td>NaN</td>\n",
       "      <td>file_8425339164093313897</td>\n",
       "      <td>NaN</td>\n",
       "      <td>NaN</td>\n",
       "      <td>signes_opposes(-5,6)</td>\n",
       "      <td>102.0</td>\n",
       "      <td>signes_opposes</td>\n",
       "      <td>True</td>\n",
       "      <td>True</td>\n",
       "      <td>2022-09-30 13:29:09.466000+00:00</td>\n",
       "    </tr>\n",
       "    <tr>\n",
       "      <th>98607</th>\n",
       "      <td>NaN</td>\n",
       "      <td>b0797f36dd2e8a1</td>\n",
       "      <td>Run.Test</td>\n",
       "      <td>Test</td>\n",
       "      <td>140548192502448</td>\n",
       "      <td>NaN</td>\n",
       "      <td>NaN</td>\n",
       "      <td>NaN</td>\n",
       "      <td>True</td>\n",
       "      <td>NaN</td>\n",
       "      <td>...</td>\n",
       "      <td>NaN</td>\n",
       "      <td>file_8425339164093313897</td>\n",
       "      <td>NaN</td>\n",
       "      <td>NaN</td>\n",
       "      <td>intervalle(9)</td>\n",
       "      <td>112.0</td>\n",
       "      <td>intervalle</td>\n",
       "      <td>True</td>\n",
       "      <td>True</td>\n",
       "      <td>2022-09-30 13:29:09.473000+00:00</td>\n",
       "    </tr>\n",
       "    <tr>\n",
       "      <th>98608</th>\n",
       "      <td>NaN</td>\n",
       "      <td>b0797f36dd2e8a1</td>\n",
       "      <td>Run.Test</td>\n",
       "      <td>Test</td>\n",
       "      <td>140548192502448</td>\n",
       "      <td>NaN</td>\n",
       "      <td>NaN</td>\n",
       "      <td>NaN</td>\n",
       "      <td>True</td>\n",
       "      <td>NaN</td>\n",
       "      <td>...</td>\n",
       "      <td>NaN</td>\n",
       "      <td>file_8425339164093313897</td>\n",
       "      <td>NaN</td>\n",
       "      <td>NaN</td>\n",
       "      <td>intervalle(1)</td>\n",
       "      <td>114.0</td>\n",
       "      <td>intervalle</td>\n",
       "      <td>False</td>\n",
       "      <td>False</td>\n",
       "      <td>2022-09-30 13:29:09.479000+00:00</td>\n",
       "    </tr>\n",
       "    <tr>\n",
       "      <th>101827</th>\n",
       "      <td>NaN</td>\n",
       "      <td>b0797f36dd2e8a1</td>\n",
       "      <td>File.Save</td>\n",
       "      <td>File</td>\n",
       "      <td>140548192502448</td>\n",
       "      <td>NaN</td>\n",
       "      <td>NaN</td>\n",
       "      <td>NaN</td>\n",
       "      <td>NaN</td>\n",
       "      <td>NaN</td>\n",
       "      <td>...</td>\n",
       "      <td>NaN</td>\n",
       "      <td>file_8425339164093313897</td>\n",
       "      <td></td>\n",
       "      <td>NaN</td>\n",
       "      <td>NaN</td>\n",
       "      <td>NaN</td>\n",
       "      <td>NaN</td>\n",
       "      <td>NaN</td>\n",
       "      <td>NaN</td>\n",
       "      <td>2022-09-30 14:24:57.631000+00:00</td>\n",
       "    </tr>\n",
       "    <tr>\n",
       "      <th>101828</th>\n",
       "      <td>NaN</td>\n",
       "      <td>b0797f36dd2e8a1</td>\n",
       "      <td>Session.end</td>\n",
       "      <td>Session</td>\n",
       "      <td>140548192502448</td>\n",
       "      <td>NaN</td>\n",
       "      <td>NaN</td>\n",
       "      <td>NaN</td>\n",
       "      <td>NaN</td>\n",
       "      <td>NaN</td>\n",
       "      <td>...</td>\n",
       "      <td>NaN</td>\n",
       "      <td>NaN</td>\n",
       "      <td>NaN</td>\n",
       "      <td>NaN</td>\n",
       "      <td>NaN</td>\n",
       "      <td>NaN</td>\n",
       "      <td>NaN</td>\n",
       "      <td>NaN</td>\n",
       "      <td>NaN</td>\n",
       "      <td>2022-09-30 14:25:14.635000+00:00</td>\n",
       "    </tr>\n",
       "  </tbody>\n",
       "</table>\n",
       "<p>595 rows × 21 columns</p>\n",
       "</div>"
      ],
      "text/plain": [
       "        result            actor           verb   object       session.id  \\\n",
       "2385       NaN  b0797f36dd2e8a1  Session.start  Session  140335011513152   \n",
       "2426       NaN  b0797f36dd2e8a1    Run.Command  Command  140335011513152   \n",
       "2434       NaN  b0797f36dd2e8a1    Run.Command  Command  140335011513152   \n",
       "2442       NaN  b0797f36dd2e8a1    Run.Command  Command  140335011513152   \n",
       "2479       NaN  b0797f36dd2e8a1    Run.Command  Command  140335011513152   \n",
       "...        ...              ...            ...      ...              ...   \n",
       "98606      NaN  b0797f36dd2e8a1       Run.Test     Test  140548192502448   \n",
       "98607      NaN  b0797f36dd2e8a1       Run.Test     Test  140548192502448   \n",
       "98608      NaN  b0797f36dd2e8a1       Run.Test     Test  140548192502448   \n",
       "101827     NaN  b0797f36dd2e8a1      File.Save     File  140548192502448   \n",
       "101828     NaN  b0797f36dd2e8a1    Session.end  Session  140548192502448   \n",
       "\n",
       "        plugin    commandRan codeState result.success stdin  ... stderr  \\\n",
       "2385    L1Test           NaN       NaN            NaN   NaN  ...    NaN   \n",
       "2426       NaN         3+3\\n       NaN           True        ...          \n",
       "2434       NaN        3**3\\n       NaN           True        ...          \n",
       "2442       NaN  type(10+2)\\n       NaN           True        ...          \n",
       "2479       NaN      10+2+7\\n       NaN           True        ...          \n",
       "...        ...           ...       ...            ...   ...  ...    ...   \n",
       "98606      NaN           NaN       NaN           True   NaN  ...    NaN   \n",
       "98607      NaN           NaN       NaN           True   NaN  ...    NaN   \n",
       "98608      NaN           NaN       NaN           True   NaN  ...    NaN   \n",
       "101827     NaN           NaN       NaN            NaN   NaN  ...    NaN   \n",
       "101828     NaN           NaN       NaN            NaN   NaN  ...    NaN   \n",
       "\n",
       "                        filename codestate function      testedExpression  \\\n",
       "2385                         NaN       NaN      NaN                   NaN   \n",
       "2426                         NaN       NaN      NaN                   NaN   \n",
       "2434                         NaN       NaN      NaN                   NaN   \n",
       "2442                         NaN       NaN      NaN                   NaN   \n",
       "2479                         NaN       NaN      NaN                   NaN   \n",
       "...                          ...       ...      ...                   ...   \n",
       "98606   file_8425339164093313897       NaN      NaN  signes_opposes(-5,6)   \n",
       "98607   file_8425339164093313897       NaN      NaN         intervalle(9)   \n",
       "98608   file_8425339164093313897       NaN      NaN         intervalle(1)   \n",
       "101827  file_8425339164093313897                NaN                   NaN   \n",
       "101828                       NaN       NaN      NaN                   NaN   \n",
       "\n",
       "       testedline  testedFunction expectedResult obtainedResult  \\\n",
       "2385          NaN             NaN            NaN            NaN   \n",
       "2426          NaN             NaN            NaN            NaN   \n",
       "2434          NaN             NaN            NaN            NaN   \n",
       "2442          NaN             NaN            NaN            NaN   \n",
       "2479          NaN             NaN            NaN            NaN   \n",
       "...           ...             ...            ...            ...   \n",
       "98606       102.0  signes_opposes           True           True   \n",
       "98607       112.0      intervalle           True           True   \n",
       "98608       114.0      intervalle          False          False   \n",
       "101827        NaN             NaN            NaN            NaN   \n",
       "101828        NaN             NaN            NaN            NaN   \n",
       "\n",
       "                              timestamp  \n",
       "2385   2022-09-14 15:16:36.087000+00:00  \n",
       "2426   2022-09-14 15:18:28.071000+00:00  \n",
       "2434   2022-09-14 15:18:34.839000+00:00  \n",
       "2442   2022-09-14 15:18:58.870000+00:00  \n",
       "2479   2022-09-14 15:20:29.614000+00:00  \n",
       "...                                 ...  \n",
       "98606  2022-09-30 13:29:09.466000+00:00  \n",
       "98607  2022-09-30 13:29:09.473000+00:00  \n",
       "98608  2022-09-30 13:29:09.479000+00:00  \n",
       "101827 2022-09-30 14:24:57.631000+00:00  \n",
       "101828 2022-09-30 14:25:14.635000+00:00  \n",
       "\n",
       "[595 rows x 21 columns]"
      ]
     },
     "execution_count": 41,
     "metadata": {},
     "output_type": "execute_result"
    }
   ],
   "source": [
    "raw_logs[raw_logs['actor']=='b0797f36dd2e8a1']"
   ]
  },
  {
   "cell_type": "code",
   "execution_count": 42,
   "id": "66c1b02b",
   "metadata": {},
   "outputs": [
    {
     "data": {
      "text/plain": [
       "array(['Session.start', 'Session.end', 'Run.Program', 'File.Save',\n",
       "       'Run.Command', 'File.Open', 'Docstring.Generate', 'Run.Test'],\n",
       "      dtype=object)"
      ]
     },
     "execution_count": 42,
     "metadata": {},
     "output_type": "execute_result"
    }
   ],
   "source": [
    "raw_logs['verb'].unique()"
   ]
  },
  {
   "cell_type": "code",
   "execution_count": 43,
   "id": "07d0344f",
   "metadata": {},
   "outputs": [],
   "source": [
    "df_test = raw_logs[(raw_logs['actor']=='b0797f36dd2e8a1')]"
   ]
  },
  {
   "cell_type": "code",
   "execution_count": 44,
   "id": "9fcf51ee",
   "metadata": {},
   "outputs": [],
   "source": [
    "df_test= df_test[['actor','verb','timestamp']]"
   ]
  },
  {
   "cell_type": "code",
   "execution_count": 45,
   "id": "7dd8e9ec",
   "metadata": {},
   "outputs": [
    {
     "data": {
      "text/plain": [
       "array(['b0797f36dd2e8a1'], dtype=object)"
      ]
     },
     "execution_count": 45,
     "metadata": {},
     "output_type": "execute_result"
    }
   ],
   "source": [
    "df_test['actor'].unique()"
   ]
  },
  {
   "cell_type": "code",
   "execution_count": 46,
   "id": "17382d15",
   "metadata": {},
   "outputs": [],
   "source": [
    "df_test['day'] = df_test['timestamp'].apply(lambda r:r.date)"
   ]
  },
  {
   "cell_type": "code",
   "execution_count": 47,
   "id": "9dfd9f1c",
   "metadata": {},
   "outputs": [],
   "source": [
    "# import numpy as np\n",
    "# conditions = [\n",
    "#     (df_test['verb'] == 'Session.start'),\n",
    "#     (df_test['verb'] ==  'Session.end'),\n",
    "#     (df_test['verb'] == 'Run.Program'),\n",
    "#     (df_test['verb'] == 'File.Save'),\n",
    "#     (df_test['verb'] == 'Run.Command'),\n",
    "#     (df_test['verb'] == 'File.Open'),\n",
    "#     (df_test['verb'] == 'Run.Test')\n",
    "# ]\n",
    "# values = [1, 2, 3, 4, 5, 6, 7]\n",
    "# df_test['color'] = np.select(conditions, values)"
   ]
  },
  {
   "cell_type": "code",
   "execution_count": 48,
   "id": "ea35728a",
   "metadata": {},
   "outputs": [
    {
     "data": {
      "text/html": [
       "<div>\n",
       "<style scoped>\n",
       "    .dataframe tbody tr th:only-of-type {\n",
       "        vertical-align: middle;\n",
       "    }\n",
       "\n",
       "    .dataframe tbody tr th {\n",
       "        vertical-align: top;\n",
       "    }\n",
       "\n",
       "    .dataframe thead th {\n",
       "        text-align: right;\n",
       "    }\n",
       "</style>\n",
       "<table border=\"1\" class=\"dataframe\">\n",
       "  <thead>\n",
       "    <tr style=\"text-align: right;\">\n",
       "      <th></th>\n",
       "      <th>actor</th>\n",
       "      <th>verb</th>\n",
       "      <th>timestamp</th>\n",
       "      <th>day</th>\n",
       "    </tr>\n",
       "  </thead>\n",
       "  <tbody>\n",
       "    <tr>\n",
       "      <th>2385</th>\n",
       "      <td>b0797f36dd2e8a1</td>\n",
       "      <td>Session.start</td>\n",
       "      <td>2022-09-14 15:16:36.087000+00:00</td>\n",
       "      <td>2022-09-14</td>\n",
       "    </tr>\n",
       "    <tr>\n",
       "      <th>2426</th>\n",
       "      <td>b0797f36dd2e8a1</td>\n",
       "      <td>Run.Command</td>\n",
       "      <td>2022-09-14 15:18:28.071000+00:00</td>\n",
       "      <td>2022-09-14</td>\n",
       "    </tr>\n",
       "    <tr>\n",
       "      <th>2434</th>\n",
       "      <td>b0797f36dd2e8a1</td>\n",
       "      <td>Run.Command</td>\n",
       "      <td>2022-09-14 15:18:34.839000+00:00</td>\n",
       "      <td>2022-09-14</td>\n",
       "    </tr>\n",
       "    <tr>\n",
       "      <th>2442</th>\n",
       "      <td>b0797f36dd2e8a1</td>\n",
       "      <td>Run.Command</td>\n",
       "      <td>2022-09-14 15:18:58.870000+00:00</td>\n",
       "      <td>2022-09-14</td>\n",
       "    </tr>\n",
       "    <tr>\n",
       "      <th>2479</th>\n",
       "      <td>b0797f36dd2e8a1</td>\n",
       "      <td>Run.Command</td>\n",
       "      <td>2022-09-14 15:20:29.614000+00:00</td>\n",
       "      <td>2022-09-14</td>\n",
       "    </tr>\n",
       "  </tbody>\n",
       "</table>\n",
       "</div>"
      ],
      "text/plain": [
       "                actor           verb                        timestamp  \\\n",
       "2385  b0797f36dd2e8a1  Session.start 2022-09-14 15:16:36.087000+00:00   \n",
       "2426  b0797f36dd2e8a1    Run.Command 2022-09-14 15:18:28.071000+00:00   \n",
       "2434  b0797f36dd2e8a1    Run.Command 2022-09-14 15:18:34.839000+00:00   \n",
       "2442  b0797f36dd2e8a1    Run.Command 2022-09-14 15:18:58.870000+00:00   \n",
       "2479  b0797f36dd2e8a1    Run.Command 2022-09-14 15:20:29.614000+00:00   \n",
       "\n",
       "             day  \n",
       "2385  2022-09-14  \n",
       "2426  2022-09-14  \n",
       "2434  2022-09-14  \n",
       "2442  2022-09-14  \n",
       "2479  2022-09-14  "
      ]
     },
     "execution_count": 48,
     "metadata": {},
     "output_type": "execute_result"
    }
   ],
   "source": [
    "df_test.head()"
   ]
  },
  {
   "cell_type": "code",
   "execution_count": 49,
   "id": "59fae2a3",
   "metadata": {
    "scrolled": false
   },
   "outputs": [],
   "source": [
    "# df_val=pd.DataFrame()\n",
    "# colors = {1:'red', 2:'green', 3:'blue', 4:'orange', 5:'yellow', 6:'black', 7:'purple'}\n",
    "# colors_map ={'Session.start':'red', 'Session.end':'green','Run.Program':'blue','File.Save':'orange',\n",
    "#              'Run.Command':'yellow','File.Open':'black','Run.Test':'purple'}\n",
    "# for index, ele in enumerate(list(df_test['day'].unique())):\n",
    "#     df_val=df_test[df_test['day']==ele]\n",
    "#     plt.figure(figsize=(20,6))\n",
    "#     plt.title(f'different actions done by the student {df_val[\"actor\"].iat[0]} in day {df_val[\"day\"].iat[0]}')\n",
    "#     plt.scatter(x=df_val['timestamp'], y=df_val['actor'],c=[colors[i] for i in df_val['color']])\n",
    "#     plt.grid()\n",
    "#     handles = [Line2D([0], [0], marker='o', color='w', markerfacecolor=v, label=k, markersize=8) for k, v in colors_map.items()]\n",
    "#     plt.legend(title='color', handles=handles, bbox_to_anchor=(1.05, 1), loc='upper left')\n",
    "#     plt.show()   "
   ]
  },
  {
   "cell_type": "code",
   "execution_count": 50,
   "id": "51d8b691",
   "metadata": {},
   "outputs": [
    {
     "data": {
      "text/plain": [
       "'fbfac64def17f89'"
      ]
     },
     "execution_count": 50,
     "metadata": {},
     "output_type": "execute_result"
    }
   ],
   "source": [
    "raw_logs['actor'].unique()[0]"
   ]
  },
  {
   "cell_type": "code",
   "execution_count": 51,
   "id": "41957bbc",
   "metadata": {},
   "outputs": [],
   "source": [
    "warnings.simplefilter(action=\"ignore\", category=SettingWithCopyWarning) #ignore warnings \n",
    "\n",
    "def plot_visu(df):\n",
    "    for val in list(raw_logs['actor'].unique()):   \n",
    "        df = raw_logs[raw_logs['actor']== val]\n",
    "        df[['actor','verb','timestamp']]\n",
    "        df['day'] = df['timestamp'].apply(lambda r:r.date)\n",
    "        conditions = [\n",
    "            (df['verb'] == 'Session.start'),\n",
    "            (df['verb'] ==  'Session.end'),\n",
    "            (df['verb'] == 'Run.Program'), #executer le contenu de l'éditeur\n",
    "            (df['verb'] == 'File.Save'),\n",
    "            (df['verb'] == 'Run.Command'), #executer une commande python shell\n",
    "            (df['verb'] == 'File.Open'),\n",
    "            (df['verb'] == 'Run.Test'), #tester le code python\n",
    "            (df['verb'] == 'Docstring.Generate')\n",
    "        ]\n",
    "        values = [1, 2, 3, 4, 5, 6, 7,8]\n",
    "        df['color'] = np.select(conditions, values)\n",
    "        df_val=pd.DataFrame()\n",
    "        colors = {1:'red', 2:'green', 3:'blue', 4:'orange', 5:'yellow', 6:'black', 7:'purple',8: 'brown'}\n",
    "        colors_legend ={'Session.start':'red', 'Session.end':'green','Run.Program':'blue','File.Save':'orange',\n",
    "             'Run.Command':'yellow','File.Open':'black','Run.Test':'purple','Docstring.Generate':'brown'}\n",
    "        for index, ele in enumerate(list(df['day'].unique())):\n",
    "            df_val=df[df['day']==ele]\n",
    "            plt.figure(figsize=(20,6))\n",
    "            plt.title(f'different actions done by the student {df_val[\"actor\"].iat[0]} in day {df_val[\"day\"].iat[0]}')\n",
    "            plt.scatter(x=df_val['timestamp'], y=df_val['actor'],c=[colors[i] for i in df_val['color']])\n",
    "            plt.grid()\n",
    "            handles = [Line2D([0], [0], marker='o', color='w', markerfacecolor=v, label=k, markersize=8) for k, v in colors_legend.items()]\n",
    "            plt.legend(title='legend', handles=handles, bbox_to_anchor=(1.05, 1), loc='upper left')\n",
    "\n",
    "            plt.show()   "
   ]
  },
  {
   "cell_type": "code",
   "execution_count": 52,
   "id": "3cd7f3b0",
   "metadata": {
    "scrolled": true
   },
   "outputs": [],
   "source": [
    "# df_viz = pd.DataFrame()\n",
    "# plot_visu(df_viz)"
   ]
  },
  {
   "cell_type": "code",
   "execution_count": 53,
   "id": "f03da3c4",
   "metadata": {},
   "outputs": [],
   "source": [
    "data_hist = raw_logs[['actor','verb','session.id']]\n",
    "data_hist = data_hist[data_hist['verb']=='Run.Test']"
   ]
  },
  {
   "cell_type": "code",
   "execution_count": 54,
   "id": "016f1782",
   "metadata": {},
   "outputs": [],
   "source": [
    "# Create a dictionary to map the old values to the new values\n",
    "mapping = {val: idx+1 for idx, val in enumerate(data_hist['session.id'].unique())}\n",
    "\n",
    "# Use the replace function to map the old values to the new values\n",
    "data_hist['session.id'] = data_hist['session.id'].replace(mapping)\n"
   ]
  },
  {
   "cell_type": "code",
   "execution_count": 55,
   "id": "b368c846",
   "metadata": {},
   "outputs": [
    {
     "data": {
      "text/plain": [
       "273"
      ]
     },
     "execution_count": 55,
     "metadata": {},
     "output_type": "execute_result"
    }
   ],
   "source": [
    "#the number of sessions where students has tested the code \"run.test\"\n",
    "len(data_hist['session.id'].unique())"
   ]
  },
  {
   "cell_type": "code",
   "execution_count": 56,
   "id": "7717d7e6",
   "metadata": {},
   "outputs": [],
   "source": [
    "# # Create the bar chart\n",
    "# # Sort the session.id column in increasing order\n",
    "# data_hist = data_hist.sort_values('session.id')\n",
    "\n",
    "# # Create the bar chart\n",
    "# data_hist['session.id'].value_counts().plot(kind='bar')\n",
    "\n",
    "# # Set the x-axis tick locations\n",
    "# plt.xticks(range(0, data_hist['session.id'].max()+1,5))\n",
    "\n",
    "\n",
    "# # Add labels and title to the chart\n",
    "# plt.xlabel('Session ID')\n",
    "# plt.ylabel('Frequency Count')\n",
    "# plt.title('Frequency of Session ID')\n",
    "\n",
    "# # Show the chart\n",
    "# plt.show()\n"
   ]
  },
  {
   "cell_type": "code",
   "execution_count": 57,
   "id": "0c6c195c",
   "metadata": {},
   "outputs": [],
   "source": [
    "# # Create the bar chart\n",
    "# data_ = data_hist['session.id'].value_counts().sort_index()\n",
    "\n",
    "# # Create the bar chart\n",
    "# data_.plot(kind='bar')\n",
    "\n",
    "# # Set the x-axis tick locations to jump with 5 steps\n",
    "# plt.xticks(range(0, data_.index.max()+1, 50))\n",
    "\n",
    "# # Add labels and title to the chart\n",
    "# plt.xlabel('Session ID')\n",
    "# plt.ylabel('Frequency Count')\n",
    "# plt.title('Frequency of Session ID')\n",
    "\n",
    "# # Show the chart\n",
    "# plt.show()\n"
   ]
  },
  {
   "cell_type": "code",
   "execution_count": 58,
   "id": "d591f6ea",
   "metadata": {},
   "outputs": [],
   "source": [
    "def plt_hist(df,bins=20):\n",
    "    plt.hist(df['session.id'], bins= bins, ec= 'black')\n",
    "    # Add labels and title to the chart\n",
    "    plt.xlabel('Sessions')\n",
    "    plt.ylabel('Frequency Count')\n",
    "    plt.title('the number of the run.test per session ')\n",
    "    plt.show()"
   ]
  },
  {
   "cell_type": "code",
   "execution_count": 59,
   "id": "9bc13538",
   "metadata": {},
   "outputs": [
    {
     "data": {
      "image/png": "[encoded data removed]",
      "text/plain": [
       "<Figure size 432x288 with 1 Axes>"
      ]
     },
     "metadata": {
      "needs_background": "light"
     },
     "output_type": "display_data"
    }
   ],
   "source": [
    "plt_hist(data_hist)"
   ]
  },
  {
   "cell_type": "code",
   "execution_count": 61,
   "id": "4a769514",
   "metadata": {},
   "outputs": [],
   "source": [
    "# data_session = raw_logs[['actor','verb','session.id']]\n",
    "# for val in list(data_session['session.id'].unique()):\n",
    "#     df = data_session[data_session['session.id']==val]\n",
    "#     # Count the frequency of each unique verb\n",
    "#     verb_counts = df[\"verb\"].value_counts()\n",
    "#     # Create a histogram of the verb counts\n",
    "#     verb_counts.plot(kind=\"bar\")\n",
    "#     # Show the histogram\n",
    "#     plt.show()\n"
   ]
  },
  {
   "cell_type": "code",
   "execution_count": 108,
   "id": "319314bb",
   "metadata": {},
   "outputs": [],
   "source": [
    "def data_session(df):\n",
    "    data = df[['actor','verb','session.id']]\n",
    "    # Group the dataframe by verb and session.id, and count the number of occurrences of each verb\n",
    "    verb_counts = data.groupby(['verb','session.id']).size().reset_index(name='counts')\n",
    "    # Create a histogram of the verb counts for all four session\n",
    "    verb_counts.pivot(index='verb', columns='session.id', values='counts').plot(kind='bar', stacked=True,legend=None)\n",
    "    # Show the histogram\n",
    "    plt.show()\n",
    "# there has been more \"run.test\" in all the sessions.id this means that the students test more ofen their code. (Maybe just when doing small changes... is it bad ?? )"
   ]
  },
  {
   "cell_type": "code",
   "execution_count": 109,
   "id": "4710e765",
   "metadata": {},
   "outputs": [
    {
     "data": {
      "image/png": "[encoded data removed]",
      "text/plain": [
       "<Figure size 432x288 with 1 Axes>"
      ]
     },
     "metadata": {
      "needs_background": "light"
     },
     "output_type": "display_data"
    }
   ],
   "source": [
    "data_session(raw_logs)"
   ]
  },
  {
   "cell_type": "code",
   "execution_count": 106,
   "id": "6abe0314",
   "metadata": {},
   "outputs": [
    {
     "data": {
      "text/plain": [
       "((101924, 21), (0, 21))"
      ]
     },
     "execution_count": 106,
     "metadata": {},
     "output_type": "execute_result"
    }
   ],
   "source": [
    "raw_logs[raw_logs['result.success']=='False'].shape, raw_logs[raw_logs['result.success']=='True'].shape"
   ]
  },
  {
   "cell_type": "code",
   "execution_count": null,
   "id": "de05d78f",
   "metadata": {},
   "outputs": [],
   "source": [
    "data_stack = raw_logs[['actor','verb','session.id']]\n",
    "# Create a dictionary to map the old values to the new values\n",
    "mapping = {val: idx+1 for idx, val in enumerate(data_stack['session.id'].unique())}\n",
    "\n",
    "# Use the replace function to map the old values to the new values\n",
    "data_stack['session.id'] = data_stack['session.id'].replace(mapping)"
   ]
  },
  {
   "cell_type": "code",
   "execution_count": null,
   "id": "1bad1347",
   "metadata": {},
   "outputs": [
    {
     "data": {
      "text/html": [
       "<div>\n",
       "<style scoped>\n",
       "    .dataframe tbody tr th:only-of-type {\n",
       "        vertical-align: middle;\n",
       "    }\n",
       "\n",
       "    .dataframe tbody tr th {\n",
       "        vertical-align: top;\n",
       "    }\n",
       "\n",
       "    .dataframe thead th {\n",
       "        text-align: right;\n",
       "    }\n",
       "</style>\n",
       "<table border=\"1\" class=\"dataframe\">\n",
       "  <thead>\n",
       "    <tr style=\"text-align: right;\">\n",
       "      <th></th>\n",
       "      <th>actor</th>\n",
       "      <th>verb</th>\n",
       "      <th>session.id</th>\n",
       "    </tr>\n",
       "  </thead>\n",
       "  <tbody>\n",
       "    <tr>\n",
       "      <th>0</th>\n",
       "      <td>fbfac64def17f89</td>\n",
       "      <td>Session.start</td>\n",
       "      <td>1</td>\n",
       "    </tr>\n",
       "    <tr>\n",
       "      <th>1</th>\n",
       "      <td>fbfac64def17f89</td>\n",
       "      <td>Session.end</td>\n",
       "      <td>1</td>\n",
       "    </tr>\n",
       "    <tr>\n",
       "      <th>2</th>\n",
       "      <td>fbfac64def17f89</td>\n",
       "      <td>Session.start</td>\n",
       "      <td>2</td>\n",
       "    </tr>\n",
       "    <tr>\n",
       "      <th>3</th>\n",
       "      <td>fbfac64def17f89</td>\n",
       "      <td>Run.Program</td>\n",
       "      <td>2</td>\n",
       "    </tr>\n",
       "    <tr>\n",
       "      <th>4</th>\n",
       "      <td>fbfac64def17f89</td>\n",
       "      <td>Run.Program</td>\n",
       "      <td>2</td>\n",
       "    </tr>\n",
       "  </tbody>\n",
       "</table>\n",
       "</div>"
      ],
      "text/plain": [
       "             actor           verb  session.id\n",
       "0  fbfac64def17f89  Session.start           1\n",
       "1  fbfac64def17f89    Session.end           1\n",
       "2  fbfac64def17f89  Session.start           2\n",
       "3  fbfac64def17f89    Run.Program           2\n",
       "4  fbfac64def17f89    Run.Program           2"
      ]
     },
     "execution_count": 63,
     "metadata": {},
     "output_type": "execute_result"
    }
   ],
   "source": [
    "data_stack.head()"
   ]
  },
  {
   "cell_type": "code",
   "execution_count": null,
   "id": "f2365959",
   "metadata": {},
   "outputs": [
    {
     "data": {
      "image/png": "[encoded data removed]",
      "text/plain": [
       "<Figure size 432x288 with 1 Axes>"
      ]
     },
     "metadata": {
      "needs_background": "light"
     },
     "output_type": "display_data"
    }
   ],
   "source": [
    "#separate the data by 'verb' and 'session.id'\n",
    "data_start = data_stack.loc[data_stack['verb']=='Session.start']\n",
    "data_end = data_stack.loc[data_stack['verb']=='Session.end']\n",
    "data_program = data_stack.loc[data_stack['verb']=='Run.Program']\n",
    "data_save = data_stack.loc[data_stack['verb']=='File.Save']\n",
    "data_command = data_stack.loc[data_stack['verb']=='Run.Command']\n",
    "data_open = data_stack.loc[data_stack['verb']=='File.Open']\n",
    "data_test = data_stack.loc[data_stack['verb']=='Run.Test']\n",
    "data_generate = data_stack.loc[data_stack['verb']=='Docstring.Generate']\n",
    "\n",
    "#Plot the data using plt.hist()\n",
    "plt.hist(data_start['session.id'], bins=10, alpha=0.5, color='red',ec=\"black\")\n",
    "plt.hist(data_end['session.id'], bins=10, alpha=0.5, color='green',ec=\"black\")\n",
    "plt.hist(data_program['session.id'], bins=10, alpha=0.5, color='blue',ec=\"black\")\n",
    "plt.hist(data_save['session.id'], bins=10, alpha=0.5, color='orange',ec=\"black\")\n",
    "plt.hist(data_command['session.id'], bins=10, alpha=0.5, color='yellow',ec=\"black\")\n",
    "plt.hist(data_open['session.id'], bins=10, alpha=0.5, color='black',ec=\"black\")\n",
    "plt.hist(data_test['session.id'], bins=10, alpha=0.5, color='purple',ec=\"black\")\n",
    "plt.hist(data_generate['session.id'], bins=10, alpha=0.5, color='brown',ec=\"black\")\n",
    "\n",
    "# Add labels and title to the chart\n",
    "plt.xlabel('Session ID')\n",
    "plt.ylabel('Frequency Count')\n",
    "plt.title('Frequency of actions per Session ID')\n",
    "plt.legend(['Session.start', 'Session.end','Run.Program','File.Save','Run.Command','File.Open','Run.Test','Docstring.Generate'])\n",
    "\n",
    "# Show the chart\n",
    "plt.show()\n"
   ]
  },
  {
   "cell_type": "code",
   "execution_count": null,
   "id": "9e06cbf5",
   "metadata": {},
   "outputs": [
    {
     "data": {
      "text/plain": [
       "(61839, 3)"
      ]
     },
     "execution_count": 65,
     "metadata": {},
     "output_type": "execute_result"
    }
   ],
   "source": [
    "#total number of 'run.test in the dataframe of all the students'\n",
    "data_hist[data_hist['verb']==\"Run.Test\"].shape "
   ]
  },
  {
   "cell_type": "code",
   "execution_count": null,
   "id": "ec28c7c6",
   "metadata": {},
   "outputs": [],
   "source": []
  },
  {
   "attachments": {},
   "cell_type": "markdown",
   "id": "89c67e58",
   "metadata": {},
   "source": [
    "How can we vizualize the time spent for students to change the code ?"
   ]
  },
  {
   "cell_type": "markdown",
   "id": "b1760df9",
   "metadata": {},
   "source": [
    "chaque étudient peut avoir plusieurs session. a chaque fois l'étudient lance thonny génére une session "
   ]
  },
  {
   "cell_type": "markdown",
   "id": "b4fa593f",
   "metadata": {},
   "source": [
    "count the number of actions (run.test,file.save...)<br>\n",
    "nombre de session au cours du temps (y-axis : nombre d'action (run.test), x-axis : les sessions ordonnées)<br>\n",
    "somme des run.test egal à 60000"
   ]
  }
 ],
 "metadata": {
  "kernelspec": {
   "display_name": "Python 3 (ipykernel)",
   "language": "python",
   "name": "python3"
  },
  "language_info": {
   "codemirror_mode": {
    "name": "ipython",
    "version": 3
   },
   "file_extension": ".py",
   "mimetype": "text/x-python",
   "name": "python",
   "nbconvert_exporter": "python",
   "pygments_lexer": "ipython3",
   "version": "3.8.12"
  },
  "vscode": {
   "interpreter": {
    "hash": "d212184fe9e0d547803da3d7e8d0646a0cac28eb99def6e925847913b35f2386"
   }
  }
 },
 "nbformat": 4,
 "nbformat_minor": 5
}
