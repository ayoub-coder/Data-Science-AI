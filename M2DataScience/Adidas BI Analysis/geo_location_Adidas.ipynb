{
 "cells": [
  {
   "cell_type": "code",
   "execution_count": 13,
   "id": "74cb7bd1",
   "metadata": {},
   "outputs": [],
   "source": [
    "from geopy.geocoders import Nominatim\n",
    "import pandas as pd\n",
    "geolocator = Nominatim(user_agent=\"My-Python-Script\")\n",
    "\n",
    "\n",
    "df = pd.read_excel(\"NEW RETAILER INFORMATIONS.xlsx\")"
   ]
  },
  {
   "cell_type": "code",
   "execution_count": 14,
   "id": "0d2d4168",
   "metadata": {},
   "outputs": [],
   "source": [
    "def reverse_geocode(latitude, longitude):\n",
    "    location = geolocator.reverse((latitude, longitude))\n",
    "    return location.address if location else None\n",
    "\n",
    "\n",
    "def geocode_address(address):\n",
    "    # Create a geolocator\n",
    "    geolocator = Nominatim(user_agent=\"My-Python-Script\")\n",
    "    try:\n",
    "        location = geolocator.geocode(address)\n",
    "\n",
    "        # If the address was found, get the latitude and longitude\n",
    "        if location:\n",
    "            latitude = location.latitude\n",
    "            longitude = location.longitude\n",
    "            return latitude, longitude\n",
    "    except:\n",
    "        # If the address was not found, return None\n",
    "        return None, None"
   ]
  },
  {
   "cell_type": "code",
   "execution_count": 15,
   "id": "be80944a",
   "metadata": {},
   "outputs": [],
   "source": [
    "def handle_missing_street(df):\n",
    "    \n",
    "    for idx, row in df.iterrows():\n",
    "        # Check if the street is missing\n",
    "        if pd.isna(row[\"street\"]):\n",
    "            # If the street is missing, try to find it using the lat and long\n",
    "            latitude, longitude = row[\"latitude\"], row[\"longitude\"]\n",
    "            address = reverse_geocode(latitude, longitude)\n",
    "            # If the address is found, update the street with the retrieved address\n",
    "            if address:\n",
    "                df.at[idx, \"street\"] = address\n",
    "\n",
    "    return df"
   ]
  },
  {
   "cell_type": "code",
   "execution_count": 16,
   "id": "1b6313b3",
   "metadata": {},
   "outputs": [],
   "source": [
    "def handle_missing_coordinates(df):\n",
    "\n",
    "    # Loop through the rows in the dataframe\n",
    "    for idx, row in df.iterrows():\n",
    "        # Check if the latitude and longitude are missing\n",
    "        if pd.isna(row[\"latitude\"]) and pd.isna(row[\"longitude\"]):\n",
    "            # If both latitude and longitude are missing, try to find them using the street address\n",
    "            postal_code = row[\"postal_code\"]\n",
    "            city = row[\"city\"]\n",
    "            street = row[\"street\"]\n",
    "            address = f\"{postal_code} {city}\"\n",
    "\n",
    "            try:\n",
    "                latitude, longitude = geocode_address(address)\n",
    "            except Exception as e:\n",
    "                print(f\"Error while geocoding address '{address}': {e}\")\n",
    "                latitude = None\n",
    "                longitude = None\n",
    "\n",
    "            # If the coordinates were found, update the latitude and longitude with the retrieved coordinates\n",
    "            if latitude and longitude:\n",
    "                df.at[idx, \"latitude\"] = latitude\n",
    "                df.at[idx, \"longitude\"] = longitude\n",
    "\n",
    "    return df"
   ]
  },
  {
   "cell_type": "code",
   "execution_count": 17,
   "id": "ad53fe27",
   "metadata": {},
   "outputs": [
    {
     "name": "stdout",
     "output_type": "stream",
     "text": [
      "Error while geocoding address '57450.0 FARÉBERSVILER': cannot unpack non-iterable NoneType object\n",
      "Error while geocoding address '77410.0 CLAYES-SOUILLY': cannot unpack non-iterable NoneType object\n"
     ]
    }
   ],
   "source": [
    "df = handle_missing_coordinates(df)\n",
    "df = handle_missing_street(df)"
   ]
  },
  {
   "cell_type": "code",
   "execution_count": 19,
   "id": "492c23ad",
   "metadata": {},
   "outputs": [],
   "source": [
    "df.to_excel('df.xlsx',index=False)"
   ]
  },
  {
   "cell_type": "code",
   "execution_count": null,
   "id": "a3dcdaab",
   "metadata": {},
   "outputs": [],
   "source": []
  }
 ],
 "metadata": {
  "kernelspec": {
   "display_name": "Python 3 (ipykernel)",
   "language": "python",
   "name": "python3"
  },
  "language_info": {
   "codemirror_mode": {
    "name": "ipython",
    "version": 3
   },
   "file_extension": ".py",
   "mimetype": "text/x-python",
   "name": "python",
   "nbconvert_exporter": "python",
   "pygments_lexer": "ipython3",
   "version": "3.8.12"
  }
 },
 "nbformat": 4,
 "nbformat_minor": 5
}
