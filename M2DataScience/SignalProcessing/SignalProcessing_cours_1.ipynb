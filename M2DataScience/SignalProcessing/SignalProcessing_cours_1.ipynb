{
 "cells": [
  {
   "cell_type": "markdown",
   "id": "a3b69c91-8255-497a-8eab-76240b1e7f10",
   "metadata": {},
   "source": [
    "Vincent ROCA vincent.roca@univ-lille.fr"
   ]
  },
  {
   "cell_type": "markdown",
   "id": "1c84d438-7267-4876-80c4-d687e516a204",
   "metadata": {},
   "source": [
    "# Introduction\n",
    "\n",
    "In this session, we use Python to visualize and manipulate MRI data. MRI data can be downloaded at [this adress](https://nextcloud.univ-lille.fr/index.php/s/Tsaape5DmBtFaze)."
   ]
  },
  {
   "cell_type": "markdown",
   "id": "7c632df0-7d93-4155-b02c-2924394525ca",
   "metadata": {},
   "source": [
    "# Exploration of the dataset\n",
    "\n",
    "We will first explore the file **metadata.csv** in the data directory to compute and display some statistics relative to the dataset. Each line in this file corresponds to a patient with an MR image."
   ]
  },
  {
   "cell_type": "markdown",
   "id": "dc398d17-3922-4748-b704-51801329bb53",
   "metadata": {},
   "source": [
    "## Data loading\n",
    "\n",
    "Load the CSV file into a **pandas DataFrame**. Print the number of patients and the column names."
   ]
  },
  {
   "cell_type": "code",
   "execution_count": null,
   "id": "88343d04-1d7a-442f-b210-68015b84ac49",
   "metadata": {},
   "outputs": [],
   "source": []
  },
  {
   "cell_type": "markdown",
   "id": "19145fa5-b3fb-408e-bd17-f6483bd6ebc1",
   "metadata": {},
   "source": [
    "## Global statistics\n",
    "\n",
    "Print some statistics:\n",
    "  - average age\n",
    "  - standard deviation of age\n",
    "  - percentage of women"
   ]
  },
  {
   "cell_type": "code",
   "execution_count": null,
   "id": "8f79ecaa-3f1c-4837-a40f-b91f2b52b48e",
   "metadata": {},
   "outputs": [],
   "source": []
  },
  {
   "cell_type": "markdown",
   "id": "aa5977cd-76fc-43a2-bcde-2bd08cdfe89d",
   "metadata": {},
   "source": [
    "## Statistics per site\n",
    "\n",
    "The *site* field in metadata enables to identify the site of MR image acquisition for each patient."
   ]
  },
  {
   "cell_type": "markdown",
   "id": "93471704-2fa8-4589-af39-50eef1bdb695",
   "metadata": {},
   "source": [
    "Print the list of site names and the number of patients for each one. The [groupby](https://pandas.pydata.org/pandas-docs/stable/reference/api/pandas.DataFrame.groupby.html) and [size](http://pandas.pydata.org/pandas-docs/stable/reference/api/pandas.core.groupby.GroupBy.size.html) functions may be helpful."
   ]
  },
  {
   "cell_type": "code",
   "execution_count": null,
   "id": "f8288b9b-e5ea-4ba2-a6b0-80b6ea4b8c89",
   "metadata": {},
   "outputs": [],
   "source": []
  },
  {
   "cell_type": "markdown",
   "id": "78940a4a-8ed1-49bf-8184-5fe07821f5a8",
   "metadata": {},
   "source": [
    "Print the following statistics for each site:\n",
    "  - average age\n",
    "  - standard deviation of age\n",
    "  - percentage of women\n",
    "  \n",
    "The [groupby](https://pandas.pydata.org/pandas-docs/stable/reference/api/pandas.DataFrame.groupby.html) and [aggregate](https://pandas.pydata.org/pandas-docs/stable/reference/api/pandas.core.groupby.DataFrameGroupBy.aggregate.html) functions may be helpful."
   ]
  },
  {
   "cell_type": "code",
   "execution_count": null,
   "id": "3267e145-9fe6-457b-aef6-59ff8bdcfdf8",
   "metadata": {},
   "outputs": [],
   "source": []
  },
  {
   "cell_type": "markdown",
   "id": "8937a435-6df2-4cd1-8771-fb0fa436b3f1",
   "metadata": {},
   "source": [
    "Display boxplots of age distribution for each site. **seaborn.boxplot** may be helpful."
   ]
  },
  {
   "cell_type": "code",
   "execution_count": null,
   "id": "8b669780-61c1-4488-ad95-f75b36bd7f30",
   "metadata": {},
   "outputs": [],
   "source": []
  },
  {
   "cell_type": "markdown",
   "id": "aad65e61-b5d0-4622-8c25-4774f42a9652",
   "metadata": {},
   "source": [
    "# Manipulation/visualization of an MR image and segmentation masks\n",
    "\n",
    "We will now work on 3 MR images of subject 2:\n",
    "  1. **2_raw.nii.gz**: MR image of subject 2\n",
    "  2. **2_brainMask.nii.gz**: corresponding brain mask. $mask[i,j,k] > 0$ means that $brain[i,j,k]$ has been identified as a brain voxel.\n",
    "  3. **2_seg.nii.gz**: corresponding segmentation mask. Identifies the type of brain tissue in the brain:\n",
    "      - $mask[i,j,k] = 0 \\rightarrow$ non-brain voxel\n",
    "      - $mask[i,j,k] = 1 \\rightarrow$ cerebrospinal fluid (CSF) voxel\n",
    "      - $mask[i,j,k] = 2 \\rightarrow$ gray-matter (GM) voxel\n",
    "      - $mask[i,j,k] = 3 \\rightarrow$ white-matter (WM) voxel"
   ]
  },
  {
   "cell_type": "markdown",
   "id": "eb0cc86e-57a0-4a75-a9e4-ed168e085e1f",
   "metadata": {},
   "source": [
    "## Data loading\n",
    "\n",
    "Load the 3 MR images into 3 **numpy.ndarray** with **nibabel.load**."
   ]
  },
  {
   "cell_type": "code",
   "execution_count": null,
   "id": "e7af5e14-de3a-4428-88f4-8c7b25d2bd71",
   "metadata": {},
   "outputs": [],
   "source": []
  },
  {
   "cell_type": "markdown",
   "id": "d597aa36-b11d-4c9b-bfdf-edec5680d2b9",
   "metadata": {},
   "source": [
    "## Skullstripping\n",
    "\n",
    "Use the brain mask to set all non-brain voxels to 0 (skullstripping). Store the result in a new *numpy.ndarray*. **numpy.where** may be helpful."
   ]
  },
  {
   "cell_type": "code",
   "execution_count": null,
   "id": "8792e750-7665-42cb-a97a-4ae1b0fcde29",
   "metadata": {},
   "outputs": [],
   "source": []
  },
  {
   "cell_type": "markdown",
   "id": "289bb4ce-f0f5-42de-9238-3430ba58afe4",
   "metadata": {},
   "source": [
    "## Visualization\n",
    "\n",
    "Use the **imshow** function of *matplotlib* (with `cmap='gray'`) to display a slice (2D image) of the raw image, the skullstripped image and the segmentation. Use the same slice position for the 3 images (e.g. `array[:,:,75]`).\n",
    "\n",
    "Note: You can use [subplots](https://matplotlib.org/stable/api/_as_gen/matplotlib.pyplot.subplots.html) and [Axes.imshow](https://matplotlib.org/stable/api/_as_gen/matplotlib.axes.Axes.imshow.html) to display the three images on one row."
   ]
  },
  {
   "cell_type": "code",
   "execution_count": null,
   "id": "69c734d2-1b75-4187-8a50-d3a1eff1105f",
   "metadata": {},
   "outputs": [],
   "source": []
  },
  {
   "cell_type": "markdown",
   "id": "8dd7e200-e16a-4c46-939f-187cad31221e",
   "metadata": {},
   "source": [
    "#  Histogram of intensities"
   ]
  },
  {
   "cell_type": "markdown",
   "id": "48503f22-80c0-42eb-84a4-ccd5bb7735a2",
   "metadata": {},
   "source": [
    "Create a function `compute_histogram` for computing histograms of intensities (voxel values). This function takes 3 arguments:\n",
    "  - `mri`: *numpy.ndarray* corresponding to the MRI\n",
    "  - `mask`: *numpy.ndarray* of booleans corresponding to voxels of interest\n",
    "  - `bins`: array of bin edges of the resulting histogram\n",
    "  \n",
    "The function returns the values of the histogram of intensities inside the region defined by `mask`. Call **numpy.histogram** inside this function."
   ]
  },
  {
   "cell_type": "code",
   "execution_count": null,
   "id": "15413abe-3b9d-49ee-8906-40976180ae08",
   "metadata": {},
   "outputs": [],
   "source": []
  },
  {
   "cell_type": "markdown",
   "id": "4c883313-50d5-4d81-8083-fa2b02608568",
   "metadata": {},
   "source": [
    "The following function will be used to plot histograms (you can adapt it if you want):"
   ]
  },
  {
   "cell_type": "code",
   "execution_count": null,
   "id": "dae1710b-a36f-4254-ad35-f6e1c6933f7e",
   "metadata": {},
   "outputs": [],
   "source": [
    "import numpy as np\n",
    "import matplotlib.pyplot as plt\n",
    "def plot_histogram(hist, bins, label=None):\n",
    "    hist = np.insert(hist, 0, hist[0])\n",
    "    plt.plot(bins, hist, drawstyle='steps', label=label)"
   ]
  },
  {
   "cell_type": "markdown",
   "id": "0f8f4569-38f5-41ee-9ba4-06da5e916b75",
   "metadata": {},
   "source": [
    "## Single subject\n",
    "\n",
    "Use these two functions to plot the histogram of **brain** intensities of the subject 2. We will use the following histogram bin edges `np.arange(start=0, stop=1600, step=30)`."
   ]
  },
  {
   "cell_type": "code",
   "execution_count": null,
   "id": "8466f521-9867-43b6-a34a-e9778b871e46",
   "metadata": {},
   "outputs": [],
   "source": [
    "bins = np.arange(start=0, stop=1600, step=30)"
   ]
  },
  {
   "cell_type": "code",
   "execution_count": null,
   "id": "223df7bb-4069-44c4-b182-eceb1b07f2f3",
   "metadata": {},
   "outputs": [],
   "source": []
  },
  {
   "cell_type": "markdown",
   "id": "a0cf24be-7b43-4d04-b961-a2c1c2b8cd8f",
   "metadata": {},
   "source": [
    "Now use these two functions and the segmentation matrix you previously loaded (*2_seg.nii.gz*) to plot 3 histograms for subject 2 in one figure:\n",
    "  - CSF intensities\n",
    "  - GM intensities\n",
    "  - WM intensities\n",
    "  \n",
    "Note: You can use the `label` parameter of `compute_histogram` and the *matplotlib.pyplot.legend* function."
   ]
  },
  {
   "cell_type": "code",
   "execution_count": null,
   "id": "f5ca0b76-7734-4f16-9b5c-32b12f730e7d",
   "metadata": {},
   "outputs": [],
   "source": []
  },
  {
   "cell_type": "markdown",
   "id": "f8e1da39-84c4-4f3b-ad65-8c94df9a5b74",
   "metadata": {},
   "source": [
    "## Average per site\n",
    "\n",
    "In the data directory, you can find for each subject the MR image (*\\<sub_id\\>_raw.nii.gz*) and the corresponding brain mask (*\\<sub_id\\>_brainMask.nii.gz*).\n",
    "\n",
    "For each site, compute the average histogram of **brain** intensities with `compute_histogram` (sum of the individual histograms divided by the number of subject within the site)."
   ]
  },
  {
   "cell_type": "code",
   "execution_count": null,
   "id": "3503363f-8374-4fa5-816b-75e7e2bdd2ae",
   "metadata": {},
   "outputs": [],
   "source": []
  },
  {
   "cell_type": "markdown",
   "id": "a6fc6f6b-651b-433b-a83c-3b40efb3c049",
   "metadata": {},
   "source": [
    "Plot these histograms with `plot_histogram`.\n",
    "\n",
    "Note: You can use *matplotlib.pyplot.xlim* to change the limit of the x axis."
   ]
  },
  {
   "cell_type": "code",
   "execution_count": null,
   "id": "2dbe89b1-17a2-4a0f-8163-d80b0dc027a3",
   "metadata": {},
   "outputs": [],
   "source": []
  },
  {
   "cell_type": "markdown",
   "id": "97ee7971-fc60-451d-964b-b83c2ba71eed",
   "metadata": {},
   "source": [
    "# Intensity normalization"
   ]
  },
  {
   "cell_type": "markdown",
   "id": "37b07a88-ed12-4875-97f0-7f656c199525",
   "metadata": {},
   "source": [
    "## Z-score normalization\n",
    "\n",
    "Z-score normalization standardizes the mean and the standard deviation of brain intensities within each MRI with the following formula:\n",
    "\n",
    "$x_{zscore} = \\frac{x_{base}-\\mu_b}{\\sigma_b}$\n",
    "$\\mu_b$ and $\\sigma_b$ correspond respectively to mean and standard deviation of brain intensities within the original MRI $x_{base}$.\n",
    "\n",
    "Create the function `zscore` that takes an MRI and the corresponding brain mask as arguments and returns the z-zcore normalized MRI."
   ]
  },
  {
   "cell_type": "code",
   "execution_count": null,
   "id": "12d0cbc5-c804-4fcb-84eb-7bcf7f7012b5",
   "metadata": {},
   "outputs": [],
   "source": []
  },
  {
   "cell_type": "markdown",
   "id": "3d9bad01-8497-416f-bf46-1e7d5d8751a1",
   "metadata": {},
   "source": [
    "## Application to a single subject\n",
    "\n",
    "Apply this function to subject 2 and print the mean and standard deviation of the brain intensities of the normalized image to verify that you find the correct values (0 and 1)."
   ]
  },
  {
   "cell_type": "code",
   "execution_count": null,
   "id": "3a7a3660-1784-47db-a30b-9b822899a347",
   "metadata": {},
   "outputs": [],
   "source": []
  },
  {
   "cell_type": "markdown",
   "id": "6df03cb9-2873-4164-a4fa-1ad9a242436c",
   "metadata": {},
   "source": [
    "## Application to all subjects and histograms\n",
    "\n",
    "Compute the average histogram of brain intensities for each site as you did previously but with z-score normalized images. This time we will use the following histogram bin edges: `np.arange(start=-4,stop=4,step=0.15)`."
   ]
  },
  {
   "cell_type": "code",
   "execution_count": null,
   "id": "3246cdf8-3840-4472-8be3-1df7a364310f",
   "metadata": {},
   "outputs": [],
   "source": [
    "bins = np.arange(start=-4, stop=4, step=0.15)"
   ]
  },
  {
   "cell_type": "code",
   "execution_count": null,
   "id": "bd7e306d-eed2-4f0a-9d5b-85bacaae3f3f",
   "metadata": {},
   "outputs": [],
   "source": []
  },
  {
   "cell_type": "markdown",
   "id": "3d0f2e7e-d740-4a99-a8e7-e13e40d91df1",
   "metadata": {},
   "source": [
    "Now, plot the average histograms with `plot_histogram` as you did previously."
   ]
  },
  {
   "cell_type": "code",
   "execution_count": null,
   "id": "275c4ac1-116f-46a4-9401-a7085a06ea54",
   "metadata": {},
   "outputs": [],
   "source": []
  },
  {
   "cell_type": "markdown",
   "id": "3b205be3-f7c0-4b18-b324-7dabc03e1cf8",
   "metadata": {},
   "source": [
    "Comment the histograms in comparison with those you obtained previously without z-score normalization."
   ]
  },
  {
   "cell_type": "markdown",
   "id": "3b97ef07-cb28-43d4-af69-82cfc97f2637",
   "metadata": {},
   "source": []
  }
 ],
 "metadata": {
  "kernelspec": {
   "display_name": "Python 3 (ipykernel)",
   "language": "python",
   "name": "python3"
  },
  "language_info": {
   "codemirror_mode": {
    "name": "ipython",
    "version": 3
   },
   "file_extension": ".py",
   "mimetype": "text/x-python",
   "name": "python",
   "nbconvert_exporter": "python",
   "pygments_lexer": "ipython3",
   "version": "3.9.13"
  }
 },
 "nbformat": 4,
 "nbformat_minor": 5
}