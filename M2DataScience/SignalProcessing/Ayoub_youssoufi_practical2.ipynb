{
 "cells": [
  {
   "cell_type": "markdown",
   "id": "cf2ca25a-4078-413e-9594-dfbddd7414b6",
   "metadata": {},
   "source": [
    "# Introduction\n",
    "\n",
    "Brain age prediction consists in training a machine learning model to predict an individual's age from brain MRI data. It has been widely investigated in recent years ([survey about brain age prediction](https://link-springer-com.ressources-electroniques.univ-lille.fr/article/10.1007/s10916-019-1401-7)).\n",
    "\n",
    "In this practical, we will use MRI data from healthy subjects to train and evaluate machine learning models for brain age prediction. The data consist of cortical thickness measures extracted from MR images with [an automated parcellation tool](https://surfer.nmr.mgh.harvard.edu/fswiki/CorticalParcellation).\n",
    "\n",
    "The data are compiled into the **data.csv** file. Each line is associated to an MR image and gives the following information:\n",
    "  - `entry_id`: unique identifier\n",
    "  - `sub_id`: subject identifier (some subjects have been scanned several times)\n",
    "  - `site`: name of the site where the image has been acquired\n",
    "  - `sex`\n",
    "  - `age`\n",
    "  - the cortical thickness measures in milimeter:\n",
    "    - measures of the left brain hemisphere (the column names starting with *lh_*)\n",
    "    - measures of the right brain hemisphere (the column names starting with *rh_*)"
   ]
  },
  {
   "cell_type": "markdown",
   "id": "df626f25-e249-4c10-bf29-c93e96c865ae",
   "metadata": {},
   "source": [
    "# Exploration of the metadata"
   ]
  },
  {
   "cell_type": "markdown",
   "id": "a9fdbacd-26da-44ce-9959-6660c2749453",
   "metadata": {},
   "source": [
    "## Global information\n",
    "\n",
    "Load the file into a *pandas.DataFrame* and print the following information:\n",
    "  - the total number of MR images\n",
    "  - the total number of subjects\n",
    "  - the number of cortical thickness measures"
   ]
  },
  {
   "cell_type": "code",
   "execution_count": 1,
   "id": "a4e9927c-dc6b-4433-aa65-5e5b9381a69f",
   "metadata": {},
   "outputs": [],
   "source": [
    "import pandas as pd \n",
    "import numpy as np\n",
    "import matplotlib.pylab as plt \n",
    "from sklearn.model_selection import train_test_split\n",
    "from sklearn.preprocessing import PolynomialFeatures\n",
    "from sklearn.linear_model import LinearRegression\n",
    "from sklearn.metrics import mean_absolute_error\n",
    "from sklearn.base import BaseEstimator\n",
    "import matplotlib.pyplot as plt\n",
    "from mpl_toolkits.mplot3d import Axes3D"
   ]
  },
  {
   "cell_type": "code",
   "execution_count": 2,
   "id": "6d485a97",
   "metadata": {},
   "outputs": [],
   "source": [
    "df = pd.read_csv('data_practical2.csv')"
   ]
  },
  {
   "cell_type": "code",
   "execution_count": 3,
   "id": "db0c14a0",
   "metadata": {},
   "outputs": [
    {
     "name": "stdout",
     "output_type": "stream",
     "text": [
      "total number of MR image 3356\n",
      "total number of subjects 2662\n",
      "total number of cortical thickness 148\n"
     ]
    }
   ],
   "source": [
    "print(f'total number of MR image', df.shape[0])\n",
    "print(f'total number of subjects', df['sub_id'].nunique())\n",
    "print(f'total number of cortical thickness', df.shape[1]-5)"
   ]
  },
  {
   "cell_type": "markdown",
   "id": "f6f6610c-286d-4690-8e09-cbb4f18888f4",
   "metadata": {},
   "source": [
    "## Statistics per site\n",
    "\n",
    "Print the number of MR images and the number of subjects within each site."
   ]
  },
  {
   "cell_type": "code",
   "execution_count": 4,
   "id": "786f4e8c-d1c4-423e-94d7-8495877915c0",
   "metadata": {},
   "outputs": [
    {
     "data": {
      "text/plain": [
       "site\n",
       "CI2C        18\n",
       "COBRE      238\n",
       "CODE2       23\n",
       "CPP         19\n",
       "FBIRN      249\n",
       "Guys       314\n",
       "HCP       1112\n",
       "HH         181\n",
       "IOP         68\n",
       "MCIC       261\n",
       "NKI        734\n",
       "NMORPH     139\n",
       "dtype: int64"
      ]
     },
     "execution_count": 4,
     "metadata": {},
     "output_type": "execute_result"
    }
   ],
   "source": [
    "df.groupby('site').size()"
   ]
  },
  {
   "cell_type": "code",
   "execution_count": 5,
   "id": "25b8f235",
   "metadata": {},
   "outputs": [
    {
     "data": {
      "text/html": [
       "<div>\n",
       "<style scoped>\n",
       "    .dataframe tbody tr th:only-of-type {\n",
       "        vertical-align: middle;\n",
       "    }\n",
       "\n",
       "    .dataframe tbody tr th {\n",
       "        vertical-align: top;\n",
       "    }\n",
       "\n",
       "    .dataframe thead th {\n",
       "        text-align: right;\n",
       "    }\n",
       "</style>\n",
       "<table border=\"1\" class=\"dataframe\">\n",
       "  <thead>\n",
       "    <tr style=\"text-align: right;\">\n",
       "      <th></th>\n",
       "      <th>sub_id</th>\n",
       "    </tr>\n",
       "    <tr>\n",
       "      <th>site</th>\n",
       "      <th></th>\n",
       "    </tr>\n",
       "  </thead>\n",
       "  <tbody>\n",
       "    <tr>\n",
       "      <th>CI2C</th>\n",
       "      <td>5</td>\n",
       "    </tr>\n",
       "    <tr>\n",
       "      <th>COBRE</th>\n",
       "      <td>94</td>\n",
       "    </tr>\n",
       "    <tr>\n",
       "      <th>CODE2</th>\n",
       "      <td>23</td>\n",
       "    </tr>\n",
       "    <tr>\n",
       "      <th>CPP</th>\n",
       "      <td>19</td>\n",
       "    </tr>\n",
       "    <tr>\n",
       "      <th>FBIRN</th>\n",
       "      <td>94</td>\n",
       "    </tr>\n",
       "    <tr>\n",
       "      <th>Guys</th>\n",
       "      <td>314</td>\n",
       "    </tr>\n",
       "    <tr>\n",
       "      <th>HCP</th>\n",
       "      <td>1112</td>\n",
       "    </tr>\n",
       "    <tr>\n",
       "      <th>HH</th>\n",
       "      <td>181</td>\n",
       "    </tr>\n",
       "    <tr>\n",
       "      <th>IOP</th>\n",
       "      <td>68</td>\n",
       "    </tr>\n",
       "    <tr>\n",
       "      <th>MCIC</th>\n",
       "      <td>95</td>\n",
       "    </tr>\n",
       "    <tr>\n",
       "      <th>NKI</th>\n",
       "      <td>613</td>\n",
       "    </tr>\n",
       "    <tr>\n",
       "      <th>NMORPH</th>\n",
       "      <td>44</td>\n",
       "    </tr>\n",
       "  </tbody>\n",
       "</table>\n",
       "</div>"
      ],
      "text/plain": [
       "        sub_id\n",
       "site          \n",
       "CI2C         5\n",
       "COBRE       94\n",
       "CODE2       23\n",
       "CPP         19\n",
       "FBIRN       94\n",
       "Guys       314\n",
       "HCP       1112\n",
       "HH         181\n",
       "IOP         68\n",
       "MCIC        95\n",
       "NKI        613\n",
       "NMORPH      44"
      ]
     },
     "execution_count": 5,
     "metadata": {},
     "output_type": "execute_result"
    }
   ],
   "source": [
    "df.groupby('site').aggregate({'sub_id':'nunique'})"
   ]
  },
  {
   "cell_type": "markdown",
   "id": "d89d1d12-9e0d-4d5b-ab81-83d88bfc00f9",
   "metadata": {},
   "source": [
    "## Age distributions\n",
    "\n",
    "Display two figures: the first one contains a **count histogram** of the global age distribution and the second one contains one **probability histogram** of age distribution for each site. For the latter, the probabilities must be computed independently for each site.\n",
    "\n",
    "Use the following histogram bins: `range(5,95,5)`.\n",
    "\n",
    "*seaborn.histplot* may be helpful."
   ]
  },
  {
   "cell_type": "code",
   "execution_count": 6,
   "id": "fd1446f1",
   "metadata": {},
   "outputs": [],
   "source": [
    "import seaborn as sns"
   ]
  },
  {
   "cell_type": "code",
   "execution_count": 7,
   "id": "48965193-f4be-45c2-8d50-3df3906967c4",
   "metadata": {},
   "outputs": [],
   "source": [
    "bins = range(5,95,5)"
   ]
  },
  {
   "cell_type": "code",
   "execution_count": 8,
   "id": "a09aae34-37cb-4e39-8944-59cad037d03b",
   "metadata": {},
   "outputs": [
    {
     "data": {
      "text/plain": [
       "<AxesSubplot:xlabel='age', ylabel='Count'>"
      ]
     },
     "execution_count": 8,
     "metadata": {},
     "output_type": "execute_result"
    },
    {
     "data": {
      "image/png": "[encoded data removed]",
      "text/plain": [
       "<Figure size 432x288 with 1 Axes>"
      ]
     },
     "metadata": {
      "needs_background": "light"
     },
     "output_type": "display_data"
    }
   ],
   "source": [
    "sns.histplot(data= df, x= df['age'], bins=bins, legend = 'True' )"
   ]
  },
  {
   "cell_type": "code",
   "execution_count": 9,
   "id": "1698a5b6",
   "metadata": {},
   "outputs": [
    {
     "data": {
      "text/plain": [
       "<AxesSubplot:xlabel='age', ylabel='Probability'>"
      ]
     },
     "execution_count": 9,
     "metadata": {},
     "output_type": "execute_result"
    },
    {
     "data": {
      "image/png": "[encoded data removed]",
      "text/plain": [
       "<Figure size 432x288 with 1 Axes>"
      ]
     },
     "metadata": {
      "needs_background": "light"
     },
     "output_type": "display_data"
    }
   ],
   "source": [
    "sns.histplot(data= df, x= df['age'], bins=bins, hue='site',legend = 'True', stat='probability' )"
   ]
  },
  {
   "cell_type": "markdown",
   "id": "94a36720-9175-4ce0-a547-3ddd13c17dce",
   "metadata": {},
   "source": [
    "# Univariate analysis\n",
    "\n",
    "We will first investigate the relation between age and cortical thickness. It is known that cortical thickness decreases with aging, in a constant way throughout adulthood.\n",
    "\n",
    "For each MR image, compute the median over the cortical thickness measures. Then display a scatter plot of this median as a function of age. Add to the figure a regression line (linear least-squares regression) and print the Pearson correlation coefficient. Generally, what does this coefficient quantify ?"
   ]
  },
  {
   "cell_type": "code",
   "execution_count": 10,
   "id": "644378e8-85e0-4f74-9b7e-a490a0358c1a",
   "metadata": {
    "scrolled": true
   },
   "outputs": [
    {
     "data": {
      "text/plain": [
       "<AxesSubplot:xlabel='age'>"
      ]
     },
     "execution_count": 10,
     "metadata": {},
     "output_type": "execute_result"
    },
    {
     "data": {
      "image/png": "[encoded data removed]",
      "text/plain": [
       "<Figure size 432x288 with 1 Axes>"
      ]
     },
     "metadata": {
      "needs_background": "light"
     },
     "output_type": "display_data"
    }
   ],
   "source": [
    "# Rmimage_first = df.iloc[0][5:]\n",
    "Rmimage_median=[]\n",
    "for line in range(len(df)):\n",
    "    Rmimage_median.append(df.iloc[line][5:].median())\n",
    "sns.regplot(data=df, x='age',y=Rmimage_median)"
   ]
  },
  {
   "cell_type": "code",
   "execution_count": 11,
   "id": "47b4f474",
   "metadata": {},
   "outputs": [
    {
     "name": "stdout",
     "output_type": "stream",
     "text": [
      "correlation coefficients are :\n"
     ]
    },
    {
     "data": {
      "text/plain": [
       "array([[ 1.        , -0.63213242],\n",
       "       [-0.63213242,  1.        ]])"
      ]
     },
     "execution_count": 11,
     "metadata": {},
     "output_type": "execute_result"
    }
   ],
   "source": [
    "print('correlation coefficients are :')\n",
    "np.corrcoef(x=df['age'],y=Rmimage_median)"
   ]
  },
  {
   "cell_type": "markdown",
   "id": "24b0b7d7",
   "metadata": {},
   "source": [
    "what does this coefficient quantify ?\n",
    "The correlation coefficient shows the correlation between the age and cortical thickness. We can see clearly from the figure that when the age of an individual increase, the cortical thickness decrease."
   ]
  },
  {
   "cell_type": "markdown",
   "id": "d8bbdfa5-8c8b-4d4f-9505-33c98165d3d4",
   "metadata": {},
   "source": [
    "# Machine learning\n",
    "\n",
    "In this section, we will use the *sklearn* module for machine learning in order to predict age from the cortical thickness measures. Use the *random_state* parameter when possible to make your results reproducible across runs."
   ]
  },
  {
   "cell_type": "markdown",
   "id": "296bddc4-4c14-4b59-87b4-4ab8b3aeca86",
   "metadata": {},
   "source": [
    "## Train/test splitting\n",
    "\n",
    "Start by dividing your MR images into a training and a test set. As seen earlier, some subjects have several images in the dataset; prevent the presence of subjects in both the training and the test sets. Keep 20% of the subjects for the test."
   ]
  },
  {
   "cell_type": "code",
   "execution_count": 12,
   "id": "6acf1329",
   "metadata": {},
   "outputs": [],
   "source": [
    "mr_train_test= df.drop_duplicates(subset=['sub_id'])\n",
    "train_mr, test_mr = train_test_split(mr_train_test, test_size=0.2)"
   ]
  },
  {
   "cell_type": "markdown",
   "id": "e22f282a-dfbb-4e03-ae82-9af257daab81",
   "metadata": {},
   "source": [
    "Compute the mean and the standard deviation of age in the training and test set respectively to check that the age distributions are similar between both sets (less than 3 years of difference)."
   ]
  },
  {
   "cell_type": "code",
   "execution_count": 13,
   "id": "1410e7c6-fc77-47d3-84a9-2f4d3d494ad6",
   "metadata": {},
   "outputs": [
    {
     "name": "stdout",
     "output_type": "stream",
     "text": [
      "the mean of the age in the training set : 36.524\n",
      "the standard deviation of the age in the training set  : 15.782\n"
     ]
    }
   ],
   "source": [
    "print(f\"the mean of the age in the training set : {train_mr['age'].mean():.3f}\")\n",
    "print(f\"the standard deviation of the age in the training set  : {train_mr['age'].std():.3f}\")"
   ]
  },
  {
   "cell_type": "markdown",
   "id": "d1c0d2dc-1730-4b75-a0b3-b925680b32c4",
   "metadata": {},
   "source": [
    "State the following nummpy arrays:\n",
    "  - `X_train`: cortical thicknesses of the training set -> shape (n_train,n_features)\n",
    "  - `X_test`: cortical thicknesses of the test test -> shape (n_test,n_features)\n",
    "  - `Y_train`: the ages in the training set -> shape (n_train,)\n",
    "  - `Y_test`: the ages in the test set -> shape (n_test,)"
   ]
  },
  {
   "cell_type": "code",
   "execution_count": 14,
   "id": "9234c737-8b2d-47bb-8e0d-4b95aed67b2c",
   "metadata": {},
   "outputs": [],
   "source": [
    "X =df.drop(columns= ['entry_id','site','sub_id','sex','age'])\n",
    "y= df['age']\n",
    "X_train, X_test, y_train, y_test = train_test_split(X,y, test_size=0.2, random_state=42)"
   ]
  },
  {
   "cell_type": "code",
   "execution_count": 15,
   "id": "6ba2d5c3",
   "metadata": {},
   "outputs": [
    {
     "data": {
      "text/plain": [
       "((2684, 148), (672, 148), (2684,), (672,))"
      ]
     },
     "execution_count": 15,
     "metadata": {},
     "output_type": "execute_result"
    }
   ],
   "source": [
    "X_train.shape, X_test.shape, y_train.shape, y_test.shape"
   ]
  },
  {
   "cell_type": "markdown",
   "id": "8c3de596-e3b0-4cc2-9978-89ad48416127",
   "metadata": {},
   "source": [
    "## Training/evaluation of different models"
   ]
  },
  {
   "cell_type": "markdown",
   "id": "b7e1dc0a-7f23-44b1-8c87-41c43219e8cc",
   "metadata": {},
   "source": [
    "### Univariate linear regression\n",
    "\n",
    "We previously studied the relation between age and the median cortical thickness. We will continue in this voice and try to predict an individual's age from its median cortical cortical thickness. To enable non-linearity, we will use the [sklearn PolynomialFeatures class](https://scikit-learn.org/stable/modules/generated/sklearn.preprocessing.PolynomialFeatures.html) as a preprocessing step (i.e. input $(x,)$ become $(x,x^2,...,x^{d\\_max})$)."
   ]
  },
  {
   "cell_type": "markdown",
   "id": "101c6b14-9f9e-4317-b9a8-ec6e7760552c",
   "metadata": {},
   "source": [
    "#### Defining the model\n",
    "\n",
    "Define a sklearn predictor that performs the following steps:\n",
    "  1. Compute the median for each entry\n",
    "  2. Generate polynomial features from the median for each entry (the maximal degree is an hyperparameter).\n",
    "  3. Perform an ordinary least squares linear regression from these features.\n",
    "  \n",
    "Note: In order to create a sklearn predictor, you can read [this](https://scikit-learn.org/stable/developers/develop.html). You can use the below code skeleton."
   ]
  },
  {
   "cell_type": "code",
   "execution_count": 15,
   "id": "2df4e79a-edc5-4192-a60a-47ca889d6267",
   "metadata": {},
   "outputs": [],
   "source": [
    "class AgePredictor_polyReg(BaseEstimator):\n",
    "    \n",
    "    def __init__(self, degree=1):\n",
    "        self.degree = degree\n",
    "        \n",
    "    def fit(self, X, y):\n",
    "        self.medians_ = np.median(X, axis=1).reshape(-1, 1)\n",
    "        self.polynomial_features_ = PolynomialFeatures(degree=self.degree)\n",
    "        X_median_poly = self.polynomial_features_.fit_transform(self.medians_)\n",
    "        self.lg_ = LinearRegression()\n",
    "        self.lg_.fit(X_median_poly, y)\n",
    "        return self\n",
    "    \n",
    "    def predict(self, X):\n",
    "        medians = np.median(X, axis=1).reshape(-1, 1)\n",
    "        X_median_poly = self.polynomial_features_.transform(medians)\n",
    "        return self.lg_.predict(X_median_poly)\n",
    "    \n",
    "    def score(self,X,y):\n",
    "        y_pred = self.predict(X)\n",
    "        return mean_absolute_error(y, y_pred)"
   ]
  },
  {
   "cell_type": "markdown",
   "id": "afa9203b-d364-4a14-a7f5-08b4d615462c",
   "metadata": {},
   "source": [
    "#### Training with hyperparameter optimisation\n",
    "\n",
    "Apply a grid search cross validation on the training set to optimise the hyperparameter of the model (i.e. the maximal degree of the generated polynoms). You can use a range from 1 to 5 for the search. Use the mean absolute error (MAE) as the grid search loss. *sklearn.model_selection.GridSearchCV* may be useful."
   ]
  },
  {
   "cell_type": "code",
   "execution_count": 16,
   "id": "faaf3040-f9e9-45c2-8873-887ae7b99adf",
   "metadata": {},
   "outputs": [
    {
     "data": {
      "text/plain": [
       "{'degree': 5}"
      ]
     },
     "execution_count": 16,
     "metadata": {},
     "output_type": "execute_result"
    }
   ],
   "source": [
    "from sklearn.model_selection import GridSearchCV\n",
    "param = {'degree': [1,2,3,4,5]}\n",
    "ml = AgePredictor_polyReg()\n",
    "clf = GridSearchCV(ml, param, scoring='neg_mean_absolute_error',return_train_score=True)\n",
    "clf.fit(X_train,y_train)\n",
    "clf.best_params_"
   ]
  },
  {
   "cell_type": "code",
   "execution_count": 17,
   "id": "184e6097",
   "metadata": {},
   "outputs": [
    {
     "data": {
      "text/plain": [
       "dict_keys(['mean_fit_time', 'std_fit_time', 'mean_score_time', 'std_score_time', 'param_degree', 'params', 'split0_test_score', 'split1_test_score', 'split2_test_score', 'split3_test_score', 'split4_test_score', 'mean_test_score', 'std_test_score', 'rank_test_score', 'split0_train_score', 'split1_train_score', 'split2_train_score', 'split3_train_score', 'split4_train_score', 'mean_train_score', 'std_train_score'])"
      ]
     },
     "execution_count": 17,
     "metadata": {},
     "output_type": "execute_result"
    }
   ],
   "source": [
    "clf.cv_results_.keys()"
   ]
  },
  {
   "cell_type": "code",
   "execution_count": 18,
   "id": "11e54e11",
   "metadata": {},
   "outputs": [
    {
     "data": {
      "text/plain": [
       "array([-9.19570284, -9.22927458, -9.14444779, -9.17935866, -9.12609773])"
      ]
     },
     "execution_count": 18,
     "metadata": {},
     "output_type": "execute_result"
    }
   ],
   "source": [
    "clf.cv_results_['mean_test_score']"
   ]
  },
  {
   "cell_type": "code",
   "execution_count": 19,
   "id": "076ee9b0",
   "metadata": {},
   "outputs": [
    {
     "data": {
      "text/plain": [
       "array([-9.18499159, -9.21777093, -9.12720331, -9.15538378, -9.08784474])"
      ]
     },
     "execution_count": 19,
     "metadata": {},
     "output_type": "execute_result"
    }
   ],
   "source": [
    "clf.cv_results_['mean_train_score']"
   ]
  },
  {
   "cell_type": "markdown",
   "id": "d75b7905-0bd9-4c46-b24b-a8af80196fb3",
   "metadata": {},
   "source": [
    "Based on the results of the grid search, display in a scatter plot the train and the validation MAE as a function of the maximal degree of the polynom. Comment briefly the results."
   ]
  },
  {
   "cell_type": "code",
   "execution_count": 20,
   "id": "a605d112-831d-47aa-87f1-b2c88f2c3568",
   "metadata": {},
   "outputs": [
    {
     "data": {
      "image/png": "[encoded data removed]",
      "text/plain": [
       "<Figure size 432x288 with 1 Axes>"
      ]
     },
     "metadata": {
      "needs_background": "light"
     },
     "output_type": "display_data"
    }
   ],
   "source": [
    "import matplotlib.pyplot as plt\n",
    "\n",
    "degrees = param['degree']\n",
    "train_scores = clf.cv_results_['mean_train_score']\n",
    "test_scores = clf.cv_results_['mean_test_score']\n",
    "\n",
    "plt.scatter(degrees, train_scores, label='Train MAE')\n",
    "plt.scatter(degrees, test_scores, label='Validation MAE')\n",
    "plt.xlabel('Maximal degree of the polynom')\n",
    "plt.ylabel('Mean Absolute Error')\n",
    "plt.legend()\n",
    "plt.show()"
   ]
  },
  {
   "cell_type": "markdown",
   "id": "8133de82-61ff-4337-9a35-5e744436a357",
   "metadata": {},
   "source": []
  },
  {
   "cell_type": "markdown",
   "id": "edd51ee5-39fb-4110-ab5f-bcd9fb8d7276",
   "metadata": {},
   "source": [
    "#### Evaluation on the test set\n",
    "\n",
    "Apply the model resulting from the grid search to the test set and print the MAE."
   ]
  },
  {
   "cell_type": "code",
   "execution_count": 21,
   "id": "925d55e8-e4ca-44ec-8cf3-6134ad330d6d",
   "metadata": {},
   "outputs": [
    {
     "name": "stdout",
     "output_type": "stream",
     "text": [
      "the mean absolute error resulting form the grid search : 8.597\n"
     ]
    }
   ],
   "source": [
    "ag = AgePredictor_polyReg(degree=5)\n",
    "ag.fit(X_train,y_train)\n",
    "\n",
    "print(f\"the mean absolute error resulting form the grid search : {np.abs(ag.predict(X_test)-y_test).mean():.3f}\")"
   ]
  },
  {
   "cell_type": "markdown",
   "id": "c0ab6fc7-9c7c-46ec-a918-5b7cbe8ccacc",
   "metadata": {},
   "source": [
    "### Ridge regression\n",
    "\n",
    "The previous predictor was univariate as it was limited to 1 input feature. We will now exploit all the cortical thickness features with Ridge regression. Ridge regression is a linear least squares regression with an l2 regularization on the regression coefficients. It includes an hyperparameter weighting the l2 penalty."
   ]
  },
  {
   "cell_type": "markdown",
   "id": "07ea3cb2-7b8d-47e6-81d4-76fc1c186c3e",
   "metadata": {},
   "source": [
    "#### Defining the model\n",
    "\n",
    "Should we standardize our features (i.e. cortical thickness measures) before applying a Ridge regression ? **Argue** and define your model according to your choice. "
   ]
  },
  {
   "cell_type": "markdown",
   "id": "51a662f4",
   "metadata": {},
   "source": [
    "Standardizing the features, also known as feature scaling, can be beneficial when applying Ridge regression or any other regularized linear regression model. The reason is that Ridge regression and other regularized linear regression models use the L2 norm, also known as the Euclidean norm, of the coefficients as a regularization term. This means that the magnitude of the coefficients affects the regularization term, and if the features have different scales, the regularization term will be affected by the scale of the features.\n",
    "\n",
    "When the features have different scales, the features with larger scales will have a bigger impact on the regularization term, and this can cause the model to prefer those features over the others. Standardizing the features, i.e. scaling them to have zero mean and unit variance, can help to prevent this bias. This is because it will make all the features have the same scale, so they will all have the same impact on the regularization term.\n",
    "\n",
    "It's worth noting that standardizing the features is not always necessary, but it can help to improve the performance of Ridge regression and other regularized linear regression models when the features have different scales.\n",
    "\n",
    "In summary, yes, it is a good practice to standardize the features before applying a Ridge Regression."
   ]
  },
  {
   "cell_type": "markdown",
   "id": "673ffbad-f03a-402c-bc1c-83d29613dc38",
   "metadata": {},
   "source": [
    "#### Training with hyperparameter optimization\n",
    "\n",
    "Train your model on the training set with a grid search cross validation for optimizing the hyperparameter related to the l2 regularization. Then plot the resulting train and validation MAE as a function of this hyperparameter."
   ]
  },
  {
   "cell_type": "code",
   "execution_count": 42,
   "id": "dac1d656-e48a-40db-924e-598e6cfd515a",
   "metadata": {},
   "outputs": [
    {
     "data": {
      "text/plain": [
       "({'alpha': 8.41}, 0.6681473417800298)"
      ]
     },
     "execution_count": 42,
     "metadata": {},
     "output_type": "execute_result"
    }
   ],
   "source": [
    "from sklearn.linear_model import Ridge\n",
    "alpha_range = np.arange(0.01, 10.1, 0.1)\n",
    "ridge = Ridge(alpha=1.0)\n",
    "grid_search = GridSearchCV(ridge, param_grid={'alpha': alpha_range}, cv=5,return_train_score=True)\n",
    "grid_search.fit(X_train, y_train)\n",
    "grid_search.best_params_, grid_search.best_score_"
   ]
  },
  {
   "cell_type": "code",
   "execution_count": 43,
   "id": "08003cb4",
   "metadata": {},
   "outputs": [
    {
     "data": {
      "image/png": "[encoded data removed]",
      "text/plain": [
       "<Figure size 432x288 with 1 Axes>"
      ]
     },
     "metadata": {
      "needs_background": "light"
     },
     "output_type": "display_data"
    }
   ],
   "source": [
    "\n",
    "# Extract the mean and std of the MAE for each value of alpha\n",
    "mean_train_mae = grid_search.cv_results_['mean_train_score']\n",
    "std_train_mae = grid_search.cv_results_['std_train_score']\n",
    "mean_val_mae = grid_search.cv_results_['mean_test_score']\n",
    "std_val_mae = grid_search.cv_results_['std_test_score']\n",
    "\n",
    "# Plot the train and validation MAE as a function of alpha\n",
    "plt.plot(alpha_range, mean_train_mae, label='Train MAE')\n",
    "plt.fill_between(alpha_range, mean_train_mae-std_train_mae, mean_train_mae+std_train_mae, alpha=0.2)\n",
    "plt.plot(alpha_range, mean_val_mae, label='Validation MAE')\n",
    "plt.fill_between(alpha_range, mean_val_mae-std_val_mae, mean_val_mae+std_val_mae, alpha=0.2)\n",
    "plt.xscale('log')\n",
    "plt.xlabel('alpha')\n",
    "plt.ylabel('MAE')\n",
    "plt.legend()\n",
    "plt.show()"
   ]
  },
  {
   "cell_type": "markdown",
   "id": "c8ebdf18",
   "metadata": {},
   "source": [
    "This plot will show the trade-off between the model's complexity and performance, we can use this graph to select the best value for the alpha hyperparameter. <br>\n",
    "In this case, the standard deviation of the validation mae is too large. This means, that the model performance is unstable. This could mean that the model is overfitting or underfiting or that the data is too noisy"
   ]
  },
  {
   "cell_type": "markdown",
   "id": "a1f7b9d7-e162-4b49-b48e-428471bf7701",
   "metadata": {},
   "source": [
    "#### Evaluation on the test set\n",
    "\n",
    "Apply the model resulting from the grid search to the test set and print the MAE."
   ]
  },
  {
   "cell_type": "code",
   "execution_count": 59,
   "id": "1b63efe0-fba4-4be9-ad60-419ca064ad98",
   "metadata": {},
   "outputs": [
    {
     "name": "stdout",
     "output_type": "stream",
     "text": [
      "Test MAE: 6.874\n"
     ]
    }
   ],
   "source": [
    "from sklearn.metrics import mean_absolute_error\n",
    "\n",
    "# Get the best model from the grid search\n",
    "best_model_ridge = grid_search.best_estimator_\n",
    "\n",
    "# Make predictions on the test set\n",
    "y_pred_ridge = best_model_ridge.predict(X_test)\n",
    "\n",
    "# Calculate the MAE\n",
    "mae = mean_absolute_error(y_test, y_pred_ridge)\n",
    "print(f'Test MAE: {mae:.3f}')\n"
   ]
  },
  {
   "cell_type": "markdown",
   "id": "cb528ce2-0081-4acf-b5c8-ee1c9e4283c8",
   "metadata": {},
   "source": [
    "### Support vector regression\n",
    "\n",
    "We will now experiment a kernel method that enables the learning of non-linear functions: Support Vector Regression (SVR)."
   ]
  },
  {
   "cell_type": "markdown",
   "id": "9e4456cb-9113-4c37-8ad8-99e6b2b68043",
   "metadata": {},
   "source": [
    "#### Defining the model\n",
    "\n",
    "The kernel methods are based on similarity functions. They therefore require a prior feature standardization.\n",
    "\n",
    "Define a sklearn model performing the standardization and the SVR. You can use [sklearn pipelines](https://scikit-learn.org/stable/modules/compose.html#pipeline). We will use the following settings for the SVR (see the [sklearn documentation](https://scikit-learn.org/stable/modules/generated/sklearn.svm.SVR.html)):\n",
    "  - `kernel`: radial basis function to enable non-linearity\n",
    "  - `C`: hyperparameter of our model (optimized latter)\n",
    "  - `epsilon`: hyperparameter of our model (optimized latter)"
   ]
  },
  {
   "cell_type": "code",
   "execution_count": 45,
   "id": "2254551a-34f4-47a4-90d9-ea46f17c047f",
   "metadata": {},
   "outputs": [
    {
     "data": {
      "text/plain": [
       "Pipeline(steps=[('scaler', StandardScaler()), ('svr', SVR())])"
      ]
     },
     "execution_count": 45,
     "metadata": {},
     "output_type": "execute_result"
    }
   ],
   "source": [
    "from sklearn.pipeline import Pipeline\n",
    "from sklearn.preprocessing import StandardScaler\n",
    "from sklearn.svm import SVR\n",
    "\n",
    "# Define the pipeline\n",
    "pipe = Pipeline([\n",
    "    ('scaler', StandardScaler()),\n",
    "    ('svr', SVR())\n",
    "])\n",
    "\n",
    "# Fit the pipeline to the data\n",
    "pipe.fit(X_train, y_train)\n"
   ]
  },
  {
   "cell_type": "markdown",
   "id": "9a1167c2-0b49-4d65-a5e8-77bd3ef3031e",
   "metadata": {},
   "source": [
    "#### Training with hyperparameter optimization\n",
    "\n",
    "We will perform a grid search cross-validation in order to optimize two SVR hyperparameters: `C` and `epsilon`. These are two regularization hyperparameters. Based on the sklearn documentation, is the regularization stronger with the increase of `C` ? Same question for `epsilon`. "
   ]
  },
  {
   "cell_type": "markdown",
   "id": "2deb2dbe",
   "metadata": {},
   "source": [
    "A lower value of C corresponds to stronger regularization, while a higher value of C corresponds to weaker regularization. In other words, increasing the value of C decreases the regularization strength, making the decision boundary less smooth, allowing more flexibility in the model and increasing the risk of overfitting. <br>\n",
    "A higher value of epsilon corresponds to a larger margin of tolerance and therefore weaker regularization. This means that the model will be more permissive in allowing errors in the predictions, allowing for more flexibility in the model and increasing the risk of overfitting.On the other hand, a lower value of epsilon corresponds to a smaller margin of tolerance and therefore stronger regularization. This means that the model will be less permissive in allowing errors in the predictions, leading to a more robust model with less overfitting."
   ]
  },
  {
   "cell_type": "markdown",
   "id": "26eaba72-074f-4fca-8d7a-5897f8a34f29",
   "metadata": {},
   "source": []
  },
  {
   "cell_type": "markdown",
   "id": "3c0c098a-320d-4b81-9004-87b13b22dddd",
   "metadata": {},
   "source": [
    "Train your model on the training set with a grid search cross-validation for optimizing these two hyperparameters. Then plot the resulting train and validation MAE as a function of the two hyperparameters. Note: you can use the matplotlib imshow function to plot heatmaps."
   ]
  },
  {
   "cell_type": "code",
   "execution_count": 46,
   "id": "c46e3199-fb4d-4b23-bb6b-23e7290a8fdd",
   "metadata": {},
   "outputs": [
    {
     "data": {
      "text/plain": [
       "({'svr__C': 4, 'svr__epsilon': 1.1}, 0.6825196885752786)"
      ]
     },
     "execution_count": 46,
     "metadata": {},
     "output_type": "execute_result"
    }
   ],
   "source": [
    "param_grid = dict(svr__C=np.arange(1,5,1),svr__epsilon=np.arange(0.1, 10,1))\n",
    "grids = GridSearchCV(pipe, param_grid=param_grid,cv=5,return_train_score=True)\n",
    "grids.fit(X_train, y_train)\n",
    "grids.best_params_, grids.best_score_"
   ]
  },
  {
   "cell_type": "code",
   "execution_count": 47,
   "id": "c154cc36",
   "metadata": {},
   "outputs": [
    {
     "data": {
      "image/png": "[encoded data removed]",
      "text/plain": [
       "<Figure size 432x288 with 1 Axes>"
      ]
     },
     "metadata": {
      "needs_background": "light"
     },
     "output_type": "display_data"
    }
   ],
   "source": [
    "# Extract the values of C and epsilon from the grid search results\n",
    "c_values = grids.cv_results_['param_svr__C']\n",
    "epsilon_values = grids.cv_results_['param_svr__epsilon']\n",
    "\n",
    "# Extract the train and validation MAE from the grid search results\n",
    "train_scores = grids.cv_results_['mean_train_score']\n",
    "valid_scores = grids.cv_results_['mean_test_score']\n",
    "\n",
    "# Plot the train and validation MAE as a function of C and epsilon\n",
    "fig = plt.figure()\n",
    "ax = fig.add_subplot(111, projection='3d')\n",
    "ax.scatter(c_values, epsilon_values, train_scores, c='r', label='Train MAE')\n",
    "ax.scatter(c_values, epsilon_values, valid_scores, c='b', label='Validation MAE')\n",
    "ax.set_xlabel('C')\n",
    "ax.set_ylabel('epsilon')\n",
    "ax.set_zlabel('MAE')\n",
    "plt.legend()\n",
    "plt.show()\n"
   ]
  },
  {
   "cell_type": "markdown",
   "id": "da5b1a51-3455-4da7-bfa4-4f1a0917dd70",
   "metadata": {},
   "source": [
    "#### Evaluation on the test set\n",
    "\n",
    "Apply the model resulting from the grid search to the test set and print the MAE."
   ]
  },
  {
   "cell_type": "code",
   "execution_count": 60,
   "id": "c024f3a4-7f53-4185-bae2-b406aad59dc1",
   "metadata": {},
   "outputs": [
    {
     "name": "stdout",
     "output_type": "stream",
     "text": [
      "Test MAE: 5.956\n"
     ]
    }
   ],
   "source": [
    "from sklearn.metrics import mean_absolute_error\n",
    "\n",
    "# Get the best model from the grid search\n",
    "best_model_svr = grids.best_estimator_\n",
    "\n",
    "# Make predictions on the test set\n",
    "y_pred_svr = best_model_svr.predict(X_test)\n",
    "\n",
    "# Calculate the MAE\n",
    "mae = mean_absolute_error(y_test, y_pred_svr)\n",
    "print(f'Test MAE: {mae:.3f}')\n"
   ]
  },
  {
   "cell_type": "markdown",
   "id": "f1a10844-eb2a-4ac9-8adb-cbdc23e6a84f",
   "metadata": {},
   "source": [
    "### Gaussian process regression\n",
    "\n",
    "Gaussian process regression (GPR) is another kernel method based on Bayesian inference. One interesting property is that GPRs often don't require a thorough hyperparameter optimizations."
   ]
  },
  {
   "cell_type": "markdown",
   "id": "00823a5c-94c7-4c82-aa49-60c7489e6693",
   "metadata": {},
   "source": [
    "#### Defining the model\n",
    "\n",
    "Define a sklearn model performing the standardization and the GPR. For the GPR, you can use the default sklearn hyperparameters, except for the kernel that can be set to RBF without fixed length scale (length scale will thus be optimized heuristically during training)."
   ]
  },
  {
   "cell_type": "code",
   "execution_count": 49,
   "id": "09bf7627-cd0c-4435-b417-335c0b24fd6c",
   "metadata": {},
   "outputs": [],
   "source": [
    "from sklearn.pipeline import Pipeline\n",
    "from sklearn.preprocessing import StandardScaler\n",
    "from sklearn.gaussian_process import GaussianProcessRegressor\n",
    "from sklearn.gaussian_process.kernels import RBF\n",
    "\n",
    "kernel = RBF()\n",
    "# Define the pipeline\n",
    "pipe = Pipeline([('scaler', StandardScaler()), ('gpr', GaussianProcessRegressor(kernel=kernel))])\n"
   ]
  },
  {
   "cell_type": "markdown",
   "id": "c3865191-f9b5-4adc-bb5e-44225508788c",
   "metadata": {},
   "source": [
    "#### Training\n",
    "\n",
    "Train the GPR on the training set."
   ]
  },
  {
   "cell_type": "code",
   "execution_count": 50,
   "id": "96038d93-5a73-45fe-a95b-c0bc2addeb21",
   "metadata": {},
   "outputs": [
    {
     "data": {
      "text/plain": [
       "Pipeline(steps=[('scaler', StandardScaler()),\n",
       "                ('gpr', GaussianProcessRegressor(kernel=RBF(length_scale=1)))])"
      ]
     },
     "execution_count": 50,
     "metadata": {},
     "output_type": "execute_result"
    }
   ],
   "source": [
    "pipe.fit(X_train,y_train)"
   ]
  },
  {
   "cell_type": "markdown",
   "id": "bc762877-6d76-4a4e-8e96-8a5646033c7d",
   "metadata": {},
   "source": [
    "#### Evaluation on the test set\n",
    "\n",
    "Apply the model to the test set and print the MAE."
   ]
  },
  {
   "cell_type": "code",
   "execution_count": 51,
   "id": "8d179eaa-6006-406f-815a-ad00539196c7",
   "metadata": {},
   "outputs": [
    {
     "name": "stdout",
     "output_type": "stream",
     "text": [
      "mean absolute error is :  6.469\n"
     ]
    }
   ],
   "source": [
    "ypred_gpr = pipe.predict(X_test)\n",
    "print(f\"mean absolute error is : {mean_absolute_error(y_test,ypred_gpr): .3f}\")"
   ]
  },
  {
   "cell_type": "markdown",
   "id": "f5727169-5f10-4d33-9ee1-eedd106925c0",
   "metadata": {},
   "source": [
    "### Summary\n",
    "\n",
    "Among the 4 models you tested, which one gave the best performance ? What was the corresponding MAE ?"
   ]
  },
  {
   "cell_type": "markdown",
   "id": "f187d31a-868f-4277-9ecc-a1440defb07c",
   "metadata": {},
   "source": []
  },
  {
   "cell_type": "markdown",
   "id": "2f1defa2-2a0c-4002-b588-84af9fe55183",
   "metadata": {},
   "source": [
    "## Ensemble Learning\n",
    "\n",
    "In machine learning, ensemble learning methods use several algorithms for the purpose of improving the predictions. Here, we will perform ensemble learning from the 4 models we previously defined."
   ]
  },
  {
   "cell_type": "markdown",
   "id": "9bcddee0-c830-48d1-977f-a62b1260ee1b",
   "metadata": {},
   "source": [
    "### Average prediction\n",
    "\n",
    "A simple way to combine our models is to average the predictions of the 4 models. Try this technique by predicting the ages of the test set with the models you previously trained on the training set. Then print the corresponding MAE."
   ]
  },
  {
   "cell_type": "code",
   "execution_count": 61,
   "id": "4cfe8d8a-ca02-47bd-bfec-a8b0ac279561",
   "metadata": {},
   "outputs": [
    {
     "name": "stdout",
     "output_type": "stream",
     "text": [
      "the average prediction of the 4 models: 6.107\n"
     ]
    }
   ],
   "source": [
    "y_pred_polReg=ag.predict(X_test) #using univariate linear regression\n",
    "y_pred_ridge = best_model_ridge.predict(X_test) #using ridge model \n",
    "y_pred_svr = best_model_svr.predict(X_test) #using svr model \n",
    "ypred_gpr = pipe.predict(X_test) # using gpr model\n",
    "\n",
    "# Average the predictions\n",
    "y_pred_avg = (y_pred_polReg + y_pred_ridge + y_pred_svr + ypred_gpr) / 4\n",
    "print(f'the average prediction of the 4 models: {mean_absolute_error(y_test,y_pred_avg):.3f}')"
   ]
  },
  {
   "cell_type": "markdown",
   "id": "3cdb85f8-71de-455f-a717-072efc3a6b99",
   "metadata": {},
   "source": [
    "Comment the result."
   ]
  },
  {
   "cell_type": "markdown",
   "id": "4c87f93d-5df0-479c-b913-894fbf87cd7c",
   "metadata": {},
   "source": []
  },
  {
   "cell_type": "markdown",
   "id": "19da05f0-30b3-4b00-b820-deb97fb62a01",
   "metadata": {},
   "source": [
    "### Learning from predictions\n",
    "\n",
    "A more sophisticated approach consists in training a new machine learning model to make predictions from the predictions of the different models we want to combine."
   ]
  },
  {
   "cell_type": "markdown",
   "id": "6c0f1bda-95d2-4c6d-b439-288b6b339db4",
   "metadata": {},
   "source": [
    "#### Preparation of the training set\n",
    "\n",
    "As such a model is trained based on predictions, we first need to build a new training set by predicting age associated with each MR image of the training set for each of the 4 models.\n",
    "\n",
    "Create such a variable `X_train2` of shape (n_train,4) by doing cross-validate estimations ([sklearn method](https://scikit-learn.org/stable/modules/generated/sklearn.model_selection.cross_val_predict.html)). You can reuse the hyperparameters you previously estimated with grid seach cross-validation."
   ]
  },
  {
   "cell_type": "code",
   "execution_count": 63,
   "id": "19528574-baf9-4a4a-bcde-453684c8c201",
   "metadata": {},
   "outputs": [
    {
     "name": "stdout",
     "output_type": "stream",
     "text": [
      "(2684, 4)\n"
     ]
    }
   ],
   "source": [
    "from sklearn.model_selection import cross_val_predict\n",
    "\n",
    "\n",
    "\n",
    "# Get cross-validated predictions for each model\n",
    "y_pred_polReg = cross_val_predict(clf, X_train, y_train, cv=5)\n",
    "y_pred_ridge = cross_val_predict(best_model_ridge, X_train, y_train, cv=5)\n",
    "y_pred_svr = cross_val_predict(best_model_svr, X_train, y_train, cv=5)\n",
    "ypred_gpr = cross_val_predict(pipe, X_train, y_train, cv=5)\n",
    "\n",
    "# Combine the predictions into a single array\n",
    "X_train2 = np.column_stack((y_pred_polReg, y_pred_ridge, y_pred_svr, ypred_gpr))\n",
    "\n",
    "# Print the shape of the new training data\n",
    "print(X_train2.shape)\n"
   ]
  },
  {
   "cell_type": "markdown",
   "id": "33d4e8e6-e753-4017-b8dc-2a03beca8692",
   "metadata": {},
   "source": [
    "#### Predictions with Random Forest\n",
    "\n",
    "Now we have a training set with predictions of our different models, we will train a Random Forest to predict age from them. Are our 4 training features highly correlated here ? Is Random Forest appropriate in such case ?"
   ]
  },
  {
   "cell_type": "markdown",
   "id": "d18b8fac-8f91-44ed-a4a4-d1e2d15d7c9b",
   "metadata": {},
   "source": [
    "Define a Random Forest Regressor, train it on the new training set and evaluate it on the test set by printing the MAE."
   ]
  },
  {
   "cell_type": "code",
   "execution_count": 85,
   "id": "5c09a9f6-7edf-445c-aa59-47aea87c6b78",
   "metadata": {},
   "outputs": [],
   "source": [
    "from sklearn.ensemble import RandomForestRegressor\n",
    "\n",
    "# Define the parameter grid for the random forest regressor\n",
    "param_grid = {'n_estimators': [50, 100, 200], 'max_depth': [5, 10, 15]}\n",
    "\n",
    "# Create a random forest regressor object\n",
    "rf = RandomForestRegressor()\n",
    "\n",
    "# Perform grid search cross-validation to find the best hyperparameters\n",
    "grid_search_rf = GridSearchCV(rf, param_grid, cv=5)\n",
    "grid_search_rf.fit(X_train2, y_train)\n",
    "\n",
    "# Use the best hyperparameters to fit the model on the entire training set\n",
    "best_params = grid_search_rf.best_params_\n",
    "rf = RandomForestRegressor(**best_params)\n",
    "rf.fit(X_train2, y_train)\n",
    "\n",
    "# Get cross-validated predictions using the best hyperparameters\n",
    "y_pred = cross_val_predict(rf, X_train2, y_train, cv=5)\n",
    "\n",
    "\n",
    "# Print the mean absolute error\n",
    "# from sklearn.metrics import mean_absolute_error\n",
    "# print(\"Mean Absolute Error: \", mean_absolute_error(y_test, y_pred))\n"
   ]
  },
  {
   "cell_type": "code",
   "execution_count": 104,
   "id": "b51f91ff",
   "metadata": {},
   "outputs": [
    {
     "data": {
      "text/plain": [
       "(672,)"
      ]
     },
     "execution_count": 104,
     "metadata": {},
     "output_type": "execute_result"
    }
   ],
   "source": [
    "y_test.shape"
   ]
  },
  {
   "cell_type": "code",
   "execution_count": 97,
   "id": "262b1e30",
   "metadata": {},
   "outputs": [
    {
     "data": {
      "text/plain": [
       "((2684,), (672,), (672,), (2684,), (2684, 4))"
      ]
     },
     "execution_count": 97,
     "metadata": {},
     "output_type": "execute_result"
    }
   ],
   "source": [
    "y_pred.shape,y_test.shape, y_pred_avg.shape, y_train.shape, X_train2.shape"
   ]
  },
  {
   "cell_type": "markdown",
   "id": "3611f971-7792-409d-bcb0-74c665411745",
   "metadata": {},
   "source": [
    "Comment the result. Why does Random Forest perform better than the strategy of average prediction ? "
   ]
  },
  {
   "cell_type": "markdown",
   "id": "e585a260",
   "metadata": {},
   "source": [
    "Random Forest performs better than the strategy of average prediction because it uses a combination of decision trees, rather than just a single decision tree. Each decision tree in a Random Forest model is trained on a different subset of the data, and the final prediction is made by averaging the predictions of all the decision trees. This process helps to reduce overfitting and improves the overall accuracy of the model. Additionally, Random Forest also has the ability to handle missing values and categorical variables, which can make it more robust to variations in the data."
   ]
  },
  {
   "cell_type": "markdown",
   "id": "bfc5c3aa-45a0-4094-8ce8-d4f9afa6ef24",
   "metadata": {},
   "source": []
  }
 ],
 "metadata": {
  "kernelspec": {
   "display_name": "Python 3 (ipykernel)",
   "language": "python",
   "name": "python3"
  },
  "language_info": {
   "codemirror_mode": {
    "name": "ipython",
    "version": 3
   },
   "file_extension": ".py",
   "mimetype": "text/x-python",
   "name": "python",
   "nbconvert_exporter": "python",
   "pygments_lexer": "ipython3",
   "version": "3.8.12"
  },
  "vscode": {
   "interpreter": {
    "hash": "d212184fe9e0d547803da3d7e8d0646a0cac28eb99def6e925847913b35f2386"
   }
  }
 },
 "nbformat": 4,
 "nbformat_minor": 5
}
