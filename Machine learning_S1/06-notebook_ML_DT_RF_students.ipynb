{
 "cells": [
  {
   "cell_type": "markdown",
   "metadata": {},
   "source": [
    "# Decision Tree and Random Forest"
   ]
  },
  {
   "cell_type": "markdown",
   "metadata": {
    "toc": true
   },
   "source": [
    "<h1>Table of Contents<span class=\"tocSkip\"></span></h1>\n",
    "<div class=\"toc\"><ul class=\"toc-item\"><li><span><a href=\"#Regression-decision-trees\" data-toc-modified-id=\"Regression-decision-trees-1\"><span class=\"toc-item-num\">1&nbsp;&nbsp;</span>Regression decision trees</a></span></li><li><span><a href=\"#Classification-decision-trees\" data-toc-modified-id=\"Classification-decision-trees-2\"><span class=\"toc-item-num\">2&nbsp;&nbsp;</span>Classification decision trees</a></span></li><li><span><a href=\"#Classification-with-random-forests\" data-toc-modified-id=\"Classification-with-random-forests-3\"><span class=\"toc-item-num\">3&nbsp;&nbsp;</span>Classification with random forests</a></span></li><li><span><a href=\"#Use-Random-Forest-by-yourself\" data-toc-modified-id=\"Use-Random-Forest-by-yourself-4\"><span class=\"toc-item-num\">4&nbsp;&nbsp;</span>Use Random Forest by yourself</a></span><ul class=\"toc-item\"><li><span><a href=\"#Step-1:-Use-a-Decision-Tree\" data-toc-modified-id=\"Step-1:-Use-a-Decision-Tree-4.1\"><span class=\"toc-item-num\">4.1&nbsp;&nbsp;</span>Step 1: Use a Decision Tree</a></span></li><li><span><a href=\"#Step-2:-Use-a-Random-Forest\" data-toc-modified-id=\"Step-2:-Use-a-Random-Forest-4.2\"><span class=\"toc-item-num\">4.2&nbsp;&nbsp;</span>Step 2: Use a Random Forest</a></span></li></ul></li><li><span><a href=\"#Ensemble-model\" data-toc-modified-id=\"Ensemble-model-5\"><span class=\"toc-item-num\">5&nbsp;&nbsp;</span>Ensemble model</a></span><ul class=\"toc-item\"><li><span><a href=\"#Create-a-dataset\" data-toc-modified-id=\"Create-a-dataset-5.1\"><span class=\"toc-item-num\">5.1&nbsp;&nbsp;</span>Create a dataset</a></span></li><li><span><a href=\"#Plot-of-decision-boundaries-for-different-models\" data-toc-modified-id=\"Plot-of-decision-boundaries-for-different-models-5.2\"><span class=\"toc-item-num\">5.2&nbsp;&nbsp;</span>Plot of decision boundaries for different models</a></span></li><li><span><a href=\"#Use-combo-to-create-some-basic-ensemble-model\" data-toc-modified-id=\"Use-combo-to-create-some-basic-ensemble-model-5.3\"><span class=\"toc-item-num\">5.3&nbsp;&nbsp;</span>Use combo to create some basic ensemble model</a></span><ul class=\"toc-item\"><li><span><a href=\"#Classical-ensemble-model\" data-toc-modified-id=\"Classical-ensemble-model-5.3.1\"><span class=\"toc-item-num\">5.3.1&nbsp;&nbsp;</span>Classical ensemble model</a></span></li><li><span><a href=\"#Weighted-ensemble-model\" data-toc-modified-id=\"Weighted-ensemble-model-5.3.2\"><span class=\"toc-item-num\">5.3.2&nbsp;&nbsp;</span>Weighted ensemble model</a></span></li></ul></li><li><span><a href=\"#Use-Combo-to-create-mode-sophisticated-model\" data-toc-modified-id=\"Use-Combo-to-create-mode-sophisticated-model-5.4\"><span class=\"toc-item-num\">5.4&nbsp;&nbsp;</span>Use Combo to create mode sophisticated model</a></span><ul class=\"toc-item\"><li><span><a href=\"#Stacking-Ensemble-Machine-Learning-With-Python\" data-toc-modified-id=\"Stacking-Ensemble-Machine-Learning-With-Python-5.4.1\"><span class=\"toc-item-num\">5.4.1&nbsp;&nbsp;</span>Stacking Ensemble Machine Learning With Python</a></span></li><li><span><a href=\"#Dynamic-Model-Selection-(DES)-for-Classification-in-Python\" data-toc-modified-id=\"Dynamic-Model-Selection-(DES)-for-Classification-in-Python-5.4.2\"><span class=\"toc-item-num\">5.4.2&nbsp;&nbsp;</span>Dynamic Model Selection (DES) for Classification in Python</a></span></li></ul></li></ul></li></ul></div>"
   ]
  },
  {
   "cell_type": "code",
   "execution_count": 1,
   "metadata": {
    "ExecuteTime": {
     "end_time": "2021-11-11T15:12:25.655010Z",
     "start_time": "2021-11-11T15:12:25.649250Z"
    }
   },
   "outputs": [],
   "source": [
    "import ssl\n",
    "ssl._create_default_https_context = ssl._create_unverified_context"
   ]
  },
  {
   "cell_type": "code",
   "execution_count": 2,
   "metadata": {
    "ExecuteTime": {
     "end_time": "2021-11-11T15:39:30.743493Z",
     "start_time": "2021-11-11T15:39:30.738058Z"
    }
   },
   "outputs": [],
   "source": [
    "import warnings\n",
    "warnings.filterwarnings(\"ignore\")"
   ]
  },
  {
   "cell_type": "code",
   "execution_count": 3,
   "metadata": {
    "ExecuteTime": {
     "end_time": "2021-11-11T16:01:00.238250Z",
     "start_time": "2021-11-11T16:01:00.234074Z"
    }
   },
   "outputs": [],
   "source": [
    "import numpy as np\n",
    "import pandas as pd\n",
    "\n",
    "import matplotlib.pyplot as plt\n",
    "from matplotlib import font_manager\n",
    "\n",
    "RAND_STATE = 41\n",
    "np.random.seed(RAND_STATE)"
   ]
  },
  {
   "cell_type": "code",
   "execution_count": 4,
   "metadata": {
    "ExecuteTime": {
     "end_time": "2021-11-11T15:12:34.480562Z",
     "start_time": "2021-11-11T15:12:25.659222Z"
    }
   },
   "outputs": [],
   "source": [
    "from sklearn.tree import DecisionTreeRegressor, DecisionTreeClassifier, plot_tree\n",
    "from sklearn.ensemble import RandomForestClassifier\n",
    "from sklearn.model_selection import train_test_split, cross_val_score\n",
    "from sklearn.metrics import mean_squared_error as mse"
   ]
  },
  {
   "cell_type": "markdown",
   "metadata": {},
   "source": [
    "## Regression decision trees"
   ]
  },
  {
   "cell_type": "markdown",
   "metadata": {},
   "source": [
    "Create a set of training and test data points points from a polynomial and add some gaussian noise."
   ]
  },
  {
   "cell_type": "code",
   "execution_count": 5,
   "metadata": {
    "ExecuteTime": {
     "end_time": "2021-11-11T15:12:34.490614Z",
     "start_time": "2021-11-11T15:12:34.483890Z"
    }
   },
   "outputs": [],
   "source": [
    "x = np.linspace(-1,1,128)\n",
    "y = x**3 - x + np.random.normal(0,0.08, len(x))\n",
    "x_test = np.linspace(-1,1,32)\n",
    "y_test = x_test**3 - x_test + np.random.normal(0,0.08, len(x_test))"
   ]
  },
  {
   "cell_type": "code",
   "execution_count": 6,
   "metadata": {},
   "outputs": [
    {
     "data": {
      "text/plain": [
       "((128,), (32,))"
      ]
     },
     "execution_count": 6,
     "metadata": {},
     "output_type": "execute_result"
    }
   ],
   "source": [
    "x.shape,x_test.shape"
   ]
  },
  {
   "cell_type": "markdown",
   "metadata": {},
   "source": [
    "Reshape the feature array into a matrix where each row represents a data point, and columns associated to a given data point represent its features i.e. dataset= [[features_dp_1], [features_dp2], ...]. This is the usual shape used in machine learning framworks such as TensorFlow or sklearn."
   ]
  },
  {
   "cell_type": "code",
   "execution_count": 7,
   "metadata": {
    "ExecuteTime": {
     "end_time": "2021-11-11T15:12:34.501234Z",
     "start_time": "2021-11-11T15:12:34.493672Z"
    }
   },
   "outputs": [],
   "source": [
    "x,x_test = x.reshape(-1,1), x_test.reshape(-1,1)"
   ]
  },
  {
   "cell_type": "code",
   "execution_count": 8,
   "metadata": {},
   "outputs": [
    {
     "data": {
      "text/plain": [
       "((128, 1), (32, 1))"
      ]
     },
     "execution_count": 8,
     "metadata": {},
     "output_type": "execute_result"
    }
   ],
   "source": [
    "x.shape,x_test.shape"
   ]
  },
  {
   "cell_type": "markdown",
   "metadata": {},
   "source": [
    "Plot training and test data points."
   ]
  },
  {
   "cell_type": "code",
   "execution_count": 9,
   "metadata": {
    "ExecuteTime": {
     "end_time": "2021-11-11T15:12:34.912723Z",
     "start_time": "2021-11-11T15:12:34.506218Z"
    }
   },
   "outputs": [
    {
     "data": {
      "text/plain": [
       "<function matplotlib.pyplot.show(close=None, block=None)>"
      ]
     },
     "execution_count": 9,
     "metadata": {},
     "output_type": "execute_result"
    },
    {
     "data": {
      "image/png": "[encoded data removed]",
      "text/plain": [
       "<Figure size 576x288 with 1 Axes>"
      ]
     },
     "metadata": {
      "needs_background": "light"
     },
     "output_type": "display_data"
    }
   ],
   "source": [
    "plt.figure(figsize=(8,4))\n",
    "plt.scatter(x,y,color='red',alpha=0.6, label='training data points')\n",
    "plt.scatter(x_test,y_test,color='blue', alpha=0.6, label='test data points')\n",
    "plt.legend()\n",
    "plt.show"
   ]
  },
  {
   "cell_type": "markdown",
   "metadata": {},
   "source": [
    "Try to fit a decision tree with max depth = 1"
   ]
  },
  {
   "cell_type": "code",
   "execution_count": 10,
   "metadata": {
    "ExecuteTime": {
     "end_time": "2021-11-11T15:12:34.973746Z",
     "start_time": "2021-11-11T15:12:34.918956Z"
    }
   },
   "outputs": [
    {
     "data": {
      "text/plain": [
       "DecisionTreeRegressor(max_depth=1)"
      ]
     },
     "execution_count": 10,
     "metadata": {},
     "output_type": "execute_result"
    }
   ],
   "source": [
    "regressor_d1 = DecisionTreeRegressor(max_depth=1)\n",
    "regressor_d1.fit(x,y)"
   ]
  },
  {
   "cell_type": "code",
   "execution_count": 11,
   "metadata": {
    "ExecuteTime": {
     "end_time": "2021-11-11T15:12:35.244001Z",
     "start_time": "2021-11-11T15:12:34.983489Z"
    }
   },
   "outputs": [
    {
     "data": {
      "image/png": "[encoded data removed]",
      "text/plain": [
       "<Figure size 432x288 with 1 Axes>"
      ]
     },
     "metadata": {
      "needs_background": "light"
     },
     "output_type": "display_data"
    }
   ],
   "source": [
    "plot_tree(regressor_d1)\n",
    "plt.show()"
   ]
  },
  {
   "cell_type": "markdown",
   "metadata": {},
   "source": [
    "Visualize the built tree. Here we split on $x[0] == -0.016$, we get two different regions with two different means."
   ]
  },
  {
   "cell_type": "code",
   "execution_count": 12,
   "metadata": {
    "ExecuteTime": {
     "end_time": "2021-11-11T15:13:33.213244Z",
     "start_time": "2021-11-11T15:13:32.953809Z"
    }
   },
   "outputs": [
    {
     "data": {
      "image/png": "[encoded data removed]",
      "text/plain": [
       "<Figure size 576x288 with 1 Axes>"
      ]
     },
     "metadata": {
      "needs_background": "light"
     },
     "output_type": "display_data"
    }
   ],
   "source": [
    "plt.figure(figsize=(8,4))\n",
    "plt.scatter(x,y)\n",
    "plt.plot(x, regressor_d1.predict(x), color=\"limegreen\", linewidth=3)\n",
    "plt.title(\"max_depth=1\")\n",
    "plt.show()"
   ]
  },
  {
   "cell_type": "markdown",
   "metadata": {},
   "source": [
    "<div class=\"alert alert-block alert-danger\">\n",
    "Try to fit a decision tree with max depth = 2\n",
    "</div>"
   ]
  },
  {
   "cell_type": "code",
   "execution_count": 13,
   "metadata": {
    "ExecuteTime": {
     "end_time": "2021-08-28T16:21:46.281221Z",
     "start_time": "2021-08-28T16:21:46.276654Z"
    }
   },
   "outputs": [
    {
     "data": {
      "text/plain": [
       "DecisionTreeRegressor(max_depth=2)"
      ]
     },
     "execution_count": 13,
     "metadata": {},
     "output_type": "execute_result"
    }
   ],
   "source": [
    "''' TO DO '''\n",
    "regressor_d2 = DecisionTreeRegressor(max_depth=2)\n",
    "regressor_d2.fit(x,y)"
   ]
  },
  {
   "cell_type": "markdown",
   "metadata": {},
   "source": [
    "<div class=\"alert alert-block alert-danger\">\n",
    "Plot the decision tree. Here we have three splits and four regions.\n",
    "</div>"
   ]
  },
  {
   "cell_type": "code",
   "execution_count": 14,
   "metadata": {
    "ExecuteTime": {
     "end_time": "2021-11-11T15:13:54.172484Z",
     "start_time": "2021-11-11T15:13:54.160557Z"
    }
   },
   "outputs": [
    {
     "data": {
      "image/png": "[encoded data removed]",
      "text/plain": [
       "<Figure size 432x288 with 1 Axes>"
      ]
     },
     "metadata": {
      "needs_background": "light"
     },
     "output_type": "display_data"
    }
   ],
   "source": [
    "''' TO DO '''\n",
    "plot_tree(regressor_d2)\n",
    "plt.show()"
   ]
  },
  {
   "cell_type": "code",
   "execution_count": 15,
   "metadata": {},
   "outputs": [
    {
     "data": {
      "image/png": "[encoded data removed]",
      "text/plain": [
       "<Figure size 576x288 with 1 Axes>"
      ]
     },
     "metadata": {
      "needs_background": "light"
     },
     "output_type": "display_data"
    }
   ],
   "source": [
    "plt.figure(figsize=(8,4))\n",
    "plt.scatter(x,y)\n",
    "plt.plot(x, regressor_d2.predict(x), color=\"limegreen\", linewidth=3)\n",
    "plt.title(\"max_depth=2\")\n",
    "plt.show()"
   ]
  },
  {
   "cell_type": "markdown",
   "metadata": {},
   "source": [
    "Notice how we have *four leaves associated with the different regions*. Each leave shows the loss (mse = Mean squared error), the number of samples in that region, and the mean which is returned for all data points in that region. The splits are done on X[0], this means the first feature (which is x cause we only have one)"
   ]
  },
  {
   "cell_type": "markdown",
   "metadata": {},
   "source": [
    "<div class=\"alert alert-block alert-danger\">\n",
    "Try to fit a decision tree with max depth = 20\n",
    "</div>"
   ]
  },
  {
   "cell_type": "code",
   "execution_count": 16,
   "metadata": {
    "ExecuteTime": {
     "end_time": "2021-11-11T15:16:47.488404Z",
     "start_time": "2021-11-11T15:16:47.480942Z"
    }
   },
   "outputs": [
    {
     "data": {
      "text/plain": [
       "DecisionTreeRegressor(max_depth=20)"
      ]
     },
     "execution_count": 16,
     "metadata": {},
     "output_type": "execute_result"
    }
   ],
   "source": [
    "''' TO DO '''\n",
    "regressor_d20 = DecisionTreeRegressor(max_depth=20)\n",
    "regressor_d20.fit(x,y)"
   ]
  },
  {
   "cell_type": "markdown",
   "metadata": {},
   "source": [
    "<div class=\"alert alert-block alert-danger\">\n",
    "Visualize the tree. Notice how this trees is already overfitting (wiggle wiggle to each point)\n",
    "</div>"
   ]
  },
  {
   "cell_type": "code",
   "execution_count": 20,
   "metadata": {
    "ExecuteTime": {
     "end_time": "2021-11-11T15:16:48.949081Z",
     "start_time": "2021-11-11T15:16:48.932037Z"
    }
   },
   "outputs": [
    {
     "data": {
      "image/png": "[encoded data removed]",
      "text/plain": [
       "<Figure size 576x288 with 1 Axes>"
      ]
     },
     "metadata": {
      "needs_background": "light"
     },
     "output_type": "display_data"
    }
   ],
   "source": [
    "''' TO DO '''\n",
    "# plot_tree(regressor_d20)\n",
    "plt.figure(figsize=(8,4))\n",
    "plt.scatter(x,y)\n",
    "plt.plot(x, regressor_d20.predict(x), color=\"limegreen\", linewidth=3)\n",
    "plt.title(\"max_depth=20\")\n",
    "plt.show()"
   ]
  },
  {
   "cell_type": "markdown",
   "metadata": {
    "ExecuteTime": {
     "end_time": "2021-11-11T15:17:12.618958Z",
     "start_time": "2021-11-11T15:17:12.611210Z"
    }
   },
   "source": [
    "Did you observe **overfitting ?**"
   ]
  },
  {
   "cell_type": "markdown",
   "metadata": {},
   "source": [
    "<div class=\"alert alert-block alert-danger\">\n",
    "Lets see how the error is changing when we change the depth of the trees. Try to vary max_depth from 1 to 20, record the training and test errors.\n",
    "</div>"
   ]
  },
  {
   "cell_type": "code",
   "execution_count": 29,
   "metadata": {
    "ExecuteTime": {
     "end_time": "2021-11-11T15:17:47.872583Z",
     "start_time": "2021-11-11T15:17:47.834957Z"
    }
   },
   "outputs": [],
   "source": [
    "MAX_DEPTH = 20\n",
    "history_training = []\n",
    "history_test = []\n",
    "for depth in range(1, MAX_DEPTH+1):\n",
    "    ''' TO DO '''\n",
    "    # create a decision tree with max_depth=depth\n",
    "    regressor_d = DecisionTreeRegressor(max_depth=depth)\n",
    "    # fit the decision tree\n",
    "    regressor_d.fit(x,y)\n",
    "    # evaluate te mse error on training set and test set\n",
    "    y_pred= regressor_d.predict(x)\n",
    "    y_pred_test= regressor_d.predict(x_test)\n",
    "    training_regression_error= mse(y_pred,y)\n",
    "    test_regression_error=mse(y_pred_test,y_test)\n",
    "    # store the history of error\n",
    "    history_training.append(training_regression_error)\n",
    "    history_test.append(test_regression_error)"
   ]
  },
  {
   "cell_type": "code",
   "execution_count": 35,
   "metadata": {},
   "outputs": [
    {
     "data": {
      "text/plain": [
       "[0.0208407112304042,\n",
       " 0.014186908344005782,\n",
       " 0.007042803158816986,\n",
       " 0.0053353031204225985,\n",
       " 0.004052040725527202,\n",
       " 0.002719264043737254,\n",
       " 0.0020037754813877,\n",
       " 0.0011200927682079053,\n",
       " 0.0006060085422245085,\n",
       " 0.00025538604755971156,\n",
       " 0.00010240247289632664,\n",
       " 1.2678851272045918e-05,\n",
       " 0.0,\n",
       " 0.0,\n",
       " 0.0,\n",
       " 0.0,\n",
       " 0.0,\n",
       " 0.0,\n",
       " 0.0,\n",
       " 0.0]"
      ]
     },
     "execution_count": 35,
     "metadata": {},
     "output_type": "execute_result"
    }
   ],
   "source": [
    "history_training"
   ]
  },
  {
   "cell_type": "markdown",
   "metadata": {},
   "source": [
    "<div class=\"alert alert-block alert-danger\">\n",
    "Plot training and test error. We can see how our tree starts to overfit the training data starting from depth = 3. The training error continues decreasing until 0 while test error starts increasing. \n",
    "</div>"
   ]
  },
  {
   "cell_type": "code",
   "execution_count": 37,
   "metadata": {
    "ExecuteTime": {
     "end_time": "2021-08-28T16:21:51.076657Z",
     "start_time": "2021-08-28T16:21:50.909952Z"
    }
   },
   "outputs": [
    {
     "data": {
      "image/png": "[encoded data removed]",
      "text/plain": [
       "<Figure size 576x288 with 1 Axes>"
      ]
     },
     "metadata": {
      "needs_background": "light"
     },
     "output_type": "display_data"
    }
   ],
   "source": [
    "''' TO DO '''\n",
    "plt.figure(figsize=(8,4))\n",
    "#plt.scatter(x,y)\n",
    "plt.plot(history_training,linewidth=3)\n",
    "plt.plot(history_test,linewidth=3)\n",
    "plt.show()"
   ]
  },
  {
   "cell_type": "markdown",
   "metadata": {},
   "source": [
    "It is very easy to over-train the model with decision trees.\n",
    "<div class=\"alert alert-block alert-danger\">\n",
    "What is the best max_depth for this dataset ?\n",
    "</div>"
   ]
  },
  {
   "cell_type": "markdown",
   "metadata": {},
   "source": [
    "## Classification decision trees"
   ]
  },
  {
   "cell_type": "markdown",
   "metadata": {},
   "source": [
    "We will be working on Pima Indians Diabetes Database. The objective is to predict based on diagnostic measurements whether a patient has diabetes. All patients here are females at least 21 years old of Pima Indian heritage.\n",
    "\n",
    "Features are:\n",
    "1. Pregnancies: Number of times pregnant\n",
    "2. Glucose: Plasma glucose concentration a 2 hours in an oral glucose tolerance test\n",
    "3. BloodPressure: Diastolic blood pressure (mm Hg)\n",
    "4. SkinThickness: Triceps skin fold thickness (mm)\n",
    "5. Insulin: 2-Hour serum insulin (mu U/ml)\n",
    "6. BMI: Body mass index (weight in kg/(height in m)^2)\n",
    "7. DiabetesPedigreeFunction: Diabetes pedigree function\n",
    "8. Age: Age (years)\n",
    "9. Outcome: Class variable (0 or 1, i.e does not or does have diabetes)\n",
    "\n",
    "The data is not perfect, some values are out of range (blood pressure = 0 or skin thickness = 0), but we will not wory about that here. Feel free to play with the data."
   ]
  },
  {
   "cell_type": "markdown",
   "metadata": {},
   "source": [
    "Import the dataset into a pandas dataframe."
   ]
  },
  {
   "cell_type": "code",
   "execution_count": 38,
   "metadata": {
    "ExecuteTime": {
     "end_time": "2021-11-11T15:21:34.652828Z",
     "start_time": "2021-11-11T15:21:34.080744Z"
    }
   },
   "outputs": [
    {
     "data": {
      "text/html": [
       "<div>\n",
       "<style scoped>\n",
       "    .dataframe tbody tr th:only-of-type {\n",
       "        vertical-align: middle;\n",
       "    }\n",
       "\n",
       "    .dataframe tbody tr th {\n",
       "        vertical-align: top;\n",
       "    }\n",
       "\n",
       "    .dataframe thead th {\n",
       "        text-align: right;\n",
       "    }\n",
       "</style>\n",
       "<table border=\"1\" class=\"dataframe\">\n",
       "  <thead>\n",
       "    <tr style=\"text-align: right;\">\n",
       "      <th></th>\n",
       "      <th>Pregnancies</th>\n",
       "      <th>Glucose</th>\n",
       "      <th>BloodPressure</th>\n",
       "      <th>SkinThickness</th>\n",
       "      <th>Insulin</th>\n",
       "      <th>BMI</th>\n",
       "      <th>DiabetesPedigreeFunction</th>\n",
       "      <th>Age</th>\n",
       "      <th>Outcome</th>\n",
       "    </tr>\n",
       "  </thead>\n",
       "  <tbody>\n",
       "    <tr>\n",
       "      <th>0</th>\n",
       "      <td>6</td>\n",
       "      <td>148</td>\n",
       "      <td>72</td>\n",
       "      <td>35</td>\n",
       "      <td>0</td>\n",
       "      <td>33.6</td>\n",
       "      <td>0.627</td>\n",
       "      <td>50</td>\n",
       "      <td>1</td>\n",
       "    </tr>\n",
       "    <tr>\n",
       "      <th>1</th>\n",
       "      <td>1</td>\n",
       "      <td>85</td>\n",
       "      <td>66</td>\n",
       "      <td>29</td>\n",
       "      <td>0</td>\n",
       "      <td>26.6</td>\n",
       "      <td>0.351</td>\n",
       "      <td>31</td>\n",
       "      <td>0</td>\n",
       "    </tr>\n",
       "    <tr>\n",
       "      <th>2</th>\n",
       "      <td>8</td>\n",
       "      <td>183</td>\n",
       "      <td>64</td>\n",
       "      <td>0</td>\n",
       "      <td>0</td>\n",
       "      <td>23.3</td>\n",
       "      <td>0.672</td>\n",
       "      <td>32</td>\n",
       "      <td>1</td>\n",
       "    </tr>\n",
       "    <tr>\n",
       "      <th>3</th>\n",
       "      <td>1</td>\n",
       "      <td>89</td>\n",
       "      <td>66</td>\n",
       "      <td>23</td>\n",
       "      <td>94</td>\n",
       "      <td>28.1</td>\n",
       "      <td>0.167</td>\n",
       "      <td>21</td>\n",
       "      <td>0</td>\n",
       "    </tr>\n",
       "    <tr>\n",
       "      <th>4</th>\n",
       "      <td>0</td>\n",
       "      <td>137</td>\n",
       "      <td>40</td>\n",
       "      <td>35</td>\n",
       "      <td>168</td>\n",
       "      <td>43.1</td>\n",
       "      <td>2.288</td>\n",
       "      <td>33</td>\n",
       "      <td>1</td>\n",
       "    </tr>\n",
       "  </tbody>\n",
       "</table>\n",
       "</div>"
      ],
      "text/plain": [
       "   Pregnancies  Glucose  BloodPressure  SkinThickness  Insulin   BMI  \\\n",
       "0            6      148             72             35        0  33.6   \n",
       "1            1       85             66             29        0  26.6   \n",
       "2            8      183             64              0        0  23.3   \n",
       "3            1       89             66             23       94  28.1   \n",
       "4            0      137             40             35      168  43.1   \n",
       "\n",
       "   DiabetesPedigreeFunction  Age  Outcome  \n",
       "0                     0.627   50        1  \n",
       "1                     0.351   31        0  \n",
       "2                     0.672   32        1  \n",
       "3                     0.167   21        0  \n",
       "4                     2.288   33        1  "
      ]
     },
     "execution_count": 38,
     "metadata": {},
     "output_type": "execute_result"
    }
   ],
   "source": [
    "pima = pd.read_csv('https://www.i3s.unice.fr/~riveill/dataset/diabetes.csv')\n",
    "pima.head(5)"
   ]
  },
  {
   "cell_type": "markdown",
   "metadata": {},
   "source": [
    "We split the data set into training data (80%) and test data (20%)."
   ]
  },
  {
   "cell_type": "code",
   "execution_count": 39,
   "metadata": {
    "ExecuteTime": {
     "end_time": "2021-11-11T15:21:53.684222Z",
     "start_time": "2021-11-11T15:21:53.672336Z"
    }
   },
   "outputs": [],
   "source": [
    "X_train, X_test, y_train, y_test = train_test_split(pima.iloc[:, :-1], pima.Outcome, test_size=0.2, random_state=RAND_STATE)"
   ]
  },
  {
   "cell_type": "markdown",
   "metadata": {},
   "source": [
    "<div class=\"alert alert-block alert-danger\">\n",
    "Try to vary trees depth (between 1 to 20) and record :\n",
    "\n",
    "* create a decision tree with the suitable max_depth\n",
    "* evaluate the mean cross validation error (10 folds cv) using cross_val_score on training set,\n",
    "* then, evaluate the training error and test error.\n",
    "\n",
    "We record the test error just to show how cross validation error can be used to estimate test error (which is not accessible in practice).\n",
    "</div>"
   ]
  },
  {
   "cell_type": "code",
   "execution_count": null,
   "metadata": {
    "ExecuteTime": {
     "end_time": "2021-08-28T16:21:56.751131Z",
     "start_time": "2021-08-28T16:21:55.771037Z"
    }
   },
   "outputs": [],
   "source": [
    "MAX_DEPTH = 20\n",
    "cv_history = []\n",
    "test_history = []\n",
    "train_history = []\n",
    "for depth in range(1, MAX_DEPTH+1):\n",
    "    ''' to do '''\n",
    "    regressor_ = DecisionTreeRegressor(max_depth=depth)\n",
    "    regressor_.fit(X_train,y_train)\n",
    "    \n"
   ]
  },
  {
   "cell_type": "markdown",
   "metadata": {},
   "source": [
    "<div class=\"alert alert-block alert-danger\">\n",
    "Plot test, cross validation and training errors in order to eee how cross validation errors correlates with test errors.\n",
    "</div>"
   ]
  },
  {
   "cell_type": "code",
   "execution_count": null,
   "metadata": {
    "ExecuteTime": {
     "end_time": "2021-08-28T16:21:56.929286Z",
     "start_time": "2021-08-28T16:21:56.752833Z"
    }
   },
   "outputs": [],
   "source": [
    "''' TO DO '''"
   ]
  },
  {
   "cell_type": "markdown",
   "metadata": {},
   "source": [
    "For me CV gives depth=5 as the best parameter while it's 4 in test data which is not very different.\n",
    "    \n",
    "Here also, we notice that our model starts overfitting data when depth increases above 5."
   ]
  },
  {
   "cell_type": "markdown",
   "metadata": {},
   "source": [
    "<div class=\"alert alert-block alert-danger\">\n",
    "Fit a decision tree using your best depth\n",
    "</div"
   ]
  },
  {
   "cell_type": "code",
   "execution_count": null,
   "metadata": {
    "ExecuteTime": {
     "end_time": "2021-11-11T15:28:03.814372Z",
     "start_time": "2021-11-11T15:28:03.806933Z"
    }
   },
   "outputs": [],
   "source": [
    "''' TO DO '''"
   ]
  },
  {
   "cell_type": "markdown",
   "metadata": {},
   "source": [
    "Using the tree structure we can compute the importance of each one of the features. Intuitively a feature's importance is it's contribution in reducing the impurity of different nodes in the tree. \n",
    "\n",
    "Sort and plot features with respect to thier importance (which we get by retrieving the attribute clf.feature_importances_).\n",
    "\n",
    "**Recall:** the sorted function returns a list sorted in the ascending direction."
   ]
  },
  {
   "cell_type": "code",
   "execution_count": null,
   "metadata": {
    "ExecuteTime": {
     "end_time": "2021-11-11T15:31:09.454330Z",
     "start_time": "2021-11-11T15:31:09.290315Z"
    }
   },
   "outputs": [],
   "source": [
    "sorted_features = sorted(zip(pima.columns[:-1, ], clf.feature_importances_), key= lambda couple: couple[1])\n",
    "features, scores = zip(*sorted_features)\n",
    "\n",
    "plt.barh(range(len(features)), scores, align='center')\n",
    "plt.yticks(range(len(features)),features)\n",
    "plt.xlabel('feature importance')\n",
    "plt.ylabel('feature')\n",
    "plt.show()"
   ]
  },
  {
   "cell_type": "markdown",
   "metadata": {},
   "source": [
    "Apparently Clucose levels, BMI (body mass index) and age are important factors for diabetes."
   ]
  },
  {
   "cell_type": "markdown",
   "metadata": {},
   "source": [
    "## Classification with random forests"
   ]
  },
  {
   "cell_type": "markdown",
   "metadata": {},
   "source": [
    "<div class=\"alert alert-block alert-danger\">\n",
    "Using to 1 to 400 trees, try a random forest on the Pima Indians Diabetes dataset.\n",
    "Record how test and training errors change with the number of trees.\n",
    "    \n",
    "Then plot the accuracy for your best decision tree and for the train and test accuracy for each random forest.\n",
    "    \n",
    "What is your observation.\n",
    "</div>"
   ]
  },
  {
   "cell_type": "code",
   "execution_count": null,
   "metadata": {
    "ExecuteTime": {
     "end_time": "2021-08-28T16:22:25.408782Z",
     "start_time": "2021-08-28T16:22:13.685697Z"
    }
   },
   "outputs": [],
   "source": [
    "''' TO DO '''"
   ]
  },
  {
   "cell_type": "markdown",
   "metadata": {},
   "source": [
    "For me, random forest are much less prone to overfitting than decision tree. Did you have the same observation ?"
   ]
  },
  {
   "cell_type": "markdown",
   "metadata": {},
   "source": [
    "## Use Random Forest by yourself\n",
    "\n",
    "Ask a home buyer to describe their dream house, and they probably won't begin with the height of the basement ceiling or the proximity to an east-west railroad. But this playground competition's dataset proves that much more influences price negotiations than the number of bedrooms or a white-picket fence.\n",
    "\n",
    "With 79 explanatory variables describing (almost) every aspect of residential homes in Ames, Iowa, this competition challenges you to predict the final price of each home.\n",
    "\n",
    "**Goal**\n",
    "\n",
    "It is your job to predict the sales price for each house. For each Id in the test set, you must predict the value of the SalePrice variable. \n",
    "\n",
    "**Metric**\n",
    "\n",
    "Submissions are evaluated on Root-Mean-Squared-Error (RMSE) between the logarithm of the predicted value and the logarithm of the observed sales price. (Taking logs means that errors in predicting expensive houses and cheap houses will affect the result equally.)\n",
    "\n",
    "**Dataset description**\n",
    "\n",
    "This is a dataset with many features whose truth cannot be known for the test set.\n",
    "\n",
    "We will use only the following features\n",
    ": ['LotArea', 'YearBuilt', '1stFlrSF', '2ndFlrSF', 'FullBath', 'Bedroom', 'TotRmsAbvGrd']\n",
    "* LotArea: Lot size in square feet\n",
    "* YearBuilt: Original construction date\n",
    "* 1stFlrSF: First Floor square feet\n",
    "* 2ndFlrSF: Second floor square feet\n",
    "* FullBath: Full bathrooms above grade\n",
    "* BedroomAbvGr: Bedrooms above grade (does NOT include basement bedrooms)\n",
    "* TotRmsAbvGrd: Total rooms above grade (does not include bathrooms)\n",
    "\n",
    "We will build the train and validation set from the available data"
   ]
  },
  {
   "cell_type": "code",
   "execution_count": null,
   "metadata": {
    "ExecuteTime": {
     "end_time": "2021-11-11T15:35:56.645628Z",
     "start_time": "2021-11-11T15:35:56.286548Z"
    }
   },
   "outputs": [],
   "source": [
    "# Read dataset\n",
    "target = ['SalePrice']\n",
    "features = ['LotArea', 'YearBuilt', '1stFlrSF', '2ndFlrSF', 'FullBath', 'BedroomAbvGr', 'TotRmsAbvGrd']\n",
    "url = \"https://www.i3s.unice.fr/~riveill/dataset/\"\n",
    "\n",
    "home_data = pd.read_csv(url+\"iowa.csv\")\n",
    "\n",
    "X = home_data[features]\n",
    "y = home_data[target]"
   ]
  },
  {
   "cell_type": "code",
   "execution_count": null,
   "metadata": {
    "ExecuteTime": {
     "end_time": "2021-11-11T15:35:56.927144Z",
     "start_time": "2021-11-11T15:35:56.917684Z"
    }
   },
   "outputs": [],
   "source": [
    "X_train, X_val, y_train, y_val = train_test_split(X, y, test_size=0.2, random_state=42)"
   ]
  },
  {
   "cell_type": "markdown",
   "metadata": {
    "ExecuteTime": {
     "end_time": "2021-08-25T14:34:28.567292Z",
     "start_time": "2021-08-25T14:34:28.564699Z"
    }
   },
   "source": [
    "### Step 1: Use a Decision Tree"
   ]
  },
  {
   "cell_type": "markdown",
   "metadata": {
    "ExecuteTime": {
     "end_time": "2021-08-28T16:22:26.171456Z",
     "start_time": "2021-08-28T16:22:26.166874Z"
    }
   },
   "source": [
    "<div class=\"alert alert-block alert-danger\">\n",
    "**Preliminary Questions**\n",
    "\n",
    "* Do we need to prepare the data?\n",
    "     * i.e. One hot encode the categorical data\n",
    "     * i.e. Normalize the numerical data\n",
    "\n",
    "* Is the model sensitive to outliers?\n",
    "    * If so, we need to know if the dataset contains outliers and eliminate them\n",
    "\n",
    "* What does RMSE mean? How is this metric calculated?\n",
    "    * Is this metric relevant for this problem?\n",
    "\n",
    "* What are the main hyper-parameters of this model\n",
    "</div>"
   ]
  },
  {
   "cell_type": "code",
   "execution_count": null,
   "metadata": {},
   "outputs": [],
   "source": []
  },
  {
   "cell_type": "markdown",
   "metadata": {
    "ExecuteTime": {
     "end_time": "2021-11-11T15:38:33.607565Z",
     "start_time": "2021-11-11T15:38:33.600743Z"
    }
   },
   "source": [
    "<div class=\"alert alert-block alert-danger\">\n",
    "Create, fit, predict and evaluate a Decision Tree\n",
    "</div>"
   ]
  },
  {
   "cell_type": "code",
   "execution_count": null,
   "metadata": {},
   "outputs": [],
   "source": []
  },
  {
   "cell_type": "markdown",
   "metadata": {
    "ExecuteTime": {
     "end_time": "2021-11-11T15:38:59.394084Z",
     "start_time": "2021-11-11T15:38:59.385782Z"
    }
   },
   "source": [
    "<div class=\"alert alert-block alert-danger\">\n",
    "Find best value for max_leaf_nodes in order to minimise RMSE\n",
    "</div>"
   ]
  },
  {
   "cell_type": "code",
   "execution_count": null,
   "metadata": {},
   "outputs": [],
   "source": []
  },
  {
   "cell_type": "markdown",
   "metadata": {},
   "source": [
    "### Step 2: Use a Random Forest"
   ]
  },
  {
   "cell_type": "markdown",
   "metadata": {
    "ExecuteTime": {
     "end_time": "2021-11-11T15:38:22.635183Z",
     "start_time": "2021-11-11T15:38:22.621648Z"
    }
   },
   "source": [
    "<div class=\"alert alert-block alert-danger\">\n",
    "Do the same with random forest\n",
    "Find best hyperparameter using RandomizedSearchCV\n",
    "</div>"
   ]
  },
  {
   "cell_type": "code",
   "execution_count": null,
   "metadata": {},
   "outputs": [],
   "source": []
  },
  {
   "cell_type": "markdown",
   "metadata": {},
   "source": [
    "## Ensemble model\n",
    "\n",
    "<div class=\"alert alert-block alert-danger\">\n",
    "**BONUS PART**\n",
    "</div\n",
    "\n",
    "* Zhao, Y., Wang, X., Cheng, C. and Ding, X., 2020. [Combining Machine Learning Models and Scores using combo library]([http://www.andrew.cmu.edu/user/yuezhao2/papers/20-aaai-combo.pdf]. Thirty-Fourth AAAI Conference on Artificial Intelligence. \n",
    "* Combo installation: https://pypi.org/project/combo/#installation"
   ]
  },
  {
   "cell_type": "code",
   "execution_count": null,
   "metadata": {
    "ExecuteTime": {
     "end_time": "2021-11-11T15:43:27.674420Z",
     "start_time": "2021-11-11T15:43:27.670192Z"
    }
   },
   "outputs": [],
   "source": [
    "''' PRELIMINARY ''';\n",
    "#install combo\n",
    "#!pip install combo\n",
    "#https://pycombo.readthedocs.io/en/latest/example.html"
   ]
  },
  {
   "cell_type": "code",
   "execution_count": null,
   "metadata": {
    "ExecuteTime": {
     "end_time": "2021-11-11T15:43:28.363415Z",
     "start_time": "2021-11-11T15:43:28.357267Z"
    }
   },
   "outputs": [],
   "source": [
    "''' Load some metrics and sklearn models'''\n",
    "from sklearn.metrics import accuracy_score\n",
    "from sklearn.metrics import precision_recall_fscore_support\n",
    "\n",
    "# Import all models\n",
    "from sklearn.linear_model import LogisticRegression\n",
    "from sklearn.linear_model import Perceptron\n",
    "from sklearn.neural_network import MLPClassifier\n",
    "\n",
    "from sklearn.neighbors import KNeighborsClassifier\n",
    "\n",
    "from sklearn.tree import DecisionTreeClassifier\n",
    "from sklearn.ensemble import RandomForestClassifier\n",
    "\n",
    "from sklearn.naive_bayes import GaussianNB"
   ]
  },
  {
   "cell_type": "code",
   "execution_count": null,
   "metadata": {
    "ExecuteTime": {
     "end_time": "2021-11-11T15:43:28.800528Z",
     "start_time": "2021-11-11T15:43:28.793825Z"
    }
   },
   "outputs": [],
   "source": [
    "''' Load some combo ensemble aggregator '''\n",
    "from combo.models.classifier_comb import SimpleClassifierAggregator\n",
    "from combo.models.classifier_stacking import Stacking\n",
    "from combo.models.classifier_dcs import DCS_LA\n",
    "from combo.models.classifier_des import DES_LA"
   ]
  },
  {
   "cell_type": "markdown",
   "metadata": {},
   "source": [
    "### Create a dataset"
   ]
  },
  {
   "cell_type": "code",
   "execution_count": null,
   "metadata": {
    "ExecuteTime": {
     "end_time": "2021-11-11T15:43:29.546438Z",
     "start_time": "2021-11-11T15:43:29.537312Z"
    }
   },
   "outputs": [],
   "source": [
    "from sklearn.datasets import make_blobs\n",
    "from sklearn.model_selection import train_test_split\n",
    "\n",
    "def build_dataset(n_samples, ratio, blob=False):\n",
    "    n_class0 = int(ratio * n_samples)\n",
    "    \n",
    "    n_class1 = n_samples - n_class0\n",
    "    \n",
    "    if blob:\n",
    "        X, y = make_blobs(n_samples=[n_class0, n_class1], n_features=2,\n",
    "                          centers=[[-1,-1],[1,1]], cluster_std=[0.5, 1], random_state=RAND_STATE)\n",
    "    else:\n",
    "        # Generate class 0\n",
    "        offset = 4\n",
    "        Xa = 0.3 * np.random.randn(n_class1 // 2, 2) - offset\n",
    "        Xb = 0.3 * np.random.randn(n_class1 // 2, 2) + offset\n",
    "        X0 = np.r_[Xa, Xb]\n",
    "        \n",
    "        # Add class 1\n",
    "        X1 = np.random.uniform(low=-6, high=6, size=(n_class0, 2))\n",
    "        \n",
    "        # Concatenate the two classes\n",
    "        X = np.r_[X0,X1]\n",
    "        y = [0]*len(X0) + [1]*len(X1)\n",
    "    \n",
    "    return X, y"
   ]
  },
  {
   "cell_type": "code",
   "execution_count": null,
   "metadata": {
    "ExecuteTime": {
     "end_time": "2021-11-11T15:43:29.893481Z",
     "start_time": "2021-11-11T15:43:29.877872Z"
    }
   },
   "outputs": [],
   "source": [
    "def plot_dataset(name, X_train, X_test, y_train, y_test):\n",
    "    X0_train = np.array([x for x, y in zip(X_train, y_train) if y==0]).reshape((-1, 2))\n",
    "    X1_train = np.array([x for x, y in zip(X_train, y_train) if y==1]).reshape((-1, 2))\n",
    "    X0_test = np.array([x for x, y in zip(X_test, y_test) if y==0]).reshape((-1, 2))\n",
    "    X1_test = np.array([x for x, y in zip(X_test, y_test) if y==1]).reshape((-1, 2))\n",
    "\n",
    "\n",
    "    plt.figure(figsize=(15, 12))\n",
    "    plt.scatter(X0_train[:,0], X0_train[:,1], c='b', alpha=0.1, label=[\"classe 0\"])\n",
    "    plt.scatter(X1_train[:,0], X1_train[:,1], c='r', alpha=0.1, label=[\"classe 1\"])\n",
    "    plt.scatter(X0_test[:,0], X0_test[:,1], c='b')\n",
    "    plt.scatter(X1_test[:,0], X1_test[:,1], c='r')\n",
    "\n",
    "    plt.title(name)\n",
    "    plt.legend()\n",
    "    plt.show();"
   ]
  },
  {
   "cell_type": "code",
   "execution_count": null,
   "metadata": {
    "ExecuteTime": {
     "end_time": "2021-11-11T15:43:30.858796Z",
     "start_time": "2021-11-11T15:43:30.333675Z"
    }
   },
   "outputs": [],
   "source": [
    "# Ratio between class 0 and 1\n",
    "class0_fraction = 0.7\n",
    "n_items = 1000\n",
    "\n",
    "for dataset in [True, False]:\n",
    "    # Build dataset\n",
    "    X, y = build_dataset(n_items, class0_fraction, blob=dataset)\n",
    "\n",
    "    # Split dataset\n",
    "    X_train, X_test, y_train, y_test = train_test_split(X, y, test_size=0.1, shuffle=True, stratify=y, random_state=RAND_STATE)\n",
    "\n",
    "    # Plot dataset\n",
    "    plot_dataset(dataset, X_train, X_test, y_train, y_test)"
   ]
  },
  {
   "cell_type": "markdown",
   "metadata": {},
   "source": [
    "### Plot of decision boundaries for different models"
   ]
  },
  {
   "cell_type": "code",
   "execution_count": null,
   "metadata": {
    "ExecuteTime": {
     "end_time": "2021-11-11T15:59:14.342357Z",
     "start_time": "2021-11-11T15:59:14.336481Z"
    }
   },
   "outputs": [],
   "source": [
    "# initialize a group of classifiers\n",
    "classifiers = {\n",
    "    'k Nearst Neighbors': KNeighborsClassifier(n_neighbors=1),\n",
    "    'Gaussian NB': GaussianNB(),\n",
    "    'Decision tree': DecisionTreeClassifier(max_depth=2,\n",
    "                                            random_state=RAND_STATE),\n",
    "    'Random Forest': RandomForestClassifier(n_estimators=10,\n",
    "                                            max_depth=2,\n",
    "                                            random_state=RAND_STATE),\n",
    "}"
   ]
  },
  {
   "cell_type": "code",
   "execution_count": null,
   "metadata": {
    "ExecuteTime": {
     "end_time": "2021-11-11T16:00:48.334870Z",
     "start_time": "2021-11-11T16:00:48.315711Z"
    }
   },
   "outputs": [],
   "source": [
    "# Plot decision boundary\n",
    "def plot_decision_boundary(classifiers, X_train, y_train, X_test, y_test):\n",
    "    X0_test = np.array([x for x, y in zip(X_test, y_test) if y==0]).reshape((-1, 2))\n",
    "    X1_test = np.array([x for x, y in zip(X_test, y_test) if y==1]).reshape((-1, 2))\n",
    "    \n",
    "    threshold = -0.5\n",
    "    plt.figure(figsize=(5*3, 5*((len(classifiers)-1)//3+1)))\n",
    "    xx, yy = np.meshgrid(np.linspace(-7, 7, 100), np.linspace(-7, 7, 100))\n",
    "\n",
    "    scores = dict()\n",
    "    for i, (clf_name, clf) in enumerate(classifiers.items()):\n",
    "        # fit the model\n",
    "        clf.fit(X_train, y_train)\n",
    "    \n",
    "        # predict\n",
    "        y_pred = clf.predict(X_test)\n",
    "    \n",
    "        # evaluate\n",
    "        y_pred = clf.predict(X_test)\n",
    "        # accuracy --> proportion d'éléments bien classé\n",
    "        ACC = accuracy_score(y_test, y_pred)\n",
    "        # Average=binary --> On s'intéresse qu'à la classe 1\n",
    "        P, R, F1, _ = precision_recall_fscore_support(y_test, y_pred, average='binary')\n",
    "        n_errors = sum(y_test!=y_pred)\n",
    "        scores[clf_name] = [ACC, P, R, F1, n_errors]\n",
    "        print(\"{:25s}: {:.2f} {:.2f} {:.2f} {:.2f} {: 3d}\".format(clf_name[:25], ACC, P, R, F1, n_errors))\n",
    "    \n",
    "        # plot the levels lines and the points\n",
    "        if clf_name==\"Perceptron\":\n",
    "            a = clf.decision_function(np.c_[xx.ravel(), yy.ravel()])\n",
    "            Z = np.array([1/(1+np.exp(-b)) for b in a]) * -1\n",
    "        else:\n",
    "            Z = clf.predict_proba(np.c_[xx.ravel(), yy.ravel()])[:, 1] * -1\n",
    "        Z = Z.reshape(xx.shape)\n",
    "    \n",
    "        subplot = plt.subplot(len(classifiers)//3+1, 3, i+1)\n",
    "\n",
    "        if Z.min()<threshold:\n",
    "            subplot.contourf(xx, yy, Z,\n",
    "                     levels=np.linspace(Z.min(), threshold, 7),\n",
    "                     cmap=plt.cm.Blues_r)\n",
    "        a = subplot.contour(xx, yy, Z, levels=[threshold],\n",
    "                            linewidths=2, colors='red')\n",
    "    \n",
    "        if threshold<=Z.max():\n",
    "            subplot.contourf(xx, yy, Z, levels=[threshold, Z.max()],\n",
    "                             colors='orange')\n",
    "        b = subplot.scatter(X0_test[:,0], X0_test[:,1], c='b', s=20, edgecolor='k')\n",
    "        c = subplot.scatter(X1_test[:,0], X1_test[:,1], c='r', s=20, edgecolor='k')\n",
    "        subplot.axis('tight')\n",
    "        subplot.legend(\n",
    "                [a.collections[0], b, c],\n",
    "                ['learned boundary', 'class 0', 'class 1'],\n",
    "                prop=font_manager.FontProperties(size=10),\n",
    "                loc='lower right')\n",
    "        subplot.set_xlabel(\"%d. %s (errors: %d)\" % (i + 1, clf_name, n_errors))\n",
    "        subplot.set_xlim((-7, 7))\n",
    "        subplot.set_ylim((-7, 7))\n",
    "        plt.subplots_adjust(0.04, 0.1, 0.96, 0.94, 0.1, 0.26)\n",
    "        plt.suptitle(\"Model Combination\")\n",
    "    # plt.savefig('compare_selected_classifiers.png', dpi=300)\n",
    "    plt.show()\n",
    "    return scores"
   ]
  },
  {
   "cell_type": "code",
   "execution_count": null,
   "metadata": {
    "ExecuteTime": {
     "end_time": "2021-11-11T16:01:09.900100Z",
     "start_time": "2021-11-11T16:01:09.111088Z"
    }
   },
   "outputs": [],
   "source": [
    "_ = plot_decision_boundary(classifiers, X_train, y_train, X_test, y_test)"
   ]
  },
  {
   "cell_type": "markdown",
   "metadata": {},
   "source": [
    "### Use combo to create some basic ensemble model\n",
    "\n",
    "#### Classical ensemble model"
   ]
  },
  {
   "cell_type": "code",
   "execution_count": null,
   "metadata": {
    "ExecuteTime": {
     "end_time": "2021-11-11T16:01:20.360653Z",
     "start_time": "2021-11-11T16:01:19.507359Z"
    }
   },
   "outputs": [],
   "source": [
    "classifier_list = [clf for (_, clf) in classifiers.items()][:3]\n",
    "\n",
    "classifiers_ = {\n",
    "    'combine by averaging': SimpleClassifierAggregator(classifier_list,\n",
    "                                 method='average'),\n",
    "    'combine by maximization': SimpleClassifierAggregator(classifier_list,\n",
    "                                 method='maximization'),\n",
    "    'combine by majority vote': SimpleClassifierAggregator(classifier_list, \n",
    "                                 method='majority_vote'),\n",
    "    'combine by median': SimpleClassifierAggregator(classifier_list,method='median')\n",
    "}\n",
    "\n",
    "_ = plot_decision_boundary(classifiers_, X_train, y_train, X_test, y_test)"
   ]
  },
  {
   "cell_type": "markdown",
   "metadata": {},
   "source": [
    "#### Weighted ensemble model"
   ]
  },
  {
   "cell_type": "code",
   "execution_count": null,
   "metadata": {
    "ExecuteTime": {
     "end_time": "2021-11-11T16:01:23.816006Z",
     "start_time": "2021-11-11T16:01:23.353387Z"
    }
   },
   "outputs": [],
   "source": [
    "classifier_list = [clf for (_, clf) in classifiers.items()][:3]\n",
    "\n",
    "clf_weights = np.array([10, 1, 5])\n",
    "assert len(classifier_list)==len(clf_weights)\n",
    "\n",
    "classifiers_ = {\n",
    "    'combine by weighted averaging': SimpleClassifierAggregator(classifier_list,\n",
    "                                 method='average', weights=clf_weights),\n",
    "    'combine by weighted majority vote': SimpleClassifierAggregator(classifier_list, \n",
    "                                 method='majority_vote', weights=clf_weights),\n",
    "}\n",
    "\n",
    "_ = plot_decision_boundary(classifiers_, X_train, y_train, X_test, y_test)"
   ]
  },
  {
   "cell_type": "markdown",
   "metadata": {},
   "source": [
    "### Use Combo to create mode sophisticated model"
   ]
  },
  {
   "cell_type": "markdown",
   "metadata": {},
   "source": [
    "#### Stacking Ensemble Machine Learning With Python\n",
    "\n",
    "https://machinelearningmastery.com/stacking-ensemble-machine-learning-with-python/\n",
    "\n",
    "Stacking or Stacked Generalization is an ensemble machine learning algorithm.\n",
    "\n",
    "It uses a meta-learning algorithm to learn how to best combine the predictions from two or more base machine learning algorithms.\n",
    "\n",
    "The benefit of stacking is that it can harness the capabilities of a range of well-performing models on a classification or regression task and make predictions that have better performance than any single model in the ensemble.\n",
    "\n",
    "![Stacking](https://blogs.sas.com/content/subconsciousmusings/files/2017/05/modelstacking.png)"
   ]
  },
  {
   "cell_type": "markdown",
   "metadata": {},
   "source": [
    "#### Dynamic Model Selection (DES) for Classification in Python\n",
    "\n",
    "* DCS :Dynamic Classifier Selection\n",
    "\n",
    "    * --> On recherche le modèle le plus pertinent pour les données à prédire\n",
    "\n",
    "    * Dynamic classifier selection is a type of ensemble learning algorithm for classification predictive modeling.\n",
    "\n",
    "    * The technique involves fitting multiple machine learning models on the training dataset, then selecting the model that is expected to perform best when making a prediction, based on the specific details of the example to be predicted.\n",
    "\n",
    "    * This can be achieved using a k-nearest neighbor model to locate examples in the training dataset that are closest to the new example to be predicted, evaluating all models in the pool on this neighborhood and using the model that performs the best on the neighborhood to make a prediction for the new example.\n",
    "\n",
    "* DES :  Dynamic Ensemble Selection (https://machinelearningmastery.com/dynamic-ensemble-selection-in-python/)\n",
    "\n",
    "    * --> On recherche le sous ensemble de modèles le plus pertinent pour les données à prédire\n",
    "\n",
    "    * Dynamic ensemble selection is an ensemble learning technique that automatically selects a subset of ensemble members just-in-time when making a prediction.\n",
    "\n",
    "    * The technique involves fitting multiple machine learning models on the training dataset, then selecting the models that are expected to perform best when making a prediction for a specific new example, based on the details of the example to be predicted.\n",
    "\n",
    "![Dynamic Model Selection](https://ars.els-cdn.com/content/image/1-s2.0-S1566253517304074-gr3.jpg)"
   ]
  },
  {
   "cell_type": "code",
   "execution_count": null,
   "metadata": {
    "ExecuteTime": {
     "end_time": "2021-11-11T16:01:57.495965Z",
     "start_time": "2021-11-11T16:01:34.411958Z"
    }
   },
   "outputs": [],
   "source": [
    "classifier_list = [clf for (_, clf) in classifiers.items()][:3] # On élimine les RF\n",
    "\n",
    "classifiers_ = {\n",
    "    'Stacking': Stacking(base_estimators=classifier_list,\n",
    "                         shuffle_data=True),\n",
    "    'Stacking_RF': Stacking(base_estimators=classifier_list,\n",
    "                            shuffle_data=True,\n",
    "                            meta_clf=RandomForestClassifier(random_state=RAND_STATE)),\n",
    "\n",
    "    'DCS_LA': DCS_LA(base_estimators=classifier_list), # Data Classifier Selection by Local Accuracy\n",
    "    'DES_LA': DES_LA(base_estimators=classifier_list), # Dynamic Ensemble Selection by Local Accuracy\n",
    "}\n",
    "\n",
    "_ = plot_decision_boundary(classifiers_, X_train, y_train, X_test, y_test)"
   ]
  },
  {
   "cell_type": "code",
   "execution_count": null,
   "metadata": {},
   "outputs": [],
   "source": [
    "\n"
   ]
  }
 ],
 "metadata": {
  "kernelspec": {
   "display_name": "Python 3",
   "language": "python",
   "name": "python3"
  },
  "language_info": {
   "codemirror_mode": {
    "name": "ipython",
    "version": 3
   },
   "file_extension": ".py",
   "mimetype": "text/x-python",
   "name": "python",
   "nbconvert_exporter": "python",
   "pygments_lexer": "ipython3",
   "version": "3.8.5"
  },
  "latex_envs": {
   "LaTeX_envs_menu_present": true,
   "autoclose": true,
   "autocomplete": true,
   "bibliofile": "biblio.bib",
   "cite_by": "apalike",
   "current_citInitial": 1,
   "eqLabelWithNumbers": true,
   "eqNumInitial": 1,
   "hotkeys": {
    "equation": "Ctrl-E",
    "itemize": "Ctrl-I"
   },
   "labels_anchors": false,
   "latex_user_defs": false,
   "report_style_numbering": false,
   "user_envs_cfg": false
  },
  "nbTranslate": {
   "displayLangs": [
    "*"
   ],
   "hotkey": "alt-t",
   "langInMainMenu": true,
   "sourceLang": "en",
   "targetLang": "fr",
   "useGoogleTranslate": true
  },
  "toc": {
   "base_numbering": 1,
   "nav_menu": {},
   "number_sections": true,
   "sideBar": true,
   "skip_h1_title": true,
   "title_cell": "Table of Contents",
   "title_sidebar": "Contents",
   "toc_cell": true,
   "toc_position": {},
   "toc_section_display": true,
   "toc_window_display": false
  }
 },
 "nbformat": 4,
 "nbformat_minor": 5
}
