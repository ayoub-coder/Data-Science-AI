{
 "cells": [
  {
   "cell_type": "markdown",
   "metadata": {},
   "source": [
    "# TP SVM classification\n",
    "Diane Lingrand (diane.lingrand@univ-cotedazur)\n",
    "\n",
    "Université Nice Côte d'Azur "
   ]
  },
  {
   "cell_type": "markdown",
   "metadata": {},
   "source": [
    "Documentation: https://scikit-learn.org/stable/modules/generated/sklearn.svm.SVC.html"
   ]
  },
  {
   "cell_type": "code",
   "execution_count": 6,
   "metadata": {
    "ExecuteTime": {
     "end_time": "2021-10-26T13:54:05.457166Z",
     "start_time": "2021-10-26T13:54:03.534997Z"
    }
   },
   "outputs": [],
   "source": [
    "#necessary imports\n",
    "import time\n",
    "import matplotlib.pyplot as plt\n",
    "import numpy as np\n",
    "from sklearn import svm\n",
    "from sklearn.metrics import confusion_matrix, plot_confusion_matrix, f1_score"
   ]
  },
  {
   "cell_type": "markdown",
   "metadata": {},
   "source": [
    "## dataset: Iris"
   ]
  },
  {
   "cell_type": "code",
   "execution_count": 2,
   "metadata": {
    "ExecuteTime": {
     "end_time": "2021-10-26T13:54:11.539838Z",
     "start_time": "2021-10-26T13:54:11.329807Z"
    }
   },
   "outputs": [],
   "source": [
    "# loading the dataset\n",
    "from sklearn import datasets\n",
    "iris = datasets.load_iris()\n",
    "X = iris.data\n",
    "y = iris.target"
   ]
  },
  {
   "cell_type": "code",
   "execution_count": 3,
   "metadata": {
    "ExecuteTime": {
     "end_time": "2021-10-26T13:54:12.234953Z",
     "start_time": "2021-10-26T13:54:12.224284Z"
    }
   },
   "outputs": [],
   "source": [
    "# split into train and test datasets\n",
    "from sklearn.model_selection import train_test_split\n",
    "X_train, X_test, y_train, y_test = train_test_split(X, y, test_size=0.4)"
   ]
  },
  {
   "cell_type": "code",
   "execution_count": 4,
   "metadata": {
    "ExecuteTime": {
     "end_time": "2021-10-26T13:54:13.373253Z",
     "start_time": "2021-10-26T13:54:13.365304Z"
    }
   },
   "outputs": [
    {
     "name": "stdout",
     "output_type": "stream",
     "text": [
      "train:  [0 0 1 0 2 1 1 1 2 2 2 0 1 0 2 1 0 0 2 1 0 2 1 0 0 1 1 1 2 0 1 0 2 1 0 1 0\n",
      " 2 2 2 2 0 1 2 0 1 1 0 1 0 1 1 2 2 2 0 1 1 2 1 0 2 0 0 0 2 0 0 1 1 2 0 0 2\n",
      " 1 2 0 0 0 1 0 1 1 2 1 0 0 2 0 1]\n",
      "test:  [2 0 0 2 1 2 0 0 2 2 0 0 2 0 1 2 2 1 0 2 1 0 1 1 2 2 0 0 1 2 1 1 1 1 1 2 2\n",
      " 1 2 1 2 2 0 2 2 0 2 1 0 0 1 2 1 1 1 2 2 0 2 2]\n"
     ]
    }
   ],
   "source": [
    "print(\"train: \", y_train)\n",
    "print(\"test: \", y_test)"
   ]
  },
  {
   "cell_type": "markdown",
   "metadata": {},
   "source": [
    "### classification of only 2 classes"
   ]
  },
  {
   "cell_type": "code",
   "execution_count": 5,
   "metadata": {
    "ExecuteTime": {
     "end_time": "2021-10-26T13:54:18.691372Z",
     "start_time": "2021-10-26T13:54:18.684880Z"
    }
   },
   "outputs": [],
   "source": [
    "# we choose to remove class with label 2 (Iris Virginica)\n",
    "X_trainBinaire = X_train[y_train!=2]\n",
    "y_trainBinaire = y_train[y_train!=2]\n",
    "X_testBinaire = X_test[y_test!=2]\n",
    "y_testBinaire = y_test[y_test!=2]\n"
   ]
  },
  {
   "cell_type": "code",
   "execution_count": 6,
   "metadata": {
    "ExecuteTime": {
     "end_time": "2021-10-26T13:54:19.564843Z",
     "start_time": "2021-10-26T13:54:19.556572Z"
    }
   },
   "outputs": [
    {
     "name": "stdout",
     "output_type": "stream",
     "text": [
      "train:  [0 0 1 0 1 1 1 0 1 0 1 0 0 1 0 1 0 0 1 1 1 0 1 0 1 0 1 0 0 1 0 1 1 0 1 0 1\n",
      " 1 0 1 1 1 0 0 0 0 0 0 1 1 0 0 1 0 0 0 1 0 1 1 1 0 0 0 1]\n",
      "test:  [0 0 1 0 0 0 0 0 1 1 0 1 0 1 1 0 0 1 1 1 1 1 1 1 1 0 0 1 0 0 1 1 1 1 0]\n"
     ]
    }
   ],
   "source": [
    "# verification that we have binary labels for only 2 classes\n",
    "print(\"train: \", y_trainBinaire)\n",
    "print(\"test: \", y_testBinaire)"
   ]
  },
  {
   "cell_type": "code",
   "execution_count": 7,
   "metadata": {
    "ExecuteTime": {
     "end_time": "2021-10-26T13:54:24.121365Z",
     "start_time": "2021-10-26T13:54:24.112758Z"
    }
   },
   "outputs": [
    {
     "name": "stdout",
     "output_type": "stream",
     "text": [
      "learning done in 0.00 seconds\n"
     ]
    }
   ],
   "source": [
    "#default constructor\n",
    "mySvcBin = svm.SVC(kernel='linear')\n",
    "#learning\n",
    "time_start = time.perf_counter()\n",
    "mySvcBin.fit(X_trainBinaire,y_trainBinaire)\n",
    "time_elapsed = (time.perf_counter()-time_start)\n",
    "print(\"learning done in %.2f seconds\" %(time_elapsed))"
   ]
  },
  {
   "cell_type": "code",
   "execution_count": 8,
   "metadata": {
    "ExecuteTime": {
     "end_time": "2021-10-26T14:05:40.042241Z",
     "start_time": "2021-10-26T14:05:39.912220Z"
    }
   },
   "outputs": [
    {
     "name": "stdout",
     "output_type": "stream",
     "text": [
      "F1 score :  1.0\n"
     ]
    },
    {
     "name": "stderr",
     "output_type": "stream",
     "text": [
      "C:\\Users\\Polytech\\anaconda3\\lib\\site-packages\\sklearn\\utils\\deprecation.py:87: FutureWarning: Function plot_confusion_matrix is deprecated; Function `plot_confusion_matrix` is deprecated in 1.0 and will be removed in 1.2. Use one of the class methods: ConfusionMatrixDisplay.from_predictions or ConfusionMatrixDisplay.from_estimator.\n",
      "  warnings.warn(msg, category=FutureWarning)\n"
     ]
    },
    {
     "data": {
      "image/png": "[encoded data removed]",
      "text/plain": [
       "<Figure size 432x288 with 2 Axes>"
      ]
     },
     "metadata": {
      "needs_background": "light"
     },
     "output_type": "display_data"
    }
   ],
   "source": [
    "#test performances\n",
    "y_predBinaire = mySvcBin.predict(X_testBinaire)\n",
    "\n",
    "disp = plot_confusion_matrix(mySvcBin, X_testBinaire, y_testBinaire,\n",
    "                                 display_labels=list(iris.target_names)[0:2],\n",
    "                                 cmap=plt.cm.Blues,\n",
    "                                 normalize=None)\n",
    "disp.ax_.set_title('Confusion matrix')\n",
    "print(\"F1 score : \", f1_score(y_predBinaire,y_testBinaire))"
   ]
  },
  {
   "cell_type": "markdown",
   "metadata": {},
   "source": [
    "### classification of all classes"
   ]
  },
  {
   "cell_type": "code",
   "execution_count": 9,
   "metadata": {
    "ExecuteTime": {
     "end_time": "2021-10-26T13:58:24.056845Z",
     "start_time": "2021-10-26T13:58:24.047476Z"
    }
   },
   "outputs": [
    {
     "name": "stdout",
     "output_type": "stream",
     "text": [
      "learning done in 0.00 seconds\n"
     ]
    }
   ],
   "source": [
    "#default constructor\n",
    "mySvc = svm.SVC(kernel='linear', C=4,decision_function_shape='ovo')\n",
    "#learning\n",
    "time_start = time.perf_counter()\n",
    "mySvc.fit(X_train,y_train)\n",
    "time_elapsed = (time.perf_counter()-time_start)\n",
    "print(\"learning done in %.2f seconds\" %(time_elapsed))\n",
    "# </div><i class=\"fa fa-lightbulb-o \"></i>"
   ]
  },
  {
   "cell_type": "code",
   "execution_count": 10,
   "metadata": {
    "ExecuteTime": {
     "end_time": "2021-10-26T13:58:25.968568Z",
     "start_time": "2021-10-26T13:58:25.822286Z"
    }
   },
   "outputs": [
    {
     "name": "stdout",
     "output_type": "stream",
     "text": [
      "F1 score :  [1.         0.97297297 0.98039216]\n"
     ]
    },
    {
     "name": "stderr",
     "output_type": "stream",
     "text": [
      "C:\\Users\\Polytech\\anaconda3\\lib\\site-packages\\sklearn\\utils\\deprecation.py:87: FutureWarning: Function plot_confusion_matrix is deprecated; Function `plot_confusion_matrix` is deprecated in 1.0 and will be removed in 1.2. Use one of the class methods: ConfusionMatrixDisplay.from_predictions or ConfusionMatrixDisplay.from_estimator.\n",
      "  warnings.warn(msg, category=FutureWarning)\n"
     ]
    },
    {
     "data": {
      "image/png": "[encoded data removed]",
      "text/plain": [
       "<Figure size 432x288 with 2 Axes>"
      ]
     },
     "metadata": {
      "needs_background": "light"
     },
     "output_type": "display_data"
    }
   ],
   "source": [
    "#test performances\n",
    "y_pred = mySvc.predict(X_test)\n",
    "\n",
    "disp = plot_confusion_matrix(mySvc, X_test, y_test,\n",
    "                                 display_labels=list(iris.target_names),\n",
    "                                 cmap=plt.cm.Blues,\n",
    "                                 normalize=None)\n",
    "disp.ax_.set_title('Confusion matrix')\n",
    "print(\"F1 score : \", f1_score(y_pred,y_test,average=None))"
   ]
  },
  {
   "cell_type": "markdown",
   "metadata": {},
   "source": [
    "### My trials"
   ]
  },
  {
   "cell_type": "markdown",
   "metadata": {},
   "source": [
    "Can we do it better? Try other kernels, other hyper-parameters (C, ...)"
   ]
  },
  {
   "cell_type": "code",
   "execution_count": 11,
   "metadata": {},
   "outputs": [
    {
     "name": "stdout",
     "output_type": "stream",
     "text": [
      "learning done in 0.00 seconds\n"
     ]
    }
   ],
   "source": [
    "#default constructor\n",
    "mySvc_1 = svm.SVC(kernel='sigmoid', C=3,decision_function_shape='ovo')\n",
    "#learning\n",
    "time_start = time.perf_counter()\n",
    "mySvc_1.fit(X_train,y_train)\n",
    "time_elapsed = (time.perf_counter()-time_start)\n",
    "print(\"learning done in %.2f seconds\" %(time_elapsed))\n",
    "# </div><i class=\"fa fa-lightbulb-o \"></i>"
   ]
  },
  {
   "cell_type": "code",
   "execution_count": 12,
   "metadata": {},
   "outputs": [
    {
     "name": "stdout",
     "output_type": "stream",
     "text": [
      "F1 score :  [0.42105263 0.         0.        ]\n"
     ]
    },
    {
     "name": "stderr",
     "output_type": "stream",
     "text": [
      "C:\\Users\\Polytech\\anaconda3\\lib\\site-packages\\sklearn\\utils\\deprecation.py:87: FutureWarning: Function plot_confusion_matrix is deprecated; Function `plot_confusion_matrix` is deprecated in 1.0 and will be removed in 1.2. Use one of the class methods: ConfusionMatrixDisplay.from_predictions or ConfusionMatrixDisplay.from_estimator.\n",
      "  warnings.warn(msg, category=FutureWarning)\n"
     ]
    },
    {
     "data": {
      "image/png": "[encoded data removed]",
      "text/plain": [
       "<Figure size 432x288 with 2 Axes>"
      ]
     },
     "metadata": {
      "needs_background": "light"
     },
     "output_type": "display_data"
    }
   ],
   "source": [
    "#test performances\n",
    "y_pred1 = mySvc_1.predict(X_test)\n",
    "\n",
    "disp = plot_confusion_matrix(mySvc_1, X_test, y_test,\n",
    "                                 display_labels=list(iris.target_names),\n",
    "                                 cmap=plt.cm.Blues,\n",
    "                                 normalize=None)\n",
    "disp.ax_.set_title('Confusion matrix')\n",
    "print(\"F1 score : \", f1_score(y_pred1,y_test,average=None))"
   ]
  },
  {
   "cell_type": "markdown",
   "metadata": {},
   "source": [
    "## dataset: MNIST"
   ]
  },
  {
   "cell_type": "code",
   "execution_count": 13,
   "metadata": {
    "ExecuteTime": {
     "end_time": "2021-10-26T14:02:40.444449Z",
     "start_time": "2021-10-26T14:02:40.440580Z"
    }
   },
   "outputs": [],
   "source": [
    "#necessary imports\n",
    "import time\n",
    "import matplotlib.pyplot as plt\n",
    "import numpy as np\n",
    "from sklearn.linear_model import LogisticRegression\n",
    "from sklearn.metrics import confusion_matrix, plot_confusion_matrix, f1_score"
   ]
  },
  {
   "cell_type": "code",
   "execution_count": 14,
   "metadata": {
    "ExecuteTime": {
     "end_time": "2021-10-26T14:03:02.910152Z",
     "start_time": "2021-10-26T14:03:02.250234Z"
    }
   },
   "outputs": [],
   "source": [
    "# reading the dataset\n",
    "from tensorflow.keras.datasets import mnist\n",
    "(x_train, y_train), (x_test, y_test) = mnist.load_data()\n",
    "x_train = x_train/255.0\n",
    "x_test = x_test/255.0"
   ]
  },
  {
   "cell_type": "code",
   "execution_count": 15,
   "metadata": {
    "ExecuteTime": {
     "end_time": "2021-10-26T14:03:05.475095Z",
     "start_time": "2021-10-26T14:03:05.356867Z"
    }
   },
   "outputs": [
    {
     "data": {
      "image/png": "[encoded data removed]",
      "text/plain": [
       "<Figure size 432x288 with 1 Axes>"
      ]
     },
     "metadata": {
      "needs_background": "light"
     },
     "output_type": "display_data"
    },
    {
     "name": "stdout",
     "output_type": "stream",
     "text": [
      "5\n"
     ]
    }
   ],
   "source": [
    "#display one of the pictures (the 11th in this code)\n",
    "import matplotlib.pyplot as plt\n",
    "i = 11 #index of the image: change it in order to display other images\n",
    "plt.imshow(x_train[i],aspect=\"auto\",cmap='gray')\n",
    "plt.show()\n",
    "print(y_train[i])"
   ]
  },
  {
   "cell_type": "code",
   "execution_count": 16,
   "metadata": {},
   "outputs": [],
   "source": [
    "# case of binary classification: we choose coats and bags\n",
    "\n",
    "# you can change the classes\n",
    "class1 = 4 #negative class 'coats'\n",
    "class2 = 8 #positive class 'bags'\n",
    "nameClass1 = '4'\n",
    "nameClass2 = '8'\n",
    "mesClassesTrain = (y_train==class1)|(y_train==class2)\n",
    "mesClassesTest = (y_test==class1)|(y_test==class2)\n",
    "\n",
    "## TRAIN\n",
    "x_trainBinaire = np.array(x_train[mesClassesTrain,:])\n",
    "y_trainBinaire = np.array((y_train[mesClassesTrain]-class1)/(class2-class1))\n",
    "\n",
    "## TEST\n",
    "x_testBinaire = np.array(x_test[mesClassesTest,:])\n",
    "y_testBinaire = np.array((y_test[mesClassesTest]-class1)/(class2-class1))"
   ]
  },
  {
   "cell_type": "code",
   "execution_count": 17,
   "metadata": {},
   "outputs": [],
   "source": [
    "# reshaping the data (a 2d image is transformed to a 1d array)\n",
    "#train\n",
    "n = x_trainBinaire.shape[0]\n",
    "x_trainBinaireLin = x_trainBinaire.reshape(n,-1)\n",
    "#test\n",
    "n = x_testBinaire.shape[0]\n",
    "x_testBinaireLin = x_testBinaire.reshape(n,-1)"
   ]
  },
  {
   "cell_type": "code",
   "execution_count": 19,
   "metadata": {},
   "outputs": [
    {
     "name": "stdout",
     "output_type": "stream",
     "text": [
      "learning done in 2.59 seconds\n"
     ]
    }
   ],
   "source": [
    "#default constructor\n",
    "## your job is to build a SVC classifier\n",
    "mySvc_2 = svm.SVC(kernel='linear', C=4,decision_function_shape='ovo')\n",
    "#learning\n",
    "time_start = time.perf_counter()\n",
    "## your job is to train your SVC classifier \n",
    "mySvc_2.fit(x_trainBinaireLin,y_trainBinaire)\n",
    "\n",
    "time_elapsed = (time.perf_counter()-time_start)\n",
    "print(\"learning done in %.2f seconds\" %(time_elapsed))"
   ]
  },
  {
   "cell_type": "code",
   "execution_count": 20,
   "metadata": {
    "scrolled": true
   },
   "outputs": [
    {
     "name": "stderr",
     "output_type": "stream",
     "text": [
      "C:\\Users\\Polytech\\anaconda3\\lib\\site-packages\\sklearn\\utils\\deprecation.py:87: FutureWarning: Function plot_confusion_matrix is deprecated; Function `plot_confusion_matrix` is deprecated in 1.0 and will be removed in 1.2. Use one of the class methods: ConfusionMatrixDisplay.from_predictions or ConfusionMatrixDisplay.from_estimator.\n",
      "  warnings.warn(msg, category=FutureWarning)\n"
     ]
    },
    {
     "name": "stdout",
     "output_type": "stream",
     "text": [
      "F1 score :  0.991223541559112\n"
     ]
    },
    {
     "data": {
      "image/png": "[encoded data removed]",
      "text/plain": [
       "<Figure size 432x288 with 2 Axes>"
      ]
     },
     "metadata": {
      "needs_background": "light"
     },
     "output_type": "display_data"
    }
   ],
   "source": [
    "y_predBinaireTest = mySvc_2.predict(x_testBinaireLin)## compute the prediction of x_testBinaireLin using your learned classifier\n",
    "\n",
    "disp = plot_confusion_matrix(mySvc_2, x_testBinaireLin, y_testBinaire,\n",
    "                                 display_labels=[nameClass1,nameClass2],\n",
    "                                 cmap=plt.cm.Blues,\n",
    "                                 normalize=None)\n",
    "disp.ax_.set_title('Confusion matrix')\n",
    "print(\"F1 score : \", f1_score(y_predBinaireTest,y_testBinaire))"
   ]
  },
  {
   "cell_type": "markdown",
   "metadata": {},
   "source": [
    "Same question as for the Iris dataset: can you improve the results by tuning hyper-parameters or changing the kernel ?"
   ]
  },
  {
   "cell_type": "code",
   "execution_count": 21,
   "metadata": {},
   "outputs": [
    {
     "name": "stdout",
     "output_type": "stream",
     "text": [
      "learning done in 4.00 seconds\n"
     ]
    }
   ],
   "source": [
    "#default constructor\n",
    "## your job is to build a SVC classifier\n",
    "mySvc_3 = svm.SVC(kernel='rbf', C=4,decision_function_shape='ovo')\n",
    "#learning\n",
    "time_start = time.perf_counter()\n",
    "## your job is to train your SVC classifier \n",
    "mySvc_3.fit(x_trainBinaireLin,y_trainBinaire)\n",
    "\n",
    "time_elapsed = (time.perf_counter()-time_start)\n",
    "print(\"learning done in %.2f seconds\" %(time_elapsed))"
   ]
  },
  {
   "cell_type": "code",
   "execution_count": 22,
   "metadata": {},
   "outputs": [
    {
     "name": "stderr",
     "output_type": "stream",
     "text": [
      "C:\\Users\\Polytech\\anaconda3\\lib\\site-packages\\sklearn\\utils\\deprecation.py:87: FutureWarning: Function plot_confusion_matrix is deprecated; Function `plot_confusion_matrix` is deprecated in 1.0 and will be removed in 1.2. Use one of the class methods: ConfusionMatrixDisplay.from_predictions or ConfusionMatrixDisplay.from_estimator.\n",
      "  warnings.warn(msg, category=FutureWarning)\n"
     ]
    },
    {
     "name": "stdout",
     "output_type": "stream",
     "text": [
      "F1 score :  0.9984575835475578\n"
     ]
    },
    {
     "data": {
      "image/png": "[encoded data removed]",
      "text/plain": [
       "<Figure size 432x288 with 2 Axes>"
      ]
     },
     "metadata": {
      "needs_background": "light"
     },
     "output_type": "display_data"
    }
   ],
   "source": [
    "y_predBinaireTest = mySvc_3.predict(x_testBinaireLin)## compute the prediction of x_testBinaireLin using your learned classifier\n",
    "\n",
    "disp = plot_confusion_matrix(mySvc_3, x_testBinaireLin, y_testBinaire,\n",
    "                                 display_labels=[nameClass1,nameClass2],\n",
    "                                 cmap=plt.cm.Blues,\n",
    "                                 normalize=None)\n",
    "disp.ax_.set_title('Confusion matrix')\n",
    "print(\"F1 score : \", f1_score(y_predBinaireTest,y_testBinaire))"
   ]
  },
  {
   "cell_type": "markdown",
   "metadata": {},
   "source": [
    "## The whole dataset with the 10 classes"
   ]
  },
  {
   "cell_type": "code",
   "execution_count": 23,
   "metadata": {
    "ExecuteTime": {
     "end_time": "2021-10-26T14:03:24.824493Z",
     "start_time": "2021-10-26T14:03:24.815367Z"
    }
   },
   "outputs": [],
   "source": [
    "# your turn!\n",
    "# reshaping the data (a 2d image is transformed to a 1d array)\n",
    "#train\n",
    "n = x_train.shape[0]\n",
    "x_trainLin = x_train.reshape(n,-1)\n",
    "#test\n",
    "n = x_test.shape[0]\n",
    "x_testLin = x_test.reshape(n,-1)"
   ]
  },
  {
   "cell_type": "code",
   "execution_count": 24,
   "metadata": {
    "ExecuteTime": {
     "end_time": "2021-10-26T14:26:12.474626Z",
     "start_time": "2021-10-26T14:19:19.480629Z"
    }
   },
   "outputs": [
    {
     "name": "stdout",
     "output_type": "stream",
     "text": [
      "learning done in 240.40 seconds\n"
     ]
    }
   ],
   "source": [
    "#default constructor\n",
    "### your job is ....\n",
    "mysvc = svm.SVC(kernel='linear', C=1)#,decision_function_shape='ovr')\n",
    "#learning\n",
    "time_start = time.perf_counter()\n",
    "### your job is ...\n",
    "mysvc.fit(x_trainLin, y_train)\n",
    "time_elapsed = (time.perf_counter()-time_start)\n",
    "print(\"learning done in %.2f seconds\" %(time_elapsed))"
   ]
  },
  {
   "cell_type": "code",
   "execution_count": 25,
   "metadata": {
    "ExecuteTime": {
     "end_time": "2021-10-26T14:32:18.881441Z",
     "start_time": "2021-10-26T14:29:15.378865Z"
    }
   },
   "outputs": [
    {
     "name": "stderr",
     "output_type": "stream",
     "text": [
      "C:\\Users\\Polytech\\anaconda3\\lib\\site-packages\\sklearn\\utils\\deprecation.py:87: FutureWarning: Function plot_confusion_matrix is deprecated; Function `plot_confusion_matrix` is deprecated in 1.0 and will be removed in 1.2. Use one of the class methods: ConfusionMatrixDisplay.from_predictions or ConfusionMatrixDisplay.from_estimator.\n",
      "  warnings.warn(msg, category=FutureWarning)\n"
     ]
    },
    {
     "name": "stdout",
     "output_type": "stream",
     "text": [
      "F1 score :  [0.96423174 0.97905759 0.9311507  0.9216545  0.94768612 0.90734463\n",
      " 0.95337873 0.94146581 0.91832461 0.93084301]\n"
     ]
    },
    {
     "data": {
      "image/png": "[encoded data removed]",
      "text/plain": [
       "<Figure size 432x288 with 2 Axes>"
      ]
     },
     "metadata": {
      "needs_background": "light"
     },
     "output_type": "display_data"
    }
   ],
   "source": [
    "y_predTest = mysvc.predict(x_testLin) ##theNameOfYourClassifier.predict(x_testLin)\n",
    "\n",
    "disp = plot_confusion_matrix(mysvc, x_testLin, y_test, ##theNameOfYourClassifier, x_testLin, y_test,\n",
    "                                 display_labels=['0','1','2','3','4','5','6', '7', '8', '9'],\n",
    "                                 cmap=plt.cm.Blues,\n",
    "                                 normalize=None)\n",
    "disp.ax_.set_title('Confusion matrix')\n",
    "print(\"F1 score : \", f1_score(y_predTest,y_test, average=None))"
   ]
  },
  {
   "cell_type": "code",
   "execution_count": 26,
   "metadata": {
    "ExecuteTime": {
     "start_time": "2021-10-26T14:36:16.290Z"
    }
   },
   "outputs": [],
   "source": [
    "# from sklearn.model_selection import GridSearchCV\n",
    "# paramGrid = [\n",
    "# {'C':[0.1, 0.2, 0.5, 1, 2, 5, 10], 'kernel':['linear']},\n",
    "# {'C':[0.5, 1, 5, 10],'degree':[2,3],'coef0':[-1,0,1],'kernel':['poly']}\n",
    "# ]\n",
    "# searchBestParams = GridSearchCV(svm.SVC(), paramGrid, scoring='precision_macro')\n",
    "# searchBestParams.fit(x_trainLin, y_train)\n",
    "# #searchBestParams\n",
    "# means = searchBestParams.cv_results_['mean_test_score']\n",
    "# stds = searchBestParams.cv_results_['std_test_score']\n",
    "# for mean, std, params in zip(means, stds, searchBestParams.cv_results_['params']):\n",
    "#     print(\"%0.3f (+/-%0.03f) for %r\" % (mean, std * 2, params))\n",
    "# print()"
   ]
  },
  {
   "cell_type": "code",
   "execution_count": 27,
   "metadata": {},
   "outputs": [],
   "source": [
    "# using the best set of parameters, learn the SVM classifier (whole train set)\n",
    "# C = \n",
    "# kernel = ''"
   ]
  },
  {
   "cell_type": "markdown",
   "metadata": {},
   "source": [
    "## Do you obtain the same results with FMNIST ? (fashion MNIST)"
   ]
  },
  {
   "cell_type": "code",
   "execution_count": 1,
   "metadata": {},
   "outputs": [],
   "source": [
    "# your turn!\n",
    "# Load Fashion MINIST dataset\n",
    "from keras.datasets import fashion_mnist\n",
    "(X_train, y_train), (X_test, y_test) = fashion_mnist.load_data()"
   ]
  },
  {
   "cell_type": "code",
   "execution_count": 2,
   "metadata": {},
   "outputs": [
    {
     "data": {
      "text/plain": [
       "((60000, 28, 28), (60000,), (10000, 28, 28))"
      ]
     },
     "execution_count": 2,
     "metadata": {},
     "output_type": "execute_result"
    }
   ],
   "source": [
    "X_train.shape, y_train.shape, X_test.shape"
   ]
  },
  {
   "cell_type": "code",
   "execution_count": 3,
   "metadata": {},
   "outputs": [],
   "source": [
    "X_train = X_train/255.0\n",
    "X_test = X_test/255.0"
   ]
  },
  {
   "cell_type": "code",
   "execution_count": 4,
   "metadata": {},
   "outputs": [
    {
     "data": {
      "image/png": "[encoded data removed]",
      "text/plain": [
       "<Figure size 432x288 with 1 Axes>"
      ]
     },
     "metadata": {
      "needs_background": "light"
     },
     "output_type": "display_data"
    },
    {
     "name": "stdout",
     "output_type": "stream",
     "text": [
      "9\n"
     ]
    }
   ],
   "source": [
    "#display one of the pictures (the 11th in this code)\n",
    "import matplotlib.pyplot as plt\n",
    "i = 11 #index of the image: change it in order to display other images\n",
    "plt.imshow(X_train[i],aspect=\"auto\",cmap='gray')\n",
    "plt.show()\n",
    "print(y_train[i])"
   ]
  },
  {
   "cell_type": "code",
   "execution_count": 7,
   "metadata": {},
   "outputs": [],
   "source": [
    "# case of binary classification: we choose coats and bags\n",
    "\n",
    "# you can change the classes\n",
    "class1 = 4 #negative class 'coats'\n",
    "class2 = 8 #positive class 'bags'\n",
    "nameClass1 = '4'\n",
    "nameClass2 = '8'\n",
    "mesClassesTrain = (y_train==class1)|(y_train==class2)\n",
    "mesClassesTest = (y_test==class1)|(y_test==class2)\n",
    "\n",
    "## TRAIN\n",
    "X_trainBinaire = np.array(X_train[mesClassesTrain,:])\n",
    "y_trainBinaire = np.array((y_train[mesClassesTrain]-class1)/(class2-class1))\n",
    "\n",
    "## TEST\n",
    "X_testBinaire = np.array(X_test[mesClassesTest,:])\n",
    "y_testBinaire = np.array((y_test[mesClassesTest]-class1)/(class2-class1))"
   ]
  },
  {
   "cell_type": "code",
   "execution_count": 9,
   "metadata": {},
   "outputs": [
    {
     "data": {
      "text/plain": [
       "(12000, 28, 28)"
      ]
     },
     "execution_count": 9,
     "metadata": {},
     "output_type": "execute_result"
    }
   ],
   "source": [
    "X_trainBinaire.shape"
   ]
  },
  {
   "cell_type": "code",
   "execution_count": 10,
   "metadata": {},
   "outputs": [],
   "source": [
    "# reshaping the data (a 2d image is transformed to a 1d array)\n",
    "#train\n",
    "n = X_trainBinaire.shape[0]\n",
    "X_trainBinaireLin = X_trainBinaire.reshape(n,-1)\n",
    "#test\n",
    "n = X_testBinaire.shape[0]\n",
    "X_testBinaireLin = X_testBinaire.reshape(n,-1)"
   ]
  },
  {
   "cell_type": "code",
   "execution_count": 11,
   "metadata": {},
   "outputs": [
    {
     "name": "stdout",
     "output_type": "stream",
     "text": [
      "learning done in 5.69 seconds\n"
     ]
    }
   ],
   "source": [
    "#default constructor\n",
    "## your job is to build a SVC classifier\n",
    "mySvc_3 = svm.SVC(kernel='linear', C=4,decision_function_shape='ovo')\n",
    "#learning\n",
    "time_start = time.perf_counter()\n",
    "## your job is to train your SVC classifier \n",
    "mySvc_3.fit(X_trainBinaireLin,y_trainBinaire)\n",
    "\n",
    "time_elapsed = (time.perf_counter()-time_start)\n",
    "print(\"learning done in %.2f seconds\" %(time_elapsed))"
   ]
  },
  {
   "cell_type": "code",
   "execution_count": 12,
   "metadata": {},
   "outputs": [
    {
     "name": "stderr",
     "output_type": "stream",
     "text": [
      "C:\\Users\\Polytech\\anaconda3\\lib\\site-packages\\sklearn\\utils\\deprecation.py:87: FutureWarning: Function plot_confusion_matrix is deprecated; Function `plot_confusion_matrix` is deprecated in 1.0 and will be removed in 1.2. Use one of the class methods: ConfusionMatrixDisplay.from_predictions or ConfusionMatrixDisplay.from_estimator.\n",
      "  warnings.warn(msg, category=FutureWarning)\n"
     ]
    },
    {
     "name": "stdout",
     "output_type": "stream",
     "text": [
      "F1 score :  0.9839839839839841\n"
     ]
    },
    {
     "data": {
      "image/png": "[encoded data removed]",
      "text/plain": [
       "<Figure size 432x288 with 2 Axes>"
      ]
     },
     "metadata": {
      "needs_background": "light"
     },
     "output_type": "display_data"
    }
   ],
   "source": [
    "y_predBinaireTest = mySvc_3.predict(X_testBinaireLin)## compute the prediction of x_testBinaire\n",
    "\n",
    "disp = plot_confusion_matrix(mySvc_3, X_testBinaireLin, y_testBinaire,\n",
    "                                 display_labels=[nameClass1,nameClass2],\n",
    "                                 cmap=plt.cm.Blues,\n",
    "                                 normalize=None)\n",
    "disp.ax_.set_title('Confusion matrix')\n",
    "print(\"F1 score : \", f1_score(y_predBinaireTest,y_testBinaire))"
   ]
  },
  {
   "cell_type": "code",
   "execution_count": 13,
   "metadata": {},
   "outputs": [],
   "source": [
    "# your turn!\n",
    "# reshaping the data (a 2d image is transformed to a 1d array)\n",
    "#train\n",
    "n = X_train.shape[0]\n",
    "X_trainLin = X_train.reshape(n,-1)\n",
    "#test\n",
    "n = X_test.shape[0]\n",
    "X_testLin = X_test.reshape(n,-1)"
   ]
  },
  {
   "cell_type": "code",
   "execution_count": 15,
   "metadata": {},
   "outputs": [
    {
     "name": "stdout",
     "output_type": "stream",
     "text": [
      "learning done in 497.91 seconds\n"
     ]
    }
   ],
   "source": [
    "#default constructor\n",
    "### your job is ....\n",
    "mysvc4 = svm.SVC(kernel='linear', C=1)#,decision_function_shape='ovr')\n",
    "#learning\n",
    "time_start = time.perf_counter()\n",
    "### your job is ...\n",
    "mysvc4.fit(X_trainLin, y_train)\n",
    "time_elapsed = (time.perf_counter()-time_start)\n",
    "print(\"learning done in %.2f seconds\" %(time_elapsed))"
   ]
  },
  {
   "cell_type": "code",
   "execution_count": 16,
   "metadata": {},
   "outputs": [
    {
     "name": "stderr",
     "output_type": "stream",
     "text": [
      "C:\\Users\\Polytech\\anaconda3\\lib\\site-packages\\sklearn\\utils\\deprecation.py:87: FutureWarning: Function plot_confusion_matrix is deprecated; Function `plot_confusion_matrix` is deprecated in 1.0 and will be removed in 1.2. Use one of the class methods: ConfusionMatrixDisplay.from_predictions or ConfusionMatrixDisplay.from_estimator.\n",
      "  warnings.warn(msg, category=FutureWarning)\n"
     ]
    },
    {
     "name": "stdout",
     "output_type": "stream",
     "text": [
      "F1 score :  [0.78177458 0.96683417 0.75171065 0.84665661 0.7693837  0.93366584\n",
      " 0.5943945  0.92704715 0.93718338 0.94831912]\n"
     ]
    },
    {
     "data": {
      "image/png": "[encoded data removed]",
      "text/plain": [
       "<Figure size 432x288 with 2 Axes>"
      ]
     },
     "metadata": {
      "needs_background": "light"
     },
     "output_type": "display_data"
    }
   ],
   "source": [
    "y_predTest = mysvc4.predict(X_testLin) ##theNameOfYourClassifier.predict(x_testLin)\n",
    "\n",
    "disp = plot_confusion_matrix(mysvc4, X_testLin, y_test, ##theNameOfYourClassifier, x_testLin, y_test,\n",
    "                                 display_labels=['0','1','2','3','4','5','6', '7', '8', '9'],\n",
    "                                 cmap=plt.cm.Blues,\n",
    "                                 normalize=None)\n",
    "disp.ax_.set_title('Confusion matrix')\n",
    "print(\"F1 score : \", f1_score(y_predTest,y_test, average=None))"
   ]
  },
  {
   "cell_type": "markdown",
   "metadata": {},
   "source": [
    "## Active learning with SVM"
   ]
  },
  {
   "cell_type": "code",
   "execution_count": 76,
   "metadata": {},
   "outputs": [],
   "source": [
    "import pandas as pd\n",
    "import numpy as np\n",
    "from tensorflow.keras.datasets import mnist\n",
    "import matplotlib.pyplot as plt\n",
    "import random\n",
    "import cv2\n",
    "from sklearn import svm\n",
    "from sklearn.metrics import confusion_matrix, classification_report"
   ]
  },
  {
   "cell_type": "code",
   "execution_count": 77,
   "metadata": {},
   "outputs": [],
   "source": [
    "((trainX, trainY), (testX, testY)) = mnist.load_data()"
   ]
  },
  {
   "cell_type": "code",
   "execution_count": 78,
   "metadata": {},
   "outputs": [],
   "source": [
    "def hog_feature_extractor(hog_extractor, im):\n",
    "    \n",
    "    descriptor = hog_extractor.compute(im)\n",
    "    \n",
    "    return descriptor\n",
    "# Hog Parameters\n",
    "winSize = (28,28)\n",
    "blockSize = (14,14)\n",
    "blockStride = (7,7)\n",
    "cellSize = (7,7)\n",
    "nbins = 9\n",
    "derivAperture = 1\n",
    "winSigma = -1.\n",
    "histogramNormType = 0\n",
    "L2HysThreshold = 0.2\n",
    "gammaCorrection = 1\n",
    "nlevels = 64\n",
    "useSignedGradients = True\n",
    "hog = cv2.HOGDescriptor(winSize,blockSize,blockStride,cellSize,nbins,derivAperture,winSigma,histogramNormType,L2HysThreshold,gammaCorrection,nlevels, useSignedGradients)"
   ]
  },
  {
   "cell_type": "code",
   "execution_count": 79,
   "metadata": {},
   "outputs": [],
   "source": [
    "def show_sample(x,y,i):\n",
    "    print(\"Label: {}\".format(y[i]))\n",
    "    plt.imshow(x[i], cmap=\"gray\");"
   ]
  },
  {
   "cell_type": "code",
   "execution_count": 80,
   "metadata": {},
   "outputs": [],
   "source": [
    "df_x = trainX\n",
    "df_y = trainY"
   ]
  },
  {
   "cell_type": "code",
   "execution_count": 81,
   "metadata": {},
   "outputs": [
    {
     "name": "stdout",
     "output_type": "stream",
     "text": [
      "{0, 1, 2, 3, 4, 5, 6, 7, 8, 9}\n"
     ]
    }
   ],
   "source": [
    "#Lets see our labels\n",
    "nclasses = set(df_y)\n",
    "print(nclasses)"
   ]
  },
  {
   "cell_type": "code",
   "execution_count": 82,
   "metadata": {},
   "outputs": [
    {
     "name": "stdout",
     "output_type": "stream",
     "text": [
      "There are '5923' images for class label '0' and selected only '59' for active learning.\n",
      "----\n",
      "There are '6742' images for class label '1' and selected only '67' for active learning.\n",
      "----\n",
      "There are '5958' images for class label '2' and selected only '59' for active learning.\n",
      "----\n",
      "There are '6131' images for class label '3' and selected only '61' for active learning.\n",
      "----\n",
      "There are '5842' images for class label '4' and selected only '58' for active learning.\n",
      "----\n",
      "There are '5421' images for class label '5' and selected only '54' for active learning.\n",
      "----\n",
      "There are '5918' images for class label '6' and selected only '59' for active learning.\n",
      "----\n",
      "There are '6265' images for class label '7' and selected only '62' for active learning.\n",
      "----\n",
      "There are '5851' images for class label '8' and selected only '58' for active learning.\n",
      "----\n",
      "There are '5949' images for class label '9' and selected only '59' for active learning.\n",
      "----\n"
     ]
    }
   ],
   "source": [
    "# what percentage of data is used initially\n",
    "percentage = 1\n",
    "selected_indices = []\n",
    "for c in nclasses:\n",
    "    \n",
    "    indices_c = list(np.where(df_y == c))[0]\n",
    "    len_c = len(list(np.where(df_y == c))[0])\n",
    "    len_c_subset = int(len_c * percentage / 100)\n",
    "    \n",
    "    df_c_subset = random.sample(list(indices_c), len_c_subset)\n",
    "    selected_indices += df_c_subset\n",
    "    \n",
    "    print(\"There are '{}' images for class label '{}' and selected only '{}' for active learning.\".format(len_c, c, len_c_subset))\n",
    "    print(\"----\")\n",
    "    \n",
    "df_subset_x = df_x[selected_indices]\n",
    "df_subset_y = df_y[selected_indices]"
   ]
  },
  {
   "cell_type": "code",
   "execution_count": 83,
   "metadata": {},
   "outputs": [
    {
     "name": "stdout",
     "output_type": "stream",
     "text": [
      "Subset (596, 28, 28), (596,)\n"
     ]
    }
   ],
   "source": [
    "print(\"Subset {}, {}\".format(df_subset_x.shape, df_subset_y.shape))"
   ]
  },
  {
   "cell_type": "code",
   "execution_count": 84,
   "metadata": {},
   "outputs": [
    {
     "name": "stdout",
     "output_type": "stream",
     "text": [
      "Remainder (59404, 28, 28), (59404,)\n"
     ]
    }
   ],
   "source": [
    "#the remaning set\n",
    "df_remainder_x = np.delete(df_x, selected_indices, axis=0)\n",
    "df_remainder_y = np.delete(df_y, selected_indices, axis=0)\n",
    "print(\"Remainder {}, {}\".format(df_remainder_x.shape, df_remainder_y.shape))"
   ]
  },
  {
   "cell_type": "code",
   "execution_count": 85,
   "metadata": {},
   "outputs": [],
   "source": [
    "# Feature Extraction\n",
    "df_subset_x_hog = []\n",
    "for elem in df_subset_x:\n",
    "    df_subset_x_hog.append(hog_feature_extractor(hog, elem).reshape(-1))\n",
    "df_remainder_x_hog = []\n",
    "for elem in df_remainder_x:\n",
    "    df_remainder_x_hog.append(hog_feature_extractor(hog, elem).reshape(-1))\n",
    "df_subset_y_hog = list(df_subset_y.copy())\n",
    "df_remainder_y_hog = list(df_remainder_y.copy())"
   ]
  },
  {
   "cell_type": "code",
   "execution_count": 91,
   "metadata": {},
   "outputs": [
    {
     "name": "stdout",
     "output_type": "stream",
     "text": [
      "Iteration: 0 has done...\n",
      "Iteration: 1 has done...\n",
      "Iteration: 2 has done...\n",
      "Iteration: 3 has done...\n",
      "Iteration: 4 has done...\n",
      "Iteration: 5 has done...\n",
      "Iteration: 6 has done...\n",
      "Iteration: 7 has done...\n",
      "Iteration: 8 has done...\n",
      "Iteration: 9 has done...\n"
     ]
    }
   ],
   "source": [
    "for iteration in range(10):\n",
    "    \n",
    "    clf=svm.LinearSVC()\n",
    "    clf.fit(df_subset_x_hog, df_subset_y_hog)\n",
    "    \n",
    "    res = clf._predict_proba_lr(df_remainder_x_hog)\n",
    "    \n",
    "    # Params for unlabeled samples\n",
    "    threshold = 0.75 - (iteration * 0.05)\n",
    "    del_indices = []\n",
    "    for sample_counter in range(len(res)):\n",
    "        \n",
    "        if res[sample_counter][np.argmax(res[sample_counter])] > threshold:\n",
    "            predicted_label = np.argmax(res[sample_counter])\n",
    "            df_subset_x_hog.append(list(df_remainder_x_hog[sample_counter]))\n",
    "            df_subset_y_hog.append(df_remainder_y_hog[sample_counter])\n",
    "            del_indices.append(sample_counter)\n",
    "    \n",
    "    df_remainder_x_hog = [i for j, i in enumerate(df_remainder_x_hog) if j not in del_indices]\n",
    "    df_remainder_y_hog = [i for j, i in enumerate(df_remainder_y_hog) if j not in del_indices]\n",
    "    \n",
    "    print(\"Iteration: {} has done...\".format(iteration))"
   ]
  },
  {
   "cell_type": "markdown",
   "metadata": {},
   "source": [
    "Start with few annoted data and iterate by asking new labelled data and re-learn SVM separation. Try different selection of new labelled data."
   ]
  },
  {
   "cell_type": "markdown",
   "metadata": {},
   "source": [
    "## Reduction of the dataset"
   ]
  },
  {
   "cell_type": "markdown",
   "metadata": {},
   "source": [
    "Suffle and divide the train dataset by 2 multiple time. For each division, learn a SVM classifier and test the performances."
   ]
  },
  {
   "cell_type": "markdown",
   "metadata": {},
   "source": [
    "## Classification of images"
   ]
  },
  {
   "cell_type": "markdown",
   "metadata": {},
   "source": [
    "Represent the images using a deep CNN and perform the classification using SVM. "
   ]
  }
 ],
 "metadata": {
  "hide_input": false,
  "kernelspec": {
   "display_name": "Python 3 (ipykernel)",
   "language": "python",
   "name": "python3"
  },
  "language_info": {
   "codemirror_mode": {
    "name": "ipython",
    "version": 3
   },
   "file_extension": ".py",
   "mimetype": "text/x-python",
   "name": "python",
   "nbconvert_exporter": "python",
   "pygments_lexer": "ipython3",
   "version": "3.8.12"
  },
  "latex_envs": {
   "LaTeX_envs_menu_present": true,
   "autoclose": false,
   "autocomplete": true,
   "bibliofile": "biblio.bib",
   "cite_by": "apalike",
   "current_citInitial": 1,
   "eqLabelWithNumbers": true,
   "eqNumInitial": 1,
   "hotkeys": {
    "equation": "Ctrl-E",
    "itemize": "Ctrl-I"
   },
   "labels_anchors": false,
   "latex_user_defs": false,
   "report_style_numbering": false,
   "user_envs_cfg": false
  },
  "varInspector": {
   "cols": {
    "lenName": 16,
    "lenType": 16,
    "lenVar": 40
   },
   "kernels_config": {
    "python": {
     "delete_cmd_postfix": "",
     "delete_cmd_prefix": "del ",
     "library": "var_list.py",
     "varRefreshCmd": "print(var_dic_list())"
    },
    "r": {
     "delete_cmd_postfix": ") ",
     "delete_cmd_prefix": "rm(",
     "library": "var_list.r",
     "varRefreshCmd": "cat(var_dic_list()) "
    }
   },
   "types_to_exclude": [
    "module",
    "function",
    "builtin_function_or_method",
    "instance",
    "_Feature"
   ],
   "window_display": false
  }
 },
 "nbformat": 4,
 "nbformat_minor": 2
}
