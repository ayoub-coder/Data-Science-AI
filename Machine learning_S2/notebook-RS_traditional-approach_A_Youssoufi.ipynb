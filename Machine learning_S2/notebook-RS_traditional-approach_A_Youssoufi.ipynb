{
 "cells": [
  {
   "cell_type": "markdown",
   "metadata": {},
   "source": [
    "# Recommender Systems - notebook 1 - Traditional Approaches"
   ]
  },
  {
   "cell_type": "code",
   "execution_count": 2,
   "metadata": {
    "ExecuteTime": {
     "end_time": "2022-01-28T08:06:52.043588Z",
     "start_time": "2022-01-28T08:06:52.035995Z"
    }
   },
   "outputs": [
    {
     "data": {
      "text/html": [
       "<div id=\"my_id_menu_nb\">run previous cell, wait for 2 seconds</div>\n",
       "<script>\n",
       "function repeat_indent_string(n){\n",
       "    var a = \"\" ;\n",
       "    for ( ; n > 0 ; --n)\n",
       "        a += \"    \";\n",
       "    return a;\n",
       "}\n",
       "// look up into all sections and builds an automated menu //\n",
       "var update_menu_string = function(begin, lfirst, llast, sformat, send, keep_item, begin_format, end_format) {\n",
       "    var anchors = document.getElementsByClassName(\"section\");\n",
       "    if (anchors.length == 0) {\n",
       "        anchors = document.getElementsByClassName(\"text_cell_render rendered_html\");\n",
       "    }\n",
       "    var i,t;\n",
       "    var text_menu = begin;\n",
       "    var text_memo = \"<pre>\\nlength:\" + anchors.length + \"\\n\";\n",
       "    var ind = \"\";\n",
       "    var memo_level = 1;\n",
       "    var href;\n",
       "    var tags = [];\n",
       "    var main_item = 0;\n",
       "    var format_open = 0;\n",
       "    for (i = 0; i <= llast; i++)\n",
       "        tags.push(\"h\" + i);\n",
       "\n",
       "    for (i = 0; i < anchors.length; i++) {\n",
       "        text_memo += \"**\" + anchors[i].id + \"--\\n\";\n",
       "\n",
       "        var child = null;\n",
       "        for(t = 0; t < tags.length; t++) {\n",
       "            var r = anchors[i].getElementsByTagName(tags[t]);\n",
       "            if (r.length > 0) {\n",
       "child = r[0];\n",
       "break;\n",
       "            }\n",
       "        }\n",
       "        if (child == null) {\n",
       "            text_memo += \"null\\n\";\n",
       "            continue;\n",
       "        }\n",
       "        if (anchors[i].hasAttribute(\"id\")) {\n",
       "            // when converted in RST\n",
       "            href = anchors[i].id;\n",
       "            text_memo += \"#1-\" + href;\n",
       "            // passer à child suivant (le chercher)\n",
       "        }\n",
       "        else if (child.hasAttribute(\"id\")) {\n",
       "            // in a notebook\n",
       "            href = child.id;\n",
       "            text_memo += \"#2-\" + href;\n",
       "        }\n",
       "        else {\n",
       "            text_memo += \"#3-\" + \"*\" + \"\\n\";\n",
       "            continue;\n",
       "        }\n",
       "        var title = child.textContent;\n",
       "        var level = parseInt(child.tagName.substring(1,2));\n",
       "\n",
       "        text_memo += \"--\" + level + \"?\" + lfirst + \"--\" + title + \"\\n\";\n",
       "\n",
       "        if ((level < lfirst) || (level > llast)) {\n",
       "            continue ;\n",
       "        }\n",
       "        if (title.endsWith('¶')) {\n",
       "            title = title.substring(0,title.length-1).replace(\"<\", \"&lt;\")\n",
       "         .replace(\">\", \"&gt;\").replace(\"&\", \"&amp;\");\n",
       "        }\n",
       "        if (title.length == 0) {\n",
       "            continue;\n",
       "        }\n",
       "\n",
       "        while (level < memo_level) {\n",
       "            text_menu += end_format + \"</ul>\\n\";\n",
       "            format_open -= 1;\n",
       "            memo_level -= 1;\n",
       "        }\n",
       "        if (level == lfirst) {\n",
       "            main_item += 1;\n",
       "        }\n",
       "        if (keep_item != -1 && main_item != keep_item + 1) {\n",
       "            // alert(main_item + \" - \" + level + \" - \" + keep_item);\n",
       "            continue;\n",
       "        }\n",
       "        while (level > memo_level) {\n",
       "            text_menu += \"<ul>\\n\";\n",
       "            memo_level += 1;\n",
       "        }\n",
       "        text_menu += repeat_indent_string(level-2);\n",
       "        text_menu += begin_format + sformat.replace(\"__HREF__\", href).replace(\"__TITLE__\", title);\n",
       "        format_open += 1;\n",
       "    }\n",
       "    while (1 < memo_level) {\n",
       "        text_menu += end_format + \"</ul>\\n\";\n",
       "        memo_level -= 1;\n",
       "        format_open -= 1;\n",
       "    }\n",
       "    text_menu += send;\n",
       "    //text_menu += \"\\n\" + text_memo;\n",
       "\n",
       "    while (format_open > 0) {\n",
       "        text_menu += end_format;\n",
       "        format_open -= 1;\n",
       "    }\n",
       "    return text_menu;\n",
       "};\n",
       "var update_menu = function() {\n",
       "    var sbegin = \"\";\n",
       "    var sformat = '<a href=\"#__HREF__\">__TITLE__</a>';\n",
       "    var send = \"\";\n",
       "    var begin_format = '<li>';\n",
       "    var end_format = '</li>';\n",
       "    var keep_item = -1;\n",
       "    var text_menu = update_menu_string(sbegin, 2, 4, sformat, send, keep_item,\n",
       "       begin_format, end_format);\n",
       "    var menu = document.getElementById(\"my_id_menu_nb\");\n",
       "    menu.innerHTML=text_menu;\n",
       "};\n",
       "window.setTimeout(update_menu,2000);\n",
       "            </script>"
      ],
      "text/plain": [
       "<IPython.core.display.HTML object>"
      ]
     },
     "execution_count": 2,
     "metadata": {},
     "output_type": "execute_result"
    }
   ],
   "source": [
    "\"\"\"\n",
    "(Practical tip) Table of contents can be compiled directly in jupyter notebooks using the following code:\n",
    "I set an exception: if the package is in your installation you can import it otherwise you download it \n",
    "then import it.\n",
    "\"\"\"\n",
    "try:\n",
    "    from jyquickhelper import add_notebook_menu \n",
    "except:\n",
    "    !pip install jyquickhelper\n",
    "    from jyquickhelper import add_notebook_menu\n",
    "    \n",
    "\"\"\"\n",
    "Output Table of contents to navigate easily in the notebook. \n",
    "For interested readers, the package also includes Ipython magic commands to go back to this cell\n",
    "wherever you are in the notebook to look for cells faster\n",
    "\"\"\"\n",
    "add_notebook_menu()"
   ]
  },
  {
   "cell_type": "markdown",
   "metadata": {},
   "source": [
    "## Imports"
   ]
  },
  {
   "cell_type": "code",
   "execution_count": 3,
   "metadata": {
    "ExecuteTime": {
     "end_time": "2022-01-28T08:06:52.693074Z",
     "start_time": "2022-01-28T08:06:52.688130Z"
    }
   },
   "outputs": [],
   "source": [
    "import ssl\n",
    "\n",
    "ssl._create_default_https_context = ssl._create_unverified_context"
   ]
  },
  {
   "cell_type": "code",
   "execution_count": 4,
   "metadata": {
    "ExecuteTime": {
     "end_time": "2022-01-28T08:06:52.992556Z",
     "start_time": "2022-01-28T08:06:52.986422Z"
    }
   },
   "outputs": [],
   "source": [
    "from tqdm import tqdm\n",
    "import pandas as pd\n",
    "import numpy as np\n",
    "\n"
   ]
  },
  {
   "cell_type": "markdown",
   "metadata": {},
   "source": [
    "## Dataset description"
   ]
  },
  {
   "cell_type": "markdown",
   "metadata": {},
   "source": [
    "We use here the MovieLens 100K Dataset. It contain 100,000 ratings from 1000 users on 1700 movies.\n",
    "\n",
    "* u.train / u.test part of the original u.data information\n",
    "    * The full u data set, 100000 ratings by 943 users on 1682 items.\n",
    "              Each user has rated at least 20 movies.  Users and items are\n",
    "              numbered consecutively from 1.  The data is randomly\n",
    "              ordered. This is a tab separated list of \n",
    "\t         user id | item id | rating | timestamp. \n",
    "              The time stamps are unix seconds since 1/1/1970 UTC   \n",
    "* u.info\n",
    "    * The number of users, items, and ratings in the u data set.\n",
    "* u.item\n",
    "    * Information about the items (movies); this is a tab separated\n",
    "              list of\n",
    "              movie id | movie title | release date | video release date |\n",
    "              IMDb URL | unknown | Action | Adventure | Animation |\n",
    "              Children's | Comedy | Crime | Documentary | Drama | Fantasy |\n",
    "              Film-Noir | Horror | Musical | Mystery | Romance | Sci-Fi |\n",
    "              Thriller | War | Western |\n",
    "              The last 19 fields are the genres, a 1 indicates the movie\n",
    "              is of that genre, a 0 indicates it is not; movies can be in\n",
    "              several genres at once.\n",
    "              The movie ids are the ones used in the u.data data set.\n",
    "* u.genre\n",
    "    * A list of the genres.\n",
    "* u.user\n",
    "    * Demographic information about the users; this is a tab\n",
    "              separated list of\n",
    "              user id | age | gender | occupation | zip code\n",
    "              The user ids are the ones used in the u.data data set."
   ]
  },
  {
   "cell_type": "code",
   "execution_count": 5,
   "metadata": {
    "ExecuteTime": {
     "end_time": "2022-01-28T08:06:54.632321Z",
     "start_time": "2022-01-28T08:06:54.625998Z"
    }
   },
   "outputs": [],
   "source": [
    "path = \"https://www.i3s.unice.fr/~riveill/dataset/dataset_movilens_100K/\" "
   ]
  },
  {
   "cell_type": "markdown",
   "metadata": {},
   "source": [
    "Before we build our model, it is important to understand the distinction between implicit and explicit feedback, and why modern recommender systems are built on implicit feedback.\n",
    "\n",
    "* **Explicit Feedback:** in the context of recommender systems, explicit feedback are direct and quantitative data collected from users.\n",
    "* **Implicit Feedback:** on the other hand, implicit feedback are collected indirectly from user interactions, and they act as a proxy for user preference. \n",
    "\n",
    "The advantage of implicit feedback is that it is abundant. Recommender systems built using implicit feedback allow recommendations to be adapted in real time, with each click and interaction.\n",
    "\n",
    "Today, online recommender systems are built using implicit feedback."
   ]
  },
  {
   "cell_type": "markdown",
   "metadata": {},
   "source": [
    "### Data preprocessing"
   ]
  },
  {
   "cell_type": "code",
   "execution_count": 6,
   "metadata": {
    "ExecuteTime": {
     "end_time": "2022-01-28T08:08:04.129836Z",
     "start_time": "2022-01-28T08:08:03.609835Z"
    }
   },
   "outputs": [
    {
     "name": "stdout",
     "output_type": "stream",
     "text": [
      "Nb ratings: 100000\n"
     ]
    },
    {
     "data": {
      "text/html": [
       "<div>\n",
       "<style scoped>\n",
       "    .dataframe tbody tr th:only-of-type {\n",
       "        vertical-align: middle;\n",
       "    }\n",
       "\n",
       "    .dataframe tbody tr th {\n",
       "        vertical-align: top;\n",
       "    }\n",
       "\n",
       "    .dataframe thead th {\n",
       "        text-align: right;\n",
       "    }\n",
       "</style>\n",
       "<table border=\"1\" class=\"dataframe\">\n",
       "  <thead>\n",
       "    <tr style=\"text-align: right;\">\n",
       "      <th></th>\n",
       "      <th>userId</th>\n",
       "      <th>movieId</th>\n",
       "      <th>rating</th>\n",
       "      <th>timestamp</th>\n",
       "    </tr>\n",
       "  </thead>\n",
       "  <tbody>\n",
       "    <tr>\n",
       "      <th>214</th>\n",
       "      <td>259</td>\n",
       "      <td>255</td>\n",
       "      <td>4</td>\n",
       "      <td>874724710</td>\n",
       "    </tr>\n",
       "    <tr>\n",
       "      <th>83965</th>\n",
       "      <td>259</td>\n",
       "      <td>286</td>\n",
       "      <td>4</td>\n",
       "      <td>874724727</td>\n",
       "    </tr>\n",
       "    <tr>\n",
       "      <th>43027</th>\n",
       "      <td>259</td>\n",
       "      <td>298</td>\n",
       "      <td>4</td>\n",
       "      <td>874724754</td>\n",
       "    </tr>\n",
       "    <tr>\n",
       "      <th>21396</th>\n",
       "      <td>259</td>\n",
       "      <td>185</td>\n",
       "      <td>4</td>\n",
       "      <td>874724781</td>\n",
       "    </tr>\n",
       "    <tr>\n",
       "      <th>82655</th>\n",
       "      <td>259</td>\n",
       "      <td>173</td>\n",
       "      <td>4</td>\n",
       "      <td>874724843</td>\n",
       "    </tr>\n",
       "  </tbody>\n",
       "</table>\n",
       "</div>"
      ],
      "text/plain": [
       "       userId  movieId  rating  timestamp\n",
       "214       259      255       4  874724710\n",
       "83965     259      286       4  874724727\n",
       "43027     259      298       4  874724754\n",
       "21396     259      185       4  874724781\n",
       "82655     259      173       4  874724843"
      ]
     },
     "execution_count": 6,
     "metadata": {},
     "output_type": "execute_result"
    }
   ],
   "source": [
    "# Load data\n",
    "np.random.seed(123)\n",
    "\n",
    "ratings = pd.read_csv(path+'u.data', sep='\\t', header=None,\n",
    "                            names=['userId', 'movieId', 'rating', 'timestamp'])\n",
    "ratings = ratings.sort_values(['timestamp'], ascending=True)\n",
    "print(\"Nb ratings:\", len(ratings))\n",
    "ratings.head()"
   ]
  },
  {
   "cell_type": "markdown",
   "metadata": {},
   "source": [
    "### Data splitting\n",
    "\n",
    "Separating the dataset between train and test in a random fashion would not be fair, as we could potentially use a user's recent evaluations for training and previous evaluations. This introduces a data leakage with an anticipation bias, and the performance of the trained model would not be generalizable to real world performance.\n",
    "\n",
    "Therefore, we need to slice the train and test based on the timestamp\n"
   ]
  },
  {
   "cell_type": "code",
   "execution_count": 7,
   "metadata": {
    "ExecuteTime": {
     "end_time": "2022-01-28T08:08:05.288562Z",
     "start_time": "2022-01-28T08:08:05.261886Z"
    }
   },
   "outputs": [
    {
     "data": {
      "text/plain": [
       "True"
      ]
     },
     "execution_count": 7,
     "metadata": {},
     "output_type": "execute_result"
    }
   ],
   "source": [
    "# Split dataset\n",
    "train_ratings, test_ratings = np.split(ratings, [int(.9*len(ratings))])\n",
    "\n",
    "max(train_ratings['timestamp']) <= min(test_ratings['timestamp'])"
   ]
  },
  {
   "cell_type": "code",
   "execution_count": 8,
   "metadata": {
    "ExecuteTime": {
     "end_time": "2022-01-28T08:08:05.846628Z",
     "start_time": "2022-01-28T08:08:05.827938Z"
    }
   },
   "outputs": [
    {
     "data": {
      "text/plain": [
       "(90000, 10000)"
      ]
     },
     "execution_count": 8,
     "metadata": {},
     "output_type": "execute_result"
    }
   ],
   "source": [
    "# drop columns that we no longer need\n",
    "train_ratings = train_ratings[['userId', 'movieId', 'rating']]\n",
    "test_ratings = test_ratings[['userId', 'movieId', 'rating']]\n",
    "\n",
    "len(train_ratings), len(test_ratings)"
   ]
  },
  {
   "cell_type": "code",
   "execution_count": 9,
   "metadata": {
    "ExecuteTime": {
     "end_time": "2022-01-28T08:08:06.414385Z",
     "start_time": "2022-01-28T08:08:06.407548Z"
    }
   },
   "outputs": [],
   "source": [
    "# Get a list of all movie IDs\n",
    "all_movieIds = ratings['movieId'].unique()"
   ]
  },
  {
   "cell_type": "markdown",
   "metadata": {},
   "source": [
    "### Build pivot table"
   ]
  },
  {
   "cell_type": "code",
   "execution_count": 10,
   "metadata": {
    "ExecuteTime": {
     "end_time": "2022-01-28T08:08:08.972810Z",
     "start_time": "2022-01-28T08:08:08.828378Z"
    }
   },
   "outputs": [
    {
     "name": "stdout",
     "output_type": "stream",
     "text": [
      "Nb users:  867\n",
      "Nb movies: 1637\n"
     ]
    },
    {
     "data": {
      "text/html": [
       "<div>\n",
       "<style scoped>\n",
       "    .dataframe tbody tr th:only-of-type {\n",
       "        vertical-align: middle;\n",
       "    }\n",
       "\n",
       "    .dataframe tbody tr th {\n",
       "        vertical-align: top;\n",
       "    }\n",
       "\n",
       "    .dataframe thead th {\n",
       "        text-align: right;\n",
       "    }\n",
       "</style>\n",
       "<table border=\"1\" class=\"dataframe\">\n",
       "  <thead>\n",
       "    <tr style=\"text-align: right;\">\n",
       "      <th>movieId</th>\n",
       "      <th>1</th>\n",
       "      <th>2</th>\n",
       "      <th>3</th>\n",
       "      <th>4</th>\n",
       "      <th>5</th>\n",
       "      <th>6</th>\n",
       "      <th>7</th>\n",
       "      <th>8</th>\n",
       "      <th>9</th>\n",
       "      <th>10</th>\n",
       "      <th>...</th>\n",
       "      <th>1673</th>\n",
       "      <th>1674</th>\n",
       "      <th>1675</th>\n",
       "      <th>1676</th>\n",
       "      <th>1677</th>\n",
       "      <th>1678</th>\n",
       "      <th>1679</th>\n",
       "      <th>1680</th>\n",
       "      <th>1681</th>\n",
       "      <th>1682</th>\n",
       "    </tr>\n",
       "    <tr>\n",
       "      <th>userId</th>\n",
       "      <th></th>\n",
       "      <th></th>\n",
       "      <th></th>\n",
       "      <th></th>\n",
       "      <th></th>\n",
       "      <th></th>\n",
       "      <th></th>\n",
       "      <th></th>\n",
       "      <th></th>\n",
       "      <th></th>\n",
       "      <th></th>\n",
       "      <th></th>\n",
       "      <th></th>\n",
       "      <th></th>\n",
       "      <th></th>\n",
       "      <th></th>\n",
       "      <th></th>\n",
       "      <th></th>\n",
       "      <th></th>\n",
       "      <th></th>\n",
       "      <th></th>\n",
       "    </tr>\n",
       "  </thead>\n",
       "  <tbody>\n",
       "    <tr>\n",
       "      <th>1</th>\n",
       "      <td>5.0</td>\n",
       "      <td>3.0</td>\n",
       "      <td>4.0</td>\n",
       "      <td>3.0</td>\n",
       "      <td>3.0</td>\n",
       "      <td>5.0</td>\n",
       "      <td>4.0</td>\n",
       "      <td>1.0</td>\n",
       "      <td>5.0</td>\n",
       "      <td>3.0</td>\n",
       "      <td>...</td>\n",
       "      <td>NaN</td>\n",
       "      <td>NaN</td>\n",
       "      <td>NaN</td>\n",
       "      <td>NaN</td>\n",
       "      <td>NaN</td>\n",
       "      <td>NaN</td>\n",
       "      <td>NaN</td>\n",
       "      <td>NaN</td>\n",
       "      <td>NaN</td>\n",
       "      <td>NaN</td>\n",
       "    </tr>\n",
       "    <tr>\n",
       "      <th>2</th>\n",
       "      <td>4.0</td>\n",
       "      <td>NaN</td>\n",
       "      <td>NaN</td>\n",
       "      <td>NaN</td>\n",
       "      <td>NaN</td>\n",
       "      <td>NaN</td>\n",
       "      <td>NaN</td>\n",
       "      <td>NaN</td>\n",
       "      <td>NaN</td>\n",
       "      <td>2.0</td>\n",
       "      <td>...</td>\n",
       "      <td>NaN</td>\n",
       "      <td>NaN</td>\n",
       "      <td>NaN</td>\n",
       "      <td>NaN</td>\n",
       "      <td>NaN</td>\n",
       "      <td>NaN</td>\n",
       "      <td>NaN</td>\n",
       "      <td>NaN</td>\n",
       "      <td>NaN</td>\n",
       "      <td>NaN</td>\n",
       "    </tr>\n",
       "    <tr>\n",
       "      <th>3</th>\n",
       "      <td>NaN</td>\n",
       "      <td>NaN</td>\n",
       "      <td>NaN</td>\n",
       "      <td>NaN</td>\n",
       "      <td>NaN</td>\n",
       "      <td>NaN</td>\n",
       "      <td>NaN</td>\n",
       "      <td>NaN</td>\n",
       "      <td>NaN</td>\n",
       "      <td>NaN</td>\n",
       "      <td>...</td>\n",
       "      <td>NaN</td>\n",
       "      <td>NaN</td>\n",
       "      <td>NaN</td>\n",
       "      <td>NaN</td>\n",
       "      <td>NaN</td>\n",
       "      <td>NaN</td>\n",
       "      <td>NaN</td>\n",
       "      <td>NaN</td>\n",
       "      <td>NaN</td>\n",
       "      <td>NaN</td>\n",
       "    </tr>\n",
       "    <tr>\n",
       "      <th>5</th>\n",
       "      <td>4.0</td>\n",
       "      <td>3.0</td>\n",
       "      <td>NaN</td>\n",
       "      <td>NaN</td>\n",
       "      <td>NaN</td>\n",
       "      <td>NaN</td>\n",
       "      <td>NaN</td>\n",
       "      <td>NaN</td>\n",
       "      <td>NaN</td>\n",
       "      <td>NaN</td>\n",
       "      <td>...</td>\n",
       "      <td>NaN</td>\n",
       "      <td>NaN</td>\n",
       "      <td>NaN</td>\n",
       "      <td>NaN</td>\n",
       "      <td>NaN</td>\n",
       "      <td>NaN</td>\n",
       "      <td>NaN</td>\n",
       "      <td>NaN</td>\n",
       "      <td>NaN</td>\n",
       "      <td>NaN</td>\n",
       "    </tr>\n",
       "    <tr>\n",
       "      <th>6</th>\n",
       "      <td>4.0</td>\n",
       "      <td>NaN</td>\n",
       "      <td>NaN</td>\n",
       "      <td>NaN</td>\n",
       "      <td>NaN</td>\n",
       "      <td>NaN</td>\n",
       "      <td>2.0</td>\n",
       "      <td>4.0</td>\n",
       "      <td>4.0</td>\n",
       "      <td>NaN</td>\n",
       "      <td>...</td>\n",
       "      <td>NaN</td>\n",
       "      <td>NaN</td>\n",
       "      <td>NaN</td>\n",
       "      <td>NaN</td>\n",
       "      <td>NaN</td>\n",
       "      <td>NaN</td>\n",
       "      <td>NaN</td>\n",
       "      <td>NaN</td>\n",
       "      <td>NaN</td>\n",
       "      <td>NaN</td>\n",
       "    </tr>\n",
       "  </tbody>\n",
       "</table>\n",
       "<p>5 rows × 1637 columns</p>\n",
       "</div>"
      ],
      "text/plain": [
       "movieId  1     2     3     4     5     6     7     8     9     10    ...  \\\n",
       "userId                                                               ...   \n",
       "1         5.0   3.0   4.0   3.0   3.0   5.0   4.0   1.0   5.0   3.0  ...   \n",
       "2         4.0   NaN   NaN   NaN   NaN   NaN   NaN   NaN   NaN   2.0  ...   \n",
       "3         NaN   NaN   NaN   NaN   NaN   NaN   NaN   NaN   NaN   NaN  ...   \n",
       "5         4.0   3.0   NaN   NaN   NaN   NaN   NaN   NaN   NaN   NaN  ...   \n",
       "6         4.0   NaN   NaN   NaN   NaN   NaN   2.0   4.0   4.0   NaN  ...   \n",
       "\n",
       "movieId  1673  1674  1675  1676  1677  1678  1679  1680  1681  1682  \n",
       "userId                                                               \n",
       "1         NaN   NaN   NaN   NaN   NaN   NaN   NaN   NaN   NaN   NaN  \n",
       "2         NaN   NaN   NaN   NaN   NaN   NaN   NaN   NaN   NaN   NaN  \n",
       "3         NaN   NaN   NaN   NaN   NaN   NaN   NaN   NaN   NaN   NaN  \n",
       "5         NaN   NaN   NaN   NaN   NaN   NaN   NaN   NaN   NaN   NaN  \n",
       "6         NaN   NaN   NaN   NaN   NaN   NaN   NaN   NaN   NaN   NaN  \n",
       "\n",
       "[5 rows x 1637 columns]"
      ]
     },
     "metadata": {},
     "output_type": "display_data"
    }
   ],
   "source": [
    "''' Pivot table for train set '''\n",
    "train_pivot = pd.pivot_table(train_ratings, values='rating', index='userId', columns='movieId')\n",
    "print(\"Nb users: \", train_pivot.shape[0])\n",
    "print(\"Nb movies:\", train_pivot.shape[1])\n",
    "display(train_pivot.head())"
   ]
  },
  {
   "cell_type": "code",
   "execution_count": 11,
   "metadata": {
    "ExecuteTime": {
     "end_time": "2022-01-28T08:08:10.395980Z",
     "start_time": "2022-01-28T08:08:10.393071Z"
    }
   },
   "outputs": [],
   "source": [
    "train_users = train_pivot.index\n",
    "train_movies = train_pivot.columns"
   ]
  },
  {
   "cell_type": "markdown",
   "metadata": {
    "ExecuteTime": {
     "end_time": "2022-01-11T12:53:03.276546Z",
     "start_time": "2022-01-11T12:53:03.272735Z"
    }
   },
   "source": [
    "## Collaborative filtering based on Users similarity\n",
    "\n",
    "This approach uses scores that have been assigned by other users to calculate predictions.\n",
    "\n",
    "In pivot table\n",
    "* Rows are users, $u, v$\n",
    "* Columns are items, $i, j$\n",
    "\n",
    "$$pred(u, i) = \\frac{\\sum_v sim(u,v)*r_{v,i}}{\\sum_v sim(u,v)}$$\n",
    "\n",
    "Wich similarity function:\n",
    "\n",
    "* Euclidean distance $[0,1]$: $sim(a,b)=\\frac{1}{1+\\sqrt{\\sum_i (r_{a,i}-r_{b,i})^2}}$\n",
    "* Pearson correlation $[-1,1]$: $sim(a,b)=\\frac{\\sum_i (r_{a,i}-r_a)(r_{b,i}-r_b)}{{\\sum_i (r_{a,i}-r_a)^2}{\\sum_i (r_{b,i}-r_b)^2}}$\n",
    "* Cosine similarity $[-1,1]$: $sim(a, b)=\\frac{a.b}{|a|.|b|}$\n",
    "\n",
    "Which function should we use? The answer is that there is no fixed recipe; but there are some issues we can take into account when choosing the proper similarity function. On the one hand:\n",
    "* Pearson correlation usually works better than Euclidean distance since it is based more on the ranking than on the values. So, two users who usually like more the same set of items, although their rating is on different scales, will come out as similar users with Pearson correlation but not with Euclidean distance.\n",
    "* On the other hand, when dealing with binary/unary data, i.e., like versus not like or buy versus not buy, instead of scalar or real data like ratings, cosine distance is usually used."
   ]
  },
  {
   "cell_type": "markdown",
   "metadata": {},
   "source": [
    "### Build predictor"
   ]
  },
  {
   "cell_type": "code",
   "execution_count": 12,
   "metadata": {
    "ExecuteTime": {
     "end_time": "2022-01-27T09:53:37.923043Z",
     "start_time": "2022-01-27T09:53:36.999428Z"
    }
   },
   "outputs": [
    {
     "data": {
      "text/html": [
       "<div>\n",
       "<style scoped>\n",
       "    .dataframe tbody tr th:only-of-type {\n",
       "        vertical-align: middle;\n",
       "    }\n",
       "\n",
       "    .dataframe tbody tr th {\n",
       "        vertical-align: top;\n",
       "    }\n",
       "\n",
       "    .dataframe thead th {\n",
       "        text-align: right;\n",
       "    }\n",
       "</style>\n",
       "<table border=\"1\" class=\"dataframe\">\n",
       "  <thead>\n",
       "    <tr style=\"text-align: right;\">\n",
       "      <th>userId</th>\n",
       "      <th>1</th>\n",
       "      <th>2</th>\n",
       "      <th>3</th>\n",
       "      <th>5</th>\n",
       "      <th>6</th>\n",
       "      <th>7</th>\n",
       "      <th>8</th>\n",
       "      <th>9</th>\n",
       "      <th>10</th>\n",
       "      <th>12</th>\n",
       "      <th>...</th>\n",
       "      <th>934</th>\n",
       "      <th>935</th>\n",
       "      <th>936</th>\n",
       "      <th>937</th>\n",
       "      <th>938</th>\n",
       "      <th>939</th>\n",
       "      <th>940</th>\n",
       "      <th>941</th>\n",
       "      <th>942</th>\n",
       "      <th>943</th>\n",
       "    </tr>\n",
       "    <tr>\n",
       "      <th>userId</th>\n",
       "      <th></th>\n",
       "      <th></th>\n",
       "      <th></th>\n",
       "      <th></th>\n",
       "      <th></th>\n",
       "      <th></th>\n",
       "      <th></th>\n",
       "      <th></th>\n",
       "      <th></th>\n",
       "      <th></th>\n",
       "      <th></th>\n",
       "      <th></th>\n",
       "      <th></th>\n",
       "      <th></th>\n",
       "      <th></th>\n",
       "      <th></th>\n",
       "      <th></th>\n",
       "      <th></th>\n",
       "      <th></th>\n",
       "      <th></th>\n",
       "      <th></th>\n",
       "    </tr>\n",
       "  </thead>\n",
       "  <tbody>\n",
       "    <tr>\n",
       "      <th>1</th>\n",
       "      <td>1.000000</td>\n",
       "      <td>0.160841</td>\n",
       "      <td>0.112780</td>\n",
       "      <td>0.420809</td>\n",
       "      <td>0.287159</td>\n",
       "      <td>0.123713</td>\n",
       "      <td>0.692086</td>\n",
       "      <td>-0.102062</td>\n",
       "      <td>-0.092344</td>\n",
       "      <td>0.042191</td>\n",
       "      <td>...</td>\n",
       "      <td>0.061695</td>\n",
       "      <td>-0.260242</td>\n",
       "      <td>0.383733</td>\n",
       "      <td>0.029000</td>\n",
       "      <td>0.326744</td>\n",
       "      <td>0.534390</td>\n",
       "      <td>0.263289</td>\n",
       "      <td>0.205616</td>\n",
       "      <td>-0.180784</td>\n",
       "      <td>0.067549</td>\n",
       "    </tr>\n",
       "    <tr>\n",
       "      <th>2</th>\n",
       "      <td>0.160841</td>\n",
       "      <td>1.000000</td>\n",
       "      <td>0.067420</td>\n",
       "      <td>0.327327</td>\n",
       "      <td>0.446269</td>\n",
       "      <td>0.480734</td>\n",
       "      <td>0.585491</td>\n",
       "      <td>0.242536</td>\n",
       "      <td>0.668145</td>\n",
       "      <td>0.000000</td>\n",
       "      <td>...</td>\n",
       "      <td>0.021007</td>\n",
       "      <td>-0.271163</td>\n",
       "      <td>0.214017</td>\n",
       "      <td>0.561645</td>\n",
       "      <td>0.331587</td>\n",
       "      <td>0.000000</td>\n",
       "      <td>-0.011682</td>\n",
       "      <td>-0.062017</td>\n",
       "      <td>0.085960</td>\n",
       "      <td>0.479702</td>\n",
       "    </tr>\n",
       "    <tr>\n",
       "      <th>3</th>\n",
       "      <td>0.112780</td>\n",
       "      <td>0.067420</td>\n",
       "      <td>1.000000</td>\n",
       "      <td>NaN</td>\n",
       "      <td>-0.109109</td>\n",
       "      <td>0.000000</td>\n",
       "      <td>0.291937</td>\n",
       "      <td>NaN</td>\n",
       "      <td>0.311086</td>\n",
       "      <td>0.188982</td>\n",
       "      <td>...</td>\n",
       "      <td>NaN</td>\n",
       "      <td>NaN</td>\n",
       "      <td>-0.045162</td>\n",
       "      <td>0.000000</td>\n",
       "      <td>-0.137523</td>\n",
       "      <td>NaN</td>\n",
       "      <td>-0.104678</td>\n",
       "      <td>1.000000</td>\n",
       "      <td>-0.011792</td>\n",
       "      <td>NaN</td>\n",
       "    </tr>\n",
       "    <tr>\n",
       "      <th>5</th>\n",
       "      <td>0.420809</td>\n",
       "      <td>0.327327</td>\n",
       "      <td>NaN</td>\n",
       "      <td>1.000000</td>\n",
       "      <td>0.241817</td>\n",
       "      <td>0.149037</td>\n",
       "      <td>0.537400</td>\n",
       "      <td>0.577350</td>\n",
       "      <td>0.087343</td>\n",
       "      <td>0.116981</td>\n",
       "      <td>...</td>\n",
       "      <td>0.229532</td>\n",
       "      <td>-0.500000</td>\n",
       "      <td>0.439286</td>\n",
       "      <td>0.608581</td>\n",
       "      <td>0.484211</td>\n",
       "      <td>0.880705</td>\n",
       "      <td>0.027038</td>\n",
       "      <td>0.468521</td>\n",
       "      <td>0.318163</td>\n",
       "      <td>0.346234</td>\n",
       "    </tr>\n",
       "    <tr>\n",
       "      <th>6</th>\n",
       "      <td>0.287159</td>\n",
       "      <td>0.446269</td>\n",
       "      <td>-0.109109</td>\n",
       "      <td>0.241817</td>\n",
       "      <td>1.000000</td>\n",
       "      <td>0.175869</td>\n",
       "      <td>0.687745</td>\n",
       "      <td>0.132353</td>\n",
       "      <td>0.273987</td>\n",
       "      <td>0.112194</td>\n",
       "      <td>...</td>\n",
       "      <td>-0.064033</td>\n",
       "      <td>-0.264292</td>\n",
       "      <td>0.392760</td>\n",
       "      <td>0.270666</td>\n",
       "      <td>0.229918</td>\n",
       "      <td>0.206315</td>\n",
       "      <td>-0.024419</td>\n",
       "      <td>0.399186</td>\n",
       "      <td>0.092349</td>\n",
       "      <td>0.109833</td>\n",
       "    </tr>\n",
       "  </tbody>\n",
       "</table>\n",
       "<p>5 rows × 867 columns</p>\n",
       "</div>"
      ],
      "text/plain": [
       "userId       1         2         3         5         6         7         8    \\\n",
       "userId                                                                         \n",
       "1       1.000000  0.160841  0.112780  0.420809  0.287159  0.123713  0.692086   \n",
       "2       0.160841  1.000000  0.067420  0.327327  0.446269  0.480734  0.585491   \n",
       "3       0.112780  0.067420  1.000000       NaN -0.109109  0.000000  0.291937   \n",
       "5       0.420809  0.327327       NaN  1.000000  0.241817  0.149037  0.537400   \n",
       "6       0.287159  0.446269 -0.109109  0.241817  1.000000  0.175869  0.687745   \n",
       "\n",
       "userId       9         10        12   ...       934       935       936  \\\n",
       "userId                                ...                                 \n",
       "1      -0.102062 -0.092344  0.042191  ...  0.061695 -0.260242  0.383733   \n",
       "2       0.242536  0.668145  0.000000  ...  0.021007 -0.271163  0.214017   \n",
       "3            NaN  0.311086  0.188982  ...       NaN       NaN -0.045162   \n",
       "5       0.577350  0.087343  0.116981  ...  0.229532 -0.500000  0.439286   \n",
       "6       0.132353  0.273987  0.112194  ... -0.064033 -0.264292  0.392760   \n",
       "\n",
       "userId       937       938       939       940       941       942       943  \n",
       "userId                                                                        \n",
       "1       0.029000  0.326744  0.534390  0.263289  0.205616 -0.180784  0.067549  \n",
       "2       0.561645  0.331587  0.000000 -0.011682 -0.062017  0.085960  0.479702  \n",
       "3       0.000000 -0.137523       NaN -0.104678  1.000000 -0.011792       NaN  \n",
       "5       0.608581  0.484211  0.880705  0.027038  0.468521  0.318163  0.346234  \n",
       "6       0.270666  0.229918  0.206315 -0.024419  0.399186  0.092349  0.109833  \n",
       "\n",
       "[5 rows x 867 columns]"
      ]
     },
     "execution_count": 12,
     "metadata": {},
     "output_type": "execute_result"
    }
   ],
   "source": [
    "# Step 1: build the similarity matrix between users\n",
    "correlation_matrix = train_pivot.transpose().corr('pearson')\n",
    "correlation_matrix.head()"
   ]
  },
  {
   "cell_type": "code",
   "execution_count": 19,
   "metadata": {
    "ExecuteTime": {
     "end_time": "2022-01-27T09:53:37.949264Z",
     "start_time": "2022-01-27T09:53:37.930113Z"
    }
   },
   "outputs": [
    {
     "name": "stdout",
     "output_type": "stream",
     "text": [
      "l'utilisateur 1 a déjà vu le film 1 et lui a donné la note de 5.0\n"
     ]
    },
    {
     "data": {
      "text/plain": [
       "1.8527972301545377"
      ]
     },
     "execution_count": 19,
     "metadata": {},
     "output_type": "execute_result"
    }
   ],
   "source": [
    "# Step2 build rating function\n",
    "# We want to calculate the rating that a user could have made for an item.\n",
    "\n",
    "# Il est plus efficace de travailler avec numpy qu'avec pandas.\n",
    "# On transforme donc la matrice pivot en numpy\n",
    "pivot = train_pivot.to_numpy()\n",
    "# idem pour la matrice de correlation\n",
    "corr = correlation_matrix.to_numpy()\n",
    "# Malheureusement, on doit utiliser 2 dictionnaires pour passer\n",
    "# Du nom de la colonne movieId dans son indice en numpy\n",
    "movie2column = {j:i for i, j in enumerate(train_pivot.columns)}\n",
    "# Du nom de la ligne userId dans son indice en numpy\n",
    "user2row = {j:i for i, j in enumerate(train_pivot.index)}\n",
    "\n",
    "def predict(pivot, corr, userId, movieId):\n",
    "    if movieId in movie2column.keys():\n",
    "        movie = movie2column[movieId]\n",
    "    else:\n",
    "        return 2.5\n",
    "    if userId in user2row.keys():\n",
    "        user = user2row[userId]\n",
    "    else:\n",
    "        return 2.5\n",
    "\n",
    "    # Normalement le rating est inconnu\n",
    "    if np.isnan(pivot[user, movie]):\n",
    "        num = 0\n",
    "        den = 0\n",
    "        for u in range(len(corr)):\n",
    "            if not np.isnan(pivot[u,movie]) and not  np.isnan(corr[user,u]):\n",
    "                # Si l'utilisateur u a déjà vu le film movie\n",
    "                # et si les deux utilisateurs ont au moins vu un même film\n",
    "                den += abs(corr[user,u])\n",
    "                num += corr[user,u] * pivot[u,movie]\n",
    "        if den != 0:\n",
    "            return num/den  \n",
    "        else:\n",
    "            return 2.5 # default value\n",
    "    else:\n",
    "        # le film a déjà été vu\n",
    "        print(\"l'utilisateur\", userId, \"a déjà vu le film\", movieId, \"et lui a donné la note de\", pivot[user, movie])\n",
    "        return pivot[user, movie]\n",
    "        \n",
    "predict(pivot, corr, 1, 1)\n",
    "predict(pivot, corr, 3, 28)"
   ]
  },
  {
   "cell_type": "markdown",
   "metadata": {},
   "source": [
    "### Predict"
   ]
  },
  {
   "cell_type": "code",
   "execution_count": 20,
   "metadata": {
    "ExecuteTime": {
     "end_time": "2022-01-27T09:53:45.682925Z",
     "start_time": "2022-01-27T09:53:39.361639Z"
    },
    "scrolled": true
   },
   "outputs": [
    {
     "name": "stderr",
     "output_type": "stream",
     "text": [
      "10000it [00:11, 894.86it/s]\n"
     ]
    },
    {
     "data": {
      "text/html": [
       "<div>\n",
       "<style scoped>\n",
       "    .dataframe tbody tr th:only-of-type {\n",
       "        vertical-align: middle;\n",
       "    }\n",
       "\n",
       "    .dataframe tbody tr th {\n",
       "        vertical-align: top;\n",
       "    }\n",
       "\n",
       "    .dataframe thead th {\n",
       "        text-align: right;\n",
       "    }\n",
       "</style>\n",
       "<table border=\"1\" class=\"dataframe\">\n",
       "  <thead>\n",
       "    <tr style=\"text-align: right;\">\n",
       "      <th></th>\n",
       "      <th>userId</th>\n",
       "      <th>movieId</th>\n",
       "      <th>rating</th>\n",
       "      <th>User based</th>\n",
       "    </tr>\n",
       "  </thead>\n",
       "  <tbody>\n",
       "    <tr>\n",
       "      <th>557</th>\n",
       "      <td>90</td>\n",
       "      <td>900</td>\n",
       "      <td>4</td>\n",
       "      <td>0.657995</td>\n",
       "    </tr>\n",
       "    <tr>\n",
       "      <th>6675</th>\n",
       "      <td>90</td>\n",
       "      <td>269</td>\n",
       "      <td>5</td>\n",
       "      <td>0.987827</td>\n",
       "    </tr>\n",
       "    <tr>\n",
       "      <th>562</th>\n",
       "      <td>90</td>\n",
       "      <td>289</td>\n",
       "      <td>3</td>\n",
       "      <td>0.572064</td>\n",
       "    </tr>\n",
       "    <tr>\n",
       "      <th>62660</th>\n",
       "      <td>90</td>\n",
       "      <td>270</td>\n",
       "      <td>4</td>\n",
       "      <td>1.077609</td>\n",
       "    </tr>\n",
       "    <tr>\n",
       "      <th>68756</th>\n",
       "      <td>90</td>\n",
       "      <td>268</td>\n",
       "      <td>4</td>\n",
       "      <td>1.202310</td>\n",
       "    </tr>\n",
       "  </tbody>\n",
       "</table>\n",
       "</div>"
      ],
      "text/plain": [
       "       userId  movieId  rating  User based\n",
       "557        90      900       4    0.657995\n",
       "6675       90      269       5    0.987827\n",
       "562        90      289       3    0.572064\n",
       "62660      90      270       4    1.077609\n",
       "68756      90      268       4    1.202310"
      ]
     },
     "execution_count": 20,
     "metadata": {},
     "output_type": "execute_result"
    }
   ],
   "source": [
    "# Step 3 add the predicted rating to the test set\n",
    "pred = []\n",
    "for _, userId, movieId, _ in tqdm(test_ratings[['userId', 'movieId', 'rating']].itertuples()):\n",
    "    pred += [predict(pivot, corr, userId, movieId)]\n",
    "\n",
    "test_ratings['User based'] = pred\n",
    "test_ratings.head()"
   ]
  },
  {
   "cell_type": "markdown",
   "metadata": {
    "ExecuteTime": {
     "end_time": "2022-01-27T09:35:57.256263Z",
     "start_time": "2022-01-27T09:35:57.251013Z"
    }
   },
   "source": [
    "### Evaluate the predictor\n",
    "\n",
    "Now that we have trained our model, assigned a value to each pair (userId, movieId), we are ready to evaluate it."
   ]
  },
  {
   "cell_type": "code",
   "execution_count": 21,
   "metadata": {},
   "outputs": [
    {
     "data": {
      "text/plain": [
       "557      4\n",
       "6675     5\n",
       "562      3\n",
       "62660    4\n",
       "68756    4\n",
       "        ..\n",
       "46773    4\n",
       "73008    3\n",
       "46574    3\n",
       "64312    4\n",
       "79208    4\n",
       "Name: rating, Length: 10000, dtype: int64"
      ]
     },
     "execution_count": 21,
     "metadata": {},
     "output_type": "execute_result"
    }
   ],
   "source": [
    "test_ratings['rating']"
   ]
  },
  {
   "cell_type": "markdown",
   "metadata": {},
   "source": [
    "#### Evaluation with classical metrics: RMSE\n",
    "\n",
    "In traditional machine learning projects, we evaluate our models using measures such as accuracy (for classification problems) and RMSE (for regression problems). This is what we will do in the first instance."
   ]
  },
  {
   "cell_type": "code",
   "execution_count": 22,
   "metadata": {
    "ExecuteTime": {
     "end_time": "2022-01-27T09:53:45.705545Z",
     "start_time": "2022-01-27T09:53:45.694449Z"
    }
   },
   "outputs": [
    {
     "name": "stdout",
     "output_type": "stream",
     "text": [
      "RMSE: 1.7798966446725806\n"
     ]
    }
   ],
   "source": [
    "# Step 4 evaluate the resulte : with classical metrics\n",
    "from sklearn.metrics import mean_absolute_error, mean_squared_error\n",
    "\n",
    "print(\"RMSE:\",\n",
    "      np.sqrt(mean_squared_error(test_ratings['rating'], test_ratings['User based'])),\n",
    "     )"
   ]
  },
  {
   "cell_type": "markdown",
   "metadata": {
    "ExecuteTime": {
     "end_time": "2022-01-27T09:51:44.538504Z",
     "start_time": "2022-01-27T09:51:44.522386Z"
    }
   },
   "source": [
    "#### Hit Ratio @ K\n",
    "\n",
    "However, a measure such as RMSE does not provide a satisfactory evaluation of recommender systems. To design a good metric for evaluating recommender systems, we need to first understand how modern recommender systems are used.\n",
    "\n",
    "Amazon, Netflix and others uses a list of recommendations. The key here is that we don’t need the user to interact with every single item in the list of recommendations. Instead, we just need the user to interact with at least one item on the list — as long as the user does that, the recommendations have worked.\n",
    "\n",
    "To simulate this, let’s run the following evaluation protocol to generate a list of top 10 recommended items for each user.\n",
    "\n",
    "* For each user, randomly select 99 items that the user has not interacted with.\n",
    "* Combine these 99 items with the test item (the actual item that the user last interacted with). We now have 100 items.\n",
    "* Run the model on these 100 items, and rank them according to their predicted probabilities.\n",
    "* Select the top 10 items from the list of 100 items. If the test item is present within the top 10 items, then we say that this is a hit.\n",
    "* Repeat the process for all users. The Hit Ratio is then the average hits.\n",
    "\n",
    "This evaluation protocol is known as **Hit Ratio @ K**, and it is commonly used to evaluate recommender systems."
   ]
  },
  {
   "cell_type": "markdown",
   "metadata": {},
   "source": [
    "<font color='red'>\n",
    "$TO DO - Students$\n",
    "\n",
    "* Fill the gaps\n",
    "</font>"
   ]
  },
  {
   "cell_type": "code",
   "execution_count": 23,
   "metadata": {
    "ExecuteTime": {
     "end_time": "2022-01-27T09:53:45.722224Z",
     "start_time": "2022-01-27T09:53:45.709850Z"
    }
   },
   "outputs": [],
   "source": [
    "# Step 2 with hit ratio\n",
    "def HRatio(test_ratings, predict, K=10):\n",
    "    # User-item pairs for testing\n",
    "    test_user_item_set = set(list(set(zip(test_ratings['userId'], test_ratings['movieId'])))[:1000])\n",
    "\n",
    "    # Dict of all items that are interacted with by each user\n",
    "    user_interacted_items = ratings.groupby('userId')[\"movieId\"].apply(list).to_dict()\n",
    "\n",
    "    hits = []\n",
    "    for (u,i) in tqdm(test_user_item_set):\n",
    "        interacted_items = user_interacted_items[u]\n",
    "        not_interacted_items = set(all_movieIds) - set(interacted_items)\n",
    "        selected_not_interacted = list(np.random.choice(list(not_interacted_items), 99))\n",
    "        test_items = selected_not_interacted + [i]\n",
    "        predicted_labels = predict([np.array([u]*100), np.array(test_items)]).reshape(-1)\n",
    "        topK_items = [test_items[i] for i in np.argsort(predicted_labels)[-K:].tolist()]\n",
    "        \n",
    "        if i in topK_items:\n",
    "            hits.append(1)\n",
    "        else:\n",
    "            hits.append(0)\n",
    "    hr = np.average(hits)\n",
    "    print(\"The Hit Ratio @ {} is {:.2f}\".format(K, hr))\n",
    "    return hr"
   ]
  },
  {
   "cell_type": "code",
   "execution_count": 24,
   "metadata": {
    "ExecuteTime": {
     "end_time": "2022-01-27T09:54:50.307445Z",
     "start_time": "2022-01-27T09:53:45.727230Z"
    }
   },
   "outputs": [
    {
     "name": "stderr",
     "output_type": "stream",
     "text": [
      "100%|██████████| 1000/1000 [01:57<00:00,  8.53it/s]"
     ]
    },
    {
     "name": "stdout",
     "output_type": "stream",
     "text": [
      "The Hit Ratio @ 25 is 0.78\n"
     ]
    },
    {
     "name": "stderr",
     "output_type": "stream",
     "text": [
      "\n"
     ]
    }
   ],
   "source": [
    "def predictor(pairs):\n",
    "    pred = []\n",
    "    for userId, movieId in zip(pairs[0], pairs[1]):\n",
    "        pred += [predict(pivot, corr, userId, movieId)]\n",
    "    return np.array(pred)\n",
    "\n",
    "HR = dict()\n",
    "hr = HRatio(test_ratings, predictor, 25)\n",
    "HR['User based'] = hr"
   ]
  },
  {
   "cell_type": "markdown",
   "metadata": {},
   "source": [
    "## Improve the rating"
   ]
  },
  {
   "cell_type": "markdown",
   "metadata": {},
   "source": [
    "### Trick 1:\n",
    "\n",
    "Since humans do not usually act the same as critics, i.e., some people usually rank movies higher or lower than others, this prediction function can be easily improved by taking into account the user mean as follows:\n",
    "\n",
    "$$pred(u, i) = \\overline{r_u} + \\frac{\\sum_v sim(u,v)*(r_{v,i} - \\overline{r_v})}{\\sum_v sim(u,v)}$$"
   ]
  },
  {
   "cell_type": "markdown",
   "metadata": {},
   "source": [
    "<font color='red'>\n",
    "$TO DO - Students$\n",
    "\n",
    "* Modify the previous code in order to implement \"Trick 1\"\n",
    "</font>"
   ]
  },
  {
   "cell_type": "code",
   "execution_count": null,
   "metadata": {},
   "outputs": [],
   "source": []
  },
  {
   "cell_type": "code",
   "execution_count": 25,
   "metadata": {},
   "outputs": [
    {
     "name": "stdout",
     "output_type": "stream",
     "text": [
      "l'utilisateur 1 a déjà vu le film 1 et lui a donné la note de 5.0\n"
     ]
    },
    {
     "data": {
      "text/plain": [
       "2.9400162942557957"
      ]
     },
     "execution_count": 25,
     "metadata": {},
     "output_type": "execute_result"
    }
   ],
   "source": [
    "# Step2 build rating function\n",
    "# We want to calculate the rating that a user could have made for an item.\n",
    "\n",
    "# Il est plus efficace de travailler avec numpy qu'avec pandas.\n",
    "# On transforme donc la matrice pivot en numpy\n",
    "pivot = train_pivot.to_numpy()\n",
    "# idem pour la matrice de correlation\n",
    "corr = correlation_matrix.to_numpy()\n",
    "# Malheureusement, on doit utiliser 2 dictionnaires pour passer\n",
    "# Du nom de la colonne movieId dans son indice en numpy\n",
    "movie2column = {j:i for i, j in enumerate(train_pivot.columns)}\n",
    "# Du nom de la ligne userId dans son indice en numpy\n",
    "user2row = {j:i for i, j in enumerate(train_pivot.index)}\n",
    "\n",
    "def predict1(pivot, corr, userId, movieId):\n",
    "    if movieId in movie2column.keys():\n",
    "        movie = movie2column[movieId]\n",
    "    else:\n",
    "        return 2.5\n",
    "    if userId in user2row.keys():\n",
    "        user = user2row[userId]\n",
    "    else:\n",
    "        return 2.5\n",
    "\n",
    "    # Normalement le rating est inconnu\n",
    "    if np.isnan(pivot[user, movie]):\n",
    "        num = 0\n",
    "        den = 0\n",
    "        for u in range(len(corr)):\n",
    "            if not np.isnan(pivot[u,movie]) and not  np.isnan(corr[user,u]):\n",
    "                # Si l'utilisateur u a déjà vu le film movie\n",
    "                # et si les deux utilisateurs ont au moins vu un même film\n",
    "                den += abs(corr[user,u])\n",
    "                num += corr[user,u] * (pivot[u,movie]-np.nanmean(pivot[u,:]))\n",
    "        if (den != 0):\n",
    "            return (np.nanmean(pivot[user,:])+ num/den ) \n",
    "        else:\n",
    "            return 2.5 # default value\n",
    "    else:\n",
    "        # le film a déjà été vu\n",
    "        print(\"l'utilisateur\", userId, \"a déjà vu le film\", movieId, \"et lui a donné la note de\", pivot[user, movie])\n",
    "        return pivot[user, movie]\n",
    "        \n",
    "predict1(pivot, corr, 1, 1)\n",
    "predict1(pivot, corr, 3, 28)"
   ]
  },
  {
   "cell_type": "code",
   "execution_count": 26,
   "metadata": {},
   "outputs": [
    {
     "name": "stderr",
     "output_type": "stream",
     "text": [
      "100%|██████████| 1000/1000 [03:25<00:00,  4.86it/s]"
     ]
    },
    {
     "name": "stdout",
     "output_type": "stream",
     "text": [
      "The Hit Ratio @ 25 is 0.80\n"
     ]
    },
    {
     "name": "stderr",
     "output_type": "stream",
     "text": [
      "\n"
     ]
    }
   ],
   "source": [
    "# def predictorNorm(pairs):\n",
    "#     pred = []\n",
    "#     for userId, movieId in zip(pairs[0], pairs[1]):\n",
    "#         pred += [predict(pivot, corr, userId, movieId)]\n",
    "#     return np.nanmean(pivot[pairs[0],:]) + np.array(pred)\n",
    "# HR = dict()\n",
    "# hr = HRatio(test_ratings, predictorNorm, 25)\n",
    "# HR['User based'] = hr\n",
    "def predictor1(pairs):\n",
    "    pred = []\n",
    "    for userId, movieId in zip(pairs[0], pairs[1]):\n",
    "        pred += [predict1(pivot, corr, userId, movieId)]\n",
    "    return np.array(pred)\n",
    "\n",
    "HR = dict()\n",
    "hr = HRatio(test_ratings, predictor1, 25)\n",
    "HR['User based'] = hr"
   ]
  },
  {
   "cell_type": "markdown",
   "metadata": {},
   "source": [
    "### Trick 2:\n",
    "\n",
    "If two users have very few items in common, let us imagine that there is only one, and the rating is the same, the user similarity will be really high; however, the confidence is really small. It's possible to add a ponderation coefficient.\n",
    "\n",
    "$$newsim(a, b) = sim(a,b) * \\frac{min(N, |P_{a,b}|)}{N}$$ \n",
    "\n",
    "where $|P_{a,b}|$ is the number of common items shared by user a and user b. The coefficient is $< 1$ if the number of common movies is $< N$ and $1$ otherwise."
   ]
  },
  {
   "cell_type": "code",
   "execution_count": 27,
   "metadata": {
    "ExecuteTime": {
     "end_time": "2022-01-27T08:54:36.477153Z",
     "start_time": "2022-01-27T08:54:36.461911Z"
    }
   },
   "outputs": [
    {
     "data": {
      "text/plain": [
       "18"
      ]
     },
     "execution_count": 27,
     "metadata": {},
     "output_type": "execute_result"
    }
   ],
   "source": [
    "# Count the number of common items shared by user 1 and user 2.\n",
    "pivot = train_pivot.to_numpy()\n",
    "movie2column = {j:i for i, j in enumerate(train_pivot.columns)}\n",
    "user2row = {j:i for i, j in enumerate(train_pivot.index)}\n",
    "a = user2row[1]\n",
    "b = user2row[2]\n",
    "common = pivot[a,:] + pivot[b,:]\n",
    "common = np.count_nonzero(~np.isnan(common))\n",
    "common"
   ]
  },
  {
   "cell_type": "markdown",
   "metadata": {
    "ExecuteTime": {
     "end_time": "2022-01-27T08:58:04.451917Z",
     "start_time": "2022-01-27T08:58:04.419536Z"
    }
   },
   "source": [
    "<font color='red'>\n",
    "$TO DO - Students$\n",
    "\n",
    "* Modify the previous code in order to implement \"Trick 2\"\n",
    "</font>"
   ]
  },
  {
   "cell_type": "code",
   "execution_count": 35,
   "metadata": {},
   "outputs": [
    {
     "name": "stdout",
     "output_type": "stream",
     "text": [
      "l'utilisateur 1 a déjà vu le film 1 et lui a donné la note de 5.0\n"
     ]
    },
    {
     "data": {
      "text/plain": [
       "0.15603823820361443"
      ]
     },
     "execution_count": 35,
     "metadata": {},
     "output_type": "execute_result"
    }
   ],
   "source": [
    "def predict_thresh(pivot,corr,userId,movieId,thresh_common_nb=10): #N\n",
    "    if movieId in movie2column.keys():\n",
    "        movie = movie2column[movieId]\n",
    "    else:\n",
    "        return 2.5\n",
    "    if userId in user2row.keys():\n",
    "        user = user2row[userId]\n",
    "    else:\n",
    "        return 2.5\n",
    "\n",
    "    # Normalement le rating est inconnu\n",
    "    if np.isnan(pivot[user, movie]):\n",
    "        num = 0\n",
    "        den = 0\n",
    "        for u in range(len(corr)):\n",
    "            if not np.isnan(pivot[u, movie]) and not np.isnan(corr[user, u]):\n",
    "                # Si l'utilisateur u a déjà vu le film movie\n",
    "                # et si les deux utilisateurs ont au moins vu un même film\n",
    "                common = pivot[user] + pivot[u]  # sum of np arrays propagates nan\n",
    "                common = np.count_nonzero(~np.isnan(common))\n",
    "                enough_common_coeff = np.min([thresh_common_nb, common]) / thresh_common_nb\n",
    "                \n",
    "                num += enough_common_coeff * corr[user, u] * (pivot[u,movie]-np.nanmean(pivot[u,:])) #previous code without np.nanmean(pivot[u,:])  \n",
    "                den += abs(enough_common_coeff * corr[user, u])\n",
    "\n",
    "        if den != 0:\n",
    "            return num / den\n",
    "\n",
    "        else:\n",
    "            return 2.5  # default value\n",
    "    else:\n",
    "        # le film a déjà été vu\n",
    "        print(\n",
    "            f\"l'utilisateur {userId} a déjà vu le film {movieId}\",\n",
    "            f\"et lui a donné la note de {pivot[user, movie]}\",\n",
    "        )\n",
    "        return pivot[user, movie]\n",
    "\n",
    "\n",
    "predict_thresh(pivot=pivot, corr=corr, userId=1, movieId=1)\n",
    "predict_thresh(pivot=pivot, corr=corr, userId=3, movieId=28)"
   ]
  },
  {
   "cell_type": "code",
   "execution_count": 36,
   "metadata": {},
   "outputs": [
    {
     "name": "stderr",
     "output_type": "stream",
     "text": [
      "10000it [00:57, 174.87it/s]\n",
      "5it [00:00, 42.27it/s]"
     ]
    },
    {
     "name": "stdout",
     "output_type": "stream",
     "text": [
      "RMSE for N=10: 2.3834225675656664\n"
     ]
    },
    {
     "name": "stderr",
     "output_type": "stream",
     "text": [
      "10000it [00:56, 175.92it/s]\n",
      "5it [00:00, 43.24it/s]"
     ]
    },
    {
     "name": "stdout",
     "output_type": "stream",
     "text": [
      "RMSE for N=15: 2.3825050219020794\n"
     ]
    },
    {
     "name": "stderr",
     "output_type": "stream",
     "text": [
      "10000it [00:54, 181.86it/s]\n",
      "5it [00:00, 48.11it/s]"
     ]
    },
    {
     "name": "stdout",
     "output_type": "stream",
     "text": [
      "RMSE for N=20: 2.3818888078652107\n"
     ]
    },
    {
     "name": "stderr",
     "output_type": "stream",
     "text": [
      "10000it [00:53, 185.19it/s]\n",
      "5it [00:00, 46.12it/s]"
     ]
    },
    {
     "name": "stdout",
     "output_type": "stream",
     "text": [
      "RMSE for N=30: 2.3810418082477667\n"
     ]
    },
    {
     "name": "stderr",
     "output_type": "stream",
     "text": [
      "10000it [00:53, 185.50it/s]"
     ]
    },
    {
     "name": "stdout",
     "output_type": "stream",
     "text": [
      "RMSE for N=50: 2.379983234252401\n"
     ]
    },
    {
     "name": "stderr",
     "output_type": "stream",
     "text": [
      "\n"
     ]
    }
   ],
   "source": [
    "# %%\n",
    "for thresh_common_nb in [10, 15, 20, 30, 50]:\n",
    "    # Step 3 add the predicted rating to the test set\n",
    "\n",
    "    test_ratings[f\"User based_thresh_{thresh_common_nb}\"] = [\n",
    "        predict_thresh(pivot, corr, userId, movieId, thresh_common_nb)\n",
    "        for _, userId, movieId, _ in tqdm(\n",
    "            test_ratings[[\"userId\", \"movieId\", \"rating\"]].itertuples()\n",
    "        )\n",
    "    ]\n",
    "    # test_ratings\n",
    "\n",
    "    # Step 4 evaluate the resulte : with classical metrics\n",
    "\n",
    "    print(\n",
    "        f\"RMSE for N={thresh_common_nb}:\",\n",
    "        np.sqrt(\n",
    "            mean_squared_error(\n",
    "                y_true=test_ratings[\"rating\"],\n",
    "                y_pred=test_ratings[f\"User based_thresh_{thresh_common_nb}\"],\n",
    "            )\n",
    "        ),\n",
    "    )"
   ]
  },
  {
   "cell_type": "code",
   "execution_count": 40,
   "metadata": {},
   "outputs": [
    {
     "name": "stderr",
     "output_type": "stream",
     "text": [
      "100%|██████████| 1000/1000 [04:16<00:00,  3.89it/s]"
     ]
    },
    {
     "name": "stdout",
     "output_type": "stream",
     "text": [
      "The Hit Ratio @ 25 is 0.79\n"
     ]
    },
    {
     "name": "stderr",
     "output_type": "stream",
     "text": [
      "\n"
     ]
    }
   ],
   "source": [
    "def predictor2(pairs):\n",
    "    pred = []\n",
    "    for userId, movieId in zip(pairs[0], pairs[1]):\n",
    "        pred += [predict_thresh(pivot, corr, userId, movieId)]\n",
    "    return np.array(pred)\n",
    "\n",
    "HR = dict()\n",
    "hr = HRatio(test_ratings, predictor2, 25)\n",
    "HR['User based'] = hr"
   ]
  },
  {
   "cell_type": "markdown",
   "metadata": {},
   "source": [
    "## To go further\n",
    "\n",
    "1. Do the same, but with correlation between items. It's Collaborative filtering based on Items similarity. It's also possible to use the 2 previous trick\n",
    "\n",
    "1.  Use Matrix factorization: decompose R in P, Q at rank k (i.e. if R is a m.n matrix, P is a m.k matrix and Q is a n.k matrix) the reconstruct R with P and Q (i.e. $\\hat{R} = P Q^T$)\n",
    "\n",
    "1. Use Matrix decomposition: do an truncated SVD decomposition in order to obtain U, S and V, build $\\hat{R} = U S V^T$"
   ]
  },
  {
   "cell_type": "markdown",
   "metadata": {
    "ExecuteTime": {
     "end_time": "2022-02-06T16:52:48.966100Z",
     "start_time": "2022-02-06T16:52:48.957772Z"
    }
   },
   "source": [
    "<font color='red'>\n",
    "$TO DO - Students$\n",
    "\n",
    "* Choose, implement and evaluate one of the above strategies.\n",
    "</font>"
   ]
  },
  {
   "cell_type": "markdown",
   "metadata": {},
   "source": [
    "### Collaborative filtering based on items similarity"
   ]
  },
  {
   "cell_type": "code",
   "execution_count": 41,
   "metadata": {},
   "outputs": [
    {
     "name": "stdout",
     "output_type": "stream",
     "text": [
      "l'utilisateur 1 a déjà vu le film 1 et lui a donné la note de 5.0\n"
     ]
    },
    {
     "data": {
      "text/plain": [
       "1.8527972301545377"
      ]
     },
     "execution_count": 41,
     "metadata": {},
     "output_type": "execute_result"
    }
   ],
   "source": [
    "\"\"\" TRY to predict with item based collaborative filtering \"\"\"\n",
    "# Il est plus efficace de travailler avec numpy qu'avec pandas.\n",
    "# On transforme donc la matrice pivot en numpy\n",
    "pivot = train_pivot.to_numpy()\n",
    "# idem pour la matrice de correlation\n",
    "corr = correlation_matrix.to_numpy()\n",
    "# Malheureusement, on doit utiliser 2 dictionnaires pour passer\n",
    "# Du nom de la colonne movieId dans son indice en numpy\n",
    "movie2column = {j:i for i, j in enumerate(train_pivot.columns)}\n",
    "# Du nom de la ligne userId dans son indice en numpy\n",
    "user2row = {j:i for i, j in enumerate(train_pivot.index)}\n",
    "\n",
    "def predict(pivot, corr, userId, movieId):\n",
    "    if movieId in movie2column.keys():\n",
    "        movie = movie2column[movieId]\n",
    "    else:\n",
    "        return 2.5\n",
    "    if userId in user2row.keys():\n",
    "        user = user2row[userId]\n",
    "    else:\n",
    "        return 2.5\n",
    "\n",
    "    # Normalement le rating est inconnu\n",
    "    if np.isnan(pivot[user, movie]):\n",
    "        num = 0\n",
    "        den = 0\n",
    "        for u in range(len(corr)):\n",
    "            if not np.isnan(pivot[u,movie]) and not  np.isnan(corr[user,u]):\n",
    "                # Si l'utilisateur u a déjà vu le film movie\n",
    "                # et si les deux utilisateurs ont au moins vu un même film\n",
    "                den += abs(corr[user,u])\n",
    "                num += corr[user,u] * pivot[u,movie]\n",
    "        if den != 0:\n",
    "            return num/den  \n",
    "        else:\n",
    "            return 2.5 # default value\n",
    "    else:\n",
    "        # le film a déjà été vu\n",
    "        print(\"l'utilisateur\", userId, \"a déjà vu le film\", movieId, \"et lui a donné la note de\", pivot[user, movie])\n",
    "        return pivot[user, movie]\n",
    "        \n",
    "predict(pivot, corr, 1, 1)\n",
    "predict(pivot, corr, 3, 28)"
   ]
  },
  {
   "cell_type": "code",
   "execution_count": 42,
   "metadata": {},
   "outputs": [
    {
     "name": "stderr",
     "output_type": "stream",
     "text": [
      "23it [00:00, 224.02it/s]"
     ]
    },
    {
     "name": "stdout",
     "output_type": "stream",
     "text": [
      "l'utilisateur 270 a déjà vu le film 90 et lui a donné la note de 5.0\n",
      "l'utilisateur 301 a déjà vu le film 90 et lui a donné la note de 3.0\n",
      "l'utilisateur 450 a déjà vu le film 650 et lui a donné la note de 4.0\n",
      "l'utilisateur 59 a déjà vu le film 90 et lui a donné la note de 2.0\n"
     ]
    },
    {
     "name": "stderr",
     "output_type": "stream",
     "text": [
      "104it [00:00, 247.63it/s]"
     ]
    },
    {
     "name": "stdout",
     "output_type": "stream",
     "text": [
      "l'utilisateur 506 a déjà vu le film 90 et lui a donné la note de 2.0\n",
      "l'utilisateur 690 a déjà vu le film 90 et lui a donné la note de 1.0\n",
      "l'utilisateur 435 a déjà vu le film 90 et lui a donné la note de 4.0\n",
      "l'utilisateur 194 a déjà vu le film 90 et lui a donné la note de 3.0\n",
      "l'utilisateur 805 a déjà vu le film 659 et lui a donné la note de 3.0\n"
     ]
    },
    {
     "name": "stderr",
     "output_type": "stream",
     "text": [
      "221it [00:01, 176.71it/s]"
     ]
    },
    {
     "name": "stdout",
     "output_type": "stream",
     "text": [
      "l'utilisateur 747 a déjà vu le film 650 et lui a donné la note de 4.0\n",
      "l'utilisateur 476 a déjà vu le film 26 et lui a donné la note de 4.0\n"
     ]
    },
    {
     "name": "stderr",
     "output_type": "stream",
     "text": [
      "278it [00:01, 156.32it/s]"
     ]
    },
    {
     "name": "stdout",
     "output_type": "stream",
     "text": [
      "l'utilisateur 521 a déjà vu le film 659 et lui a donné la note de 4.0\n",
      "l'utilisateur 521 a déjà vu le film 90 et lui a donné la note de 2.0\n",
      "l'utilisateur 178 a déjà vu le film 90 et lui a donné la note de 3.0\n"
     ]
    },
    {
     "name": "stderr",
     "output_type": "stream",
     "text": [
      "321it [00:01, 170.58it/s]"
     ]
    },
    {
     "name": "stdout",
     "output_type": "stream",
     "text": [
      "l'utilisateur 474 a déjà vu le film 659 et lui a donné la note de 5.0\n",
      "l'utilisateur 648 a déjà vu le film 90 et lui a donné la note de 3.0\n",
      "l'utilisateur 218 a déjà vu le film 659 et lui a donné la note de 4.0\n",
      "l'utilisateur 568 a déjà vu le film 659 et lui a donné la note de 3.0\n",
      "l'utilisateur 497 a déjà vu le film 90 et lui a donné la note de 4.0\n",
      "l'utilisateur 23 a déjà vu le film 90 et lui a donné la note de 2.0\n"
     ]
    },
    {
     "name": "stderr",
     "output_type": "stream",
     "text": [
      "362it [00:01, 186.31it/s]"
     ]
    },
    {
     "name": "stdout",
     "output_type": "stream",
     "text": [
      "l'utilisateur 514 a déjà vu le film 659 et lui a donné la note de 3.0\n",
      "l'utilisateur 496 a déjà vu le film 659 et lui a donné la note de 3.0\n",
      "l'utilisateur 474 a déjà vu le film 650 et lui a donné la note de 4.0\n"
     ]
    },
    {
     "name": "stderr",
     "output_type": "stream",
     "text": [
      "426it [00:02, 232.76it/s]"
     ]
    },
    {
     "name": "stdout",
     "output_type": "stream",
     "text": [
      "l'utilisateur 618 a déjà vu le film 90 et lui a donné la note de 1.0\n",
      "l'utilisateur 660 a déjà vu le film 90 et lui a donné la note de 2.0\n",
      "l'utilisateur 670 a déjà vu le film 659 et lui a donné la note de 5.0\n",
      "l'utilisateur"
     ]
    },
    {
     "name": "stderr",
     "output_type": "stream",
     "text": [
      "478it [00:02, 236.35it/s]"
     ]
    },
    {
     "name": "stdout",
     "output_type": "stream",
     "text": [
      " 481 a déjà vu le film 659 et lui a donné la note de 5.0\n",
      "l'utilisateur 239 a déjà vu le film 650 et lui a donné la note de 5.0\n",
      "l'utilisateur 942 a déjà vu le film 659 et lui a donné la note de 5.0\n",
      "l'utilisateur 664 a déjà vu le film 659 et lui a donné la note de 5.0\n"
     ]
    },
    {
     "name": "stderr",
     "output_type": "stream",
     "text": [
      "598it [00:02, 318.85it/s]"
     ]
    },
    {
     "name": "stdout",
     "output_type": "stream",
     "text": [
      "l'utilisateur 393 a déjà vu le film 659 et lui a donné la note de 4.0\n",
      "l'utilisateur 387 a déjà vu le film 659 et lui a donné la note de 4.0\n",
      "l'utilisateur 73 a déjà vu le film 650 et lui a donné la note de 3.0\n",
      "l'utilisateur 670 a déjà vu le film 650 et lui a donné la note de 2.0\n",
      "l'utilisateur 145 a déjà vu le film 650 et lui a donné la note de 4.0\n",
      "l'utilisateur 290 a déjà vu le film 650 et lui a donné la note de 2.0\n",
      "l'utilisateur 644 a déjà vu le film 121 et lui a donné la note de 5.0\n",
      "l'utilisateur 357 a déjà vu le film 121 et lui a donné la note de 5.0\n",
      "l'utilisateur 479 a déjà vu le film 121 et lui a donné la note de 4.0\n",
      "l'utilisateur 83 a déjà vu le film 121 et lui a donné la note de 4.0\n",
      "l'utilisateur 792 a déjà vu le film 121 et lui a donné la note de 4.0\n",
      "l'utilisateur 192 a déjà vu le film 121 et lui a donné la note de 2.0\n",
      "l'utilisateur 843 a déjà vu le film 650 et lui a donné la note de 3.0\n",
      "l'utilisateur 180 a déjà vu le film 121 et lui a donné la note de 5.0\n",
      "l'utilisateur 508 a déjà vu le film 121 et lui a donné la note de 2.0\n",
      "l'utilisateur 276 a déjà vu le film 121 et lui a donné la note de 4.0\n",
      "l'utilisateur 1 a déjà vu le film 121 et lui a donné la note de 4.0\n",
      "l'utilisateur 137 a déjà vu le film 121 et lui a donné la note de 5.0\n",
      "l'utilisateur 117 a déjà vu le film 121 et lui a donné la note de 4.0\n",
      "l'utilisateur 298 a déjà vu le film 121 et lui a donné la note de 4.0\n",
      "l'utilisateur 249 a déjà vu le film 121 et lui a donné la note de 3.0\n",
      "l'utilisateur"
     ]
    },
    {
     "name": "stderr",
     "output_type": "stream",
     "text": [
      "716it [00:02, 415.38it/s]"
     ]
    },
    {
     "name": "stdout",
     "output_type": "stream",
     "text": [
      " 458 a déjà vu le film 121 et lui a donné la note de 1.0\n",
      "l'utilisateur 315 a déjà vu le film 121 et lui a donné la note de 2.0\n",
      "l'utilisateur 347 a déjà vu le film 121 et lui a donné la note de 3.0\n",
      "l'utilisateur 294 a déjà vu le film 121 et lui a donné la note de 5.0\n",
      "l'utilisateur 313 a déjà vu le film 121 et lui a donné la note de 4.0\n",
      "l'utilisateur 318 a déjà vu le film 121 et lui a donné la note de 1.0\n",
      "l'utilisateur 14 a déjà vu le film 121 et lui a donné la note de 3.0\n",
      "l'utilisateur 57 a déjà vu le film 121 et lui a donné la note de 4.0\n",
      "l'utilisateur 181 a déjà vu le film 121 et lui a donné la note de 4.0\n",
      "l'utilisateur 257 a déjà vu le film 121 et lui a donné la note de 3.0\n",
      "l'utilisateur 582 a déjà vu le film 121 et lui a donné la note de 3.0\n",
      "l'utilisateur 275 a déjà vu le film 121 et lui a donné la note de 3.0\n",
      "l'utilisateur 25 a déjà vu le film 121 et lui a donné la note de 4.0\n",
      "l'utilisateur 291 a déjà vu le film 121 et lui a donné la note de 2.0\n",
      "l'utilisateur 595 a déjà vu le film 121 et lui a donné la note de 2.0\n",
      "l'utilisateur 546 a déjà vu le film 121 et lui a donné la note de 5.0\n",
      "l'utilisateur 472 a déjà vu le film 121 et lui a donné la note de 5.0\n",
      "l'utilisateur 717 a déjà vu le film 121 et lui a donné la note de 2.0\n",
      "l'utilisateur 750 a déjà vu le film 873 et lui a donné la note de 3.0\n",
      "l'utilisateur 342 a déjà vu le film 873 et lui a donné la note de 3.0\n",
      "l'utilisateur 258 a déjà vu le film 873 et lui a donné la note de 5.0\n",
      "l'utilisateur 272 a déjà vu le film 423 et lui a donné la note de 4.0\n",
      "l'utilisateur 340 a déjà vu le film 423 et lui a donné la note de 4.0\n",
      "l'utilisateur 292 a déjà vu le film 423 et lui a donné la note de 5.0\n",
      "l'utilisateur 313 a déjà vu le film 423 et lui a donné la note de 4.0\n",
      "l'utilisateur 286 a déjà vu le film 423 et lui a donné la note de 4.0\n",
      "l'utilisateur 347 a déjà vu le film 423 et lui a donné la note de 4.0\n",
      "l'utilisateur 327 a déjà vu le film 423 et lui a donné la note de 3.0\n",
      "l'utilisateur 307 a déjà vu le film 423 et lui a donné la note de 5.0\n",
      "l'utilisateur 887 a déjà vu le film 423 et lui a donné la note de 2.0\n",
      "l'utilisateur 299 a déjà vu le film 423 et lui a donné la note de 3.0\n",
      "l'utilisateur 339 a déjà vu le film 423 et lui a donné la note de 3.0\n",
      "l'utilisateur 328 a déjà vu le film 423 et lui a donné la note de 4.0\n",
      "l'utilisateur 326 a déjà vu le film 423 et lui a donné la note de 3.0\n",
      "l'utilisateur 508 a déjà vu le film 423 et lui a donné la note de 5.0\n",
      "l'utilisateur 237 a déjà vu le film 423 et lui a donné la note de 4.0\n",
      "l'utilisateur 293 a déjà vu le film 423 et lui a donné la note de 3.0\n",
      "l'utilisateur 276 a déjà vu le film 423 et lui a donné la note de 5.0\n",
      "l'utilisateur"
     ]
    },
    {
     "name": "stderr",
     "output_type": "stream",
     "text": [
      "816it [00:03, 430.12it/s]"
     ]
    },
    {
     "name": "stdout",
     "output_type": "stream",
     "text": [
      " 620 a déjà vu le film 423 et lui a donné la note de 5.0\n",
      "l'utilisateur 823 a déjà vu le film 423 et lui a donné la note de 5.0\n",
      "l'utilisateur 286 a déjà vu le film 704 et lui a donné la note de 2.0\n"
     ]
    },
    {
     "name": "stderr",
     "output_type": "stream",
     "text": [
      "905it [00:03, 277.59it/s]"
     ]
    },
    {
     "name": "stdout",
     "output_type": "stream",
     "text": [
      "l'utilisateur 301 a déjà vu le film 39 et lui a donné la note de 3.0\n",
      "l'utilisateur 352 a déjà vu le film 39 et lui a donné la note de 5.0\n",
      "l'utilisateur 195 a déjà vu le film 753 et lui a donné la note de 3.0\n"
     ]
    },
    {
     "name": "stderr",
     "output_type": "stream",
     "text": [
      "1001it [00:03, 351.68it/s]"
     ]
    },
    {
     "name": "stdout",
     "output_type": "stream",
     "text": [
      "l'utilisateur 902 a déjà vu le film 294 et lui a donné la note de 2.0\n",
      "l'utilisateur 347 a déjà vu le film 356 et lui a donné la note de 5.0\n",
      "l'utilisateur 328 a déjà vu le film 356 et lui a donné la note de 3.0\n",
      "l'utilisateur 311 a déjà vu le film 197 et lui a donné la note de 4.0\n",
      "l'utilisateur 313 a déjà vu le film 197 et lui a donné la note de 5.0\n",
      "l'utilisateur 326 a déjà vu le film 197 et lui a donné la note de 1.0\n",
      "l'utilisateur 354 a déjà vu le film 197 et lui a donné la note de 4.0\n",
      "l'utilisateur 690 a déjà vu le film 197 et lui a donné la note de 4.0\n",
      "l'utilisateur 751 a déjà vu le film 197 et lui a donné la note de 3.0\n",
      "l'utilisateur 748 a déjà vu le film 197 et lui a donné la note de 3.0\n",
      "l'utilisateur 307 a déjà vu le film 197 et lui a donné la note de 4.0\n",
      "l'utilisateur 271 a déjà vu le film 197 et lui a donné la note de 4.0\n",
      "l'utilisateur 288 a déjà vu le film 197 et lui a donné la note de 5.0\n",
      "l'utilisateur 322 a déjà vu le film 197 et lui a donné la note de 5.0\n",
      "l'utilisateur 321 a déjà vu le film 197 et lui a donné la note de 5.0\n",
      "l'utilisateur 316 a déjà vu le film 197 et lui a donné la note de 4.0\n",
      "l'utilisateur 89 a déjà vu le film 197 et lui a donné la note de 5.0\n",
      "l'utilisateur 174 a déjà vu le film 197 et lui a donné la note de 5.0\n",
      "l'utilisateur 187 a déjà vu le film 197 et lui a donné la note de 4.0\n",
      "l'utilisateur 210 a déjà vu le film 197 et lui a donné la note de 5.0\n"
     ]
    },
    {
     "name": "stderr",
     "output_type": "stream",
     "text": [
      "1098it [00:03, 393.40it/s]"
     ]
    },
    {
     "name": "stdout",
     "output_type": "stream",
     "text": [
      "l'utilisateur 82 a déjà vu le film 197 et lui a donné la note de 4.0\n",
      "l'utilisateur 385 a déjà vu le film 197 et lui a donné la note de 4.0\n",
      "l'utilisateur 233 a déjà vu le film 197 et lui a donné la note de 5.0\n",
      "l'utilisateur 177 a déjà vu le film 197 et lui a donné la note de 4.0\n",
      "l'utilisateur 184 a déjà vu le film 197 et lui a donné la note de 4.0\n",
      "l'utilisateur 161 a déjà vu le film 197 et lui a donné la note de 3.0\n",
      "l'utilisateur 232 a déjà vu le film 197 et lui a donné la note de 4.0\n",
      "l'utilisateur 802 a déjà vu le film 197 et lui a donné la note de 3.0\n",
      "l'utilisateur 849 a déjà vu le film 197 et lui a donné la note de 5.0\n",
      "l'utilisateur 373 a déjà vu le film 197 et lui a donné la note de 3.0\n",
      "l'utilisateur 405 a déjà vu le film 548 et lui a donné la note de 1.0\n",
      "l'utilisateur 13 a déjà vu le film 548 et lui a donné la note de 3.0\n"
     ]
    },
    {
     "name": "stderr",
     "output_type": "stream",
     "text": [
      "1190it [00:04, 360.48it/s]"
     ]
    },
    {
     "name": "stdout",
     "output_type": "stream",
     "text": [
      "l'utilisateur 472 a déjà vu le film 548 et lui a donné la note de 1.0\n",
      "l'utilisateur 271 a déjà vu le film 215 et lui a donné la note de 4.0\n",
      "l'utilisateur 474 a déjà vu le film 215 et lui a donné la note de 5.0\n",
      "l'utilisateur 144 a déjà vu le film 215 et lui a donné la note de 4.0\n"
     ]
    },
    {
     "name": "stderr",
     "output_type": "stream",
     "text": [
      "1267it [00:04, 330.86it/s]"
     ]
    },
    {
     "name": "stdout",
     "output_type": "stream",
     "text": [
      "l'utilisateur 151 a déjà vu le film 215 et lui a donné la note de 3.0\n",
      "l'utilisateur 216 a déjà vu le film 215 et lui a donné la note de 5.0\n",
      "l'utilisateur 64 a déjà vu le film 215 et lui a donné la note de 5.0\n",
      "l'utilisateur 174 a déjà vu le film 215 et lui a donné la note de 5.0\n",
      "l'utilisateur 23 a déjà vu le film 215 et lui a donné la note de 2.0\n",
      "l'utilisateur 194 a déjà vu le film 215 et lui a donné la note de 3.0\n",
      "l'utilisateur 211 a déjà vu le film 215 et lui a donné la note de 5.0\n",
      "l'utilisateur 222 a déjà vu le film 215 et lui a donné la note de 4.0\n",
      "l'utilisateur 380 a déjà vu le film 215 et lui a donné la note de 3.0\n",
      "l'utilisateur 450 a déjà vu le film 215 et lui a donné la note de 5.0\n",
      "l'utilisateur 313 a déjà vu le film 215 et lui a donné la note de 4.0\n",
      "l'utilisateur 77 a déjà vu le film 215 et lui a donné la note de 2.0\n",
      "l'utilisateur 618 a déjà vu le film 91 et lui a donné la note de 4.0\n"
     ]
    },
    {
     "name": "stderr",
     "output_type": "stream",
     "text": [
      "\r",
      "1302it [00:04, 254.53it/s]"
     ]
    },
    {
     "name": "stdout",
     "output_type": "stream",
     "text": [
      "l'utilisateur 527 a déjà vu le film 91 et lui a donné la note de 2.0\n",
      "l'utilisateur 601 a déjà vu le film 91 et lui a donné la note de 5.0\n",
      "l'utilisateur 495 a déjà vu le film 91 et lui a donné la note de 2.0\n"
     ]
    },
    {
     "name": "stderr",
     "output_type": "stream",
     "text": [
      "\r",
      "1332it [00:04, 187.52it/s]"
     ]
    },
    {
     "name": "stdout",
     "output_type": "stream",
     "text": [
      "l'utilisateur 483 a déjà vu le film 91 et lui a donné la note de 3.0\n",
      "l'utilisateur 64 a déjà vu le film 91 et lui a donné la note de 4.0\n",
      "l'utilisateur 429 a déjà vu le film 91 et lui a donné la note de 3.0\n",
      "l'utilisateur 435 a déjà vu le film 91 et lui a donné la note de 4.0\n"
     ]
    },
    {
     "name": "stderr",
     "output_type": "stream",
     "text": [
      "1381it [00:05, 205.13it/s]"
     ]
    },
    {
     "name": "stdout",
     "output_type": "stream",
     "text": [
      "l'utilisateur 230 a déjà vu le film 91 et lui a donné la note de 3.0\n",
      "l'utilisateur 254 a déjà vu le film 649 et lui a donné la note de 1.0\n",
      "l'utilisateur 7 a déjà vu le film 643 et lui a donné la note de 4.0\n"
     ]
    },
    {
     "name": "stderr",
     "output_type": "stream",
     "text": [
      "1439it [00:05, 229.07it/s]"
     ]
    },
    {
     "name": "stdout",
     "output_type": "stream",
     "text": [
      "l'utilisateur 405 a déjà vu le film 643 et lui a donné la note de 1.0\n",
      "l'utilisateur 315 a déjà vu le film 269 et lui a donné la note de 5.0\n",
      "l'utilisateur 515 a déjà vu le film 269 et lui a donné la note de 2.0\n",
      "l'utilisateur 268 a déjà vu le film 269 et lui a donné la note de 4.0\n",
      "l'utilisateur 285 a déjà vu le film 269 et lui a donné la note de 4.0\n",
      "l'utilisateur 288 a déjà vu le film 317 et lui a donné la note de 4.0\n",
      "l'utilisateur 276 a déjà vu le film 269 et lui a donné la note de 4.0\n",
      "l'utilisateur 100 a déjà vu le film 269 et lui a donné la note de 4.0\n",
      "l'utilisateur 508 a déjà vu le film 269 et lui a donné la note de 4.0\n"
     ]
    },
    {
     "name": "stderr",
     "output_type": "stream",
     "text": [
      "1486it [00:05, 179.51it/s]"
     ]
    },
    {
     "name": "stdout",
     "output_type": "stream",
     "text": [
      "l'utilisateur 15 a déjà vu le film 269 et lui a donné la note de 5.0\n",
      "l'utilisateur 326 a déjà vu le film 317 et lui a donné la note de 3.0\n",
      "l'utilisateur 328 a déjà vu le film 317 et lui a donné la note de 4.0\n",
      "l'utilisateur 271 a déjà vu le film 317 et lui a donné la note de 3.0\n",
      "l'utilisateur 13 a déjà vu le film 269 et lui a donné la note de 2.0\n",
      "l'utilisateur 410 a déjà vu le film 269 et lui a donné la note de 5.0\n"
     ]
    },
    {
     "name": "stderr",
     "output_type": "stream",
     "text": [
      "1541it [00:05, 216.43it/s]"
     ]
    },
    {
     "name": "stdout",
     "output_type": "stream",
     "text": [
      "l'utilisateur 326 a déjà vu le film 701 et lui a donné la note de 4.0\n",
      "l'utilisateur 235 a déjà vu le film 269 et lui a donné la note de 4.0\n",
      "l'utilisateur 122 a déjà vu le film 269 et lui a donné la note de 5.0\n",
      "l'utilisateur 212 a déjà vu le film 269 et lui a donné la note de 3.0\n"
     ]
    },
    {
     "name": "stderr",
     "output_type": "stream",
     "text": [
      "1621it [00:06, 234.27it/s]"
     ]
    },
    {
     "name": "stdout",
     "output_type": "stream",
     "text": [
      "l'utilisateur 171 a déjà vu le film 269 et lui a donné la note de 4.0\n",
      "l'utilisateur 639 a déjà vu le film 269 et lui a donné la note de 3.0\n",
      "l'utilisateur 582 a déjà vu le film 269 et lui a donné la note de 4.0\n",
      "l'utilisateur 523 a déjà vu le film 269 et lui a donné la note de 5.0\n"
     ]
    },
    {
     "name": "stderr",
     "output_type": "stream",
     "text": [
      "1685it [00:06, 250.35it/s]"
     ]
    },
    {
     "name": "stdout",
     "output_type": "stream",
     "text": [
      "l'utilisateur 23 a déjà vu le film 269 et lui a donné la note de 5.0\n",
      "l'utilisateur 318 a déjà vu le film 269 et lui a donné la note de 5.0\n",
      "l'utilisateur 205 a déjà vu le film 269 et lui a donné la note de 3.0\n",
      "l'utilisateur 58 a déjà vu le film 269 et lui a donné la note de 4.0\n",
      "l'utilisateur 64 a déjà vu le film 269 et lui a donné la note de 5.0\n",
      "l'utilisateur 192 a déjà vu le film 269 et lui a donné la note de 3.0\n",
      "l'utilisateur 890 a déjà vu le film 489 et lui a donné la note de 4.0\n"
     ]
    },
    {
     "name": "stderr",
     "output_type": "stream",
     "text": [
      "1736it [00:06, 212.22it/s]"
     ]
    },
    {
     "name": "stdout",
     "output_type": "stream",
     "text": [
      "l'utilisateur 655 a déjà vu le film 269 et lui a donné la note de 3.0\n",
      "l'utilisateur 157 a déjà vu le film 269 et lui a donné la note de 4.0\n",
      "l'utilisateur 735 a déjà vu le film 269 et lui a donné la note de 3.0\n",
      "l'utilisateur 313 a déjà vu le film 636 et lui a donné la note de 4.0\n"
     ]
    },
    {
     "name": "stderr",
     "output_type": "stream",
     "text": [
      "1785it [00:06, 200.64it/s]"
     ]
    },
    {
     "name": "stdout",
     "output_type": "stream",
     "text": [
      "l'utilisateur 275 a déjà vu le film 636 et lui a donné la note de 3.0\n",
      "l'utilisateur 196 a déjà vu le film 269 et lui a donné la note de 3.0\n",
      "l'utilisateur 464 a déjà vu le film 269 et lui a donné la note de 5.0\n",
      "l'utilisateur 673 a déjà vu le film 269 et lui a donné la note de 4.0\n",
      "l'utilisateur 81 a déjà vu le film 269 et lui a donné la note de 3.0\n",
      "l'utilisateur 425 a déjà vu le film 269 et lui a donné la note de 4.0\n",
      "l'utilisateur 239 a déjà vu le film 269 et lui a donné la note de 5.0\n",
      "l'utilisateur 47 a déjà vu le film 269 et lui a donné la note de 4.0\n"
     ]
    },
    {
     "name": "stderr",
     "output_type": "stream",
     "text": [
      "1860it [00:07, 228.91it/s]"
     ]
    },
    {
     "name": "stdout",
     "output_type": "stream",
     "text": [
      "l'utilisateur 365 a déjà vu le film 269 et lui a donné la note de 4.0\n",
      "l'utilisateur 507 a déjà vu le film 269 et lui a donné la note de 2.0\n",
      "l'utilisateur 89 a déjà vu le film 269 et lui a donné la note de 5.0\n",
      "l'utilisateur 482 a déjà vu le film 269 et lui a donné la note de 4.0\n",
      "l'utilisateur 181 a déjà vu le film 269 et lui a donné la note de 1.0\n",
      "l'utilisateur 209 a déjà vu le film 269 et lui a donné la note de 2.0\n",
      "l'utilisateur 488 a déjà vu le film 269 et lui a donné la note de 3.0\n",
      "l'utilisateur 498 a déjà vu le film 269 et lui a donné la note de 4.0\n",
      "l'utilisateur 185 a déjà vu le film 269 et lui a donné la note de 5.0\n",
      "l'utilisateur 654 a déjà vu le film 269 et lui a donné la note de 4.0\n",
      "l'utilisateur 428 a déjà vu le film 269 et lui a donné la note de 5.0\n",
      "l'utilisateur"
     ]
    },
    {
     "name": "stderr",
     "output_type": "stream",
     "text": [
      "1908it [00:07, 220.41it/s]"
     ]
    },
    {
     "name": "stdout",
     "output_type": "stream",
     "text": [
      " 525 a déjà vu le film 269 et lui a donné la note de 5.0\n",
      "l'utilisateur 7 a déjà vu le film 269 et lui a donné la note de 3.0\n",
      "l'utilisateur 136 a déjà vu le film 269 et lui a donné la note de 5.0\n",
      "l'utilisateur 181 a déjà vu le film 922 et lui a donné la note de 1.0\n",
      "l'utilisateur 514 a déjà vu le film 269 et lui a donné la note de 4.0\n",
      "l'utilisateur 174 a déjà vu le film 269 et lui a donné la note de 5.0\n",
      "l'utilisateur 222 a déjà vu le film 636 et lui a donné la note de 4.0\n",
      "l'utilisateur 151 a déjà vu le film 922 et lui a donné la note de 4.0\n",
      "l'utilisateur 133 a déjà vu le film 269 et lui a donné la note de 4.0\n",
      "l'utilisateur 707 a déjà vu le film 269 et lui a donné la note de 4.0\n"
     ]
    },
    {
     "name": "stderr",
     "output_type": "stream",
     "text": [
      "1953it [00:07, 202.20it/s]"
     ]
    },
    {
     "name": "stdout",
     "output_type": "stream",
     "text": [
      "l'utilisateur 659 a déjà vu le film 269 et lui a donné la note de 4.0\n",
      "l'utilisateur 173 a déjà vu le film 269 et lui a donné la note de 4.0\n",
      "l'utilisateur 608 a déjà vu le film 269 et lui a donné la note de 3.0\n",
      "l'utilisateur 657 a déjà vu le film 269 et lui a donné la note de 5.0\n",
      "l'utilisateur 747 a déjà vu le film 269 et lui a donné la note de 4.0\n",
      "l'utilisateur 186 a déjà vu le film 269 et lui a donné la note de 1.0\n",
      "l'utilisateur 17 a déjà vu le film 269 et lui a donné la note de 4.0\n"
     ]
    },
    {
     "name": "stderr",
     "output_type": "stream",
     "text": [
      "2002it [00:07, 215.25it/s]"
     ]
    },
    {
     "name": "stdout",
     "output_type": "stream",
     "text": [
      "l'utilisateur 131 a déjà vu le film 269 et lui a donné la note de 5.0\n",
      "l'utilisateur 163 a déjà vu le film 269 et lui a donné la note de 3.0\n",
      "l'utilisateur 710 a déjà vu le film 269 et lui a donné la note de 3.0\n",
      "l'utilisateur 433 a déjà vu le film 269 et lui a donné la note de 5.0\n",
      "l'utilisateur 486 a déjà vu le film 269 et lui a donné la note de 4.0\n",
      "l'utilisateur 378 a déjà vu le film 269 et lui a donné la note de 4.0\n"
     ]
    },
    {
     "name": "stderr",
     "output_type": "stream",
     "text": [
      "2045it [00:08, 195.35it/s]"
     ]
    },
    {
     "name": "stdout",
     "output_type": "stream",
     "text": [
      "l'utilisateur 202 a déjà vu le film 269 et lui a donné la note de 4.0\n",
      "l'utilisateur 616 a déjà vu le film 269 et lui a donné la note de 4.0\n",
      "l'utilisateur 218 a déjà vu le film 269 et lui a donné la note de 4.0\n",
      "l'utilisateur 385 a déjà vu le film 922 et lui a donné la note de 4.0\n",
      "l'utilisateur 805 a déjà vu le film 269 et lui a donné la note de 5.0\n",
      "l'utilisateur 568 a déjà vu le film 269 et lui a donné la note de 4.0\n",
      "l'utilisateur 63 a déjà vu le film 269 et lui a donné la note de 3.0\n"
     ]
    },
    {
     "name": "stderr",
     "output_type": "stream",
     "text": [
      "2085it [00:08, 168.57it/s]"
     ]
    },
    {
     "name": "stdout",
     "output_type": "stream",
     "text": [
      "l'utilisateur 451 a déjà vu le film 269 et lui a donné la note de 2.0\n",
      "l'utilisateur 327 a déjà vu le film 475 et lui a donné la note de 4.0\n",
      "l'utilisateur 286 a déjà vu le film 475 et lui a donné la note de 4.0\n"
     ]
    },
    {
     "name": "stderr",
     "output_type": "stream",
     "text": [
      "2122it [00:08, 156.31it/s]"
     ]
    },
    {
     "name": "stdout",
     "output_type": "stream",
     "text": [
      "l'utilisateur 347 a déjà vu le film 475 et lui a donné la note de 4.0\n",
      "l'utilisateur 303 a déjà vu le film 475 et lui a donné la note de 4.0\n",
      "l'utilisateur 629 a déjà vu le film 269 et lui a donné la note de 3.0\n",
      "l'utilisateur 775 a déjà vu le film 269 et lui a donné la note de 4.0\n",
      "l'utilisateur 928 a déjà vu le film 269 et lui a donné la note de 5.0\n",
      "l'utilisateur 931 a déjà vu le film 269 et lui a donné la note de 3.0\n",
      "l'utilisateur"
     ]
    },
    {
     "name": "stderr",
     "output_type": "stream",
     "text": [
      "2156it [00:08, 161.56it/s]"
     ]
    },
    {
     "name": "stdout",
     "output_type": "stream",
     "text": [
      " 783 a déjà vu le film 269 et lui a donné la note de 4.0\n",
      "l'utilisateur 940 a déjà vu le film 269 et lui a donné la note de 4.0\n",
      "l'utilisateur 315 a déjà vu le film 475 et lui a donné la note de 4.0\n",
      "l'utilisateur 276 a déjà vu le film 922 et lui a donné la note de 4.0\n",
      "l'utilisateur 268 a déjà vu le film 252 et lui a donné la note de"
     ]
    },
    {
     "name": "stderr",
     "output_type": "stream",
     "text": [
      "2204it [00:09, 184.56it/s]"
     ]
    },
    {
     "name": "stdout",
     "output_type": "stream",
     "text": [
      " 3.0\n",
      "l'utilisateur 54 a déjà vu le film 741 et lui a donné la note de 5.0\n",
      "l'utilisateur 529 a déjà vu le film 269 et lui a donné la note de 3.0\n",
      "l'utilisateur 48 a déjà vu le film 269 et lui a donné la note de 1.0\n",
      "l'utilisateur 537 a déjà vu le film 269 et lui a donné la note de 3.0\n",
      "l'utilisateur 845 a déjà vu le film 269 et lui a donné la note de 4.0\n",
      "l'utilisateur 275 a déjà vu le film 252 et lui a donné la note de 2.0\n",
      "l'utilisateur 717 a déjà vu le film 269 et lui a donné la note de 5.0\n",
      "l'utilisateur 254 a déjà vu le film 269 et lui a donné la note de 2.0\n"
     ]
    },
    {
     "name": "stderr",
     "output_type": "stream",
     "text": [
      "2261it [00:09, 224.46it/s]"
     ]
    },
    {
     "name": "stdout",
     "output_type": "stream",
     "text": [
      "l'utilisateur 276 a déjà vu le film 252 et lui a donné la note de 3.0\n",
      "l'utilisateur 290 a déjà vu le film 252 et lui a donné la note de 3.0\n",
      "l'utilisateur 1 a déjà vu le film 252 et lui a donné la note de 2.0\n",
      "l'utilisateur 640 a déjà vu le film 269 et lui a donné la note de 5.0\n"
     ]
    },
    {
     "name": "stderr",
     "output_type": "stream",
     "text": [
      "2360it [00:09, 198.30it/s]"
     ]
    },
    {
     "name": "stdout",
     "output_type": "stream",
     "text": [
      "l'utilisateur 151 a déjà vu le film 741 et lui a donné la note de 2.0\n",
      "l'utilisateur 270 a déjà vu le film 183 et lui a donné la note de 5.0\n",
      "l'utilisateur 380 a déjà vu le film 183 et lui a donné la note de 4.0\n",
      "l'utilisateur 450 a déjà vu le film 183 et lui a donné la note de 4.0\n",
      "l'utilisateur 96 a déjà vu le film 183 et lui a donné la note de 4.0\n"
     ]
    },
    {
     "name": "stderr",
     "output_type": "stream",
     "text": [
      "2420it [00:10, 216.38it/s]"
     ]
    },
    {
     "name": "stdout",
     "output_type": "stream",
     "text": [
      "l'utilisateur 250 a déjà vu le film 183 et lui a donné la note de 4.0\n",
      "l'utilisateur 405 a déjà vu le film 183 et lui a donné la note de 1.0\n",
      "l'utilisateur 655 a déjà vu le film 903 et lui a donné la note de 3.0\n",
      "l'utilisateur 77 a déjà vu le film 183 et lui a donné la note de 5.0\n",
      "l'utilisateur 375 a déjà vu le film 183 et lui a donné la note de 5.0\n",
      "l'utilisateur 286 a déjà vu le film 325 et lui a donné la note de 1.0\n",
      "l'utilisateur 345 a déjà vu le film 325 et lui a donné la note de 1.0\n"
     ]
    },
    {
     "name": "stderr",
     "output_type": "stream",
     "text": [
      "2483it [00:10, 256.60it/s]"
     ]
    },
    {
     "name": "stdout",
     "output_type": "stream",
     "text": [
      "l'utilisateur 135 a déjà vu le film 325 et lui a donné la note de 4.0\n",
      "l'utilisateur 835 a déjà vu le film 325 et lui a donné la note de 5.0\n",
      "l'utilisateur 200 a déjà vu le film 325 et lui a donné la note de 5.0\n",
      "l'utilisateur 50 a déjà vu le film 325 et lui a donné la note de 1.0\n",
      "l'utilisateur 181 a déjà vu le film 325 et lui a donné la note de 2.0\n",
      "l'utilisateur 510 a déjà vu le film 325 et lui a donné la note de 1.0\n",
      "l'utilisateur 526 a déjà vu le film 325 et lui a donné la note de 3.0\n",
      "l'utilisateur 195 a déjà vu le film 325 et lui a donné la note de 2.0\n",
      "l'utilisateur 176 a déjà vu le film 325 et lui a donné la note de 3.0\n",
      "l'utilisateur"
     ]
    },
    {
     "name": "stderr",
     "output_type": "stream",
     "text": [
      "\r",
      "2511it [00:10, 241.97it/s]"
     ]
    },
    {
     "name": "stdout",
     "output_type": "stream",
     "text": [
      " 529 a déjà vu le film 325 et lui a donné la note de 3.0\n",
      "l'utilisateur 168 a déjà vu le film 325 et lui a donné la note de 1.0\n"
     ]
    },
    {
     "name": "stderr",
     "output_type": "stream",
     "text": [
      "2607it [00:10, 249.09it/s]"
     ]
    },
    {
     "name": "stdout",
     "output_type": "stream",
     "text": [
      "l'utilisateur 143 a déjà vu le film 325 et lui a donné la note de 5.0\n",
      "l'utilisateur 107 a déjà vu le film 325 et lui a donné la note de 3.0\n",
      "l'utilisateur 62 a déjà vu le film 183 et lui a donné la note de 4.0\n",
      "l'utilisateur 655 a déjà vu le film 325 et lui a donné la note de 2.0\n",
      "l'utilisateur 144 a déjà vu le film 183 et lui a donné la note de 4.0\n",
      "l'utilisateur 262 a déjà vu le film 778 et lui a donné la note de 4.0\n",
      "l'utilisateur 286 a déjà vu le film 856 et lui a donné la note de 2.0\n",
      "l'utilisateur 327 a déjà vu le film 856 et lui a donné la note de 4.0\n",
      "l'utilisateur 682 a déjà vu le film 363 et lui a donné la note de 2.0\n",
      "l'utilisateur 347 a déjà vu le film 363 et lui a donné la note de 1.0\n"
     ]
    },
    {
     "name": "stderr",
     "output_type": "stream",
     "text": [
      "\r",
      "2636it [00:10, 251.14it/s]"
     ]
    },
    {
     "name": "stdout",
     "output_type": "stream",
     "text": [
      "l'utilisateur 346 a déjà vu le film 363 et lui a donné la note de 3.0\n",
      "l'utilisateur 301 a déjà vu le film 363 et lui a donné la note de 4.0\n",
      "l'utilisateur 181 a déjà vu le film 363 et lui a donné la note de 1.0\n"
     ]
    },
    {
     "name": "stderr",
     "output_type": "stream",
     "text": [
      "2690it [00:11, 197.31it/s]"
     ]
    },
    {
     "name": "stdout",
     "output_type": "stream",
     "text": [
      "l'utilisateur 709 a déjà vu le film 363 et lui a donné la note de 3.0\n"
     ]
    },
    {
     "name": "stderr",
     "output_type": "stream",
     "text": [
      "\r",
      "2713it [00:11, 179.05it/s]"
     ]
    },
    {
     "name": "stdout",
     "output_type": "stream",
     "text": [
      "l'utilisateur 705 a déjà vu le film 363 et lui a donné la note de 2.0\n"
     ]
    },
    {
     "name": "stderr",
     "output_type": "stream",
     "text": [
      "2755it [00:11, 170.54it/s]"
     ]
    },
    {
     "name": "stdout",
     "output_type": "stream",
     "text": [
      "l'utilisateur 200 a déjà vu le film 363 et lui a donné la note de 3.0\n",
      "l'utilisateur 792 a déjà vu le film 363 et lui a donné la note de 3.0\n",
      "l'utilisateur 506 a déjà vu le film 363 et lui a donné la note de 3.0\n",
      "l'utilisateur 222 a déjà vu le film 363 et lui a donné la note de 2.0\n"
     ]
    },
    {
     "name": "stderr",
     "output_type": "stream",
     "text": [
      "2838it [00:12, 176.74it/s]"
     ]
    },
    {
     "name": "stdout",
     "output_type": "stream",
     "text": [
      "l'utilisateur 5 a déjà vu le film 363 et lui a donné la note de 3.0\n"
     ]
    },
    {
     "name": "stderr",
     "output_type": "stream",
     "text": [
      "2900it [00:12, 222.14it/s]"
     ]
    },
    {
     "name": "stdout",
     "output_type": "stream",
     "text": [
      "l'utilisateur 825 a déjà vu le film 363 et lui a donné la note de 4.0\n",
      "l'utilisateur 393 a déjà vu le film 363 et lui a donné la note de 3.0\n",
      "l'utilisateur 217 a déjà vu le film 363 et lui a donné la note de 1.0\n"
     ]
    },
    {
     "name": "stderr",
     "output_type": "stream",
     "text": [
      "2987it [00:12, 254.91it/s]"
     ]
    },
    {
     "name": "stdout",
     "output_type": "stream",
     "text": [
      "l'utilisateur 37 a déjà vu le film 363 et lui a donné la note de 3.0\n",
      "l'utilisateur 145 a déjà vu le film 363 et lui a donné la note de 4.0\n",
      "l'utilisateur 102 a déjà vu le film 363 et lui a donné la note de 2.0\n"
     ]
    },
    {
     "name": "stderr",
     "output_type": "stream",
     "text": [
      "3145it [00:12, 342.75it/s]"
     ]
    },
    {
     "name": "stdout",
     "output_type": "stream",
     "text": [
      "l'utilisateur 256 a déjà vu le film 363 et lui a donné la note de 3.0\n"
     ]
    },
    {
     "name": "stderr",
     "output_type": "stream",
     "text": [
      "3231it [00:13, 297.54it/s]"
     ]
    },
    {
     "name": "stdout",
     "output_type": "stream",
     "text": [
      "l'utilisateur 288 a déjà vu le film 214 et lui a donné la note de 2.0\n",
      "l'utilisateur 307 a déjà vu le film 214 et lui a donné la note de 5.0\n",
      "l'utilisateur 508 a déjà vu le film 214 et lui a donné la note de 3.0\n",
      "l'utilisateur 117 a déjà vu le film 214 et lui a donné la note de 5.0\n",
      "l'utilisateur 276 a déjà vu le film 214 et lui a donné la note de 5.0\n",
      "l'utilisateur 187 a déjà vu le film 214 et lui a donné la note de 4.0\n",
      "l'utilisateur"
     ]
    },
    {
     "name": "stderr",
     "output_type": "stream",
     "text": [
      "3302it [00:13, 311.54it/s]"
     ]
    },
    {
     "name": "stdout",
     "output_type": "stream",
     "text": [
      " 303 a déjà vu le film 334 et lui a donné la note de 3.0\n",
      "l'utilisateur 527 a déjà vu le film 214 et lui a donné la note de 4.0\n",
      "l'utilisateur 301 a déjà vu le film 334 et lui a donné la note de 3.0\n",
      "l'utilisateur 213 a déjà vu le film 214 et lui a donné la note de 5.0\n"
     ]
    },
    {
     "name": "stderr",
     "output_type": "stream",
     "text": [
      "3369it [00:13, 238.42it/s]"
     ]
    },
    {
     "name": "stdout",
     "output_type": "stream",
     "text": [
      "l'utilisateur 181 a déjà vu le film 334 et lui a donné la note de 1.0\n",
      "l'utilisateur 13 a déjà vu le film 334 et lui a donné la note de 1.0\n",
      "l'utilisateur 276 a déjà vu le film 334 et lui a donné la note de 4.0\n",
      "l'utilisateur 10 a déjà vu le film 334 et lui a donné la note de 4.0\n"
     ]
    },
    {
     "name": "stderr",
     "output_type": "stream",
     "text": [
      "3467it [00:14, 278.95it/s]"
     ]
    },
    {
     "name": "stdout",
     "output_type": "stream",
     "text": [
      "l'utilisateur 427 a déjà vu le film 334 et lui a donné la note de 5.0\n"
     ]
    },
    {
     "name": "stderr",
     "output_type": "stream",
     "text": [
      "3554it [00:14, 260.29it/s]"
     ]
    },
    {
     "name": "stdout",
     "output_type": "stream",
     "text": [
      "l'utilisateur 631 a déjà vu le film 334 et lui a donné la note de 2.0\n",
      "l'utilisateur 255 a déjà vu le film 829 et lui a donné la note de 1.0\n",
      "l'utilisateur 408 a déjà vu le film 334 et lui a donné la note de 2.0\n",
      "l'utilisateur 428 a déjà vu le film 334 et lui a donné la note de 4.0\n",
      "l'utilisateur 69 a déjà vu le film 334 et lui a donné la note de 3.0\n",
      "l'utilisateur 710 a déjà vu le film 334 et lui a donné la note de 2.0\n",
      "l'utilisateur 288 a déjà vu le film 223 et lui a donné la note de 3.0\n",
      "l'utilisateur 908 a déjà vu le film 223 et lui a donné la note de 4.0\n",
      "l'utilisateur 682 a déjà vu le film 223 et lui a donné la note de 1.0\n"
     ]
    },
    {
     "name": "stderr",
     "output_type": "stream",
     "text": [
      "3611it [00:14, 238.71it/s]"
     ]
    },
    {
     "name": "stdout",
     "output_type": "stream",
     "text": [
      "l'utilisateur 425 a déjà vu le film 334 et lui a donné la note de 4.0\n",
      "l'utilisateur 328 a déjà vu le film 223 et lui a donné la note de 4.0\n",
      "l'utilisateur 323 a déjà vu le film 223 et lui a donné la note de 4.0\n",
      "l'utilisateur 749 a déjà vu le film 223 et lui a donné la note de 4.0\n",
      "l'utilisateur 243 a déjà vu le film 223 et lui a donné la note de 4.0\n",
      "l'utilisateur 1 a déjà vu le film 223 et lui a donné la note de 5.0\n",
      "l'utilisateur 276 a déjà vu le film 223 et lui a donné la note de 5.0\n"
     ]
    },
    {
     "name": "stderr",
     "output_type": "stream",
     "text": [
      "3696it [00:15, 240.27it/s]"
     ]
    },
    {
     "name": "stdout",
     "output_type": "stream",
     "text": [
      "l'utilisateur 409 a déjà vu le film 223 et lui a donné la note de 4.0\n",
      "l'utilisateur 249 a déjà vu le film 223 et lui a donné la note de 4.0\n",
      "l'utilisateur 535 a déjà vu le film 223 et lui a donné la note de 5.0\n",
      "l'utilisateur 118 a déjà vu le film 223 et lui a donné la note de 5.0\n",
      "l'utilisateur 864 a déjà vu le film 223 et lui a donné la note de 5.0\n",
      "l'utilisateur 185 a déjà vu le film 223 et lui a donné la note de 4.0\n",
      "l'utilisateur 28 a déjà vu le film 223 et lui a donné la note de 5.0\n"
     ]
    },
    {
     "name": "stderr",
     "output_type": "stream",
     "text": [
      "3750it [00:15, 222.76it/s]"
     ]
    },
    {
     "name": "stdout",
     "output_type": "stream",
     "text": [
      "l'utilisateur 13 a déjà vu le film 174 et lui a donné la note de 4.0\n",
      "l'utilisateur 313 a déjà vu le film 191 et lui a donné la note de 5.0\n",
      "l'utilisateur 345 a déjà vu le film 191 et lui a donné la note de 5.0\n",
      "l'utilisateur 286 a déjà vu le film 191 et lui a donné la note de 4.0\n",
      "l'utilisateur 301 a déjà vu le film 191 et lui a donné la note de 3.0\n",
      "l'utilisateur 316 a déjà vu le film 191 et lui a donné la note de 5.0\n"
     ]
    },
    {
     "name": "stderr",
     "output_type": "stream",
     "text": [
      "3819it [00:15, 211.77it/s]"
     ]
    },
    {
     "name": "stdout",
     "output_type": "stream",
     "text": [
      "l'utilisateur 343 a déjà vu le film 191 et lui a donné la note de 5.0\n",
      "l'utilisateur 339 a déjà vu le film 191 et lui a donné la note de 5.0\n",
      "l'utilisateur 896 a déjà vu le film 191 et lui a donné la note de 4.0\n"
     ]
    },
    {
     "name": "stderr",
     "output_type": "stream",
     "text": [
      "3912it [00:16, 261.94it/s]"
     ]
    },
    {
     "name": "stdout",
     "output_type": "stream",
     "text": [
      "l'utilisateur 14 a déjà vu le film 655 et lui a donné la note de 5.0\n",
      "l'utilisateur 92 a déjà vu le film 655 et lui a donné la note de 4.0\n",
      "l'utilisateur 405 a déjà vu le film 190 et lui a donné la note de 2.0\n",
      "l'utilisateur 826 a déjà vu le film 190 et lui a donné la note de 3.0\n",
      "l'utilisateur 50 a déjà vu le film 475 et lui a donné la note de 5.0\n",
      "l'utilisateur 259 a déjà vu le film 475 et lui a donné la note de 5.0\n"
     ]
    },
    {
     "name": "stderr",
     "output_type": "stream",
     "text": [
      "3972it [00:16, 232.98it/s]"
     ]
    },
    {
     "name": "stdout",
     "output_type": "stream",
     "text": [
      "l'utilisateur 173 a déjà vu le film 334 et lui a donné la note de 4.0\n",
      "l'utilisateur 1 a déjà vu le film 253 et lui a donné la note de 5.0\n",
      "l'utilisateur 50 a déjà vu le film 253 et lui a donné la note de 5.0\n"
     ]
    },
    {
     "name": "stderr",
     "output_type": "stream",
     "text": [
      "4151it [00:16, 255.39it/s]"
     ]
    },
    {
     "name": "stdout",
     "output_type": "stream",
     "text": [
      "l'utilisateur 283 a déjà vu le film 625 et lui a donné la note de 3.0\n",
      "l'utilisateur 313 a déjà vu le film 229 et lui a donné la note de 3.0\n",
      "l'utilisateur 303 a déjà vu le film 229 et lui a donné la note de 3.0\n",
      "l'utilisateur 328 a déjà vu le film 229 et lui a donné la note de 3.0\n",
      "l'utilisateur 886 a déjà vu le film 229 et lui a donné la note de 3.0\n",
      "l'utilisateur 311 a déjà vu le film 229 et lui a donné la note de 5.0\n",
      "l'utilisateur 896 a déjà vu le film 229 et lui a donné la note de 4.0\n",
      "l'utilisateur 286 a déjà vu le film 229 et lui a donné la note de 1.0\n"
     ]
    },
    {
     "name": "stderr",
     "output_type": "stream",
     "text": [
      "4233it [00:17, 252.33it/s]"
     ]
    },
    {
     "name": "stdout",
     "output_type": "stream",
     "text": [
      "l'utilisateur 286 a déjà vu le film 329 et lui a donné la note de 4.0\n",
      "l'utilisateur 181 a déjà vu le film 329 et lui a donné la note de 1.0\n",
      "l'utilisateur 515 a déjà vu le film 329 et lui a donné la note de 2.0\n"
     ]
    },
    {
     "name": "stderr",
     "output_type": "stream",
     "text": [
      "\r",
      "4259it [00:17, 239.22it/s]"
     ]
    },
    {
     "name": "stdout",
     "output_type": "stream",
     "text": [
      "l'utilisateur 354 a déjà vu le film 655 et lui a donné la note de 3.0\n",
      "l'utilisateur 7 a déjà vu le film 379 et lui a donné la note de 4.0\n",
      "l'utilisateur 887 a déjà vu le film 111 et lui a donné la note de 5.0\n",
      "l'utilisateur 304 a déjà vu le film 111 et lui a donné la note de 3.0\n",
      "l'utilisateur 242 a déjà vu le film 111 et lui a donné la note de 4.0\n",
      "l'utilisateur 303 a déjà vu le film 111 et lui a donné la note de 3.0\n",
      "l'utilisateur 301 a déjà vu le film 111 et lui a donné la note de 1.0\n",
      "l'utilisateur 286 a déjà vu le film 111 et lui a donné la note de 5.0\n",
      "l'utilisateur 344 a déjà vu le film 111 et lui a donné la note de 4.0\n"
     ]
    },
    {
     "name": "stderr",
     "output_type": "stream",
     "text": [
      "4333it [00:17, 216.61it/s]"
     ]
    },
    {
     "name": "stdout",
     "output_type": "stream",
     "text": [
      "l'utilisateur 286 a déjà vu le film 883 et lui a donné la note de 5.0\n"
     ]
    },
    {
     "name": "stderr",
     "output_type": "stream",
     "text": [
      "4502it [00:18, 267.76it/s]"
     ]
    },
    {
     "name": "stdout",
     "output_type": "stream",
     "text": [
      "l'utilisateur 408 a déjà vu le film 312 et lui a donné la note de 3.0\n",
      "l'utilisateur 174 a déjà vu le film 312 et lui a donné la note de 5.0\n",
      "l'utilisateur 531 a déjà vu le film 312 et lui a donné la note de 5.0\n",
      "l'utilisateur 526 a déjà vu le film 312 et lui a donné la note de 2.0\n",
      "l'utilisateur 428 a déjà vu le film 312 et lui a donné la note de 4.0\n",
      "l'utilisateur"
     ]
    },
    {
     "name": "stderr",
     "output_type": "stream",
     "text": [
      "\r",
      "4530it [00:18, 197.32it/s]"
     ]
    },
    {
     "name": "stdout",
     "output_type": "stream",
     "text": [
      " 675 a déjà vu le film 312 et lui a donné la note de 2.0\n",
      "l'utilisateur 537 a déjà vu le film 312 et lui a donné la note de 3.0\n"
     ]
    },
    {
     "name": "stderr",
     "output_type": "stream",
     "text": [
      "4693it [00:19, 319.97it/s]"
     ]
    },
    {
     "name": "stdout",
     "output_type": "stream",
     "text": [
      "l'utilisateur 919 a déjà vu le film 312 et lui a donné la note de 2.0\n",
      "l'utilisateur 499 a déjà vu le film 312 et lui a donné la note de 4.0\n",
      "l'utilisateur 489 a déjà vu le film 312 et lui a donné la note de 2.0\n",
      "l'utilisateur 286 a déjà vu le film 280 et lui a donné la note de 4.0\n",
      "l'utilisateur 13 a déjà vu le film 280 et lui a donné la note de 4.0\n"
     ]
    },
    {
     "name": "stderr",
     "output_type": "stream",
     "text": [
      "4804it [00:19, 399.86it/s]"
     ]
    },
    {
     "name": "stdout",
     "output_type": "stream",
     "text": [
      "l'utilisateur 655 a déjà vu le film 280 et lui a donné la note de 2.0\n",
      "l'utilisateur 144 a déjà vu le film 280 et lui a donné la note de 1.0\n",
      "l'utilisateur 174 a déjà vu le film 280 et lui a donné la note de 5.0\n",
      "l'utilisateur 222 a déjà vu le film 280 et lui a donné la note de 3.0\n",
      "l'utilisateur 486 a déjà vu le film 280 et lui a donné la note de 2.0\n",
      "l'utilisateur 663 a déjà vu le film 280 et lui a donné la note de 3.0\n",
      "l'utilisateur 66 a déjà vu le film 280 et lui a donné la note de 4.0\n",
      "l'utilisateur 128 a déjà vu le film 280 et lui a donné la note de 1.0\n",
      "l'utilisateur 274 a déjà vu le film 280 et lui a donné la note de 1.0\n",
      "l'utilisateur 181 a déjà vu le film 280 et lui a donné la note de 4.0\n",
      "l'utilisateur 2 a déjà vu le film 280 et lui a donné la note de 3.0\n"
     ]
    },
    {
     "name": "stderr",
     "output_type": "stream",
     "text": [
      "4888it [00:19, 303.92it/s]"
     ]
    },
    {
     "name": "stdout",
     "output_type": "stream",
     "text": [
      "l'utilisateur 697 a déjà vu le film 280 et lui a donné la note de 3.0\n",
      "l'utilisateur 764 a déjà vu le film 280 et lui a donné la note de 4.0\n",
      "l'utilisateur 216 a déjà vu le film 280 et lui a donné la note de 2.0\n"
     ]
    },
    {
     "name": "stderr",
     "output_type": "stream",
     "text": [
      "5004it [00:19, 400.85it/s]"
     ]
    },
    {
     "name": "stdout",
     "output_type": "stream",
     "text": [
      "l'utilisateur 230 a déjà vu le film 280 et lui a donné la note de 4.0\n",
      "l'utilisateur 576 a déjà vu le film 280 et lui a donné la note de 5.0\n",
      "l'utilisateur 540 a déjà vu le film 280 et lui a donné la note de 3.0\n",
      "l'utilisateur 393 a déjà vu le film 280 et lui a donné la note de 4.0\n",
      "l'utilisateur 200 a déjà vu le film 280 et lui a donné la note de 4.0\n",
      "l'utilisateur 327 a déjà vu le film 186 et lui a donné la note de 2.0\n",
      "l'utilisateur 303 a déjà vu le film 186 et lui a donné la note de 4.0\n",
      "l'utilisateur 880 a déjà vu le film 186 et lui a donné la note de 4.0\n",
      "l'utilisateur 333 a déjà vu le film 186 et lui a donné la note de 4.0\n",
      "l'utilisateur 177 a déjà vu le film 186 et lui a donné la note de 4.0\n",
      "l'utilisateur"
     ]
    },
    {
     "name": "stderr",
     "output_type": "stream",
     "text": [
      "5113it [00:19, 463.49it/s]"
     ]
    },
    {
     "name": "stdout",
     "output_type": "stream",
     "text": [
      " 193 a déjà vu le film 94 et lui a donné la note de 3.0\n",
      "l'utilisateur 642 a déjà vu le film 94 et lui a donné la note de 2.0\n",
      "l'utilisateur 484 a déjà vu le film 94 et lui a donné la note de 4.0\n",
      "l'utilisateur 92 a déjà vu le film 94 et lui a donné la note de 3.0\n",
      "l'utilisateur 318 a déjà vu le film 94 et lui a donné la note de 4.0\n",
      "l'utilisateur 222 a déjà vu le film 94 et lui a donné la note de 3.0\n",
      "l'utilisateur 200 a déjà vu le film 94 et lui a donné la note de 4.0\n",
      "l'utilisateur 196 a déjà vu le film 94 et lui a donné la note de 3.0\n",
      "l'utilisateur 405 a déjà vu le film 94 et lui a donné la note de 5.0\n",
      "l'utilisateur 684 a déjà vu le film 94 et lui a donné la note de 3.0\n",
      "l'utilisateur 506 a déjà vu le film 94 et lui a donné la note de 3.0\n",
      "l'utilisateur 471 a déjà vu le film 94 et lui a donné la note de 5.0\n",
      "l'utilisateur 393 a déjà vu le film 94 et lui a donné la note de 4.0\n",
      "l'utilisateur 559 a déjà vu le film 94 et lui a donné la note de 3.0\n",
      "l'utilisateur 566 a déjà vu le film 94 et lui a donné la note de 2.0\n"
     ]
    },
    {
     "name": "stderr",
     "output_type": "stream",
     "text": [
      "\r",
      "5164it [00:20, 398.77it/s]"
     ]
    },
    {
     "name": "stdout",
     "output_type": "stream",
     "text": [
      "l'utilisateur 109 a déjà vu le film 94 et lui a donné la note de 4.0\n",
      "l'utilisateur 943 a déjà vu le film 94 et lui a donné la note de 4.0\n",
      "l'utilisateur 727 a déjà vu le film 94 et lui a donné la note de 4.0\n",
      "l'utilisateur 823 a déjà vu le film 94 et lui a donné la note de 2.0\n",
      "l'utilisateur 70 a déjà vu le film 94 et lui a donné la note de 3.0\n",
      "l'utilisateur 622 a déjà vu le film 94 et lui a donné la note de 2.0\n"
     ]
    },
    {
     "name": "stderr",
     "output_type": "stream",
     "text": [
      "\r",
      "5209it [00:20, 329.40it/s]"
     ]
    },
    {
     "name": "stdout",
     "output_type": "stream",
     "text": [
      "l'utilisateur 417 a déjà vu le film 94 et lui a donné la note de 3.0\n",
      "l'utilisateur 399 a déjà vu le film 94 et lui a donné la note de 5.0\n"
     ]
    },
    {
     "name": "stderr",
     "output_type": "stream",
     "text": [
      "5281it [00:20, 268.66it/s]"
     ]
    },
    {
     "name": "stdout",
     "output_type": "stream",
     "text": [
      "l'utilisateur 13 a déjà vu le film 883 et lui a donné la note de 3.0\n",
      "l'utilisateur 864 a déjà vu le film 94 et lui a donné la note de 4.0\n",
      "l'utilisateur 293 a déjà vu le film 94 et lui a donné la note de 2.0\n",
      "l'utilisateur"
     ]
    },
    {
     "name": "stderr",
     "output_type": "stream",
     "text": [
      "\r",
      "5312it [00:20, 246.65it/s]"
     ]
    },
    {
     "name": "stdout",
     "output_type": "stream",
     "text": [
      " 246 a déjà vu le film 94 et lui a donné la note de 2.0\n",
      "l'utilisateur 245 a déjà vu le film 94 et lui a donné la note de 2.0\n",
      "l'utilisateur 268 a déjà vu le film 94 et lui a donné la note de 2.0\n",
      "l'utilisateur 313 a déjà vu le film 94 et lui a donné la note de 3.0\n"
     ]
    },
    {
     "name": "stderr",
     "output_type": "stream",
     "text": [
      "5365it [00:21, 216.55it/s]"
     ]
    },
    {
     "name": "stdout",
     "output_type": "stream",
     "text": [
      "l'utilisateur 346 a déjà vu le film 94 et lui a donné la note de 3.0\n",
      "l'utilisateur 313 a déjà vu le film 134 et lui a donné la note de 5.0\n",
      "l'utilisateur 326 a déjà vu le film 134 et lui a donné la note de 3.0\n",
      "l'utilisateur 339 a déjà vu le film 134 et lui a donné la note de 5.0\n",
      "l'utilisateur 338 a déjà vu le film 134 et lui a donné la note de 5.0\n",
      "l'utilisateur 892 a déjà vu le film 134 et lui a donné la note de 5.0\n",
      "l'utilisateur 1 a déjà vu le film 134 et lui a donné la note de 4.0\n"
     ]
    },
    {
     "name": "stderr",
     "output_type": "stream",
     "text": [
      "5438it [00:21, 216.15it/s]"
     ]
    },
    {
     "name": "stdout",
     "output_type": "stream",
     "text": [
      "l'utilisateur 387 a déjà vu le film 195 et lui a donné la note de 4.0\n",
      "l'utilisateur 913 a déjà vu le film 655 et lui a donné la note de 4.0\n",
      "l'utilisateur 912 a déjà vu le film 655 et lui a donné la note de 5.0\n",
      "l'utilisateur 291 a déjà vu le film 200 et lui a donné la note de 4.0\n",
      "l'utilisateur 286 a déjà vu le film 818 et lui a donné la note de 2.0\n"
     ]
    },
    {
     "name": "stderr",
     "output_type": "stream",
     "text": [
      "5526it [00:21, 235.61it/s]"
     ]
    },
    {
     "name": "stdout",
     "output_type": "stream",
     "text": [
      "l'utilisateur 291 a déjà vu le film 54 et lui a donné la note de 4.0\n",
      "l'utilisateur 313 a déjà vu le film 514 et lui a donné la note de 4.0\n",
      "l'utilisateur 286 a déjà vu le film 11 et lui a donné la note de 5.0\n",
      "l'utilisateur 268 a déjà vu le film 11 et lui a donné la note de 4.0\n",
      "l'utilisateur 332 a déjà vu le film 11 et lui a donné la note de 5.0\n",
      "l'utilisateur 749 a déjà vu le film 11 et lui a donné la note de 5.0\n",
      "l'utilisateur 751 a déjà vu le film 11 et lui a donné la note de 1.0\n",
      "l'utilisateur 301 a déjà vu le film 11 et lui a donné la note de 4.0\n",
      "l'utilisateur 222 a déjà vu le film 11 et lui a donné la note de 5.0\n",
      "l'utilisateur 291 a déjà vu le film 11 et lui a donné la note de 4.0\n"
     ]
    },
    {
     "name": "stderr",
     "output_type": "stream",
     "text": [
      "5574it [00:22, 189.33it/s]"
     ]
    },
    {
     "name": "stdout",
     "output_type": "stream",
     "text": [
      "l'utilisateur 109 a déjà vu le film 11 et lui a donné la note de 4.0\n",
      "l'utilisateur 455 a déjà vu le film 11 et lui a donné la note de 3.0\n",
      "l'utilisateur 106 a déjà vu le film 660 et lui a donné la note de 4.0\n",
      "l'utilisateur 405 a déjà vu le film 11 et lui a donné la note de 4.0\n",
      "l'utilisateur 24 a déjà vu le film 11 et lui a donné la note de 5.0\n",
      "l'utilisateur 521 a déjà vu le film 11 et lui a donné la note de 4.0\n",
      "l'utilisateur 28 a déjà vu le film 11 et lui a donné la note de 4.0\n",
      "l'utilisateur 425 a déjà vu le film 11 et lui a donné la note de 3.0\n",
      "l'utilisateur 429 a déjà vu le film 11 et lui a donné la note de 4.0\n",
      "l'utilisateur "
     ]
    },
    {
     "name": "stderr",
     "output_type": "stream",
     "text": [
      "5624it [00:22, 199.53it/s]"
     ]
    },
    {
     "name": "stdout",
     "output_type": "stream",
     "text": [
      "727 a déjà vu le film 11 et lui a donné la note de 3.0\n",
      "l'utilisateur 527 a déjà vu le film 11 et lui a donné la note de 4.0\n",
      "l'utilisateur 175 a déjà vu le film 11 et lui a donné la note de 5.0\n",
      "l'utilisateur 57 a déjà vu le film 11 et lui a donné la note de 3.0\n",
      "l'utilisateur 58 a déjà vu le film 11 et lui a donné la note de 5.0\n",
      "l'utilisateur 715 a déjà vu le film 11 et lui a donné la note de 4.0\n",
      "l'utilisateur 737 a déjà vu le film 11 et lui a donné la note de 3.0\n",
      "l'utilisateur 8 a déjà vu le film 11 et lui a donné la note de 3.0\n",
      "l'utilisateur 216 a déjà vu le film 11 et lui a donné la note de 5.0\n",
      "l'utilisateur 435 a déjà vu le film 11 et lui a donné la note de 5.0\n",
      "l'utilisateur"
     ]
    },
    {
     "name": "stderr",
     "output_type": "stream",
     "text": [
      "5676it [00:22, 200.21it/s]"
     ]
    },
    {
     "name": "stdout",
     "output_type": "stream",
     "text": [
      " 663 a déjà vu le film 11 et lui a donné la note de 5.0\n",
      "l'utilisateur 716 a déjà vu le film 11 et lui a donné la note de 4.0\n",
      "l'utilisateur 393 a déjà vu le film 11 et lui a donné la note de 3.0\n",
      "l'utilisateur 399 a déjà vu le film 11 et lui a donné la note de 4.0\n",
      "l'utilisateur 94 a déjà vu le film 11 et lui a donné la note de 5.0\n",
      "l'utilisateur 401 a déjà vu le film 11 et lui a donné la note de 2.0\n",
      "l'utilisateur 110 a déjà vu le film 11 et lui a donné la note de 4.0\n",
      "l'utilisateur 414 a déjà vu le film 11 et lui a donné la note de 5.0\n",
      "l'utilisateur 577 a déjà vu le film 11 et lui a donné la note de 2.0\n",
      "l'utilisateur 230 a déjà vu le film 11 et lui a donné la note de 4.0\n",
      "l'utilisateur 654 a déjà vu le film 11 et lui a donné la note de 4.0\n",
      "l'utilisateur 561 a déjà vu le film 11 et lui a donné la note de 4.0\n",
      "l'utilisateur 213 a déjà vu le film 11 et lui a donné la note de 4.0\n",
      "l'utilisateur 747 a déjà vu le film 11 et lui a donné la note de 5.0\n"
     ]
    },
    {
     "name": "stderr",
     "output_type": "stream",
     "text": [
      "5792it [00:23, 253.05it/s]"
     ]
    },
    {
     "name": "stdout",
     "output_type": "stream",
     "text": [
      "l'utilisateur 690 a déjà vu le film 94 et lui a donné la note de 4.0\n",
      "l'utilisateur 95 a déjà vu le film 625 et lui a donné la note de 4.0\n",
      "l'utilisateur 271 a déjà vu le film 603 et lui a donné la note de 4.0\n",
      "l'utilisateur 450 a déjà vu le film 603 et lui a donné la note de 5.0\n",
      "l'utilisateur 7 a déjà vu le film 603 et lui a donné la note de 4.0\n",
      "l'utilisateur 313 a déjà vu le film 603 et lui a donné la note de 5.0\n",
      "l'utilisateur 172 a déjà vu le film 603 et lui a donné la note de 3.0\n",
      "l'utilisateur 751 a déjà vu le film 603 et lui a donné la note de 4.0\n",
      "l'utilisateur 748 a déjà vu le film 603 et lui a donné la note de 5.0\n",
      "l'utilisateur 294 a déjà vu le film 603 et lui a donné la note de 5.0\n",
      "l'utilisateur 326 a déjà vu le film 603 et lui a donné la note de 4.0\n",
      "l'utilisateur 474 a déjà vu le film 603 et lui a donné la note de 5.0\n",
      "l'utilisateur 747 a déjà vu le film 603 et lui a donné la note de 5.0\n",
      "l'utilisateur 429 a déjà vu le film 603 et lui a donné la note de 4.0\n",
      "l'utilisateur 385 a déjà vu le film 603 et lui a donné la note de 5.0\n"
     ]
    },
    {
     "name": "stderr",
     "output_type": "stream",
     "text": [
      "5879it [00:23, 251.12it/s]"
     ]
    },
    {
     "name": "stdout",
     "output_type": "stream",
     "text": [
      "l'utilisateur 880 a déjà vu le film 33 et lui a donné la note de 3.0\n",
      "l'utilisateur 682 a déjà vu le film 33 et lui a donné la note de 4.0\n"
     ]
    },
    {
     "name": "stderr",
     "output_type": "stream",
     "text": [
      "\r",
      "6012it [00:23, 330.54it/s]"
     ]
    },
    {
     "name": "stdout",
     "output_type": "stream",
     "text": [
      "l'utilisateur 328 a déjà vu le film 4 et lui a donné la note de 3.0\n",
      "l'utilisateur 271 a déjà vu le film 4 et lui a donné la note de 5.0\n",
      "l'utilisateur 303 a déjà vu le film 4 et lui a donné la note de 4.0\n",
      "l'utilisateur 327 a déjà vu le film 4 et lui a donné la note de 4.0\n",
      "l'utilisateur 301 a déjà vu le film 4 et lui a donné la note de 4.0\n",
      "l'utilisateur 210 a déjà vu le film 4 et lui a donné la note de 4.0\n",
      "l'utilisateur 264 a déjà vu le film 4 et lui a donné la note de 4.0\n",
      "l'utilisateur 307 a déjà vu le film 655 et lui a donné la note de 4.0\n",
      "l'utilisateur 889 a déjà vu le film 13 et lui a donné la note de 4.0\n"
     ]
    },
    {
     "name": "stderr",
     "output_type": "stream",
     "text": [
      "6153it [00:24, 247.44it/s]"
     ]
    },
    {
     "name": "stdout",
     "output_type": "stream",
     "text": [
      "l'utilisateur 96 a déjà vu le film 645 et lui a donné la note de 5.0\n",
      "l'utilisateur 212 a déjà vu le film 645 et lui a donné la note de 3.0\n",
      "l'utilisateur 184 a déjà vu le film 645 et lui a donné la note de 3.0\n"
     ]
    },
    {
     "name": "stderr",
     "output_type": "stream",
     "text": [
      "6217it [00:24, 214.59it/s]"
     ]
    },
    {
     "name": "stdout",
     "output_type": "stream",
     "text": [
      "l'utilisateur 618 a déjà vu le film 234 et lui a donné la note de 4.0\n",
      "l'utilisateur 488 a déjà vu le film 234 et lui a donné la note de 4.0\n",
      "l'utilisateur 504 a déjà vu le film 234 et lui a donné la note de 3.0\n",
      "l'utilisateur 480 a déjà vu le film 234 et lui a donné la note de 4.0\n",
      "l'utilisateur 493 a déjà vu le film 234 et lui a donné la note de 5.0\n",
      "l'utilisateur 69 a déjà vu le film 234 et lui a donné la note de 5.0\n",
      "l'utilisateur 216 a déjà vu le film 234 et lui a donné la note de 4.0\n",
      "l'utilisateur 498 a déjà vu le film 234 et lui a donné la note de 4.0\n",
      "l'utilisateur 617 a déjà vu le film 234 et lui a donné la note de 3.0\n",
      "l'utilisateur 608 a déjà vu le film 234 et lui a donné la note de 5.0\n",
      "l'utilisateur 650 a déjà vu le film 234 et lui a donné la note de 4.0\n",
      "l'utilisateur 198 a déjà vu le film 234 et lui a donné la note de 3.0\n",
      "l'utilisateur 178 a déjà vu le film 234 et lui a donné la note de 4.0\n",
      "l'utilisateur 500 a déjà vu le film 234 et lui a donné la note de 3.0\n",
      "l'utilisateur 195 a déjà vu le film 234 et lui a donné la note de 5.0\n",
      "l'utilisateur"
     ]
    },
    {
     "name": "stderr",
     "output_type": "stream",
     "text": [
      "6282it [00:24, 224.95it/s]"
     ]
    },
    {
     "name": "stdout",
     "output_type": "stream",
     "text": [
      " 484 a déjà vu le film 234 et lui a donné la note de 4.0\n",
      "l'utilisateur 604 a déjà vu le film 234 et lui a donné la note de 5.0\n",
      "l'utilisateur 64 a déjà vu le film 234 et lui a donné la note de 4.0\n",
      "l'utilisateur 435 a déjà vu le film 234 et lui a donné la note de 4.0\n",
      "l'utilisateur 175 a déjà vu le film 234 et lui a donné la note de 5.0\n",
      "l'utilisateur 213 a déjà vu le film 234 et lui a donné la note de 4.0\n",
      "l'utilisateur 188 a déjà vu le film 234 et lui a donné la note de 4.0\n",
      "l'utilisateur 709 a déjà vu le film 234 et lui a donné la note de 5.0\n",
      "l'utilisateur 429 a déjà vu le film 234 et lui a donné la note de 4.0\n"
     ]
    },
    {
     "name": "stderr",
     "output_type": "stream",
     "text": [
      "6332it [00:24, 208.01it/s]"
     ]
    },
    {
     "name": "stdout",
     "output_type": "stream",
     "text": [
      "l'utilisateur 727 a déjà vu le film 234 et lui a donné la note de 2.0\n",
      "l'utilisateur 28 a déjà vu le film 234 et lui a donné la note de 4.0\n",
      "l'utilisateur 632 a déjà vu le film 234 et lui a donné la note de 3.0\n",
      "l'utilisateur 699 a déjà vu le film 234 et lui a donné la note de 3.0\n",
      "l'utilisateur 95 a déjà vu le film 234 et lui a donné la note de 2.0\n",
      "l'utilisateur 135 a déjà vu le film 234 et lui a donné la note de 4.0\n",
      "l'utilisateur 222 a déjà vu le film 234 et lui a donné la note de 2.0\n",
      "l'utilisateur 144 a déjà vu le film 234 et lui a donné la note de 4.0\n",
      "l'utilisateur 524 a déjà vu le film 234 et lui a donné la note de 4.0\n",
      "l'utilisateur 294 a déjà vu le film 7 et lui a donné la note de 4.0\n",
      "l'utilisateur"
     ]
    },
    {
     "name": "stderr",
     "output_type": "stream",
     "text": [
      "6380it [00:25, 213.38it/s]"
     ]
    },
    {
     "name": "stdout",
     "output_type": "stream",
     "text": [
      " 569 a déjà vu le film 7 et lui a donné la note de 4.0\n",
      "l'utilisateur 567 a déjà vu le film 7 et lui a donné la note de 4.0\n",
      "l'utilisateur 580 a déjà vu le film 7 et lui a donné la note de 3.0\n",
      "l'utilisateur 666 a déjà vu le film 7 et lui a donné la note de 4.0\n",
      "l'utilisateur 227 a déjà vu le film 7 et lui a donné la note de 5.0\n",
      "l'utilisateur 583 a déjà vu le film 7 et lui a donné la note de 5.0\n",
      "l'utilisateur 54 a déjà vu le film 7 et lui a donné la note de 4.0\n",
      "l'utilisateur 450 a déjà vu le film 7 et lui a donné la note de 4.0\n",
      "l'utilisateur 417 a déjà vu le film 7 et lui a donné la note de 3.0\n",
      "l'utilisateur 621 a déjà vu le film 7 et lui a donné la note de 4.0\n",
      "l'utilisateur 560 a déjà vu le film 7 et lui a donné la note de 3.0\n",
      "l'utilisateur 576 a déjà vu le film 7 et lui a donné la note de 5.0\n",
      "l'utilisateur 540 a déjà vu le film 7 et lui a donné la note de 4.0\n",
      "l'utilisateur 73 a déjà vu le film 7 et lui a donné la note de 4.0\n",
      "l'utilisateur 577 a déjà vu le film 7 et lui a donné la note de 2.0\n",
      "l'utilisateur 386 a déjà vu le film 7 et lui a donné la note de 3.0\n",
      "l'utilisateur 579 a déjà vu le film 7 et lui a donné la note de 3.0\n",
      "l'utilisateur 387 a déjà vu le film 7 et lui a donné la note de 5.0\n",
      "l'utilisateur 555 a déjà vu le film 7 et lui a donné la note de 4.0\n",
      "l'utilisateur 199 a déjà vu le film 7 et lui a donné la note de 4.0\n",
      "l'utilisateur 357 a déjà vu le film 7 et lui a donné la note de 3.0\n",
      "l'utilisateur"
     ]
    },
    {
     "name": "stderr",
     "output_type": "stream",
     "text": [
      "6441it [00:25, 229.02it/s]"
     ]
    },
    {
     "name": "stdout",
     "output_type": "stream",
     "text": [
      " 582 a déjà vu le film 7 et lui a donné la note de 5.0\n",
      "l'utilisateur 916 a déjà vu le film 179 et lui a donné la note de 3.0\n",
      "l'utilisateur 340 a déjà vu le film 179 et lui a donné la note de 1.0\n",
      "l'utilisateur 305 a déjà vu le film 179 et lui a donné la note de 1.0\n",
      "l'utilisateur 303 a déjà vu le film 179 et lui a donné la note de 5.0\n",
      "l'utilisateur 339 a déjà vu le film 179 et lui a donné la note de 5.0\n",
      "l'utilisateur 682 a déjà vu le film 179 et lui a donné la note de 4.0\n",
      "l'utilisateur 301 a déjà vu le film 179 et lui a donné la note de 3.0\n",
      "l'utilisateur 271 a déjà vu le film 179 et lui a donné la note de 4.0\n",
      "l'utilisateur 751 a déjà vu le film 179 et lui a donné la note de 4.0\n",
      "l'utilisateur 347 a déjà vu le film 827 et lui a donné la note de 1.0\n"
     ]
    },
    {
     "name": "stderr",
     "output_type": "stream",
     "text": [
      "6521it [00:25, 238.75it/s]"
     ]
    },
    {
     "name": "stdout",
     "output_type": "stream",
     "text": [
      "l'utilisateur 289 a déjà vu le film 455 et lui a donné la note de 4.0\n",
      "l'utilisateur 339 a déjà vu le film 178 et lui a donné la note de 5.0\n",
      "l'utilisateur 474 a déjà vu le film 421 et lui a donné la note de 3.0\n"
     ]
    },
    {
     "name": "stderr",
     "output_type": "stream",
     "text": [
      "6571it [00:25, 224.62it/s]"
     ]
    },
    {
     "name": "stdout",
     "output_type": "stream",
     "text": [
      "l'utilisateur 117 a déjà vu le film 421 et lui a donné la note de 5.0\n",
      "l'utilisateur 7 a déjà vu le film 421 et lui a donné la note de 3.0\n",
      "l'utilisateur 405 a déjà vu le film 58 et lui a donné la note de 1.0\n",
      "l'utilisateur 249 a déjà vu le film 58 et lui a donné la note de 5.0\n",
      "l'utilisateur 823 a déjà vu le film 58 et lui a donné la note de 5.0\n",
      "l'utilisateur 100 a déjà vu le film 266 et lui a donné la note de 2.0\n"
     ]
    },
    {
     "name": "stderr",
     "output_type": "stream",
     "text": [
      "6641it [00:26, 218.52it/s]"
     ]
    },
    {
     "name": "stdout",
     "output_type": "stream",
     "text": [
      "l'utilisateur 474 a déjà vu le film 234 et lui a donné la note de 5.0\n",
      "l'utilisateur 606 a déjà vu le film 234 et lui a donné la note de 4.0\n",
      "l'utilisateur 623 a déjà vu le film 234 et lui a donné la note de 4.0\n",
      "l'utilisateur 506 a déjà vu le film 234 et lui a donné la note de 5.0\n",
      "l'utilisateur 322 a déjà vu le film 656 et lui a donné la note de 5.0\n",
      "l'utilisateur 177 a déjà vu le film 183 et lui a donné la note de 4.0\n",
      "l'utilisateur 230 a déjà vu le film 183 et lui a donné la note de 3.0\n",
      "l'utilisateur 222 a déjà vu le film 183 et lui a donné la note de 4.0\n"
     ]
    },
    {
     "name": "stderr",
     "output_type": "stream",
     "text": [
      "6704it [00:26, 255.67it/s]"
     ]
    },
    {
     "name": "stdout",
     "output_type": "stream",
     "text": [
      "l'utilisateur 655 a déjà vu le film 234 et lui a donné la note de 3.0\n",
      "l'utilisateur 210 a déjà vu le film 234 et lui a donné la note de 4.0\n",
      "l'utilisateur 503 a déjà vu le film 234 et lui a donné la note de 5.0\n",
      "l'utilisateur 194 a déjà vu le film 234 et lui a donné la note de 3.0\n",
      "l'utilisateur 430 a déjà vu le film 234 et lui a donné la note de 4.0\n",
      "l'utilisateur 290 a déjà vu le film 234 et lui a donné la note de 3.0\n",
      "l'utilisateur 693 a déjà vu le film 234 et lui a donné la note de 2.0\n",
      "l'utilisateur 279 a déjà vu le film 234 et lui a donné la note de 2.0\n",
      "l'utilisateur 479 a déjà vu le film 234 et lui a donné la note de 5.0\n",
      "l'utilisateur 96 a déjà vu le film 234 et lui a donné la note de 4.0\n",
      "l'utilisateur 527 a déjà vu le film 234 et lui a donné la note de 5.0\n",
      "l'utilisateur 5 a déjà vu le film 234 et lui a donné la note de 2.0\n"
     ]
    },
    {
     "name": "stderr",
     "output_type": "stream",
     "text": [
      "\r",
      "6736it [00:26, 268.57it/s]"
     ]
    },
    {
     "name": "stdout",
     "output_type": "stream",
     "text": [
      "l'utilisateur 23 a déjà vu le film 234 et lui a donné la note de 2.0\n",
      "l'utilisateur 843 a déjà vu le film 234 et lui a donné la note de 4.0\n",
      "l'utilisateur 151 a déjà vu le film 234 et lui a donné la note de 4.0\n",
      "l'utilisateur 497 a déjà vu le film 234 et lui a donné la note de 2.0\n",
      "l'utilisateur 835 a déjà vu le film 234 et lui a donné la note de 5.0\n",
      "l'utilisateur 848 a déjà vu le film 234 et lui a donné la note de 4.0\n",
      "l'utilisateur 747 a déjà vu le film 234 et lui a donné la note de 5.0\n",
      "l'utilisateur 942 a déjà vu le film 234 et lui a donné la note de 4.0\n",
      "l'utilisateur"
     ]
    },
    {
     "name": "stderr",
     "output_type": "stream",
     "text": [
      "6788it [00:26, 206.39it/s]"
     ]
    },
    {
     "name": "stdout",
     "output_type": "stream",
     "text": [
      " 193 a déjà vu le film 234 et lui a donné la note de 3.0\n",
      "l'utilisateur 274 a déjà vu le film 234 et lui a donné la note de 5.0\n",
      "l'utilisateur 601 a déjà vu le film 234 et lui a donné la note de 1.0\n",
      "l'utilisateur 436 a déjà vu le film 234 et lui a donné la note de 3.0\n",
      "l'utilisateur 642 a déjà vu le film 234 et lui a donné la note de 1.0\n",
      "l'utilisateur 806 a déjà vu le film 234 et lui a donné la note de 4.0\n",
      "l'utilisateur 85 a déjà vu le film 234 et lui a donné la note de 4.0\n",
      "l'utilisateur 686 a déjà vu le film 234 et lui a donné la note de 4.0\n",
      "l'utilisateur 367 a déjà vu le film 234 et lui a donné la note de 4.0\n",
      "l'utilisateur 21 a déjà vu le film 234 et lui a donné la note de 5.0\n",
      "l'utilisateur 629 a déjà vu le film 234 et lui a donné la note de 4.0\n",
      "l'utilisateur 495 a déjà vu le film 234 et lui a donné la note de 5.0\n",
      "l'utilisateur 200 a déjà vu le film 234 et lui a donné la note de 4.0\n",
      "l'utilisateur"
     ]
    },
    {
     "name": "stderr",
     "output_type": "stream",
     "text": [
      "6843it [00:27, 233.63it/s]"
     ]
    },
    {
     "name": "stdout",
     "output_type": "stream",
     "text": [
      " 653 a déjà vu le film 234 et lui a donné la note de 3.0\n",
      "l'utilisateur 566 a déjà vu le film 234 et lui a donné la note de 3.0\n",
      "l'utilisateur 378 a déjà vu le film 234 et lui a donné la note de 4.0\n",
      "l'utilisateur 389 a déjà vu le film 234 et lui a donné la note de 4.0\n",
      "l'utilisateur 385 a déjà vu le film 234 et lui a donné la note de 1.0\n",
      "l'utilisateur 291 a déjà vu le film 234 et lui a donné la note de 4.0\n",
      "l'utilisateur 13 a déjà vu le film 234 et lui a donné la note de 5.0\n",
      "l'utilisateur 588 a déjà vu le film 234 et lui a donné la note de 5.0\n",
      "l'utilisateur 102 a déjà vu le film 234 et lui a donné la note de 3.0\n",
      "l'utilisateur 72 a déjà vu le film 234 et lui a donné la note de 4.0\n",
      "l'utilisateur 371 a déjà vu le film 234 et lui a donné la note de 5.0\n"
     ]
    },
    {
     "name": "stderr",
     "output_type": "stream",
     "text": [
      "\r",
      "6870it [00:27, 235.57it/s]"
     ]
    },
    {
     "name": "stdout",
     "output_type": "stream",
     "text": [
      "l'utilisateur 163 a déjà vu le film 234 et lui a donné la note de 3.0\n",
      "l'utilisateur 638 a déjà vu le film 234 et lui a donné la note de 4.0\n",
      "l'utilisateur 233 a déjà vu le film 234 et lui a donné la note de 4.0\n",
      "l'utilisateur 447 a déjà vu le film 234 et lui a donné la note de 4.0\n",
      "l'utilisateur 712 a déjà vu le film 234 et lui a donné la note de 2.0\n",
      "l'utilisateur 417 a déjà vu le film 234 et lui a donné la note de 4.0\n",
      "l'utilisateur 160 a déjà vu le film 234 et lui a donné la note de 5.0\n",
      "l'utilisateur 130 a déjà vu le film 234 et lui a donné la note de 5.0\n"
     ]
    },
    {
     "name": "stderr",
     "output_type": "stream",
     "text": [
      "6916it [00:27, 174.54it/s]"
     ]
    },
    {
     "name": "stdout",
     "output_type": "stream",
     "text": [
      "l'utilisateur 671 a déjà vu le film 234 et lui a donné la note de 4.0\n",
      "l'utilisateur 878 a déjà vu le film 234 et lui a donné la note de 1.0\n",
      "l'utilisateur 326 a déjà vu le film 378 et lui a donné la note de 4.0\n",
      "l'utilisateur 315 a déjà vu le film 204 et lui a donné la note de 5.0\n",
      "l'utilisateur 268 a déjà vu le film 204 et lui a donné la note de 3.0\n",
      "l'utilisateur"
     ]
    },
    {
     "name": "stderr",
     "output_type": "stream",
     "text": [
      "6956it [00:27, 176.38it/s]"
     ]
    },
    {
     "name": "stdout",
     "output_type": "stream",
     "text": [
      " 880 a déjà vu le film 204 et lui a donné la note de 5.0\n",
      "l'utilisateur 303 a déjà vu le film 204 et lui a donné la note de 4.0\n",
      "l'utilisateur 286 a déjà vu le film 204 et lui a donné la note de 3.0\n",
      "l'utilisateur 262 a déjà vu le film 204 et lui a donné la note de 3.0\n",
      "l'utilisateur 340 a déjà vu le film 204 et lui a donné la note de 4.0\n",
      "l'utilisateur 301 a déjà vu le film 204 et lui a donné la note de 5.0\n",
      "l'utilisateur 336 a déjà vu le film 204 et lui a donné la note de 5.0\n",
      "l'utilisateur 748 a déjà vu le film 204 et lui a donné la note de 3.0\n",
      "l'utilisateur 326 a déjà vu le film 38 et lui a donné la note de 3.0\n",
      "l'utilisateur 328 a déjà vu le film 38 et lui a donné la note de 3.0\n"
     ]
    },
    {
     "name": "stderr",
     "output_type": "stream",
     "text": [
      "6994it [00:28, 168.85it/s]"
     ]
    },
    {
     "name": "stdout",
     "output_type": "stream",
     "text": [
      "l'utilisateur 393 a déjà vu le film 38 et lui a donné la note de 4.0\n",
      "l'utilisateur 1 a déjà vu le film 38 et lui a donné la note de 3.0\n",
      "l'utilisateur 188 a déjà vu le film 38 et lui a donné la note de 3.0\n",
      "l'utilisateur 200 a déjà vu le film 38 et lui a donné la note de 3.0\n",
      "l'utilisateur 405 a déjà vu le film 38 et lui a donné la note de 5.0\n"
     ]
    },
    {
     "name": "stderr",
     "output_type": "stream",
     "text": [
      "7054it [00:28, 213.49it/s]"
     ]
    },
    {
     "name": "stdout",
     "output_type": "stream",
     "text": [
      "l'utilisateur 450 a déjà vu le film 38 et lui a donné la note de 4.0\n",
      "l'utilisateur 145 a déjà vu le film 38 et lui a donné la note de 3.0\n",
      "l'utilisateur 411 a déjà vu le film 38 et lui a donné la note de 4.0\n",
      "l'utilisateur 389 a déjà vu le film 38 et lui a donné la note de 2.0\n",
      "l'utilisateur 758 a déjà vu le film 38 et lui a donné la note de 3.0\n",
      "l'utilisateur 303 a déjà vu le film 276 et lui a donné la note de 4.0\n",
      "l'utilisateur 916 a déjà vu le film 276 et lui a donné la note de 4.0\n",
      "l'utilisateur 315 a déjà vu le film 276 et lui a donné la note de 4.0\n",
      "l'utilisateur 316 a déjà vu le film 276 et lui a donné la note de 2.0\n"
     ]
    },
    {
     "name": "stderr",
     "output_type": "stream",
     "text": [
      "7102it [00:28, 224.17it/s]"
     ]
    },
    {
     "name": "stdout",
     "output_type": "stream",
     "text": [
      "l'utilisateur 916 a déjà vu le film 655 et lui a donné la note de 3.0\n",
      "l'utilisateur 618 a déjà vu le film 776 et lui a donné la note de 2.0\n",
      "l'utilisateur 917 a déjà vu le film 751 et lui a donné la note de 2.0\n"
     ]
    },
    {
     "name": "stderr",
     "output_type": "stream",
     "text": [
      "7180it [00:28, 232.36it/s]"
     ]
    },
    {
     "name": "stdout",
     "output_type": "stream",
     "text": [
      "l'utilisateur 318 a déjà vu le film 204 et lui a donné la note de 5.0\n",
      "l'utilisateur 216 a déjà vu le film 204 et lui a donné la note de 4.0\n",
      "l'utilisateur 12 a déjà vu le film 204 et lui a donné la note de 5.0\n",
      "l'utilisateur 1 a déjà vu le film 204 et lui a donné la note de 5.0\n",
      "l'utilisateur 297 a déjà vu le film 204 et lui a donné la note de 3.0\n"
     ]
    },
    {
     "name": "stderr",
     "output_type": "stream",
     "text": [
      "7229it [00:28, 222.36it/s]"
     ]
    },
    {
     "name": "stdout",
     "output_type": "stream",
     "text": [
      "l'utilisateur 416 a déjà vu le film 807 et lui a donné la note de 4.0\n"
     ]
    },
    {
     "name": "stderr",
     "output_type": "stream",
     "text": [
      "7335it [00:29, 238.33it/s]"
     ]
    },
    {
     "name": "stdout",
     "output_type": "stream",
     "text": [
      "l'utilisateur 175 a déjà vu le film 669 et lui a donné la note de 1.0\n",
      "l'utilisateur 276 a déjà vu le film 669 et lui a donné la note de 1.0\n",
      "l'utilisateur 271 a déjà vu le film 428 et lui a donné la note de 4.0\n",
      "l'utilisateur 326 a déjà vu le film 428 et lui a donné la note de 5.0\n"
     ]
    },
    {
     "name": "stderr",
     "output_type": "stream",
     "text": [
      "7457it [00:29, 287.56it/s]"
     ]
    },
    {
     "name": "stdout",
     "output_type": "stream",
     "text": [
      "l'utilisateur 405 a déjà vu le film 517 et lui a donné la note de 3.0\n",
      "l'utilisateur 823 a déjà vu le film 517 et lui a donné la note de 5.0\n",
      "l'utilisateur 222 a déjà vu le film 796 et lui a donné la note de 4.0\n",
      "l'utilisateur 748 a déjà vu le film 517 et lui a donné la note de 3.0\n",
      "l'utilisateur 405 a déjà vu le film 796 et lui a donné la note de 3.0\n",
      "l'utilisateur 318 a déjà vu le film 796 et lui a donné la note de 3.0\n"
     ]
    },
    {
     "name": "stderr",
     "output_type": "stream",
     "text": [
      "7569it [00:30, 315.33it/s]"
     ]
    },
    {
     "name": "stdout",
     "output_type": "stream",
     "text": [
      "l'utilisateur 23 a déjà vu le film 214 et lui a donné la note de 3.0\n",
      "l'utilisateur 64 a déjà vu le film 214 et lui a donné la note de 3.0\n",
      "l'utilisateur 7 a déjà vu le film 214 et lui a donné la note de 5.0\n",
      "l'utilisateur 650 a déjà vu le film 214 et lui a donné la note de 3.0\n",
      "l'utilisateur 516 a déjà vu le film 214 et lui a donné la note de 3.0\n",
      "l'utilisateur 92 a déjà vu le film 214 et lui a donné la note de 4.0\n",
      "l'utilisateur 748 a déjà vu le film 56 et lui a donné la note de 4.0\n",
      "l'utilisateur 323 a déjà vu le film 56 et lui a donné la note de 5.0\n"
     ]
    },
    {
     "name": "stderr",
     "output_type": "stream",
     "text": [
      "7633it [00:30, 273.88it/s]"
     ]
    },
    {
     "name": "stdout",
     "output_type": "stream",
     "text": [
      "l'utilisateur 514 a déjà vu le film 796 et lui a donné la note de 4.0\n",
      "l'utilisateur 82 a déjà vu le film 56 et lui a donné la note de 3.0\n",
      "l'utilisateur 230 a déjà vu le film 56 et lui a donné la note de 3.0\n",
      "l'utilisateur 232 a déjà vu le film 56 et lui a donné la note de 5.0\n",
      "l'utilisateur 228 a déjà vu le film 56 et lui a donné la note de 2.0\n",
      "l'utilisateur 210 a déjà vu le film 56 et lui a donné la note de 5.0\n",
      "l'utilisateur 96 a déjà vu le film 56 et lui a donné la note de 5.0\n",
      "l'utilisateur 435 a déjà vu le film 56 et lui a donné la note de 5.0\n",
      "l'utilisateur 385 a déjà vu le film 56 et lui a donné la note de 5.0\n",
      "l'utilisateur 746 a déjà vu le film 56 et lui a donné la note de 3.0\n",
      "l'utilisateur 216 a déjà vu le film 56 et lui a donné la note de 5.0\n",
      "l'utilisateur 194 a déjà vu le film 56 et lui a donné la note de 5.0\n",
      "l'utilisateur 186 a déjà vu le film 56 et lui a donné la note de 3.0\n",
      "l'utilisateur 523 a déjà vu le film 56 et lui a donné la note de 3.0\n",
      "l'utilisateur 239 a déjà vu le film 56 et lui a donné la note de 4.0\n",
      "l'utilisateur 692 a déjà vu le film 56 et lui a donné la note de 3.0\n",
      "l'utilisateur 655 a déjà vu le film 56 et lui a donné la note de 3.0\n",
      "l'utilisateur 393 a déjà vu le film 56 et lui a donné la note de 2.0\n",
      "l'utilisateur 73 a déjà vu le film 56 et lui a donné la note de 4.0\n",
      "l'utilisateur 781 a déjà vu le film 56 et lui a donné la note de 3.0\n",
      "l'utilisateur 747 a déjà vu le film 56 et lui a donné la note de 5.0\n",
      "l'utilisateur 64 a déjà vu le film 56 et lui a donné la note de 5.0\n",
      "l'utilisateur 87 a déjà vu le film 56 et lui a donné la note de 4.0\n",
      "l'utilisateur 193 a déjà vu le film 56 et lui a donné la note de 1.0\n",
      "l'utilisateur 28 a déjà vu le film 56 et lui a donné la note de 5.0\n",
      "l'utilisateur 778 a déjà vu le film 56 et lui a donné la note de 3.0\n",
      "l'utilisateur 69 a déjà vu le film 56 et lui a donné la note de 5.0\n"
     ]
    },
    {
     "name": "stderr",
     "output_type": "stream",
     "text": [
      "\r",
      "7662it [00:30, 233.28it/s]"
     ]
    },
    {
     "name": "stdout",
     "output_type": "stream",
     "text": [
      "l'utilisateur 447 a déjà vu le film 56 et lui a donné la note de 5.0\n",
      "l'utilisateur 184 a déjà vu le film 56 et lui a donné la note de 3.0\n",
      "l'utilisateur 200 a déjà vu le film 56 et lui a donné la note de 4.0\n",
      "l'utilisateur 226 a déjà vu le film 56 et lui a donné la note de 4.0\n",
      "l'utilisateur 233 a déjà vu le film 56 et lui a donné la note de 5.0\n",
      "l'utilisateur 77 a déjà vu le film 56 et lui a donné la note de 4.0\n",
      "l'utilisateur 554 a déjà vu le film 56 et lui a donné la note de 4.0\n",
      "l'utilisateur 44 a déjà vu le film 56 et lui a donné la note de 2.0\n",
      "l'utilisateur 450 a déjà vu le film 56 et lui a donné la note de 4.0\n",
      "l'utilisateur 117 a déjà vu le film 56 et lui a donné la note de 5.0\n",
      "l'utilisateur 7 a déjà vu le film 56 et lui a donné la note de 5.0\n",
      "l'utilisateur 222 a déjà vu le film 56 et lui a donné la note de 5.0\n",
      "l'utilisateur 405 a déjà vu le film 56 et lui a donné la note de 4.0\n",
      "l'utilisateur 546 a déjà vu le film 56 et lui a donné la note de 5.0\n",
      "l'utilisateur 118 a déjà vu le film 56 et lui a donné la note de 5.0\n",
      "l'utilisateur 114 a déjà vu le film 56 et lui a donné la note de 3.0\n",
      "l'utilisateur 1 a déjà vu le film 56 et lui a donné la note de 4.0\n",
      "l'utilisateur 588 a déjà vu le film 56 et lui a donné la note de 4.0\n"
     ]
    },
    {
     "name": "stderr",
     "output_type": "stream",
     "text": [
      "7711it [00:30, 195.61it/s]"
     ]
    },
    {
     "name": "stdout",
     "output_type": "stream",
     "text": [
      "l'utilisateur 71 a déjà vu le film 56 et lui a donné la note de 5.0\n",
      "l'utilisateur 738 a déjà vu le film 56 et lui a donné la note de 4.0\n",
      "l'utilisateur 405 a déjà vu le film 807 et lui a donné la note de 1.0\n",
      "l'utilisateur"
     ]
    },
    {
     "name": "stderr",
     "output_type": "stream",
     "text": [
      "7773it [00:31, 235.61it/s]"
     ]
    },
    {
     "name": "stdout",
     "output_type": "stream",
     "text": [
      " 354 a déjà vu le film 676 et lui a donné la note de 5.0\n",
      "l'utilisateur 294 a déjà vu le film 676 et lui a donné la note de 3.0\n",
      "l'utilisateur 345 a déjà vu le film 676 et lui a donné la note de 4.0\n",
      "l'utilisateur 181 a déjà vu le film 676 et lui a donné la note de 3.0\n",
      "l'utilisateur 250 a déjà vu le film 676 et lui a donné la note de 5.0\n",
      "l'utilisateur 257 a déjà vu le film 676 et lui a donné la note de 4.0\n",
      "l'utilisateur"
     ]
    },
    {
     "name": "stderr",
     "output_type": "stream",
     "text": [
      "7822it [00:31, 197.33it/s]"
     ]
    },
    {
     "name": "stdout",
     "output_type": "stream",
     "text": [
      " 483 a déjà vu le film 676 et lui a donné la note de 4.0\n",
      "l'utilisateur 265 a déjà vu le film 676 et lui a donné la note de 2.0\n",
      "l'utilisateur 429 a déjà vu le film 796 et lui a donné la note de 3.0\n",
      "l'utilisateur 378 a déjà vu le film 381 et lui a donné la note de 4.0\n",
      "l'utilisateur"
     ]
    },
    {
     "name": "stderr",
     "output_type": "stream",
     "text": [
      "7878it [00:31, 229.14it/s]"
     ]
    },
    {
     "name": "stdout",
     "output_type": "stream",
     "text": [
      " 498 a déjà vu le film 381 et lui a donné la note de 3.0\n",
      "l'utilisateur 89 a déjà vu le film 381 et lui a donné la note de 4.0\n",
      "l'utilisateur 95 a déjà vu le film 381 et lui a donné la note de 4.0\n",
      "l'utilisateur 771 a déjà vu le film 381 et lui a donné la note de 3.0\n",
      "l'utilisateur 318 a déjà vu le film 381 et lui a donné la note de 1.0\n",
      "l'utilisateur 196 a déjà vu le film 381 et lui a donné la note de 4.0\n",
      "l'utilisateur 59 a déjà vu le film 381 et lui a donné la note de "
     ]
    },
    {
     "name": "stderr",
     "output_type": "stream",
     "text": [
      "7937it [00:31, 224.79it/s]"
     ]
    },
    {
     "name": "stdout",
     "output_type": "stream",
     "text": [
      "5.0\n",
      "l'utilisateur 94 a déjà vu le film 381 et lui a donné la note de 4.0\n",
      "l'utilisateur 151 a déjà vu le film 381 et lui a donné la note de 5.0\n",
      "l'utilisateur 914 a déjà vu le film 381 et lui a donné la note de 3.0\n",
      "l'utilisateur 268 a déjà vu le film 381 et lui a donné la note de 3.0\n",
      "l'utilisateur 303 a déjà vu le film 381 et lui a donné la note de 4.0\n"
     ]
    },
    {
     "name": "stderr",
     "output_type": "stream",
     "text": [
      "7987it [00:32, 224.49it/s]"
     ]
    },
    {
     "name": "stdout",
     "output_type": "stream",
     "text": [
      "l'utilisateur 751 a déjà vu le film 708 et lui a donné la note de 4.0\n",
      "l'utilisateur 328 a déjà vu le film 708 et lui a donné la note de 2.0\n",
      "l'utilisateur 457 a déjà vu le film 708 et lui a donné la note de 4.0\n",
      "l'utilisateur 934 a déjà vu le film 708 et lui a donné la note de 3.0\n",
      "l'utilisateur 864 a déjà vu le film 708 et lui a donné la note de 3.0\n",
      "l'utilisateur 846 a déjà vu le film 708 et lui a donné la note de 3.0\n"
     ]
    },
    {
     "name": "stderr",
     "output_type": "stream",
     "text": [
      "8075it [00:32, 254.41it/s]"
     ]
    },
    {
     "name": "stdout",
     "output_type": "stream",
     "text": [
      "l'utilisateur 174 a déjà vu le film 56 et lui a donné la note de 5.0\n",
      "l'utilisateur 290 a déjà vu le film 167 et lui a donné la note de 2.0\n",
      "l'utilisateur 222 a déjà vu le film 167 et lui a donné la note de 3.0\n",
      "l'utilisateur 655 a déjà vu le film 167 et lui a donné la note de 4.0\n",
      "l'utilisateur 318 a déjà vu le film 167 et lui a donné la note de 4.0\n",
      "l'utilisateur 435 a déjà vu le film 167 et lui a donné la note de 3.0\n"
     ]
    },
    {
     "name": "stderr",
     "output_type": "stream",
     "text": [
      "8284it [00:33, 287.28it/s]"
     ]
    },
    {
     "name": "stdout",
     "output_type": "stream",
     "text": [
      "l'utilisateur 405 a déjà vu le film 714 et lui a donné la note de 1.0\n",
      "l'utilisateur 291 a déjà vu le film 551 et lui a donné la note de 2.0\n"
     ]
    },
    {
     "name": "stderr",
     "output_type": "stream",
     "text": [
      "8396it [00:33, 251.06it/s]"
     ]
    },
    {
     "name": "stdout",
     "output_type": "stream",
     "text": [
      "l'utilisateur 13 a déjà vu le film 551 et lui a donné la note de 1.0\n",
      "l'utilisateur 276 a déjà vu le film 551 et lui a donné la note de 3.0\n",
      "l'utilisateur 405 a déjà vu le film 551 et lui a donné la note de 1.0\n",
      "l'utilisateur 92 a déjà vu le film 551 et lui a donné la note de 2.0\n",
      "l'utilisateur 118 a déjà vu le film 551 et lui a donné la note de 5.0\n"
     ]
    },
    {
     "name": "stderr",
     "output_type": "stream",
     "text": [
      "8520it [00:34, 284.25it/s]"
     ]
    },
    {
     "name": "stdout",
     "output_type": "stream",
     "text": [
      "l'utilisateur 399 a déjà vu le film 551 et lui a donné la note de 1.0\n",
      "l'utilisateur 916 a déjà vu le film 472 et lui a donné la note de 3.0\n",
      "l'utilisateur 67 a déjà vu le film 472 et lui a donné la note de 4.0\n",
      "l'utilisateur 271 a déjà vu le film 472 et lui a donné la note de 2.0\n",
      "l'utilisateur 751 a déjà vu le film 472 et lui a donné la note de 2.0\n",
      "l'utilisateur 265 a déjà vu le film 472 et lui a donné la note de 3.0\n",
      "l'utilisateur 7 a déjà vu le film 472 et lui a donné la note de 2.0\n",
      "l'utilisateur 82 a déjà vu le film 472 et lui a donné la note de 3.0\n",
      "l'utilisateur 255 a déjà vu le film 472 et lui a donné la note de 1.0\n",
      "l'utilisateur 168 a déjà vu le film 472 et lui a donné la note de 3.0\n",
      "l'utilisateur 549 a déjà vu le film 472 et lui a donné la note de 3.0\n",
      "l'utilisateur 152 a déjà vu le film 234 et lui a donné la note de 4.0\n",
      "l'utilisateur 648 a déjà vu le film 234 et lui a donné la note de 5.0\n",
      "l'utilisateur"
     ]
    },
    {
     "name": "stderr",
     "output_type": "stream",
     "text": [
      "8599it [00:34, 322.54it/s]"
     ]
    },
    {
     "name": "stdout",
     "output_type": "stream",
     "text": [
      " 294 a déjà vu le film 125 et lui a donné la note de 3.0\n",
      "l'utilisateur 289 a déjà vu le film 125 et lui a donné la note de 2.0\n",
      "l'utilisateur 243 a déjà vu le film 125 et lui a donné la note de 3.0\n",
      "l'utilisateur 190 a déjà vu le film 125 et lui a donné la note de 3.0\n",
      "l'utilisateur 50 a déjà vu le film 125 et lui a donné la note de 2.0\n",
      "l'utilisateur 222 a déjà vu le film 125 et lui a donné la note de 5.0\n",
      "l'utilisateur 435 a déjà vu le film 125 et lui a donné la note de 3.0\n",
      "l'utilisateur 763 a déjà vu le film 125 et lui a donné la note de 3.0\n",
      "l'utilisateur 109 a déjà vu le film 125 et lui a donné la note de 5.0\n",
      "l'utilisateur 238 a déjà vu le film 125 et lui a donné la note de 3.0\n",
      "l'utilisateur 290 a déjà vu le film 125 et lui a donné la note de 3.0\n"
     ]
    },
    {
     "name": "stderr",
     "output_type": "stream",
     "text": [
      "8675it [00:34, 339.40it/s]"
     ]
    },
    {
     "name": "stdout",
     "output_type": "stream",
     "text": [
      "l'utilisateur 864 a déjà vu le film 125 et lui a donné la note de 4.0\n",
      "l'utilisateur 401 a déjà vu le film 125 et lui a donné la note de 3.0\n",
      "l'utilisateur 67 a déjà vu le film 125 et lui a donné la note de 4.0\n",
      "l'utilisateur 158 a déjà vu le film 125 et lui a donné la note de 3.0\n",
      "l'utilisateur 577 a déjà vu le film 125 et lui a donné la note de 4.0\n",
      "l'utilisateur 120 a déjà vu le film 125 et lui a donné la note de 4.0\n"
     ]
    },
    {
     "name": "stderr",
     "output_type": "stream",
     "text": [
      "8877it [00:34, 461.38it/s]"
     ]
    },
    {
     "name": "stdout",
     "output_type": "stream",
     "text": [
      "l'utilisateur 276 a déjà vu le film 411 et lui a donné la note de 4.0\n",
      "l'utilisateur 168 a déjà vu le film 411 et lui a donné la note de 1.0\n",
      "l'utilisateur 210 a déjà vu le film 411 et lui a donné la note de 3.0\n",
      "l'utilisateur 181 a déjà vu le film 411 et lui a donné la note de 3.0\n",
      "l'utilisateur 566 a déjà vu le film 411 et lui a donné la note de 4.0\n",
      "l'utilisateur 196 a déjà vu le film 411 et lui a donné la note de 4.0\n"
     ]
    },
    {
     "name": "stderr",
     "output_type": "stream",
     "text": [
      "9066it [00:35, 561.44it/s]"
     ]
    },
    {
     "name": "stdout",
     "output_type": "stream",
     "text": [
      "l'utilisateur 151 a déjà vu le film 56 et lui a donné la note de 4.0\n",
      "l'utilisateur 871 a déjà vu le film 56 et lui a donné la note de 5.0\n",
      "l'utilisateur 399 a déjà vu le film 56 et lui a donné la note de 3.0\n",
      "l'utilisateur 862 a déjà vu le film 56 et lui a donné la note de 3.0\n",
      "l'utilisateur 201 a déjà vu le film 56 et lui a donné la note de 5.0\n",
      "l'utilisateur 559 a déjà vu le film 56 et lui a donné la note de 3.0\n",
      "l'utilisateur 144 a déjà vu le film 56 et lui a donné la note de 4.0\n",
      "l'utilisateur 568 a déjà vu le film 56 et lui a donné la note de 4.0\n",
      "l'utilisateur 161 a déjà vu le film 56 et lui a donné la note de 3.0\n",
      "l'utilisateur 62 a déjà vu le film 56 et lui a donné la note de 5.0\n",
      "l'utilisateur 391 a déjà vu le film 56 et lui a donné la note de 5.0\n",
      "l'utilisateur 153 a déjà vu le film 56 et lui a donné la note de 5.0\n",
      "l'utilisateur 715 a déjà vu le film 56 et lui a donné la note de 5.0\n",
      "l'utilisateur 372 a déjà vu le film 56 et lui a donné la note de 4.0\n",
      "l'utilisateur 158 a déjà vu le film 56 et lui a donné la note de 5.0\n",
      "l'utilisateur 368 a déjà vu le film 56 et lui a donné la note de 4.0\n",
      "l'utilisateur 760 a déjà vu le film 776 et lui a donné la note de 5.0\n",
      "l'utilisateur 751 a déjà vu le film 738 et lui a donné la note de 4.0\n"
     ]
    },
    {
     "name": "stderr",
     "output_type": "stream",
     "text": [
      "\r",
      "9126it [00:35, 455.23it/s]"
     ]
    },
    {
     "name": "stdout",
     "output_type": "stream",
     "text": [
      "l'utilisateur 49 a déjà vu le film 102 et lui a donné la note de 2.0\n",
      "l'utilisateur 577 a déjà vu le film 102 et lui a donné la note de 4.0\n"
     ]
    },
    {
     "name": "stderr",
     "output_type": "stream",
     "text": [
      "9288it [00:35, 444.97it/s]"
     ]
    },
    {
     "name": "stdout",
     "output_type": "stream",
     "text": [
      "l'utilisateur 655 a déjà vu le film 796 et lui a donné la note de 2.0\n",
      "l'utilisateur 222 a déjà vu le film 247 et lui a donné la note de 1.0\n",
      "l'utilisateur 450 a déjà vu le film 807 et lui a donné la note de 4.0\n",
      "l'utilisateur 1 a déjà vu le film 247 et lui a donné la note de 1.0\n"
     ]
    },
    {
     "name": "stderr",
     "output_type": "stream",
     "text": [
      "9399it [00:35, 454.22it/s]"
     ]
    },
    {
     "name": "stdout",
     "output_type": "stream",
     "text": [
      "l'utilisateur 95 a déjà vu le film 532 et lui a donné la note de 4.0\n",
      "l'utilisateur 496 a déjà vu le film 532 et lui a donné la note de 5.0\n"
     ]
    },
    {
     "name": "stderr",
     "output_type": "stream",
     "text": [
      "9495it [00:36, 410.92it/s]"
     ]
    },
    {
     "name": "stdout",
     "output_type": "stream",
     "text": [
      "l'utilisateur 313 a déjà vu le film 328 et lui a donné la note de 4.0\n",
      "l'utilisateur 915 a déjà vu le film 328 et lui a donné la note de 2.0\n",
      "l'utilisateur 85 a déjà vu le film 416 et lui a donné la note de 3.0\n",
      "l'utilisateur 275 a déjà vu le film 416 et lui a donné la note de 3.0\n",
      "l'utilisateur 12 a déjà vu le film 416 et lui a donné la note de 3.0\n",
      "l'utilisateur 496 a déjà vu le film 416 et lui a donné la note de 1.0\n",
      "l'utilisateur 13 a déjà vu le film 416 et lui a donné la note de 3.0\n"
     ]
    },
    {
     "name": "stderr",
     "output_type": "stream",
     "text": [
      "9578it [00:36, 338.95it/s]"
     ]
    },
    {
     "name": "stdout",
     "output_type": "stream",
     "text": [
      "l'utilisateur 747 a déjà vu le film 416 et lui a donné la note de 5.0\n",
      "l'utilisateur 293 a déjà vu le film 416 et lui a donné la note de 4.0\n",
      "l'utilisateur 295 a déjà vu le film 416 et lui a donné la note de 4.0\n",
      "l'utilisateur 216 a déjà vu le film 416 et lui a donné la note de 3.0\n",
      "l'utilisateur 405 a déjà vu le film 416 et lui a donné la note de 2.0\n"
     ]
    },
    {
     "name": "stderr",
     "output_type": "stream",
     "text": [
      "9680it [00:36, 294.44it/s]"
     ]
    },
    {
     "name": "stdout",
     "output_type": "stream",
     "text": [
      "l'utilisateur 345 a déjà vu le film 416 et lui a donné la note de 4.0\n",
      "l'utilisateur 347 a déjà vu le film 416 et lui a donné la note de 3.0\n",
      "l'utilisateur 145 a déjà vu le film 796 et lui a donné la note de 3.0\n",
      "l'utilisateur 87 a déjà vu le film 796 et lui a donné la note de 4.0\n",
      "l'utilisateur 378 a déjà vu le film 796 et lui a donné la note de 2.0\n",
      "l'utilisateur 417 a déjà vu le film 796 et lui a donné la note de 4.0\n",
      "l'utilisateur 877 a déjà vu le film 159 et lui a donné la note de 4.0\n",
      "l'utilisateur 328 a déjà vu le film 159 et lui a donné la note de 3.0\n"
     ]
    },
    {
     "name": "stderr",
     "output_type": "stream",
     "text": [
      "9750it [00:37, 312.28it/s]"
     ]
    },
    {
     "name": "stdout",
     "output_type": "stream",
     "text": [
      "l'utilisateur 295 a déjà vu le film 56 et lui a donné la note de 4.0\n",
      "l'utilisateur 1 a déjà vu le film 189 et lui a donné la note de 3.0\n",
      "l'utilisateur 276 a déjà vu le film 189 et lui a donné la note de 4.0\n",
      "l'utilisateur 151 a déjà vu le film 189 et lui a donné la note de 5.0\n",
      "l'utilisateur 405 a déjà vu le film 189 et lui a donné la note de 1.0\n",
      "l'utilisateur 268 a déjà vu le film 189 et lui a donné la note de 4.0\n",
      "l'utilisateur 479 a déjà vu le film 189 et lui a donné la note de 2.0\n"
     ]
    },
    {
     "name": "stderr",
     "output_type": "stream",
     "text": [
      "9847it [00:37, 279.86it/s]"
     ]
    },
    {
     "name": "stdout",
     "output_type": "stream",
     "text": [
      "l'utilisateur 654 a déjà vu le film 189 et lui a donné la note de 4.0\n",
      "l'utilisateur 216 a déjà vu le film 189 et lui a donné la note de 3.0\n",
      "l'utilisateur 661 a déjà vu le film 189 et lui a donné la note de 4.0\n",
      "l'utilisateur 523 a déjà vu le film 189 et lui a donné la note de 5.0\n"
     ]
    },
    {
     "name": "stderr",
     "output_type": "stream",
     "text": [
      "9974it [00:37, 267.49it/s]"
     ]
    },
    {
     "name": "stdout",
     "output_type": "stream",
     "text": [
      "l'utilisateur 97 a déjà vu le film 189 et lui a donné la note de 4.0\n",
      "l'utilisateur 313 a déjà vu le film 683 et lui a donné la note de 3.0\n",
      "l'utilisateur 286 a déjà vu le film 683 et lui a donné la note de 5.0\n",
      "l'utilisateur 264 a déjà vu le film 683 et lui a donné la note de 2.0\n",
      "l'utilisateur 682 a déjà vu le film 683 et lui a donné la note de 2.0\n"
     ]
    },
    {
     "name": "stderr",
     "output_type": "stream",
     "text": [
      "\r",
      "10000it [00:37, 263.83it/s]"
     ]
    },
    {
     "name": "stdout",
     "output_type": "stream",
     "text": [
      "l'utilisateur 22 a déjà vu le film 683 et lui a donné la note de 1.0\n",
      "l'utilisateur 328 a déjà vu le film 729 et lui a donné la note de 4.0\n"
     ]
    },
    {
     "name": "stderr",
     "output_type": "stream",
     "text": [
      "\n"
     ]
    },
    {
     "data": {
      "text/html": [
       "<div>\n",
       "<style scoped>\n",
       "    .dataframe tbody tr th:only-of-type {\n",
       "        vertical-align: middle;\n",
       "    }\n",
       "\n",
       "    .dataframe tbody tr th {\n",
       "        vertical-align: top;\n",
       "    }\n",
       "\n",
       "    .dataframe thead th {\n",
       "        text-align: right;\n",
       "    }\n",
       "</style>\n",
       "<table border=\"1\" class=\"dataframe\">\n",
       "  <thead>\n",
       "    <tr style=\"text-align: right;\">\n",
       "      <th></th>\n",
       "      <th>userId</th>\n",
       "      <th>movieId</th>\n",
       "      <th>rating</th>\n",
       "      <th>User based</th>\n",
       "      <th>User based_thresh_10</th>\n",
       "      <th>User based_thresh_15</th>\n",
       "      <th>User based_thresh_20</th>\n",
       "      <th>User based_thresh_30</th>\n",
       "      <th>User based_thresh_50</th>\n",
       "      <th>items_based</th>\n",
       "    </tr>\n",
       "  </thead>\n",
       "  <tbody>\n",
       "    <tr>\n",
       "      <th>557</th>\n",
       "      <td>90</td>\n",
       "      <td>900</td>\n",
       "      <td>4</td>\n",
       "      <td>0.657995</td>\n",
       "      <td>0.074150</td>\n",
       "      <td>0.075139</td>\n",
       "      <td>0.075139</td>\n",
       "      <td>0.075139</td>\n",
       "      <td>0.075139</td>\n",
       "      <td>2.288196</td>\n",
       "    </tr>\n",
       "    <tr>\n",
       "      <th>6675</th>\n",
       "      <td>90</td>\n",
       "      <td>269</td>\n",
       "      <td>5</td>\n",
       "      <td>0.987827</td>\n",
       "      <td>0.252482</td>\n",
       "      <td>0.249339</td>\n",
       "      <td>0.249339</td>\n",
       "      <td>0.249339</td>\n",
       "      <td>0.249339</td>\n",
       "      <td>2.500000</td>\n",
       "    </tr>\n",
       "    <tr>\n",
       "      <th>562</th>\n",
       "      <td>90</td>\n",
       "      <td>289</td>\n",
       "      <td>3</td>\n",
       "      <td>0.572064</td>\n",
       "      <td>-0.086081</td>\n",
       "      <td>-0.095872</td>\n",
       "      <td>-0.095872</td>\n",
       "      <td>-0.095872</td>\n",
       "      <td>-0.095872</td>\n",
       "      <td>1.018354</td>\n",
       "    </tr>\n",
       "    <tr>\n",
       "      <th>62660</th>\n",
       "      <td>90</td>\n",
       "      <td>270</td>\n",
       "      <td>4</td>\n",
       "      <td>1.077609</td>\n",
       "      <td>-0.182394</td>\n",
       "      <td>-0.175816</td>\n",
       "      <td>-0.175816</td>\n",
       "      <td>-0.175816</td>\n",
       "      <td>-0.175816</td>\n",
       "      <td>5.000000</td>\n",
       "    </tr>\n",
       "    <tr>\n",
       "      <th>68756</th>\n",
       "      <td>90</td>\n",
       "      <td>268</td>\n",
       "      <td>4</td>\n",
       "      <td>1.202310</td>\n",
       "      <td>0.165150</td>\n",
       "      <td>0.165232</td>\n",
       "      <td>0.165232</td>\n",
       "      <td>0.165232</td>\n",
       "      <td>0.165232</td>\n",
       "      <td>2.831497</td>\n",
       "    </tr>\n",
       "    <tr>\n",
       "      <th>...</th>\n",
       "      <td>...</td>\n",
       "      <td>...</td>\n",
       "      <td>...</td>\n",
       "      <td>...</td>\n",
       "      <td>...</td>\n",
       "      <td>...</td>\n",
       "      <td>...</td>\n",
       "      <td>...</td>\n",
       "      <td>...</td>\n",
       "      <td>...</td>\n",
       "    </tr>\n",
       "    <tr>\n",
       "      <th>46773</th>\n",
       "      <td>729</td>\n",
       "      <td>689</td>\n",
       "      <td>4</td>\n",
       "      <td>2.500000</td>\n",
       "      <td>2.500000</td>\n",
       "      <td>2.500000</td>\n",
       "      <td>2.500000</td>\n",
       "      <td>2.500000</td>\n",
       "      <td>2.500000</td>\n",
       "      <td>2.091913</td>\n",
       "    </tr>\n",
       "    <tr>\n",
       "      <th>73008</th>\n",
       "      <td>729</td>\n",
       "      <td>313</td>\n",
       "      <td>3</td>\n",
       "      <td>2.500000</td>\n",
       "      <td>2.500000</td>\n",
       "      <td>2.500000</td>\n",
       "      <td>2.500000</td>\n",
       "      <td>2.500000</td>\n",
       "      <td>2.500000</td>\n",
       "      <td>3.036235</td>\n",
       "    </tr>\n",
       "    <tr>\n",
       "      <th>46574</th>\n",
       "      <td>729</td>\n",
       "      <td>328</td>\n",
       "      <td>3</td>\n",
       "      <td>2.500000</td>\n",
       "      <td>2.500000</td>\n",
       "      <td>2.500000</td>\n",
       "      <td>2.500000</td>\n",
       "      <td>2.500000</td>\n",
       "      <td>2.500000</td>\n",
       "      <td>4.000000</td>\n",
       "    </tr>\n",
       "    <tr>\n",
       "      <th>64312</th>\n",
       "      <td>729</td>\n",
       "      <td>748</td>\n",
       "      <td>4</td>\n",
       "      <td>2.500000</td>\n",
       "      <td>2.500000</td>\n",
       "      <td>2.500000</td>\n",
       "      <td>2.500000</td>\n",
       "      <td>2.500000</td>\n",
       "      <td>2.500000</td>\n",
       "      <td>2.800431</td>\n",
       "    </tr>\n",
       "    <tr>\n",
       "      <th>79208</th>\n",
       "      <td>729</td>\n",
       "      <td>272</td>\n",
       "      <td>4</td>\n",
       "      <td>2.500000</td>\n",
       "      <td>2.500000</td>\n",
       "      <td>2.500000</td>\n",
       "      <td>2.500000</td>\n",
       "      <td>2.500000</td>\n",
       "      <td>2.500000</td>\n",
       "      <td>1.472582</td>\n",
       "    </tr>\n",
       "  </tbody>\n",
       "</table>\n",
       "<p>10000 rows × 10 columns</p>\n",
       "</div>"
      ],
      "text/plain": [
       "       userId  movieId  rating  User based  User based_thresh_10  \\\n",
       "557        90      900       4    0.657995              0.074150   \n",
       "6675       90      269       5    0.987827              0.252482   \n",
       "562        90      289       3    0.572064             -0.086081   \n",
       "62660      90      270       4    1.077609             -0.182394   \n",
       "68756      90      268       4    1.202310              0.165150   \n",
       "...       ...      ...     ...         ...                   ...   \n",
       "46773     729      689       4    2.500000              2.500000   \n",
       "73008     729      313       3    2.500000              2.500000   \n",
       "46574     729      328       3    2.500000              2.500000   \n",
       "64312     729      748       4    2.500000              2.500000   \n",
       "79208     729      272       4    2.500000              2.500000   \n",
       "\n",
       "       User based_thresh_15  User based_thresh_20  User based_thresh_30  \\\n",
       "557                0.075139              0.075139              0.075139   \n",
       "6675               0.249339              0.249339              0.249339   \n",
       "562               -0.095872             -0.095872             -0.095872   \n",
       "62660             -0.175816             -0.175816             -0.175816   \n",
       "68756              0.165232              0.165232              0.165232   \n",
       "...                     ...                   ...                   ...   \n",
       "46773              2.500000              2.500000              2.500000   \n",
       "73008              2.500000              2.500000              2.500000   \n",
       "46574              2.500000              2.500000              2.500000   \n",
       "64312              2.500000              2.500000              2.500000   \n",
       "79208              2.500000              2.500000              2.500000   \n",
       "\n",
       "       User based_thresh_50  items_based  \n",
       "557                0.075139     2.288196  \n",
       "6675               0.249339     2.500000  \n",
       "562               -0.095872     1.018354  \n",
       "62660             -0.175816     5.000000  \n",
       "68756              0.165232     2.831497  \n",
       "...                     ...          ...  \n",
       "46773              2.500000     2.091913  \n",
       "73008              2.500000     3.036235  \n",
       "46574              2.500000     4.000000  \n",
       "64312              2.500000     2.800431  \n",
       "79208              2.500000     1.472582  \n",
       "\n",
       "[10000 rows x 10 columns]"
      ]
     },
     "execution_count": 42,
     "metadata": {},
     "output_type": "execute_result"
    }
   ],
   "source": [
    "\"\"\" Evaluate the result \"\"\"\n",
    "test_ratings[\"items_based\"] = [\n",
    "    predict(pivot, corr, userId, movieId)\n",
    "    for _, userId, movieId, _ in tqdm(\n",
    "    test_ratings[[\"movieId\", \"userId\", \"rating\"]].itertuples() # invert\n",
    "    )\n",
    "    ]\n",
    "test_ratings"
   ]
  },
  {
   "cell_type": "markdown",
   "metadata": {},
   "source": [
    "### Matrix factorization\n",
    "\n",
    "Same approach as in the slides. \n",
    "\n",
    "<font color='blue'>\n",
    "Below is a simple algorithm for factoring a matrix.\n",
    "</font>"
   ]
  },
  {
   "cell_type": "code",
   "execution_count": 61,
   "metadata": {
    "ExecuteTime": {
     "end_time": "2022-02-06T16:54:12.748847Z",
     "start_time": "2022-02-06T16:54:12.738913Z"
    }
   },
   "outputs": [],
   "source": [
    "# Matrix factorization from scratch\n",
    "def matrix_factorization(R, K, steps=10, alpha=0.005):\n",
    "    '''\n",
    "    R: rating matrix\n",
    "    K: latent features\n",
    "    steps: iterations\n",
    "    alpha: learning rate\n",
    "    beta: regularization parameter'''\n",
    "    \n",
    "    # N: num of User\n",
    "    N = R.shape[0]\n",
    "    # M: num of Movie\n",
    "    M = R.shape[1]\n",
    "\n",
    "    # P: |U| * K (User features matrix)\n",
    "    P = np.random.rand(N,K)\n",
    "    # Q: |D| * K (Item features matrix)\n",
    "    Q = np.random.rand(M,K).T\n",
    "\n",
    "    for step in tqdm(range(steps)):\n",
    "        for i in range(N):\n",
    "            for j in range(M):\n",
    "                if not np.isnan(R[i][j]):\n",
    "                    # calculate error\n",
    "                    eij = R[i][j] - np.dot(P[i,:],Q[:,j])\n",
    "\n",
    "                    for k in range(K):\n",
    "                        # calculate gradient with a and beta parameter\n",
    "                        tmp = P[i][k] + alpha * (2 * eij * Q[k][j])\n",
    "                        Q[k][j] = Q[k][j] + alpha * (2 * eij * P[i][k])\n",
    "                        tmp = P[i][k]\n",
    "\n",
    "    return P, Q.T"
   ]
  },
  {
   "cell_type": "code",
   "execution_count": 62,
   "metadata": {
    "ExecuteTime": {
     "end_time": "2022-01-27T09:23:45.140342Z",
     "start_time": "2022-01-27T09:23:45.110561Z"
    }
   },
   "outputs": [
    {
     "name": "stderr",
     "output_type": "stream",
     "text": [
      "100%|██████████| 10/10 [00:00<00:00, 833.76it/s]\n"
     ]
    },
    {
     "data": {
      "text/plain": [
       "array([[1.38772738, 1.0231653 , 0.76584089, 1.20772587],\n",
       "       [1.57484753, 1.05300137, 0.84484023, 1.08430216],\n",
       "       [0.91762277, 0.71044267, 1.0473353 , 1.78574679],\n",
       "       [1.35838449, 1.04331211, 1.17025631, 1.98479796],\n",
       "       [0.61908344, 0.28977816, 0.79746252, 0.9274601 ],\n",
       "       [1.02144072, 0.65562418, 0.77132318, 1.01705273]])"
      ]
     },
     "execution_count": 62,
     "metadata": {},
     "output_type": "execute_result"
    }
   ],
   "source": [
    "# We try first on a toy example\n",
    "# R: rating matrix\n",
    "import math\n",
    "R = [\n",
    "     [5,3,math.nan,1],\n",
    "     [4,math.nan,math.nan,1],\n",
    "     [1,1,math.nan,5],\n",
    "     [1,math.nan,math.nan,4],\n",
    "     [0,1,5,4],\n",
    "     [2,1,3,math.nan],\n",
    "    ]\n",
    "\n",
    "R = np.array(R)\n",
    "# Num of Features\n",
    "K = 3\n",
    " \n",
    "nP, nQ = matrix_factorization(R, K, steps=10)\n",
    "\n",
    "nR = np.dot(nP, nQ.T)\n",
    "nR"
   ]
  },
  {
   "cell_type": "code",
   "execution_count": 91,
   "metadata": {
    "ExecuteTime": {
     "end_time": "2022-01-27T09:28:57.213302Z",
     "start_time": "2022-01-27T09:23:46.479566Z"
    }
   },
   "outputs": [
    {
     "name": "stderr",
     "output_type": "stream",
     "text": [
      "100%|██████████| 10/10 [00:52<00:00,  5.21s/it]\n"
     ]
    }
   ],
   "source": [
    "\"\"\" TRY to predict with matrix factorization \"\"\"\n",
    "pred= matrix_factorization(pivot, K , steps=10, alpha=0.005)"
   ]
  },
  {
   "cell_type": "code",
   "execution_count": 90,
   "metadata": {},
   "outputs": [
    {
     "data": {
      "text/plain": [
       "' Evaluate the result '"
      ]
     },
     "execution_count": 90,
     "metadata": {},
     "output_type": "execute_result"
    }
   ],
   "source": [
    "\"\"\" Evaluate the result \"\"\"\n",
    "# print(\"RMSE:\",\n",
    "#       np.sqrt(mean_squared_error(test_ratings['rating'],pred)),\n",
    "#      )"
   ]
  },
  {
   "cell_type": "markdown",
   "metadata": {},
   "source": [
    "## Decomposition using latent factor.\n",
    "\n",
    "We use SVD decomposition"
   ]
  },
  {
   "cell_type": "code",
   "execution_count": null,
   "metadata": {
    "ExecuteTime": {
     "end_time": "2022-01-27T09:32:57.786350Z",
     "start_time": "2022-01-27T09:32:57.738971Z"
    }
   },
   "outputs": [],
   "source": [
    "pivot = train_pivot.fillna(0).to_numpy()\n",
    "max_components = min(train_pivot.shape)-1"
   ]
  },
  {
   "cell_type": "code",
   "execution_count": null,
   "metadata": {
    "ExecuteTime": {
     "end_time": "2022-01-27T09:32:59.610594Z",
     "start_time": "2022-01-27T09:32:58.703451Z"
    }
   },
   "outputs": [],
   "source": [
    "from scipy.sparse.linalg import svds\n",
    "\n",
    "k = 50\n",
    "assert k<max_components\n",
    "    \n",
    "u, s, v_T = svds(pivot, k=k)\n",
    "nR = u.dot(np.diag(s).dot(v_T))  # output of TruncatedSVD\n"
   ]
  },
  {
   "cell_type": "code",
   "execution_count": null,
   "metadata": {},
   "outputs": [],
   "source": [
    "\"\"\" TRY to predict with SVD decomposition \"\"\""
   ]
  },
  {
   "cell_type": "code",
   "execution_count": null,
   "metadata": {},
   "outputs": [],
   "source": [
    "\"\"\" Evaluate the result \"\"\""
   ]
  }
 ],
 "metadata": {
  "kernelspec": {
   "display_name": "Python 3",
   "language": "python",
   "name": "python3"
  },
  "language_info": {
   "codemirror_mode": {
    "name": "ipython",
    "version": 3
   },
   "file_extension": ".py",
   "mimetype": "text/x-python",
   "name": "python",
   "nbconvert_exporter": "python",
   "pygments_lexer": "ipython3",
   "version": "3.8.5"
  },
  "latex_envs": {
   "LaTeX_envs_menu_present": true,
   "autoclose": true,
   "autocomplete": true,
   "bibliofile": "biblio.bib",
   "cite_by": "apalike",
   "current_citInitial": 1,
   "eqLabelWithNumbers": true,
   "eqNumInitial": 1,
   "hotkeys": {
    "equation": "Ctrl-E",
    "itemize": "Ctrl-I"
   },
   "labels_anchors": false,
   "latex_user_defs": false,
   "report_style_numbering": false,
   "user_envs_cfg": false
  },
  "nbTranslate": {
   "displayLangs": [
    "*"
   ],
   "hotkey": "alt-t",
   "langInMainMenu": true,
   "sourceLang": "en",
   "targetLang": "fr",
   "useGoogleTranslate": true
  },
  "toc": {
   "base_numbering": 1,
   "nav_menu": {},
   "number_sections": true,
   "sideBar": true,
   "skip_h1_title": true,
   "title_cell": "Table of Contents",
   "title_sidebar": "Contents",
   "toc_cell": true,
   "toc_position": {},
   "toc_section_display": true,
   "toc_window_display": false
  }
 },
 "nbformat": 4,
 "nbformat_minor": 5
}
